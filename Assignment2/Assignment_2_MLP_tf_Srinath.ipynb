{
  "nbformat": 4,
  "nbformat_minor": 0,
  "metadata": {
    "colab": {
      "name": "Assignment_2_MLP_tf_Srinath.ipynb",
      "provenance": [],
      "collapsed_sections": [
        "hBYC4kM2ppSs",
        "CLtYs70nqz3b",
        "wfDVrX2VunFA",
        "9PPrnT6XhaWK",
        "MQPJckjslxAT",
        "Pjp8UFAWhpfe",
        "E315g-vRTsYD",
        "InzTeW3xdRAU",
        "FQ-zwtycBgSD",
        "APwijxbtXnDH",
        "Vy7lrKcQt0dp",
        "hOBOFjNYXzvB",
        "fHLuVV4wAvZ3",
        "ZiPEmOEtdMWc",
        "vyOlYos5YpFp",
        "3NJOVEuIYucy",
        "lLvhzXncBykq"
      ],
      "mount_file_id": "1DWjTFscmM8KYCe1HVyGgweSUIia_6PAz",
      "authorship_tag": "ABX9TyNoTquPfzIAe9oleJfCbtqK",
      "include_colab_link": true
    },
    "kernelspec": {
      "name": "python3",
      "display_name": "Python 3"
    }
  },
  "cells": [
    {
      "cell_type": "markdown",
      "metadata": {
        "id": "view-in-github",
        "colab_type": "text"
      },
      "source": [
        "<a href=\"https://colab.research.google.com/github/mannam95/Deep_Learning_Programming/blob/main/Assignment2/Assignment_2_MLP_tf_Srinath.ipynb\" target=\"_parent\"><img src=\"https://colab.research.google.com/assets/colab-badge.svg\" alt=\"Open In Colab\"/></a>"
      ]
    },
    {
      "cell_type": "markdown",
      "metadata": {
        "id": "6vn94RPJ4oTU"
      },
      "source": [
        "#Team Assignment\n",
        "\n",
        "\n",
        "1.   Srinath Mannam (229750)\n",
        "2.   Meghana Rao (234907)\n",
        "3.   Govind Shukla (235192)\n",
        "\n"
      ]
    },
    {
      "cell_type": "markdown",
      "metadata": {
        "id": "GW9A-uDZx9wq"
      },
      "source": [
        "#Change the directory"
      ]
    },
    {
      "cell_type": "code",
      "metadata": {
        "colab": {
          "base_uri": "https://localhost:8080/"
        },
        "id": "wam6g9cNx9HU",
        "outputId": "7c3dfd36-707a-4b2e-ec06-8b13e8704726"
      },
      "source": [
        "from google.colab import drive\n",
        "drive.mount(\"/content/drive\")"
      ],
      "execution_count": null,
      "outputs": [
        {
          "output_type": "stream",
          "name": "stdout",
          "text": [
            "Drive already mounted at /content/drive; to attempt to forcibly remount, call drive.mount(\"/content/drive\", force_remount=True).\n"
          ]
        }
      ]
    },
    {
      "cell_type": "code",
      "metadata": {
        "id": "XxBOM49SaFl7",
        "colab": {
          "base_uri": "https://localhost:8080/",
          "height": 35
        },
        "outputId": "234459d7-87e6-4396-eb51-02bfdd413490"
      },
      "source": [
        "import os\n",
        "working_directory = '/content/drive/My Drive/Colab Notebooks/OVGU/Deep_Learning/Second_Assignment'\n",
        "if os.getcwd() !=  working_directory:\n",
        "  os.chdir(working_directory)\n",
        "os.getcwd()"
      ],
      "execution_count": null,
      "outputs": [
        {
          "output_type": "execute_result",
          "data": {
            "application/vnd.google.colaboratory.intrinsic+json": {
              "type": "string"
            },
            "text/plain": [
              "'/content/drive/My Drive/Colab Notebooks/OVGU/Deep_Learning/Second_Assignment'"
            ]
          },
          "metadata": {},
          "execution_count": 21
        }
      ]
    },
    {
      "cell_type": "markdown",
      "metadata": {
        "id": "hBYC4kM2ppSs"
      },
      "source": [
        "#import statements"
      ]
    },
    {
      "cell_type": "code",
      "metadata": {
        "id": "mJaGiGnXpsAP"
      },
      "source": [
        "import tensorflow as tf\n",
        "import numpy as np\n",
        "import matplotlib.pyplot as plt\n",
        "from datetime import datetime"
      ],
      "execution_count": null,
      "outputs": []
    },
    {
      "cell_type": "markdown",
      "metadata": {
        "id": "MErnA3dKWy2-"
      },
      "source": [
        "# Task -1 (MLP Script using tf.data)"
      ]
    },
    {
      "cell_type": "markdown",
      "metadata": {
        "id": "CLtYs70nqz3b"
      },
      "source": [
        "##Load Data"
      ]
    },
    {
      "cell_type": "code",
      "metadata": {
        "id": "Zegh4TeIq28p"
      },
      "source": [
        "(train_images, train_labels), (test_images, test_labels) = tf.keras.datasets.mnist.load_data()"
      ],
      "execution_count": null,
      "outputs": []
    },
    {
      "cell_type": "markdown",
      "metadata": {
        "id": "wfDVrX2VunFA"
      },
      "source": [
        "## Visualize some images on some training and test data"
      ]
    },
    {
      "cell_type": "code",
      "metadata": {
        "colab": {
          "base_uri": "https://localhost:8080/"
        },
        "id": "_X_MvhoZumPn",
        "outputId": "5e256173-f838-490b-8a6d-ea6e525b9707"
      },
      "source": [
        "print(train_labels[3])\n",
        "plt.imshow(train_images[3], cmap=\"Greys_r\")"
      ],
      "execution_count": null,
      "outputs": [
        {
          "output_type": "stream",
          "name": "stdout",
          "text": [
            "1\n"
          ]
        },
        {
          "output_type": "execute_result",
          "data": {
            "text/plain": [
              "<matplotlib.image.AxesImage at 0x7fa5c3b4dfd0>"
            ]
          },
          "metadata": {},
          "execution_count": 25
        },
        {
          "output_type": "display_data",
          "data": {
            "image/png": "[encoded data removed]",
            "text/plain": [
              "<Figure size 432x288 with 1 Axes>"
            ]
          },
          "metadata": {
            "needs_background": "light"
          }
        }
      ]
    },
    {
      "cell_type": "code",
      "metadata": {
        "colab": {
          "base_uri": "https://localhost:8080/"
        },
        "id": "VpaNU36_vXzy",
        "outputId": "b8fdcc99-3ab9-4d7c-ef27-cf4d88f4b06f"
      },
      "source": [
        "print(test_labels[121])\n",
        "plt.imshow(test_images[121], cmap=\"Greys_r\")"
      ],
      "execution_count": null,
      "outputs": [
        {
          "output_type": "stream",
          "name": "stdout",
          "text": [
            "4\n"
          ]
        },
        {
          "output_type": "execute_result",
          "data": {
            "text/plain": [
              "<matplotlib.image.AxesImage at 0x7fa5c3ab7950>"
            ]
          },
          "metadata": {},
          "execution_count": 26
        },
        {
          "output_type": "display_data",
          "data": {
            "image/png": "[encoded data removed]",
            "text/plain": [
              "<Figure size 432x288 with 1 Axes>"
            ]
          },
          "metadata": {
            "needs_background": "light"
          }
        }
      ]
    },
    {
      "cell_type": "markdown",
      "metadata": {
        "id": "9PPrnT6XhaWK"
      },
      "source": [
        "## Pre-process the data\n",
        "\n"
      ]
    },
    {
      "cell_type": "markdown",
      "metadata": {
        "id": "MQPJckjslxAT"
      },
      "source": [
        "### reshape the data, normalize the input images of uni8  to 0-1 int"
      ]
    },
    {
      "cell_type": "code",
      "metadata": {
        "id": "Z8BE1rFThUk3"
      },
      "source": [
        "def preprocess_images(images):\n",
        "    return images.reshape(-1, 784).astype(np.float32) / 255\n",
        "\n",
        "def preprocess_labels(labels):\n",
        "    return labels.reshape(-1).astype(np.int32)\n",
        "\n",
        "train_images = preprocess_images(train_images)\n",
        "test_images = preprocess_images(test_images)\n",
        "train_labels = preprocess_labels(train_labels)\n",
        "test_labels = preprocess_labels(test_labels)"
      ],
      "execution_count": null,
      "outputs": []
    },
    {
      "cell_type": "markdown",
      "metadata": {
        "id": "Pjp8UFAWhpfe"
      },
      "source": [
        "### Shuffle, Batch, Repeat \n",
        "\n",
        "1.   Shuffle the data, supported parameter buffer size\n",
        "2.   can create the batches of data\n",
        "3.   repeat how many times the data should be repeated , default value is every time create new dataset when the current one is completed"
      ]
    },
    {
      "cell_type": "code",
      "metadata": {
        "id": "YS8WCaVchXYu"
      },
      "source": [
        "train_data = tf.data.Dataset.from_tensor_slices((train_images, train_labels)).shuffle(60000).batch(128).repeat()\n",
        "test_data = tf.data.Dataset.from_tensor_slices((test_images, test_labels))"
      ],
      "execution_count": null,
      "outputs": []
    },
    {
      "cell_type": "markdown",
      "metadata": {
        "id": "E315g-vRTsYD"
      },
      "source": [
        "##A function that will choose the activation function"
      ]
    },
    {
      "cell_type": "code",
      "metadata": {
        "id": "xVzxCDlcTyg9"
      },
      "source": [
        "def dynamicActiFunc(actFun, currLogits):\n",
        "  if actFun == \"relu\":\n",
        "    return tf.nn.relu(currLogits)\n",
        "  elif actFun == \"lrelu\":\n",
        "    return tf.nn.leaky_relu(currLogits)\n",
        "  elif actFun == \"sigmoid\":\n",
        "    return tf.nn.sigmoid(currLogits)\n",
        "  else:\n",
        "    return tf.nn.relu(currLogits)"
      ],
      "execution_count": null,
      "outputs": []
    },
    {
      "cell_type": "markdown",
      "metadata": {
        "id": "hai0NIyaN2go"
      },
      "source": [
        "##Define a Generic function for training\n",
        "\n",
        "Observations:\n",
        "\n",
        "\n",
        "1.   Logging weights and biases for every step consumes so much power, so commented and looged for every 100 steps\n",
        "\n",
        "\n",
        "Note:- Logs can be viewed from tensorboard\n",
        "\n"
      ]
    },
    {
      "cell_type": "code",
      "metadata": {
        "id": "eqTYHVmVN06T"
      },
      "source": [
        "def model_Train(_modelConfig):\n",
        "  logdir = os.path.join(\"logs\", \"model\" + str(_modelConfig[\"number\"]) + str(datetime.now()))\n",
        "  train_writer = tf.summary.create_file_writer(os.path.join(logdir, \"train\"))\n",
        "  test_writer = tf.summary.create_file_writer(os.path.join(logdir, \"test\"))\n",
        "\n",
        "  for step, (image_batch, label_batch) in enumerate(train_data):\n",
        "      if step > _modelConfig[\"train_steps\"]:\n",
        "        break\n",
        "\n",
        "      with tf.GradientTape() as tape:\n",
        "          #loop that will goes forward for every hidden layer\n",
        "          for ind in range(len(_modelConfig[\"_weights\"])-1):\n",
        "            if ind == 0:\n",
        "              hPrevLogits = tf.matmul(image_batch, _modelConfig[\"_weights\"][ind]) + _modelConfig[\"_biases\"][ind]\n",
        "              hPrevOutput = dynamicActiFunc(_modelConfig[\"activation_func\"], hPrevLogits)\n",
        "            else :\n",
        "              hcurrLogits = tf.matmul(hPrevOutput, _modelConfig[\"_weights\"][ind]) + _modelConfig[\"_biases\"][ind]\n",
        "              hcurrOutput = dynamicActiFunc(_modelConfig[\"activation_func\"], hcurrLogits)\n",
        "              hPrevOutput = hcurrOutput\n",
        "\n",
        "          lastInd = len(_modelConfig[\"_weights\"])-1\n",
        "\n",
        "          #final output layer\n",
        "          logits = tf.matmul(hcurrOutput, _modelConfig[\"_weights\"][lastInd]) + _modelConfig[\"_biases\"][lastInd]\n",
        "          xent = tf.reduce_mean(tf.nn.sparse_softmax_cross_entropy_with_logits(\n",
        "              logits=logits, labels=label_batch))\n",
        "          \n",
        "      grads = tape.gradient(xent, [*_modelConfig[\"_weights\"], *_modelConfig[\"_biases\"]])\n",
        "\n",
        "      #update weights\n",
        "      for ind in range(len(_modelConfig[\"_weights\"])):\n",
        "        _modelConfig[\"_weights\"][ind].assign_sub(_modelConfig[\"learning_rate\"] * grads[ind])\n",
        "      \n",
        "      #update biases\n",
        "      for ind in range(len(_modelConfig[\"_biases\"])):\n",
        "        _modelConfig[\"_biases\"][ind].assign_sub(_modelConfig[\"learning_rate\"] * grads[ind + len(_modelConfig[\"_biases\"])])\n",
        "\n",
        "      # with train_writer.as_default():\n",
        "      #   tf.summary.scalar(\"loss\", xent, step=step)\n",
        "      #   tf.summary.histogram(\"logits\", logits, step=step)\n",
        "      #   for ind in range(len(_modelConfig[\"_weights\"])):\n",
        "      #     tf.summary.histogram(\"weights\"+str(ind), _modelConfig[\"_weights\"][ind], step=step)\n",
        "      #     tf.summary.histogram(\"biases\"+str(ind), _modelConfig[\"_biases\"][ind], step=step)\n",
        "\n",
        "\n",
        "      if not step % 100:\n",
        "          # print(step)\n",
        "          preds = tf.argmax(logits, axis=1, output_type=tf.int32)\n",
        "          acc = tf.reduce_mean(tf.cast(tf.equal(preds, label_batch),\n",
        "                              tf.float32))\n",
        "          # print(\"Loss: {} Accuracy: {}\".format(xent, acc))\n",
        "\n",
        "          with train_writer.as_default():\n",
        "            tf.summary.scalar(\"accuracy\", acc, step=step)\n",
        "            tf.summary.scalar(\"loss\", xent, step=step)\n",
        "            tf.summary.image(\"input\", tf.reshape(image_batch, [-1, 28, 28, 1]), step=step)\n",
        "            tf.summary.histogram(\"logits\", logits, step=step)\n",
        "            for ind in range(len(_modelConfig[\"_weights\"])):\n",
        "              tf.summary.histogram(\"weights\"+str(ind), _modelConfig[\"_weights\"][ind], step=step)\n",
        "              tf.summary.histogram(\"biases\"+str(ind), _modelConfig[\"_biases\"][ind], step=step)\n",
        "\n",
        "          #Predict for Test Dataset\n",
        "          for ind in range(len(_modelConfig[\"_weights\"])-1):\n",
        "              if ind == 0:\n",
        "                hPrevLogits_Test = tf.matmul(test_images, _modelConfig[\"_weights\"][ind]) + _modelConfig[\"_biases\"][ind]\n",
        "                hPrevOutput_Test = dynamicActiFunc(_modelConfig[\"activation_func\"], hPrevLogits_Test)\n",
        "              else :\n",
        "                hcurrLogits_Test = tf.matmul(hPrevOutput_Test, _modelConfig[\"_weights\"][ind]) + _modelConfig[\"_biases\"][ind]\n",
        "                hcurrOutput_Test = dynamicActiFunc(_modelConfig[\"activation_func\"], hcurrLogits_Test)\n",
        "                hPrevOutput_Test = hcurrOutput_Test\n",
        "\n",
        "          lastInd = len(_modelConfig[\"_weights\"])-1\n",
        "          test_preds = tf.argmax(tf.matmul(hcurrOutput_Test, _modelConfig[\"_weights\"][lastInd]) + _modelConfig[\"_biases\"][lastInd], axis=1,\n",
        "                              output_type=tf.int32)\n",
        "          test_acc = tf.reduce_mean(tf.cast(tf.equal(test_preds, test_labels),\n",
        "                                      tf.float32))\n",
        "          \n",
        "          with test_writer.as_default():\n",
        "                tf.summary.scalar(\"accuracy\", test_acc, step=step)\n",
        "          # print(\"\\nTest Accuracy: {}\".format(test_acc))"
      ],
      "execution_count": null,
      "outputs": []
    },
    {
      "cell_type": "markdown",
      "metadata": {
        "id": "InzTeW3xdRAU"
      },
      "source": [
        "##Models Config"
      ]
    },
    {
      "cell_type": "markdown",
      "metadata": {
        "id": "FQ-zwtycBgSD"
      },
      "source": [
        "###Declartions"
      ]
    },
    {
      "cell_type": "code",
      "metadata": {
        "id": "TIxJxc0H9BZp"
      },
      "source": [
        "modelConfig1 = {}\n",
        "modelConfig2 = {}\n",
        "modelConfig3 = {}\n",
        "modelConfig4 = {}\n",
        "modelConfig5 = {}\n",
        "modelConfig6 = {}\n",
        "modelConfig7 = {}\n",
        "modelConfig8 = {}"
      ],
      "execution_count": null,
      "outputs": []
    },
    {
      "cell_type": "markdown",
      "metadata": {
        "id": "APwijxbtXnDH"
      },
      "source": [
        "###Relu Activation Function"
      ]
    },
    {
      "cell_type": "markdown",
      "metadata": {
        "id": "Vy7lrKcQt0dp"
      },
      "source": [
        "####Define params Model1, 2, 3, 4"
      ]
    },
    {
      "cell_type": "code",
      "metadata": {
        "id": "Cuohb9MMt9Ws"
      },
      "source": [
        "def relu_Config_Reset():\n",
        "    global modelConfig1, modelConfig2, modelConfig3, modelConfig4\n",
        "    modelConfig1 = {\n",
        "        \"train_steps\" : 1000,\n",
        "        \"learning_rate\" : 0.1,\n",
        "        \"activation_func\" : \"relu\",\n",
        "        \"number\": 1,\n",
        "\n",
        "        \"_weights\" : [\n",
        "            tf.Variable(tf.random.uniform([784, 512], minval=-0.1, maxval=0.1, dtype=np.float32)),\n",
        "            tf.Variable(tf.random.uniform([512, 256], minval=-0.1, maxval=0.1, dtype=np.float32)),\n",
        "            tf.Variable(tf.random.uniform([256, 10], minval=-0.1, maxval=0.1, dtype=np.float32))\n",
        "        ],\n",
        "\n",
        "        \"_biases\" : [\n",
        "            tf.Variable(np.zeros(512, dtype=np.float32)),\n",
        "            tf.Variable(np.zeros(256, dtype=np.float32)),\n",
        "            tf.Variable(np.zeros(10, dtype=np.float32))\n",
        "        ]\n",
        "    }\n",
        "\n",
        "    modelConfig2 = {\n",
        "        \"train_steps\" : 2000,\n",
        "        \"learning_rate\" : 0.01,\n",
        "        \"activation_func\" : \"relu\",\n",
        "        \"number\": 2,\n",
        "\n",
        "        \"_weights\" : [\n",
        "            tf.Variable(tf.random.uniform([784, 512], minval=-0.1, maxval=0.1, dtype=np.float32)),\n",
        "            tf.Variable(tf.random.uniform([512, 256], minval=-0.1, maxval=0.1, dtype=np.float32)),\n",
        "            tf.Variable(tf.random.uniform([256, 10], minval=-0.1, maxval=0.1, dtype=np.float32))\n",
        "        ],\n",
        "\n",
        "        \"_biases\" : [\n",
        "            tf.Variable(np.zeros(512, dtype=np.float32)),\n",
        "            tf.Variable(np.zeros(256, dtype=np.float32)),\n",
        "            tf.Variable(np.zeros(10, dtype=np.float32))\n",
        "        ]\n",
        "    }\n",
        "\n",
        "    modelConfig3 = {\n",
        "        \"train_steps\" : 1000,\n",
        "        \"learning_rate\" : 0.1,\n",
        "        \"activation_func\" : \"relu\",\n",
        "        \"number\": 3,\n",
        "\n",
        "        \"_weights\" : [\n",
        "            tf.Variable(tf.random.uniform([784, 1568], minval=-0.1, maxval=0.1, dtype=np.float32)),\n",
        "            tf.Variable(tf.random.uniform([1568, 512], minval=-0.1, maxval=0.1, dtype=np.float32)),\n",
        "            tf.Variable(tf.random.uniform([512, 256], minval=-0.1, maxval=0.1, dtype=np.float32)),\n",
        "            tf.Variable(tf.random.uniform([256, 10], minval=-0.1, maxval=0.1, dtype=np.float32))\n",
        "        ],\n",
        "\n",
        "        \"_biases\" : [\n",
        "            tf.Variable(np.zeros(1568, dtype=np.float32)),\n",
        "            tf.Variable(np.zeros(512, dtype=np.float32)),\n",
        "            tf.Variable(np.zeros(256, dtype=np.float32)),\n",
        "            tf.Variable(np.zeros(10, dtype=np.float32))\n",
        "        ]\n",
        "    }\n",
        "\n",
        "    modelConfig4 = {\n",
        "        \"train_steps\" : 1000,\n",
        "        \"learning_rate\" : 0.1,\n",
        "        \"activation_func\" : \"relu\",\n",
        "        \"number\": 4,\n",
        "\n",
        "        \"_weights\" : [\n",
        "            tf.Variable(tf.random.uniform([784, 512], minval=-0.15, maxval=0.15, dtype=np.float32)),\n",
        "            tf.Variable(tf.random.uniform([512, 256], minval=-0.15, maxval=0.15, dtype=np.float32)),\n",
        "            tf.Variable(tf.random.uniform([256, 10], minval=-0.15, maxval=0.15, dtype=np.float32))\n",
        "        ],\n",
        "\n",
        "        \"_biases\" : [\n",
        "            tf.Variable(np.zeros(512, dtype=np.float32)),\n",
        "            tf.Variable(np.zeros(256, dtype=np.float32)),\n",
        "            tf.Variable(np.zeros(10, dtype=np.float32))\n",
        "        ]\n",
        "    }"
      ],
      "execution_count": null,
      "outputs": []
    },
    {
      "cell_type": "markdown",
      "metadata": {
        "id": "hOBOFjNYXzvB"
      },
      "source": [
        "###Sigmoid Activation Function"
      ]
    },
    {
      "cell_type": "markdown",
      "metadata": {
        "id": "fHLuVV4wAvZ3"
      },
      "source": [
        "####Define params Models 5, 6, 7, 8"
      ]
    },
    {
      "cell_type": "code",
      "metadata": {
        "id": "Q1XaMIHcA29k"
      },
      "source": [
        "def sigmoid_Config_Reset():\n",
        "    global modelConfig5, modelConfig6, modelConfig7, modelConfig8\n",
        "    modelConfig5 = {\n",
        "        \"train_steps\" : 1000,\n",
        "        \"learning_rate\" : 0.1,\n",
        "        \"activation_func\" : \"sigmoid\",\n",
        "        \"number\": 5,\n",
        "\n",
        "        \"_weights\" : [\n",
        "            tf.Variable(tf.random.uniform([784, 512], minval=-0.1, maxval=0.1, dtype=np.float32)),\n",
        "            tf.Variable(tf.random.uniform([512, 256], minval=-0.1, maxval=0.1, dtype=np.float32)),\n",
        "            tf.Variable(tf.random.uniform([256, 10], minval=-0.1, maxval=0.1, dtype=np.float32))\n",
        "        ],\n",
        "\n",
        "        \"_biases\" : [\n",
        "            tf.Variable(np.zeros(512, dtype=np.float32)),\n",
        "            tf.Variable(np.zeros(256, dtype=np.float32)),\n",
        "            tf.Variable(np.zeros(10, dtype=np.float32))\n",
        "        ]\n",
        "    }\n",
        "\n",
        "    modelConfig6 = {\n",
        "        \"train_steps\" : 2000,\n",
        "        \"learning_rate\" : 0.01,\n",
        "        \"activation_func\" : \"sigmoid\",\n",
        "        \"number\": 6,\n",
        "\n",
        "        \"_weights\" : [\n",
        "            tf.Variable(tf.random.uniform([784, 512], minval=-0.1, maxval=0.1, dtype=np.float32)),\n",
        "            tf.Variable(tf.random.uniform([512, 256], minval=-0.1, maxval=0.1, dtype=np.float32)),\n",
        "            tf.Variable(tf.random.uniform([256, 10], minval=-0.1, maxval=0.1, dtype=np.float32))\n",
        "        ],\n",
        "\n",
        "        \"_biases\" : [\n",
        "            tf.Variable(np.zeros(512, dtype=np.float32)),\n",
        "            tf.Variable(np.zeros(256, dtype=np.float32)),\n",
        "            tf.Variable(np.zeros(10, dtype=np.float32))\n",
        "        ]\n",
        "    }\n",
        "\n",
        "    modelConfig7 = {\n",
        "        \"train_steps\" : 1000,\n",
        "        \"learning_rate\" : 0.1,\n",
        "        \"activation_func\" : \"sigmoid\",\n",
        "        \"number\": 7,\n",
        "\n",
        "        \"_weights\" : [\n",
        "            tf.Variable(tf.random.uniform([784, 1568], minval=-0.1, maxval=0.1, dtype=np.float32)),\n",
        "            tf.Variable(tf.random.uniform([1568, 512], minval=-0.1, maxval=0.1, dtype=np.float32)),\n",
        "            tf.Variable(tf.random.uniform([512, 256], minval=-0.1, maxval=0.1, dtype=np.float32)),\n",
        "            tf.Variable(tf.random.uniform([256, 10], minval=-0.1, maxval=0.1, dtype=np.float32))\n",
        "        ],\n",
        "\n",
        "        \"_biases\" : [\n",
        "            tf.Variable(np.zeros(1568, dtype=np.float32)),\n",
        "            tf.Variable(np.zeros(512, dtype=np.float32)),\n",
        "            tf.Variable(np.zeros(256, dtype=np.float32)),\n",
        "            tf.Variable(np.zeros(10, dtype=np.float32))\n",
        "        ]\n",
        "    }\n",
        "\n",
        "    modelConfig8 = {\n",
        "        \"train_steps\" : 1000,\n",
        "        \"learning_rate\" : 0.1,\n",
        "        \"activation_func\" : \"sigmoid\",\n",
        "        \"number\": 8,\n",
        "\n",
        "        \"_weights\" : [\n",
        "            tf.Variable(tf.random.uniform([784, 512], minval=-0.15, maxval=0.15, dtype=np.float32)),\n",
        "            tf.Variable(tf.random.uniform([512, 256], minval=-0.15, maxval=0.15, dtype=np.float32)),\n",
        "            tf.Variable(tf.random.uniform([256, 10], minval=-0.15, maxval=0.15, dtype=np.float32))\n",
        "        ],\n",
        "\n",
        "        \"_biases\" : [\n",
        "            tf.Variable(np.zeros(512, dtype=np.float32)),\n",
        "            tf.Variable(np.zeros(256, dtype=np.float32)),\n",
        "            tf.Variable(np.zeros(10, dtype=np.float32))\n",
        "        ]\n",
        "    }"
      ],
      "execution_count": null,
      "outputs": []
    },
    {
      "cell_type": "markdown",
      "metadata": {
        "id": "ZiPEmOEtdMWc"
      },
      "source": [
        "##Models Training"
      ]
    },
    {
      "cell_type": "markdown",
      "metadata": {
        "id": "vyOlYos5YpFp"
      },
      "source": [
        "###Relu Models Training"
      ]
    },
    {
      "cell_type": "code",
      "metadata": {
        "colab": {
          "base_uri": "https://localhost:8080/"
        },
        "id": "HhaPfa4jYOTK",
        "outputId": "f222fb90-31ec-4b1e-88a0-bb60c9c9f5f7"
      },
      "source": [
        "relu_Config_Reset()\n",
        "\n",
        "print(\"Model1 Start\")\n",
        "model_Train(modelConfig1)\n",
        "print(\"Model1 End\")\n",
        "print(\"\\n\")\n",
        "\n",
        "print(\"Model2 Start\")\n",
        "model_Train(modelConfig2)\n",
        "print(\"Model2 End\")\n",
        "print(\"\\n\")\n",
        "\n",
        "print(\"Model3 Start\")\n",
        "model_Train(modelConfig3)\n",
        "print(\"Model3 End\")\n",
        "print(\"\\n\")\n",
        "\n",
        "print(\"Model4 Start\")\n",
        "model_Train(modelConfig4)\n",
        "print(\"Model4 End\")\n",
        "print(\"\\n\")"
      ],
      "execution_count": null,
      "outputs": [
        {
          "output_type": "stream",
          "name": "stdout",
          "text": [
            "Model1 Start\n",
            "Model1 End\n",
            "\n",
            "\n",
            "Model2 Start\n",
            "Model2 End\n",
            "\n",
            "\n",
            "Model3 Start\n",
            "Model3 End\n",
            "\n",
            "\n",
            "Model4 Start\n",
            "Model4 End\n",
            "\n",
            "\n"
          ]
        }
      ]
    },
    {
      "cell_type": "markdown",
      "metadata": {
        "id": "3NJOVEuIYucy"
      },
      "source": [
        "###Sigmoid Models Training"
      ]
    },
    {
      "cell_type": "code",
      "metadata": {
        "colab": {
          "base_uri": "https://localhost:8080/"
        },
        "id": "gjtYERLaYucy",
        "outputId": "d4f688dc-7310-4666-e2ad-2d4dec3d224c"
      },
      "source": [
        "sigmoid_Config_Reset()\n",
        "\n",
        "print(\"Model5 Start\")\n",
        "model_Train(modelConfig5)\n",
        "print(\"Model5 End\")\n",
        "print(\"\\n\")\n",
        "\n",
        "print(\"Model6 Start\")\n",
        "model_Train(modelConfig6)\n",
        "print(\"Model6 End\")\n",
        "print(\"\\n\")\n",
        "\n",
        "print(\"Model7 Start\")\n",
        "model_Train(modelConfig7)\n",
        "print(\"Model7 End\")\n",
        "print(\"\\n\")\n",
        "\n",
        "print(\"Model8 Start\")\n",
        "model_Train(modelConfig8)\n",
        "print(\"Model8 End\")\n",
        "print(\"\\n\")"
      ],
      "execution_count": null,
      "outputs": [
        {
          "output_type": "stream",
          "name": "stdout",
          "text": [
            "Model5 Start\n",
            "Model5 End\n",
            "\n",
            "\n",
            "Model6 Start\n",
            "Model6 End\n",
            "\n",
            "\n",
            "Model7 Start\n",
            "Model7 End\n",
            "\n",
            "\n",
            "Model8 Start\n",
            "Model8 End\n",
            "\n",
            "\n"
          ]
        }
      ]
    },
    {
      "cell_type": "markdown",
      "metadata": {
        "id": "lLvhzXncBykq"
      },
      "source": [
        "##Tensor board"
      ]
    },
    {
      "cell_type": "code",
      "metadata": {
        "id": "vyUT_EFYyIQy"
      },
      "source": [
        "# %load_ext tensorboard"
      ],
      "execution_count": null,
      "outputs": []
    },
    {
      "cell_type": "code",
      "metadata": {
        "id": "_-ZCezc3yKx8"
      },
      "source": [
        "# %tensorboard --logdir logs"
      ],
      "execution_count": null,
      "outputs": []
    },
    {
      "cell_type": "markdown",
      "metadata": {
        "id": "Gm0c4_aajkbW"
      },
      "source": [
        "# Task - 2\n",
        "\n",
        "\n",
        "\n",
        "\n"
      ]
    },
    {
      "cell_type": "markdown",
      "metadata": {
        "id": "rpiFdb8Glgvw"
      },
      "source": [
        "## A description of what the six shuffle/batch/repeat orderings do (on a conceptual level) and which one you think is the most sensible for training neural networks"
      ]
    },
    {
      "cell_type": "markdown",
      "metadata": {
        "id": "bdSir0D4jszn"
      },
      "source": [
        "### Explanations\n",
        "\n",
        "\n",
        "\n",
        "1.   tf.data.shuffle basically shuffles the data, it buffer size as parameter, meaning if the the tensor contains 1000 values and buffer size is 100 then it shuffles first 100(from 1- 100) at one time and next time (2 -101)... so on\n",
        "2.   tf.data.batch divides the dataset into the supplied number of batches\n",
        "3.   tf.data.repeat generates specified number of times the dataset, if we want to train our model with 30 epochs, then it generates 30 times the same dataset.... important thing to be noted is it will not generate the next dataset until the current one is completed\n",
        "\n"
      ]
    },
    {
      "cell_type": "markdown",
      "metadata": {
        "id": "Whm-YDtgYm5G"
      },
      "source": [
        "# Task -3 (Script1 Explanation)"
      ]
    },
    {
      "cell_type": "markdown",
      "metadata": {
        "id": "qGEaUIacojFs"
      },
      "source": [
        "## Observations\n",
        "\n",
        "###First observation is the logits computation in the following code snippet\n",
        "\n",
        "\n",
        "```\n",
        "def model_forward(inputs):\n",
        "    x = inputs\n",
        "    for w, b in layers[:-1]:\n",
        "        x = tf.nn.relu(tf.matmul(x, w) + b)\n",
        "    \n",
        "    #Old code\n",
        "    logits = tf.matmul(x, layers[-1][0] + layers[-1][1])\n",
        "\n",
        "    #Updated code\n",
        "    logits = tf.matmul(x, layers[-1][0]) + layers[-1][1]\n",
        "\n",
        "    return logits\n",
        "```\n",
        "\n",
        "###Second observation is that it is running one layer less, because there are no output layer weights, biases appended to the layers list\n",
        "\n",
        "\n",
        "\n",
        "```\n",
        "w_out = tf.Variable(tf.random.uniform([n_units, 10], -w_range, w_range),\n",
        "                    name=\"wout\")\n",
        "b_out = tf.Variable(tf.zeros(10), name=\"bout\")\n",
        "\n",
        "#Added Code\n",
        "layers.append([w_out, b_out])\n",
        "```\n",
        "\n",
        "###Third observation, even after correcting the respected above observations still the model has not improved. So the main problem which we think is weights initialisation.\n",
        "\n",
        "\n",
        "1.   We have changed the weights range from [-0.4, 0.4] to [-0.1, 0.1] and then accuracy has improved to 89%.\n",
        "2.   The other option which we tried was keeping the weight range same and decreasing the deep model layers to 4, training steps to 2000 and still the accuracy has improved a lot to 94%. The reason why we think is that multiplication factor in earlier case was too much since it has 8 layers( May be we think it is out of float scope). now the multiplication factor is better but still the number is less so it is taking long time to learn.\n",
        "3.  Reduce the learning rate to 0.0001 so that when it is back propagating, if the gradients are so high then the updation will not have negative values\n",
        "4. The gradients are exploding after the 2nd iteration itself\n",
        "\n",
        "\n",
        "\n"
      ]
    },
    {
      "cell_type": "markdown",
      "metadata": {
        "id": "JHIQto0con8I"
      },
      "source": [
        "# Task -3 (Script2 Explanation)"
      ]
    },
    {
      "cell_type": "markdown",
      "metadata": {
        "id": "HQPy-K7Pk50J"
      },
      "source": [
        "## Observations\n",
        "\n",
        "\n",
        "1.   First two observations from the above script are same\n",
        "2.   Third observation is it is using sigmoid function as an activation function, the values that are being supplied to sigmoid function are negative values and it is getting saturated close to 0 values.\n",
        "3. We tried by changing the hidden layer size then it works because the multiplication and keeping it the values are bigger\n",
        "\n",
        "\n"
      ]
    },
    {
      "cell_type": "markdown",
      "metadata": {
        "id": "IZEHe3p1on8I"
      },
      "source": [
        "## write"
      ]
    },
    {
      "cell_type": "markdown",
      "metadata": {
        "id": "LuCVuoI-osNI"
      },
      "source": [
        "# Task -3 (Script3 Explanation)"
      ]
    },
    {
      "cell_type": "markdown",
      "metadata": {
        "id": "Q3bKv5MyosNI"
      },
      "source": [
        "## Observations\n",
        "\n",
        "\n",
        "1.   First two observations from the first script are same\n",
        "2.   Third observation is it is using relu as an activation funtion and since the weights range lie between [0, -0.1] the activation function is making them 0, so there is no learning and the loss remains same.\n",
        "3. The solutions could be by changing the activation function to leaky relu or change the weights range"
      ]
    },
    {
      "cell_type": "markdown",
      "metadata": {
        "id": "Gwqm6Y3Hosg-"
      },
      "source": [
        "# Task -3 (Script4 Explanation)"
      ]
    },
    {
      "cell_type": "markdown",
      "metadata": {
        "id": "NpiNuVcWosg-"
      },
      "source": [
        "## Observations\n",
        "\n",
        "\n",
        "1.   First two observations from the first script are same\n",
        "2.   We tried by plotting the images after the noise addition, for number 2 it is impossible to identify with human eyes that it is 2.\n",
        "\n",
        "![image.png](data:image/png;base64,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)\n",
        "\n",
        "3.  When the standard deviation is reduced to 0.1 then the image is identifiable and the accuracy has improved.\n",
        "![image.png](data:image/png;base64,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)\n"
      ]
    },
    {
      "cell_type": "markdown",
      "metadata": {
        "id": "aMsz1cBGosz_"
      },
      "source": [
        "# Task -3 (Script5 Explanation)"
      ]
    },
    {
      "cell_type": "markdown",
      "metadata": {
        "id": "VB5z9Ullos0A"
      },
      "source": [
        "## Observations\n",
        "\n",
        "\n",
        "1.   First two observations from the first script are same\n",
        "2.   Third observation is that softmax is being applied to the logits before supplying them to the cross entropy calculation and also applying during the cross entropy calculation. Solution is to to remove the softmax during logits computation.\n",
        "3. for example if we apply softmax on [2,3,4] the output values are [0.04,0.11,0.84] and now if we apply softmax again on this [0.04,0.11,0.84] then the output values are [0.23,0.24,0.51]. Even though the highlest probability remains same, but the loss decreases when it computes by applying softmax 2 times and may need more time to converge.\n"
      ]
    },
    {
      "cell_type": "markdown",
      "metadata": {
        "id": "dA80-Dq9Nafm"
      },
      "source": [
        "#References\n",
        "\n",
        "\n",
        "1.   https://ovgu-ailab.github.io/idl2021/assignments/2/linear_tb.ipynb\n",
        "2.   https://ovgu-ailab.github.io/idl2021/assignments/2/tf_data.ipynb\n",
        "\n"
      ]
    }
  ]
}