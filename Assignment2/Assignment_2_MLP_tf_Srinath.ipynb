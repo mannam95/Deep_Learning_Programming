{
  "nbformat": 4,
  "nbformat_minor": 0,
  "metadata": {
    "colab": {
      "name": "Assignment_2_MLP_tf_Srinath.ipynb",
      "provenance": [],
      "collapsed_sections": [
        "GW9A-uDZx9wq",
        "hBYC4kM2ppSs",
        "wfDVrX2VunFA",
        "9PPrnT6XhaWK",
        "MQPJckjslxAT",
        "Pjp8UFAWhpfe",
        "E315g-vRTsYD",
        "hai0NIyaN2go",
        "InzTeW3xdRAU",
        "FQ-zwtycBgSD",
        "APwijxbtXnDH",
        "Vy7lrKcQt0dp",
        "hOBOFjNYXzvB",
        "fHLuVV4wAvZ3",
        "ZiPEmOEtdMWc",
        "vyOlYos5YpFp",
        "3NJOVEuIYucy",
        "lLvhzXncBykq",
        "rpiFdb8Glgvw",
        "Whm-YDtgYm5G",
        "LuCVuoI-osNI",
        "aMsz1cBGosz_"
      ],
      "mount_file_id": "1DWjTFscmM8KYCe1HVyGgweSUIia_6PAz",
      "authorship_tag": "ABX9TyOz57niNvD5oKdgakpaPj2w",
      "include_colab_link": true
    },
    "kernelspec": {
      "name": "python3",
      "display_name": "Python 3"
    }
  },
  "cells": [
    {
      "cell_type": "markdown",
      "metadata": {
        "id": "view-in-github",
        "colab_type": "text"
      },
      "source": [
        "<a href=\"https://colab.research.google.com/github/mannam95/Deep_Learning_Programming/blob/main/Assignment2/Assignment_2_MLP_tf_Srinath.ipynb\" target=\"_parent\"><img src=\"https://colab.research.google.com/assets/colab-badge.svg\" alt=\"Open In Colab\"/></a>"
      ]
    },
    {
      "cell_type": "markdown",
      "metadata": {
        "id": "6vn94RPJ4oTU"
      },
      "source": [
        "#Team Assignment\n",
        "\n",
        "\n",
        "1.   Srinath Mannam (229750)\n",
        "2.   Meghana Rao (234907)\n",
        "3.   Govind Shukla (235192)\n",
        "\n"
      ]
    },
    {
      "cell_type": "markdown",
      "metadata": {
        "id": "GW9A-uDZx9wq"
      },
      "source": [
        "#Change the directory"
      ]
    },
    {
      "cell_type": "code",
      "metadata": {
        "colab": {
          "base_uri": "https://localhost:8080/"
        },
        "id": "wam6g9cNx9HU",
        "outputId": "7c3dfd36-707a-4b2e-ec06-8b13e8704726"
      },
      "source": [
        "from google.colab import drive\n",
        "drive.mount(\"/content/drive\")"
      ],
      "execution_count": null,
      "outputs": [
        {
          "output_type": "stream",
          "name": "stdout",
          "text": [
            "Drive already mounted at /content/drive; to attempt to forcibly remount, call drive.mount(\"/content/drive\", force_remount=True).\n"
          ]
        }
      ]
    },
    {
      "cell_type": "code",
      "metadata": {
        "id": "XxBOM49SaFl7",
        "colab": {
          "base_uri": "https://localhost:8080/",
          "height": 35
        },
        "outputId": "234459d7-87e6-4396-eb51-02bfdd413490"
      },
      "source": [
        "import os\n",
        "working_directory = '/content/drive/My Drive/Colab Notebooks/OVGU/Deep_Learning/Second_Assignment'\n",
        "if os.getcwd() !=  working_directory:\n",
        "  os.chdir(working_directory)\n",
        "os.getcwd()"
      ],
      "execution_count": null,
      "outputs": [
        {
          "output_type": "execute_result",
          "data": {
            "application/vnd.google.colaboratory.intrinsic+json": {
              "type": "string"
            },
            "text/plain": [
              "'/content/drive/My Drive/Colab Notebooks/OVGU/Deep_Learning/Second_Assignment'"
            ]
          },
          "metadata": {},
          "execution_count": 21
        }
      ]
    },
    {
      "cell_type": "markdown",
      "metadata": {
        "id": "hBYC4kM2ppSs"
      },
      "source": [
        "#import statements"
      ]
    },
    {
      "cell_type": "code",
      "metadata": {
        "id": "mJaGiGnXpsAP"
      },
      "source": [
        "import tensorflow as tf\n",
        "import numpy as np\n",
        "import matplotlib.pyplot as plt\n",
        "from datetime import datetime"
      ],
      "execution_count": null,
      "outputs": []
    },
    {
      "cell_type": "markdown",
      "metadata": {
        "id": "MErnA3dKWy2-"
      },
      "source": [
        "# Task -1 (MLP Script using tf.data)"
      ]
    },
    {
      "cell_type": "markdown",
      "metadata": {
        "id": "CLtYs70nqz3b"
      },
      "source": [
        "##Load Data"
      ]
    },
    {
      "cell_type": "code",
      "metadata": {
        "id": "Zegh4TeIq28p"
      },
      "source": [
        "(train_images, train_labels), (test_images, test_labels) = tf.keras.datasets.mnist.load_data()"
      ],
      "execution_count": null,
      "outputs": []
    },
    {
      "cell_type": "markdown",
      "metadata": {
        "id": "wfDVrX2VunFA"
      },
      "source": [
        "## Visualize some images on some training and test data"
      ]
    },
    {
      "cell_type": "code",
      "metadata": {
        "colab": {
          "base_uri": "https://localhost:8080/"
        },
        "id": "_X_MvhoZumPn",
        "outputId": "5e256173-f838-490b-8a6d-ea6e525b9707"
      },
      "source": [
        "print(train_labels[3])\n",
        "plt.imshow(train_images[3], cmap=\"Greys_r\")"
      ],
      "execution_count": null,
      "outputs": [
        {
          "output_type": "stream",
          "name": "stdout",
          "text": [
            "1\n"
          ]
        },
        {
          "output_type": "execute_result",
          "data": {
            "text/plain": [
              "<matplotlib.image.AxesImage at 0x7fa5c3b4dfd0>"
            ]
          },
          "metadata": {},
          "execution_count": 25
        },
        {
          "output_type": "display_data",
          "data": {
            "image/png": "[encoded data removed]",
            "text/plain": [
              "<Figure size 432x288 with 1 Axes>"
            ]
          },
          "metadata": {
            "needs_background": "light"
          }
        }
      ]
    },
    {
      "cell_type": "code",
      "metadata": {
        "colab": {
          "base_uri": "https://localhost:8080/"
        },
        "id": "VpaNU36_vXzy",
        "outputId": "b8fdcc99-3ab9-4d7c-ef27-cf4d88f4b06f"
      },
      "source": [
        "print(test_labels[121])\n",
        "plt.imshow(test_images[121], cmap=\"Greys_r\")"
      ],
      "execution_count": null,
      "outputs": [
        {
          "output_type": "stream",
          "name": "stdout",
          "text": [
            "4\n"
          ]
        },
        {
          "output_type": "execute_result",
          "data": {
            "text/plain": [
              "<matplotlib.image.AxesImage at 0x7fa5c3ab7950>"
            ]
          },
          "metadata": {},
          "execution_count": 26
        },
        {
          "output_type": "display_data",
          "data": {
            "image/png": "[encoded data removed]",
            "text/plain": [
              "<Figure size 432x288 with 1 Axes>"
            ]
          },
          "metadata": {
            "needs_background": "light"
          }
        }
      ]
    },
    {
      "cell_type": "markdown",
      "metadata": {
        "id": "9PPrnT6XhaWK"
      },
      "source": [
        "## Pre-process the data\n",
        "\n"
      ]
    },
    {
      "cell_type": "markdown",
      "metadata": {
        "id": "MQPJckjslxAT"
      },
      "source": [
        "### reshape the data, normalize the input images of uni8  to 0-1 int"
      ]
    },
    {
      "cell_type": "code",
      "metadata": {
        "id": "Z8BE1rFThUk3"
      },
      "source": [
        "def preprocess_images(images):\n",
        "    return images.reshape(-1, 784).astype(np.float32) / 255\n",
        "\n",
        "def preprocess_labels(labels):\n",
        "    return labels.reshape(-1).astype(np.int32)\n",
        "\n",
        "train_images = preprocess_images(train_images)\n",
        "test_images = preprocess_images(test_images)\n",
        "train_labels = preprocess_labels(train_labels)\n",
        "test_labels = preprocess_labels(test_labels)"
      ],
      "execution_count": null,
      "outputs": []
    },
    {
      "cell_type": "markdown",
      "metadata": {
        "id": "Pjp8UFAWhpfe"
      },
      "source": [
        "### Shuffle, Batch, Repeat \n",
        "\n",
        "1.   Shuffle the data, supported parameter buffer size\n",
        "2.   can create the batches of data\n",
        "3.   repeat how many times the data should be repeated , default value is every time create new dataset when the current one is completed"
      ]
    },
    {
      "cell_type": "code",
      "metadata": {
        "id": "YS8WCaVchXYu"
      },
      "source": [
        "train_data = tf.data.Dataset.from_tensor_slices((train_images, train_labels)).shuffle(60000).batch(128).repeat()\n",
        "test_data = tf.data.Dataset.from_tensor_slices((test_images, test_labels))"
      ],
      "execution_count": null,
      "outputs": []
    },
    {
      "cell_type": "markdown",
      "metadata": {
        "id": "E315g-vRTsYD"
      },
      "source": [
        "##A function that will choose the activation function"
      ]
    },
    {
      "cell_type": "code",
      "metadata": {
        "id": "xVzxCDlcTyg9"
      },
      "source": [
        "def dynamicActiFunc(actFun, currLogits):\n",
        "  if actFun == \"relu\":\n",
        "    return tf.nn.relu(currLogits)\n",
        "  elif actFun == \"lrelu\":\n",
        "    return tf.nn.leaky_relu(currLogits)\n",
        "  elif actFun == \"sigmoid\":\n",
        "    return tf.nn.sigmoid(currLogits)\n",
        "  else:\n",
        "    return tf.nn.relu(currLogits)"
      ],
      "execution_count": null,
      "outputs": []
    },
    {
      "cell_type": "markdown",
      "metadata": {
        "id": "hai0NIyaN2go"
      },
      "source": [
        "##Define a Generic function for training\n",
        "\n",
        "Observations:\n",
        "\n",
        "\n",
        "1.   Logging weights and biases for every step consumes so much power, so commented and looged for every 100 steps\n",
        "\n",
        "\n",
        "Note:- Logs can be viewed from tensorboard\n",
        "\n"
      ]
    },
    {
      "cell_type": "code",
      "metadata": {
        "id": "eqTYHVmVN06T"
      },
      "source": [
        "def model_Train(_modelConfig):\n",
        "  logdir = os.path.join(\"logs\", \"model\" + str(_modelConfig[\"number\"]) + str(datetime.now()))\n",
        "  train_writer = tf.summary.create_file_writer(os.path.join(logdir, \"train\"))\n",
        "  test_writer = tf.summary.create_file_writer(os.path.join(logdir, \"test\"))\n",
        "\n",
        "  for step, (image_batch, label_batch) in enumerate(train_data):\n",
        "      if step > _modelConfig[\"train_steps\"]:\n",
        "        break\n",
        "\n",
        "      with tf.GradientTape() as tape:\n",
        "          #loop that will goes forward for every hidden layer\n",
        "          for ind in range(len(_modelConfig[\"_weights\"])-1):\n",
        "            if ind == 0:\n",
        "              hPrevLogits = tf.matmul(image_batch, _modelConfig[\"_weights\"][ind]) + _modelConfig[\"_biases\"][ind]\n",
        "              hPrevOutput = dynamicActiFunc(_modelConfig[\"activation_func\"], hPrevLogits)\n",
        "            else :\n",
        "              hcurrLogits = tf.matmul(hPrevOutput, _modelConfig[\"_weights\"][ind]) + _modelConfig[\"_biases\"][ind]\n",
        "              hcurrOutput = dynamicActiFunc(_modelConfig[\"activation_func\"], hcurrLogits)\n",
        "              hPrevOutput = hcurrOutput\n",
        "\n",
        "          lastInd = len(_modelConfig[\"_weights\"])-1\n",
        "\n",
        "          #final output layer\n",
        "          logits = tf.matmul(hcurrOutput, _modelConfig[\"_weights\"][lastInd]) + _modelConfig[\"_biases\"][lastInd]\n",
        "          xent = tf.reduce_mean(tf.nn.sparse_softmax_cross_entropy_with_logits(\n",
        "              logits=logits, labels=label_batch))\n",
        "          \n",
        "      grads = tape.gradient(xent, [*_modelConfig[\"_weights\"], *_modelConfig[\"_biases\"]])\n",
        "\n",
        "      #update weights\n",
        "      for ind in range(len(_modelConfig[\"_weights\"])):\n",
        "        _modelConfig[\"_weights\"][ind].assign_sub(_modelConfig[\"learning_rate\"] * grads[ind])\n",
        "      \n",
        "      #update biases\n",
        "      for ind in range(len(_modelConfig[\"_biases\"])):\n",
        "        _modelConfig[\"_biases\"][ind].assign_sub(_modelConfig[\"learning_rate\"] * grads[ind + len(_modelConfig[\"_biases\"])])\n",
        "\n",
        "      # with train_writer.as_default():\n",
        "      #   tf.summary.scalar(\"loss\", xent, step=step)\n",
        "      #   tf.summary.histogram(\"logits\", logits, step=step)\n",
        "      #   for ind in range(len(_modelConfig[\"_weights\"])):\n",
        "      #     tf.summary.histogram(\"weights\"+str(ind), _modelConfig[\"_weights\"][ind], step=step)\n",
        "      #     tf.summary.histogram(\"biases\"+str(ind), _modelConfig[\"_biases\"][ind], step=step)\n",
        "\n",
        "\n",
        "      if not step % 100:\n",
        "          # print(step)\n",
        "          preds = tf.argmax(logits, axis=1, output_type=tf.int32)\n",
        "          acc = tf.reduce_mean(tf.cast(tf.equal(preds, label_batch),\n",
        "                              tf.float32))\n",
        "          # print(\"Loss: {} Accuracy: {}\".format(xent, acc))\n",
        "\n",
        "          with train_writer.as_default():\n",
        "            tf.summary.scalar(\"accuracy\", acc, step=step)\n",
        "            tf.summary.scalar(\"loss\", xent, step=step)\n",
        "            tf.summary.image(\"input\", tf.reshape(image_batch, [-1, 28, 28, 1]), step=step)\n",
        "            tf.summary.histogram(\"logits\", logits, step=step)\n",
        "            for ind in range(len(_modelConfig[\"_weights\"])):\n",
        "              tf.summary.histogram(\"weights\"+str(ind), _modelConfig[\"_weights\"][ind], step=step)\n",
        "              tf.summary.histogram(\"biases\"+str(ind), _modelConfig[\"_biases\"][ind], step=step)\n",
        "\n",
        "          #Predict for Test Dataset\n",
        "          for ind in range(len(_modelConfig[\"_weights\"])-1):\n",
        "              if ind == 0:\n",
        "                hPrevLogits_Test = tf.matmul(test_images, _modelConfig[\"_weights\"][ind]) + _modelConfig[\"_biases\"][ind]\n",
        "                hPrevOutput_Test = dynamicActiFunc(_modelConfig[\"activation_func\"], hPrevLogits_Test)\n",
        "              else :\n",
        "                hcurrLogits_Test = tf.matmul(hPrevOutput_Test, _modelConfig[\"_weights\"][ind]) + _modelConfig[\"_biases\"][ind]\n",
        "                hcurrOutput_Test = dynamicActiFunc(_modelConfig[\"activation_func\"], hcurrLogits_Test)\n",
        "                hPrevOutput_Test = hcurrOutput_Test\n",
        "\n",
        "          lastInd = len(_modelConfig[\"_weights\"])-1\n",
        "          test_preds = tf.argmax(tf.matmul(hcurrOutput_Test, _modelConfig[\"_weights\"][lastInd]) + _modelConfig[\"_biases\"][lastInd], axis=1,\n",
        "                              output_type=tf.int32)\n",
        "          test_acc = tf.reduce_mean(tf.cast(tf.equal(test_preds, test_labels),\n",
        "                                      tf.float32))\n",
        "          \n",
        "          with test_writer.as_default():\n",
        "                tf.summary.scalar(\"accuracy\", test_acc, step=step)\n",
        "          # print(\"\\nTest Accuracy: {}\".format(test_acc))"
      ],
      "execution_count": null,
      "outputs": []
    },
    {
      "cell_type": "markdown",
      "metadata": {
        "id": "InzTeW3xdRAU"
      },
      "source": [
        "##Models Config"
      ]
    },
    {
      "cell_type": "markdown",
      "metadata": {
        "id": "FQ-zwtycBgSD"
      },
      "source": [
        "###Declartions"
      ]
    },
    {
      "cell_type": "code",
      "metadata": {
        "id": "TIxJxc0H9BZp"
      },
      "source": [
        "modelConfig1 = {}\n",
        "modelConfig2 = {}\n",
        "modelConfig3 = {}\n",
        "modelConfig4 = {}\n",
        "modelConfig5 = {}\n",
        "modelConfig6 = {}\n",
        "modelConfig7 = {}\n",
        "modelConfig8 = {}"
      ],
      "execution_count": null,
      "outputs": []
    },
    {
      "cell_type": "markdown",
      "metadata": {
        "id": "APwijxbtXnDH"
      },
      "source": [
        "###Relu Activation Function"
      ]
    },
    {
      "cell_type": "markdown",
      "metadata": {
        "id": "Vy7lrKcQt0dp"
      },
      "source": [
        "####Define params Model1, 2, 3, 4"
      ]
    },
    {
      "cell_type": "code",
      "metadata": {
        "id": "Cuohb9MMt9Ws"
      },
      "source": [
        "def relu_Config_Reset():\n",
        "    global modelConfig1, modelConfig2, modelConfig3, modelConfig4\n",
        "    modelConfig1 = {\n",
        "        \"train_steps\" : 1000,\n",
        "        \"learning_rate\" : 0.1,\n",
        "        \"activation_func\" : \"relu\",\n",
        "        \"number\": 1,\n",
        "\n",
        "        \"_weights\" : [\n",
        "            tf.Variable(tf.random.uniform([784, 512], minval=-0.1, maxval=0.1, dtype=np.float32)),\n",
        "            tf.Variable(tf.random.uniform([512, 256], minval=-0.1, maxval=0.1, dtype=np.float32)),\n",
        "            tf.Variable(tf.random.uniform([256, 10], minval=-0.1, maxval=0.1, dtype=np.float32))\n",
        "        ],\n",
        "\n",
        "        \"_biases\" : [\n",
        "            tf.Variable(np.zeros(512, dtype=np.float32)),\n",
        "            tf.Variable(np.zeros(256, dtype=np.float32)),\n",
        "            tf.Variable(np.zeros(10, dtype=np.float32))\n",
        "        ]\n",
        "    }\n",
        "\n",
        "    modelConfig2 = {\n",
        "        \"train_steps\" : 2000,\n",
        "        \"learning_rate\" : 0.01,\n",
        "        \"activation_func\" : \"relu\",\n",
        "        \"number\": 2,\n",
        "\n",
        "        \"_weights\" : [\n",
        "            tf.Variable(tf.random.uniform([784, 512], minval=-0.1, maxval=0.1, dtype=np.float32)),\n",
        "            tf.Variable(tf.random.uniform([512, 256], minval=-0.1, maxval=0.1, dtype=np.float32)),\n",
        "            tf.Variable(tf.random.uniform([256, 10], minval=-0.1, maxval=0.1, dtype=np.float32))\n",
        "        ],\n",
        "\n",
        "        \"_biases\" : [\n",
        "            tf.Variable(np.zeros(512, dtype=np.float32)),\n",
        "            tf.Variable(np.zeros(256, dtype=np.float32)),\n",
        "            tf.Variable(np.zeros(10, dtype=np.float32))\n",
        "        ]\n",
        "    }\n",
        "\n",
        "    modelConfig3 = {\n",
        "        \"train_steps\" : 1000,\n",
        "        \"learning_rate\" : 0.1,\n",
        "        \"activation_func\" : \"relu\",\n",
        "        \"number\": 3,\n",
        "\n",
        "        \"_weights\" : [\n",
        "            tf.Variable(tf.random.uniform([784, 1568], minval=-0.1, maxval=0.1, dtype=np.float32)),\n",
        "            tf.Variable(tf.random.uniform([1568, 512], minval=-0.1, maxval=0.1, dtype=np.float32)),\n",
        "            tf.Variable(tf.random.uniform([512, 256], minval=-0.1, maxval=0.1, dtype=np.float32)),\n",
        "            tf.Variable(tf.random.uniform([256, 10], minval=-0.1, maxval=0.1, dtype=np.float32))\n",
        "        ],\n",
        "\n",
        "        \"_biases\" : [\n",
        "            tf.Variable(np.zeros(1568, dtype=np.float32)),\n",
        "            tf.Variable(np.zeros(512, dtype=np.float32)),\n",
        "            tf.Variable(np.zeros(256, dtype=np.float32)),\n",
        "            tf.Variable(np.zeros(10, dtype=np.float32))\n",
        "        ]\n",
        "    }\n",
        "\n",
        "    modelConfig4 = {\n",
        "        \"train_steps\" : 1000,\n",
        "        \"learning_rate\" : 0.1,\n",
        "        \"activation_func\" : \"relu\",\n",
        "        \"number\": 4,\n",
        "\n",
        "        \"_weights\" : [\n",
        "            tf.Variable(tf.random.uniform([784, 512], minval=-0.15, maxval=0.15, dtype=np.float32)),\n",
        "            tf.Variable(tf.random.uniform([512, 256], minval=-0.15, maxval=0.15, dtype=np.float32)),\n",
        "            tf.Variable(tf.random.uniform([256, 10], minval=-0.15, maxval=0.15, dtype=np.float32))\n",
        "        ],\n",
        "\n",
        "        \"_biases\" : [\n",
        "            tf.Variable(np.zeros(512, dtype=np.float32)),\n",
        "            tf.Variable(np.zeros(256, dtype=np.float32)),\n",
        "            tf.Variable(np.zeros(10, dtype=np.float32))\n",
        "        ]\n",
        "    }"
      ],
      "execution_count": null,
      "outputs": []
    },
    {
      "cell_type": "markdown",
      "metadata": {
        "id": "hOBOFjNYXzvB"
      },
      "source": [
        "###Sigmoid Activation Function"
      ]
    },
    {
      "cell_type": "markdown",
      "metadata": {
        "id": "fHLuVV4wAvZ3"
      },
      "source": [
        "####Define params Models 5, 6, 7, 8"
      ]
    },
    {
      "cell_type": "code",
      "metadata": {
        "id": "Q1XaMIHcA29k"
      },
      "source": [
        "def sigmoid_Config_Reset():\n",
        "    global modelConfig5, modelConfig6, modelConfig7, modelConfig8\n",
        "    modelConfig5 = {\n",
        "        \"train_steps\" : 1000,\n",
        "        \"learning_rate\" : 0.1,\n",
        "        \"activation_func\" : \"sigmoid\",\n",
        "        \"number\": 5,\n",
        "\n",
        "        \"_weights\" : [\n",
        "            tf.Variable(tf.random.uniform([784, 512], minval=-0.1, maxval=0.1, dtype=np.float32)),\n",
        "            tf.Variable(tf.random.uniform([512, 256], minval=-0.1, maxval=0.1, dtype=np.float32)),\n",
        "            tf.Variable(tf.random.uniform([256, 10], minval=-0.1, maxval=0.1, dtype=np.float32))\n",
        "        ],\n",
        "\n",
        "        \"_biases\" : [\n",
        "            tf.Variable(np.zeros(512, dtype=np.float32)),\n",
        "            tf.Variable(np.zeros(256, dtype=np.float32)),\n",
        "            tf.Variable(np.zeros(10, dtype=np.float32))\n",
        "        ]\n",
        "    }\n",
        "\n",
        "    modelConfig6 = {\n",
        "        \"train_steps\" : 2000,\n",
        "        \"learning_rate\" : 0.01,\n",
        "        \"activation_func\" : \"sigmoid\",\n",
        "        \"number\": 6,\n",
        "\n",
        "        \"_weights\" : [\n",
        "            tf.Variable(tf.random.uniform([784, 512], minval=-0.1, maxval=0.1, dtype=np.float32)),\n",
        "            tf.Variable(tf.random.uniform([512, 256], minval=-0.1, maxval=0.1, dtype=np.float32)),\n",
        "            tf.Variable(tf.random.uniform([256, 10], minval=-0.1, maxval=0.1, dtype=np.float32))\n",
        "        ],\n",
        "\n",
        "        \"_biases\" : [\n",
        "            tf.Variable(np.zeros(512, dtype=np.float32)),\n",
        "            tf.Variable(np.zeros(256, dtype=np.float32)),\n",
        "            tf.Variable(np.zeros(10, dtype=np.float32))\n",
        "        ]\n",
        "    }\n",
        "\n",
        "    modelConfig7 = {\n",
        "        \"train_steps\" : 1000,\n",
        "        \"learning_rate\" : 0.1,\n",
        "        \"activation_func\" : \"sigmoid\",\n",
        "        \"number\": 7,\n",
        "\n",
        "        \"_weights\" : [\n",
        "            tf.Variable(tf.random.uniform([784, 1568], minval=-0.1, maxval=0.1, dtype=np.float32)),\n",
        "            tf.Variable(tf.random.uniform([1568, 512], minval=-0.1, maxval=0.1, dtype=np.float32)),\n",
        "            tf.Variable(tf.random.uniform([512, 256], minval=-0.1, maxval=0.1, dtype=np.float32)),\n",
        "            tf.Variable(tf.random.uniform([256, 10], minval=-0.1, maxval=0.1, dtype=np.float32))\n",
        "        ],\n",
        "\n",
        "        \"_biases\" : [\n",
        "            tf.Variable(np.zeros(1568, dtype=np.float32)),\n",
        "            tf.Variable(np.zeros(512, dtype=np.float32)),\n",
        "            tf.Variable(np.zeros(256, dtype=np.float32)),\n",
        "            tf.Variable(np.zeros(10, dtype=np.float32))\n",
        "        ]\n",
        "    }\n",
        "\n",
        "    modelConfig8 = {\n",
        "        \"train_steps\" : 1000,\n",
        "        \"learning_rate\" : 0.1,\n",
        "        \"activation_func\" : \"sigmoid\",\n",
        "        \"number\": 8,\n",
        "\n",
        "        \"_weights\" : [\n",
        "            tf.Variable(tf.random.uniform([784, 512], minval=-0.15, maxval=0.15, dtype=np.float32)),\n",
        "            tf.Variable(tf.random.uniform([512, 256], minval=-0.15, maxval=0.15, dtype=np.float32)),\n",
        "            tf.Variable(tf.random.uniform([256, 10], minval=-0.15, maxval=0.15, dtype=np.float32))\n",
        "        ],\n",
        "\n",
        "        \"_biases\" : [\n",
        "            tf.Variable(np.zeros(512, dtype=np.float32)),\n",
        "            tf.Variable(np.zeros(256, dtype=np.float32)),\n",
        "            tf.Variable(np.zeros(10, dtype=np.float32))\n",
        "        ]\n",
        "    }"
      ],
      "execution_count": null,
      "outputs": []
    },
    {
      "cell_type": "markdown",
      "metadata": {
        "id": "ZiPEmOEtdMWc"
      },
      "source": [
        "##Models Training"
      ]
    },
    {
      "cell_type": "markdown",
      "metadata": {
        "id": "vyOlYos5YpFp"
      },
      "source": [
        "###Relu Models Training"
      ]
    },
    {
      "cell_type": "code",
      "metadata": {
        "colab": {
          "base_uri": "https://localhost:8080/"
        },
        "id": "HhaPfa4jYOTK",
        "outputId": "f222fb90-31ec-4b1e-88a0-bb60c9c9f5f7"
      },
      "source": [
        "relu_Config_Reset()\n",
        "\n",
        "print(\"Model1 Start\")\n",
        "model_Train(modelConfig1)\n",
        "print(\"Model1 End\")\n",
        "print(\"\\n\")\n",
        "\n",
        "print(\"Model2 Start\")\n",
        "model_Train(modelConfig2)\n",
        "print(\"Model2 End\")\n",
        "print(\"\\n\")\n",
        "\n",
        "print(\"Model3 Start\")\n",
        "model_Train(modelConfig3)\n",
        "print(\"Model3 End\")\n",
        "print(\"\\n\")\n",
        "\n",
        "print(\"Model4 Start\")\n",
        "model_Train(modelConfig4)\n",
        "print(\"Model4 End\")\n",
        "print(\"\\n\")"
      ],
      "execution_count": null,
      "outputs": [
        {
          "output_type": "stream",
          "name": "stdout",
          "text": [
            "Model1 Start\n",
            "Model1 End\n",
            "\n",
            "\n",
            "Model2 Start\n",
            "Model2 End\n",
            "\n",
            "\n",
            "Model3 Start\n",
            "Model3 End\n",
            "\n",
            "\n",
            "Model4 Start\n",
            "Model4 End\n",
            "\n",
            "\n"
          ]
        }
      ]
    },
    {
      "cell_type": "markdown",
      "metadata": {
        "id": "3NJOVEuIYucy"
      },
      "source": [
        "###Sigmoid Models Training"
      ]
    },
    {
      "cell_type": "code",
      "metadata": {
        "colab": {
          "base_uri": "https://localhost:8080/"
        },
        "id": "gjtYERLaYucy",
        "outputId": "d4f688dc-7310-4666-e2ad-2d4dec3d224c"
      },
      "source": [
        "sigmoid_Config_Reset()\n",
        "\n",
        "print(\"Model5 Start\")\n",
        "model_Train(modelConfig5)\n",
        "print(\"Model5 End\")\n",
        "print(\"\\n\")\n",
        "\n",
        "print(\"Model6 Start\")\n",
        "model_Train(modelConfig6)\n",
        "print(\"Model6 End\")\n",
        "print(\"\\n\")\n",
        "\n",
        "print(\"Model7 Start\")\n",
        "model_Train(modelConfig7)\n",
        "print(\"Model7 End\")\n",
        "print(\"\\n\")\n",
        "\n",
        "print(\"Model8 Start\")\n",
        "model_Train(modelConfig8)\n",
        "print(\"Model8 End\")\n",
        "print(\"\\n\")"
      ],
      "execution_count": null,
      "outputs": [
        {
          "output_type": "stream",
          "name": "stdout",
          "text": [
            "Model5 Start\n",
            "Model5 End\n",
            "\n",
            "\n",
            "Model6 Start\n",
            "Model6 End\n",
            "\n",
            "\n",
            "Model7 Start\n",
            "Model7 End\n",
            "\n",
            "\n",
            "Model8 Start\n",
            "Model8 End\n",
            "\n",
            "\n"
          ]
        }
      ]
    },
    {
      "cell_type": "markdown",
      "metadata": {
        "id": "lLvhzXncBykq"
      },
      "source": [
        "##Tensor board"
      ]
    },
    {
      "cell_type": "code",
      "metadata": {
        "id": "vyUT_EFYyIQy"
      },
      "source": [
        "# %load_ext tensorboard"
      ],
      "execution_count": null,
      "outputs": []
    },
    {
      "cell_type": "code",
      "metadata": {
        "id": "_-ZCezc3yKx8"
      },
      "source": [
        "# %tensorboard --logdir logs"
      ],
      "execution_count": null,
      "outputs": []
    },
    {
      "cell_type": "markdown",
      "metadata": {
        "id": "Gm0c4_aajkbW"
      },
      "source": [
        "# Task - 2\n",
        "\n",
        "\n",
        "\n",
        "\n"
      ]
    },
    {
      "cell_type": "markdown",
      "metadata": {
        "id": "rpiFdb8Glgvw"
      },
      "source": [
        "## A description of what the six shuffle/batch/repeat orderings do (on a conceptual level) and which one you think is the most sensible for training neural networks"
      ]
    },
    {
      "cell_type": "markdown",
      "metadata": {
        "id": "bdSir0D4jszn"
      },
      "source": [
        "### Explanations\n",
        "\n",
        "\n",
        "\n",
        "1.   tf.data.shuffle basically shuffles the data, it buffer size as parameter, meaning if the the tensor contains 1000 values and buffer size is 100 then it shuffles first 100(from 1- 100) at one time and next time (2 -101)... so on.\n",
        "2.   tf.data.batch divides the dataset into the supplied number of batches.\n",
        "3.   tf.data.repeat generates specified number of times the dataset, if we want to train our model with 30 epochs, then it generates 30 times the same dataset.... important thing to be noted is it will not generate the next dataset until the current one is completed.\n",
        "\n",
        "The best ordering would be shuffle then repeat (1, 2, 3) or (1, 3, 2).\n",
        "\n",
        "Shuffle, then repeat guarantees that all samples will be processed before the next repeat begins whereas otherway,all samples might not be processed in one epoch.\n",
        "\n"
      ]
    },
    {
      "cell_type": "markdown",
      "metadata": {
        "id": "Whm-YDtgYm5G"
      },
      "source": [
        "# Task -3 (Script1 Explanation)"
      ]
    },
    {
      "cell_type": "markdown",
      "metadata": {
        "id": "qGEaUIacojFs"
      },
      "source": [
        "## Observations\n",
        "\n",
        "###First observation is the logits computation in the following code snippet\n",
        "\n",
        "\n",
        "```\n",
        "def model_forward(inputs):\n",
        "    x = inputs\n",
        "    for w, b in layers[:-1]:\n",
        "        x = tf.nn.relu(tf.matmul(x, w) + b)\n",
        "    \n",
        "    #Old code\n",
        "    logits = tf.matmul(x, layers[-1][0] + layers[-1][1])\n",
        "\n",
        "    #Updated code\n",
        "    logits = tf.matmul(x, layers[-1][0]) + layers[-1][1]\n",
        "\n",
        "    return logits\n",
        "```\n",
        "\n",
        "###Second observation is that it is running one layer less, because there are no output layer weights, biases appended to the layers list\n",
        "\n",
        "\n",
        "\n",
        "```\n",
        "w_out = tf.Variable(tf.random.uniform([n_units, 10], -w_range, w_range),\n",
        "                    name=\"wout\")\n",
        "b_out = tf.Variable(tf.zeros(10), name=\"bout\")\n",
        "\n",
        "#Added Code\n",
        "layers.append([w_out, b_out])\n",
        "```\n",
        "\n",
        "###Third observation, even after correcting the respected above observations still the model has not improved. So the main problem which we think is weights initialisation.\n",
        "\n",
        "\n",
        "1.   We have changed the weights range from [-0.4, 0.4] to [-0.1, 0.1] and then accuracy has improved to 89%.\n",
        "2.   The other option which we tried was keeping the weight range same and decreasing the deep model layers to 4, training steps to 2000 and still the accuracy has improved a lot to 94%. The reason why we think is that multiplication factor in earlier case was too much since it has 8 layers( May be we think it is out of float scope). now the multiplication factor is better but still the number is less so it is taking long time to learn.\n",
        "3.  Reduce the learning rate to 0.0001 so that when it is back propagating, if the gradients are so high then the updation will not have negative values\n",
        "4. The gradients are exploding after the 2nd iteration itself\n",
        "\n",
        "\n",
        "\n"
      ]
    },
    {
      "cell_type": "markdown",
      "metadata": {
        "id": "JHIQto0con8I"
      },
      "source": [
        "# Task -3 (Script2 Explanation)"
      ]
    },
    {
      "cell_type": "markdown",
      "metadata": {
        "id": "HQPy-K7Pk50J"
      },
      "source": [
        "## Observations\n",
        "\n",
        "\n",
        "1.   First two observations from the above script are same\n",
        "2.   Third observation is it is using sigmoid function as an activation function, the values that are being supplied to sigmoid function are very small negative values and it is getting saturated, close to 0 values. The accuracy was 11%\n",
        "3. We tried by changing the hidden layer size(8 to 2) then it works, because in the earlier case it was multiplication so the values are bigger. The accuracy was 87%\n",
        "\n",
        "\n"
      ]
    },
    {
      "cell_type": "markdown",
      "metadata": {
        "id": "IZEHe3p1on8I"
      },
      "source": [
        "## write"
      ]
    },
    {
      "cell_type": "markdown",
      "metadata": {
        "id": "LuCVuoI-osNI"
      },
      "source": [
        "# Task -3 (Script3 Explanation)"
      ]
    },
    {
      "cell_type": "markdown",
      "metadata": {
        "id": "Q3bKv5MyosNI"
      },
      "source": [
        "## Observations\n",
        "\n",
        "\n",
        "1.   First two observations from the first script are same\n",
        "2.   Third observation is it is using relu as an activation funtion and since the weights range lie between [0, -0.1] the activation function is making them 0, so there is no learning and the loss remains same. The accuracy was 11%\n",
        "3. The solutions could be by changing the activation function to leaky relu or change the weights range. The accuracy has changed to 87% in leaky relu"
      ]
    },
    {
      "cell_type": "markdown",
      "metadata": {
        "id": "Gwqm6Y3Hosg-"
      },
      "source": [
        "# Task -3 (Script4 Explanation)"
      ]
    },
    {
      "cell_type": "markdown",
      "metadata": {
        "id": "NpiNuVcWosg-"
      },
      "source": [
        "## Observations\n",
        "\n",
        "\n",
        "1.   First two observations from the first script are same\n",
        "2.   We tried by plotting the images after the noise addition of standard deviation 2, for the number 2 it is impossible to identify with human eyes that it is 2(Too much noise). The accuracy was 80%\n",
        "\n",
        "![image.png](data:image/png;base64,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)\n",
        "\n",
        "3.  When the standard deviation is reduced to 0.1 then the image is identifiable and the accuracy has improved. The accuracy was 95.8%\n",
        "![image.png](data:image/png;base64,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)"
      ]
    },
    {
      "cell_type": "markdown",
      "metadata": {
        "id": "aMsz1cBGosz_"
      },
      "source": [
        "# Task -3 (Script5 Explanation)"
      ]
    },
    {
      "cell_type": "markdown",
      "metadata": {
        "id": "VB5z9Ullos0A"
      },
      "source": [
        "## Observations\n",
        "\n",
        "\n",
        "1.   First two observations from the first script are same\n",
        "2.   Third observation is that softmax is being applied to the logits before supplying them to the cross entropy calculation and also applying during the cross entropy calculation. Solution is to to remove the softmax during logits computation.\n",
        "3. for example if we apply softmax on [2,3,4] the output values are [0.04,0.11,0.84] and now if we apply softmax again on this [0.04,0.11,0.84] then the output values are [0.23,0.24,0.51]. Even though the highlest probability remains same, but the loss decreases when it computes by applying softmax 2 times and may need more time to converge.\n"
      ]
    },
    {
      "cell_type": "markdown",
      "metadata": {
        "id": "dA80-Dq9Nafm"
      },
      "source": [
        "#References\n",
        "\n",
        "\n",
        "1.   https://ovgu-ailab.github.io/idl2021/assignments/2/linear_tb.ipynb\n",
        "2.   https://ovgu-ailab.github.io/idl2021/assignments/2/tf_data.ipynb\n",
        "\n"
      ]
    }
  ]
}