{
  "nbformat": 4,
  "nbformat_minor": 0,
  "metadata": {
    "colab": {
      "name": "Assignment_2_MLP_tf_Srinath.ipynb",
      "provenance": [],
      "collapsed_sections": [
        "hBYC4kM2ppSs",
        "CLtYs70nqz3b",
        "wfDVrX2VunFA",
        "9PPrnT6XhaWK",
        "MQPJckjslxAT",
        "Pjp8UFAWhpfe",
        "E315g-vRTsYD",
        "InzTeW3xdRAU",
        "FQ-zwtycBgSD",
        "APwijxbtXnDH",
        "Vy7lrKcQt0dp",
        "hOBOFjNYXzvB",
        "fHLuVV4wAvZ3",
        "ZiPEmOEtdMWc",
        "vyOlYos5YpFp",
        "3NJOVEuIYucy",
        "lLvhzXncBykq"
      ],
      "mount_file_id": "1DWjTFscmM8KYCe1HVyGgweSUIia_6PAz",
      "authorship_tag": "ABX9TyPNJhOCMonqyvpjw6r5g+7o",
      "include_colab_link": true
    },
    "kernelspec": {
      "name": "python3",
      "display_name": "Python 3"
    }
  },
  "cells": [
    {
      "cell_type": "markdown",
      "metadata": {
        "id": "view-in-github",
        "colab_type": "text"
      },
      "source": [
        "<a href=\"https://colab.research.google.com/github/mannam95/Deep_Learning_Programming/blob/main/Assignment2/Assignment_2_MLP_tf_Srinath.ipynb\" target=\"_parent\"><img src=\"https://colab.research.google.com/assets/colab-badge.svg\" alt=\"Open In Colab\"/></a>"
      ]
    },
    {
      "cell_type": "markdown",
      "metadata": {
        "id": "6vn94RPJ4oTU"
      },
      "source": [
        "#Team Assignment\n",
        "\n",
        "\n",
        "1.   Srinath Mannam (229750)\n",
        "2.   Meghana Rao (234907)\n",
        "3.   Govind Shukla (235192)\n",
        "\n",
        "Note: We have used the simple wrapper class defined in datasets.py, Please use that wrapper while testing\n",
        "\n"
      ]
    },
    {
      "cell_type": "markdown",
      "metadata": {
        "id": "GW9A-uDZx9wq"
      },
      "source": [
        "#Change the directory"
      ]
    },
    {
      "cell_type": "code",
      "metadata": {
        "colab": {
          "base_uri": "https://localhost:8080/"
        },
        "id": "wam6g9cNx9HU",
        "outputId": "7c3dfd36-707a-4b2e-ec06-8b13e8704726"
      },
      "source": [
        "from google.colab import drive\n",
        "drive.mount(\"/content/drive\")"
      ],
      "execution_count": 20,
      "outputs": [
        {
          "output_type": "stream",
          "name": "stdout",
          "text": [
            "Drive already mounted at /content/drive; to attempt to forcibly remount, call drive.mount(\"/content/drive\", force_remount=True).\n"
          ]
        }
      ]
    },
    {
      "cell_type": "code",
      "metadata": {
        "id": "XxBOM49SaFl7",
        "colab": {
          "base_uri": "https://localhost:8080/",
          "height": 35
        },
        "outputId": "234459d7-87e6-4396-eb51-02bfdd413490"
      },
      "source": [
        "import os\n",
        "working_directory = '/content/drive/My Drive/Colab Notebooks/OVGU/Deep_Learning/Second_Assignment'\n",
        "if os.getcwd() !=  working_directory:\n",
        "  os.chdir(working_directory)\n",
        "os.getcwd()"
      ],
      "execution_count": 21,
      "outputs": [
        {
          "output_type": "execute_result",
          "data": {
            "application/vnd.google.colaboratory.intrinsic+json": {
              "type": "string"
            },
            "text/plain": [
              "'/content/drive/My Drive/Colab Notebooks/OVGU/Deep_Learning/Second_Assignment'"
            ]
          },
          "metadata": {},
          "execution_count": 21
        }
      ]
    },
    {
      "cell_type": "markdown",
      "metadata": {
        "id": "hBYC4kM2ppSs"
      },
      "source": [
        "#import statements"
      ]
    },
    {
      "cell_type": "code",
      "metadata": {
        "id": "mJaGiGnXpsAP"
      },
      "source": [
        "import tensorflow as tf\n",
        "import numpy as np\n",
        "import matplotlib.pyplot as plt\n",
        "from datetime import datetime"
      ],
      "execution_count": 22,
      "outputs": []
    },
    {
      "cell_type": "markdown",
      "metadata": {
        "id": "MErnA3dKWy2-"
      },
      "source": [
        "# Task -1 (MLP Script using tf.data)"
      ]
    },
    {
      "cell_type": "markdown",
      "metadata": {
        "id": "CLtYs70nqz3b"
      },
      "source": [
        "##Load Data"
      ]
    },
    {
      "cell_type": "code",
      "metadata": {
        "id": "Zegh4TeIq28p"
      },
      "source": [
        "(train_images, train_labels), (test_images, test_labels) = tf.keras.datasets.mnist.load_data()"
      ],
      "execution_count": 23,
      "outputs": []
    },
    {
      "cell_type": "code",
      "metadata": {
        "id": "Tn8ONaMC3gYG"
      },
      "source": [
        "#Re-shape the dataset and then pass it to the function which creates data into batches\n",
        "def reset_Data():\n",
        "  return MNISTDataset(train_images.reshape([-1, 784]), train_labels, \n",
        "                    test_images.reshape([-1, 784]), test_labels,\n",
        "                    batch_size=128)"
      ],
      "execution_count": 24,
      "outputs": []
    },
    {
      "cell_type": "markdown",
      "metadata": {
        "id": "wfDVrX2VunFA"
      },
      "source": [
        "## Visualize some images on some training and test data"
      ]
    },
    {
      "cell_type": "code",
      "metadata": {
        "colab": {
          "base_uri": "https://localhost:8080/",
          "height": 0
        },
        "id": "_X_MvhoZumPn",
        "outputId": "5e256173-f838-490b-8a6d-ea6e525b9707"
      },
      "source": [
        "print(train_labels[3])\n",
        "plt.imshow(train_images[3], cmap=\"Greys_r\")"
      ],
      "execution_count": 25,
      "outputs": [
        {
          "output_type": "stream",
          "name": "stdout",
          "text": [
            "1\n"
          ]
        },
        {
          "output_type": "execute_result",
          "data": {
            "text/plain": [
              "<matplotlib.image.AxesImage at 0x7fa5c3b4dfd0>"
            ]
          },
          "metadata": {},
          "execution_count": 25
        },
        {
          "output_type": "display_data",
          "data": {
            "image/png": "[encoded data removed]",
            "text/plain": [
              "<Figure size 432x288 with 1 Axes>"
            ]
          },
          "metadata": {
            "needs_background": "light"
          }
        }
      ]
    },
    {
      "cell_type": "code",
      "metadata": {
        "colab": {
          "base_uri": "https://localhost:8080/",
          "height": 0
        },
        "id": "VpaNU36_vXzy",
        "outputId": "b8fdcc99-3ab9-4d7c-ef27-cf4d88f4b06f"
      },
      "source": [
        "print(test_labels[121])\n",
        "plt.imshow(test_images[121], cmap=\"Greys_r\")"
      ],
      "execution_count": 26,
      "outputs": [
        {
          "output_type": "stream",
          "name": "stdout",
          "text": [
            "4\n"
          ]
        },
        {
          "output_type": "execute_result",
          "data": {
            "text/plain": [
              "<matplotlib.image.AxesImage at 0x7fa5c3ab7950>"
            ]
          },
          "metadata": {},
          "execution_count": 26
        },
        {
          "output_type": "display_data",
          "data": {
            "image/png": "[encoded data removed]",
            "text/plain": [
              "<Figure size 432x288 with 1 Axes>"
            ]
          },
          "metadata": {
            "needs_background": "light"
          }
        }
      ]
    },
    {
      "cell_type": "markdown",
      "metadata": {
        "id": "9PPrnT6XhaWK"
      },
      "source": [
        "## Pre-process the data\n",
        "\n"
      ]
    },
    {
      "cell_type": "markdown",
      "metadata": {
        "id": "MQPJckjslxAT"
      },
      "source": [
        "### reshape the data, normalize the input images of uni8  to 0-1 int"
      ]
    },
    {
      "cell_type": "code",
      "metadata": {
        "id": "Z8BE1rFThUk3"
      },
      "source": [
        "def preprocess_images(images):\n",
        "    return images.reshape(-1, 784).astype(np.float32) / 255\n",
        "\n",
        "def preprocess_labels(labels):\n",
        "    return labels.reshape(-1).astype(np.int32)\n",
        "\n",
        "train_images = preprocess_images(train_images)\n",
        "test_images = preprocess_images(test_images)\n",
        "train_labels = preprocess_labels(train_labels)\n",
        "test_labels = preprocess_labels(test_labels)"
      ],
      "execution_count": 27,
      "outputs": []
    },
    {
      "cell_type": "markdown",
      "metadata": {
        "id": "Pjp8UFAWhpfe"
      },
      "source": [
        "### Shuffle, Batch, Repeat \n",
        "\n",
        "1.   Shuffle the data, supported parameter buffer size\n",
        "2.   can create the batches of data\n",
        "3.   repeat how many times the data should be repeated , default value is every time create new dataset when the current one is completed"
      ]
    },
    {
      "cell_type": "code",
      "metadata": {
        "id": "YS8WCaVchXYu"
      },
      "source": [
        "train_data = tf.data.Dataset.from_tensor_slices((train_images, train_labels)).shuffle(60000).batch(128).repeat()\n",
        "test_data = tf.data.Dataset.from_tensor_slices((test_images, test_labels))"
      ],
      "execution_count": 28,
      "outputs": []
    },
    {
      "cell_type": "markdown",
      "metadata": {
        "id": "E315g-vRTsYD"
      },
      "source": [
        "##A function that will choose the activation function"
      ]
    },
    {
      "cell_type": "code",
      "metadata": {
        "id": "xVzxCDlcTyg9"
      },
      "source": [
        "def dynamicActiFunc(actFun, currLogits):\n",
        "  if actFun == \"relu\":\n",
        "    return tf.nn.relu(currLogits)\n",
        "  elif actFun == \"lrelu\":\n",
        "    return tf.nn.leaky_relu(currLogits)\n",
        "  elif actFun == \"sigmoid\":\n",
        "    return tf.nn.sigmoid(currLogits)\n",
        "  else:\n",
        "    return tf.nn.relu(currLogits)"
      ],
      "execution_count": 29,
      "outputs": []
    },
    {
      "cell_type": "markdown",
      "metadata": {
        "id": "hai0NIyaN2go"
      },
      "source": [
        "##Define a Generic function for training\n",
        "\n",
        "Observations:\n",
        "\n",
        "\n",
        "1.   Logging weights and biases for every step consumes so much power, so commented and looged for every 100 steps\n",
        "\n"
      ]
    },
    {
      "cell_type": "code",
      "metadata": {
        "id": "eqTYHVmVN06T"
      },
      "source": [
        "def model_Train(_modelConfig):\n",
        "  logdir = os.path.join(\"logs\", \"model\" + str(_modelConfig[\"number\"]) + str(datetime.now()))\n",
        "  train_writer = tf.summary.create_file_writer(os.path.join(logdir, \"train\"))\n",
        "  test_writer = tf.summary.create_file_writer(os.path.join(logdir, \"test\"))\n",
        "\n",
        "  for step, (image_batch, label_batch) in enumerate(train_data):\n",
        "      if step > _modelConfig[\"train_steps\"]:\n",
        "        break\n",
        "\n",
        "      with tf.GradientTape() as tape:\n",
        "          #loop that will goes forward for every hidden layer\n",
        "          for ind in range(len(_modelConfig[\"_weights\"])-1):\n",
        "            if ind == 0:\n",
        "              hPrevLogits = tf.matmul(image_batch, _modelConfig[\"_weights\"][ind]) + _modelConfig[\"_biases\"][ind]\n",
        "              hPrevOutput = dynamicActiFunc(_modelConfig[\"activation_func\"], hPrevLogits)\n",
        "            else :\n",
        "              hcurrLogits = tf.matmul(hPrevOutput, _modelConfig[\"_weights\"][ind]) + _modelConfig[\"_biases\"][ind]\n",
        "              hcurrOutput = dynamicActiFunc(_modelConfig[\"activation_func\"], hcurrLogits)\n",
        "              hPrevOutput = hcurrOutput\n",
        "\n",
        "          lastInd = len(_modelConfig[\"_weights\"])-1\n",
        "\n",
        "          #final output layer\n",
        "          logits = tf.matmul(hcurrOutput, _modelConfig[\"_weights\"][lastInd]) + _modelConfig[\"_biases\"][lastInd]\n",
        "          xent = tf.reduce_mean(tf.nn.sparse_softmax_cross_entropy_with_logits(\n",
        "              logits=logits, labels=label_batch))\n",
        "          \n",
        "      grads = tape.gradient(xent, [*_modelConfig[\"_weights\"], *_modelConfig[\"_biases\"]])\n",
        "\n",
        "      #update weights\n",
        "      for ind in range(len(_modelConfig[\"_weights\"])):\n",
        "        _modelConfig[\"_weights\"][ind].assign_sub(_modelConfig[\"learning_rate\"] * grads[ind])\n",
        "      \n",
        "      #update biases\n",
        "      for ind in range(len(_modelConfig[\"_biases\"])):\n",
        "        _modelConfig[\"_biases\"][ind].assign_sub(_modelConfig[\"learning_rate\"] * grads[ind + len(_modelConfig[\"_biases\"])])\n",
        "\n",
        "      # with train_writer.as_default():\n",
        "      #   tf.summary.scalar(\"loss\", xent, step=step)\n",
        "      #   tf.summary.histogram(\"logits\", logits, step=step)\n",
        "      #   for ind in range(len(_modelConfig[\"_weights\"])):\n",
        "      #     tf.summary.histogram(\"weights\"+str(ind), _modelConfig[\"_weights\"][ind], step=step)\n",
        "      #     tf.summary.histogram(\"biases\"+str(ind), _modelConfig[\"_biases\"][ind], step=step)\n",
        "\n",
        "\n",
        "      if not step % 100:\n",
        "          # print(step)\n",
        "          preds = tf.argmax(logits, axis=1, output_type=tf.int32)\n",
        "          acc = tf.reduce_mean(tf.cast(tf.equal(preds, label_batch),\n",
        "                              tf.float32))\n",
        "          # print(\"Loss: {} Accuracy: {}\".format(xent, acc))\n",
        "\n",
        "          with train_writer.as_default():\n",
        "            tf.summary.scalar(\"accuracy\", acc, step=step)\n",
        "            tf.summary.scalar(\"loss\", xent, step=step)\n",
        "            tf.summary.image(\"input\", tf.reshape(image_batch, [-1, 28, 28, 1]), step=step)\n",
        "            tf.summary.histogram(\"logits\", logits, step=step)\n",
        "            for ind in range(len(_modelConfig[\"_weights\"])):\n",
        "              tf.summary.histogram(\"weights\"+str(ind), _modelConfig[\"_weights\"][ind], step=step)\n",
        "              tf.summary.histogram(\"biases\"+str(ind), _modelConfig[\"_biases\"][ind], step=step)\n",
        "\n",
        "          #Predict for Test Dataset\n",
        "          for ind in range(len(_modelConfig[\"_weights\"])-1):\n",
        "              if ind == 0:\n",
        "                hPrevLogits_Test = tf.matmul(test_images, _modelConfig[\"_weights\"][ind]) + _modelConfig[\"_biases\"][ind]\n",
        "                hPrevOutput_Test = dynamicActiFunc(_modelConfig[\"activation_func\"], hPrevLogits_Test)\n",
        "              else :\n",
        "                hcurrLogits_Test = tf.matmul(hPrevOutput_Test, _modelConfig[\"_weights\"][ind]) + _modelConfig[\"_biases\"][ind]\n",
        "                hcurrOutput_Test = dynamicActiFunc(_modelConfig[\"activation_func\"], hcurrLogits_Test)\n",
        "                hPrevOutput_Test = hcurrOutput_Test\n",
        "\n",
        "          lastInd = len(_modelConfig[\"_weights\"])-1\n",
        "          test_preds = tf.argmax(tf.matmul(hcurrOutput_Test, _modelConfig[\"_weights\"][lastInd]) + _modelConfig[\"_biases\"][lastInd], axis=1,\n",
        "                              output_type=tf.int32)\n",
        "          test_acc = tf.reduce_mean(tf.cast(tf.equal(test_preds, test_labels),\n",
        "                                      tf.float32))\n",
        "          \n",
        "          with test_writer.as_default():\n",
        "                tf.summary.scalar(\"accuracy\", test_acc, step=step)\n",
        "          # print(\"\\nTest Accuracy: {}\".format(test_acc))"
      ],
      "execution_count": 30,
      "outputs": []
    },
    {
      "cell_type": "markdown",
      "metadata": {
        "id": "InzTeW3xdRAU"
      },
      "source": [
        "##Models Config"
      ]
    },
    {
      "cell_type": "markdown",
      "metadata": {
        "id": "FQ-zwtycBgSD"
      },
      "source": [
        "###Declartions"
      ]
    },
    {
      "cell_type": "code",
      "metadata": {
        "id": "TIxJxc0H9BZp"
      },
      "source": [
        "modelConfig1 = {}\n",
        "modelConfig2 = {}\n",
        "modelConfig3 = {}\n",
        "modelConfig4 = {}\n",
        "modelConfig5 = {}\n",
        "modelConfig6 = {}\n",
        "modelConfig7 = {}\n",
        "modelConfig8 = {}"
      ],
      "execution_count": 31,
      "outputs": []
    },
    {
      "cell_type": "markdown",
      "metadata": {
        "id": "APwijxbtXnDH"
      },
      "source": [
        "###Relu Activation Function"
      ]
    },
    {
      "cell_type": "markdown",
      "metadata": {
        "id": "Vy7lrKcQt0dp"
      },
      "source": [
        "####Define params Model1, 2, 3, 4"
      ]
    },
    {
      "cell_type": "code",
      "metadata": {
        "id": "Cuohb9MMt9Ws"
      },
      "source": [
        "def relu_Config_Reset():\n",
        "    global modelConfig1, modelConfig2, modelConfig3, modelConfig4\n",
        "    modelConfig1 = {\n",
        "        \"train_steps\" : 1000,\n",
        "        \"learning_rate\" : 0.1,\n",
        "        \"activation_func\" : \"relu\",\n",
        "        \"number\": 1,\n",
        "\n",
        "        \"_weights\" : [\n",
        "            tf.Variable(tf.random.uniform([784, 512], minval=-0.1, maxval=0.1, dtype=np.float32)),\n",
        "            tf.Variable(tf.random.uniform([512, 256], minval=-0.1, maxval=0.1, dtype=np.float32)),\n",
        "            tf.Variable(tf.random.uniform([256, 10], minval=-0.1, maxval=0.1, dtype=np.float32))\n",
        "        ],\n",
        "\n",
        "        \"_biases\" : [\n",
        "            tf.Variable(np.zeros(512, dtype=np.float32)),\n",
        "            tf.Variable(np.zeros(256, dtype=np.float32)),\n",
        "            tf.Variable(np.zeros(10, dtype=np.float32))\n",
        "        ]\n",
        "    }\n",
        "\n",
        "    modelConfig2 = {\n",
        "        \"train_steps\" : 2000,\n",
        "        \"learning_rate\" : 0.01,\n",
        "        \"activation_func\" : \"relu\",\n",
        "        \"number\": 2,\n",
        "\n",
        "        \"_weights\" : [\n",
        "            tf.Variable(tf.random.uniform([784, 512], minval=-0.1, maxval=0.1, dtype=np.float32)),\n",
        "            tf.Variable(tf.random.uniform([512, 256], minval=-0.1, maxval=0.1, dtype=np.float32)),\n",
        "            tf.Variable(tf.random.uniform([256, 10], minval=-0.1, maxval=0.1, dtype=np.float32))\n",
        "        ],\n",
        "\n",
        "        \"_biases\" : [\n",
        "            tf.Variable(np.zeros(512, dtype=np.float32)),\n",
        "            tf.Variable(np.zeros(256, dtype=np.float32)),\n",
        "            tf.Variable(np.zeros(10, dtype=np.float32))\n",
        "        ]\n",
        "    }\n",
        "\n",
        "    modelConfig3 = {\n",
        "        \"train_steps\" : 1000,\n",
        "        \"learning_rate\" : 0.1,\n",
        "        \"activation_func\" : \"relu\",\n",
        "        \"number\": 3,\n",
        "\n",
        "        \"_weights\" : [\n",
        "            tf.Variable(tf.random.uniform([784, 1568], minval=-0.1, maxval=0.1, dtype=np.float32)),\n",
        "            tf.Variable(tf.random.uniform([1568, 512], minval=-0.1, maxval=0.1, dtype=np.float32)),\n",
        "            tf.Variable(tf.random.uniform([512, 256], minval=-0.1, maxval=0.1, dtype=np.float32)),\n",
        "            tf.Variable(tf.random.uniform([256, 10], minval=-0.1, maxval=0.1, dtype=np.float32))\n",
        "        ],\n",
        "\n",
        "        \"_biases\" : [\n",
        "            tf.Variable(np.zeros(1568, dtype=np.float32)),\n",
        "            tf.Variable(np.zeros(512, dtype=np.float32)),\n",
        "            tf.Variable(np.zeros(256, dtype=np.float32)),\n",
        "            tf.Variable(np.zeros(10, dtype=np.float32))\n",
        "        ]\n",
        "    }\n",
        "\n",
        "    modelConfig4 = {\n",
        "        \"train_steps\" : 1000,\n",
        "        \"learning_rate\" : 0.1,\n",
        "        \"activation_func\" : \"relu\",\n",
        "        \"number\": 4,\n",
        "\n",
        "        \"_weights\" : [\n",
        "            tf.Variable(tf.random.uniform([784, 512], minval=-0.15, maxval=0.15, dtype=np.float32)),\n",
        "            tf.Variable(tf.random.uniform([512, 256], minval=-0.15, maxval=0.15, dtype=np.float32)),\n",
        "            tf.Variable(tf.random.uniform([256, 10], minval=-0.15, maxval=0.15, dtype=np.float32))\n",
        "        ],\n",
        "\n",
        "        \"_biases\" : [\n",
        "            tf.Variable(np.zeros(512, dtype=np.float32)),\n",
        "            tf.Variable(np.zeros(256, dtype=np.float32)),\n",
        "            tf.Variable(np.zeros(10, dtype=np.float32))\n",
        "        ]\n",
        "    }"
      ],
      "execution_count": 32,
      "outputs": []
    },
    {
      "cell_type": "markdown",
      "metadata": {
        "id": "hOBOFjNYXzvB"
      },
      "source": [
        "###Sigmoid Activation Function"
      ]
    },
    {
      "cell_type": "markdown",
      "metadata": {
        "id": "fHLuVV4wAvZ3"
      },
      "source": [
        "####Define params Models 5, 6, 7, 8"
      ]
    },
    {
      "cell_type": "code",
      "metadata": {
        "id": "Q1XaMIHcA29k"
      },
      "source": [
        "def sigmoid_Config_Reset():\n",
        "    global modelConfig5, modelConfig6, modelConfig7, modelConfig8\n",
        "    modelConfig5 = {\n",
        "        \"train_steps\" : 1000,\n",
        "        \"learning_rate\" : 0.1,\n",
        "        \"activation_func\" : \"sigmoid\",\n",
        "        \"number\": 5,\n",
        "\n",
        "        \"_weights\" : [\n",
        "            tf.Variable(tf.random.uniform([784, 512], minval=-0.1, maxval=0.1, dtype=np.float32)),\n",
        "            tf.Variable(tf.random.uniform([512, 256], minval=-0.1, maxval=0.1, dtype=np.float32)),\n",
        "            tf.Variable(tf.random.uniform([256, 10], minval=-0.1, maxval=0.1, dtype=np.float32))\n",
        "        ],\n",
        "\n",
        "        \"_biases\" : [\n",
        "            tf.Variable(np.zeros(512, dtype=np.float32)),\n",
        "            tf.Variable(np.zeros(256, dtype=np.float32)),\n",
        "            tf.Variable(np.zeros(10, dtype=np.float32))\n",
        "        ]\n",
        "    }\n",
        "\n",
        "    modelConfig6 = {\n",
        "        \"train_steps\" : 2000,\n",
        "        \"learning_rate\" : 0.01,\n",
        "        \"activation_func\" : \"sigmoid\",\n",
        "        \"number\": 6,\n",
        "\n",
        "        \"_weights\" : [\n",
        "            tf.Variable(tf.random.uniform([784, 512], minval=-0.1, maxval=0.1, dtype=np.float32)),\n",
        "            tf.Variable(tf.random.uniform([512, 256], minval=-0.1, maxval=0.1, dtype=np.float32)),\n",
        "            tf.Variable(tf.random.uniform([256, 10], minval=-0.1, maxval=0.1, dtype=np.float32))\n",
        "        ],\n",
        "\n",
        "        \"_biases\" : [\n",
        "            tf.Variable(np.zeros(512, dtype=np.float32)),\n",
        "            tf.Variable(np.zeros(256, dtype=np.float32)),\n",
        "            tf.Variable(np.zeros(10, dtype=np.float32))\n",
        "        ]\n",
        "    }\n",
        "\n",
        "    modelConfig7 = {\n",
        "        \"train_steps\" : 1000,\n",
        "        \"learning_rate\" : 0.1,\n",
        "        \"activation_func\" : \"sigmoid\",\n",
        "        \"number\": 7,\n",
        "\n",
        "        \"_weights\" : [\n",
        "            tf.Variable(tf.random.uniform([784, 1568], minval=-0.1, maxval=0.1, dtype=np.float32)),\n",
        "            tf.Variable(tf.random.uniform([1568, 512], minval=-0.1, maxval=0.1, dtype=np.float32)),\n",
        "            tf.Variable(tf.random.uniform([512, 256], minval=-0.1, maxval=0.1, dtype=np.float32)),\n",
        "            tf.Variable(tf.random.uniform([256, 10], minval=-0.1, maxval=0.1, dtype=np.float32))\n",
        "        ],\n",
        "\n",
        "        \"_biases\" : [\n",
        "            tf.Variable(np.zeros(1568, dtype=np.float32)),\n",
        "            tf.Variable(np.zeros(512, dtype=np.float32)),\n",
        "            tf.Variable(np.zeros(256, dtype=np.float32)),\n",
        "            tf.Variable(np.zeros(10, dtype=np.float32))\n",
        "        ]\n",
        "    }\n",
        "\n",
        "    modelConfig8 = {\n",
        "        \"train_steps\" : 1000,\n",
        "        \"learning_rate\" : 0.1,\n",
        "        \"activation_func\" : \"sigmoid\",\n",
        "        \"number\": 8,\n",
        "\n",
        "        \"_weights\" : [\n",
        "            tf.Variable(tf.random.uniform([784, 512], minval=-0.15, maxval=0.15, dtype=np.float32)),\n",
        "            tf.Variable(tf.random.uniform([512, 256], minval=-0.15, maxval=0.15, dtype=np.float32)),\n",
        "            tf.Variable(tf.random.uniform([256, 10], minval=-0.15, maxval=0.15, dtype=np.float32))\n",
        "        ],\n",
        "\n",
        "        \"_biases\" : [\n",
        "            tf.Variable(np.zeros(512, dtype=np.float32)),\n",
        "            tf.Variable(np.zeros(256, dtype=np.float32)),\n",
        "            tf.Variable(np.zeros(10, dtype=np.float32))\n",
        "        ]\n",
        "    }"
      ],
      "execution_count": 33,
      "outputs": []
    },
    {
      "cell_type": "markdown",
      "metadata": {
        "id": "ZiPEmOEtdMWc"
      },
      "source": [
        "##Models Training"
      ]
    },
    {
      "cell_type": "markdown",
      "metadata": {
        "id": "vyOlYos5YpFp"
      },
      "source": [
        "###Relu Models Training"
      ]
    },
    {
      "cell_type": "code",
      "metadata": {
        "colab": {
          "base_uri": "https://localhost:8080/"
        },
        "id": "HhaPfa4jYOTK",
        "outputId": "f222fb90-31ec-4b1e-88a0-bb60c9c9f5f7"
      },
      "source": [
        "relu_Config_Reset()\n",
        "\n",
        "print(\"Model1 Start\")\n",
        "model_Train(modelConfig1)\n",
        "print(\"Model1 End\")\n",
        "print(\"\\n\")\n",
        "\n",
        "print(\"Model2 Start\")\n",
        "model_Train(modelConfig2)\n",
        "print(\"Model2 End\")\n",
        "print(\"\\n\")\n",
        "\n",
        "print(\"Model3 Start\")\n",
        "model_Train(modelConfig3)\n",
        "print(\"Model3 End\")\n",
        "print(\"\\n\")\n",
        "\n",
        "print(\"Model4 Start\")\n",
        "model_Train(modelConfig4)\n",
        "print(\"Model4 End\")\n",
        "print(\"\\n\")"
      ],
      "execution_count": 34,
      "outputs": [
        {
          "output_type": "stream",
          "name": "stdout",
          "text": [
            "Model1 Start\n",
            "Model1 End\n",
            "\n",
            "\n",
            "Model2 Start\n",
            "Model2 End\n",
            "\n",
            "\n",
            "Model3 Start\n",
            "Model3 End\n",
            "\n",
            "\n",
            "Model4 Start\n",
            "Model4 End\n",
            "\n",
            "\n"
          ]
        }
      ]
    },
    {
      "cell_type": "markdown",
      "metadata": {
        "id": "3NJOVEuIYucy"
      },
      "source": [
        "###Sigmoid Models Training"
      ]
    },
    {
      "cell_type": "code",
      "metadata": {
        "colab": {
          "base_uri": "https://localhost:8080/"
        },
        "id": "gjtYERLaYucy",
        "outputId": "d4f688dc-7310-4666-e2ad-2d4dec3d224c"
      },
      "source": [
        "sigmoid_Config_Reset()\n",
        "\n",
        "print(\"Model5 Start\")\n",
        "model_Train(modelConfig5)\n",
        "print(\"Model5 End\")\n",
        "print(\"\\n\")\n",
        "\n",
        "print(\"Model6 Start\")\n",
        "model_Train(modelConfig6)\n",
        "print(\"Model6 End\")\n",
        "print(\"\\n\")\n",
        "\n",
        "print(\"Model7 Start\")\n",
        "model_Train(modelConfig7)\n",
        "print(\"Model7 End\")\n",
        "print(\"\\n\")\n",
        "\n",
        "print(\"Model8 Start\")\n",
        "model_Train(modelConfig8)\n",
        "print(\"Model8 End\")\n",
        "print(\"\\n\")"
      ],
      "execution_count": 35,
      "outputs": [
        {
          "output_type": "stream",
          "name": "stdout",
          "text": [
            "Model5 Start\n",
            "Model5 End\n",
            "\n",
            "\n",
            "Model6 Start\n",
            "Model6 End\n",
            "\n",
            "\n",
            "Model7 Start\n",
            "Model7 End\n",
            "\n",
            "\n",
            "Model8 Start\n",
            "Model8 End\n",
            "\n",
            "\n"
          ]
        }
      ]
    },
    {
      "cell_type": "markdown",
      "metadata": {
        "id": "lLvhzXncBykq"
      },
      "source": [
        "##Tensor board"
      ]
    },
    {
      "cell_type": "code",
      "metadata": {
        "id": "vyUT_EFYyIQy"
      },
      "source": [
        "# %load_ext tensorboard"
      ],
      "execution_count": 36,
      "outputs": []
    },
    {
      "cell_type": "code",
      "metadata": {
        "id": "_-ZCezc3yKx8"
      },
      "source": [
        "# %tensorboard --logdir logs"
      ],
      "execution_count": 37,
      "outputs": []
    },
    {
      "cell_type": "markdown",
      "metadata": {
        "id": "Gm0c4_aajkbW"
      },
      "source": [
        "# Task - 2\n",
        "\n",
        "\n",
        "\n",
        "\n"
      ]
    },
    {
      "cell_type": "markdown",
      "metadata": {
        "id": "rpiFdb8Glgvw"
      },
      "source": [
        "## A description of what the six shuffle/batch/repeat orderings do (on a conceptual level) and which one you think is the most sensible for training neural networks"
      ]
    },
    {
      "cell_type": "markdown",
      "metadata": {
        "id": "bdSir0D4jszn"
      },
      "source": [
        "### Explanations\n",
        "\n",
        "\n",
        "\n",
        "1.   tf.data.shuffle basically shuffles the data, it buffer size as parameter, meaning if the the tensor contains 1000 values and buffer size is 100 then it shuffles first 100(from 1- 100) at one time and next time (2 -101)... so on\n",
        "2.   tf.data.batch divides the dataset into the supplied number of batches\n",
        "3.   tf.data.repeat generates specified number of times the dataset, if we want to train our model with 30 epochs, then it generates 30 times the same dataset.... important thing to be noted is it will not generate the next dataset until the current one is completed\n",
        "\n"
      ]
    },
    {
      "cell_type": "markdown",
      "metadata": {
        "id": "Whm-YDtgYm5G"
      },
      "source": [
        "#Script1 Explanation"
      ]
    },
    {
      "cell_type": "markdown",
      "metadata": {
        "id": "GtxuCEXxYsX9"
      },
      "source": [
        "#Script2 Explanation"
      ]
    },
    {
      "cell_type": "markdown",
      "metadata": {
        "id": "Lvpbr79UYr8_"
      },
      "source": [
        "#Script3 Explanation"
      ]
    },
    {
      "cell_type": "markdown",
      "metadata": {
        "id": "J_W8-V2gYrma"
      },
      "source": [
        "#Script4 Explanation"
      ]
    },
    {
      "cell_type": "markdown",
      "metadata": {
        "id": "r4IA42TwYrJc"
      },
      "source": [
        "#Script5 Explanation"
      ]
    },
    {
      "cell_type": "markdown",
      "metadata": {
        "id": "dA80-Dq9Nafm"
      },
      "source": [
        "#References\n",
        "\n",
        "\n",
        "1.   https://ovgu-ailab.github.io/idl2021/assignments/2/linear_tb.ipynb\n",
        "2.   https://ovgu-ailab.github.io/idl2021/assignments/2/tf_data.ipynb\n",
        "\n"
      ]
    }
  ]
}