{
  "nbformat": 4,
  "nbformat_minor": 0,
  "metadata": {
    "colab": {
      "name": "IDL_Assignment_6_Govind.ipynb",
      "provenance": [],
      "collapsed_sections": [
        "byXvQtSfWFYs"
      ],
      "authorship_tag": "ABX9TyNczGQq4UE8F9gw2Pr0rCi7",
      "include_colab_link": true
    },
    "kernelspec": {
      "name": "python3",
      "display_name": "Python 3"
    },
    "language_info": {
      "name": "python"
    },
    "accelerator": "GPU"
  },
  "cells": [
    {
      "cell_type": "markdown",
      "metadata": {
        "id": "view-in-github",
        "colab_type": "text"
      },
      "source": [
        "<a href=\"https://colab.research.google.com/github/mannam95/Deep_Learning_Programming/blob/main/Assignment6/IDL_Assignment_6_Govind.ipynb\" target=\"_parent\"><img src=\"https://colab.research.google.com/assets/colab-badge.svg\" alt=\"Open In Colab\"/></a>"
      ]
    },
    {
      "cell_type": "markdown",
      "metadata": {
        "id": "vMFH6RObWKOh"
      },
      "source": [
        "#Imports"
      ]
    },
    {
      "cell_type": "code",
      "metadata": {
        "id": "m3QH7swcAkyn"
      },
      "source": [
        "import tensorflow as tf\n",
        "import numpy as np\n",
        "from matplotlib import pyplot as plt"
      ],
      "execution_count": 1,
      "outputs": []
    },
    {
      "cell_type": "markdown",
      "metadata": {
        "id": "H7x4JuwYWM0f"
      },
      "source": [
        "#DataLoader"
      ]
    },
    {
      "cell_type": "code",
      "metadata": {
        "id": "iyj4aifuAT8U"
      },
      "source": [
        "class Dataloader:\n",
        "  def __init__(self, vocab_size):\n",
        "    self.vocab_size = vocab_size\n",
        "    \n",
        "  def preprocess(self, sequences, labels):\n",
        "    return sequences, labels.astype(np.int32)\n",
        "  \n",
        "  def load_and_preprocess(self):\n",
        "    (train_sequences, train_labels), (test_sequences, test_labels) = tf.keras.datasets.imdb.load_data(num_words=self.vocab_size)\n",
        "    train_sequences, train_labels = self.preprocess(train_sequences, train_labels)\n",
        "    test_sequences, test_labels = self.preprocess(test_sequences, test_labels)\n",
        "    \n",
        "    return train_sequences, train_labels, test_sequences, test_labels"
      ],
      "execution_count": 2,
      "outputs": []
    },
    {
      "cell_type": "markdown",
      "metadata": {
        "id": "x2P8hg7QWQQE"
      },
      "source": [
        "#Helper Functions"
      ]
    },
    {
      "cell_type": "code",
      "metadata": {
        "id": "4Tjitw8uewad"
      },
      "source": [
        "def gentrain():\n",
        "    for sequence, label in zip(train_sequences, train_labels):\n",
        "        yield sequence, label\n",
        "\n",
        "def gentest():\n",
        "    for sequence, label in zip(test_sequences, test_labels):\n",
        "        yield sequence, label\n",
        "\n",
        "\n",
        "def get_train_test_data(gentrain, gentest):\n",
        "  train_data = tf.data.Dataset.from_generator(gentrain, output_signature=(\n",
        "          tf.TensorSpec(shape=(None,), dtype=tf.int32),\n",
        "          tf.TensorSpec(shape=(), dtype=tf.int32)))\n",
        "  \n",
        "  test_data = tf.data.Dataset.from_generator(gentest, output_signature=(\n",
        "          tf.TensorSpec(shape=(None,), dtype=tf.int32),\n",
        "          tf.TensorSpec(shape=(), dtype=tf.int32)))\n",
        "  return train_data, test_data"
      ],
      "execution_count": 5,
      "outputs": []
    },
    {
      "cell_type": "markdown",
      "metadata": {
        "id": "oItH9OAgWUEF"
      },
      "source": [
        "##Bucketing"
      ]
    },
    {
      "cell_type": "code",
      "metadata": {
        "id": "_KgxFcnSVHqV"
      },
      "source": [
        "def do_bucketing(train_data, batchSize, bucketStep, maxBucketLen):\n",
        "  buckets = []\n",
        "  bucketsize = 0\n",
        "  while bucketsize < maxBucketLen:\n",
        "    bucketsize = bucketsize + bucketStep\n",
        "    buckets.append(bucketsize)\n",
        "  bucket_batch_size = [batchSize] * (len(buckets) + 1)\n",
        "  return train_data.bucket_by_sequence_length(lambda sequence, label: tf.shape(sequence)[0],\n",
        "                                                bucket_boundaries=buckets, bucket_batch_sizes=bucket_batch_size, drop_remainder = True)"
      ],
      "execution_count": 6,
      "outputs": []
    },
    {
      "cell_type": "markdown",
      "metadata": {
        "id": "TgGoJ17Pobiz"
      },
      "source": [
        "#Prepare Data"
      ]
    },
    {
      "cell_type": "code",
      "metadata": {
        "colab": {
          "base_uri": "https://localhost:8080/"
        },
        "id": "SlNvIZAsf7Bb",
        "outputId": "b4c9e737-ddf4-471f-c476-02c35bf1d0d8"
      },
      "source": [
        "data_loader = Dataloader(20000)\n",
        "train_sequences, train_labels, test_sequences, test_labels = data_loader.load_and_preprocess()"
      ],
      "execution_count": 7,
      "outputs": [
        {
          "output_type": "stream",
          "name": "stdout",
          "text": [
            "Downloading data from https://storage.googleapis.com/tensorflow/tf-keras-datasets/imdb.npz\n",
            "17465344/17464789 [==============================] - 0s 0us/step\n",
            "17473536/17464789 [==============================] - 0s 0us/step\n"
          ]
        }
      ]
    },
    {
      "cell_type": "code",
      "metadata": {
        "id": "PkSpfldT7FVt"
      },
      "source": [
        "train_data, test_data = get_train_test_data(gentrain, gentest)\n",
        "train_data = do_bucketing(train_data, batchSize=32, bucketStep=100, maxBucketLen=1000)\n",
        "test_data = do_bucketing(test_data, batchSize=32, bucketStep=100, maxBucketLen=1000)"
      ],
      "execution_count": 8,
      "outputs": []
    },
    {
      "cell_type": "code",
      "metadata": {
        "id": "rfIWPQ5gfhBB"
      },
      "source": [
        "# Splitting the dataset for training and testing.\n",
        "def is_val(x, _):\n",
        "    return x % 4 == 0\n",
        "\n",
        "\n",
        "def is_train(x, y):\n",
        "    return not is_val(x, y)\n",
        "\n",
        "\n",
        "recover = lambda x, y: y\n",
        "\n",
        "# Split the dataset for validation.\n",
        "val_dataset = train_data.enumerate() \\\n",
        "    .filter(is_val) \\\n",
        "    .map(recover)\n",
        "\n",
        "# Split the dataset for training\n",
        "train_dataset = train_data.enumerate() \\\n",
        "    .filter(is_train) \\\n",
        "    .map(recover)"
      ],
      "execution_count": 9,
      "outputs": []
    },
    {
      "cell_type": "markdown",
      "metadata": {
        "id": "byXvQtSfWFYs"
      },
      "source": [
        "#Alpa_Model"
      ]
    },
    {
      "cell_type": "code",
      "metadata": {
        "id": "Uc8UFoG7VoiA"
      },
      "source": [
        "alpha_model = tf.keras.Sequential([\n",
        "    tf.keras.layers.Embedding(\n",
        "        input_dim=20000,\n",
        "        output_dim=32,\n",
        "        # Use masking to handle the variable sequence lengths\n",
        "        mask_zero=True),\n",
        "    tf.keras.layers.LSTM(12, activation='tanh', kernel_initializer='glorot_uniform', kernel_regularizer= tf.keras.regularizers.L1L2(l1=0.01, l2=0.01)\n",
        "                              ,return_sequences=True, dropout=0.2),\n",
        "    tf.keras.layers.LSTM(15, activation='tanh', kernel_initializer='glorot_uniform', dropout=0.4),\n",
        "    tf.keras.layers.Dense(1)\n",
        "])"
      ],
      "execution_count": 17,
      "outputs": []
    },
    {
      "cell_type": "code",
      "metadata": {
        "colab": {
          "base_uri": "https://localhost:8080/"
        },
        "id": "5ltERtuzTzF7",
        "outputId": "942e8c76-19d9-44a3-8e9a-6db0f0e483b7"
      },
      "source": [
        "alpha_model.compile(loss=tf.keras.losses.BinaryCrossentropy(from_logits=True),\n",
        "              optimizer=tf.keras.optimizers.Adam(1e-4),\n",
        "              metrics=['accuracy'])\n",
        "alpha_model.summary()"
      ],
      "execution_count": 18,
      "outputs": [
        {
          "output_type": "stream",
          "name": "stdout",
          "text": [
            "Model: \"sequential_2\"\n",
            "_________________________________________________________________\n",
            " Layer (type)                Output Shape              Param #   \n",
            "=================================================================\n",
            " embedding_2 (Embedding)     (None, None, 32)          640000    \n",
            "                                                                 \n",
            " lstm_4 (LSTM)               (None, None, 12)          2160      \n",
            "                                                                 \n",
            " lstm_5 (LSTM)               (None, 15)                1680      \n",
            "                                                                 \n",
            " dense_2 (Dense)             (None, 1)                 16        \n",
            "                                                                 \n",
            "=================================================================\n",
            "Total params: 643,856\n",
            "Trainable params: 643,856\n",
            "Non-trainable params: 0\n",
            "_________________________________________________________________\n"
          ]
        }
      ]
    },
    {
      "cell_type": "code",
      "metadata": {
        "colab": {
          "base_uri": "https://localhost:8080/"
        },
        "id": "lfwrX1U6S78Z",
        "outputId": "736eebc1-3f20-430f-e8ce-b8954e76975b"
      },
      "source": [
        "history = alpha_model.fit(train_dataset, validation_data= val_dataset, epochs=10)"
      ],
      "execution_count": 19,
      "outputs": [
        {
          "output_type": "stream",
          "name": "stdout",
          "text": [
            "Epoch 1/10\n",
            "582/582 [==============================] - 83s 120ms/step - loss: 2.6629 - accuracy: 0.5021 - val_loss: 2.1412 - val_accuracy: 0.4940\n",
            "Epoch 2/10\n",
            "582/582 [==============================] - 67s 114ms/step - loss: 1.6849 - accuracy: 0.6763 - val_loss: 1.3021 - val_accuracy: 0.8429\n",
            "Epoch 3/10\n",
            "582/582 [==============================] - 67s 115ms/step - loss: 1.0333 - accuracy: 0.8655 - val_loss: 0.8598 - val_accuracy: 0.8444\n",
            "Epoch 4/10\n",
            "582/582 [==============================] - 66s 114ms/step - loss: 0.6346 - accuracy: 0.9022 - val_loss: 0.6034 - val_accuracy: 0.8502\n",
            "Epoch 5/10\n",
            "582/582 [==============================] - 67s 115ms/step - loss: 0.4137 - accuracy: 0.9237 - val_loss: 0.4871 - val_accuracy: 0.8610\n",
            "Epoch 6/10\n",
            "582/582 [==============================] - 66s 113ms/step - loss: 0.3262 - accuracy: 0.9383 - val_loss: 0.4524 - val_accuracy: 0.8700\n",
            "Epoch 7/10\n",
            "582/582 [==============================] - 67s 114ms/step - loss: 0.2809 - accuracy: 0.9498 - val_loss: 0.4399 - val_accuracy: 0.8742\n",
            "Epoch 8/10\n",
            "582/582 [==============================] - 66s 114ms/step - loss: 0.2412 - accuracy: 0.9564 - val_loss: 0.4261 - val_accuracy: 0.8805\n",
            "Epoch 9/10\n",
            "582/582 [==============================] - 67s 114ms/step - loss: 0.2112 - accuracy: 0.9649 - val_loss: 0.4231 - val_accuracy: 0.8736\n",
            "Epoch 10/10\n",
            "582/582 [==============================] - 66s 114ms/step - loss: 0.1868 - accuracy: 0.9697 - val_loss: 0.4436 - val_accuracy: 0.8740\n"
          ]
        }
      ]
    },
    {
      "cell_type": "code",
      "metadata": {
        "colab": {
          "base_uri": "https://localhost:8080/"
        },
        "id": "X83pSJaGT4ZO",
        "outputId": "c046e923-0e12-441f-dca3-e6b600b95522"
      },
      "source": [
        "test_loss, test_acc = alpha_model.evaluate(test_data)\n",
        "\n",
        "print('Test Loss:', test_loss)\n",
        "print('Test Accuracy:', test_acc)"
      ],
      "execution_count": 20,
      "outputs": [
        {
          "output_type": "stream",
          "name": "stdout",
          "text": [
            "775/775 [==============================] - 36s 47ms/step - loss: 0.5046 - accuracy: 0.8492\n",
            "Test Loss: 0.5046475529670715\n",
            "Test Accuracy: 0.849233865737915\n"
          ]
        }
      ]
    },
    {
      "cell_type": "markdown",
      "metadata": {
        "id": "bPOa3SacWZ2k"
      },
      "source": [
        "#Beta_Model"
      ]
    },
    {
      "cell_type": "code",
      "metadata": {
        "id": "Xf5Ltf4ye0DK"
      },
      "source": [
        "beta_model = tf.keras.Sequential([\n",
        "    tf.keras.layers.Embedding(\n",
        "        input_dim=20000,\n",
        "        output_dim=64,\n",
        "        # Use masking to handle the variable sequence lengths\n",
        "        mask_zero=True),\n",
        "    tf.keras.layers.LSTM(12, activation='tanh', kernel_initializer='glorot_uniform', kernel_regularizer= tf.keras.regularizers.L1L2(l1=0.01, l2=0.01)\n",
        "                              ,return_sequences=True, dropout=0.2),\n",
        "    tf.keras.layers.Bidirectional(tf.keras.layers.LSTM(15)),\n",
        "\n",
        "    tf.keras.layers.Dense(1)\n",
        "])"
      ],
      "execution_count": 10,
      "outputs": []
    },
    {
      "cell_type": "code",
      "metadata": {
        "colab": {
          "base_uri": "https://localhost:8080/"
        },
        "id": "C7qQFVSOeDnJ",
        "outputId": "871e2166-e123-4b04-ac39-d6f462e5dbbd"
      },
      "source": [
        "beta_model.compile(loss=tf.keras.losses.BinaryCrossentropy(from_logits=True),\n",
        "              optimizer=tf.keras.optimizers.Adam(1e-4),\n",
        "              metrics=['accuracy'])\n",
        "beta_model.summary()"
      ],
      "execution_count": 11,
      "outputs": [
        {
          "output_type": "stream",
          "name": "stdout",
          "text": [
            "Model: \"sequential\"\n",
            "_________________________________________________________________\n",
            " Layer (type)                Output Shape              Param #   \n",
            "=================================================================\n",
            " embedding (Embedding)       (None, None, 64)          1280000   \n",
            "                                                                 \n",
            " lstm (LSTM)                 (None, None, 12)          3696      \n",
            "                                                                 \n",
            " bidirectional (Bidirectiona  (None, 30)               3360      \n",
            " l)                                                              \n",
            "                                                                 \n",
            " dense (Dense)               (None, 1)                 31        \n",
            "                                                                 \n",
            "=================================================================\n",
            "Total params: 1,287,087\n",
            "Trainable params: 1,287,087\n",
            "Non-trainable params: 0\n",
            "_________________________________________________________________\n"
          ]
        }
      ]
    },
    {
      "cell_type": "code",
      "metadata": {
        "colab": {
          "base_uri": "https://localhost:8080/"
        },
        "id": "3_w1SpYJesIu",
        "outputId": "b867fe68-9bc4-4dcc-c3e1-42bc2f28a4d9"
      },
      "source": [
        "history = beta_model.fit(train_dataset, validation_data= val_dataset, epochs=10)"
      ],
      "execution_count": 23,
      "outputs": [
        {
          "output_type": "stream",
          "name": "stdout",
          "text": [
            "Epoch 1/10\n",
            "582/582 [==============================] - 84s 128ms/step - loss: 0.6676 - accuracy: 0.5309 - val_loss: 0.5198 - val_accuracy: 0.7874\n",
            "Epoch 2/10\n",
            "582/582 [==============================] - 72s 123ms/step - loss: 0.3911 - accuracy: 0.8427 - val_loss: 0.3549 - val_accuracy: 0.8523\n",
            "Epoch 3/10\n",
            "582/582 [==============================] - 72s 123ms/step - loss: 0.2784 - accuracy: 0.8916 - val_loss: 0.3070 - val_accuracy: 0.8763\n",
            "Epoch 4/10\n",
            "582/582 [==============================] - 72s 124ms/step - loss: 0.2272 - accuracy: 0.9155 - val_loss: 0.2907 - val_accuracy: 0.8819\n",
            "Epoch 5/10\n",
            "582/582 [==============================] - 72s 123ms/step - loss: 0.1998 - accuracy: 0.9254 - val_loss: 0.2888 - val_accuracy: 0.8840\n",
            "Epoch 6/10\n",
            "582/582 [==============================] - 72s 123ms/step - loss: 0.1557 - accuracy: 0.9489 - val_loss: 0.2997 - val_accuracy: 0.8811\n",
            "Epoch 7/10\n",
            "582/582 [==============================] - 71s 122ms/step - loss: 0.1339 - accuracy: 0.9575 - val_loss: 0.3079 - val_accuracy: 0.8726\n",
            "Epoch 8/10\n",
            "582/582 [==============================] - 72s 123ms/step - loss: 0.1206 - accuracy: 0.9629 - val_loss: 0.3211 - val_accuracy: 0.8787\n",
            "Epoch 9/10\n",
            "582/582 [==============================] - 71s 122ms/step - loss: 0.0948 - accuracy: 0.9721 - val_loss: 0.3399 - val_accuracy: 0.8748\n",
            "Epoch 10/10\n",
            "582/582 [==============================] - 72s 124ms/step - loss: 0.0869 - accuracy: 0.9738 - val_loss: 0.3276 - val_accuracy: 0.8853\n"
          ]
        }
      ]
    },
    {
      "cell_type": "code",
      "metadata": {
        "colab": {
          "base_uri": "https://localhost:8080/"
        },
        "id": "H0eL4gHxe1hg",
        "outputId": "0468c048-7a26-49e9-c5b0-eb5e75e615c5"
      },
      "source": [
        "test_loss, test_acc = beta_model.evaluate(test_data)\n",
        "\n",
        "print('Test Loss:', test_loss)\n",
        "print('Test Accuracy:', test_acc)"
      ],
      "execution_count": 24,
      "outputs": [
        {
          "output_type": "stream",
          "name": "stdout",
          "text": [
            "775/775 [==============================] - 39s 50ms/step - loss: 0.3538 - accuracy: 0.8712\n",
            "Test Loss: 0.35378602147102356\n",
            "Test Accuracy: 0.8712499737739563\n"
          ]
        }
      ]
    }
  ]
}