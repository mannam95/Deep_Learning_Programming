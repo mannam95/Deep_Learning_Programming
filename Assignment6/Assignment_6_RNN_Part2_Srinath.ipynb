{
  "nbformat": 4,
  "nbformat_minor": 0,
  "metadata": {
    "colab": {
      "name": "Assignment_6_RNN_Part2_Srinath.ipynb",
      "provenance": [],
      "collapsed_sections": [
        "9b1ec548",
        "0c34550c",
        "t6mjm447GMHX",
        "-dv0CvhD7Yga",
        "NUD_v_L21y2A",
        "gWJ6KpLz60sM",
        "CLfKyL_k3YeI",
        "O5LlEOrS30d1",
        "8rZHdtj-15Zs",
        "VnfVkgGB18f4",
        "Uiw72aEA1-6r"
      ],
      "machine_shape": "hm",
      "authorship_tag": "ABX9TyPlMFyj8dVigJnwKeBce1u2",
      "include_colab_link": true
    },
    "kernelspec": {
      "name": "python3",
      "display_name": "Python 3"
    },
    "language_info": {
      "name": "python"
    },
    "accelerator": "GPU"
  },
  "cells": [
    {
      "cell_type": "markdown",
      "metadata": {
        "id": "view-in-github",
        "colab_type": "text"
      },
      "source": [
        "<a href=\"https://colab.research.google.com/github/mannam95/Deep_Learning_Programming/blob/main/Assignment6/Assignment_6_RNN_Part2_Srinath.ipynb\" target=\"_parent\"><img src=\"https://colab.research.google.com/assets/colab-badge.svg\" alt=\"Open In Colab\"/></a>"
      ]
    },
    {
      "cell_type": "markdown",
      "metadata": {
        "id": "c6aef94d"
      },
      "source": [
        "# Team Assignment\n",
        "\n",
        "\n",
        "1.   Srinath Mannam (229750)\n",
        "2.   Meghana Rao (234907)\n",
        "3.   Govind Shukla (235192)"
      ]
    },
    {
      "cell_type": "markdown",
      "metadata": {
        "id": "9b1ec548"
      },
      "source": [
        "# import statements"
      ]
    },
    {
      "cell_type": "code",
      "metadata": {
        "id": "85eb7211"
      },
      "source": [
        "import os\n",
        "import sys\n",
        "import numpy as np\n",
        "from datetime import datetime\n",
        "import tensorflow as tf\n",
        "from keras.preprocessing import sequence"
      ],
      "execution_count": 1,
      "outputs": []
    },
    {
      "cell_type": "markdown",
      "metadata": {
        "id": "0c34550c"
      },
      "source": [
        "# Change the directory"
      ]
    },
    {
      "cell_type": "code",
      "metadata": {
        "id": "94b2626e"
      },
      "source": [
        "working_directory = '/content/drive/My Drive/Colab Notebooks/OVGU/Deep_Learning/06_Assignment'\n",
        "def colabDrive():\n",
        "    from google.colab import drive\n",
        "    drive.mount(\"/content/drive\")\n",
        "\n",
        "    if os.getcwd() !=  working_directory:\n",
        "      os.chdir(working_directory)\n",
        "    print(os.getcwd())"
      ],
      "execution_count": 14,
      "outputs": []
    },
    {
      "cell_type": "code",
      "metadata": {
        "id": "a8540ed4",
        "colab": {
          "base_uri": "https://localhost:8080/"
        },
        "outputId": "20de282f-dc3d-4c37-efcd-353b15cea205"
      },
      "source": [
        "colabDrive()"
      ],
      "execution_count": 15,
      "outputs": [
        {
          "output_type": "stream",
          "name": "stdout",
          "text": [
            "Mounted at /content/drive\n",
            "/content/drive/My Drive/Colab Notebooks/OVGU/Deep_Learning/06_Assignment\n"
          ]
        }
      ]
    },
    {
      "cell_type": "markdown",
      "metadata": {
        "id": "t6mjm447GMHX"
      },
      "source": [
        "# Prepare the data"
      ]
    },
    {
      "cell_type": "markdown",
      "metadata": {
        "id": "-dv0CvhD7Yga"
      },
      "source": [
        "## Load the dataset and remove infrequent words"
      ]
    },
    {
      "cell_type": "code",
      "metadata": {
        "id": "ZVE7aMvC4iXK",
        "colab": {
          "base_uri": "https://localhost:8080/"
        },
        "outputId": "ba4ac871-4908-4454-ef80-2d38c20e0aa2"
      },
      "source": [
        "num_words = 40000\n",
        "(train_sequences, train_labels), (test_sequences, test_labels) = tf.keras.datasets.imdb.load_data(num_words=num_words)\n",
        "\n",
        "def preprocess(sequences, labels):\n",
        "    return sequences, labels.astype(np.int32)\n",
        "\n",
        "train_sequences, train_labels = preprocess(train_sequences, train_labels)\n",
        "test_sequences, test_labels = preprocess(test_sequences, test_labels)\n",
        "\n",
        "print('Loaded dataset with {} training samples, {} test samples'.format(len(train_sequences), len(test_sequences)))"
      ],
      "execution_count": 2,
      "outputs": [
        {
          "output_type": "stream",
          "name": "stdout",
          "text": [
            "Downloading data from https://storage.googleapis.com/tensorflow/tf-keras-datasets/imdb.npz\n",
            "17465344/17464789 [==============================] - 1s 0us/step\n",
            "17473536/17464789 [==============================] - 1s 0us/step\n",
            "Loaded dataset with 25000 training samples, 25000 test samples\n"
          ]
        }
      ]
    },
    {
      "cell_type": "markdown",
      "metadata": {
        "id": "NUD_v_L21y2A"
      },
      "source": [
        "## to restore words, load the word-to-index mapping and look at one example"
      ]
    },
    {
      "cell_type": "code",
      "metadata": {
        "id": "CYX6F3AX5hpV",
        "colab": {
          "base_uri": "https://localhost:8080/"
        },
        "outputId": "1074f5d0-5e21-47ea-f7cf-8d8d8119c686"
      },
      "source": [
        "word2id = tf.keras.datasets.imdb.get_word_index()\n",
        "id2word = {i: word for word, i in word2id.items()}\n",
        "print('---review with words---')\n",
        "print([id2word.get(i, ' ') for i in train_sequences[6]])\n",
        "print('---label---')\n",
        "print(train_sequences[6])\n",
        "print('---label---')\n",
        "print(train_labels[6])"
      ],
      "execution_count": 3,
      "outputs": [
        {
          "output_type": "stream",
          "name": "stdout",
          "text": [
            "Downloading data from https://storage.googleapis.com/tensorflow/tf-keras-datasets/imdb_word_index.json\n",
            "1646592/1641221 [==============================] - 0s 0us/step\n",
            "1654784/1641221 [==============================] - 0s 0us/step\n",
            "---review with words---\n",
            "['the', 'boiled', 'full', 'involving', 'to', 'impressive', 'boring', 'this', 'as', 'murdering', 'naschy', 'br', 'villain', 'council', 'suggestion', 'need', 'has', 'of', 'costumes', 'b', 'message', 'to', 'may', 'of', 'props', 'this', 'echoed', 'concentrates', 'concept', 'issue', 'skeptical', 'to', \"god's\", 'he', 'is', 'and', 'unfolds', 'movie', 'women', 'like', \"isn't\", 'surely', \"i'm\", 'rocketed', 'to', 'toward', 'in', \"here's\", 'for', 'from', 'did', 'having', 'because', 'very', 'quality', 'it', 'is', \"captain's\", 'starship', 'really', 'book', 'is', 'both', 'too', 'worked', 'carl', 'of', 'and', 'br', 'of', 'reviewer', 'closer', 'figure', 'really', 'there', 'will', 'originals', 'things', 'is', 'far', 'this', 'make', 'mistakes', \"kevin's\", 'was', \"couldn't\", 'of', 'few', 'br', 'of', 'you', 'to', \"don't\", 'female', 'than', 'place', 'she', 'to', 'was', 'between', 'that', 'nothing', 'dose', 'movies', 'get', 'are', 'and', 'br', 'yes', 'female', 'just', 'its', 'because', 'many', 'br', 'of', 'overly', 'to', 'descent', 'people', 'time', 'very', 'bland']\n",
            "---label---\n",
            "[1, 6740, 365, 1234, 5, 1156, 354, 11, 14, 5327, 6638, 7, 1016, 10626, 5940, 356, 44, 4, 1349, 500, 746, 5, 200, 4, 4132, 11, 16393, 9363, 1117, 1831, 7485, 5, 4831, 26, 6, 2, 4183, 17, 369, 37, 215, 1345, 143, 32677, 5, 1838, 8, 1974, 15, 36, 119, 257, 85, 52, 486, 9, 6, 26441, 8564, 63, 271, 6, 196, 96, 949, 4121, 4, 2, 7, 4, 2212, 2436, 819, 63, 47, 77, 7175, 180, 6, 227, 11, 94, 2494, 33740, 13, 423, 4, 168, 7, 4, 22, 5, 89, 665, 71, 270, 56, 5, 13, 197, 12, 161, 5390, 99, 76, 23, 2, 7, 419, 665, 40, 91, 85, 108, 7, 4, 2084, 5, 4773, 81, 55, 52, 1901]\n",
            "---label---\n",
            "1\n"
          ]
        }
      ]
    },
    {
      "cell_type": "markdown",
      "metadata": {
        "id": "gWJ6KpLz60sM"
      },
      "source": [
        "## Maximum review length and minimum review length."
      ]
    },
    {
      "cell_type": "code",
      "metadata": {
        "colab": {
          "base_uri": "https://localhost:8080/"
        },
        "id": "N6LZSJS_62Ye",
        "outputId": "5a0fea83-376f-4006-b2d5-77bf7bfa0540"
      },
      "source": [
        "print('Maximum review length: {}'.format(len(max((train_sequences + test_sequences), key=len))))"
      ],
      "execution_count": 4,
      "outputs": [
        {
          "output_type": "stream",
          "name": "stdout",
          "text": [
            "Maximum review length: 2697\n"
          ]
        }
      ]
    },
    {
      "cell_type": "code",
      "metadata": {
        "colab": {
          "base_uri": "https://localhost:8080/"
        },
        "id": "5XMcFfgQ7H-O",
        "outputId": "272f28a9-38e8-4f3c-dcb1-ed96d1acabc3"
      },
      "source": [
        "print('Minimum review length: {}'.format(len(min((train_sequences + test_sequences), key=len))))"
      ],
      "execution_count": 5,
      "outputs": [
        {
          "output_type": "stream",
          "name": "stdout",
          "text": [
            "Minimum review length: 70\n"
          ]
        }
      ]
    },
    {
      "cell_type": "markdown",
      "metadata": {
        "id": "CLfKyL_k3YeI"
      },
      "source": [
        "## Generator to create different shaped train,test dataset"
      ]
    },
    {
      "cell_type": "code",
      "metadata": {
        "id": "JgyT7bfK3W-_"
      },
      "source": [
        "def gen_Train():\n",
        "    for sequence, label in zip(train_sequences, train_labels):\n",
        "        yield sequence, label\n",
        "      \n",
        "def gen_Test():\n",
        "    for sequence, label in zip(test_sequences, test_labels):\n",
        "        yield sequence, label"
      ],
      "execution_count": 6,
      "outputs": []
    },
    {
      "cell_type": "markdown",
      "metadata": {
        "id": "O5LlEOrS30d1"
      },
      "source": [
        "## Create training, test dataset tensors"
      ]
    },
    {
      "cell_type": "code",
      "metadata": {
        "id": "0mQpqDRI300r"
      },
      "source": [
        "def createData(bucketFlag):\n",
        "  train_data = tf.data.Dataset.from_generator(gen_Train, output_signature=(\n",
        "          tf.TensorSpec(shape=(None,), dtype=tf.int32),\n",
        "          tf.TensorSpec(shape=(), dtype=tf.int32)))\n",
        "\n",
        "  test_data = tf.data.Dataset.from_generator(gen_Test, output_signature=(\n",
        "          tf.TensorSpec(shape=(None,), dtype=tf.int32),\n",
        "          tf.TensorSpec(shape=(), dtype=tf.int32)))\n",
        "  \n",
        "  # Do bucket padding if the flag is true or do normal padding\n",
        "  if bucketFlag:\n",
        "    buckets = [50, 100, 150, 200, 250, 300, 350, 400, 450, 500]\n",
        "    bucket_batch_size = [32] * (len(buckets) + 1)\n",
        "    train_data = train_data.bucket_by_sequence_length(lambda sequence, label: tf.shape(sequence)[0],\n",
        "                                                      bucket_boundaries=buckets, bucket_batch_sizes=bucket_batch_size, drop_remainder=True)\n",
        "    test_data = test_data.bucket_by_sequence_length(lambda sequence, label: tf.shape(sequence)[0],\n",
        "                                                      bucket_boundaries=buckets, bucket_batch_sizes=bucket_batch_size, drop_remainder=True)\n",
        "    return (train_data, test_data)\n",
        "\n",
        "  train_data = train_data.padded_batch(32, drop_remainder=True)\n",
        "  test_data = test_data.padded_batch(32, drop_remainder=True)\n",
        "  return (train_data, test_data)"
      ],
      "execution_count": 7,
      "outputs": []
    },
    {
      "cell_type": "code",
      "metadata": {
        "id": "acSEnvu_6rUY"
      },
      "source": [
        "(train_data, test_data) = createData(True)"
      ],
      "execution_count": 8,
      "outputs": []
    },
    {
      "cell_type": "code",
      "metadata": {
        "colab": {
          "base_uri": "https://localhost:8080/"
        },
        "id": "ROh1A43X9AwW",
        "outputId": "f613b8af-a65e-47b6-830c-d1a9c9e646a6"
      },
      "source": [
        "print(\"Train sequences Batches\")\n",
        "for step, (sequence, label) in enumerate(train_data):\n",
        "    print(sequence.shape, label.shape)\n",
        "\n",
        "    if step is 3:\n",
        "      break\n",
        "\n",
        "print(\"\\nTest sequences Batches\")\n",
        "for step, (sequence, label) in enumerate(test_data):\n",
        "    print(sequence.shape, label.shape)\n",
        "\n",
        "    if step is 3:\n",
        "      break"
      ],
      "execution_count": 9,
      "outputs": [
        {
          "output_type": "stream",
          "name": "stdout",
          "text": [
            "Train sequences Batches\n",
            "(32, 147) (32,)\n",
            "(32, 198) (32,)\n",
            "(32, 1038) (32,)\n",
            "(32, 240) (32,)\n",
            "\n",
            "Test sequences Batches\n",
            "(32, 141) (32,)\n",
            "(32, 197) (32,)\n",
            "(32, 149) (32,)\n",
            "(32, 249) (32,)\n"
          ]
        }
      ]
    },
    {
      "cell_type": "markdown",
      "metadata": {
        "id": "8rZHdtj-15Zs"
      },
      "source": [
        "# Generic Functions"
      ]
    },
    {
      "cell_type": "markdown",
      "metadata": {
        "id": "VnfVkgGB18f4"
      },
      "source": [
        "## Training Loop"
      ]
    },
    {
      "cell_type": "code",
      "metadata": {
        "id": "r-dCVy2q2A77"
      },
      "source": [
        "def model_Train(curr_Model, filePath, EPOCHS=5,):\n",
        "  temp_Model = curr_Model\n",
        "\n",
        "  temp_Model.compile(loss=tf.keras.losses.BinaryCrossentropy(from_logits=True),\n",
        "              optimizer=tf.keras.optimizers.Adam(1e-4),\n",
        "              metrics=['accuracy'])\n",
        "  \n",
        "  temp_Model.fit(train_data, epochs=EPOCHS)\n",
        "\n",
        "  temp_Model.save('saved_models/' + filePath)"
      ],
      "execution_count": 10,
      "outputs": []
    },
    {
      "cell_type": "markdown",
      "metadata": {
        "id": "Uiw72aEA1-6r"
      },
      "source": [
        "## Testing Loop"
      ]
    },
    {
      "cell_type": "code",
      "metadata": {
        "id": "mky4Rhuj2Bbz"
      },
      "source": [
        "def model_Test(filePath):\n",
        "\n",
        "  loaded_model = tf.keras.models.load_model(filePath)\n",
        "\n",
        "  print(\"Model Summary\")\n",
        "  loaded_model.summary()\n",
        "\n",
        "  print(\"Model Train Accuracy\")\n",
        "  loaded_model.evaluate(train_data)\n",
        "\n",
        "  print(\"\\nModel Test Accuracy\")\n",
        "  loaded_model.evaluate(test_data)\n",
        "\n",
        "  print(\"\\n\\n\")"
      ],
      "execution_count": 17,
      "outputs": []
    },
    {
      "cell_type": "markdown",
      "metadata": {
        "id": "94Yv-8Vq-b4m"
      },
      "source": [
        "# Models"
      ]
    },
    {
      "cell_type": "markdown",
      "metadata": {
        "id": "wB-B5S9NDY3q"
      },
      "source": [
        "## Training"
      ]
    },
    {
      "cell_type": "markdown",
      "metadata": {
        "id": "m5BSLG6h-fos"
      },
      "source": [
        "### RNN"
      ]
    },
    {
      "cell_type": "code",
      "metadata": {
        "id": "qlylAZc8n4UG"
      },
      "source": [
        "model_rnn = tf.keras.Sequential(\n",
        "                [\n",
        "                tf.keras.layers.Embedding(input_dim=num_words, output_dim=32, mask_zero=True),\n",
        "                tf.keras.layers.RNN(tf.keras.layers.SimpleRNNCell(12)),\n",
        "                tf.keras.layers.Dense(1)\n",
        "                ]\n",
        "            )\n",
        "  \n",
        "model_Train(model_rnn, filePath='model_rnn_epochs10_bucketPad_V1.h5', EPOCHS=10)"
      ],
      "execution_count": null,
      "outputs": []
    },
    {
      "cell_type": "markdown",
      "metadata": {
        "id": "AQv4xRBD-hfF"
      },
      "source": [
        "### LSTM"
      ]
    },
    {
      "cell_type": "code",
      "metadata": {
        "id": "7YlShGsR-nRw"
      },
      "source": [
        "model_lstm = tf.keras.Sequential(\n",
        "                [\n",
        "                tf.keras.layers.Embedding(input_dim=num_words, output_dim=32, mask_zero=True),\n",
        "                tf.keras.layers.LSTM(12),\n",
        "                tf.keras.layers.Dense(1)\n",
        "                ]\n",
        "            )\n",
        "  \n",
        "model_Train(model_lstm, filePath='model_lstm_epochs10_bucketPad_V1.h5', EPOCHS=10)"
      ],
      "execution_count": null,
      "outputs": []
    },
    {
      "cell_type": "markdown",
      "metadata": {
        "id": "IgPywvDe-jyC"
      },
      "source": [
        "### Bi-directional LSTM"
      ]
    },
    {
      "cell_type": "code",
      "metadata": {
        "id": "b1fbvSkG-npi"
      },
      "source": [
        "model_blstm = tf.keras.Sequential(\n",
        "                [\n",
        "                tf.keras.layers.Embedding(input_dim=num_words, output_dim=32, mask_zero=True),\n",
        "                tf.keras.layers.Bidirectional(tf.keras.layers.LSTM(12)),\n",
        "                tf.keras.layers.Dense(64, activation='relu'),\n",
        "                tf.keras.layers.Dense(1)\n",
        "                ]\n",
        "            )\n",
        "  \n",
        "model_Train(model_blstm, filePath='model_blstm_epochs10_bucketPad_V1.h5', EPOCHS=10)"
      ],
      "execution_count": null,
      "outputs": []
    },
    {
      "cell_type": "markdown",
      "metadata": {
        "id": "776721NXDiXS"
      },
      "source": [
        "## Testing"
      ]
    },
    {
      "cell_type": "code",
      "metadata": {
        "id": "VvQFP1OpVxRE"
      },
      "source": [
        "models_Path = {\n",
        "    'rnn_models': ['saved_models/model_rnn_epochs10_bucketPad_V1.h5',\n",
        "                   'saved_models/model_rnn_epochs10_bucketPad_V2.h5'],\n",
        "    'lstm_models': ['saved_models/model_lstm_epochs10_bucketPad_V1.h5'],\n",
        "    'blstm_models': ['saved_models/model_blstm_epochs10_bucketPad_V1.h5' ]\n",
        "}"
      ],
      "execution_count": 19,
      "outputs": []
    },
    {
      "cell_type": "markdown",
      "metadata": {
        "id": "mMRx-qhPXHK2"
      },
      "source": [
        "### Summary\n",
        "\n",
        "\n",
        "*   Below are the training and testing accuracy for all different model configurations.\n",
        "*   For some weird reason RNN is very slow in colab it took apprx 40 minutes and 10 mins in local PC.\n",
        "*   LSTM, Bi-directional-LSTM took around 4 minutes in colab.\n",
        "\n",
        "Note:- The models are trained in different colab accounts. In order to summarise easily, I have saved the trained models and getting the metrics in below. Probably because of this reason in the training section the output cells might be empty.\n",
        "\n"
      ]
    },
    {
      "cell_type": "code",
      "metadata": {
        "colab": {
          "base_uri": "https://localhost:8080/"
        },
        "id": "3z1AiWVWSb7S",
        "outputId": "7e4cfb88-b617-41c6-9a4d-e99a5f0a2cb5"
      },
      "source": [
        "for key in models_Path:\n",
        "  print(\"----------------------------------Model Type----------------------------------------\\n\")\n",
        "  print(\"Currently Testing the {} \\n\".format(key))\n",
        "  for ind, val in enumerate(models_Path[key]):\n",
        "    model_Test(filePath=val)"
      ],
      "execution_count": 20,
      "outputs": [
        {
          "output_type": "stream",
          "name": "stdout",
          "text": [
            "----------------------------------Model Type----------------------------------------\n",
            "\n",
            "Currently Testing the rnn_models \n",
            "\n",
            "Model Summary\n",
            "Model: \"sequential\"\n",
            "_________________________________________________________________\n",
            " Layer (type)                Output Shape              Param #   \n",
            "=================================================================\n",
            " embedding (Embedding)       (None, None, 32)          1280000   \n",
            "                                                                 \n",
            " rnn (RNN)                   (None, 12)                540       \n",
            "                                                                 \n",
            " dense (Dense)               (None, 1)                 13        \n",
            "                                                                 \n",
            "=================================================================\n",
            "Total params: 1,280,553\n",
            "Trainable params: 1,280,553\n",
            "Non-trainable params: 0\n",
            "_________________________________________________________________\n",
            "Model Train Accuracy\n",
            "775/775 [==============================] - 26s 33ms/step - loss: 0.1076 - accuracy: 0.9858\n",
            "\n",
            "Model Test Accuracy\n",
            "776/776 [==============================] - 25s 32ms/step - loss: 0.8390 - accuracy: 0.5447\n",
            "\n",
            "\n",
            "\n",
            "Model Summary\n",
            "Model: \"sequential\"\n",
            "_________________________________________________________________\n",
            " Layer (type)                Output Shape              Param #   \n",
            "=================================================================\n",
            " embedding (Embedding)       (None, None, 32)          1280000   \n",
            "                                                                 \n",
            " rnn (RNN)                   (None, 128)               20608     \n",
            "                                                                 \n",
            " dense (Dense)               (None, 1)                 129       \n",
            "                                                                 \n",
            "=================================================================\n",
            "Total params: 1,300,737\n",
            "Trainable params: 1,300,737\n",
            "Non-trainable params: 0\n",
            "_________________________________________________________________\n",
            "Model Train Accuracy\n",
            "775/775 [==============================] - 26s 33ms/step - loss: 0.0148 - accuracy: 0.9983\n",
            "\n",
            "Model Test Accuracy\n",
            "776/776 [==============================] - 25s 32ms/step - loss: 0.4894 - accuracy: 0.8226\n",
            "\n",
            "\n",
            "\n",
            "----------------------------------Model Type----------------------------------------\n",
            "\n",
            "Currently Testing the lstm_models \n",
            "\n",
            "Model Summary\n",
            "Model: \"sequential\"\n",
            "_________________________________________________________________\n",
            " Layer (type)                Output Shape              Param #   \n",
            "=================================================================\n",
            " embedding (Embedding)       (None, None, 32)          1280000   \n",
            "                                                                 \n",
            " lstm (LSTM)                 (None, 12)                2160      \n",
            "                                                                 \n",
            " dense (Dense)               (None, 1)                 13        \n",
            "                                                                 \n",
            "=================================================================\n",
            "Total params: 1,282,173\n",
            "Trainable params: 1,282,173\n",
            "Non-trainable params: 0\n",
            "_________________________________________________________________\n",
            "Model Train Accuracy\n",
            "775/775 [==============================] - 12s 14ms/step - loss: 0.0794 - accuracy: 0.9818\n",
            "\n",
            "Model Test Accuracy\n",
            "776/776 [==============================] - 11s 14ms/step - loss: 0.3522 - accuracy: 0.8675\n",
            "\n",
            "\n",
            "\n",
            "----------------------------------Model Type----------------------------------------\n",
            "\n",
            "Currently Testing the blstm_models \n",
            "\n",
            "Model Summary\n",
            "Model: \"sequential_1\"\n",
            "_________________________________________________________________\n",
            " Layer (type)                Output Shape              Param #   \n",
            "=================================================================\n",
            " embedding_1 (Embedding)     (None, None, 32)          1280000   \n",
            "                                                                 \n",
            " bidirectional (Bidirectiona  (None, 24)               4320      \n",
            " l)                                                              \n",
            "                                                                 \n",
            " dense_1 (Dense)             (None, 64)                1600      \n",
            "                                                                 \n",
            " dense_2 (Dense)             (None, 1)                 65        \n",
            "                                                                 \n",
            "=================================================================\n",
            "Total params: 1,285,985\n",
            "Trainable params: 1,285,985\n",
            "Non-trainable params: 0\n",
            "_________________________________________________________________\n",
            "Model Train Accuracy\n",
            "775/775 [==============================] - 16s 18ms/step - loss: 0.0181 - accuracy: 0.9969\n",
            "\n",
            "Model Test Accuracy\n",
            "776/776 [==============================] - 14s 18ms/step - loss: 0.5111 - accuracy: 0.8660\n",
            "\n",
            "\n",
            "\n"
          ]
        }
      ]
    }
  ]
}