{
  "nbformat": 4,
  "nbformat_minor": 0,
  "metadata": {
    "colab": {
      "name": "Assignment_6_RNN_Part2_Srinath.ipynb",
      "provenance": [],
      "collapsed_sections": [
        "9b1ec548",
        "0c34550c",
        "t6mjm447GMHX",
        "-dv0CvhD7Yga",
        "NUD_v_L21y2A",
        "gWJ6KpLz60sM",
        "CLfKyL_k3YeI",
        "O5LlEOrS30d1",
        "VnfVkgGB18f4",
        "Uiw72aEA1-6r"
      ],
      "machine_shape": "hm"
    },
    "kernelspec": {
      "name": "python3",
      "display_name": "Python 3"
    },
    "language_info": {
      "name": "python"
    },
    "accelerator": "GPU"
  },
  "cells": [
    {
      "cell_type": "markdown",
      "metadata": {
        "id": "c6aef94d"
      },
      "source": [
        "# Team Assignment\n",
        "\n",
        "\n",
        "1.   Srinath Mannam (229750)\n",
        "2.   Meghana Rao (234907)\n",
        "3.   Govind Shukla (235192)"
      ]
    },
    {
      "cell_type": "markdown",
      "metadata": {
        "id": "9b1ec548"
      },
      "source": [
        "# import statements"
      ]
    },
    {
      "cell_type": "code",
      "metadata": {
        "id": "85eb7211"
      },
      "source": [
        "import os\n",
        "import tensorflow as tf\n",
        "from keras.regularizers import l2\n",
        "from keras.preprocessing.image import ImageDataGenerator\n",
        "import numpy as np\n",
        "import matplotlib.pyplot as plt\n",
        "from numba import cuda\n",
        "import sys\n",
        "import tensorflow.keras.backend as K\n",
        "from tensorflow.python.keras.utils.vis_utils import model_to_dot\n",
        "from IPython.display import SVG\n",
        "import pydot\n",
        "import graphviz\n",
        "from keras.callbacks import ModelCheckpoint\n",
        "from datetime import datetime\n",
        "from keras.preprocessing import sequence"
      ],
      "execution_count": 1,
      "outputs": []
    },
    {
      "cell_type": "markdown",
      "metadata": {
        "id": "0c34550c"
      },
      "source": [
        "# Change the directory"
      ]
    },
    {
      "cell_type": "code",
      "metadata": {
        "id": "94b2626e"
      },
      "source": [
        "working_directory = '/content/drive/My Drive/Colab Notebooks/OVGU/Deep_Learning/06_Assignment'\n",
        "def colabDrive():\n",
        "    from google.colab import drive\n",
        "    drive.mount(\"/content/drive\")\n",
        "\n",
        "    if os.getcwd() !=  working_directory:\n",
        "      os.chdir(working_directory)\n",
        "    print(os.getcwd())"
      ],
      "execution_count": 2,
      "outputs": []
    },
    {
      "cell_type": "code",
      "metadata": {
        "id": "a8540ed4",
        "colab": {
          "base_uri": "https://localhost:8080/"
        },
        "outputId": "4bbab1c4-de2b-4636-9c07-c08c13929b85"
      },
      "source": [
        "colabDrive()"
      ],
      "execution_count": 3,
      "outputs": [
        {
          "output_type": "stream",
          "name": "stdout",
          "text": [
            "Mounted at /content/drive\n",
            "/content/drive/My Drive/Colab Notebooks/OVGU/Deep_Learning/06_Assignment\n"
          ]
        }
      ]
    },
    {
      "cell_type": "markdown",
      "metadata": {
        "id": "t6mjm447GMHX"
      },
      "source": [
        "# Prepare the data"
      ]
    },
    {
      "cell_type": "markdown",
      "metadata": {
        "id": "-dv0CvhD7Yga"
      },
      "source": [
        "## Load the dataset and remove infrequent words"
      ]
    },
    {
      "cell_type": "code",
      "metadata": {
        "id": "ZVE7aMvC4iXK",
        "colab": {
          "base_uri": "https://localhost:8080/"
        },
        "outputId": "a4a94c4a-ea6c-41f5-d02f-dc1ae964d86b"
      },
      "source": [
        "num_words = 40000\n",
        "(train_sequences, train_labels), (test_sequences, test_labels) = tf.keras.datasets.imdb.load_data(num_words=num_words)\n",
        "\n",
        "def preprocess(sequences, labels):\n",
        "    return sequences, labels.astype(np.int32)\n",
        "\n",
        "train_sequences, train_labels = preprocess(train_sequences, train_labels)\n",
        "test_sequences, test_labels = preprocess(test_sequences, test_labels)\n",
        "\n",
        "print('Loaded dataset with {} training samples, {} test samples'.format(len(train_sequences), len(test_sequences)))"
      ],
      "execution_count": 4,
      "outputs": [
        {
          "output_type": "stream",
          "name": "stdout",
          "text": [
            "Downloading data from https://storage.googleapis.com/tensorflow/tf-keras-datasets/imdb.npz\n",
            "17465344/17464789 [==============================] - 1s 0us/step\n",
            "17473536/17464789 [==============================] - 1s 0us/step\n",
            "Loaded dataset with 25000 training samples, 25000 test samples\n"
          ]
        }
      ]
    },
    {
      "cell_type": "markdown",
      "metadata": {
        "id": "NUD_v_L21y2A"
      },
      "source": [
        "## to restore words, load the word-to-index mapping and look at one example"
      ]
    },
    {
      "cell_type": "code",
      "metadata": {
        "id": "CYX6F3AX5hpV",
        "colab": {
          "base_uri": "https://localhost:8080/"
        },
        "outputId": "9c7ef830-5eb2-4184-bcf2-6860e2dc8998"
      },
      "source": [
        "word2id = tf.keras.datasets.imdb.get_word_index()\n",
        "id2word = {i: word for word, i in word2id.items()}\n",
        "print('---review with words---')\n",
        "print([id2word.get(i, ' ') for i in train_sequences[6]])\n",
        "print('---label---')\n",
        "print(train_sequences[6])\n",
        "print('---label---')\n",
        "print(train_labels[6])"
      ],
      "execution_count": 5,
      "outputs": [
        {
          "output_type": "stream",
          "name": "stdout",
          "text": [
            "Downloading data from https://storage.googleapis.com/tensorflow/tf-keras-datasets/imdb_word_index.json\n",
            "1646592/1641221 [==============================] - 0s 0us/step\n",
            "1654784/1641221 [==============================] - 0s 0us/step\n",
            "---review with words---\n",
            "['the', 'boiled', 'full', 'involving', 'to', 'impressive', 'boring', 'this', 'as', 'murdering', 'naschy', 'br', 'villain', 'council', 'suggestion', 'need', 'has', 'of', 'costumes', 'b', 'message', 'to', 'may', 'of', 'props', 'this', 'echoed', 'concentrates', 'concept', 'issue', 'skeptical', 'to', \"god's\", 'he', 'is', 'and', 'unfolds', 'movie', 'women', 'like', \"isn't\", 'surely', \"i'm\", 'rocketed', 'to', 'toward', 'in', \"here's\", 'for', 'from', 'did', 'having', 'because', 'very', 'quality', 'it', 'is', \"captain's\", 'starship', 'really', 'book', 'is', 'both', 'too', 'worked', 'carl', 'of', 'and', 'br', 'of', 'reviewer', 'closer', 'figure', 'really', 'there', 'will', 'originals', 'things', 'is', 'far', 'this', 'make', 'mistakes', \"kevin's\", 'was', \"couldn't\", 'of', 'few', 'br', 'of', 'you', 'to', \"don't\", 'female', 'than', 'place', 'she', 'to', 'was', 'between', 'that', 'nothing', 'dose', 'movies', 'get', 'are', 'and', 'br', 'yes', 'female', 'just', 'its', 'because', 'many', 'br', 'of', 'overly', 'to', 'descent', 'people', 'time', 'very', 'bland']\n",
            "---label---\n",
            "[1, 6740, 365, 1234, 5, 1156, 354, 11, 14, 5327, 6638, 7, 1016, 10626, 5940, 356, 44, 4, 1349, 500, 746, 5, 200, 4, 4132, 11, 16393, 9363, 1117, 1831, 7485, 5, 4831, 26, 6, 2, 4183, 17, 369, 37, 215, 1345, 143, 32677, 5, 1838, 8, 1974, 15, 36, 119, 257, 85, 52, 486, 9, 6, 26441, 8564, 63, 271, 6, 196, 96, 949, 4121, 4, 2, 7, 4, 2212, 2436, 819, 63, 47, 77, 7175, 180, 6, 227, 11, 94, 2494, 33740, 13, 423, 4, 168, 7, 4, 22, 5, 89, 665, 71, 270, 56, 5, 13, 197, 12, 161, 5390, 99, 76, 23, 2, 7, 419, 665, 40, 91, 85, 108, 7, 4, 2084, 5, 4773, 81, 55, 52, 1901]\n",
            "---label---\n",
            "1\n"
          ]
        }
      ]
    },
    {
      "cell_type": "markdown",
      "metadata": {
        "id": "gWJ6KpLz60sM"
      },
      "source": [
        "## Maximum review length and minimum review length."
      ]
    },
    {
      "cell_type": "code",
      "metadata": {
        "colab": {
          "base_uri": "https://localhost:8080/"
        },
        "id": "N6LZSJS_62Ye",
        "outputId": "45e33ffd-f2ac-46ac-cade-ff705ca0899f"
      },
      "source": [
        "print('Maximum review length: {}'.format(len(max((train_sequences + test_sequences), key=len))))"
      ],
      "execution_count": 6,
      "outputs": [
        {
          "output_type": "stream",
          "name": "stdout",
          "text": [
            "Maximum review length: 2697\n"
          ]
        }
      ]
    },
    {
      "cell_type": "code",
      "metadata": {
        "colab": {
          "base_uri": "https://localhost:8080/"
        },
        "id": "5XMcFfgQ7H-O",
        "outputId": "f5cba0bd-513e-4200-9f5b-3fc94758d546"
      },
      "source": [
        "print('Minimum review length: {}'.format(len(min((train_sequences + test_sequences), key=len))))"
      ],
      "execution_count": 7,
      "outputs": [
        {
          "output_type": "stream",
          "name": "stdout",
          "text": [
            "Minimum review length: 70\n"
          ]
        }
      ]
    },
    {
      "cell_type": "markdown",
      "metadata": {
        "id": "CLfKyL_k3YeI"
      },
      "source": [
        "## Generator to create different shaped train,test dataset"
      ]
    },
    {
      "cell_type": "code",
      "metadata": {
        "id": "JgyT7bfK3W-_"
      },
      "source": [
        "def gen_Train():\n",
        "    for sequence, label in zip(train_sequences, train_labels):\n",
        "        yield sequence, label\n",
        "      \n",
        "def gen_Test():\n",
        "    for sequence, label in zip(test_sequences, test_labels):\n",
        "        yield sequence, label"
      ],
      "execution_count": 8,
      "outputs": []
    },
    {
      "cell_type": "markdown",
      "metadata": {
        "id": "O5LlEOrS30d1"
      },
      "source": [
        "## Create training, test dataset tensors"
      ]
    },
    {
      "cell_type": "code",
      "metadata": {
        "id": "0mQpqDRI300r"
      },
      "source": [
        "def createData(bucketFlag):\n",
        "  train_data = tf.data.Dataset.from_generator(gen_Train, output_signature=(\n",
        "          tf.TensorSpec(shape=(None,), dtype=tf.int32),\n",
        "          tf.TensorSpec(shape=(), dtype=tf.int32)))\n",
        "\n",
        "  test_data = tf.data.Dataset.from_generator(gen_Test, output_signature=(\n",
        "          tf.TensorSpec(shape=(None,), dtype=tf.int32),\n",
        "          tf.TensorSpec(shape=(), dtype=tf.int32)))\n",
        "  \n",
        "  # Do bucket padding if the flag is true or do normal padding\n",
        "  if bucketFlag:\n",
        "    buckets = [50, 100, 150, 200, 250, 300, 350, 400, 450, 500]\n",
        "    bucket_batch_size = [32] * (len(buckets) + 1)\n",
        "    train_data = train_data.bucket_by_sequence_length(lambda sequence, label: tf.shape(sequence)[0],\n",
        "                                                      bucket_boundaries=buckets, bucket_batch_sizes=bucket_batch_size)\n",
        "    test_data = test_data.bucket_by_sequence_length(lambda sequence, label: tf.shape(sequence)[0],\n",
        "                                                      bucket_boundaries=buckets, bucket_batch_sizes=bucket_batch_size)\n",
        "    return (train_data, test_data)\n",
        "    \n",
        "  train_data = train_data.padded_batch(32)\n",
        "  test_data = test_data.padded_batch(32)\n",
        "  return (train_data, test_data)"
      ],
      "execution_count": 9,
      "outputs": []
    },
    {
      "cell_type": "code",
      "metadata": {
        "id": "acSEnvu_6rUY"
      },
      "source": [
        "(train_data, test_data) = createData(True)"
      ],
      "execution_count": 10,
      "outputs": []
    },
    {
      "cell_type": "code",
      "metadata": {
        "colab": {
          "base_uri": "https://localhost:8080/"
        },
        "id": "ROh1A43X9AwW",
        "outputId": "0dfa773c-b883-46fe-ae37-c51ab01e7760"
      },
      "source": [
        "print(\"Train sequences Batches\")\n",
        "for step, (sequence, label) in enumerate(train_data):\n",
        "    print(sequence.shape, label.shape)\n",
        "\n",
        "    if step is 3:\n",
        "      break\n",
        "\n",
        "print(\"\\nTest sequences Batches\")\n",
        "for step, (sequence, label) in enumerate(test_data):\n",
        "    print(sequence.shape, label.shape)\n",
        "\n",
        "    if step is 3:\n",
        "      break"
      ],
      "execution_count": 11,
      "outputs": [
        {
          "output_type": "stream",
          "name": "stdout",
          "text": [
            "Train sequences Batches\n",
            "(32, 147) (32,)\n",
            "(32, 198) (32,)\n",
            "(32, 1038) (32,)\n",
            "(32, 240) (32,)\n",
            "\n",
            "Test sequences Batches\n",
            "(32, 141) (32,)\n",
            "(32, 197) (32,)\n",
            "(32, 149) (32,)\n",
            "(32, 249) (32,)\n"
          ]
        }
      ]
    },
    {
      "cell_type": "markdown",
      "metadata": {
        "id": "8rZHdtj-15Zs"
      },
      "source": [
        "# Generic Functions"
      ]
    },
    {
      "cell_type": "markdown",
      "metadata": {
        "id": "VnfVkgGB18f4"
      },
      "source": [
        "## Training Loop"
      ]
    },
    {
      "cell_type": "code",
      "metadata": {
        "id": "r-dCVy2q2A77"
      },
      "source": [
        "def model_Train(curr_Model, EPOCHS=5):\n",
        "  temp_Model = curr_Model\n",
        "\n",
        "  temp_Model.compile(loss=tf.keras.losses.BinaryCrossentropy(from_logits=True),\n",
        "              optimizer=tf.keras.optimizers.Adam(1e-4),\n",
        "              metrics=['accuracy'])\n",
        "  \n",
        "  print(\"Traing Start\")\n",
        "  for epoch in range(EPOCHS):\n",
        "    losses, accs = [], []\n",
        "    print(\"Epoch : \", epoch+1)\n",
        "    for step, (seq_batch, label_batch) in enumerate(train_data):\n",
        "      metrics = temp_Model.train_on_batch(seq_batch, label_batch, return_dict=True)\n",
        "\n",
        "      losses.append(metrics['loss'])\n",
        "      accs.append(metrics['accuracy'])\n",
        "      if not step % 250:\n",
        "        print(\"Step No: {}, Loss: {}, Acc: {}\".format(step, np.mean(losses), np.mean(accs)))\n",
        "        losses, accs = [], []\n",
        "  print(\"Traing End\\n\")\n",
        "\n",
        "  return (temp_Model)"
      ],
      "execution_count": 12,
      "outputs": []
    },
    {
      "cell_type": "markdown",
      "metadata": {
        "id": "Uiw72aEA1-6r"
      },
      "source": [
        "## Testing Loop"
      ]
    },
    {
      "cell_type": "code",
      "metadata": {
        "id": "mky4Rhuj2Bbz"
      },
      "source": [
        "def model_Test(curr_Model):\n",
        "\n",
        "  curr_Model.summary()\n",
        "\n",
        "  for step, (seq_batch, label_batch) in enumerate(test_data):\n",
        "    metrics = curr_Model.test_on_batch(seq_batch, label_batch, reset_metrics=False, return_dict=True)\n",
        "  print(\"Test loss: {} and Acc: {}\".format(metrics['loss'], metrics['accuracy']))"
      ],
      "execution_count": 13,
      "outputs": []
    },
    {
      "cell_type": "markdown",
      "metadata": {
        "id": "94Yv-8Vq-b4m"
      },
      "source": [
        "# Models"
      ]
    },
    {
      "cell_type": "markdown",
      "metadata": {
        "id": "wB-B5S9NDY3q"
      },
      "source": [
        "## Training"
      ]
    },
    {
      "cell_type": "markdown",
      "metadata": {
        "id": "m5BSLG6h-fos"
      },
      "source": [
        "### RNN"
      ]
    },
    {
      "cell_type": "code",
      "metadata": {
        "colab": {
          "base_uri": "https://localhost:8080/"
        },
        "id": "qlylAZc8n4UG",
        "outputId": "109f7225-e127-4637-9f5d-49f5d5fa3579"
      },
      "source": [
        "model_rnn = tf.keras.Sequential(\n",
        "                [\n",
        "                tf.keras.layers.Embedding(input_dim=num_words, output_dim=32, mask_zero=True),\n",
        "                tf.keras.layers.RNN(tf.keras.layers.SimpleRNNCell(128)),\n",
        "                tf.keras.layers.Dense(1)\n",
        "                ]\n",
        "            )\n",
        "  \n",
        "model_rnn = model_Train(model_rnn, EPOCHS=10)\n",
        "\n",
        "model_rnn.save('saved_models/model_rnn_epochs10_bucketPad_V1.h5') "
      ],
      "execution_count": 14,
      "outputs": [
        {
          "output_type": "stream",
          "name": "stdout",
          "text": [
            "Traing Start\n",
            "Epoch :  1\n",
            "Step No: 0, Loss: 0.7167055010795593, Acc: 0.6875\n",
            "Step No: 250, Loss: 0.6951793818473816, Acc: 0.4945\n",
            "Step No: 500, Loss: 0.6912703089714051, Acc: 0.502125\n",
            "Step No: 750, Loss: 0.6909706101417542, Acc: 0.502625\n",
            "Epoch :  2\n",
            "Step No: 0, Loss: 0.6690125465393066, Acc: 0.6875\n",
            "Step No: 250, Loss: 0.6793604576587677, Acc: 0.4975\n",
            "Step No: 500, Loss: 0.6792122764587403, Acc: 0.505125\n",
            "Step No: 750, Loss: 0.6752134323120117, Acc: 0.50275\n",
            "Epoch :  3\n",
            "Step No: 0, Loss: 0.6531992554664612, Acc: 0.6875\n",
            "Step No: 250, Loss: 0.6526642587184907, Acc: 0.503\n",
            "Step No: 500, Loss: 0.6470011608600617, Acc: 0.52275\n",
            "Step No: 750, Loss: 0.6467424151897431, Acc: 0.528125\n",
            "Epoch :  4\n",
            "Step No: 0, Loss: 0.5807011723518372, Acc: 0.75\n",
            "Step No: 250, Loss: 0.5961750588417053, Acc: 0.58425\n",
            "Step No: 500, Loss: 0.578988703250885, Acc: 0.6315\n",
            "Step No: 750, Loss: 0.5635873651504517, Acc: 0.6465\n",
            "Epoch :  5\n",
            "Step No: 0, Loss: 0.4601864218711853, Acc: 0.84375\n",
            "Step No: 250, Loss: 0.4627342277765274, Acc: 0.782125\n",
            "Step No: 500, Loss: 0.43358630311489105, Acc: 0.792625\n",
            "Step No: 750, Loss: 0.4023639562726021, Acc: 0.815125\n",
            "Epoch :  6\n",
            "Step No: 0, Loss: 0.27056077122688293, Acc: 1.0\n",
            "Step No: 250, Loss: 0.24155517888069153, Acc: 0.913\n",
            "Step No: 500, Loss: 0.21205562463402747, Acc: 0.92175\n",
            "Step No: 750, Loss: 0.1939873690903187, Acc: 0.928\n",
            "Epoch :  7\n",
            "Step No: 0, Loss: 0.10707568377256393, Acc: 1.0\n",
            "Step No: 250, Loss: 0.14065870448946952, Acc: 0.9545\n",
            "Step No: 500, Loss: 0.11225150621682406, Acc: 0.963875\n",
            "Step No: 750, Loss: 0.11431331145763397, Acc: 0.962375\n",
            "Epoch :  8\n",
            "Step No: 0, Loss: 0.06845588982105255, Acc: 1.0\n",
            "Step No: 250, Loss: 0.08520607987046241, Acc: 0.975875\n",
            "Step No: 500, Loss: 0.0786305625885725, Acc: 0.97425\n",
            "Step No: 750, Loss: 0.07883994983881712, Acc: 0.976375\n",
            "Epoch :  9\n",
            "Step No: 0, Loss: 0.08143485337495804, Acc: 0.96875\n",
            "Step No: 250, Loss: 0.05255553951114416, Acc: 0.987625\n",
            "Step No: 500, Loss: 0.05663766783475876, Acc: 0.9845\n",
            "Step No: 750, Loss: 0.0448776391223073, Acc: 0.988875\n",
            "Epoch :  10\n",
            "Step No: 0, Loss: 0.010871199890971184, Acc: 1.0\n",
            "Step No: 250, Loss: 0.02450050727836788, Acc: 0.99625\n",
            "Step No: 500, Loss: 0.024088430244475604, Acc: 0.996125\n",
            "Step No: 750, Loss: 0.03445986193045974, Acc: 0.990875\n",
            "Traing End\n",
            "\n"
          ]
        }
      ]
    },
    {
      "cell_type": "markdown",
      "metadata": {
        "id": "AQv4xRBD-hfF"
      },
      "source": [
        "### LSTM"
      ]
    },
    {
      "cell_type": "code",
      "metadata": {
        "id": "7YlShGsR-nRw"
      },
      "source": [
        "model_rnn = tf.keras.Sequential(\n",
        "                [\n",
        "                tf.keras.layers.Embedding(input_dim=num_words, output_dim=32, mask_zero=True),\n",
        "                tf.keras.layers.LSTM(12),\n",
        "                tf.keras.layers.Dense(1)\n",
        "                ]\n",
        "            )\n",
        "  \n",
        "model_rnn = model_Train(model_rnn, EPOCHS=10)\n",
        "\n",
        "model_rnn.save('saved_models/model_lstm_epochs10_bucketPad_V1.h5') "
      ],
      "execution_count": null,
      "outputs": []
    },
    {
      "cell_type": "markdown",
      "metadata": {
        "id": "IgPywvDe-jyC"
      },
      "source": [
        "### Bi-directional RNN"
      ]
    },
    {
      "cell_type": "code",
      "metadata": {
        "id": "b1fbvSkG-npi"
      },
      "source": [
        "model_brnn = tf.keras.Sequential(\n",
        "                [\n",
        "                tf.keras.layers.Embedding(input_dim=num_words, output_dim=32, mask_zero=True),\n",
        "                tf.keras.layers.Bidirectional(tf.keras.layers.LSTM(12)),\n",
        "                tf.keras.layers.Dense(64, activation='relu'),\n",
        "                tf.keras.layers.Dense(1)\n",
        "                ]\n",
        "            )\n",
        "  \n",
        "model_brnn = model_Train(model_rnn, EPOCHS=10)\n",
        "\n",
        "model_brnn.save('saved_models/model_brnn_epochs10_bucketPad_V1.h5') "
      ],
      "execution_count": null,
      "outputs": []
    },
    {
      "cell_type": "markdown",
      "metadata": {
        "id": "776721NXDiXS"
      },
      "source": [
        "## Testing"
      ]
    },
    {
      "cell_type": "code",
      "metadata": {
        "id": "9FF0skCzFCCX"
      },
      "source": [
        "models_Path = {\n",
        "    'rnn_models': ['saved_models/model_rnn_epochs10_bucketPad_V1.h5'],\n",
        "    'lstm_models': ['saved_models/model_lstm_epochs10_bucketPad_V1.h5'],\n",
        "    'blstm_models': ['saved_models/model_blstm_epochs10_bucketPad_V1.h5' ]\n",
        "}"
      ],
      "execution_count": 26,
      "outputs": []
    },
    {
      "cell_type": "code",
      "metadata": {
        "colab": {
          "base_uri": "https://localhost:8080/"
        },
        "id": "3z1AiWVWSb7S",
        "outputId": "f1dcd57f-dc1b-43dd-de95-c7af1acddd59"
      },
      "source": [
        "for key in models_Path:\n",
        "  print(\"----------------------------------Model Type----------------------------------------\\n\")\n",
        "  print(\"Currently Testing the {} \\n\".format(key))\n",
        "  for ind, val in enumerate(models_Path[key]):\n",
        "    print(\"Model Summary \\n\")\n",
        "    loaded_model = tf.keras.models.load_model(val)\n",
        "    print(\"Model Test Accuracy \\n\")\n",
        "    model_Test(loaded_model)\n",
        "    print(\"\\n\\n\")"
      ],
      "execution_count": 30,
      "outputs": [
        {
          "output_type": "stream",
          "name": "stdout",
          "text": [
            "----------------------------------Model Type----------------------------------------\n",
            "\n",
            "Currently Testing the rnn_models \n",
            "\n",
            "Model Summary \n",
            "\n",
            "Model Test Accuracy \n",
            "\n",
            "Model: \"sequential\"\n",
            "_________________________________________________________________\n",
            " Layer (type)                Output Shape              Param #   \n",
            "=================================================================\n",
            " embedding (Embedding)       (None, None, 32)          1280000   \n",
            "                                                                 \n",
            " rnn (RNN)                   (None, 128)               20608     \n",
            "                                                                 \n",
            " dense (Dense)               (None, 1)                 129       \n",
            "                                                                 \n",
            "=================================================================\n",
            "Total params: 1,300,737\n",
            "Trainable params: 1,300,737\n",
            "Non-trainable params: 0\n",
            "_________________________________________________________________\n",
            "Test loss: 0.48918139934539795 and Acc: 0.8226400017738342\n",
            "\n",
            "\n",
            "\n",
            "----------------------------------Model Type----------------------------------------\n",
            "\n",
            "Currently Testing the lstm_models \n",
            "\n",
            "Model Summary \n",
            "\n",
            "Model Test Accuracy \n",
            "\n",
            "Model: \"sequential\"\n",
            "_________________________________________________________________\n",
            " Layer (type)                Output Shape              Param #   \n",
            "=================================================================\n",
            " embedding (Embedding)       (None, None, 32)          1280000   \n",
            "                                                                 \n",
            " lstm (LSTM)                 (None, 12)                2160      \n",
            "                                                                 \n",
            " dense (Dense)               (None, 1)                 13        \n",
            "                                                                 \n",
            "=================================================================\n",
            "Total params: 1,282,173\n",
            "Trainable params: 1,282,173\n",
            "Non-trainable params: 0\n",
            "_________________________________________________________________\n",
            "Test loss: 0.32978004217147827 and Acc: 0.8660399913787842\n",
            "\n",
            "\n",
            "\n",
            "----------------------------------Model Type----------------------------------------\n",
            "\n",
            "Currently Testing the blstm_models \n",
            "\n",
            "Model Summary \n",
            "\n",
            "Model Test Accuracy \n",
            "\n",
            "Model: \"sequential_1\"\n",
            "_________________________________________________________________\n",
            " Layer (type)                Output Shape              Param #   \n",
            "=================================================================\n",
            " embedding_1 (Embedding)     (None, None, 32)          1280000   \n",
            "                                                                 \n",
            " bidirectional (Bidirectiona  (None, 24)               4320      \n",
            " l)                                                              \n",
            "                                                                 \n",
            " dense_1 (Dense)             (None, 64)                1600      \n",
            "                                                                 \n",
            " dense_2 (Dense)             (None, 1)                 65        \n",
            "                                                                 \n",
            "=================================================================\n",
            "Total params: 1,285,985\n",
            "Trainable params: 1,285,985\n",
            "Non-trainable params: 0\n",
            "_________________________________________________________________\n",
            "Test loss: 0.5559895038604736 and Acc: 0.8555999994277954\n",
            "\n",
            "\n",
            "\n"
          ]
        }
      ]
    }
  ]
}