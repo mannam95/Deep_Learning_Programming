{
  "nbformat": 4,
  "nbformat_minor": 0,
  "metadata": {
    "colab": {
      "name": "Untitled1.ipynb",
      "provenance": [],
      "authorship_tag": "ABX9TyOUF3u8btvq3XPm8CTzQE+n",
      "include_colab_link": true
    },
    "kernelspec": {
      "name": "python3",
      "display_name": "Python 3"
    },
    "language_info": {
      "name": "python"
    }
  },
  "cells": [
    {
      "cell_type": "markdown",
      "metadata": {
        "id": "view-in-github",
        "colab_type": "text"
      },
      "source": [
        "<a href=\"https://colab.research.google.com/github/mannam95/Deep_Learning_Programming/blob/main/Dummy/Untitled1.ipynb\" target=\"_parent\"><img src=\"https://colab.research.google.com/assets/colab-badge.svg\" alt=\"Open In Colab\"/></a>"
      ]
    },
    {
      "cell_type": "code",
      "metadata": {
        "colab": {
          "base_uri": "https://localhost:8080/"
        },
        "id": "COt4u8Eg22VY",
        "outputId": "03ace3e5-58a0-48ef-c9f7-e2d33e553512"
      },
      "source": [
        "test_list1 = [1, 2, 4, 3, 5]\n",
        "test_list2 = [1, 2, 4, 5, 3]\n",
        "\n",
        "# printing lists\n",
        "print (\"The first list is : \" + str(test_list1))\n",
        "print (\"The second list is : \" + str(test_list2))\n",
        "\n",
        "# sorting both the lists\n",
        "test_list1.sort()\n",
        "test_list2.sort()\n",
        "\n",
        "# using == to check if\n",
        "# lists are equal\n",
        "if test_list1 == test_list2:\n",
        "\tprint (\"The lists are identical\")\n",
        "else :\n",
        "\tprint (\"The lists are not identical\")"
      ],
      "execution_count": null,
      "outputs": [
        {
          "output_type": "stream",
          "name": "stdout",
          "text": [
            "The first list is : [1, 2, 4, 3, 5]\n",
            "The second list is : [1, 2, 4, 5, 3]\n",
            "The lists are identical\n"
          ]
        }
      ]
    },
    {
      "cell_type": "markdown",
      "source": [
        "# Hello\n",
        "\n",
        "```\n",
        "python -m visdom.server & train.py --dataroot ./datasets/fingmin --name fingminv1_pix2pix --model pix2pix --direction AtoB\n",
        "```"
      ],
      "metadata": {
        "id": "KADrlJsOsF-u"
      }
    }
  ]
}