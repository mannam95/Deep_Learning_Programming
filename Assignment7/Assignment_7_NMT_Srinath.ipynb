{
  "nbformat": 4,
  "nbformat_minor": 0,
  "metadata": {
    "colab": {
      "name": "Assignment_7_NMT_Srinath.ipynb",
      "provenance": [],
      "collapsed_sections": [
        "9b1ec548",
        "0c34550c",
        "sHbpSCdw8qnW",
        "yh0bPt7wkCHt",
        "JEIAwPgokXk6",
        "S6LD6RwikuOw",
        "6UKOUGEX0Z75",
        "J1JQ2_On36HO",
        "0LiDrt7y3-lW",
        "VQujLhNg4BrF",
        "3HCh9PfH4oZK",
        "7reyM4fc4rmJ",
        "ijN0V-aI46-x",
        "XE7o0uJU4rh2",
        "XQI6bl3P65rr",
        "15SEZQ5062pY",
        "_JM4SVkfDE1C"
      ],
      "machine_shape": "hm",
      "mount_file_id": "156VNP0l29aIE4p0WHewhNZn95t-7XKvN",
      "authorship_tag": "ABX9TyMgyNfqLybrwJkK/i5TXGkX",
      "include_colab_link": true
    },
    "kernelspec": {
      "name": "python3",
      "display_name": "Python 3"
    },
    "language_info": {
      "name": "python"
    },
    "accelerator": "GPU"
  },
  "cells": [
    {
      "cell_type": "markdown",
      "metadata": {
        "id": "view-in-github",
        "colab_type": "text"
      },
      "source": [
        "<a href=\"https://colab.research.google.com/github/mannam95/Deep_Learning_Programming/blob/main/Assignment7/Assignment_7_NMT_Srinath.ipynb\" target=\"_parent\"><img src=\"https://colab.research.google.com/assets/colab-badge.svg\" alt=\"Open In Colab\"/></a>"
      ]
    },
    {
      "cell_type": "markdown",
      "metadata": {
        "id": "c6aef94d"
      },
      "source": [
        "# Team Assignment\n",
        "\n",
        "\n",
        "1.   Srinath Mannam (229750)\n",
        "2.   Meghana Rao (234907)\n",
        "3.   Govind Shukla (235192)"
      ]
    },
    {
      "cell_type": "markdown",
      "metadata": {
        "id": "9b1ec548"
      },
      "source": [
        "# import statements"
      ]
    },
    {
      "cell_type": "code",
      "metadata": {
        "id": "xQCgf3jKQ8L3",
        "colab": {
          "base_uri": "https://localhost:8080/"
        },
        "outputId": "ee86798e-7e71-452f-a9bd-150af60b5f47"
      },
      "source": [
        "pip install tensorflow_text"
      ],
      "execution_count": 1,
      "outputs": [
        {
          "output_type": "stream",
          "name": "stdout",
          "text": [
            "Collecting tensorflow_text\n",
            "  Downloading tensorflow_text-2.7.3-cp37-cp37m-manylinux2010_x86_64.whl (4.9 MB)\n",
            "\u001b[K     |████████████████████████████████| 4.9 MB 4.0 MB/s \n",
            "\u001b[?25hRequirement already satisfied: tensorflow<2.8,>=2.7.0 in /usr/local/lib/python3.7/dist-packages (from tensorflow_text) (2.7.0)\n",
            "Requirement already satisfied: tensorflow-hub>=0.8.0 in /usr/local/lib/python3.7/dist-packages (from tensorflow_text) (0.12.0)\n",
            "Requirement already satisfied: libclang>=9.0.1 in /usr/local/lib/python3.7/dist-packages (from tensorflow<2.8,>=2.7.0->tensorflow_text) (12.0.0)\n",
            "Requirement already satisfied: keras<2.8,>=2.7.0rc0 in /usr/local/lib/python3.7/dist-packages (from tensorflow<2.8,>=2.7.0->tensorflow_text) (2.7.0)\n",
            "Requirement already satisfied: google-pasta>=0.1.1 in /usr/local/lib/python3.7/dist-packages (from tensorflow<2.8,>=2.7.0->tensorflow_text) (0.2.0)\n",
            "Requirement already satisfied: absl-py>=0.4.0 in /usr/local/lib/python3.7/dist-packages (from tensorflow<2.8,>=2.7.0->tensorflow_text) (0.12.0)\n",
            "Requirement already satisfied: tensorflow-io-gcs-filesystem>=0.21.0 in /usr/local/lib/python3.7/dist-packages (from tensorflow<2.8,>=2.7.0->tensorflow_text) (0.22.0)\n",
            "Requirement already satisfied: keras-preprocessing>=1.1.1 in /usr/local/lib/python3.7/dist-packages (from tensorflow<2.8,>=2.7.0->tensorflow_text) (1.1.2)\n",
            "Requirement already satisfied: h5py>=2.9.0 in /usr/local/lib/python3.7/dist-packages (from tensorflow<2.8,>=2.7.0->tensorflow_text) (3.1.0)\n",
            "Requirement already satisfied: numpy>=1.14.5 in /usr/local/lib/python3.7/dist-packages (from tensorflow<2.8,>=2.7.0->tensorflow_text) (1.19.5)\n",
            "Requirement already satisfied: six>=1.12.0 in /usr/local/lib/python3.7/dist-packages (from tensorflow<2.8,>=2.7.0->tensorflow_text) (1.15.0)\n",
            "Requirement already satisfied: astunparse>=1.6.0 in /usr/local/lib/python3.7/dist-packages (from tensorflow<2.8,>=2.7.0->tensorflow_text) (1.6.3)\n",
            "Requirement already satisfied: wrapt>=1.11.0 in /usr/local/lib/python3.7/dist-packages (from tensorflow<2.8,>=2.7.0->tensorflow_text) (1.13.3)\n",
            "Requirement already satisfied: termcolor>=1.1.0 in /usr/local/lib/python3.7/dist-packages (from tensorflow<2.8,>=2.7.0->tensorflow_text) (1.1.0)\n",
            "Requirement already satisfied: tensorboard~=2.6 in /usr/local/lib/python3.7/dist-packages (from tensorflow<2.8,>=2.7.0->tensorflow_text) (2.7.0)\n",
            "Requirement already satisfied: wheel<1.0,>=0.32.0 in /usr/local/lib/python3.7/dist-packages (from tensorflow<2.8,>=2.7.0->tensorflow_text) (0.37.0)\n",
            "Requirement already satisfied: gast<0.5.0,>=0.2.1 in /usr/local/lib/python3.7/dist-packages (from tensorflow<2.8,>=2.7.0->tensorflow_text) (0.4.0)\n",
            "Requirement already satisfied: protobuf>=3.9.2 in /usr/local/lib/python3.7/dist-packages (from tensorflow<2.8,>=2.7.0->tensorflow_text) (3.17.3)\n",
            "Requirement already satisfied: grpcio<2.0,>=1.24.3 in /usr/local/lib/python3.7/dist-packages (from tensorflow<2.8,>=2.7.0->tensorflow_text) (1.42.0)\n",
            "Requirement already satisfied: flatbuffers<3.0,>=1.12 in /usr/local/lib/python3.7/dist-packages (from tensorflow<2.8,>=2.7.0->tensorflow_text) (2.0)\n",
            "Requirement already satisfied: opt-einsum>=2.3.2 in /usr/local/lib/python3.7/dist-packages (from tensorflow<2.8,>=2.7.0->tensorflow_text) (3.3.0)\n",
            "Requirement already satisfied: tensorflow-estimator<2.8,~=2.7.0rc0 in /usr/local/lib/python3.7/dist-packages (from tensorflow<2.8,>=2.7.0->tensorflow_text) (2.7.0)\n",
            "Requirement already satisfied: typing-extensions>=3.6.6 in /usr/local/lib/python3.7/dist-packages (from tensorflow<2.8,>=2.7.0->tensorflow_text) (3.10.0.2)\n",
            "Requirement already satisfied: cached-property in /usr/local/lib/python3.7/dist-packages (from h5py>=2.9.0->tensorflow<2.8,>=2.7.0->tensorflow_text) (1.5.2)\n",
            "Requirement already satisfied: google-auth-oauthlib<0.5,>=0.4.1 in /usr/local/lib/python3.7/dist-packages (from tensorboard~=2.6->tensorflow<2.8,>=2.7.0->tensorflow_text) (0.4.6)\n",
            "Requirement already satisfied: tensorboard-data-server<0.7.0,>=0.6.0 in /usr/local/lib/python3.7/dist-packages (from tensorboard~=2.6->tensorflow<2.8,>=2.7.0->tensorflow_text) (0.6.1)\n",
            "Requirement already satisfied: markdown>=2.6.8 in /usr/local/lib/python3.7/dist-packages (from tensorboard~=2.6->tensorflow<2.8,>=2.7.0->tensorflow_text) (3.3.6)\n",
            "Requirement already satisfied: requests<3,>=2.21.0 in /usr/local/lib/python3.7/dist-packages (from tensorboard~=2.6->tensorflow<2.8,>=2.7.0->tensorflow_text) (2.23.0)\n",
            "Requirement already satisfied: tensorboard-plugin-wit>=1.6.0 in /usr/local/lib/python3.7/dist-packages (from tensorboard~=2.6->tensorflow<2.8,>=2.7.0->tensorflow_text) (1.8.0)\n",
            "Requirement already satisfied: werkzeug>=0.11.15 in /usr/local/lib/python3.7/dist-packages (from tensorboard~=2.6->tensorflow<2.8,>=2.7.0->tensorflow_text) (1.0.1)\n",
            "Requirement already satisfied: google-auth<3,>=1.6.3 in /usr/local/lib/python3.7/dist-packages (from tensorboard~=2.6->tensorflow<2.8,>=2.7.0->tensorflow_text) (1.35.0)\n",
            "Requirement already satisfied: setuptools>=41.0.0 in /usr/local/lib/python3.7/dist-packages (from tensorboard~=2.6->tensorflow<2.8,>=2.7.0->tensorflow_text) (57.4.0)\n",
            "Requirement already satisfied: rsa<5,>=3.1.4 in /usr/local/lib/python3.7/dist-packages (from google-auth<3,>=1.6.3->tensorboard~=2.6->tensorflow<2.8,>=2.7.0->tensorflow_text) (4.8)\n",
            "Requirement already satisfied: cachetools<5.0,>=2.0.0 in /usr/local/lib/python3.7/dist-packages (from google-auth<3,>=1.6.3->tensorboard~=2.6->tensorflow<2.8,>=2.7.0->tensorflow_text) (4.2.4)\n",
            "Requirement already satisfied: pyasn1-modules>=0.2.1 in /usr/local/lib/python3.7/dist-packages (from google-auth<3,>=1.6.3->tensorboard~=2.6->tensorflow<2.8,>=2.7.0->tensorflow_text) (0.2.8)\n",
            "Requirement already satisfied: requests-oauthlib>=0.7.0 in /usr/local/lib/python3.7/dist-packages (from google-auth-oauthlib<0.5,>=0.4.1->tensorboard~=2.6->tensorflow<2.8,>=2.7.0->tensorflow_text) (1.3.0)\n",
            "Requirement already satisfied: importlib-metadata>=4.4 in /usr/local/lib/python3.7/dist-packages (from markdown>=2.6.8->tensorboard~=2.6->tensorflow<2.8,>=2.7.0->tensorflow_text) (4.8.2)\n",
            "Requirement already satisfied: zipp>=0.5 in /usr/local/lib/python3.7/dist-packages (from importlib-metadata>=4.4->markdown>=2.6.8->tensorboard~=2.6->tensorflow<2.8,>=2.7.0->tensorflow_text) (3.6.0)\n",
            "Requirement already satisfied: pyasn1<0.5.0,>=0.4.6 in /usr/local/lib/python3.7/dist-packages (from pyasn1-modules>=0.2.1->google-auth<3,>=1.6.3->tensorboard~=2.6->tensorflow<2.8,>=2.7.0->tensorflow_text) (0.4.8)\n",
            "Requirement already satisfied: certifi>=2017.4.17 in /usr/local/lib/python3.7/dist-packages (from requests<3,>=2.21.0->tensorboard~=2.6->tensorflow<2.8,>=2.7.0->tensorflow_text) (2021.10.8)\n",
            "Requirement already satisfied: idna<3,>=2.5 in /usr/local/lib/python3.7/dist-packages (from requests<3,>=2.21.0->tensorboard~=2.6->tensorflow<2.8,>=2.7.0->tensorflow_text) (2.10)\n",
            "Requirement already satisfied: chardet<4,>=3.0.2 in /usr/local/lib/python3.7/dist-packages (from requests<3,>=2.21.0->tensorboard~=2.6->tensorflow<2.8,>=2.7.0->tensorflow_text) (3.0.4)\n",
            "Requirement already satisfied: urllib3!=1.25.0,!=1.25.1,<1.26,>=1.21.1 in /usr/local/lib/python3.7/dist-packages (from requests<3,>=2.21.0->tensorboard~=2.6->tensorflow<2.8,>=2.7.0->tensorflow_text) (1.24.3)\n",
            "Requirement already satisfied: oauthlib>=3.0.0 in /usr/local/lib/python3.7/dist-packages (from requests-oauthlib>=0.7.0->google-auth-oauthlib<0.5,>=0.4.1->tensorboard~=2.6->tensorflow<2.8,>=2.7.0->tensorflow_text) (3.1.1)\n",
            "Installing collected packages: tensorflow-text\n",
            "Successfully installed tensorflow-text-2.7.3\n"
          ]
        }
      ]
    },
    {
      "cell_type": "code",
      "metadata": {
        "id": "85eb7211"
      },
      "source": [
        "import os\n",
        "import sys\n",
        "import numpy as np\n",
        "from datetime import datetime\n",
        "import tensorflow as tf\n",
        "import tensorflow.keras.preprocessing.sequence as sequence\n",
        "import tensorflow_text as tf_text\n",
        "import typing\n",
        "from typing import Any, Tuple\n",
        "import matplotlib.pyplot as plt\n",
        "import matplotlib.ticker as ticker"
      ],
      "execution_count": 2,
      "outputs": []
    },
    {
      "cell_type": "markdown",
      "metadata": {
        "id": "0c34550c"
      },
      "source": [
        "# Change the directory"
      ]
    },
    {
      "cell_type": "code",
      "metadata": {
        "id": "94b2626e"
      },
      "source": [
        "working_directory = '/content/drive/My Drive/Colab Notebooks/OVGU/Deep_Learning/07_Assignment'\n",
        "def colabDrive():\n",
        "    from google.colab import drive\n",
        "    drive.mount(\"/content/drive\")\n",
        "\n",
        "    if os.getcwd() !=  working_directory:\n",
        "      os.chdir(working_directory)\n",
        "    print(os.getcwd())"
      ],
      "execution_count": 3,
      "outputs": []
    },
    {
      "cell_type": "code",
      "metadata": {
        "id": "a8540ed4",
        "colab": {
          "base_uri": "https://localhost:8080/"
        },
        "outputId": "beafcc58-2487-4282-aa96-1086d403e083"
      },
      "source": [
        "colabDrive()"
      ],
      "execution_count": 4,
      "outputs": [
        {
          "output_type": "stream",
          "name": "stdout",
          "text": [
            "Drive already mounted at /content/drive; to attempt to forcibly remount, call drive.mount(\"/content/drive\", force_remount=True).\n",
            "/content/drive/My Drive/Colab Notebooks/OVGU/Deep_Learning/07_Assignment\n"
          ]
        }
      ]
    },
    {
      "cell_type": "markdown",
      "metadata": {
        "id": "mjeunnuphktY"
      },
      "source": [
        "# Preamble"
      ]
    },
    {
      "cell_type": "markdown",
      "metadata": {
        "id": "sHbpSCdw8qnW"
      },
      "source": [
        "## Helper function which can be used to check the shapes"
      ]
    },
    {
      "cell_type": "code",
      "metadata": {
        "id": "M15xw1ve8teI"
      },
      "source": [
        "class ShapeChecker():\n",
        "  def __init__(self):\n",
        "    # Keep a cache of every axis-name seen\n",
        "    self.shapes = {}\n",
        "\n",
        "  def __call__(self, tensor, names, broadcast=False):\n",
        "    if not tf.executing_eagerly():\n",
        "      return\n",
        "\n",
        "    if isinstance(names, str):\n",
        "      names = (names,)\n",
        "\n",
        "    shape = tf.shape(tensor)\n",
        "    rank = tf.rank(tensor)\n",
        "\n",
        "    if rank != len(names):\n",
        "      raise ValueError(f'Rank mismatch:\\n'\n",
        "                       f'    found {rank}: {shape.numpy()}\\n'\n",
        "                       f'    expected {len(names)}: {names}\\n')\n",
        "\n",
        "    for i, name in enumerate(names):\n",
        "      if isinstance(name, int):\n",
        "        old_dim = name\n",
        "      else:\n",
        "        old_dim = self.shapes.get(name, None)\n",
        "      new_dim = shape[i]\n",
        "\n",
        "      if (broadcast and new_dim == 1):\n",
        "        continue\n",
        "\n",
        "      if old_dim is None:\n",
        "        # If the axis name is new, add its length to the cache.\n",
        "        self.shapes[name] = new_dim\n",
        "        continue\n",
        "\n",
        "      if new_dim != old_dim:\n",
        "        raise ValueError(f\"Shape mismatch for dimension: '{name}'\\n\"\n",
        "                         f\"    found: {new_dim}\\n\"\n",
        "                         f\"    expected: {old_dim}\\n\")"
      ],
      "execution_count": 5,
      "outputs": []
    },
    {
      "cell_type": "markdown",
      "metadata": {
        "id": "yh0bPt7wkCHt"
      },
      "source": [
        "## A function that will read the data and return"
      ]
    },
    {
      "cell_type": "code",
      "metadata": {
        "id": "AvTtHPvjhqBC"
      },
      "source": [
        "def load_data(path):\n",
        "  # text = path.read_text(encoding='utf-8')\n",
        "  with open(\"tel-eng/tel.txt\", \"r\", encoding='utf-8') as tel:\n",
        "     telugu=tel.read()\n",
        "\n",
        "  lines = telugu.splitlines()\n",
        "  pairs = [line.split('\\t')[:-1] for line in lines]\n",
        "\n",
        "  inp = [inp for targ, inp in pairs]\n",
        "  targ = [targ for targ, inp in pairs]\n",
        "\n",
        "  return targ, inp"
      ],
      "execution_count": 6,
      "outputs": []
    },
    {
      "cell_type": "code",
      "metadata": {
        "id": "-cOKg7mXhtw5"
      },
      "source": [
        "targ, inp = load_data(\"tel-eng/tel.txt\")"
      ],
      "execution_count": 7,
      "outputs": []
    },
    {
      "cell_type": "code",
      "metadata": {
        "colab": {
          "base_uri": "https://localhost:8080/"
        },
        "id": "LoZqzF-_kMe-",
        "outputId": "08670340-c58d-42e4-e68f-f8d7405def07"
      },
      "source": [
        "print(inp[-1])\n",
        "print(targ[-1])"
      ],
      "execution_count": 8,
      "outputs": [
        {
          "output_type": "stream",
          "name": "stdout",
          "text": [
            "టామ్ తనకు తాను చేయటానికి అనుమతించకపోవచ్చని అనుకున్నాడు.\n",
            "Tom thought he might not be permitted to do that by himself.\n"
          ]
        }
      ]
    },
    {
      "cell_type": "markdown",
      "metadata": {
        "id": "JEIAwPgokXk6"
      },
      "source": [
        "## Create dataset"
      ]
    },
    {
      "cell_type": "code",
      "metadata": {
        "id": "CvwzLTtIkU--"
      },
      "source": [
        "BUFFER_SIZE = len(inp)\n",
        "BATCH_SIZE = 60\n",
        "\n",
        "dataset = tf.data.Dataset.from_tensor_slices((inp, targ)).shuffle(BUFFER_SIZE)\n",
        "\n",
        "test_dataset = dataset.take(20) \n",
        "train_dataset = dataset.skip(20)\n",
        "\n",
        "train_dataset = train_dataset.batch(BATCH_SIZE)\n",
        "test_dataset = test_dataset.batch(20).shuffle(10, seed=45)"
      ],
      "execution_count": 9,
      "outputs": []
    },
    {
      "cell_type": "code",
      "metadata": {
        "colab": {
          "base_uri": "https://localhost:8080/"
        },
        "id": "YrxWy_-3kbCL",
        "outputId": "07b6cd76-c47e-4c8a-966e-8d088ddad444"
      },
      "source": [
        "for example_input_batch, example_target_batch in train_dataset.take(1):\n",
        "  print(example_input_batch[:5])\n",
        "  print()\n",
        "  print(example_target_batch[:5])\n",
        "  break"
      ],
      "execution_count": 10,
      "outputs": [
        {
          "output_type": "stream",
          "name": "stdout",
          "text": [
            "tf.Tensor(\n",
            "[b'\\xe0\\xb0\\xa8\\xe0\\xb1\\x81\\xe0\\xb0\\xb5\\xe0\\xb1\\x8d\\xe0\\xb0\\xb5\\xe0\\xb1\\x81 \\xe0\\xb0\\x8e\\xe0\\xb0\\x95\\xe0\\xb1\\x8d\\xe0\\xb0\\x95\\xe0\\xb0\\xa1 \\xe0\\xb0\\x89\\xe0\\xb0\\xa8\\xe0\\xb1\\x8d\\xe0\\xb0\\xa8\\xe0\\xb0\\xb5\\xe0\\xb1\\x8b \\xe0\\xb0\\x85\\xe0\\xb0\\x95\\xe0\\xb1\\x8d\\xe0\\xb0\\x95\\xe0\\xb0\\xa1\\xe0\\xb1\\x87 \\xe0\\xb0\\x89\\xe0\\xb0\\x82\\xe0\\xb0\\xa1\\xe0\\xb1\\x81'\n",
            " b'\\xe0\\xb0\\xa8\\xe0\\xb1\\x80 \\xe0\\xb0\\x95\\xe0\\xb0\\xb2\\xe0\\xb0\\x82 \\xe0\\xb0\\x8f\\xe0\\xb0\\xa6\\xe0\\xb0\\xbf ?'\n",
            " b'\\xe0\\xb0\\xa8\\xe0\\xb0\\xbf\\xe0\\xb0\\xa8\\xe0\\xb1\\x8d\\xe0\\xb0\\xa8 \\xe0\\xb0\\xb0\\xe0\\xb0\\xbe\\xe0\\xb0\\xa4\\xe0\\xb1\\x8d\\xe0\\xb0\\xb0\\xe0\\xb0\\xbf\\xe0\\xb0\\x95\\xe0\\xb0\\xbf \\xe0\\xb0\\xa8\\xe0\\xb0\\xa8\\xe0\\xb1\\x8d\\xe0\\xb0\\xa8\\xe0\\xb1\\x81 \\xe0\\xb0\\xa8\\xe0\\xb0\\xbf\\xe0\\xb0\\x9c\\xe0\\xb0\\x82\\xe0\\xb0\\x97\\xe0\\xb0\\xbe \\xe0\\xb0\\x95\\xe0\\xb1\\x8d\\xe0\\xb0\\xb7\\xe0\\xb0\\xae\\xe0\\xb0\\xbf\\xe0\\xb0\\x82\\xe0\\xb0\\x9a\\xe0\\xb1\\x81'\n",
            " b'\\xe0\\xb0\\xa4\\xe0\\xb0\\xa8\\xe0\\xb1\\x81 \\xe0\\xb0\\xb8\\xe0\\xb1\\x8d\\xe0\\xb0\\x95\\xe0\\xb1\\x82\\xe0\\xb0\\xb2\\xe0\\xb1\\x81\\xe0\\xb0\\x95\\xe0\\xb1\\x81 \\xe0\\xb0\\xb5\\xe0\\xb1\\x86\\xe0\\xb0\\xb3\\xe0\\xb1\\x8d\\xe0\\xb0\\xb3\\xe0\\xb1\\x87 \\xe0\\xb0\\xa6\\xe0\\xb0\\xbe\\xe0\\xb0\\xb0\\xe0\\xb0\\xbf\\xe0\\xb0\\xb2\\xe0\\xb1\\x8b \\xe0\\xb0\\xb5\\xe0\\xb1\\x81\\xe0\\xb0\\x82\\xe0\\xb0\\xa6\\xe0\\xb0\\xbf'\n",
            " b'\\xe0\\xb0\\x87\\xe0\\xb0\\xa6\\xe0\\xb0\\xbf \\xe0\\xb0\\x92\\xe0\\xb0\\x95 \\xe0\\xb0\\xb5\\xe0\\xb0\\xbe\\xe0\\xb0\\x95\\xe0\\xb1\\x8d\\xe0\\xb0\\xaf\\xe0\\xb0\\x82 \\xe0\\xb0\\x95\\xe0\\xb0\\xbe\\xe0\\xb0\\xa6\\xe0\\xb1\\x81.'], shape=(5,), dtype=string)\n",
            "\n",
            "tf.Tensor(\n",
            "[b'You must stay where you are.' b'Which is your pen?'\n",
            " b\"I'm really sorry about last night.\" b'She was on her way to school.'\n",
            " b'This is not a sentence.'], shape=(5,), dtype=string)\n"
          ]
        }
      ]
    },
    {
      "cell_type": "markdown",
      "metadata": {
        "id": "S6LD6RwikuOw"
      },
      "source": [
        "## Unicode Normalization"
      ]
    },
    {
      "cell_type": "code",
      "metadata": {
        "id": "PpgbPhcfkw4V"
      },
      "source": [
        "def tf_lower_and_split_punct(text):\n",
        "  # Split accecented characters.\n",
        "  text = tf_text.normalize_utf8(text, 'NFKD')\n",
        "  text = tf.strings.lower(text)\n",
        "  # Keep space, a to z, ఀ-౿(telugu text) and select punctuation.\n",
        "  text = tf.strings.regex_replace(text, '[^ a-z$ఀ-౿.?!,¿]', '')\n",
        "  # Add spaces around punctuation.\n",
        "  text = tf.strings.regex_replace(text, '[.?!,¿]', r' \\0 ')\n",
        "  # Strip whitespace.\n",
        "  text = tf.strings.strip(text)\n",
        "\n",
        "  text = tf.strings.join(['[START]', text, '[END]'], separator=' ')\n",
        "  return text"
      ],
      "execution_count": 11,
      "outputs": []
    },
    {
      "cell_type": "markdown",
      "metadata": {
        "id": "6UKOUGEX0Z75"
      },
      "source": [
        "## Text Vectorization\n",
        "\n",
        "Creating a word to index dictionary and an index to word dictionary for all unique source and target words in the dataset."
      ]
    },
    {
      "cell_type": "markdown",
      "metadata": {
        "id": "J1JQ2_On36HO"
      },
      "source": [
        "### For Telugu language"
      ]
    },
    {
      "cell_type": "code",
      "metadata": {
        "colab": {
          "base_uri": "https://localhost:8080/"
        },
        "id": "lnStPmuy0ci5",
        "outputId": "b529e2b0-a577-44bb-fc1d-a046d659c967"
      },
      "source": [
        "max_vocab_size = 5000\n",
        "\n",
        "input_text_processor = tf.keras.layers.TextVectorization(\n",
        "    standardize=tf_lower_and_split_punct,\n",
        "    max_tokens=max_vocab_size)\n",
        "\n",
        "input_text_processor.adapt(inp)\n",
        "\n",
        "# Here are the first 10 words from the vocabulary:\n",
        "input_text_processor.get_vocabulary()[:10]"
      ],
      "execution_count": 12,
      "outputs": [
        {
          "output_type": "execute_result",
          "data": {
            "text/plain": [
              "['', '[UNK]', '[START]', '[END]', '?', '.', 'నువ్వు', 'నేను', 'అది', 'నాకు']"
            ]
          },
          "metadata": {},
          "execution_count": 12
        }
      ]
    },
    {
      "cell_type": "markdown",
      "metadata": {
        "id": "0LiDrt7y3-lW"
      },
      "source": [
        "### For English language"
      ]
    },
    {
      "cell_type": "code",
      "metadata": {
        "colab": {
          "base_uri": "https://localhost:8080/"
        },
        "id": "k2n7U_B00ebs",
        "outputId": "0149d65d-544d-4a27-c8a8-7a18e95317a5"
      },
      "source": [
        "output_text_processor = tf.keras.layers.TextVectorization(\n",
        "    standardize=tf_lower_and_split_punct,\n",
        "    max_tokens=max_vocab_size)\n",
        "\n",
        "output_text_processor.adapt(targ)\n",
        "output_text_processor.get_vocabulary()[:10]"
      ],
      "execution_count": 13,
      "outputs": [
        {
          "output_type": "execute_result",
          "data": {
            "text/plain": [
              "['', '[UNK]', '[START]', '[END]', '.', 'you', '?', 'to', 'i', 'the']"
            ]
          },
          "metadata": {},
          "execution_count": 13
        }
      ]
    },
    {
      "cell_type": "markdown",
      "metadata": {
        "id": "VQujLhNg4BrF"
      },
      "source": [
        "### See some tokens"
      ]
    },
    {
      "cell_type": "code",
      "metadata": {
        "colab": {
          "base_uri": "https://localhost:8080/"
        },
        "id": "DubharMb1QAt",
        "outputId": "15038179-0b98-433f-cf1c-1a7745622cea"
      },
      "source": [
        "example_inp_tokens = input_text_processor('నువ్వు అది చూసావా?')\n",
        "example_inp_tokens"
      ],
      "execution_count": 14,
      "outputs": [
        {
          "output_type": "execute_result",
          "data": {
            "text/plain": [
              "<tf.Tensor: shape=(6,), dtype=int64, numpy=array([  2,   6,   8, 311,   4,   3])>"
            ]
          },
          "metadata": {},
          "execution_count": 14
        }
      ]
    },
    {
      "cell_type": "code",
      "metadata": {
        "colab": {
          "base_uri": "https://localhost:8080/"
        },
        "id": "Ef80Q88-1aEa",
        "outputId": "85457ede-43a6-4715-827f-c8fd59eec823"
      },
      "source": [
        "example_tar_tokens = output_text_processor('Can you see that?')\n",
        "example_tar_tokens"
      ],
      "execution_count": 15,
      "outputs": [
        {
          "output_type": "execute_result",
          "data": {
            "text/plain": [
              "<tf.Tensor: shape=(7,), dtype=int64, numpy=array([  2,  30,   5, 199,  10,   6,   3])>"
            ]
          },
          "metadata": {},
          "execution_count": 15
        }
      ]
    },
    {
      "cell_type": "markdown",
      "metadata": {
        "id": "6BWNVkXh74dU"
      },
      "source": [
        "## Constants"
      ]
    },
    {
      "cell_type": "code",
      "metadata": {
        "id": "6Z-Q4E8A78xB"
      },
      "source": [
        "embedding_dim = 256\n",
        "units = 1024"
      ],
      "execution_count": 16,
      "outputs": []
    },
    {
      "cell_type": "markdown",
      "metadata": {
        "id": "3HCh9PfH4oZK"
      },
      "source": [
        "# Encoder"
      ]
    },
    {
      "cell_type": "code",
      "metadata": {
        "id": "TfVSM8z87_ok"
      },
      "source": [
        "class Encoder(tf.keras.layers.Layer):\n",
        "  def __init__(self, input_vocab_size, embedding_dim, enc_units):\n",
        "    super(Encoder, self).__init__()\n",
        "    self.enc_units = enc_units\n",
        "    self.input_vocab_size = input_vocab_size\n",
        "\n",
        "    # The embedding layer converts tokens to vectors\n",
        "    self.embedding = tf.keras.layers.Embedding(self.input_vocab_size,\n",
        "                                               embedding_dim)\n",
        "\n",
        "    # The GRU RNN layer processes those vectors sequentially.\n",
        "    self.gru = tf.keras.layers.GRU(self.enc_units,\n",
        "                                   # Return the sequence and state\n",
        "                                   return_sequences=True,\n",
        "                                   return_state=True,\n",
        "                                   recurrent_initializer='glorot_uniform')\n",
        "\n",
        "  def call(self, tokens, state=None):\n",
        "    shape_checker = ShapeChecker()\n",
        "    shape_checker(tokens, ('batch', 's'))\n",
        "\n",
        "    # 2. The embedding layer looks up the embedding for each token.\n",
        "    vectors = self.embedding(tokens)\n",
        "    shape_checker(vectors, ('batch', 's', 'embed_dim'))\n",
        "\n",
        "    # 3. The GRU processes the embedding sequence.\n",
        "    #    output shape: (batch, s, enc_units)\n",
        "    #    state shape: (batch, enc_units)\n",
        "    output, state = self.gru(vectors, initial_state=state)\n",
        "    shape_checker(output, ('batch', 's', 'enc_units'))\n",
        "    shape_checker(state, ('batch', 'enc_units'))\n",
        "\n",
        "    # 4. Returns the new sequence and its state.\n",
        "    return output, state"
      ],
      "execution_count": 17,
      "outputs": []
    },
    {
      "cell_type": "code",
      "metadata": {
        "colab": {
          "base_uri": "https://localhost:8080/"
        },
        "id": "WaAwgen08g35",
        "outputId": "5e1b9282-7c23-4bd5-f353-bb9e0dd52f91"
      },
      "source": [
        "# Convert the input text to tokens.\n",
        "example_tokens = input_text_processor(example_input_batch)\n",
        "\n",
        "# Encode the input sequence.\n",
        "encoder = Encoder(input_text_processor.vocabulary_size(),\n",
        "                  embedding_dim, units)\n",
        "example_enc_output, example_enc_state = encoder(example_tokens)\n",
        "\n",
        "print(f'Input batch, shape (batch): {example_input_batch.shape}')\n",
        "print(f'Input batch tokens, shape (batch, s): {example_tokens.shape}')\n",
        "print(f'Encoder output, shape (batch, s, units): {example_enc_output.shape}')\n",
        "print(f'Encoder state, shape (batch, units): {example_enc_state.shape}')"
      ],
      "execution_count": 18,
      "outputs": [
        {
          "output_type": "stream",
          "name": "stdout",
          "text": [
            "Input batch, shape (batch): (60,)\n",
            "Input batch tokens, shape (batch, s): (60, 12)\n",
            "Encoder output, shape (batch, s, units): (60, 12, 1024)\n",
            "Encoder state, shape (batch, units): (60, 1024)\n"
          ]
        }
      ]
    },
    {
      "cell_type": "markdown",
      "metadata": {
        "id": "7reyM4fc4rmJ"
      },
      "source": [
        "# Attention Layers"
      ]
    },
    {
      "cell_type": "markdown",
      "metadata": {
        "id": "ijN0V-aI46-x"
      },
      "source": [
        "## Bahdanau Attention"
      ]
    },
    {
      "cell_type": "code",
      "metadata": {
        "id": "8nMlsrbr4ud7"
      },
      "source": [
        "class BahdanauAttention(tf.keras.layers.Layer):\n",
        "  def __init__(self, units):\n",
        "    super().__init__()\n",
        "    # For Eqn. (4), the  Bahdanau attention\n",
        "    self.W1 = tf.keras.layers.Dense(units, use_bias=False)\n",
        "    self.W2 = tf.keras.layers.Dense(units, use_bias=False)\n",
        "\n",
        "    self.attention = tf.keras.layers.AdditiveAttention()\n",
        "\n",
        "  def call(self, query, value, mask):\n",
        "    shape_checker = ShapeChecker()\n",
        "    shape_checker(query, ('batch', 't', 'query_units'))\n",
        "    shape_checker(value, ('batch', 's', 'value_units'))\n",
        "    shape_checker(mask, ('batch', 's'))\n",
        "\n",
        "    # From Eqn. (4), `W1@ht`.\n",
        "    w1_query = self.W1(query)\n",
        "    shape_checker(w1_query, ('batch', 't', 'attn_units'))\n",
        "\n",
        "    # From Eqn. (4), `W2@hs`.\n",
        "    w2_key = self.W2(value)\n",
        "    shape_checker(w2_key, ('batch', 's', 'attn_units'))\n",
        "\n",
        "    query_mask = tf.ones(tf.shape(query)[:-1], dtype=bool)\n",
        "    value_mask = mask\n",
        "\n",
        "    context_vector, attention_weights = self.attention(\n",
        "        inputs = [w1_query, value, w2_key],\n",
        "        mask=[query_mask, value_mask],\n",
        "        return_attention_scores = True,\n",
        "    )\n",
        "    shape_checker(context_vector, ('batch', 't', 'value_units'))\n",
        "    shape_checker(attention_weights, ('batch', 't', 's'))\n",
        "\n",
        "    return context_vector, attention_weights"
      ],
      "execution_count": 19,
      "outputs": []
    },
    {
      "cell_type": "code",
      "metadata": {
        "id": "GwXBo95d5Puv"
      },
      "source": [
        "attention_layer = BahdanauAttention(units)"
      ],
      "execution_count": 20,
      "outputs": []
    },
    {
      "cell_type": "code",
      "metadata": {
        "colab": {
          "base_uri": "https://localhost:8080/"
        },
        "id": "Az3SlShz5caC",
        "outputId": "de7dfb5f-9a8e-4685-a2c2-a3ff0402d32b"
      },
      "source": [
        "# Later, the decoder will generate this attention query\n",
        "example_attention_query = tf.random.normal(shape=[len(example_tokens), 2, 10])\n",
        "\n",
        "# Attend to the encoded tokens\n",
        "\n",
        "context_vector, attention_weights = attention_layer(\n",
        "    query=example_attention_query,\n",
        "    value=example_enc_output,\n",
        "    mask=(example_tokens != 0))\n",
        "\n",
        "print(f'Attention result shape: (batch_size, query_seq_length, units):           {context_vector.shape}')\n",
        "print(f'Attention weights shape: (batch_size, query_seq_length, value_seq_length): {attention_weights.shape}')"
      ],
      "execution_count": 21,
      "outputs": [
        {
          "output_type": "stream",
          "name": "stdout",
          "text": [
            "Attention result shape: (batch_size, query_seq_length, units):           (60, 2, 1024)\n",
            "Attention weights shape: (batch_size, query_seq_length, value_seq_length): (60, 2, 12)\n"
          ]
        }
      ]
    },
    {
      "cell_type": "markdown",
      "metadata": {
        "id": "XE7o0uJU4rh2"
      },
      "source": [
        "# Decoder"
      ]
    },
    {
      "cell_type": "code",
      "metadata": {
        "id": "c2LzXKtk6JtR"
      },
      "source": [
        "class DecoderInput(typing.NamedTuple):\n",
        "  new_tokens: Any\n",
        "  enc_output: Any\n",
        "  mask: Any\n",
        "\n",
        "class DecoderOutput(typing.NamedTuple):\n",
        "  logits: Any\n",
        "  attention_weights: Any"
      ],
      "execution_count": 22,
      "outputs": []
    },
    {
      "cell_type": "code",
      "metadata": {
        "id": "Xq5z9qVo50Wt"
      },
      "source": [
        "class Decoder(tf.keras.layers.Layer):\n",
        "  def __init__(self, output_vocab_size, embedding_dim, dec_units):\n",
        "    super(Decoder, self).__init__()\n",
        "    self.dec_units = dec_units\n",
        "    self.output_vocab_size = output_vocab_size\n",
        "    self.embedding_dim = embedding_dim\n",
        "\n",
        "    # For Step 1. The embedding layer convets token IDs to vectors\n",
        "    self.embedding = tf.keras.layers.Embedding(self.output_vocab_size,\n",
        "                                               embedding_dim)\n",
        "\n",
        "    # For Step 2. The RNN keeps track of what's been generated so far.\n",
        "    self.gru = tf.keras.layers.GRU(self.dec_units,\n",
        "                                   return_sequences=True,\n",
        "                                   return_state=True,\n",
        "                                   recurrent_initializer='glorot_uniform')\n",
        "\n",
        "    # For step 3. The RNN output will be the query for the attention layer.\n",
        "    self.attention = BahdanauAttention(self.dec_units)\n",
        "\n",
        "    # For step 4. Eqn. (3): converting `ct` to `at`\n",
        "    self.Wc = tf.keras.layers.Dense(dec_units, activation=tf.math.tanh,\n",
        "                                    use_bias=False)\n",
        "\n",
        "    # For step 5. This fully connected layer produces the logits for each\n",
        "    # output token.\n",
        "    self.fc = tf.keras.layers.Dense(self.output_vocab_size)\n",
        "\n",
        "  def call(self,\n",
        "         inputs: DecoderInput,\n",
        "         state=None) -> Tuple[DecoderOutput, tf.Tensor]:\n",
        "    shape_checker = ShapeChecker()\n",
        "    shape_checker(inputs.new_tokens, ('batch', 't'))\n",
        "    shape_checker(inputs.enc_output, ('batch', 's', 'enc_units'))\n",
        "    shape_checker(inputs.mask, ('batch', 's'))\n",
        "\n",
        "    if state is not None:\n",
        "      shape_checker(state, ('batch', 'dec_units'))\n",
        "\n",
        "    # Step 1. Lookup the embeddings\n",
        "    vectors = self.embedding(inputs.new_tokens)\n",
        "    shape_checker(vectors, ('batch', 't', 'embedding_dim'))\n",
        "\n",
        "    # Step 2. Process one step with the RNN\n",
        "    rnn_output, state = self.gru(vectors, initial_state=state)\n",
        "\n",
        "    shape_checker(rnn_output, ('batch', 't', 'dec_units'))\n",
        "    shape_checker(state, ('batch', 'dec_units'))\n",
        "\n",
        "    # Step 3. Use the RNN output as the query for the attention over the\n",
        "    # encoder output.\n",
        "    context_vector, attention_weights = self.attention(\n",
        "        query=rnn_output, value=inputs.enc_output, mask=inputs.mask)\n",
        "    shape_checker(context_vector, ('batch', 't', 'dec_units'))\n",
        "    shape_checker(attention_weights, ('batch', 't', 's'))\n",
        "\n",
        "    # Step 4. Eqn. (3): Join the context_vector and rnn_output\n",
        "    #     [ct; ht] shape: (batch t, value_units + query_units)\n",
        "    context_and_rnn_output = tf.concat([context_vector, rnn_output], axis=-1)\n",
        "\n",
        "    # Step 4. Eqn. (3): `at = tanh(Wc@[ct; ht])`\n",
        "    attention_vector = self.Wc(context_and_rnn_output)\n",
        "    shape_checker(attention_vector, ('batch', 't', 'dec_units'))\n",
        "\n",
        "    # Step 5. Generate logit predictions:\n",
        "    logits = self.fc(attention_vector)\n",
        "    shape_checker(logits, ('batch', 't', 'output_vocab_size'))\n",
        "\n",
        "    return DecoderOutput(logits, attention_weights), state"
      ],
      "execution_count": 23,
      "outputs": []
    },
    {
      "cell_type": "code",
      "metadata": {
        "id": "SwSvsa4R56GQ"
      },
      "source": [
        "decoder = Decoder(output_text_processor.vocabulary_size(),\n",
        "                  embedding_dim, units)"
      ],
      "execution_count": 24,
      "outputs": []
    },
    {
      "cell_type": "markdown",
      "metadata": {
        "id": "AQpJ5Xej607m"
      },
      "source": [
        "# Training"
      ]
    },
    {
      "cell_type": "markdown",
      "metadata": {
        "id": "XQI6bl3P65rr"
      },
      "source": [
        "## Loss function\n",
        "\n",
        "Summary:\n",
        "\n",
        "\n",
        "*   Sparse Categorical crossentropy is the loss function\n",
        "*   Not computing the loss where padding is applied\n",
        "\n"
      ]
    },
    {
      "cell_type": "code",
      "metadata": {
        "id": "rOPAFtbb637r"
      },
      "source": [
        "class MaskedLoss(tf.keras.losses.Loss):\n",
        "  def __init__(self):\n",
        "    self.name = 'masked_loss'\n",
        "    self.loss = tf.keras.losses.SparseCategoricalCrossentropy(\n",
        "        from_logits=True, reduction='none')\n",
        "\n",
        "  def __call__(self, y_true, y_pred):\n",
        "    shape_checker = ShapeChecker()\n",
        "    shape_checker(y_true, ('batch', 't'))\n",
        "    shape_checker(y_pred, ('batch', 't', 'logits'))\n",
        "\n",
        "    # Calculate the loss for each item in the batch.\n",
        "    loss = self.loss(y_true, y_pred)\n",
        "    shape_checker(loss, ('batch', 't'))\n",
        "\n",
        "    # Mask off the losses on padding.\n",
        "    mask = tf.cast(y_true != 0, tf.float32)\n",
        "    shape_checker(mask, ('batch', 't'))\n",
        "    loss *= mask\n",
        "\n",
        "    # Return the total.\n",
        "    return tf.reduce_sum(loss)"
      ],
      "execution_count": 25,
      "outputs": []
    },
    {
      "cell_type": "markdown",
      "metadata": {
        "id": "HcnrzfLV6_BN"
      },
      "source": [
        "## Train Model\n",
        "\n",
        "Summary\n",
        "\n",
        "\n",
        "1.   A constructor which will initialise Encoder, Decoder etc\n",
        "2.   A **train_step** function which will choose which function to run whether the train step function which is wrapped with tf or the normal train step function.\n",
        "3.   A  **_preprocess** function which will preprocess the data.\n",
        "4.   A  **_train_step** function.\n",
        "5.   A  **_tf_train_step** function wrapped like a tf function.\n",
        "6.   A  **_loop_step** function.\n",
        "\n"
      ]
    },
    {
      "cell_type": "code",
      "metadata": {
        "id": "yjNgJCTe7Bb_"
      },
      "source": [
        "class TrainTranslator(tf.keras.Model):\n",
        "  ## --------------------------------------------------Start of the Constructor----------------------------------------------------------\n",
        "  def __init__(self, embedding_dim, units,\n",
        "               input_text_processor,\n",
        "               output_text_processor, \n",
        "               use_tf_function=True):\n",
        "    super().__init__()\n",
        "    # Build the encoder and decoder\n",
        "    encoder = Encoder(input_text_processor.vocabulary_size(),\n",
        "                      embedding_dim, units)\n",
        "    decoder = Decoder(output_text_processor.vocabulary_size(),\n",
        "                      embedding_dim, units)\n",
        "\n",
        "    self.encoder = encoder\n",
        "    self.decoder = decoder\n",
        "    self.input_text_processor = input_text_processor\n",
        "    self.output_text_processor = output_text_processor\n",
        "    self.use_tf_function = use_tf_function\n",
        "    self.shape_checker = ShapeChecker()\n",
        "  ## --------------------------------------------------End of the Constructor----------------------------------------------------------\n",
        "\n",
        "  ## --------------------------------------------------Start of the Call----------------------------------------------------------\n",
        "  def call(self, inputs):\n",
        "    return self._test_step(inputs)\n",
        "  ## --------------------------------------------------End of the Call----------------------------------------------------------\n",
        "\n",
        "  ## --------------------------------------------------Start of the train step----------------------------------------------------------\n",
        "  #Choose which train step to run\n",
        "  def train_step(self, inputs):\n",
        "    self.shape_checker = ShapeChecker()\n",
        "    if self.use_tf_function:\n",
        "      return self._tf_train_step(inputs)\n",
        "    else:\n",
        "      return self._train_step(inputs)\n",
        "  ## --------------------------------------------------End of the train step----------------------------------------------------------\n",
        "\n",
        "  ## --------------------------------------------------Start of the Preprocess data function----------------------------------------------------------\n",
        "  def _preprocess(self, input_text, target_text):\n",
        "    self.shape_checker(input_text, ('batch',))\n",
        "    self.shape_checker(target_text, ('batch',))\n",
        "\n",
        "    # Convert the text to token IDs\n",
        "    input_tokens = self.input_text_processor(input_text)\n",
        "    target_tokens = self.output_text_processor(target_text)\n",
        "    self.shape_checker(input_tokens, ('batch', 's'))\n",
        "    self.shape_checker(target_tokens, ('batch', 't'))\n",
        "\n",
        "    # Convert IDs to masks.\n",
        "    input_mask = input_tokens != 0\n",
        "    self.shape_checker(input_mask, ('batch', 's'))\n",
        "\n",
        "    target_mask = target_tokens != 0\n",
        "    self.shape_checker(target_mask, ('batch', 't'))\n",
        "\n",
        "    return input_tokens, input_mask, target_tokens, target_mask\n",
        "  ## --------------------------------------------------End of the Preprocess data function----------------------------------------------------------\n",
        "\n",
        "  ## --------------------------------------------------Start of the train step function definition----------------------------------------------------------\n",
        "  def _train_step(self, inputs):\n",
        "    input_text, target_text = inputs  \n",
        "\n",
        "    (input_tokens, input_mask,\n",
        "    target_tokens, target_mask) = self._preprocess(input_text, target_text)\n",
        "\n",
        "    max_target_length = tf.shape(target_tokens)[1]\n",
        "    \n",
        "\n",
        "    with tf.GradientTape() as tape:\n",
        "      # Encode the input\n",
        "      enc_output, enc_state = self.encoder(input_tokens)\n",
        "      self.shape_checker(enc_output, ('batch', 's', 'enc_units'))\n",
        "      self.shape_checker(enc_state, ('batch', 'enc_units'))\n",
        "\n",
        "      # Initialize the decoder's state to the encoder's final state.\n",
        "      # This only works if the encoder and decoder have the same number of\n",
        "      # units.\n",
        "      dec_state = enc_state\n",
        "      loss = tf.constant(0.0)\n",
        "\n",
        "      for t in tf.range(max_target_length-1):\n",
        "        # Pass in two tokens from the target sequence:\n",
        "        # 1. The current input to the decoder.\n",
        "        # 2. The target for the decoder's next prediction.\n",
        "        new_tokens = target_tokens[:, t:t+2]\n",
        "        step_loss, dec_state = self._loop_step(new_tokens, input_mask,\n",
        "                                              enc_output, dec_state)\n",
        "        loss = loss + step_loss\n",
        "\n",
        "      # Average the loss over all non padding tokens.\n",
        "      average_loss = loss / tf.reduce_sum(tf.cast(target_mask, tf.float32))\n",
        "\n",
        "\n",
        "    # Apply an optimization step\n",
        "    variables = self.trainable_variables \n",
        "    gradients = tape.gradient(average_loss, variables)\n",
        "    self.optimizer.apply_gradients(zip(gradients, variables))\n",
        "\n",
        "    # Return a dict mapping metric names to current value\n",
        "    return {'batch_loss': average_loss}\n",
        "  ## --------------------------------------------------End of the train step function definition----------------------------------------------------------\n",
        "\n",
        "\n",
        "  ## --------------------------------------------------Start of the test step evaluate function definition----------------------------------------------------------\n",
        "  @tf.function(input_signature=[[tf.TensorSpec(dtype=tf.string, shape=[None]),\n",
        "                               tf.TensorSpec(dtype=tf.string, shape=[None])]])\n",
        "  def _test_step(self, inputs):\n",
        "    input_text, target_text = inputs  \n",
        "    \n",
        "    (input_tokens, input_mask,\n",
        "    target_tokens, target_mask) = self._preprocess(input_text, target_text)\n",
        "\n",
        "    max_target_length = tf.shape(target_tokens)[1]\n",
        "    \n",
        "    # Encode the input\n",
        "    enc_output, enc_state = self.encoder(input_tokens)\n",
        "    self.shape_checker(enc_output, ('batch', 's', 'enc_units'))\n",
        "    self.shape_checker(enc_state, ('batch', 'enc_units'))\n",
        "\n",
        "    # Initialize the decoder's state to the encoder's final state.\n",
        "    # This only works if the encoder and decoder have the same number of\n",
        "    # units.\n",
        "    dec_state = enc_state\n",
        "    loss = tf.constant(0.0)\n",
        "\n",
        "    for t in tf.range(max_target_length-1):\n",
        "      # Pass in two tokens from the target sequence:\n",
        "      # 1. The current input to the decoder.\n",
        "      # 2. The target for the decoder's next prediction.\n",
        "      new_tokens = target_tokens[:, t:t+2]\n",
        "      step_loss, dec_state = self._loop_step(new_tokens, input_mask,\n",
        "                                            enc_output, dec_state)\n",
        "      loss = loss + step_loss\n",
        "\n",
        "    # Average the loss over all non padding tokens.\n",
        "    average_loss = loss / tf.reduce_sum(tf.cast(target_mask, tf.float32))\n",
        "\n",
        "    # Return a dict mapping metric names to current value\n",
        "    return {'batch_loss': average_loss}\n",
        "  ## --------------------------------------------------End of the test step evaluate function definition----------------------------------------------------------\n",
        "\n",
        "  ## --------------------------------------------------Start of the tf train step function ----------------------------------------------------------\n",
        "  # wrap train step into tf function to speed up the process\n",
        "  @tf.function(input_signature=[[tf.TensorSpec(dtype=tf.string, shape=[None]),\n",
        "                               tf.TensorSpec(dtype=tf.string, shape=[None])]])\n",
        "  def _tf_train_step(self, inputs):\n",
        "    return self._train_step(inputs)\n",
        "  ## --------------------------------------------------Start of the tf train step function ----------------------------------------------------------\n",
        "\n",
        "\n",
        "  ## --------------------------------------------------Start of the train loop function----------------------------------------------------------\n",
        "  #The _loop_step method, added below, executes the decoder and calculates the incremental loss and new decoder state (dec_state).\n",
        "  def _loop_step(self, new_tokens, input_mask, enc_output, dec_state):\n",
        "    input_token, target_token = new_tokens[:, 0:1], new_tokens[:, 1:2]\n",
        "\n",
        "    # Run the decoder one step.\n",
        "    decoder_input = DecoderInput(new_tokens=input_token,\n",
        "                                enc_output=enc_output,\n",
        "                                mask=input_mask)\n",
        "\n",
        "    dec_result, dec_state = self.decoder(decoder_input, state=dec_state)\n",
        "    self.shape_checker(dec_result.logits, ('batch', 't1', 'logits'))\n",
        "    self.shape_checker(dec_result.attention_weights, ('batch', 't1', 's'))\n",
        "    self.shape_checker(dec_state, ('batch', 'dec_units'))\n",
        "\n",
        "    # `self.loss` returns the total for non-padded tokens\n",
        "    y = target_token\n",
        "    y_pred = dec_result.logits\n",
        "    step_loss = self.loss(y, y_pred)\n",
        "\n",
        "    return step_loss, dec_state\n",
        "   ## --------------------------------------------------End of the train loop function----------------------------------------------------------"
      ],
      "execution_count": 26,
      "outputs": []
    },
    {
      "cell_type": "markdown",
      "metadata": {
        "id": "qIWxhEMq-hxK"
      },
      "source": [
        "## Test the Model to see whether it works or not for a single batch"
      ]
    },
    {
      "cell_type": "code",
      "metadata": {
        "id": "0PBoLFRi7k-P"
      },
      "source": [
        "translator = TrainTranslator(\n",
        "    embedding_dim, units,\n",
        "    input_text_processor=input_text_processor,\n",
        "    output_text_processor=output_text_processor,\n",
        "    use_tf_function=True)\n",
        "\n",
        "# Configure the loss and optimizer\n",
        "translator.compile(\n",
        "    optimizer=tf.optimizers.Adam(),\n",
        "    loss=MaskedLoss(),\n",
        ")"
      ],
      "execution_count": 27,
      "outputs": []
    },
    {
      "cell_type": "code",
      "metadata": {
        "colab": {
          "base_uri": "https://localhost:8080/",
          "height": 0
        },
        "id": "923fPXrO9Gz9",
        "outputId": "1176b8bd-4110-4c95-e5f7-c43d59ef08d3"
      },
      "source": [
        "losses = []\n",
        "for n in range(100):\n",
        "  print('.', end='')\n",
        "  logs = translator.train_step([example_input_batch, example_target_batch])\n",
        "  losses.append(logs['batch_loss'].numpy())\n",
        "\n",
        "print()\n",
        "plt.plot(losses)"
      ],
      "execution_count": 28,
      "outputs": [
        {
          "output_type": "stream",
          "name": "stdout",
          "text": [
            "....................................................................................................\n"
          ]
        },
        {
          "output_type": "execute_result",
          "data": {
            "text/plain": [
              "[<matplotlib.lines.Line2D at 0x7f0d3ae3ef10>]"
            ]
          },
          "metadata": {},
          "execution_count": 28
        },
        {
          "output_type": "display_data",
          "data": {
            "image/png": "[encoded data removed]",
            "text/plain": [
              "<Figure size 432x288 with 1 Axes>"
            ]
          },
          "metadata": {
            "needs_background": "light"
          }
        }
      ]
    },
    {
      "cell_type": "markdown",
      "metadata": {
        "id": "1_InTuIU-lTG"
      },
      "source": [
        "## Training the Model"
      ]
    },
    {
      "cell_type": "code",
      "metadata": {
        "id": "dIJF1cdi-pbe"
      },
      "source": [
        "train_translator = TrainTranslator(\n",
        "    embedding_dim, units,\n",
        "    input_text_processor=input_text_processor,\n",
        "    output_text_processor=output_text_processor,\n",
        "    use_tf_function=True)\n",
        "\n",
        "# Configure the loss and optimizer\n",
        "train_translator.compile(\n",
        "    optimizer=tf.optimizers.Adam(),\n",
        "    loss=MaskedLoss(),\n",
        ")"
      ],
      "execution_count": 27,
      "outputs": []
    },
    {
      "cell_type": "code",
      "metadata": {
        "id": "zuAmK76A_BX0"
      },
      "source": [
        "class BatchLogs(tf.keras.callbacks.Callback):\n",
        "  def __init__(self, key):\n",
        "    self.key = key\n",
        "    self.logs = []\n",
        "\n",
        "  def on_train_batch_end(self, n, logs):\n",
        "    self.logs.append(logs[self.key])\n",
        "\n",
        "batch_loss = BatchLogs('batch_loss')"
      ],
      "execution_count": 28,
      "outputs": []
    },
    {
      "cell_type": "code",
      "metadata": {
        "colab": {
          "base_uri": "https://localhost:8080/"
        },
        "id": "pliFuhCm_DP7",
        "outputId": "34873cb6-8a35-43fb-cf72-5f9ca9c730bf"
      },
      "source": [
        "train_translator.fit(train_dataset, epochs=100, callbacks=[batch_loss])"
      ],
      "execution_count": 29,
      "outputs": [
        {
          "output_type": "stream",
          "name": "stdout",
          "text": [
            "Epoch 1/100\n",
            "2/2 [==============================] - 6s 136ms/step - batch_loss: 5.1815\n",
            "Epoch 2/100\n",
            "2/2 [==============================] - 0s 127ms/step - batch_loss: 4.8788\n",
            "Epoch 3/100\n",
            "2/2 [==============================] - 0s 164ms/step - batch_loss: 5.8877\n",
            "Epoch 4/100\n",
            "2/2 [==============================] - 0s 122ms/step - batch_loss: 4.2929\n",
            "Epoch 5/100\n",
            "2/2 [==============================] - 0s 155ms/step - batch_loss: 4.5872\n",
            "Epoch 6/100\n",
            "2/2 [==============================] - 0s 130ms/step - batch_loss: 4.5188\n",
            "Epoch 7/100\n",
            "2/2 [==============================] - 0s 161ms/step - batch_loss: 4.3331\n",
            "Epoch 8/100\n",
            "2/2 [==============================] - 0s 161ms/step - batch_loss: 4.0390\n",
            "Epoch 9/100\n",
            "2/2 [==============================] - 0s 129ms/step - batch_loss: 3.8866\n",
            "Epoch 10/100\n",
            "2/2 [==============================] - 0s 168ms/step - batch_loss: 3.9502\n",
            "Epoch 11/100\n",
            "2/2 [==============================] - 0s 165ms/step - batch_loss: 3.8632\n",
            "Epoch 12/100\n",
            "2/2 [==============================] - 0s 176ms/step - batch_loss: 3.7007\n",
            "Epoch 13/100\n",
            "2/2 [==============================] - 0s 142ms/step - batch_loss: 3.6371\n",
            "Epoch 14/100\n",
            "2/2 [==============================] - 0s 164ms/step - batch_loss: 3.6204\n",
            "Epoch 15/100\n",
            "2/2 [==============================] - 0s 123ms/step - batch_loss: 3.5310\n",
            "Epoch 16/100\n",
            "2/2 [==============================] - 0s 160ms/step - batch_loss: 3.5487\n",
            "Epoch 17/100\n",
            "2/2 [==============================] - 0s 166ms/step - batch_loss: 3.4044\n",
            "Epoch 18/100\n",
            "2/2 [==============================] - 0s 141ms/step - batch_loss: 3.3982\n",
            "Epoch 19/100\n",
            "2/2 [==============================] - 0s 167ms/step - batch_loss: 3.3495\n",
            "Epoch 20/100\n",
            "2/2 [==============================] - 0s 153ms/step - batch_loss: 3.2924\n",
            "Epoch 21/100\n",
            "2/2 [==============================] - 0s 121ms/step - batch_loss: 3.2355\n",
            "Epoch 22/100\n",
            "2/2 [==============================] - 0s 117ms/step - batch_loss: 3.1792\n",
            "Epoch 23/100\n",
            "2/2 [==============================] - 0s 126ms/step - batch_loss: 3.0803\n",
            "Epoch 24/100\n",
            "2/2 [==============================] - 0s 144ms/step - batch_loss: 3.0368\n",
            "Epoch 25/100\n",
            "2/2 [==============================] - 0s 136ms/step - batch_loss: 3.0315\n",
            "Epoch 26/100\n",
            "2/2 [==============================] - 0s 146ms/step - batch_loss: 2.9375\n",
            "Epoch 27/100\n",
            "2/2 [==============================] - 0s 149ms/step - batch_loss: 2.8652\n",
            "Epoch 28/100\n",
            "2/2 [==============================] - 0s 174ms/step - batch_loss: 2.7792\n",
            "Epoch 29/100\n",
            "2/2 [==============================] - 0s 135ms/step - batch_loss: 2.7129\n",
            "Epoch 30/100\n",
            "2/2 [==============================] - 0s 123ms/step - batch_loss: 2.5779\n",
            "Epoch 31/100\n",
            "2/2 [==============================] - 0s 142ms/step - batch_loss: 2.5335\n",
            "Epoch 32/100\n",
            "2/2 [==============================] - 0s 176ms/step - batch_loss: 2.4634\n",
            "Epoch 33/100\n",
            "2/2 [==============================] - 0s 151ms/step - batch_loss: 2.3912\n",
            "Epoch 34/100\n",
            "2/2 [==============================] - 0s 146ms/step - batch_loss: 2.3231\n",
            "Epoch 35/100\n",
            "2/2 [==============================] - 0s 160ms/step - batch_loss: 2.2649\n",
            "Epoch 36/100\n",
            "2/2 [==============================] - 0s 126ms/step - batch_loss: 2.1294\n",
            "Epoch 37/100\n",
            "2/2 [==============================] - 0s 122ms/step - batch_loss: 2.0443\n",
            "Epoch 38/100\n",
            "2/2 [==============================] - 0s 124ms/step - batch_loss: 1.9776\n",
            "Epoch 39/100\n",
            "2/2 [==============================] - 0s 156ms/step - batch_loss: 1.8331\n",
            "Epoch 40/100\n",
            "2/2 [==============================] - 0s 164ms/step - batch_loss: 1.7761\n",
            "Epoch 41/100\n",
            "2/2 [==============================] - 0s 150ms/step - batch_loss: 1.6256\n",
            "Epoch 42/100\n",
            "2/2 [==============================] - 0s 174ms/step - batch_loss: 1.5642\n",
            "Epoch 43/100\n",
            "2/2 [==============================] - 0s 160ms/step - batch_loss: 1.4408\n",
            "Epoch 44/100\n",
            "2/2 [==============================] - 0s 166ms/step - batch_loss: 1.3322\n",
            "Epoch 45/100\n",
            "2/2 [==============================] - 0s 140ms/step - batch_loss: 1.2739\n",
            "Epoch 46/100\n",
            "2/2 [==============================] - 0s 130ms/step - batch_loss: 1.1602\n",
            "Epoch 47/100\n",
            "2/2 [==============================] - 0s 171ms/step - batch_loss: 1.0864\n",
            "Epoch 48/100\n",
            "2/2 [==============================] - 0s 179ms/step - batch_loss: 0.9883\n",
            "Epoch 49/100\n",
            "2/2 [==============================] - 0s 177ms/step - batch_loss: 0.9223\n",
            "Epoch 50/100\n",
            "2/2 [==============================] - 0s 178ms/step - batch_loss: 0.8210\n",
            "Epoch 51/100\n",
            "2/2 [==============================] - 0s 175ms/step - batch_loss: 0.7599\n",
            "Epoch 52/100\n",
            "2/2 [==============================] - 0s 157ms/step - batch_loss: 0.6790\n",
            "Epoch 53/100\n",
            "2/2 [==============================] - 0s 150ms/step - batch_loss: 0.5983\n",
            "Epoch 54/100\n",
            "2/2 [==============================] - 0s 154ms/step - batch_loss: 0.5680\n",
            "Epoch 55/100\n",
            "2/2 [==============================] - 0s 125ms/step - batch_loss: 0.5152\n",
            "Epoch 56/100\n",
            "2/2 [==============================] - 0s 120ms/step - batch_loss: 0.4470\n",
            "Epoch 57/100\n",
            "2/2 [==============================] - 0s 151ms/step - batch_loss: 0.3784\n",
            "Epoch 58/100\n",
            "2/2 [==============================] - 0s 165ms/step - batch_loss: 0.3386\n",
            "Epoch 59/100\n",
            "2/2 [==============================] - 0s 157ms/step - batch_loss: 0.3358\n",
            "Epoch 60/100\n",
            "2/2 [==============================] - 0s 153ms/step - batch_loss: 0.2805\n",
            "Epoch 61/100\n",
            "2/2 [==============================] - 0s 157ms/step - batch_loss: 0.2634\n",
            "Epoch 62/100\n",
            "2/2 [==============================] - 0s 148ms/step - batch_loss: 0.2166\n",
            "Epoch 63/100\n",
            "2/2 [==============================] - 0s 145ms/step - batch_loss: 0.1967\n",
            "Epoch 64/100\n",
            "2/2 [==============================] - 0s 167ms/step - batch_loss: 0.1685\n",
            "Epoch 65/100\n",
            "2/2 [==============================] - 0s 168ms/step - batch_loss: 0.1485\n",
            "Epoch 66/100\n",
            "2/2 [==============================] - 0s 170ms/step - batch_loss: 0.1310\n",
            "Epoch 67/100\n",
            "2/2 [==============================] - 0s 161ms/step - batch_loss: 0.1222\n",
            "Epoch 68/100\n",
            "2/2 [==============================] - 0s 162ms/step - batch_loss: 0.1067\n",
            "Epoch 69/100\n",
            "2/2 [==============================] - 0s 147ms/step - batch_loss: 0.0899\n",
            "Epoch 70/100\n",
            "2/2 [==============================] - 0s 137ms/step - batch_loss: 0.0785\n",
            "Epoch 71/100\n",
            "2/2 [==============================] - 0s 169ms/step - batch_loss: 0.0722\n",
            "Epoch 72/100\n",
            "2/2 [==============================] - 0s 146ms/step - batch_loss: 0.0645\n",
            "Epoch 73/100\n",
            "2/2 [==============================] - 0s 129ms/step - batch_loss: 0.0532\n",
            "Epoch 74/100\n",
            "2/2 [==============================] - 0s 180ms/step - batch_loss: 0.0574\n",
            "Epoch 75/100\n",
            "2/2 [==============================] - 0s 162ms/step - batch_loss: 0.0500\n",
            "Epoch 76/100\n",
            "2/2 [==============================] - 0s 170ms/step - batch_loss: 0.0431\n",
            "Epoch 77/100\n",
            "2/2 [==============================] - 0s 167ms/step - batch_loss: 0.0375\n",
            "Epoch 78/100\n",
            "2/2 [==============================] - 0s 165ms/step - batch_loss: 0.0353\n",
            "Epoch 79/100\n",
            "2/2 [==============================] - 0s 166ms/step - batch_loss: 0.0316\n",
            "Epoch 80/100\n",
            "2/2 [==============================] - 0s 163ms/step - batch_loss: 0.0288\n",
            "Epoch 81/100\n",
            "2/2 [==============================] - 0s 118ms/step - batch_loss: 0.0275\n",
            "Epoch 82/100\n",
            "2/2 [==============================] - 0s 124ms/step - batch_loss: 0.0247\n",
            "Epoch 83/100\n",
            "2/2 [==============================] - 0s 166ms/step - batch_loss: 0.0216\n",
            "Epoch 84/100\n",
            "2/2 [==============================] - 0s 169ms/step - batch_loss: 0.0207\n",
            "Epoch 85/100\n",
            "2/2 [==============================] - 0s 124ms/step - batch_loss: 0.0193\n",
            "Epoch 86/100\n",
            "2/2 [==============================] - 0s 128ms/step - batch_loss: 0.0173\n",
            "Epoch 87/100\n",
            "2/2 [==============================] - 0s 142ms/step - batch_loss: 0.0174\n",
            "Epoch 88/100\n",
            "2/2 [==============================] - 0s 154ms/step - batch_loss: 0.0157\n",
            "Epoch 89/100\n",
            "2/2 [==============================] - 0s 137ms/step - batch_loss: 0.0169\n",
            "Epoch 90/100\n",
            "2/2 [==============================] - 0s 161ms/step - batch_loss: 0.0149\n",
            "Epoch 91/100\n",
            "2/2 [==============================] - 0s 148ms/step - batch_loss: 0.0141\n",
            "Epoch 92/100\n",
            "2/2 [==============================] - 0s 159ms/step - batch_loss: 0.0130\n",
            "Epoch 93/100\n",
            "2/2 [==============================] - 0s 129ms/step - batch_loss: 0.0128\n",
            "Epoch 94/100\n",
            "2/2 [==============================] - 0s 156ms/step - batch_loss: 0.0125\n",
            "Epoch 95/100\n",
            "2/2 [==============================] - 0s 171ms/step - batch_loss: 0.0118\n",
            "Epoch 96/100\n",
            "2/2 [==============================] - 0s 163ms/step - batch_loss: 0.0113\n",
            "Epoch 97/100\n",
            "2/2 [==============================] - 0s 127ms/step - batch_loss: 0.0112\n",
            "Epoch 98/100\n",
            "2/2 [==============================] - 0s 166ms/step - batch_loss: 0.0112\n",
            "Epoch 99/100\n",
            "2/2 [==============================] - 0s 169ms/step - batch_loss: 0.0103\n",
            "Epoch 100/100\n",
            "2/2 [==============================] - 0s 127ms/step - batch_loss: 0.0101\n"
          ]
        },
        {
          "output_type": "execute_result",
          "data": {
            "text/plain": [
              "<keras.callbacks.History at 0x7fee406c4f90>"
            ]
          },
          "metadata": {},
          "execution_count": 29
        }
      ]
    },
    {
      "cell_type": "code",
      "metadata": {
        "colab": {
          "base_uri": "https://localhost:8080/"
        },
        "id": "CFCAm2xqAdx4",
        "outputId": "f6ad8440-15c7-465d-d5d9-35d5eee2e731"
      },
      "source": [
        "losses = []\n",
        "for test_input_batch, test_target_batch in test_dataset:\n",
        "  logs = train_translator._test_step([test_input_batch, test_target_batch])\n",
        "  losses.append(logs['batch_loss'].numpy())\n",
        "print(\"Test loss: \",losses)"
      ],
      "execution_count": 99,
      "outputs": [
        {
          "output_type": "stream",
          "name": "stdout",
          "text": [
            "Test loss:  [0.0051593324]\n"
          ]
        }
      ]
    },
    {
      "cell_type": "markdown",
      "metadata": {
        "id": "15SEZQ5062pY"
      },
      "source": [
        "# Create a Translater"
      ]
    },
    {
      "cell_type": "code",
      "metadata": {
        "id": "pboiGcpcDPww"
      },
      "source": [
        "class Translator(tf.Module):\n",
        "\n",
        "  def __init__(self, encoder, decoder, input_text_processor,\n",
        "               output_text_processor):\n",
        "    self.encoder = encoder\n",
        "    self.decoder = decoder\n",
        "    self.input_text_processor = input_text_processor\n",
        "    self.output_text_processor = output_text_processor\n",
        "\n",
        "    self.output_token_string_from_index = (\n",
        "        tf.keras.layers.StringLookup(\n",
        "            vocabulary=output_text_processor.get_vocabulary(),\n",
        "            mask_token='',\n",
        "            invert=True))\n",
        "\n",
        "    # The output should never generate padding, unknown, or start.\n",
        "    index_from_string = tf.keras.layers.StringLookup(\n",
        "        vocabulary=output_text_processor.get_vocabulary(), mask_token='')\n",
        "    token_mask_ids = index_from_string(['', '[UNK]', '[START]']).numpy()\n",
        "\n",
        "    token_mask = np.zeros([index_from_string.vocabulary_size()], dtype=np.bool)\n",
        "    token_mask[np.array(token_mask_ids)] = True\n",
        "    self.token_mask = token_mask\n",
        "\n",
        "    self.start_token = index_from_string(tf.constant('[START]'))\n",
        "    self.end_token = index_from_string(tf.constant('[END]'))\n",
        "\n",
        "  def tokens_to_text(self, result_tokens):\n",
        "    shape_checker = ShapeChecker()\n",
        "    shape_checker(result_tokens, ('batch', 't'))\n",
        "    result_text_tokens = self.output_token_string_from_index(result_tokens)\n",
        "    shape_checker(result_text_tokens, ('batch', 't'))\n",
        "\n",
        "    result_text = tf.strings.reduce_join(result_text_tokens,\n",
        "                                        axis=1, separator=' ')\n",
        "    shape_checker(result_text, ('batch'))\n",
        "\n",
        "    result_text = tf.strings.strip(result_text)\n",
        "    shape_checker(result_text, ('batch',))\n",
        "    return result_text\n",
        "\n",
        "  def sample(self, logits, temperature):\n",
        "    shape_checker = ShapeChecker()\n",
        "    # 't' is usually 1 here.\n",
        "    shape_checker(logits, ('batch', 't', 'vocab'))\n",
        "    shape_checker(self.token_mask, ('vocab',))\n",
        "\n",
        "    token_mask = self.token_mask[tf.newaxis, tf.newaxis, :]\n",
        "    shape_checker(token_mask, ('batch', 't', 'vocab'), broadcast=True)\n",
        "\n",
        "    # Set the logits for all masked tokens to -inf, so they are never chosen.\n",
        "    logits = tf.where(self.token_mask, -np.inf, logits)\n",
        "\n",
        "    if temperature == 0.0:\n",
        "      new_tokens = tf.argmax(logits, axis=-1)\n",
        "    else: \n",
        "      logits = tf.squeeze(logits, axis=1)\n",
        "      new_tokens = tf.random.categorical(logits/temperature,\n",
        "                                          num_samples=1)\n",
        "\n",
        "    shape_checker(new_tokens, ('batch', 't'))\n",
        "\n",
        "    return new_tokens\n",
        "\n",
        "  def translate_unrolled(self,\n",
        "                       input_text, *,\n",
        "                       max_length=50,\n",
        "                       return_attention=True,\n",
        "                       temperature=1.0):\n",
        "    batch_size = tf.shape(input_text)[0]\n",
        "    input_tokens = self.input_text_processor(input_text)\n",
        "    enc_output, enc_state = self.encoder(input_tokens)\n",
        "\n",
        "    dec_state = enc_state\n",
        "    new_tokens = tf.fill([batch_size, 1], self.start_token)\n",
        "\n",
        "    result_tokens = []\n",
        "    attention = []\n",
        "    done = tf.zeros([batch_size, 1], dtype=tf.bool)\n",
        "\n",
        "    for _ in range(max_length):\n",
        "      dec_input = DecoderInput(new_tokens=new_tokens,\n",
        "                              enc_output=enc_output,\n",
        "                              mask=(input_tokens!=0))\n",
        "\n",
        "      dec_result, dec_state = self.decoder(dec_input, state=dec_state)\n",
        "\n",
        "      attention.append(dec_result.attention_weights)\n",
        "\n",
        "      new_tokens = self.sample(dec_result.logits, temperature)\n",
        "\n",
        "      # If a sequence produces an `end_token`, set it `done`\n",
        "      done = done | (new_tokens == self.end_token)\n",
        "      # Once a sequence is done it only produces 0-padding.\n",
        "      new_tokens = tf.where(done, tf.constant(0, dtype=tf.int64), new_tokens)\n",
        "\n",
        "      # Collect the generated tokens\n",
        "      result_tokens.append(new_tokens)\n",
        "\n",
        "      if tf.executing_eagerly() and tf.reduce_all(done):\n",
        "        break\n",
        "\n",
        "    # Convert the list of generates token ids to a list of strings.\n",
        "    result_tokens = tf.concat(result_tokens, axis=-1)\n",
        "    result_text = self.tokens_to_text(result_tokens)\n",
        "\n",
        "    if return_attention:\n",
        "      attention_stack = tf.concat(attention, axis=1)\n",
        "      return {'text': result_text, 'attention': attention_stack}\n",
        "    else:\n",
        "      return {'text': result_text}"
      ],
      "execution_count": 30,
      "outputs": []
    },
    {
      "cell_type": "code",
      "metadata": {
        "id": "l4UwhwiNDRU6"
      },
      "source": [
        "translator = Translator(\n",
        "    encoder=train_translator.encoder,\n",
        "    decoder=train_translator.decoder,\n",
        "    input_text_processor=input_text_processor,\n",
        "    output_text_processor=output_text_processor,\n",
        ")"
      ],
      "execution_count": 31,
      "outputs": []
    },
    {
      "cell_type": "code",
      "metadata": {
        "id": "_5-Ln_ZcQDgI"
      },
      "source": [
        "tel1, tel2, tel3, tel4, tel5, eng1, eng2, eng3, eng4, eng5 = \"\",\"\",\"\",\"\",\"\",\"\",\"\",\"\",\"\",\"\"\n",
        "\n",
        "t1 = 'నా పేరు శ్రీనాథ్'\n",
        "for test_input_batch, test_target_batch in test_dataset:\n",
        "  tel1 = test_input_batch[0].numpy().decode()\n",
        "  eng1 = test_target_batch[0].numpy().decode()\n",
        "  tel2 = test_input_batch[1].numpy().decode()\n",
        "  eng2 = test_target_batch[1].numpy().decode()\n",
        "  tel3 = test_input_batch[6].numpy().decode()\n",
        "  eng3 = test_target_batch[6].numpy().decode()\n",
        "  tel4 = test_input_batch[8].numpy().decode()\n",
        "  eng4 = test_target_batch[8].numpy().decode()\n",
        "  tel5 = test_input_batch[13].numpy().decode()\n",
        "  eng5 = test_target_batch[13].numpy().decode()"
      ],
      "execution_count": 32,
      "outputs": []
    },
    {
      "cell_type": "code",
      "metadata": {
        "colab": {
          "base_uri": "https://localhost:8080/"
        },
        "id": "lcmMwMfkDbAR",
        "outputId": "3d6dc534-e717-4bd0-ad55-7d3e09f8f0a1"
      },
      "source": [
        "%%time\n",
        "input_text = tf.constant([tel1, tel2, tel3, tel4, tel5, t1])\n",
        "\n",
        "result = translator.translate_unrolled(\n",
        "    input_text = input_text)"
      ],
      "execution_count": 40,
      "outputs": [
        {
          "output_type": "stream",
          "name": "stdout",
          "text": [
            "CPU times: user 246 ms, sys: 778 µs, total: 247 ms\n",
            "Wall time: 240 ms\n"
          ]
        }
      ]
    },
    {
      "cell_type": "markdown",
      "metadata": {
        "id": "0Yq5nBjmU585"
      },
      "source": [
        "## Correct"
      ]
    },
    {
      "cell_type": "code",
      "metadata": {
        "colab": {
          "base_uri": "https://localhost:8080/"
        },
        "id": "XIRuKnDW9fsu",
        "outputId": "6b3fca6a-a6b5-4086-b51b-6c5fa4571ae2"
      },
      "source": [
        "print(tel1)\n",
        "print(result['text'][0].numpy().decode())"
      ],
      "execution_count": 46,
      "outputs": [
        {
          "output_type": "stream",
          "name": "stdout",
          "text": [
            "నన్ను సహాయం అడగడానికి ఏం సందేహ పడొద్దు\n",
            "dont hesitate to ask me for help .\n"
          ]
        }
      ]
    },
    {
      "cell_type": "code",
      "metadata": {
        "colab": {
          "base_uri": "https://localhost:8080/"
        },
        "id": "JVkHgKum9mh-",
        "outputId": "7c712ffa-7ba9-41af-80fc-da849d11f77a"
      },
      "source": [
        "print(tel2)\n",
        "print(result['text'][1].numpy().decode())"
      ],
      "execution_count": 45,
      "outputs": [
        {
          "output_type": "stream",
          "name": "stdout",
          "text": [
            "నేనూ తప్పులు చేస్తాను\n",
            "i do make mistakes .\n"
          ]
        }
      ]
    },
    {
      "cell_type": "code",
      "metadata": {
        "colab": {
          "base_uri": "https://localhost:8080/"
        },
        "id": "eL81cHuIUONC",
        "outputId": "ef9b1bac-ab0d-4b8e-8612-a8ee448105dc"
      },
      "source": [
        "print(tel3)\n",
        "print(result['text'][2].numpy().decode())"
      ],
      "execution_count": 44,
      "outputs": [
        {
          "output_type": "stream",
          "name": "stdout",
          "text": [
            "అది నిజంగా అంత చెడ్డదా ?\n",
            "was it really that bad ?\n"
          ]
        }
      ]
    },
    {
      "cell_type": "markdown",
      "metadata": {
        "id": "4auQIPsYVZJf"
      },
      "source": [
        "## InCorrect"
      ]
    },
    {
      "cell_type": "code",
      "metadata": {
        "colab": {
          "base_uri": "https://localhost:8080/"
        },
        "id": "ANHafcabUnz1",
        "outputId": "7433f872-0321-4dd9-de1f-71fd18a3e42e"
      },
      "source": [
        "print(tel4)\n",
        "print(result['text'][3].numpy().decode())"
      ],
      "execution_count": 43,
      "outputs": [
        {
          "output_type": "stream",
          "name": "stdout",
          "text": [
            "నేను కాఫీ తాగాను\n",
            "i drank coffee .\n"
          ]
        }
      ]
    },
    {
      "cell_type": "code",
      "metadata": {
        "colab": {
          "base_uri": "https://localhost:8080/"
        },
        "id": "LfgEBV13UoA6",
        "outputId": "5f3e218d-6a8f-4dff-f264-ec5ec0556c00"
      },
      "source": [
        "print(tel5)\n",
        "print(result['text'][4].numpy().decode())"
      ],
      "execution_count": 42,
      "outputs": [
        {
          "output_type": "stream",
          "name": "stdout",
          "text": [
            "చలనచిత్రం మొదలు అవ్వబోతుంది\n",
            "the movies about to start .\n"
          ]
        }
      ]
    },
    {
      "cell_type": "code",
      "metadata": {
        "colab": {
          "base_uri": "https://localhost:8080/"
        },
        "id": "57C_mtgkiy8V",
        "outputId": "aa26de16-10dc-4ff7-b6c4-d272d70d0108"
      },
      "source": [
        "print(t1)\n",
        "print(result['text'][5].numpy().decode())"
      ],
      "execution_count": 41,
      "outputs": [
        {
          "output_type": "stream",
          "name": "stdout",
          "text": [
            "నా పేరు శ్రీనాథ్\n",
            "i dont speak japanese .\n"
          ]
        }
      ]
    },
    {
      "cell_type": "markdown",
      "metadata": {
        "id": "_JM4SVkfDE1C"
      },
      "source": [
        "# Weights Analyse"
      ]
    },
    {
      "cell_type": "code",
      "metadata": {
        "id": "DwObt7u4EI0c"
      },
      "source": [
        "a = result['attention'][0]"
      ],
      "execution_count": 70,
      "outputs": []
    },
    {
      "cell_type": "code",
      "metadata": {
        "colab": {
          "base_uri": "https://localhost:8080/",
          "height": 265
        },
        "id": "pYh7LdveEKAv",
        "outputId": "d40aa2b9-d89a-411d-a9ad-3c40ea3e99c1"
      },
      "source": [
        "_ = plt.bar(range(len(a[0, :])), a[0, :])"
      ],
      "execution_count": 71,
      "outputs": [
        {
          "output_type": "display_data",
          "data": {
            "image/png": "[encoded data removed]",
            "text/plain": [
              "<Figure size 432x288 with 1 Axes>"
            ]
          },
          "metadata": {
            "needs_background": "light"
          }
        }
      ]
    },
    {
      "cell_type": "code",
      "metadata": {
        "id": "o1YUpD10ERuj"
      },
      "source": [
        "def plot_attention(attention, sentence, predicted_sentence):\n",
        "  sentence = tf_lower_and_split_punct(sentence).numpy().decode().split()\n",
        "  predicted_sentence = predicted_sentence.numpy().decode().split() + ['[END]']\n",
        "  fig = plt.figure(figsize=(10, 10))\n",
        "  ax = fig.add_subplot(1, 1, 1)\n",
        "\n",
        "  attention = attention[:len(predicted_sentence), :len(sentence)]\n",
        "\n",
        "  ax.matshow(attention, cmap='viridis', vmin=0.0, vmax=1)\n",
        "\n",
        "  fontdict = {'fontsize': 14}\n",
        "\n",
        "  ax.set_xticklabels([''] + sentence, fontdict=fontdict, rotation=90)\n",
        "  ax.set_yticklabels([''] + predicted_sentence, fontdict=fontdict)\n",
        "\n",
        "  ax.xaxis.set_major_locator(ticker.MultipleLocator(1))\n",
        "  ax.yaxis.set_major_locator(ticker.MultipleLocator(1))\n",
        "\n",
        "  ax.set_xlabel('Input text')\n",
        "  ax.set_ylabel('Output text')\n",
        "  plt.suptitle('Attention weights')"
      ],
      "execution_count": 63,
      "outputs": []
    },
    {
      "cell_type": "code",
      "metadata": {
        "colab": {
          "base_uri": "https://localhost:8080/",
          "height": 1000
        },
        "id": "pfcb0ZEfES7i",
        "outputId": "e2362433-ac52-4fc1-b463-92274bed4947"
      },
      "source": [
        "i=3\n",
        "plot_attention(result['attention'][i], input_text[i], result['text'][i])\n",
        "print(input_text[i].numpy().decode())"
      ],
      "execution_count": 65,
      "outputs": [
        {
          "output_type": "stream",
          "name": "stdout",
          "text": [
            "నేను కాఫీ తాగాను\n"
          ]
        },
        {
          "output_type": "stream",
          "name": "stderr",
          "text": [
            "/usr/local/lib/python3.7/dist-packages/matplotlib/backends/backend_agg.py:214: RuntimeWarning: Glyph 3112 missing from current font.\n",
            "  font.set_text(s, 0.0, flags=flags)\n",
            "/usr/local/lib/python3.7/dist-packages/matplotlib/backends/backend_agg.py:214: RuntimeWarning: Glyph 3143 missing from current font.\n",
            "  font.set_text(s, 0.0, flags=flags)\n",
            "/usr/local/lib/python3.7/dist-packages/matplotlib/backends/backend_agg.py:214: RuntimeWarning: Glyph 3137 missing from current font.\n",
            "  font.set_text(s, 0.0, flags=flags)\n",
            "/usr/local/lib/python3.7/dist-packages/matplotlib/backends/backend_agg.py:214: RuntimeWarning: Glyph 3093 missing from current font.\n",
            "  font.set_text(s, 0.0, flags=flags)\n",
            "/usr/local/lib/python3.7/dist-packages/matplotlib/backends/backend_agg.py:214: RuntimeWarning: Glyph 3134 missing from current font.\n",
            "  font.set_text(s, 0.0, flags=flags)\n",
            "/usr/local/lib/python3.7/dist-packages/matplotlib/backends/backend_agg.py:214: RuntimeWarning: Glyph 3115 missing from current font.\n",
            "  font.set_text(s, 0.0, flags=flags)\n",
            "/usr/local/lib/python3.7/dist-packages/matplotlib/backends/backend_agg.py:214: RuntimeWarning: Glyph 3136 missing from current font.\n",
            "  font.set_text(s, 0.0, flags=flags)\n",
            "/usr/local/lib/python3.7/dist-packages/matplotlib/backends/backend_agg.py:214: RuntimeWarning: Glyph 3108 missing from current font.\n",
            "  font.set_text(s, 0.0, flags=flags)\n",
            "/usr/local/lib/python3.7/dist-packages/matplotlib/backends/backend_agg.py:214: RuntimeWarning: Glyph 3095 missing from current font.\n",
            "  font.set_text(s, 0.0, flags=flags)\n",
            "/usr/local/lib/python3.7/dist-packages/matplotlib/backends/backend_agg.py:183: RuntimeWarning: Glyph 3112 missing from current font.\n",
            "  font.set_text(s, 0, flags=flags)\n",
            "/usr/local/lib/python3.7/dist-packages/matplotlib/backends/backend_agg.py:183: RuntimeWarning: Glyph 3143 missing from current font.\n",
            "  font.set_text(s, 0, flags=flags)\n",
            "/usr/local/lib/python3.7/dist-packages/matplotlib/backends/backend_agg.py:183: RuntimeWarning: Glyph 3137 missing from current font.\n",
            "  font.set_text(s, 0, flags=flags)\n",
            "/usr/local/lib/python3.7/dist-packages/matplotlib/backends/backend_agg.py:183: RuntimeWarning: Glyph 3093 missing from current font.\n",
            "  font.set_text(s, 0, flags=flags)\n",
            "/usr/local/lib/python3.7/dist-packages/matplotlib/backends/backend_agg.py:183: RuntimeWarning: Glyph 3134 missing from current font.\n",
            "  font.set_text(s, 0, flags=flags)\n",
            "/usr/local/lib/python3.7/dist-packages/matplotlib/backends/backend_agg.py:183: RuntimeWarning: Glyph 3115 missing from current font.\n",
            "  font.set_text(s, 0, flags=flags)\n",
            "/usr/local/lib/python3.7/dist-packages/matplotlib/backends/backend_agg.py:183: RuntimeWarning: Glyph 3136 missing from current font.\n",
            "  font.set_text(s, 0, flags=flags)\n",
            "/usr/local/lib/python3.7/dist-packages/matplotlib/backends/backend_agg.py:183: RuntimeWarning: Glyph 3108 missing from current font.\n",
            "  font.set_text(s, 0, flags=flags)\n",
            "/usr/local/lib/python3.7/dist-packages/matplotlib/backends/backend_agg.py:183: RuntimeWarning: Glyph 3095 missing from current font.\n",
            "  font.set_text(s, 0, flags=flags)\n"
          ]
        },
        {
          "output_type": "display_data",
          "data": {
            "image/png": "[encoded data removed]",
            "text/plain": [
              "<Figure size 720x720 with 1 Axes>"
            ]
          },
          "metadata": {
            "needs_background": "light"
          }
        }
      ]
    },
    {
      "cell_type": "markdown",
      "metadata": {
        "id": "Q1lBga5tbDy4"
      },
      "source": [
        "# Questions & Answers"
      ]
    },
    {
      "cell_type": "markdown",
      "metadata": {
        "id": "qJlNcedYbJFi"
      },
      "source": [
        "Q1-)Which parts of the sentence are used as a token? Each character, each word, or are some words split up?\n",
        "\n",
        "Ans-) Each word."
      ]
    },
    {
      "cell_type": "markdown",
      "metadata": {
        "id": "eSFabVhgb6NA"
      },
      "source": [
        "Q-2) Do the same tokens in different language have the same ID?\n",
        "e.g. Would the same token index map to the German word die and to the English word die?\n",
        "\n",
        "\n",
        "Ans-) No. \n",
        "\n",
        "As example we can see below:\n",
        "\n",
        "*  inp = 'die hallo morgen guten tag'\n",
        "*  tar = 'Someone might die because of the situation'\n",
        "*  inp_voc = [0 1 2 3 4 5]\n",
        "*  tar_voc = [0 1 2 3 4 5 6]"
      ]
    },
    {
      "cell_type": "markdown",
      "metadata": {
        "id": "43vetYtVdNt0"
      },
      "source": [
        "Q-3)What is the relation between the encoder output and the encoder hidden state which is used to initialize the decoder hidden state (for the architecture used in the tutorial)?\n",
        "\n",
        "Ans-) Encoder ouput is dependent on encoder hidden state whereas vice-versa isn't the same."
      ]
    },
    {
      "cell_type": "markdown",
      "metadata": {
        "id": "gtXk0eDdfIgC"
      },
      "source": [
        "Q-4) Is the decoder attending to all previous positions, including the previous decoder predictions?\n",
        "\n",
        "Ans-) No it will attend to just the previous decoder state and predictions"
      ]
    },
    {
      "cell_type": "markdown",
      "metadata": {
        "id": "IiRXSZ3zfxpc"
      },
      "source": [
        "Q-5) Does the encoder output change in different decoding steps?\n",
        "\n",
        "Ans-) Yes it computes attention weights dynamically for every decoder step."
      ]
    },
    {
      "cell_type": "markdown",
      "metadata": {
        "id": "AgrMHrqvgNxN"
      },
      "source": [
        "Q-6) Does the context vector change in different decoding steps?\n",
        "\n",
        "Ans-) Yes"
      ]
    },
    {
      "cell_type": "markdown",
      "metadata": {
        "id": "molLOQfNgStB"
      },
      "source": [
        "Q-7) The decoder uses teacher forcing. Does this mean the time steps can be computed in parallel?\n",
        "\n",
        "Ans-) No because even the previous decoder state is also connected to the current decoder state."
      ]
    },
    {
      "cell_type": "markdown",
      "metadata": {
        "id": "PnFce_9CgeTR"
      },
      "source": [
        "Q-8) Why is a mask applied to the loss function?\n",
        "\n",
        "Ans-) To skip the zero padded cells in the sequences."
      ]
    },
    {
      "cell_type": "markdown",
      "metadata": {
        "id": "Y5KlAkttgwos"
      },
      "source": [
        "Q-9) When translating the same sentence multiple times, do you get the same result? Why (not)? If not, what changes need to be made to get the same result each time?\n",
        "\n",
        "Ans-) The output is not consistent."
      ]
    },
    {
      "cell_type": "markdown",
      "metadata": {
        "id": "yGd5aFjjm4zZ"
      },
      "source": [
        "# References\n",
        "\n",
        "\n",
        "\n",
        "1.   https://www.tensorflow.org/text/tutorials/nmt_with_attention\n",
        "2.   https://ovgu-ailab.github.io/idl2021/ass7.html\n",
        "\n"
      ]
    }
  ]
}