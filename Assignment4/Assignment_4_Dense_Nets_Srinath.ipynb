{
  "nbformat": 4,
  "nbformat_minor": 5,
  "metadata": {
    "accelerator": "GPU",
    "colab": {
      "name": "Assignment_4_Dense_Nets_Srinath.ipynb",
      "provenance": [],
      "collapsed_sections": [
        "9b1ec548",
        "0c34550c",
        "c715ac7b",
        "MUhG8N9j--FN",
        "E5DJbRL40jcS",
        "8bG8asgM1Uv4",
        "kyp_YZJXLE3Z",
        "bGevr9OGR0Do",
        "P6s_gCjMSi6V",
        "emWh72FyTlhL",
        "VV-d8kymTmbd",
        "nAbVF8aQwulj",
        "zyiwR8iC5IfE",
        "rY_4mfkw_pbe",
        "nWpNQs9OCdVp"
      ],
      "machine_shape": "hm",
      "include_colab_link": true
    },
    "kernelspec": {
      "display_name": "Python 3 (ipykernel)",
      "language": "python",
      "name": "python3"
    },
    "language_info": {
      "codemirror_mode": {
        "name": "ipython",
        "version": 3
      },
      "file_extension": ".py",
      "mimetype": "text/x-python",
      "name": "python",
      "nbconvert_exporter": "python",
      "pygments_lexer": "ipython3",
      "version": "3.9.7"
    }
  },
  "cells": [
    {
      "cell_type": "markdown",
      "metadata": {
        "id": "view-in-github",
        "colab_type": "text"
      },
      "source": [
        "<a href=\"https://colab.research.google.com/github/mannam95/Deep_Learning_Programming/blob/main/Assignment4/Assignment_4_Dense_Nets_Srinath.ipynb\" target=\"_parent\"><img src=\"https://colab.research.google.com/assets/colab-badge.svg\" alt=\"Open In Colab\"/></a>"
      ]
    },
    {
      "cell_type": "markdown",
      "metadata": {
        "id": "c6aef94d"
      },
      "source": [
        "# Team Assignment\n",
        "\n",
        "\n",
        "1.   Srinath Mannam (229750)\n",
        "2.   Meghana Rao (234907)\n",
        "3.   Govind Shukla (235192)"
      ],
      "id": "c6aef94d"
    },
    {
      "cell_type": "markdown",
      "metadata": {
        "id": "9b1ec548"
      },
      "source": [
        "# import statements"
      ],
      "id": "9b1ec548"
    },
    {
      "cell_type": "code",
      "metadata": {
        "id": "85eb7211"
      },
      "source": [
        "import os\n",
        "import tensorflow as tf\n",
        "from keras.regularizers import l2\n",
        "from keras.preprocessing.image import ImageDataGenerator\n",
        "import numpy as np\n",
        "import matplotlib.pyplot as plt\n",
        "from numba import cuda\n",
        "import sys\n",
        "import tensorflow.keras.backend as K\n",
        "from tensorflow.python.keras.utils.vis_utils import model_to_dot\n",
        "from IPython.display import SVG\n",
        "import pydot\n",
        "import graphviz\n",
        "from keras.callbacks import ModelCheckpoint\n",
        "from datetime import datetime"
      ],
      "id": "85eb7211",
      "execution_count": null,
      "outputs": []
    },
    {
      "cell_type": "markdown",
      "metadata": {
        "id": "0c34550c"
      },
      "source": [
        "# Change the directory"
      ],
      "id": "0c34550c"
    },
    {
      "cell_type": "code",
      "metadata": {
        "id": "94b2626e"
      },
      "source": [
        "working_directory = '/content/drive/My Drive/Colab Notebooks/OVGU/Deep_Learning/Fourth_Assignment'\n",
        "def colabDrive():\n",
        "    from google.colab import drive\n",
        "    drive.mount(\"/content/drive\")\n",
        "\n",
        "    if os.getcwd() !=  working_directory:\n",
        "      os.chdir(working_directory)\n",
        "    print(os.getcwd())"
      ],
      "id": "94b2626e",
      "execution_count": null,
      "outputs": []
    },
    {
      "cell_type": "code",
      "metadata": {
        "id": "a8540ed4"
      },
      "source": [
        "#colabDrive()"
      ],
      "id": "a8540ed4",
      "execution_count": null,
      "outputs": []
    },
    {
      "cell_type": "markdown",
      "metadata": {
        "id": "c715ac7b"
      },
      "source": [
        "# Clears GPU memory"
      ],
      "id": "c715ac7b"
    },
    {
      "cell_type": "code",
      "metadata": {
        "id": "591268b2"
      },
      "source": [
        "def clearGPUMemory():\n",
        "    from numba import cuda \n",
        "    device = cuda.get_current_device()\n",
        "    device.reset()\n",
        "    !nvidia-smi"
      ],
      "id": "591268b2",
      "execution_count": null,
      "outputs": []
    },
    {
      "cell_type": "code",
      "metadata": {
        "id": "caee9b53",
        "scrolled": true
      },
      "source": [
        "#clearGPUMemory()"
      ],
      "id": "caee9b53",
      "execution_count": null,
      "outputs": []
    },
    {
      "cell_type": "markdown",
      "metadata": {
        "id": "t6mjm447GMHX"
      },
      "source": [
        "# Prepare the data"
      ],
      "id": "t6mjm447GMHX"
    },
    {
      "cell_type": "markdown",
      "metadata": {
        "id": "MUhG8N9j--FN"
      },
      "source": [
        "## CIFAR Dataset\n",
        "\n",
        "Added small functionality for data augmentation"
      ],
      "id": "MUhG8N9j--FN"
    },
    {
      "cell_type": "code",
      "metadata": {
        "colab": {
          "base_uri": "https://localhost:8080/"
        },
        "id": "7Qku9Toq_Buj",
        "outputId": "2b873ff4-5a9b-48bb-99ce-2ed0e03b8140"
      },
      "source": [
        "cifar10 = tf.keras.datasets.cifar10\n",
        "\n",
        "(train_cifar_images, train_cifar_labels), (test_cifar_images, test_cifar_labels) = cifar10.load_data()\n",
        "\n",
        "class_names = ['airplane', 'automobile', 'bird', 'cat', 'deer',\n",
        "               'dog', 'frog', 'horse', 'ship', 'truck']\n",
        "\n",
        "# The CIFAR labels happen to be arrays\n",
        "# So reshape them\n",
        "train_cifar_labels = train_cifar_labels.reshape((-1,))\n",
        "test_cifar_labels = test_cifar_labels.reshape((-1,))\n",
        "\n",
        "train_cifar_images = (train_cifar_images.astype(np.float32) / 255)\n",
        "train_cifar_labels = train_cifar_labels.astype(np.int32)\n",
        "\n",
        "#Data Augmentation\n",
        "datagen = ImageDataGenerator(\n",
        "              rotation_range=15,\n",
        "              horizontal_flip=True,\n",
        "              width_shift_range=0.1,\n",
        "              height_shift_range=0.1,\n",
        "              zoom_range=0.2\n",
        "            )\n",
        "datagen.fit(train_cifar_images)\n",
        "\n",
        "\n",
        "plt.figure(figsize=(10,10))\n",
        "for i in range(10):\n",
        "    plt.subplot(5,5,i+1)\n",
        "    plt.xticks([])\n",
        "    plt.yticks([])\n",
        "    plt.grid(False)\n",
        "    plt.imshow(train_cifar_images[i])\n",
        "    plt.xlabel(class_names[train_cifar_labels[i]])\n",
        "plt.show()\n",
        "\n",
        "\n",
        "train_cifar_data = tf.data.Dataset.from_tensor_slices((train_cifar_images, train_cifar_labels))\n",
        "train_cifar_data = train_cifar_data.shuffle(buffer_size=60000).batch(64)\n",
        "\n",
        "# note: we batch the test data, but do not shuffle/repeat\n",
        "test_cifar_data = tf.data.Dataset.from_tensor_slices(\n",
        "    (test_cifar_images.astype(np.float32) / 255, test_cifar_labels.astype(np.int32))).batch(128)"
      ],
      "id": "7Qku9Toq_Buj",
      "execution_count": null,
      "outputs": [
        {
          "output_type": "display_data",
          "data": {
            "image/png": "[encoded data removed]",
            "text/plain": [
              "<Figure size 720x720 with 10 Axes>"
            ]
          },
          "metadata": {}
        }
      ]
    },
    {
      "cell_type": "markdown",
      "metadata": {
        "id": "dtICZUcU0jss"
      },
      "source": [
        "# Generic Functions"
      ],
      "id": "dtICZUcU0jss"
    },
    {
      "cell_type": "markdown",
      "metadata": {
        "id": "Ve51zEsN00Xi"
      },
      "source": [
        "## Applies the following dynamically\n",
        "\n",
        "\n",
        "\n",
        "1.   BatchNorm\n",
        "2.   Relu activation\n",
        "3.   One Convolution layer\n",
        "\n"
      ],
      "id": "Ve51zEsN00Xi"
    },
    {
      "cell_type": "code",
      "metadata": {
        "id": "kBt4XRe88sGJ"
      },
      "source": [
        "def dynamic_BatchNorm(x, kSize, curr_Dense_Block_Layer_Name, batchIndex=0, k_size=(1, 1), stride=1):\n",
        "  x = tf.keras.layers.BatchNormalization(name=curr_Dense_Block_Layer_Name + \"_\" + \"BatN\" + \"_\" + str(batchIndex))(x)\n",
        "  x = tf.keras.layers.Activation(\"relu\", name=curr_Dense_Block_Layer_Name + \"_\" + \"Act\" + \"_\" + str(batchIndex))(x)\n",
        "  x = tf.keras.layers.Conv2D(kSize, kernel_size=k_size, padding=\"same\", strides=stride, name = curr_Dense_Block_Layer_Name + \"_\" + \"BotN\" + \"_\" + str(batchIndex))(x)\n",
        "\n",
        "  return x"
      ],
      "id": "kBt4XRe88sGJ",
      "execution_count": null,
      "outputs": []
    },
    {
      "cell_type": "markdown",
      "metadata": {
        "id": "XASdT1h50gh2"
      },
      "source": [
        "## Create  Dense_Block Layers dynamically\n",
        "\n",
        "\n",
        "1.   Returns created Bense Block.\n",
        "2.   Runs iteratively forthe specified number of layers.\n",
        "3.   During every iteration it concatenates the previous X.\n",
        "\n"
      ],
      "id": "XASdT1h50gh2"
    },
    {
      "cell_type": "code",
      "metadata": {
        "id": "4D2lyxtU08b0"
      },
      "source": [
        "def dynamic_Dense_Block(layersSize, currDenseBlockName, inputX, kSize=32):\n",
        "\n",
        "  for ind in range(layersSize):\n",
        "\n",
        "    curr_Dense_Block_Layer_Name = currDenseBlockName + \"_\" + str(ind)\n",
        "    x = dynamic_BatchNorm(inputX, 4*kSize, curr_Dense_Block_Layer_Name, 1)\n",
        "    x = dynamic_BatchNorm(x, kSize, curr_Dense_Block_Layer_Name, 2, (3, 3))\n",
        "    #Concatenation\n",
        "    inputX = tf.keras.layers.concatenate([x, inputX], name=curr_Dense_Block_Layer_Name + \"_Concat\")\n",
        "\n",
        "  return inputX"
      ],
      "id": "4D2lyxtU08b0",
      "execution_count": null,
      "outputs": []
    },
    {
      "cell_type": "markdown",
      "metadata": {
        "id": "E5DJbRL40jcS"
      },
      "source": [
        "## Creates Transition Layers dynamically\n",
        "\n",
        "\n",
        "1.   Applies BatchNorm\n",
        "2.   One Convolution layer with kernel size=(1,1)\n",
        "3.   Does the average pooling\n",
        "4.   We are also removing the channels to half with a compression factor of 0.5(As per the paper)\n",
        "\n"
      ],
      "id": "E5DJbRL40jcS"
    },
    {
      "cell_type": "code",
      "metadata": {
        "id": "96K5Ii49_AKt"
      },
      "source": [
        "def dynamic_Transition_Layer(inputX, transInd, stride=1):\n",
        "  inpChannels = K.int_shape(inputX)[-1]\n",
        "  compression = 0.5\n",
        "  x = dynamic_BatchNorm(inputX, inpChannels*compression, \"Trans_\"+ str(transInd) , 0)\n",
        "  x = tf.keras.layers.AveragePooling2D(pool_size=(2, 2), strides=stride, padding=\"same\", name= \"Trans_\"+ str(transInd) +\"_AvgPool\")(x)\n",
        "\n",
        "  return x"
      ],
      "id": "96K5Ii49_AKt",
      "execution_count": null,
      "outputs": []
    },
    {
      "cell_type": "markdown",
      "metadata": {
        "id": "8bG8asgM1Uv4"
      },
      "source": [
        "## Creates Dense Net and returns the model\n",
        "\n",
        "Note:- Call this param with different hyper params (can be supplied as parameters)"
      ],
      "id": "8bG8asgM1Uv4"
    },
    {
      "cell_type": "code",
      "metadata": {
        "id": "NFdT79rA1Tad"
      },
      "source": [
        "def dense_Net(configParams):\n",
        "\n",
        "  #First Convolution\n",
        "  inpX = tf.keras.layers.Input(configParams[\"input_shape\"], name=\"InputLayer\")\n",
        "  x = tf.keras.layers.Conv2D(configParams[\"k\"]*2, kernel_size=configParams[\"initial_Kernel_Size\"], strides=configParams[\"initialStride\"], padding=\"same\", name='Conv0')(inpX)\n",
        "  #x = tf.keras.layers.MaxPooling2D(pool_size=(3, 3), strides=configParams[\"initialStride\"], padding=\"same\", name='Conv0MaxPool')(x)\n",
        "\n",
        "  for idx, val in enumerate(configParams[\"dense_Layers_List\"]):\n",
        "    d_Out = dynamic_Dense_Block(val, \"Dense_\"+str(idx+1), x, configParams[\"k\"])\n",
        "    x = dynamic_Transition_Layer(d_Out, idx+1, configParams[\"transitionStride\"])\n",
        "\n",
        "  x = tf.keras.layers.GlobalAveragePooling2D(name= \"GlobalAvgPool\")(d_Out)\n",
        "  x = tf.keras.layers.Dense(units=configParams[\"num_classes\"], name='LinearDense')(x)\n",
        "\n",
        "  func_model = tf.keras.Model(inpX, x, name=configParams[\"modelName\"])\n",
        "\n",
        "  return func_model"
      ],
      "id": "NFdT79rA1Tad",
      "execution_count": null,
      "outputs": []
    },
    {
      "cell_type": "markdown",
      "metadata": {
        "id": "594rtvJzFAtd"
      },
      "source": [
        "# Models Define"
      ],
      "id": "594rtvJzFAtd"
    },
    {
      "cell_type": "markdown",
      "metadata": {
        "id": "kyp_YZJXLE3Z"
      },
      "source": [
        "### Update Learning Rate Via a callback"
      ],
      "id": "kyp_YZJXLE3Z"
    },
    {
      "cell_type": "code",
      "metadata": {
        "id": "N-ai4d21LI23"
      },
      "source": [
        "def lr_scheduler(epoch, lr):\n",
        "    if epoch % 40 == 0 or epoch % 60 == 0 :\n",
        "        lr = lr/10\n",
        "        return lr\n",
        "    return lr"
      ],
      "id": "N-ai4d21LI23",
      "execution_count": null,
      "outputs": []
    },
    {
      "cell_type": "markdown",
      "metadata": {
        "id": "34I0uTSjE3Sv"
      },
      "source": [
        "## Model Configs, Summary, Training, Testing"
      ],
      "id": "34I0uTSjE3Sv"
    },
    {
      "cell_type": "markdown",
      "metadata": {
        "id": "ESJpkeXVXyKd"
      },
      "source": [
        "\n",
        "\n",
        "1.   The highest test accuracy is observed for V4 which is 74%.\n",
        "2.   May be some parameters can be further tuned, due to computation time. couldn't tried more than 8 versions.\n",
        "\n"
      ],
      "id": "ESJpkeXVXyKd"
    },
    {
      "cell_type": "markdown",
      "metadata": {
        "id": "bGevr9OGR0Do"
      },
      "source": [
        "### V1  (DenseNet 121)\n",
        "\n",
        "Observations:- The architecture is exactly the DenseNet-121 used for ImageNet challenge. But for the CIFAR10 dataset the accuracy for test dataset is 70% and 90% accuracy for training dataset. Trained for 20 epochs"
      ],
      "id": "bGevr9OGR0Do"
    },
    {
      "cell_type": "code",
      "metadata": {
        "id": "87mo9UuUR9M2"
      },
      "source": [
        "dense_Model1_Config = {\n",
        "    \"input_shape\": (32, 32, 3),\n",
        "    \"initial_Kernel_Size\": (7, 7),\n",
        "    \"initialStride\": 2,\n",
        "    \"transitionStride\": 2,\n",
        "    \"num_classes\": 10,\n",
        "    \"dense_Layers_List\": [6, 12, 24, 16],\n",
        "    \"k\": 32,\n",
        "    \"modelName\": \"DenseNet_V1\",\n",
        "}"
      ],
      "id": "87mo9UuUR9M2",
      "execution_count": null,
      "outputs": []
    },
    {
      "cell_type": "code",
      "metadata": {
        "colab": {
          "base_uri": "https://localhost:8080/",
          "height": 1000
        },
        "id": "eX1EMXJESFGz",
        "outputId": "457fcbec-2227-42a2-ba3f-61cc00546910"
      },
      "source": [
        "dense_Model1 = dense_Net(dense_Model1_Config)\n",
        "\n",
        "#dense_Model1.summary()\n",
        "tf.keras.utils.plot_model(dense_Model1, \"DenseNet_V1.png\", show_shapes=True)"
      ],
      "id": "eX1EMXJESFGz",
      "execution_count": null,
      "outputs": []
    },
    {
      "cell_type": "code",
      "metadata": {
        "colab": {
          "base_uri": "https://localhost:8080/"
        },
        "id": "MnTmJuJ-SURy",
        "outputId": "75771069-584f-4adb-931e-a2c4c9d4b203"
      },
      "source": [
        "## Training\n",
        "dense_Model1.compile(\n",
        "          loss      = tf.losses.SparseCategoricalCrossentropy(from_logits=True),\n",
        "          metrics   = tf.metrics.SparseCategoricalAccuracy(),\n",
        "          optimizer = tf.optimizers.Adam())\n",
        "\n",
        "dense_Model1.fit(train_cifar_data , epochs=20)"
      ],
      "id": "MnTmJuJ-SURy",
      "execution_count": null,
      "outputs": [
        {
          "output_type": "stream",
          "name": "stdout",
          "text": [
            "Epoch 1/20\n",
            "782/782 [==============================] - 80s 68ms/step - loss: 1.5611 - sparse_categorical_accuracy: 0.4442\n",
            "Epoch 2/20\n",
            "782/782 [==============================] - 53s 67ms/step - loss: 1.1692 - sparse_categorical_accuracy: 0.5814\n",
            "Epoch 3/20\n",
            "782/782 [==============================] - 53s 67ms/step - loss: 1.0348 - sparse_categorical_accuracy: 0.6317\n",
            "Epoch 4/20\n",
            "782/782 [==============================] - 53s 68ms/step - loss: 0.9458 - sparse_categorical_accuracy: 0.6669\n",
            "Epoch 5/20\n",
            "782/782 [==============================] - 53s 67ms/step - loss: 0.8697 - sparse_categorical_accuracy: 0.6929\n",
            "Epoch 6/20\n",
            "782/782 [==============================] - 53s 67ms/step - loss: 0.8078 - sparse_categorical_accuracy: 0.7162\n",
            "Epoch 7/20\n",
            "782/782 [==============================] - 53s 68ms/step - loss: 0.7381 - sparse_categorical_accuracy: 0.7411\n",
            "Epoch 8/20\n",
            "782/782 [==============================] - 53s 68ms/step - loss: 0.6871 - sparse_categorical_accuracy: 0.7603\n",
            "Epoch 9/20\n",
            "782/782 [==============================] - 53s 68ms/step - loss: 0.6368 - sparse_categorical_accuracy: 0.7767\n",
            "Epoch 10/20\n",
            "782/782 [==============================] - 53s 68ms/step - loss: 0.5926 - sparse_categorical_accuracy: 0.7915\n",
            "Epoch 11/20\n",
            "782/782 [==============================] - 53s 67ms/step - loss: 0.5481 - sparse_categorical_accuracy: 0.8070\n",
            "Epoch 12/20\n",
            "782/782 [==============================] - 53s 67ms/step - loss: 0.5053 - sparse_categorical_accuracy: 0.8199\n",
            "Epoch 13/20\n",
            "782/782 [==============================] - 53s 67ms/step - loss: 0.4589 - sparse_categorical_accuracy: 0.8367\n",
            "Epoch 14/20\n",
            "782/782 [==============================] - 53s 67ms/step - loss: 0.4233 - sparse_categorical_accuracy: 0.8492\n",
            "Epoch 15/20\n",
            "782/782 [==============================] - 53s 67ms/step - loss: 0.3840 - sparse_categorical_accuracy: 0.8639\n",
            "Epoch 16/20\n",
            "782/782 [==============================] - 52s 67ms/step - loss: 0.3442 - sparse_categorical_accuracy: 0.8784\n",
            "Epoch 17/20\n",
            "782/782 [==============================] - 52s 67ms/step - loss: 0.3169 - sparse_categorical_accuracy: 0.8865\n",
            "Epoch 18/20\n",
            "782/782 [==============================] - 52s 67ms/step - loss: 0.2842 - sparse_categorical_accuracy: 0.8966\n",
            "Epoch 19/20\n",
            "782/782 [==============================] - 52s 67ms/step - loss: 0.2576 - sparse_categorical_accuracy: 0.9064\n",
            "Epoch 20/20\n",
            "782/782 [==============================] - 52s 66ms/step - loss: 0.2305 - sparse_categorical_accuracy: 0.9171\n"
          ]
        },
        {
          "output_type": "execute_result",
          "data": {
            "text/plain": [
              "<keras.callbacks.History at 0x7f0bc1e5e550>"
            ]
          },
          "metadata": {},
          "execution_count": 14
        }
      ]
    },
    {
      "cell_type": "code",
      "metadata": {
        "colab": {
          "base_uri": "https://localhost:8080/"
        },
        "id": "qI-DXdVEScfo",
        "outputId": "1f8b480d-f686-4c3a-804a-f21c8458161e"
      },
      "source": [
        "# evaluate test loss and metrics\n",
        "dense_Model1.evaluate(test_cifar_data)"
      ],
      "id": "qI-DXdVEScfo",
      "execution_count": null,
      "outputs": [
        {
          "output_type": "stream",
          "name": "stdout",
          "text": [
            "79/79 [==============================] - 4s 24ms/step - loss: 1.2751 - sparse_categorical_accuracy: 0.7055\n"
          ]
        },
        {
          "output_type": "execute_result",
          "data": {
            "text/plain": [
              "[1.275100827217102, 0.7055000066757202]"
            ]
          },
          "metadata": {},
          "execution_count": 15
        }
      ]
    },
    {
      "cell_type": "markdown",
      "metadata": {
        "id": "P6s_gCjMSi6V"
      },
      "source": [
        "### V2  (DenseNet)\n",
        "\n",
        "\n",
        "\n",
        "1.   Three dense blocks.\n",
        "2.   The size of the layers in each dense block is fixed by (L-4/3)(L is 40, growthRate K is 24).\n",
        "3.   The training accuracy is 82% and the test dataset is 42% which is very poor.\n",
        "4.   Trained for 20 epochs\n",
        "\n"
      ],
      "id": "P6s_gCjMSi6V"
    },
    {
      "cell_type": "code",
      "metadata": {
        "id": "s3gSOnjUSi6W"
      },
      "source": [
        "#L=40,K=24\n",
        "dense_Layers = int((40-4)/3)\n",
        "dense_Model2_Config = {\n",
        "    \"input_shape\": (32, 32, 3),\n",
        "    \"initial_Kernel_Size\": (2, 2),\n",
        "    \"initialStride\": 1,\n",
        "    \"transitionStride\": 2,\n",
        "    \"num_classes\": 10,\n",
        "    \"dense_Layers_List\": [dense_Layers, dense_Layers, dense_Layers],\n",
        "    \"k\": 24,\n",
        "    \"modelName\": \"DenseNet_V2\"\n",
        "}"
      ],
      "id": "s3gSOnjUSi6W",
      "execution_count": null,
      "outputs": []
    },
    {
      "cell_type": "code",
      "metadata": {
        "id": "0tiS8mPCSi6X"
      },
      "source": [
        "dense_Model2 = dense_Net(dense_Model2_Config)\n",
        "\n",
        "#dense_Model2.summary()\n",
        "#tf.keras.utils.plot_model(dense_Model2, \"DenseNet_V2.png\", show_shapes=True)"
      ],
      "id": "0tiS8mPCSi6X",
      "execution_count": null,
      "outputs": []
    },
    {
      "cell_type": "code",
      "metadata": {
        "colab": {
          "base_uri": "https://localhost:8080/"
        },
        "id": "IuMd-MxaSi6X",
        "outputId": "9f6fed6a-dca6-426d-c109-3a070ca3870a"
      },
      "source": [
        "#Training\n",
        "dense_Model2.compile(\n",
        "          loss      = tf.losses.SparseCategoricalCrossentropy(from_logits=True),\n",
        "          metrics   = tf.metrics.SparseCategoricalAccuracy(),\n",
        "          #optimizer = tf.optimizers.SGD(learning_rate=0.1)\n",
        "          optimizer = tf.optimizers.Adam()\n",
        "          )\n",
        "\n",
        "callbacks2 = tf.keras.callbacks.LearningRateScheduler(lr_scheduler, verbose=1)\n",
        "\n",
        "dense_Model2.fit(train_cifar_data, epochs=20)"
      ],
      "id": "IuMd-MxaSi6X",
      "execution_count": null,
      "outputs": [
        {
          "output_type": "stream",
          "name": "stdout",
          "text": [
            "Epoch 1/20\n",
            "782/782 [==============================] - 100s 118ms/step - loss: 1.4549 - sparse_categorical_accuracy: 0.4717\n",
            "Epoch 2/20\n",
            "782/782 [==============================] - 92s 117ms/step - loss: 1.1803 - sparse_categorical_accuracy: 0.5782\n",
            "Epoch 3/20\n",
            "782/782 [==============================] - 92s 117ms/step - loss: 1.0934 - sparse_categorical_accuracy: 0.6116\n",
            "Epoch 4/20\n",
            "782/782 [==============================] - 92s 117ms/step - loss: 1.0315 - sparse_categorical_accuracy: 0.6331\n",
            "Epoch 5/20\n",
            "782/782 [==============================] - 92s 118ms/step - loss: 0.9807 - sparse_categorical_accuracy: 0.6534\n",
            "Epoch 6/20\n",
            "782/782 [==============================] - 92s 117ms/step - loss: 0.9380 - sparse_categorical_accuracy: 0.6692\n",
            "Epoch 7/20\n",
            "782/782 [==============================] - 92s 117ms/step - loss: 0.9043 - sparse_categorical_accuracy: 0.6820\n",
            "Epoch 8/20\n",
            "782/782 [==============================] - 92s 117ms/step - loss: 0.8658 - sparse_categorical_accuracy: 0.6951\n",
            "Epoch 9/20\n",
            "782/782 [==============================] - 92s 117ms/step - loss: 0.8289 - sparse_categorical_accuracy: 0.7073\n",
            "Epoch 10/20\n",
            "782/782 [==============================] - 92s 117ms/step - loss: 0.7906 - sparse_categorical_accuracy: 0.7217\n",
            "Epoch 11/20\n",
            "782/782 [==============================] - 92s 118ms/step - loss: 0.7691 - sparse_categorical_accuracy: 0.7274\n",
            "Epoch 12/20\n",
            "782/782 [==============================] - 92s 118ms/step - loss: 0.7367 - sparse_categorical_accuracy: 0.7404\n",
            "Epoch 13/20\n",
            "782/782 [==============================] - 92s 117ms/step - loss: 0.7016 - sparse_categorical_accuracy: 0.7539\n",
            "Epoch 14/20\n",
            "782/782 [==============================] - 92s 118ms/step - loss: 0.6737 - sparse_categorical_accuracy: 0.7613\n",
            "Epoch 15/20\n",
            "782/782 [==============================] - 92s 118ms/step - loss: 0.6383 - sparse_categorical_accuracy: 0.7743\n",
            "Epoch 16/20\n",
            "782/782 [==============================] - 92s 117ms/step - loss: 0.6123 - sparse_categorical_accuracy: 0.7843\n",
            "Epoch 17/20\n",
            "782/782 [==============================] - 92s 118ms/step - loss: 0.5759 - sparse_categorical_accuracy: 0.7959\n",
            "Epoch 18/20\n",
            "782/782 [==============================] - 92s 118ms/step - loss: 0.5521 - sparse_categorical_accuracy: 0.8025\n",
            "Epoch 19/20\n",
            "782/782 [==============================] - 92s 117ms/step - loss: 0.5212 - sparse_categorical_accuracy: 0.8154\n",
            "Epoch 20/20\n",
            "782/782 [==============================] - 92s 117ms/step - loss: 0.4869 - sparse_categorical_accuracy: 0.8271\n"
          ]
        },
        {
          "output_type": "execute_result",
          "data": {
            "text/plain": [
              "<keras.callbacks.History at 0x7f0ccf2f0ad0>"
            ]
          },
          "metadata": {},
          "execution_count": 20
        }
      ]
    },
    {
      "cell_type": "code",
      "metadata": {
        "colab": {
          "base_uri": "https://localhost:8080/"
        },
        "id": "ghy-I1ZFSi6Y",
        "outputId": "95a9acc4-df08-4b56-c6b7-95552014dc7d"
      },
      "source": [
        "# evaluate test loss and metrics\n",
        "dense_Model2.evaluate(test_cifar_data)"
      ],
      "id": "ghy-I1ZFSi6Y",
      "execution_count": null,
      "outputs": [
        {
          "output_type": "stream",
          "name": "stdout",
          "text": [
            "79/79 [==============================] - 7s 62ms/step - loss: 2.4785 - sparse_categorical_accuracy: 0.4742\n"
          ]
        },
        {
          "output_type": "execute_result",
          "data": {
            "text/plain": [
              "[2.478518486022949, 0.4742000102996826]"
            ]
          },
          "metadata": {},
          "execution_count": 21
        }
      ]
    },
    {
      "cell_type": "markdown",
      "metadata": {
        "id": "emWh72FyTlhL"
      },
      "source": [
        "### V3  (DenseNet)\n",
        "\n",
        "\n",
        "1.   Three dense blocks.\n",
        "2.   The size of the layers in each dense block is fixed by (L-4/3)(L is 60, growthRate K is 24).\n",
        "3.   The training accuracy is 83% and the test dataset is 62% which is very poor.\n",
        "4.   Trained for 20 epochs"
      ],
      "id": "emWh72FyTlhL"
    },
    {
      "cell_type": "code",
      "metadata": {
        "id": "8cY69kE7TlhQ"
      },
      "source": [
        "#L=60,K=24\n",
        "dense_Layers = int((60-4)/3)\n",
        "dense_Model3_Config = {\n",
        "    \"input_shape\": (32, 32, 3),\n",
        "    \"initial_Kernel_Size\": (2, 2),\n",
        "    \"initialStride\": 1,\n",
        "    \"transitionStride\": 2,\n",
        "    \"num_classes\": 10,\n",
        "    \"dense_Layers_List\": [dense_Layers, dense_Layers, dense_Layers],\n",
        "    \"k\": 24,\n",
        "    \"modelName\": \"DenseNet_V3\"\n",
        "}"
      ],
      "id": "8cY69kE7TlhQ",
      "execution_count": null,
      "outputs": []
    },
    {
      "cell_type": "code",
      "metadata": {
        "id": "lC5aysPvTlhR"
      },
      "source": [
        "dense_Model3 = dense_Net(dense_Model3_Config)\n",
        "\n",
        "#dense_Model3.summary()\n",
        "#tf.keras.utils.plot_model(dense_Model3, \"DenseNet_V3.png\", show_shapes=True)"
      ],
      "id": "lC5aysPvTlhR",
      "execution_count": null,
      "outputs": []
    },
    {
      "cell_type": "code",
      "metadata": {
        "colab": {
          "base_uri": "https://localhost:8080/"
        },
        "id": "CY9EHTHLTlhR",
        "outputId": "07b6f607-a063-4201-fd65-9ba359f16374"
      },
      "source": [
        "#Training\n",
        "dense_Model3.compile(\n",
        "          loss      = tf.losses.SparseCategoricalCrossentropy(from_logits=True),\n",
        "          metrics   = tf.metrics.SparseCategoricalAccuracy(),\n",
        "          #optimizer = tf.optimizers.SGD(learning_rate=0.1)\n",
        "          optimizer = tf.optimizers.Adam()\n",
        "          )\n",
        "\n",
        "callbacks3 = tf.keras.callbacks.LearningRateScheduler(lr_scheduler, verbose=1)\n",
        "\n",
        "dense_Model3.fit(train_cifar_data, epochs=20)"
      ],
      "id": "CY9EHTHLTlhR",
      "execution_count": null,
      "outputs": [
        {
          "output_type": "stream",
          "name": "stdout",
          "text": [
            "Epoch 1/20\n",
            "782/782 [==============================] - 178s 214ms/step - loss: 1.4873 - sparse_categorical_accuracy: 0.4627\n",
            "Epoch 2/20\n",
            "782/782 [==============================] - 167s 213ms/step - loss: 1.2068 - sparse_categorical_accuracy: 0.5672\n",
            "Epoch 3/20\n",
            "782/782 [==============================] - 167s 213ms/step - loss: 1.1143 - sparse_categorical_accuracy: 0.6036\n",
            "Epoch 4/20\n",
            "782/782 [==============================] - 167s 213ms/step - loss: 1.0501 - sparse_categorical_accuracy: 0.6286\n",
            "Epoch 5/20\n",
            "782/782 [==============================] - 167s 213ms/step - loss: 1.0038 - sparse_categorical_accuracy: 0.6468\n",
            "Epoch 6/20\n",
            "782/782 [==============================] - 167s 213ms/step - loss: 0.9574 - sparse_categorical_accuracy: 0.6626\n",
            "Epoch 7/20\n",
            "782/782 [==============================] - 167s 213ms/step - loss: 0.9156 - sparse_categorical_accuracy: 0.6757\n",
            "Epoch 8/20\n",
            "782/782 [==============================] - 167s 213ms/step - loss: 0.8776 - sparse_categorical_accuracy: 0.6909\n",
            "Epoch 9/20\n",
            "782/782 [==============================] - 167s 213ms/step - loss: 0.8422 - sparse_categorical_accuracy: 0.7036\n",
            "Epoch 10/20\n",
            "782/782 [==============================] - 167s 213ms/step - loss: 0.8078 - sparse_categorical_accuracy: 0.7152\n",
            "Epoch 11/20\n",
            "782/782 [==============================] - 167s 213ms/step - loss: 0.7734 - sparse_categorical_accuracy: 0.7261\n",
            "Epoch 12/20\n",
            "782/782 [==============================] - 167s 213ms/step - loss: 0.7452 - sparse_categorical_accuracy: 0.7371\n",
            "Epoch 13/20\n",
            "782/782 [==============================] - 167s 213ms/step - loss: 0.7077 - sparse_categorical_accuracy: 0.7489\n",
            "Epoch 14/20\n",
            "782/782 [==============================] - 167s 213ms/step - loss: 0.6769 - sparse_categorical_accuracy: 0.7610\n",
            "Epoch 15/20\n",
            "782/782 [==============================] - 167s 213ms/step - loss: 0.6473 - sparse_categorical_accuracy: 0.7708\n",
            "Epoch 16/20\n",
            "782/782 [==============================] - 167s 213ms/step - loss: 0.6021 - sparse_categorical_accuracy: 0.7884\n",
            "Epoch 17/20\n",
            "782/782 [==============================] - 167s 213ms/step - loss: 0.5720 - sparse_categorical_accuracy: 0.7976\n",
            "Epoch 18/20\n",
            "782/782 [==============================] - 167s 213ms/step - loss: 0.5360 - sparse_categorical_accuracy: 0.8101\n",
            "Epoch 19/20\n",
            "782/782 [==============================] - 167s 213ms/step - loss: 0.4977 - sparse_categorical_accuracy: 0.8246\n",
            "Epoch 20/20\n",
            "782/782 [==============================] - 167s 213ms/step - loss: 0.4583 - sparse_categorical_accuracy: 0.8370\n"
          ]
        },
        {
          "output_type": "execute_result",
          "data": {
            "text/plain": [
              "<keras.callbacks.History at 0x7f0bc1665590>"
            ]
          },
          "metadata": {},
          "execution_count": 24
        }
      ]
    },
    {
      "cell_type": "code",
      "metadata": {
        "colab": {
          "base_uri": "https://localhost:8080/"
        },
        "id": "h7bs0E0cTlhR",
        "outputId": "f674ea11-a9f8-4187-8ba2-c8b22d412e7b"
      },
      "source": [
        "# evaluate test loss and metrics\n",
        "dense_Model3.evaluate(test_cifar_data)"
      ],
      "id": "h7bs0E0cTlhR",
      "execution_count": null,
      "outputs": [
        {
          "output_type": "stream",
          "name": "stdout",
          "text": [
            "79/79 [==============================] - 11s 109ms/step - loss: 1.3417 - sparse_categorical_accuracy: 0.6206\n"
          ]
        },
        {
          "output_type": "execute_result",
          "data": {
            "text/plain": [
              "[1.3416975736618042, 0.6205999851226807]"
            ]
          },
          "metadata": {},
          "execution_count": 25
        }
      ]
    },
    {
      "cell_type": "markdown",
      "metadata": {
        "id": "VV-d8kymTmbd"
      },
      "source": [
        "### V4  (DenseNet - Data Augmentation)\n",
        "\n",
        "1.   Three dense blocks.\n",
        "2.   The size of the layers in each dense block is fixed by (L-4/3)(L is 80, growthRate K is 24).\n",
        "3.   Trained for 67 epochs.\n",
        "4.   Parameters needs to be further tuned.\n",
        "5.   Tried training for 100 epochs with early stopping and stopped at 67th epoch in training dataset with accuracy 82%.\n",
        "6. Test accuracy is 74%. Could have improved further by tuning parameters"
      ],
      "id": "VV-d8kymTmbd"
    },
    {
      "cell_type": "code",
      "metadata": {
        "id": "77kHtTjXTmbf"
      },
      "source": [
        "#L=80,K=24\n",
        "dense_Layers = int((80-4)/3)\n",
        "dense_Model4_Config = {\n",
        "    \"input_shape\": (32, 32, 3),\n",
        "    \"initial_Kernel_Size\": (2, 2),\n",
        "    \"initialStride\": 1,\n",
        "    \"transitionStride\": 2,\n",
        "    \"num_classes\": 10,\n",
        "    \"dense_Layers_List\": [dense_Layers, dense_Layers, dense_Layers],\n",
        "    \"k\": 24,\n",
        "    \"modelName\": \"DenseNet_V4\"\n",
        "}"
      ],
      "id": "77kHtTjXTmbf",
      "execution_count": null,
      "outputs": []
    },
    {
      "cell_type": "code",
      "metadata": {
        "id": "3IAbT_JrTmbg"
      },
      "source": [
        "dense_Model4 = dense_Net(dense_Model4_Config)\n",
        "\n",
        "#dense_Model4.summary()\n",
        "#tf.keras.utils.plot_model(dense_Model4, \"DenseNet_V4.png\", show_shapes=True)"
      ],
      "id": "3IAbT_JrTmbg",
      "execution_count": null,
      "outputs": []
    },
    {
      "cell_type": "code",
      "metadata": {
        "colab": {
          "base_uri": "https://localhost:8080/"
        },
        "id": "uydBwdtWTmbg",
        "outputId": "f74062a9-cfd2-45fd-e7d7-08d6b61c1401"
      },
      "source": [
        "#Training\n",
        "dense_Model4.compile(\n",
        "          loss      = tf.losses.SparseCategoricalCrossentropy(from_logits=True),\n",
        "          metrics   = tf.metrics.SparseCategoricalAccuracy(),\n",
        "          optimizer = tf.optimizers.SGD(learning_rate=0.1, momentum=0.9, nesterov=True)\n",
        "          # optimizer = tf.optimizers.Adam()\n",
        "          )\n",
        "\n",
        "callbacks4 = tf.keras.callbacks.LearningRateScheduler(lr_scheduler, verbose=1)\n",
        "\n",
        "callback_ES = tf.keras.callbacks.EarlyStopping(monitor='loss', patience=3)\n",
        "\n",
        "dense_Model4.fit(datagen.flow(train_cifar_images, train_cifar_labels, batch_size=64), epochs=100, callbacks=[callback_ES, callbacks4])"
      ],
      "id": "uydBwdtWTmbg",
      "execution_count": null,
      "outputs": [
        {
          "output_type": "stream",
          "name": "stdout",
          "text": [
            "\n",
            "Epoch 00001: LearningRateScheduler setting learning rate to 0.010000000149011612.\n",
            "Epoch 1/100\n",
            "782/782 [==============================] - 295s 358ms/step - loss: 1.6338 - sparse_categorical_accuracy: 0.4038 - lr: 0.0100\n",
            "\n",
            "Epoch 00002: LearningRateScheduler setting learning rate to 0.009999999776482582.\n",
            "Epoch 2/100\n",
            "782/782 [==============================] - 279s 357ms/step - loss: 1.3489 - sparse_categorical_accuracy: 0.5184 - lr: 0.0100\n",
            "\n",
            "Epoch 00003: LearningRateScheduler setting learning rate to 0.009999999776482582.\n",
            "Epoch 3/100\n",
            "782/782 [==============================] - 279s 357ms/step - loss: 1.2500 - sparse_categorical_accuracy: 0.5548 - lr: 0.0100\n",
            "\n",
            "Epoch 00004: LearningRateScheduler setting learning rate to 0.009999999776482582.\n",
            "Epoch 4/100\n",
            "782/782 [==============================] - 279s 357ms/step - loss: 1.1981 - sparse_categorical_accuracy: 0.5764 - lr: 0.0100\n",
            "\n",
            "Epoch 00005: LearningRateScheduler setting learning rate to 0.009999999776482582.\n",
            "Epoch 5/100\n",
            "782/782 [==============================] - 279s 357ms/step - loss: 1.1535 - sparse_categorical_accuracy: 0.5917 - lr: 0.0100\n",
            "\n",
            "Epoch 00006: LearningRateScheduler setting learning rate to 0.009999999776482582.\n",
            "Epoch 6/100\n",
            "782/782 [==============================] - 279s 357ms/step - loss: 1.1118 - sparse_categorical_accuracy: 0.6077 - lr: 0.0100\n",
            "\n",
            "Epoch 00007: LearningRateScheduler setting learning rate to 0.009999999776482582.\n",
            "Epoch 7/100\n",
            "782/782 [==============================] - 279s 357ms/step - loss: 1.0905 - sparse_categorical_accuracy: 0.6154 - lr: 0.0100\n",
            "\n",
            "Epoch 00008: LearningRateScheduler setting learning rate to 0.009999999776482582.\n",
            "Epoch 8/100\n",
            "782/782 [==============================] - 279s 357ms/step - loss: 1.0570 - sparse_categorical_accuracy: 0.6272 - lr: 0.0100\n",
            "\n",
            "Epoch 00009: LearningRateScheduler setting learning rate to 0.009999999776482582.\n",
            "Epoch 9/100\n",
            "782/782 [==============================] - 279s 357ms/step - loss: 1.0342 - sparse_categorical_accuracy: 0.6355 - lr: 0.0100\n",
            "\n",
            "Epoch 00010: LearningRateScheduler setting learning rate to 0.009999999776482582.\n",
            "Epoch 10/100\n",
            "782/782 [==============================] - 279s 357ms/step - loss: 1.0204 - sparse_categorical_accuracy: 0.6419 - lr: 0.0100\n",
            "\n",
            "Epoch 00011: LearningRateScheduler setting learning rate to 0.009999999776482582.\n",
            "Epoch 11/100\n",
            "782/782 [==============================] - 279s 357ms/step - loss: 0.9981 - sparse_categorical_accuracy: 0.6499 - lr: 0.0100\n",
            "\n",
            "Epoch 00012: LearningRateScheduler setting learning rate to 0.009999999776482582.\n",
            "Epoch 12/100\n",
            "782/782 [==============================] - 279s 357ms/step - loss: 0.9825 - sparse_categorical_accuracy: 0.6534 - lr: 0.0100\n",
            "\n",
            "Epoch 00013: LearningRateScheduler setting learning rate to 0.009999999776482582.\n",
            "Epoch 13/100\n",
            "782/782 [==============================] - 279s 357ms/step - loss: 0.9603 - sparse_categorical_accuracy: 0.6629 - lr: 0.0100\n",
            "\n",
            "Epoch 00014: LearningRateScheduler setting learning rate to 0.009999999776482582.\n",
            "Epoch 14/100\n",
            "782/782 [==============================] - 279s 357ms/step - loss: 0.9515 - sparse_categorical_accuracy: 0.6652 - lr: 0.0100\n",
            "\n",
            "Epoch 00015: LearningRateScheduler setting learning rate to 0.009999999776482582.\n",
            "Epoch 15/100\n",
            "782/782 [==============================] - 279s 357ms/step - loss: 0.9378 - sparse_categorical_accuracy: 0.6712 - lr: 0.0100\n",
            "\n",
            "Epoch 00016: LearningRateScheduler setting learning rate to 0.009999999776482582.\n",
            "Epoch 16/100\n",
            "782/782 [==============================] - 279s 357ms/step - loss: 0.9211 - sparse_categorical_accuracy: 0.6766 - lr: 0.0100\n",
            "\n",
            "Epoch 00017: LearningRateScheduler setting learning rate to 0.009999999776482582.\n",
            "Epoch 17/100\n",
            "782/782 [==============================] - 279s 357ms/step - loss: 0.9094 - sparse_categorical_accuracy: 0.6792 - lr: 0.0100\n",
            "\n",
            "Epoch 00018: LearningRateScheduler setting learning rate to 0.009999999776482582.\n",
            "Epoch 18/100\n",
            "782/782 [==============================] - 279s 357ms/step - loss: 0.8987 - sparse_categorical_accuracy: 0.6831 - lr: 0.0100\n",
            "\n",
            "Epoch 00019: LearningRateScheduler setting learning rate to 0.009999999776482582.\n",
            "Epoch 19/100\n",
            "782/782 [==============================] - 279s 356ms/step - loss: 0.8933 - sparse_categorical_accuracy: 0.6854 - lr: 0.0100\n",
            "\n",
            "Epoch 00020: LearningRateScheduler setting learning rate to 0.009999999776482582.\n",
            "Epoch 20/100\n",
            "782/782 [==============================] - 278s 356ms/step - loss: 0.8795 - sparse_categorical_accuracy: 0.6912 - lr: 0.0100\n",
            "\n",
            "Epoch 00021: LearningRateScheduler setting learning rate to 0.009999999776482582.\n",
            "Epoch 21/100\n",
            "782/782 [==============================] - 278s 356ms/step - loss: 0.8704 - sparse_categorical_accuracy: 0.6958 - lr: 0.0100\n",
            "\n",
            "Epoch 00022: LearningRateScheduler setting learning rate to 0.009999999776482582.\n",
            "Epoch 22/100\n",
            "782/782 [==============================] - 279s 357ms/step - loss: 0.8557 - sparse_categorical_accuracy: 0.6998 - lr: 0.0100\n",
            "\n",
            "Epoch 00023: LearningRateScheduler setting learning rate to 0.009999999776482582.\n",
            "Epoch 23/100\n",
            "782/782 [==============================] - 279s 357ms/step - loss: 0.8469 - sparse_categorical_accuracy: 0.7053 - lr: 0.0100\n",
            "\n",
            "Epoch 00024: LearningRateScheduler setting learning rate to 0.009999999776482582.\n",
            "Epoch 24/100\n",
            "782/782 [==============================] - 279s 357ms/step - loss: 0.8436 - sparse_categorical_accuracy: 0.7036 - lr: 0.0100\n",
            "\n",
            "Epoch 00025: LearningRateScheduler setting learning rate to 0.009999999776482582.\n",
            "Epoch 25/100\n",
            "782/782 [==============================] - 279s 356ms/step - loss: 0.8313 - sparse_categorical_accuracy: 0.7105 - lr: 0.0100\n",
            "\n",
            "Epoch 00026: LearningRateScheduler setting learning rate to 0.009999999776482582.\n",
            "Epoch 26/100\n",
            "782/782 [==============================] - 278s 356ms/step - loss: 0.8222 - sparse_categorical_accuracy: 0.7118 - lr: 0.0100\n",
            "\n",
            "Epoch 00027: LearningRateScheduler setting learning rate to 0.009999999776482582.\n",
            "Epoch 27/100\n",
            "782/782 [==============================] - 278s 356ms/step - loss: 0.8139 - sparse_categorical_accuracy: 0.7142 - lr: 0.0100\n",
            "\n",
            "Epoch 00028: LearningRateScheduler setting learning rate to 0.009999999776482582.\n",
            "Epoch 28/100\n",
            "782/782 [==============================] - 278s 355ms/step - loss: 0.8100 - sparse_categorical_accuracy: 0.7180 - lr: 0.0100\n",
            "\n",
            "Epoch 00029: LearningRateScheduler setting learning rate to 0.009999999776482582.\n",
            "Epoch 29/100\n",
            "782/782 [==============================] - 278s 356ms/step - loss: 0.7990 - sparse_categorical_accuracy: 0.7204 - lr: 0.0100\n",
            "\n",
            "Epoch 00030: LearningRateScheduler setting learning rate to 0.009999999776482582.\n",
            "Epoch 30/100\n",
            "782/782 [==============================] - 278s 356ms/step - loss: 0.7968 - sparse_categorical_accuracy: 0.7206 - lr: 0.0100\n",
            "\n",
            "Epoch 00031: LearningRateScheduler setting learning rate to 0.009999999776482582.\n",
            "Epoch 31/100\n",
            "782/782 [==============================] - 278s 356ms/step - loss: 0.7845 - sparse_categorical_accuracy: 0.7266 - lr: 0.0100\n",
            "\n",
            "Epoch 00032: LearningRateScheduler setting learning rate to 0.009999999776482582.\n",
            "Epoch 32/100\n",
            "782/782 [==============================] - 278s 356ms/step - loss: 0.7722 - sparse_categorical_accuracy: 0.7293 - lr: 0.0100\n",
            "\n",
            "Epoch 00033: LearningRateScheduler setting learning rate to 0.009999999776482582.\n",
            "Epoch 33/100\n",
            "782/782 [==============================] - 278s 356ms/step - loss: 0.7726 - sparse_categorical_accuracy: 0.7290 - lr: 0.0100\n",
            "\n",
            "Epoch 00034: LearningRateScheduler setting learning rate to 0.009999999776482582.\n",
            "Epoch 34/100\n",
            "782/782 [==============================] - 278s 356ms/step - loss: 0.7638 - sparse_categorical_accuracy: 0.7332 - lr: 0.0100\n",
            "\n",
            "Epoch 00035: LearningRateScheduler setting learning rate to 0.009999999776482582.\n",
            "Epoch 35/100\n",
            "782/782 [==============================] - 278s 356ms/step - loss: 0.7503 - sparse_categorical_accuracy: 0.7354 - lr: 0.0100\n",
            "\n",
            "Epoch 00036: LearningRateScheduler setting learning rate to 0.009999999776482582.\n",
            "Epoch 36/100\n",
            "782/782 [==============================] - 278s 356ms/step - loss: 0.7525 - sparse_categorical_accuracy: 0.7370 - lr: 0.0100\n",
            "\n",
            "Epoch 00037: LearningRateScheduler setting learning rate to 0.009999999776482582.\n",
            "Epoch 37/100\n",
            "782/782 [==============================] - 278s 356ms/step - loss: 0.7434 - sparse_categorical_accuracy: 0.7383 - lr: 0.0100\n",
            "\n",
            "Epoch 00038: LearningRateScheduler setting learning rate to 0.009999999776482582.\n",
            "Epoch 38/100\n",
            "782/782 [==============================] - 278s 356ms/step - loss: 0.7370 - sparse_categorical_accuracy: 0.7425 - lr: 0.0100\n",
            "\n",
            "Epoch 00039: LearningRateScheduler setting learning rate to 0.009999999776482582.\n",
            "Epoch 39/100\n",
            "782/782 [==============================] - 278s 356ms/step - loss: 0.7378 - sparse_categorical_accuracy: 0.7387 - lr: 0.0100\n",
            "\n",
            "Epoch 00040: LearningRateScheduler setting learning rate to 0.009999999776482582.\n",
            "Epoch 40/100\n",
            "782/782 [==============================] - 278s 356ms/step - loss: 0.7253 - sparse_categorical_accuracy: 0.7452 - lr: 0.0100\n",
            "\n",
            "Epoch 00041: LearningRateScheduler setting learning rate to 0.0009999999776482583.\n",
            "Epoch 41/100\n",
            "782/782 [==============================] - 278s 356ms/step - loss: 0.6389 - sparse_categorical_accuracy: 0.7771 - lr: 1.0000e-03\n",
            "\n",
            "Epoch 00042: LearningRateScheduler setting learning rate to 0.0009999999310821295.\n",
            "Epoch 42/100\n",
            "782/782 [==============================] - 278s 356ms/step - loss: 0.6071 - sparse_categorical_accuracy: 0.7895 - lr: 1.0000e-03\n",
            "\n",
            "Epoch 00043: LearningRateScheduler setting learning rate to 0.0009999999310821295.\n",
            "Epoch 43/100\n",
            "782/782 [==============================] - 278s 356ms/step - loss: 0.5939 - sparse_categorical_accuracy: 0.7937 - lr: 1.0000e-03\n",
            "\n",
            "Epoch 00044: LearningRateScheduler setting learning rate to 0.0009999999310821295.\n",
            "Epoch 44/100\n",
            "782/782 [==============================] - 278s 356ms/step - loss: 0.5929 - sparse_categorical_accuracy: 0.7936 - lr: 1.0000e-03\n",
            "\n",
            "Epoch 00045: LearningRateScheduler setting learning rate to 0.0009999999310821295.\n",
            "Epoch 45/100\n",
            "782/782 [==============================] - 278s 356ms/step - loss: 0.5841 - sparse_categorical_accuracy: 0.7979 - lr: 1.0000e-03\n",
            "\n",
            "Epoch 00046: LearningRateScheduler setting learning rate to 0.0009999999310821295.\n",
            "Epoch 46/100\n",
            "782/782 [==============================] - 278s 356ms/step - loss: 0.5793 - sparse_categorical_accuracy: 0.7994 - lr: 1.0000e-03\n",
            "\n",
            "Epoch 00047: LearningRateScheduler setting learning rate to 0.0009999999310821295.\n",
            "Epoch 47/100\n",
            "782/782 [==============================] - 278s 356ms/step - loss: 0.5754 - sparse_categorical_accuracy: 0.8006 - lr: 1.0000e-03\n",
            "\n",
            "Epoch 00048: LearningRateScheduler setting learning rate to 0.0009999999310821295.\n",
            "Epoch 48/100\n",
            "782/782 [==============================] - 279s 357ms/step - loss: 0.5729 - sparse_categorical_accuracy: 0.8020 - lr: 1.0000e-03\n",
            "\n",
            "Epoch 00049: LearningRateScheduler setting learning rate to 0.0009999999310821295.\n",
            "Epoch 49/100\n",
            "782/782 [==============================] - 279s 357ms/step - loss: 0.5685 - sparse_categorical_accuracy: 0.8017 - lr: 1.0000e-03\n",
            "\n",
            "Epoch 00050: LearningRateScheduler setting learning rate to 0.0009999999310821295.\n",
            "Epoch 50/100\n",
            "782/782 [==============================] - 279s 357ms/step - loss: 0.5656 - sparse_categorical_accuracy: 0.8024 - lr: 1.0000e-03\n",
            "\n",
            "Epoch 00051: LearningRateScheduler setting learning rate to 0.0009999999310821295.\n",
            "Epoch 51/100\n",
            "782/782 [==============================] - 279s 356ms/step - loss: 0.5606 - sparse_categorical_accuracy: 0.8046 - lr: 1.0000e-03\n",
            "\n",
            "Epoch 00052: LearningRateScheduler setting learning rate to 0.0009999999310821295.\n",
            "Epoch 52/100\n",
            "782/782 [==============================] - 279s 356ms/step - loss: 0.5631 - sparse_categorical_accuracy: 0.8025 - lr: 1.0000e-03\n",
            "\n",
            "Epoch 00053: LearningRateScheduler setting learning rate to 0.0009999999310821295.\n",
            "Epoch 53/100\n",
            "782/782 [==============================] - 279s 356ms/step - loss: 0.5592 - sparse_categorical_accuracy: 0.8049 - lr: 1.0000e-03\n",
            "\n",
            "Epoch 00054: LearningRateScheduler setting learning rate to 0.0009999999310821295.\n",
            "Epoch 54/100\n",
            "782/782 [==============================] - 279s 356ms/step - loss: 0.5557 - sparse_categorical_accuracy: 0.8052 - lr: 1.0000e-03\n",
            "\n",
            "Epoch 00055: LearningRateScheduler setting learning rate to 0.0009999999310821295.\n",
            "Epoch 55/100\n",
            "782/782 [==============================] - 279s 356ms/step - loss: 0.5587 - sparse_categorical_accuracy: 0.8043 - lr: 1.0000e-03\n",
            "\n",
            "Epoch 00056: LearningRateScheduler setting learning rate to 0.0009999999310821295.\n",
            "Epoch 56/100\n",
            "782/782 [==============================] - 279s 356ms/step - loss: 0.5550 - sparse_categorical_accuracy: 0.8066 - lr: 1.0000e-03\n",
            "\n",
            "Epoch 00057: LearningRateScheduler setting learning rate to 0.0009999999310821295.\n",
            "Epoch 57/100\n",
            "782/782 [==============================] - 278s 356ms/step - loss: 0.5450 - sparse_categorical_accuracy: 0.8102 - lr: 1.0000e-03\n",
            "\n",
            "Epoch 00058: LearningRateScheduler setting learning rate to 0.0009999999310821295.\n",
            "Epoch 58/100\n",
            "782/782 [==============================] - 278s 356ms/step - loss: 0.5404 - sparse_categorical_accuracy: 0.8118 - lr: 1.0000e-03\n",
            "\n",
            "Epoch 00059: LearningRateScheduler setting learning rate to 0.0009999999310821295.\n",
            "Epoch 59/100\n",
            "782/782 [==============================] - 278s 356ms/step - loss: 0.5425 - sparse_categorical_accuracy: 0.8092 - lr: 1.0000e-03\n",
            "\n",
            "Epoch 00060: LearningRateScheduler setting learning rate to 0.0009999999310821295.\n",
            "Epoch 60/100\n",
            "782/782 [==============================] - 278s 356ms/step - loss: 0.5390 - sparse_categorical_accuracy: 0.8121 - lr: 1.0000e-03\n",
            "\n",
            "Epoch 00061: LearningRateScheduler setting learning rate to 9.999999310821295e-05.\n",
            "Epoch 61/100\n",
            "782/782 [==============================] - 278s 356ms/step - loss: 0.5285 - sparse_categorical_accuracy: 0.8148 - lr: 1.0000e-04\n",
            "\n",
            "Epoch 00062: LearningRateScheduler setting learning rate to 9.99999901978299e-05.\n",
            "Epoch 62/100\n",
            "782/782 [==============================] - 279s 356ms/step - loss: 0.5250 - sparse_categorical_accuracy: 0.8175 - lr: 1.0000e-04\n",
            "\n",
            "Epoch 00063: LearningRateScheduler setting learning rate to 9.99999901978299e-05.\n",
            "Epoch 63/100\n",
            "782/782 [==============================] - 279s 356ms/step - loss: 0.5230 - sparse_categorical_accuracy: 0.8179 - lr: 1.0000e-04\n",
            "\n",
            "Epoch 00064: LearningRateScheduler setting learning rate to 9.99999901978299e-05.\n",
            "Epoch 64/100\n",
            "782/782 [==============================] - 279s 356ms/step - loss: 0.5166 - sparse_categorical_accuracy: 0.8185 - lr: 1.0000e-04\n",
            "\n",
            "Epoch 00065: LearningRateScheduler setting learning rate to 9.99999901978299e-05.\n",
            "Epoch 65/100\n",
            "782/782 [==============================] - 280s 358ms/step - loss: 0.5227 - sparse_categorical_accuracy: 0.8155 - lr: 1.0000e-04\n",
            "\n",
            "Epoch 00066: LearningRateScheduler setting learning rate to 9.99999901978299e-05.\n",
            "Epoch 66/100\n",
            "782/782 [==============================] - 280s 358ms/step - loss: 0.5192 - sparse_categorical_accuracy: 0.8185 - lr: 1.0000e-04\n",
            "\n",
            "Epoch 00067: LearningRateScheduler setting learning rate to 9.99999901978299e-05.\n",
            "Epoch 67/100\n",
            "782/782 [==============================] - 280s 358ms/step - loss: 0.5174 - sparse_categorical_accuracy: 0.8190 - lr: 1.0000e-04\n"
          ]
        },
        {
          "output_type": "execute_result",
          "data": {
            "text/plain": [
              "<keras.callbacks.History at 0x7fea66519e10>"
            ]
          },
          "metadata": {},
          "execution_count": 13
        }
      ]
    },
    {
      "cell_type": "code",
      "metadata": {
        "colab": {
          "base_uri": "https://localhost:8080/"
        },
        "id": "lMWSYzpvTmbg",
        "outputId": "9bde7933-a6a2-4586-8655-38042931f345"
      },
      "source": [
        "# evaluate test loss and metrics\n",
        "dense_Model4.evaluate(test_cifar_data)"
      ],
      "id": "lMWSYzpvTmbg",
      "execution_count": null,
      "outputs": [
        {
          "output_type": "stream",
          "name": "stdout",
          "text": [
            "79/79 [==============================] - 18s 186ms/step - loss: 0.8265 - sparse_categorical_accuracy: 0.7470\n"
          ]
        },
        {
          "output_type": "execute_result",
          "data": {
            "text/plain": [
              "[0.8264870047569275, 0.746999979019165]"
            ]
          },
          "metadata": {},
          "execution_count": 14
        }
      ]
    },
    {
      "cell_type": "markdown",
      "metadata": {
        "id": "nAbVF8aQwulj"
      },
      "source": [
        "### V5  (DenseNet)\n",
        "\n",
        "\n",
        "\n",
        "1.   Training with less dense layers for longer epochs is overfitting.\n",
        "2.   0.1 as validation split\n",
        "3.   Three dense blocks.\n",
        "4.   The size of the layers in each dense block is fixed by (L-4/3)(L is 40, growthRate K is 24).\n",
        "5.   The training accuracy is 94% and the test dataset is None(forcefully stopped).\n",
        "6.   100 epochs\n",
        "7.   Observed that the model got overfitted for training dataset because for about 15 epochs the training accuracy is > 90% but the validation split accuracy is around 60%. I assume that the model is not learning any complex features so stopped the model forcefully.\n"
      ],
      "id": "nAbVF8aQwulj"
    },
    {
      "cell_type": "code",
      "metadata": {
        "id": "PCjN-OGjwuln"
      },
      "source": [
        "#L=40,K=24\n",
        "dense_Layers = int((40-4)/3)\n",
        "dense_Model5_Config = {\n",
        "    \"input_shape\": (32, 32, 3),\n",
        "    \"initial_Kernel_Size\": (2, 2),\n",
        "    \"initialStride\": 1,\n",
        "    \"transitionStride\": 2,\n",
        "    \"num_classes\": 10,\n",
        "    \"dense_Layers_List\": [dense_Layers, dense_Layers, dense_Layers],\n",
        "    \"k\": 24,\n",
        "    \"modelName\": \"DenseNet_V5\"\n",
        "}"
      ],
      "id": "PCjN-OGjwuln",
      "execution_count": null,
      "outputs": []
    },
    {
      "cell_type": "code",
      "metadata": {
        "id": "eVcriBkYwulo"
      },
      "source": [
        "dense_Model5 = dense_Net(dense_Model5_Config)\n",
        "\n",
        "#dense_Model2.summary()\n",
        "#tf.keras.utils.plot_model(dense_Model5, \"DenseNet_V5.png\", show_shapes=True)"
      ],
      "id": "eVcriBkYwulo",
      "execution_count": null,
      "outputs": []
    },
    {
      "cell_type": "code",
      "metadata": {
        "colab": {
          "base_uri": "https://localhost:8080/",
          "height": 1000
        },
        "id": "cS9D7HoEwulo",
        "outputId": "a4ba3394-7588-4b7b-ae53-85b27718c06e"
      },
      "source": [
        "#Training\n",
        "dense_Model5.compile(\n",
        "          loss      = tf.losses.SparseCategoricalCrossentropy(from_logits=True),\n",
        "          metrics   = tf.metrics.SparseCategoricalAccuracy(),\n",
        "          #optimizer = tf.optimizers.SGD(learning_rate=0.1)\n",
        "          optimizer = tf.optimizers.Adam()\n",
        "          )\n",
        "\n",
        "callbacks2 = tf.keras.callbacks.LearningRateScheduler(lr_scheduler, verbose=1)\n",
        "\n",
        "dense_Model5.fit(train_cifar_images, train_cifar_labels, epochs=100, validation_split=0.1, shuffle=True, batch_size=64)"
      ],
      "id": "cS9D7HoEwulo",
      "execution_count": null,
      "outputs": [
        {
          "output_type": "stream",
          "name": "stdout",
          "text": [
            "Epoch 1/100\n",
            "704/704 [==============================] - 114s 130ms/step - loss: 1.4833 - sparse_categorical_accuracy: 0.4657 - val_loss: 1.7963 - val_sparse_categorical_accuracy: 0.4148\n",
            "Epoch 2/100\n",
            "704/704 [==============================] - 87s 124ms/step - loss: 1.2136 - sparse_categorical_accuracy: 0.5670 - val_loss: 2.7741 - val_sparse_categorical_accuracy: 0.3446\n",
            "Epoch 3/100\n",
            "704/704 [==============================] - 87s 124ms/step - loss: 1.1217 - sparse_categorical_accuracy: 0.6010 - val_loss: 2.1252 - val_sparse_categorical_accuracy: 0.4058\n",
            "Epoch 4/100\n",
            "704/704 [==============================] - 87s 123ms/step - loss: 1.0555 - sparse_categorical_accuracy: 0.6250 - val_loss: 1.9652 - val_sparse_categorical_accuracy: 0.4352\n",
            "Epoch 5/100\n",
            "704/704 [==============================] - 87s 123ms/step - loss: 1.0089 - sparse_categorical_accuracy: 0.6424 - val_loss: 2.1641 - val_sparse_categorical_accuracy: 0.4310\n",
            "Epoch 6/100\n",
            "704/704 [==============================] - 87s 123ms/step - loss: 0.9647 - sparse_categorical_accuracy: 0.6595 - val_loss: 1.8028 - val_sparse_categorical_accuracy: 0.4482\n",
            "Epoch 7/100\n",
            "704/704 [==============================] - 89s 127ms/step - loss: 0.9235 - sparse_categorical_accuracy: 0.6725 - val_loss: 1.2598 - val_sparse_categorical_accuracy: 0.5768\n",
            "Epoch 8/100\n",
            "704/704 [==============================] - 87s 123ms/step - loss: 0.8925 - sparse_categorical_accuracy: 0.6843 - val_loss: 1.2317 - val_sparse_categorical_accuracy: 0.5830\n",
            "Epoch 9/100\n",
            "704/704 [==============================] - 87s 123ms/step - loss: 0.8590 - sparse_categorical_accuracy: 0.6950 - val_loss: 1.2982 - val_sparse_categorical_accuracy: 0.5812\n",
            "Epoch 10/100\n",
            "704/704 [==============================] - 86s 123ms/step - loss: 0.8242 - sparse_categorical_accuracy: 0.7075 - val_loss: 1.2202 - val_sparse_categorical_accuracy: 0.6028\n",
            "Epoch 11/100\n",
            "704/704 [==============================] - 86s 123ms/step - loss: 0.7916 - sparse_categorical_accuracy: 0.7211 - val_loss: 1.3853 - val_sparse_categorical_accuracy: 0.5680\n",
            "Epoch 12/100\n",
            "704/704 [==============================] - 86s 123ms/step - loss: 0.7635 - sparse_categorical_accuracy: 0.7309 - val_loss: 1.5132 - val_sparse_categorical_accuracy: 0.5276\n",
            "Epoch 13/100\n",
            "704/704 [==============================] - 86s 123ms/step - loss: 0.7337 - sparse_categorical_accuracy: 0.7412 - val_loss: 1.1238 - val_sparse_categorical_accuracy: 0.6148\n",
            "Epoch 14/100\n",
            "704/704 [==============================] - 86s 122ms/step - loss: 0.6967 - sparse_categorical_accuracy: 0.7528 - val_loss: 1.6545 - val_sparse_categorical_accuracy: 0.5286\n",
            "Epoch 15/100\n",
            "704/704 [==============================] - 86s 122ms/step - loss: 0.6788 - sparse_categorical_accuracy: 0.7614 - val_loss: 0.9745 - val_sparse_categorical_accuracy: 0.6692\n",
            "Epoch 16/100\n",
            "704/704 [==============================] - 86s 122ms/step - loss: 0.6435 - sparse_categorical_accuracy: 0.7737 - val_loss: 1.2738 - val_sparse_categorical_accuracy: 0.6174\n",
            "Epoch 17/100\n",
            "704/704 [==============================] - 86s 122ms/step - loss: 0.6104 - sparse_categorical_accuracy: 0.7856 - val_loss: 1.2025 - val_sparse_categorical_accuracy: 0.6462\n",
            "Epoch 18/100\n",
            "704/704 [==============================] - 86s 122ms/step - loss: 0.5818 - sparse_categorical_accuracy: 0.7946 - val_loss: 1.2357 - val_sparse_categorical_accuracy: 0.6140\n",
            "Epoch 19/100\n",
            "704/704 [==============================] - 86s 122ms/step - loss: 0.5443 - sparse_categorical_accuracy: 0.8075 - val_loss: 1.2087 - val_sparse_categorical_accuracy: 0.6376\n",
            "Epoch 20/100\n",
            "704/704 [==============================] - 86s 122ms/step - loss: 0.5182 - sparse_categorical_accuracy: 0.8140 - val_loss: 1.1429 - val_sparse_categorical_accuracy: 0.6582\n",
            "Epoch 21/100\n",
            "704/704 [==============================] - 86s 123ms/step - loss: 0.4823 - sparse_categorical_accuracy: 0.8288 - val_loss: 1.0359 - val_sparse_categorical_accuracy: 0.6816\n",
            "Epoch 22/100\n",
            "704/704 [==============================] - 86s 122ms/step - loss: 0.4555 - sparse_categorical_accuracy: 0.8385 - val_loss: 1.1246 - val_sparse_categorical_accuracy: 0.6730\n",
            "Epoch 23/100\n",
            "704/704 [==============================] - 86s 123ms/step - loss: 0.4234 - sparse_categorical_accuracy: 0.8492 - val_loss: 3.5934 - val_sparse_categorical_accuracy: 0.4400\n",
            "Epoch 24/100\n",
            "704/704 [==============================] - 86s 123ms/step - loss: 0.3947 - sparse_categorical_accuracy: 0.8598 - val_loss: 1.4041 - val_sparse_categorical_accuracy: 0.6328\n",
            "Epoch 25/100\n",
            "704/704 [==============================] - 86s 123ms/step - loss: 0.3643 - sparse_categorical_accuracy: 0.8703 - val_loss: 1.8864 - val_sparse_categorical_accuracy: 0.5602\n",
            "Epoch 26/100\n",
            "704/704 [==============================] - 86s 122ms/step - loss: 0.3282 - sparse_categorical_accuracy: 0.8813 - val_loss: 1.6936 - val_sparse_categorical_accuracy: 0.6066\n",
            "Epoch 27/100\n",
            "704/704 [==============================] - 86s 123ms/step - loss: 0.3168 - sparse_categorical_accuracy: 0.8855 - val_loss: 2.0444 - val_sparse_categorical_accuracy: 0.5748\n",
            "Epoch 28/100\n",
            "704/704 [==============================] - 86s 122ms/step - loss: 0.2941 - sparse_categorical_accuracy: 0.8947 - val_loss: 2.8499 - val_sparse_categorical_accuracy: 0.5060\n",
            "Epoch 29/100\n",
            "704/704 [==============================] - 86s 122ms/step - loss: 0.2720 - sparse_categorical_accuracy: 0.9040 - val_loss: 1.5855 - val_sparse_categorical_accuracy: 0.6448\n",
            "Epoch 30/100\n",
            "704/704 [==============================] - 86s 123ms/step - loss: 0.2509 - sparse_categorical_accuracy: 0.9110 - val_loss: 1.9443 - val_sparse_categorical_accuracy: 0.6024\n",
            "Epoch 31/100\n",
            "704/704 [==============================] - 89s 126ms/step - loss: 0.2382 - sparse_categorical_accuracy: 0.9156 - val_loss: 2.2397 - val_sparse_categorical_accuracy: 0.5864\n",
            "Epoch 32/100\n",
            "704/704 [==============================] - 86s 123ms/step - loss: 0.2295 - sparse_categorical_accuracy: 0.9195 - val_loss: 1.9122 - val_sparse_categorical_accuracy: 0.6022\n",
            "Epoch 33/100\n",
            "704/704 [==============================] - 86s 123ms/step - loss: 0.2066 - sparse_categorical_accuracy: 0.9260 - val_loss: 2.6898 - val_sparse_categorical_accuracy: 0.5592\n",
            "Epoch 34/100\n",
            "704/704 [==============================] - 86s 122ms/step - loss: 0.2039 - sparse_categorical_accuracy: 0.9270 - val_loss: 1.8595 - val_sparse_categorical_accuracy: 0.6214\n",
            "Epoch 35/100\n",
            "704/704 [==============================] - 86s 122ms/step - loss: 0.1939 - sparse_categorical_accuracy: 0.9306 - val_loss: 2.1762 - val_sparse_categorical_accuracy: 0.6100\n",
            "Epoch 36/100\n",
            "704/704 [==============================] - 86s 123ms/step - loss: 0.1848 - sparse_categorical_accuracy: 0.9348 - val_loss: 1.9542 - val_sparse_categorical_accuracy: 0.6316\n",
            "Epoch 37/100\n",
            "704/704 [==============================] - 86s 123ms/step - loss: 0.1737 - sparse_categorical_accuracy: 0.9373 - val_loss: 2.0666 - val_sparse_categorical_accuracy: 0.6268\n",
            "Epoch 38/100\n",
            "704/704 [==============================] - 86s 123ms/step - loss: 0.1680 - sparse_categorical_accuracy: 0.9400 - val_loss: 2.2572 - val_sparse_categorical_accuracy: 0.6188\n",
            "Epoch 39/100\n",
            "704/704 [==============================] - 86s 123ms/step - loss: 0.1670 - sparse_categorical_accuracy: 0.9404 - val_loss: 2.8911 - val_sparse_categorical_accuracy: 0.5530\n",
            "Epoch 40/100\n",
            "704/704 [==============================] - 87s 123ms/step - loss: 0.1632 - sparse_categorical_accuracy: 0.9414 - val_loss: 2.2801 - val_sparse_categorical_accuracy: 0.6224\n",
            "Epoch 41/100\n",
            "704/704 [==============================] - 87s 123ms/step - loss: 0.1423 - sparse_categorical_accuracy: 0.9499 - val_loss: 2.1880 - val_sparse_categorical_accuracy: 0.6242\n",
            "Epoch 42/100\n",
            "704/704 [==============================] - 87s 123ms/step - loss: 0.1456 - sparse_categorical_accuracy: 0.9471 - val_loss: 2.4846 - val_sparse_categorical_accuracy: 0.6018\n",
            "Epoch 43/100\n",
            "704/704 [==============================] - 87s 123ms/step - loss: 0.1543 - sparse_categorical_accuracy: 0.9463 - val_loss: 2.1735 - val_sparse_categorical_accuracy: 0.6462\n",
            "Epoch 44/100\n",
            "704/704 [==============================] - 86s 123ms/step - loss: 0.1344 - sparse_categorical_accuracy: 0.9536 - val_loss: 1.8097 - val_sparse_categorical_accuracy: 0.6732\n",
            "Epoch 45/100\n",
            "704/704 [==============================] - 86s 123ms/step - loss: 0.1317 - sparse_categorical_accuracy: 0.9541 - val_loss: 2.2943 - val_sparse_categorical_accuracy: 0.6366\n",
            "Epoch 46/100\n",
            "704/704 [==============================] - 86s 123ms/step - loss: 0.1280 - sparse_categorical_accuracy: 0.9550 - val_loss: 2.7226 - val_sparse_categorical_accuracy: 0.5830\n",
            "Epoch 47/100\n",
            "704/704 [==============================] - 86s 123ms/step - loss: 0.1256 - sparse_categorical_accuracy: 0.9569 - val_loss: 3.6774 - val_sparse_categorical_accuracy: 0.5544\n",
            "Epoch 48/100\n",
            "704/704 [==============================] - 86s 123ms/step - loss: 0.1479 - sparse_categorical_accuracy: 0.9494 - val_loss: 2.5635 - val_sparse_categorical_accuracy: 0.5936\n",
            "Epoch 49/100\n",
            "463/704 [==================>...........] - ETA: 28s - loss: 0.1093 - sparse_categorical_accuracy: 0.9623"
          ]
        },
        {
          "output_type": "error",
          "ename": "KeyboardInterrupt",
          "evalue": "ignored",
          "traceback": [
            "\u001b[0;31m---------------------------------------------------------------------------\u001b[0m",
            "\u001b[0;31mKeyboardInterrupt\u001b[0m                         Traceback (most recent call last)",
            "\u001b[0;32m<ipython-input-12-95ad1553e2cd>\u001b[0m in \u001b[0;36m<module>\u001b[0;34m()\u001b[0m\n\u001b[1;32m      9\u001b[0m \u001b[0mcallbacks2\u001b[0m \u001b[0;34m=\u001b[0m \u001b[0mtf\u001b[0m\u001b[0;34m.\u001b[0m\u001b[0mkeras\u001b[0m\u001b[0;34m.\u001b[0m\u001b[0mcallbacks\u001b[0m\u001b[0;34m.\u001b[0m\u001b[0mLearningRateScheduler\u001b[0m\u001b[0;34m(\u001b[0m\u001b[0mlr_scheduler\u001b[0m\u001b[0;34m,\u001b[0m \u001b[0mverbose\u001b[0m\u001b[0;34m=\u001b[0m\u001b[0;36m1\u001b[0m\u001b[0;34m)\u001b[0m\u001b[0;34m\u001b[0m\u001b[0;34m\u001b[0m\u001b[0m\n\u001b[1;32m     10\u001b[0m \u001b[0;34m\u001b[0m\u001b[0m\n\u001b[0;32m---> 11\u001b[0;31m \u001b[0mdense_Model5\u001b[0m\u001b[0;34m.\u001b[0m\u001b[0mfit\u001b[0m\u001b[0;34m(\u001b[0m\u001b[0mtrain_cifar_images\u001b[0m\u001b[0;34m,\u001b[0m \u001b[0mtrain_cifar_labels\u001b[0m\u001b[0;34m,\u001b[0m \u001b[0mepochs\u001b[0m\u001b[0;34m=\u001b[0m\u001b[0;36m100\u001b[0m\u001b[0;34m,\u001b[0m \u001b[0mvalidation_split\u001b[0m\u001b[0;34m=\u001b[0m\u001b[0;36m0.1\u001b[0m\u001b[0;34m,\u001b[0m \u001b[0mshuffle\u001b[0m\u001b[0;34m=\u001b[0m\u001b[0;32mTrue\u001b[0m\u001b[0;34m,\u001b[0m \u001b[0mbatch_size\u001b[0m\u001b[0;34m=\u001b[0m\u001b[0;36m64\u001b[0m\u001b[0;34m)\u001b[0m\u001b[0;34m\u001b[0m\u001b[0;34m\u001b[0m\u001b[0m\n\u001b[0m",
            "\u001b[0;32m/usr/local/lib/python3.7/dist-packages/keras/utils/traceback_utils.py\u001b[0m in \u001b[0;36merror_handler\u001b[0;34m(*args, **kwargs)\u001b[0m\n\u001b[1;32m     62\u001b[0m     \u001b[0mfiltered_tb\u001b[0m \u001b[0;34m=\u001b[0m \u001b[0;32mNone\u001b[0m\u001b[0;34m\u001b[0m\u001b[0;34m\u001b[0m\u001b[0m\n\u001b[1;32m     63\u001b[0m     \u001b[0;32mtry\u001b[0m\u001b[0;34m:\u001b[0m\u001b[0;34m\u001b[0m\u001b[0;34m\u001b[0m\u001b[0m\n\u001b[0;32m---> 64\u001b[0;31m       \u001b[0;32mreturn\u001b[0m \u001b[0mfn\u001b[0m\u001b[0;34m(\u001b[0m\u001b[0;34m*\u001b[0m\u001b[0margs\u001b[0m\u001b[0;34m,\u001b[0m \u001b[0;34m**\u001b[0m\u001b[0mkwargs\u001b[0m\u001b[0;34m)\u001b[0m\u001b[0;34m\u001b[0m\u001b[0;34m\u001b[0m\u001b[0m\n\u001b[0m\u001b[1;32m     65\u001b[0m     \u001b[0;32mexcept\u001b[0m \u001b[0mException\u001b[0m \u001b[0;32mas\u001b[0m \u001b[0me\u001b[0m\u001b[0;34m:\u001b[0m  \u001b[0;31m# pylint: disable=broad-except\u001b[0m\u001b[0;34m\u001b[0m\u001b[0;34m\u001b[0m\u001b[0m\n\u001b[1;32m     66\u001b[0m       \u001b[0mfiltered_tb\u001b[0m \u001b[0;34m=\u001b[0m \u001b[0m_process_traceback_frames\u001b[0m\u001b[0;34m(\u001b[0m\u001b[0me\u001b[0m\u001b[0;34m.\u001b[0m\u001b[0m__traceback__\u001b[0m\u001b[0;34m)\u001b[0m\u001b[0;34m\u001b[0m\u001b[0;34m\u001b[0m\u001b[0m\n",
            "\u001b[0;32m/usr/local/lib/python3.7/dist-packages/keras/engine/training.py\u001b[0m in \u001b[0;36mfit\u001b[0;34m(self, x, y, batch_size, epochs, verbose, callbacks, validation_split, validation_data, shuffle, class_weight, sample_weight, initial_epoch, steps_per_epoch, validation_steps, validation_batch_size, validation_freq, max_queue_size, workers, use_multiprocessing)\u001b[0m\n\u001b[1;32m   1214\u001b[0m                 _r=1):\n\u001b[1;32m   1215\u001b[0m               \u001b[0mcallbacks\u001b[0m\u001b[0;34m.\u001b[0m\u001b[0mon_train_batch_begin\u001b[0m\u001b[0;34m(\u001b[0m\u001b[0mstep\u001b[0m\u001b[0;34m)\u001b[0m\u001b[0;34m\u001b[0m\u001b[0;34m\u001b[0m\u001b[0m\n\u001b[0;32m-> 1216\u001b[0;31m               \u001b[0mtmp_logs\u001b[0m \u001b[0;34m=\u001b[0m \u001b[0mself\u001b[0m\u001b[0;34m.\u001b[0m\u001b[0mtrain_function\u001b[0m\u001b[0;34m(\u001b[0m\u001b[0miterator\u001b[0m\u001b[0;34m)\u001b[0m\u001b[0;34m\u001b[0m\u001b[0;34m\u001b[0m\u001b[0m\n\u001b[0m\u001b[1;32m   1217\u001b[0m               \u001b[0;32mif\u001b[0m \u001b[0mdata_handler\u001b[0m\u001b[0;34m.\u001b[0m\u001b[0mshould_sync\u001b[0m\u001b[0;34m:\u001b[0m\u001b[0;34m\u001b[0m\u001b[0;34m\u001b[0m\u001b[0m\n\u001b[1;32m   1218\u001b[0m                 \u001b[0mcontext\u001b[0m\u001b[0;34m.\u001b[0m\u001b[0masync_wait\u001b[0m\u001b[0;34m(\u001b[0m\u001b[0;34m)\u001b[0m\u001b[0;34m\u001b[0m\u001b[0;34m\u001b[0m\u001b[0m\n",
            "\u001b[0;32m/usr/local/lib/python3.7/dist-packages/tensorflow/python/util/traceback_utils.py\u001b[0m in \u001b[0;36merror_handler\u001b[0;34m(*args, **kwargs)\u001b[0m\n\u001b[1;32m    148\u001b[0m     \u001b[0mfiltered_tb\u001b[0m \u001b[0;34m=\u001b[0m \u001b[0;32mNone\u001b[0m\u001b[0;34m\u001b[0m\u001b[0;34m\u001b[0m\u001b[0m\n\u001b[1;32m    149\u001b[0m     \u001b[0;32mtry\u001b[0m\u001b[0;34m:\u001b[0m\u001b[0;34m\u001b[0m\u001b[0;34m\u001b[0m\u001b[0m\n\u001b[0;32m--> 150\u001b[0;31m       \u001b[0;32mreturn\u001b[0m \u001b[0mfn\u001b[0m\u001b[0;34m(\u001b[0m\u001b[0;34m*\u001b[0m\u001b[0margs\u001b[0m\u001b[0;34m,\u001b[0m \u001b[0;34m**\u001b[0m\u001b[0mkwargs\u001b[0m\u001b[0;34m)\u001b[0m\u001b[0;34m\u001b[0m\u001b[0;34m\u001b[0m\u001b[0m\n\u001b[0m\u001b[1;32m    151\u001b[0m     \u001b[0;32mexcept\u001b[0m \u001b[0mException\u001b[0m \u001b[0;32mas\u001b[0m \u001b[0me\u001b[0m\u001b[0;34m:\u001b[0m\u001b[0;34m\u001b[0m\u001b[0;34m\u001b[0m\u001b[0m\n\u001b[1;32m    152\u001b[0m       \u001b[0mfiltered_tb\u001b[0m \u001b[0;34m=\u001b[0m \u001b[0m_process_traceback_frames\u001b[0m\u001b[0;34m(\u001b[0m\u001b[0me\u001b[0m\u001b[0;34m.\u001b[0m\u001b[0m__traceback__\u001b[0m\u001b[0;34m)\u001b[0m\u001b[0;34m\u001b[0m\u001b[0;34m\u001b[0m\u001b[0m\n",
            "\u001b[0;32m/usr/local/lib/python3.7/dist-packages/tensorflow/python/eager/def_function.py\u001b[0m in \u001b[0;36m__call__\u001b[0;34m(self, *args, **kwds)\u001b[0m\n\u001b[1;32m    908\u001b[0m \u001b[0;34m\u001b[0m\u001b[0m\n\u001b[1;32m    909\u001b[0m       \u001b[0;32mwith\u001b[0m \u001b[0mOptionalXlaContext\u001b[0m\u001b[0;34m(\u001b[0m\u001b[0mself\u001b[0m\u001b[0;34m.\u001b[0m\u001b[0m_jit_compile\u001b[0m\u001b[0;34m)\u001b[0m\u001b[0;34m:\u001b[0m\u001b[0;34m\u001b[0m\u001b[0;34m\u001b[0m\u001b[0m\n\u001b[0;32m--> 910\u001b[0;31m         \u001b[0mresult\u001b[0m \u001b[0;34m=\u001b[0m \u001b[0mself\u001b[0m\u001b[0;34m.\u001b[0m\u001b[0m_call\u001b[0m\u001b[0;34m(\u001b[0m\u001b[0;34m*\u001b[0m\u001b[0margs\u001b[0m\u001b[0;34m,\u001b[0m \u001b[0;34m**\u001b[0m\u001b[0mkwds\u001b[0m\u001b[0;34m)\u001b[0m\u001b[0;34m\u001b[0m\u001b[0;34m\u001b[0m\u001b[0m\n\u001b[0m\u001b[1;32m    911\u001b[0m \u001b[0;34m\u001b[0m\u001b[0m\n\u001b[1;32m    912\u001b[0m       \u001b[0mnew_tracing_count\u001b[0m \u001b[0;34m=\u001b[0m \u001b[0mself\u001b[0m\u001b[0;34m.\u001b[0m\u001b[0mexperimental_get_tracing_count\u001b[0m\u001b[0;34m(\u001b[0m\u001b[0;34m)\u001b[0m\u001b[0;34m\u001b[0m\u001b[0;34m\u001b[0m\u001b[0m\n",
            "\u001b[0;32m/usr/local/lib/python3.7/dist-packages/tensorflow/python/eager/def_function.py\u001b[0m in \u001b[0;36m_call\u001b[0;34m(self, *args, **kwds)\u001b[0m\n\u001b[1;32m    940\u001b[0m       \u001b[0;31m# In this case we have created variables on the first call, so we run the\u001b[0m\u001b[0;34m\u001b[0m\u001b[0;34m\u001b[0m\u001b[0;34m\u001b[0m\u001b[0m\n\u001b[1;32m    941\u001b[0m       \u001b[0;31m# defunned version which is guaranteed to never create variables.\u001b[0m\u001b[0;34m\u001b[0m\u001b[0;34m\u001b[0m\u001b[0;34m\u001b[0m\u001b[0m\n\u001b[0;32m--> 942\u001b[0;31m       \u001b[0;32mreturn\u001b[0m \u001b[0mself\u001b[0m\u001b[0;34m.\u001b[0m\u001b[0m_stateless_fn\u001b[0m\u001b[0;34m(\u001b[0m\u001b[0;34m*\u001b[0m\u001b[0margs\u001b[0m\u001b[0;34m,\u001b[0m \u001b[0;34m**\u001b[0m\u001b[0mkwds\u001b[0m\u001b[0;34m)\u001b[0m  \u001b[0;31m# pylint: disable=not-callable\u001b[0m\u001b[0;34m\u001b[0m\u001b[0;34m\u001b[0m\u001b[0m\n\u001b[0m\u001b[1;32m    943\u001b[0m     \u001b[0;32melif\u001b[0m \u001b[0mself\u001b[0m\u001b[0;34m.\u001b[0m\u001b[0m_stateful_fn\u001b[0m \u001b[0;32mis\u001b[0m \u001b[0;32mnot\u001b[0m \u001b[0;32mNone\u001b[0m\u001b[0;34m:\u001b[0m\u001b[0;34m\u001b[0m\u001b[0;34m\u001b[0m\u001b[0m\n\u001b[1;32m    944\u001b[0m       \u001b[0;31m# Release the lock early so that multiple threads can perform the call\u001b[0m\u001b[0;34m\u001b[0m\u001b[0;34m\u001b[0m\u001b[0;34m\u001b[0m\u001b[0m\n",
            "\u001b[0;32m/usr/local/lib/python3.7/dist-packages/tensorflow/python/eager/function.py\u001b[0m in \u001b[0;36m__call__\u001b[0;34m(self, *args, **kwargs)\u001b[0m\n\u001b[1;32m   3129\u001b[0m        filtered_flat_args) = self._maybe_define_function(args, kwargs)\n\u001b[1;32m   3130\u001b[0m     return graph_function._call_flat(\n\u001b[0;32m-> 3131\u001b[0;31m         filtered_flat_args, captured_inputs=graph_function.captured_inputs)  # pylint: disable=protected-access\n\u001b[0m\u001b[1;32m   3132\u001b[0m \u001b[0;34m\u001b[0m\u001b[0m\n\u001b[1;32m   3133\u001b[0m   \u001b[0;34m@\u001b[0m\u001b[0mproperty\u001b[0m\u001b[0;34m\u001b[0m\u001b[0;34m\u001b[0m\u001b[0m\n",
            "\u001b[0;32m/usr/local/lib/python3.7/dist-packages/tensorflow/python/eager/function.py\u001b[0m in \u001b[0;36m_call_flat\u001b[0;34m(self, args, captured_inputs, cancellation_manager)\u001b[0m\n\u001b[1;32m   1958\u001b[0m       \u001b[0;31m# No tape is watching; skip to running the function.\u001b[0m\u001b[0;34m\u001b[0m\u001b[0;34m\u001b[0m\u001b[0;34m\u001b[0m\u001b[0m\n\u001b[1;32m   1959\u001b[0m       return self._build_call_outputs(self._inference_function.call(\n\u001b[0;32m-> 1960\u001b[0;31m           ctx, args, cancellation_manager=cancellation_manager))\n\u001b[0m\u001b[1;32m   1961\u001b[0m     forward_backward = self._select_forward_and_backward_functions(\n\u001b[1;32m   1962\u001b[0m         \u001b[0margs\u001b[0m\u001b[0;34m,\u001b[0m\u001b[0;34m\u001b[0m\u001b[0;34m\u001b[0m\u001b[0m\n",
            "\u001b[0;32m/usr/local/lib/python3.7/dist-packages/tensorflow/python/eager/function.py\u001b[0m in \u001b[0;36mcall\u001b[0;34m(self, ctx, args, cancellation_manager)\u001b[0m\n\u001b[1;32m    601\u001b[0m               \u001b[0minputs\u001b[0m\u001b[0;34m=\u001b[0m\u001b[0margs\u001b[0m\u001b[0;34m,\u001b[0m\u001b[0;34m\u001b[0m\u001b[0;34m\u001b[0m\u001b[0m\n\u001b[1;32m    602\u001b[0m               \u001b[0mattrs\u001b[0m\u001b[0;34m=\u001b[0m\u001b[0mattrs\u001b[0m\u001b[0;34m,\u001b[0m\u001b[0;34m\u001b[0m\u001b[0;34m\u001b[0m\u001b[0m\n\u001b[0;32m--> 603\u001b[0;31m               ctx=ctx)\n\u001b[0m\u001b[1;32m    604\u001b[0m         \u001b[0;32melse\u001b[0m\u001b[0;34m:\u001b[0m\u001b[0;34m\u001b[0m\u001b[0;34m\u001b[0m\u001b[0m\n\u001b[1;32m    605\u001b[0m           outputs = execute.execute_with_cancellation(\n",
            "\u001b[0;32m/usr/local/lib/python3.7/dist-packages/tensorflow/python/eager/execute.py\u001b[0m in \u001b[0;36mquick_execute\u001b[0;34m(op_name, num_outputs, inputs, attrs, ctx, name)\u001b[0m\n\u001b[1;32m     57\u001b[0m     \u001b[0mctx\u001b[0m\u001b[0;34m.\u001b[0m\u001b[0mensure_initialized\u001b[0m\u001b[0;34m(\u001b[0m\u001b[0;34m)\u001b[0m\u001b[0;34m\u001b[0m\u001b[0;34m\u001b[0m\u001b[0m\n\u001b[1;32m     58\u001b[0m     tensors = pywrap_tfe.TFE_Py_Execute(ctx._handle, device_name, op_name,\n\u001b[0;32m---> 59\u001b[0;31m                                         inputs, attrs, num_outputs)\n\u001b[0m\u001b[1;32m     60\u001b[0m   \u001b[0;32mexcept\u001b[0m \u001b[0mcore\u001b[0m\u001b[0;34m.\u001b[0m\u001b[0m_NotOkStatusException\u001b[0m \u001b[0;32mas\u001b[0m \u001b[0me\u001b[0m\u001b[0;34m:\u001b[0m\u001b[0;34m\u001b[0m\u001b[0;34m\u001b[0m\u001b[0m\n\u001b[1;32m     61\u001b[0m     \u001b[0;32mif\u001b[0m \u001b[0mname\u001b[0m \u001b[0;32mis\u001b[0m \u001b[0;32mnot\u001b[0m \u001b[0;32mNone\u001b[0m\u001b[0;34m:\u001b[0m\u001b[0;34m\u001b[0m\u001b[0;34m\u001b[0m\u001b[0m\n",
            "\u001b[0;31mKeyboardInterrupt\u001b[0m: "
          ]
        }
      ]
    },
    {
      "cell_type": "code",
      "metadata": {
        "id": "bMuiKaF7wulo"
      },
      "source": [
        "# evaluate test loss and metrics\n",
        "dense_Model5.evaluate(test_cifar_data)"
      ],
      "id": "bMuiKaF7wulo",
      "execution_count": null,
      "outputs": []
    },
    {
      "cell_type": "markdown",
      "metadata": {
        "id": "zyiwR8iC5IfE"
      },
      "source": [
        "### V6  (DenseNet - Data Augmentation)\n",
        "\n",
        "1.   Three dense blocks.\n",
        "2.   The size of the layers in each dense block is fixed by (L-4/3)(L is 100, growthRate K is 24).\n",
        "3.   The training accuracy is 69% and the test dataset is 48% which is very poor.\n",
        "4.   Trained for 20 epochs\n",
        "5.   The dense clock layer size has been increases, may be it should have been trained for more epochs."
      ],
      "id": "zyiwR8iC5IfE"
    },
    {
      "cell_type": "code",
      "metadata": {
        "id": "mc0QaF3K5IfK"
      },
      "source": [
        "#L=100,K=24\n",
        "dense_Layers = int((100-4)/3)\n",
        "dense_Model6_Config = {\n",
        "    \"input_shape\": (32, 32, 3),\n",
        "    \"initial_Kernel_Size\": (2, 2),\n",
        "    \"initialStride\": 1,\n",
        "    \"transitionStride\": 2,\n",
        "    \"num_classes\": 10,\n",
        "    \"dense_Layers_List\": [dense_Layers, dense_Layers, dense_Layers],\n",
        "    \"k\": 24,\n",
        "    \"modelName\": \"DenseNet_V6\"\n",
        "}"
      ],
      "id": "mc0QaF3K5IfK",
      "execution_count": null,
      "outputs": []
    },
    {
      "cell_type": "code",
      "metadata": {
        "id": "yDNl44yA5IfK"
      },
      "source": [
        "dense_Model6 = dense_Net(dense_Model6_Config)\n",
        "\n",
        "#dense_Model6.summary()\n",
        "#tf.keras.utils.plot_model(dense_Model6, \"DenseNet_V6.png\", show_shapes=True)"
      ],
      "id": "yDNl44yA5IfK",
      "execution_count": null,
      "outputs": []
    },
    {
      "cell_type": "code",
      "metadata": {
        "colab": {
          "base_uri": "https://localhost:8080/"
        },
        "id": "9_5w3dqW5IfK",
        "outputId": "d0fdd78f-9b89-4e6d-f6d3-582de46c936c"
      },
      "source": [
        "#Training\n",
        "dense_Model6.compile(\n",
        "          loss      = tf.losses.SparseCategoricalCrossentropy(from_logits=True),\n",
        "          metrics   = tf.metrics.SparseCategoricalAccuracy(),\n",
        "          #optimizer = tf.optimizers.SGD(learning_rate=0.1)\n",
        "          optimizer = tf.optimizers.Adam()\n",
        "          )\n",
        "\n",
        "callbacks4 = tf.keras.callbacks.LearningRateScheduler(lr_scheduler, verbose=1)\n",
        "\n",
        "dense_Model6.fit(datagen.flow(train_cifar_images, train_cifar_labels, batch_size=64), epochs=20)"
      ],
      "id": "9_5w3dqW5IfK",
      "execution_count": null,
      "outputs": [
        {
          "output_type": "stream",
          "name": "stdout",
          "text": [
            "Epoch 1/20\n",
            "782/782 [==============================] - 463s 543ms/step - loss: 1.6494 - sparse_categorical_accuracy: 0.4050\n",
            "Epoch 2/20\n",
            "782/782 [==============================] - 424s 542ms/step - loss: 1.3697 - sparse_categorical_accuracy: 0.5056\n",
            "Epoch 3/20\n",
            "782/782 [==============================] - 424s 542ms/step - loss: 1.2843 - sparse_categorical_accuracy: 0.5415\n",
            "Epoch 4/20\n",
            "782/782 [==============================] - 423s 541ms/step - loss: 1.2378 - sparse_categorical_accuracy: 0.5584\n",
            "Epoch 5/20\n",
            "782/782 [==============================] - 423s 541ms/step - loss: 1.1966 - sparse_categorical_accuracy: 0.5742\n",
            "Epoch 6/20\n",
            "782/782 [==============================] - 423s 541ms/step - loss: 1.1596 - sparse_categorical_accuracy: 0.5880\n",
            "Epoch 7/20\n",
            "782/782 [==============================] - 423s 542ms/step - loss: 1.1281 - sparse_categorical_accuracy: 0.6018\n",
            "Epoch 8/20\n",
            "782/782 [==============================] - 424s 542ms/step - loss: 1.0939 - sparse_categorical_accuracy: 0.6135\n",
            "Epoch 9/20\n",
            "782/782 [==============================] - 424s 542ms/step - loss: 1.0709 - sparse_categorical_accuracy: 0.6216\n",
            "Epoch 10/20\n",
            "782/782 [==============================] - 423s 541ms/step - loss: 1.0450 - sparse_categorical_accuracy: 0.6317\n",
            "Epoch 11/20\n",
            "782/782 [==============================] - 424s 542ms/step - loss: 1.0212 - sparse_categorical_accuracy: 0.6400\n",
            "Epoch 12/20\n",
            "782/782 [==============================] - 424s 542ms/step - loss: 0.9966 - sparse_categorical_accuracy: 0.6486\n",
            "Epoch 13/20\n",
            "782/782 [==============================] - 424s 542ms/step - loss: 0.9774 - sparse_categorical_accuracy: 0.6551\n",
            "Epoch 14/20\n",
            "782/782 [==============================] - 424s 542ms/step - loss: 0.9535 - sparse_categorical_accuracy: 0.6677\n",
            "Epoch 15/20\n",
            "782/782 [==============================] - 424s 542ms/step - loss: 0.9388 - sparse_categorical_accuracy: 0.6697\n",
            "Epoch 16/20\n",
            "782/782 [==============================] - 424s 542ms/step - loss: 0.9244 - sparse_categorical_accuracy: 0.6759\n",
            "Epoch 17/20\n",
            "782/782 [==============================] - 424s 542ms/step - loss: 0.9073 - sparse_categorical_accuracy: 0.6811\n",
            "Epoch 18/20\n",
            "782/782 [==============================] - 423s 541ms/step - loss: 0.8953 - sparse_categorical_accuracy: 0.6846\n",
            "Epoch 19/20\n",
            "782/782 [==============================] - 424s 542ms/step - loss: 0.8752 - sparse_categorical_accuracy: 0.6928\n",
            "Epoch 20/20\n",
            "782/782 [==============================] - 424s 542ms/step - loss: 0.8615 - sparse_categorical_accuracy: 0.6990\n"
          ]
        },
        {
          "output_type": "execute_result",
          "data": {
            "text/plain": [
              "<keras.callbacks.History at 0x7f115afd8d10>"
            ]
          },
          "metadata": {},
          "execution_count": 11
        }
      ]
    },
    {
      "cell_type": "code",
      "metadata": {
        "colab": {
          "base_uri": "https://localhost:8080/"
        },
        "id": "llBBZKyr5IfK",
        "outputId": "7635bb02-b3ca-45d4-ad2a-0f3afbf24d73"
      },
      "source": [
        "# evaluate test loss and metrics\n",
        "dense_Model6.evaluate(test_cifar_data)"
      ],
      "id": "llBBZKyr5IfK",
      "execution_count": null,
      "outputs": [
        {
          "output_type": "stream",
          "name": "stdout",
          "text": [
            "79/79 [==============================] - 27s 285ms/step - loss: 2.0149 - sparse_categorical_accuracy: 0.4845\n"
          ]
        },
        {
          "output_type": "execute_result",
          "data": {
            "text/plain": [
              "[2.0149037837982178, 0.484499990940094]"
            ]
          },
          "metadata": {},
          "execution_count": 12
        }
      ]
    },
    {
      "cell_type": "markdown",
      "metadata": {
        "id": "rY_4mfkw_pbe"
      },
      "source": [
        "### V7  (DenseNet 121_V2 - Data Augmentation)\n",
        "\n",
        "\n",
        "1.   The architecture is exactly the same DenseNet 121.\n",
        "2.   The training accuracy is 72% and the test dataset is 59%.\n",
        "3.   Trained for 20 epochs.\n",
        "4.   In this training setting data augmentation has been applied.\n",
        "5.   May be because of data augmentation the model should still learn features, model could have improved if tried for longer epochs"
      ],
      "id": "rY_4mfkw_pbe"
    },
    {
      "cell_type": "code",
      "metadata": {
        "id": "5jo_RlOJ_pbq"
      },
      "source": [
        "dense_Model7_Config = {\n",
        "    \"input_shape\": (32, 32, 3),\n",
        "    \"initial_Kernel_Size\": (2, 2),\n",
        "    \"initialStride\": 1,\n",
        "    \"transitionStride\": 2,\n",
        "    \"num_classes\": 10,\n",
        "    \"dense_Layers_List\": [6, 12, 24, 16],\n",
        "    \"k\": 32,\n",
        "    \"modelName\": \"DenseNet_V7\",\n",
        "}"
      ],
      "id": "5jo_RlOJ_pbq",
      "execution_count": null,
      "outputs": []
    },
    {
      "cell_type": "code",
      "metadata": {
        "id": "5i_uCcPI_pbq"
      },
      "source": [
        "dense_Model7 = dense_Net(dense_Model7_Config)\n",
        "\n",
        "#dense_Model1.summary()\n",
        "#tf.keras.utils.plot_model(dense_Model1, \"DenseNet_V1.png\", show_shapes=True)"
      ],
      "id": "5i_uCcPI_pbq",
      "execution_count": null,
      "outputs": []
    },
    {
      "cell_type": "code",
      "metadata": {
        "colab": {
          "base_uri": "https://localhost:8080/"
        },
        "id": "yhhdJ3W6_pbq",
        "outputId": "b72a0a2f-42f7-478d-8ac7-caf1445eb5ee"
      },
      "source": [
        "## Training\n",
        "dense_Model7.compile(\n",
        "          loss      = tf.losses.SparseCategoricalCrossentropy(from_logits=True),\n",
        "          metrics   = tf.metrics.SparseCategoricalAccuracy(),\n",
        "          optimizer = tf.optimizers.Adam())\n",
        "\n",
        "dense_Model7.fit(datagen.flow(train_cifar_images, train_cifar_labels, batch_size=64), epochs=20)"
      ],
      "id": "yhhdJ3W6_pbq",
      "execution_count": null,
      "outputs": [
        {
          "output_type": "stream",
          "name": "stdout",
          "text": [
            "Epoch 1/20\n",
            "782/782 [==============================] - 110s 126ms/step - loss: 1.6290 - sparse_categorical_accuracy: 0.4161\n",
            "Epoch 2/20\n",
            "782/782 [==============================] - 98s 126ms/step - loss: 1.3292 - sparse_categorical_accuracy: 0.5258\n",
            "Epoch 3/20\n",
            "782/782 [==============================] - 98s 126ms/step - loss: 1.2431 - sparse_categorical_accuracy: 0.5552\n",
            "Epoch 4/20\n",
            "782/782 [==============================] - 98s 126ms/step - loss: 1.1872 - sparse_categorical_accuracy: 0.5783\n",
            "Epoch 5/20\n",
            "782/782 [==============================] - 98s 126ms/step - loss: 1.1519 - sparse_categorical_accuracy: 0.5913\n",
            "Epoch 6/20\n",
            "782/782 [==============================] - 98s 125ms/step - loss: 1.1030 - sparse_categorical_accuracy: 0.6084\n",
            "Epoch 7/20\n",
            "782/782 [==============================] - 98s 125ms/step - loss: 1.0661 - sparse_categorical_accuracy: 0.6255\n",
            "Epoch 8/20\n",
            "782/782 [==============================] - 98s 125ms/step - loss: 1.0285 - sparse_categorical_accuracy: 0.6371\n",
            "Epoch 9/20\n",
            "782/782 [==============================] - 98s 125ms/step - loss: 1.0063 - sparse_categorical_accuracy: 0.6461\n",
            "Epoch 10/20\n",
            "782/782 [==============================] - 98s 125ms/step - loss: 0.9724 - sparse_categorical_accuracy: 0.6578\n",
            "Epoch 11/20\n",
            "782/782 [==============================] - 98s 125ms/step - loss: 0.9481 - sparse_categorical_accuracy: 0.6661\n",
            "Epoch 12/20\n",
            "782/782 [==============================] - 97s 124ms/step - loss: 0.9252 - sparse_categorical_accuracy: 0.6742\n",
            "Epoch 13/20\n",
            "782/782 [==============================] - 97s 125ms/step - loss: 0.9021 - sparse_categorical_accuracy: 0.6830\n",
            "Epoch 14/20\n",
            "782/782 [==============================] - 97s 124ms/step - loss: 0.8849 - sparse_categorical_accuracy: 0.6900\n",
            "Epoch 15/20\n",
            "782/782 [==============================] - 97s 124ms/step - loss: 0.8662 - sparse_categorical_accuracy: 0.6982\n",
            "Epoch 16/20\n",
            "782/782 [==============================] - 97s 124ms/step - loss: 0.8497 - sparse_categorical_accuracy: 0.7021\n",
            "Epoch 17/20\n",
            "782/782 [==============================] - 97s 124ms/step - loss: 0.8306 - sparse_categorical_accuracy: 0.7072\n",
            "Epoch 18/20\n",
            "782/782 [==============================] - 97s 124ms/step - loss: 0.8160 - sparse_categorical_accuracy: 0.7125\n",
            "Epoch 19/20\n",
            "782/782 [==============================] - 97s 124ms/step - loss: 0.8051 - sparse_categorical_accuracy: 0.7182\n",
            "Epoch 20/20\n",
            "782/782 [==============================] - 97s 124ms/step - loss: 0.7888 - sparse_categorical_accuracy: 0.7232\n"
          ]
        },
        {
          "output_type": "execute_result",
          "data": {
            "text/plain": [
              "<keras.callbacks.History at 0x7f0bc00e2d10>"
            ]
          },
          "metadata": {},
          "execution_count": 28
        }
      ]
    },
    {
      "cell_type": "code",
      "metadata": {
        "colab": {
          "base_uri": "https://localhost:8080/"
        },
        "id": "A-gHphlI_pbr",
        "outputId": "afccfe64-eea9-418c-8115-39421d5ad182"
      },
      "source": [
        "# evaluate test loss and metrics\n",
        "dense_Model7.evaluate(test_cifar_data)"
      ],
      "id": "A-gHphlI_pbr",
      "execution_count": null,
      "outputs": [
        {
          "output_type": "stream",
          "name": "stdout",
          "text": [
            "79/79 [==============================] - 7s 59ms/step - loss: 1.3295 - sparse_categorical_accuracy: 0.5908\n"
          ]
        },
        {
          "output_type": "execute_result",
          "data": {
            "text/plain": [
              "[1.3295063972473145, 0.5907999873161316]"
            ]
          },
          "metadata": {},
          "execution_count": 29
        }
      ]
    },
    {
      "cell_type": "markdown",
      "metadata": {
        "id": "nWpNQs9OCdVp"
      },
      "source": [
        "### V8  (DenseNet V8 - Data Augmentation)\n",
        "\n",
        "\n",
        "1.   The architecture is slightly different from others.\n",
        "2.   The training accuracy is 84% and the test dataset is 50%.\n",
        "3.   Trained for 100 epochs.\n",
        "4.   In this training setting data augmentation has been applied.\n",
        "5.   The model didn't performed well, needs to be tuned."
      ],
      "id": "nWpNQs9OCdVp"
    },
    {
      "cell_type": "code",
      "metadata": {
        "id": "8-NlWfEsCdVr"
      },
      "source": [
        "dense_Model8_Config = {\n",
        "    \"input_shape\": (32, 32, 3),\n",
        "    \"initial_Kernel_Size\": (2, 2),\n",
        "    \"initialStride\": 1,\n",
        "    \"transitionStride\": 2,\n",
        "    \"num_classes\": 10,\n",
        "    \"dense_Layers_List\": [16, 32, 64],\n",
        "    \"k\": 24,\n",
        "    \"modelName\": \"DenseNet_V8\"\n",
        "}"
      ],
      "id": "8-NlWfEsCdVr",
      "execution_count": null,
      "outputs": []
    },
    {
      "cell_type": "code",
      "metadata": {
        "id": "kKalaVMMCdVr"
      },
      "source": [
        "sys.setrecursionlimit(10000)\n",
        "dense_Model8 = dense_Net(dense_Model8_Config)\n",
        "\n",
        "#dense_Model8.summary()\n",
        "#tf.keras.utils.plot_model(dense_Model8, \"DenseNet_V8.png\", show_shapes=True)"
      ],
      "id": "kKalaVMMCdVr",
      "execution_count": null,
      "outputs": []
    },
    {
      "cell_type": "code",
      "metadata": {
        "colab": {
          "base_uri": "https://localhost:8080/"
        },
        "id": "mNJEmhizCdVr",
        "outputId": "c8b47c6b-dd0b-4723-b9d6-95682f0c6d6b"
      },
      "source": [
        "#Training\n",
        "dense_Model8.compile(\n",
        "          loss      = tf.losses.SparseCategoricalCrossentropy(from_logits=True),\n",
        "          metrics   = tf.metrics.SparseCategoricalAccuracy(),\n",
        "          #optimizer = tf.optimizers.SGD(learning_rate=0.1)\n",
        "          optimizer = tf.optimizers.Adam()\n",
        "          )\n",
        "\n",
        "callbacks2 = tf.keras.callbacks.LearningRateScheduler(lr_scheduler, verbose=1)\n",
        "\n",
        "callback_ES = tf.keras.callbacks.EarlyStopping(monitor='loss', patience=3)\n",
        "\n",
        "dense_Model8.fit(datagen.flow(train_cifar_images, train_cifar_labels, batch_size=64), epochs=100, callbacks=[callback_ES])"
      ],
      "id": "mNJEmhizCdVr",
      "execution_count": null,
      "outputs": [
        {
          "output_type": "stream",
          "name": "stdout",
          "text": [
            "Epoch 1/100\n",
            "782/782 [==============================] - 312s 366ms/step - loss: 1.6432 - sparse_categorical_accuracy: 0.4085\n",
            "Epoch 2/100\n",
            "782/782 [==============================] - 285s 364ms/step - loss: 1.3713 - sparse_categorical_accuracy: 0.5086\n",
            "Epoch 3/100\n",
            "782/782 [==============================] - 285s 365ms/step - loss: 1.2933 - sparse_categorical_accuracy: 0.5392\n",
            "Epoch 4/100\n",
            "782/782 [==============================] - 284s 364ms/step - loss: 1.2389 - sparse_categorical_accuracy: 0.5589\n",
            "Epoch 5/100\n",
            "782/782 [==============================] - 284s 364ms/step - loss: 1.1985 - sparse_categorical_accuracy: 0.5753\n",
            "Epoch 6/100\n",
            "782/782 [==============================] - 284s 364ms/step - loss: 1.1631 - sparse_categorical_accuracy: 0.5853\n",
            "Epoch 7/100\n",
            "782/782 [==============================] - 284s 364ms/step - loss: 1.1235 - sparse_categorical_accuracy: 0.6037\n",
            "Epoch 8/100\n",
            "782/782 [==============================] - 285s 364ms/step - loss: 1.0947 - sparse_categorical_accuracy: 0.6138\n",
            "Epoch 9/100\n",
            "782/782 [==============================] - 285s 365ms/step - loss: 1.0745 - sparse_categorical_accuracy: 0.6201\n",
            "Epoch 10/100\n",
            "782/782 [==============================] - 286s 365ms/step - loss: 1.0371 - sparse_categorical_accuracy: 0.6336\n",
            "Epoch 11/100\n",
            "782/782 [==============================] - 284s 364ms/step - loss: 1.0266 - sparse_categorical_accuracy: 0.6387\n",
            "Epoch 12/100\n",
            "782/782 [==============================] - 284s 364ms/step - loss: 1.0007 - sparse_categorical_accuracy: 0.6475\n",
            "Epoch 13/100\n",
            "782/782 [==============================] - 284s 364ms/step - loss: 0.9805 - sparse_categorical_accuracy: 0.6550\n",
            "Epoch 14/100\n",
            "782/782 [==============================] - 284s 364ms/step - loss: 0.9567 - sparse_categorical_accuracy: 0.6639\n",
            "Epoch 15/100\n",
            "782/782 [==============================] - 284s 363ms/step - loss: 0.9495 - sparse_categorical_accuracy: 0.6671\n",
            "Epoch 16/100\n",
            "782/782 [==============================] - 284s 364ms/step - loss: 0.9249 - sparse_categorical_accuracy: 0.6761\n",
            "Epoch 17/100\n",
            "782/782 [==============================] - 285s 364ms/step - loss: 0.9119 - sparse_categorical_accuracy: 0.6823\n",
            "Epoch 18/100\n",
            "782/782 [==============================] - 285s 365ms/step - loss: 0.8902 - sparse_categorical_accuracy: 0.6877\n",
            "Epoch 19/100\n",
            "782/782 [==============================] - 285s 364ms/step - loss: 0.8813 - sparse_categorical_accuracy: 0.6892\n",
            "Epoch 20/100\n",
            "782/782 [==============================] - 285s 365ms/step - loss: 0.8733 - sparse_categorical_accuracy: 0.6959\n",
            "Epoch 21/100\n",
            "782/782 [==============================] - 285s 364ms/step - loss: 0.8588 - sparse_categorical_accuracy: 0.7005\n",
            "Epoch 22/100\n",
            "782/782 [==============================] - 284s 363ms/step - loss: 0.8452 - sparse_categorical_accuracy: 0.7040\n",
            "Epoch 23/100\n",
            "782/782 [==============================] - 284s 363ms/step - loss: 0.8319 - sparse_categorical_accuracy: 0.7090\n",
            "Epoch 24/100\n",
            "782/782 [==============================] - 284s 363ms/step - loss: 0.8186 - sparse_categorical_accuracy: 0.7125\n",
            "Epoch 25/100\n",
            "782/782 [==============================] - 283s 362ms/step - loss: 0.8107 - sparse_categorical_accuracy: 0.7188\n",
            "Epoch 26/100\n",
            "782/782 [==============================] - 284s 363ms/step - loss: 0.8027 - sparse_categorical_accuracy: 0.7201\n",
            "Epoch 27/100\n",
            "782/782 [==============================] - 284s 363ms/step - loss: 0.7941 - sparse_categorical_accuracy: 0.7220\n",
            "Epoch 28/100\n",
            "782/782 [==============================] - 284s 363ms/step - loss: 0.7811 - sparse_categorical_accuracy: 0.7263\n",
            "Epoch 29/100\n",
            "782/782 [==============================] - 285s 364ms/step - loss: 0.7693 - sparse_categorical_accuracy: 0.7297\n",
            "Epoch 30/100\n",
            "782/782 [==============================] - 284s 363ms/step - loss: 0.7681 - sparse_categorical_accuracy: 0.7343\n",
            "Epoch 31/100\n",
            "782/782 [==============================] - 284s 363ms/step - loss: 0.7575 - sparse_categorical_accuracy: 0.7359\n",
            "Epoch 32/100\n",
            "782/782 [==============================] - 284s 363ms/step - loss: 0.7457 - sparse_categorical_accuracy: 0.7394\n",
            "Epoch 33/100\n",
            "782/782 [==============================] - 284s 363ms/step - loss: 0.7428 - sparse_categorical_accuracy: 0.7395\n",
            "Epoch 34/100\n",
            "782/782 [==============================] - 284s 363ms/step - loss: 0.7295 - sparse_categorical_accuracy: 0.7441\n",
            "Epoch 35/100\n",
            "782/782 [==============================] - 284s 363ms/step - loss: 0.7322 - sparse_categorical_accuracy: 0.7449\n",
            "Epoch 36/100\n",
            "782/782 [==============================] - 283s 362ms/step - loss: 0.7190 - sparse_categorical_accuracy: 0.7491\n",
            "Epoch 37/100\n",
            "782/782 [==============================] - 283s 362ms/step - loss: 0.7179 - sparse_categorical_accuracy: 0.7483\n",
            "Epoch 38/100\n",
            "782/782 [==============================] - 284s 363ms/step - loss: 0.6988 - sparse_categorical_accuracy: 0.7568\n",
            "Epoch 39/100\n",
            "782/782 [==============================] - 284s 363ms/step - loss: 0.7037 - sparse_categorical_accuracy: 0.7535\n",
            "Epoch 40/100\n",
            "782/782 [==============================] - 284s 363ms/step - loss: 0.6979 - sparse_categorical_accuracy: 0.7569\n",
            "Epoch 41/100\n",
            "782/782 [==============================] - 284s 363ms/step - loss: 0.6880 - sparse_categorical_accuracy: 0.7593\n",
            "Epoch 42/100\n",
            "782/782 [==============================] - 284s 363ms/step - loss: 0.6826 - sparse_categorical_accuracy: 0.7619\n",
            "Epoch 43/100\n",
            "782/782 [==============================] - 284s 363ms/step - loss: 0.6741 - sparse_categorical_accuracy: 0.7626\n",
            "Epoch 44/100\n",
            "782/782 [==============================] - 284s 363ms/step - loss: 0.6752 - sparse_categorical_accuracy: 0.7626\n",
            "Epoch 45/100\n",
            "782/782 [==============================] - 284s 363ms/step - loss: 0.6673 - sparse_categorical_accuracy: 0.7668\n",
            "Epoch 46/100\n",
            "782/782 [==============================] - 284s 364ms/step - loss: 0.6647 - sparse_categorical_accuracy: 0.7702\n",
            "Epoch 47/100\n",
            "782/782 [==============================] - 285s 364ms/step - loss: 0.6522 - sparse_categorical_accuracy: 0.7722\n",
            "Epoch 48/100\n",
            "782/782 [==============================] - 285s 365ms/step - loss: 0.6507 - sparse_categorical_accuracy: 0.7730\n",
            "Epoch 49/100\n",
            "782/782 [==============================] - 285s 365ms/step - loss: 0.6448 - sparse_categorical_accuracy: 0.7759\n",
            "Epoch 50/100\n",
            "782/782 [==============================] - 285s 365ms/step - loss: 0.6406 - sparse_categorical_accuracy: 0.7764\n",
            "Epoch 51/100\n",
            "782/782 [==============================] - 285s 365ms/step - loss: 0.6371 - sparse_categorical_accuracy: 0.7796\n",
            "Epoch 52/100\n",
            "782/782 [==============================] - 285s 364ms/step - loss: 0.6313 - sparse_categorical_accuracy: 0.7801\n",
            "Epoch 53/100\n",
            "782/782 [==============================] - 284s 364ms/step - loss: 0.6201 - sparse_categorical_accuracy: 0.7817\n",
            "Epoch 54/100\n",
            "782/782 [==============================] - 284s 363ms/step - loss: 0.6205 - sparse_categorical_accuracy: 0.7822\n",
            "Epoch 55/100\n",
            "782/782 [==============================] - 284s 363ms/step - loss: 0.6128 - sparse_categorical_accuracy: 0.7851\n",
            "Epoch 56/100\n",
            "782/782 [==============================] - 284s 363ms/step - loss: 0.6063 - sparse_categorical_accuracy: 0.7879\n",
            "Epoch 57/100\n",
            "782/782 [==============================] - 283s 362ms/step - loss: 0.6053 - sparse_categorical_accuracy: 0.7900\n",
            "Epoch 58/100\n",
            "782/782 [==============================] - 284s 363ms/step - loss: 0.6044 - sparse_categorical_accuracy: 0.7873\n",
            "Epoch 59/100\n",
            "782/782 [==============================] - 284s 363ms/step - loss: 0.5990 - sparse_categorical_accuracy: 0.7897\n",
            "Epoch 60/100\n",
            "782/782 [==============================] - 284s 364ms/step - loss: 0.5990 - sparse_categorical_accuracy: 0.7904\n",
            "Epoch 61/100\n",
            "782/782 [==============================] - 285s 364ms/step - loss: 0.5869 - sparse_categorical_accuracy: 0.7947\n",
            "Epoch 62/100\n",
            "782/782 [==============================] - 285s 364ms/step - loss: 0.5819 - sparse_categorical_accuracy: 0.7954\n",
            "Epoch 63/100\n",
            "782/782 [==============================] - 284s 364ms/step - loss: 0.5860 - sparse_categorical_accuracy: 0.7943\n",
            "Epoch 64/100\n",
            "782/782 [==============================] - 284s 364ms/step - loss: 0.5754 - sparse_categorical_accuracy: 0.7969\n",
            "Epoch 65/100\n",
            "782/782 [==============================] - 285s 364ms/step - loss: 0.5739 - sparse_categorical_accuracy: 0.7983\n",
            "Epoch 66/100\n",
            "782/782 [==============================] - 285s 364ms/step - loss: 0.5700 - sparse_categorical_accuracy: 0.8015\n",
            "Epoch 67/100\n",
            "782/782 [==============================] - 285s 364ms/step - loss: 0.5657 - sparse_categorical_accuracy: 0.8024\n",
            "Epoch 68/100\n",
            "782/782 [==============================] - 285s 364ms/step - loss: 0.5626 - sparse_categorical_accuracy: 0.8030\n",
            "Epoch 69/100\n",
            "782/782 [==============================] - 285s 364ms/step - loss: 0.5574 - sparse_categorical_accuracy: 0.8052\n",
            "Epoch 70/100\n",
            "782/782 [==============================] - 285s 364ms/step - loss: 0.5549 - sparse_categorical_accuracy: 0.8055\n",
            "Epoch 71/100\n",
            "782/782 [==============================] - 284s 364ms/step - loss: 0.5525 - sparse_categorical_accuracy: 0.8056\n",
            "Epoch 72/100\n",
            "782/782 [==============================] - 284s 364ms/step - loss: 0.5444 - sparse_categorical_accuracy: 0.8096\n",
            "Epoch 73/100\n",
            "782/782 [==============================] - 284s 364ms/step - loss: 0.5419 - sparse_categorical_accuracy: 0.8094\n",
            "Epoch 74/100\n",
            "782/782 [==============================] - 284s 363ms/step - loss: 0.5413 - sparse_categorical_accuracy: 0.8090\n",
            "Epoch 75/100\n",
            "782/782 [==============================] - 284s 363ms/step - loss: 0.5322 - sparse_categorical_accuracy: 0.8135\n",
            "Epoch 76/100\n",
            "782/782 [==============================] - 283s 362ms/step - loss: 0.5326 - sparse_categorical_accuracy: 0.8141\n",
            "Epoch 77/100\n",
            "782/782 [==============================] - 284s 363ms/step - loss: 0.5265 - sparse_categorical_accuracy: 0.8142\n",
            "Epoch 78/100\n",
            "782/782 [==============================] - 284s 364ms/step - loss: 0.5249 - sparse_categorical_accuracy: 0.8165\n",
            "Epoch 79/100\n",
            "782/782 [==============================] - 284s 363ms/step - loss: 0.5236 - sparse_categorical_accuracy: 0.8162\n",
            "Epoch 80/100\n",
            "782/782 [==============================] - 284s 363ms/step - loss: 0.5163 - sparse_categorical_accuracy: 0.8193\n",
            "Epoch 81/100\n",
            "782/782 [==============================] - 285s 364ms/step - loss: 0.5128 - sparse_categorical_accuracy: 0.8180\n",
            "Epoch 82/100\n",
            "782/782 [==============================] - 284s 364ms/step - loss: 0.5137 - sparse_categorical_accuracy: 0.8197\n",
            "Epoch 83/100\n",
            "782/782 [==============================] - 284s 364ms/step - loss: 0.5115 - sparse_categorical_accuracy: 0.8217\n",
            "Epoch 84/100\n",
            "782/782 [==============================] - 285s 364ms/step - loss: 0.4976 - sparse_categorical_accuracy: 0.8251\n",
            "Epoch 85/100\n",
            "782/782 [==============================] - 285s 364ms/step - loss: 0.4991 - sparse_categorical_accuracy: 0.8242\n",
            "Epoch 86/100\n",
            "782/782 [==============================] - 285s 364ms/step - loss: 0.4944 - sparse_categorical_accuracy: 0.8274\n",
            "Epoch 87/100\n",
            "782/782 [==============================] - 285s 364ms/step - loss: 0.4891 - sparse_categorical_accuracy: 0.8286\n",
            "Epoch 88/100\n",
            "782/782 [==============================] - 285s 364ms/step - loss: 0.4950 - sparse_categorical_accuracy: 0.8279\n",
            "Epoch 89/100\n",
            "782/782 [==============================] - 285s 365ms/step - loss: 0.4816 - sparse_categorical_accuracy: 0.8303\n",
            "Epoch 90/100\n",
            "782/782 [==============================] - 285s 364ms/step - loss: 0.4799 - sparse_categorical_accuracy: 0.8317\n",
            "Epoch 91/100\n",
            "782/782 [==============================] - 285s 364ms/step - loss: 0.4822 - sparse_categorical_accuracy: 0.8307\n",
            "Epoch 92/100\n",
            "782/782 [==============================] - 285s 364ms/step - loss: 0.4766 - sparse_categorical_accuracy: 0.8331\n",
            "Epoch 93/100\n",
            "782/782 [==============================] - 284s 364ms/step - loss: 0.4693 - sparse_categorical_accuracy: 0.8358\n",
            "Epoch 94/100\n",
            "782/782 [==============================] - 284s 363ms/step - loss: 0.4791 - sparse_categorical_accuracy: 0.8315\n",
            "Epoch 95/100\n",
            "782/782 [==============================] - 284s 364ms/step - loss: 0.4738 - sparse_categorical_accuracy: 0.8330\n",
            "Epoch 96/100\n",
            "782/782 [==============================] - 285s 364ms/step - loss: 0.4647 - sparse_categorical_accuracy: 0.8365\n",
            "Epoch 97/100\n",
            "782/782 [==============================] - 284s 363ms/step - loss: 0.4599 - sparse_categorical_accuracy: 0.8398\n",
            "Epoch 98/100\n",
            "782/782 [==============================] - 285s 364ms/step - loss: 0.4588 - sparse_categorical_accuracy: 0.8369\n",
            "Epoch 99/100\n",
            "782/782 [==============================] - 284s 363ms/step - loss: 0.4565 - sparse_categorical_accuracy: 0.8376\n",
            "Epoch 100/100\n",
            "782/782 [==============================] - 285s 364ms/step - loss: 0.4501 - sparse_categorical_accuracy: 0.8401\n"
          ]
        },
        {
          "output_type": "execute_result",
          "data": {
            "text/plain": [
              "<keras.callbacks.History at 0x7f10c474d990>"
            ]
          },
          "metadata": {},
          "execution_count": 15
        }
      ]
    },
    {
      "cell_type": "code",
      "metadata": {
        "colab": {
          "base_uri": "https://localhost:8080/"
        },
        "id": "SMlIXs0bCdVs",
        "outputId": "068eed11-090e-43b3-8025-63714e116f06"
      },
      "source": [
        "# evaluate test loss and metrics\n",
        "dense_Model8.evaluate(test_cifar_data)"
      ],
      "id": "SMlIXs0bCdVs",
      "execution_count": null,
      "outputs": [
        {
          "output_type": "stream",
          "name": "stdout",
          "text": [
            "79/79 [==============================] - 20s 188ms/step - loss: 3.3534 - sparse_categorical_accuracy: 0.5097\n"
          ]
        },
        {
          "output_type": "execute_result",
          "data": {
            "text/plain": [
              "[3.3534483909606934, 0.5097000002861023]"
            ]
          },
          "metadata": {},
          "execution_count": 16
        }
      ]
    },
    {
      "cell_type": "markdown",
      "metadata": {
        "id": "dA80-Dq9Nafm"
      },
      "source": [
        "#References\n",
        "\n",
        "\n",
        "1.   https://ovgu-ailab.github.io/idl2021/assignments/4/function_al.ipynb\n",
        "2.   https://keras.io/api/models/model_training_apis/\n",
        "3.   https://github.com/taki0112/Densenet-Tensorflow\n",
        "4.   https://arxiv.org/pdf/1608.06993.pdf\n",
        "5.   https://towardsdatascience.com/review-densenet-image-classification-b6631a8ef803\n",
        "6.   https://stackoverflow.com/questions/59737875/keras-change-learning-rate\n",
        "7.    https://machinelearningmastery.com/how-to-configure-image-data-augmentation-when-training-deep-learning-neural-networks/\n",
        "8.   https://www.youtube.com/watch?v=oV4YBitzXKw\n",
        "9.   https://towardsdatascience.com/creating-densenet-121-with-tensorflow-edbc08a956d8\n",
        "10.   https://github.com/kevinzakka/densenet/blob/master/model.py\n"
      ],
      "id": "dA80-Dq9Nafm"
    }
  ]
}