{
  "nbformat": 4,
  "nbformat_minor": 5,
  "metadata": {
    "kernelspec": {
      "display_name": "Python 3 (ipykernel)",
      "language": "python",
      "name": "python3"
    },
    "language_info": {
      "codemirror_mode": {
        "name": "ipython",
        "version": 3
      },
      "file_extension": ".py",
      "mimetype": "text/x-python",
      "name": "python",
      "nbconvert_exporter": "python",
      "pygments_lexer": "ipython3",
      "version": "3.9.7"
    },
    "colab": {
      "name": "Assignment_3_CNN_Srinath.ipynb",
      "provenance": [],
      "collapsed_sections": [
        "0c34550c"
      ]
    },
    "accelerator": "GPU"
  },
  "cells": [
    {
      "cell_type": "markdown",
      "metadata": {
        "id": "c6aef94d"
      },
      "source": [
        "# Team Assignment\n",
        "\n",
        "\n",
        "1.   Srinath Mannam (229750)\n",
        "2.   Meghana Rao (234907)\n",
        "3.   Govind Shukla (235192)"
      ],
      "id": "c6aef94d"
    },
    {
      "cell_type": "markdown",
      "metadata": {
        "id": "9b1ec548"
      },
      "source": [
        "# import statements"
      ],
      "id": "9b1ec548"
    },
    {
      "cell_type": "code",
      "metadata": {
        "id": "85eb7211"
      },
      "source": [
        "import os\n",
        "import tensorflow as tf\n",
        "import numpy as np\n",
        "import matplotlib.pyplot as plt\n",
        "from numba import cuda"
      ],
      "id": "85eb7211",
      "execution_count": 1,
      "outputs": []
    },
    {
      "cell_type": "markdown",
      "metadata": {
        "id": "0c34550c"
      },
      "source": [
        "# Change the directory"
      ],
      "id": "0c34550c"
    },
    {
      "cell_type": "code",
      "metadata": {
        "id": "94b2626e"
      },
      "source": [
        "working_directory = '/content/drive/My Drive/Colab Notebooks/OVGU/Deep_Learning/Second_Assignment'\n",
        "def colabDrive():\n",
        "    from google.colab import drive\n",
        "    drive.mount(\"/content/drive\")\n",
        "\n",
        "    if os.getcwd() !=  working_directory:\n",
        "      os.chdir(working_directory)\n",
        "    print(os.getcwd())"
      ],
      "id": "94b2626e",
      "execution_count": 2,
      "outputs": []
    },
    {
      "cell_type": "code",
      "metadata": {
        "id": "a8540ed4"
      },
      "source": [
        "#colabDrive()"
      ],
      "id": "a8540ed4",
      "execution_count": 3,
      "outputs": []
    },
    {
      "cell_type": "markdown",
      "metadata": {
        "id": "c715ac7b"
      },
      "source": [
        "# Clears GPU memory"
      ],
      "id": "c715ac7b"
    },
    {
      "cell_type": "code",
      "metadata": {
        "id": "591268b2"
      },
      "source": [
        "def clearGPUMemory():\n",
        "    from numba import cuda \n",
        "    device = cuda.get_current_device()\n",
        "    device.reset()\n",
        "    !nvidia-smi"
      ],
      "id": "591268b2",
      "execution_count": 4,
      "outputs": []
    },
    {
      "cell_type": "code",
      "metadata": {
        "scrolled": true,
        "id": "caee9b53"
      },
      "source": [
        "#clearGPUMemory()"
      ],
      "id": "caee9b53",
      "execution_count": 5,
      "outputs": []
    },
    {
      "cell_type": "markdown",
      "metadata": {
        "id": "t6mjm447GMHX"
      },
      "source": [
        "# Prepare the data"
      ],
      "id": "t6mjm447GMHX"
    },
    {
      "cell_type": "markdown",
      "metadata": {
        "id": "cI5u15ZrBmIV"
      },
      "source": [
        "## Normal MNIST"
      ],
      "id": "cI5u15ZrBmIV"
    },
    {
      "cell_type": "code",
      "metadata": {
        "colab": {
          "base_uri": "https://localhost:8080/",
          "height": 251
        },
        "id": "CM45gTeLGOyc",
        "outputId": "67efdd29-5436-46f2-b602-185ff6b5526d"
      },
      "source": [
        "# just data stuff\n",
        "mnist = tf.keras.datasets.mnist\n",
        "(train_images, train_labels), (test_images, test_labels) = mnist.load_data()\n",
        "\n",
        "plt.figure(figsize=(10,10))\n",
        "for i in range(10):\n",
        "    plt.subplot(5,5,i+1)\n",
        "    plt.xticks([])\n",
        "    plt.yticks([])\n",
        "    plt.grid(False)\n",
        "    plt.imshow(train_images[i])\n",
        "    plt.xlabel(train_labels[i])\n",
        "plt.show()\n",
        "\n",
        "train_data = tf.data.Dataset.from_tensor_slices(\n",
        "    (train_images.reshape([-1, 28, 28, 1]).astype(np.float32) / 255, train_labels.astype(np.int32)))\n",
        "train_data = train_data.shuffle(buffer_size=60000).batch(128).repeat()\n",
        "\n",
        "# note: we batch the test data, but do not shuffle/repeat\n",
        "test_data = tf.data.Dataset.from_tensor_slices(\n",
        "    (test_images.reshape([-1, 28, 28, 1]).astype(np.float32) / 255, test_labels.astype(np.int32))).batch(128)"
      ],
      "id": "CM45gTeLGOyc",
      "execution_count": 35,
      "outputs": [
        {
          "output_type": "display_data",
          "data": {
            "image/png": "[encoded data removed]",
            "text/plain": [
              "<Figure size 720x720 with 10 Axes>"
            ]
          },
          "metadata": {}
        }
      ]
    },
    {
      "cell_type": "markdown",
      "metadata": {
        "id": "GXEX2GU4BpzD"
      },
      "source": [
        "## Fasion MNIST"
      ],
      "id": "GXEX2GU4BpzD"
    },
    {
      "cell_type": "code",
      "metadata": {
        "colab": {
          "base_uri": "https://localhost:8080/",
          "height": 251
        },
        "id": "zSVSdVXd_LI7",
        "outputId": "d8c4352b-62bb-404f-8061-ae4bc2c5d039"
      },
      "source": [
        "fashion_mnist = tf.keras.datasets.fashion_mnist\n",
        "\n",
        "(train_fasion_images, train_fasion_labels), (test_fasion_images, test_fasion_labels) = fashion_mnist.load_data()\n",
        "\n",
        "class_names = ['T-shirt/top', 'Trouser', 'Pullover', 'Dress', 'Coat',\n",
        "               'Sandal', 'Shirt', 'Sneaker', 'Bag', 'Ankle boot']\n",
        "\n",
        "plt.figure(figsize=(10,10))\n",
        "for i in range(10):\n",
        "    plt.subplot(5,5,i+1)\n",
        "    plt.xticks([])\n",
        "    plt.yticks([])\n",
        "    plt.grid(False)\n",
        "    plt.imshow(train_fasion_images[i])\n",
        "    plt.xlabel(class_names[train_fasion_labels[i]])\n",
        "plt.show()\n",
        "\n",
        "\n",
        "train_fasion_data = tf.data.Dataset.from_tensor_slices(\n",
        "    (train_fasion_images.reshape([-1, 28, 28, 1]).astype(np.float32) / 255, train_fasion_labels.astype(np.int32)))\n",
        "train_fasion_data = train_fasion_data.shuffle(buffer_size=60000).batch(128).repeat()\n",
        "\n",
        "# note: we batch the test data, but do not shuffle/repeat\n",
        "test_fasion_data = tf.data.Dataset.from_tensor_slices(\n",
        "    (test_fasion_images.reshape([-1, 28, 28, 1]).astype(np.float32) / 255, test_fasion_labels.astype(np.int32))).batch(128)"
      ],
      "id": "zSVSdVXd_LI7",
      "execution_count": 36,
      "outputs": [
        {
          "output_type": "display_data",
          "data": {
            "image/png": "[encoded data removed]",
            "text/plain": [
              "<Figure size 720x720 with 10 Axes>"
            ]
          },
          "metadata": {}
        }
      ]
    },
    {
      "cell_type": "markdown",
      "metadata": {
        "id": "594rtvJzFAtd"
      },
      "source": [
        "# Models Define"
      ],
      "id": "594rtvJzFAtd"
    },
    {
      "cell_type": "markdown",
      "metadata": {
        "id": "eWZAUH-W-Lvc"
      },
      "source": [
        "## Normal MNIST"
      ],
      "id": "eWZAUH-W-Lvc"
    },
    {
      "cell_type": "code",
      "metadata": {
        "id": "a2131330"
      },
      "source": [
        "def model_normal_MNIST():\n",
        "  #model params declarations Start\n",
        "\n",
        "  train_steps = 2500\n",
        "  input_shape = (28, 28, 1)\n",
        "  num_classes = 10\n",
        "\n",
        "  model = tf.keras.Sequential(\n",
        "      [ tf.keras.Input(shape=input_shape),\n",
        "        tf.keras.layers.Conv2D(32, kernel_size=(3, 3), activation=\"relu\"),\n",
        "        tf.keras.layers.MaxPooling2D(pool_size=(2, 2)),\n",
        "        tf.keras.layers.Conv2D(64, kernel_size=(3, 3), activation=\"relu\"),\n",
        "        tf.keras.layers.MaxPooling2D(pool_size=(2, 2)),\n",
        "        tf.keras.layers.Flatten(),\n",
        "        tf.keras.layers.Dropout(0.5),\n",
        "        tf.keras.layers.Dense(num_classes)\n",
        "      ],\n",
        "      name=\"Normal_MNIST\",\n",
        "  )\n",
        "\n",
        "  model.summary()\n",
        "\n",
        "  optimizer = tf.optimizers.SGD(0.5)  # tune this\n",
        "  # from_logits = True!! #neverforget\n",
        "  loss_fn = tf.losses.SparseCategoricalCrossentropy(from_logits=True)\n",
        "  #model params declarations End\n",
        "\n",
        "\n",
        "  #Training Progress Start\n",
        "  print(\"Traing Start\")\n",
        "  train_acc_metric = tf.keras.metrics.SparseCategoricalAccuracy()\n",
        "\n",
        "  for step, (image_batch, label_batch) in enumerate(train_data):\n",
        "      if step > train_steps:\n",
        "          break\n",
        "\n",
        "      with tf.GradientTape() as tape:\n",
        "          logits = model(image_batch)\n",
        "          # loss format is generally: first argument targets, second argument outputs\n",
        "          loss = loss_fn(label_batch, logits)\n",
        "\n",
        "      # if you didn't build the model, it is important that you get the variables\n",
        "      # AFTER the model has been called the first time\n",
        "      variables = model.trainable_variables\n",
        "      gradients = tape.gradient(loss, variables)\n",
        "        \n",
        "      optimizer.apply_gradients(zip(gradients, variables))\n",
        "      \n",
        "      train_acc_metric(label_batch, logits)\n",
        "      \n",
        "      if not step % 100:\n",
        "          # this is different from before. there, we only evaluated accuracy\n",
        "          # for one batch. Now, we always average over 100 batches\n",
        "          print(\"Loss: {} Accuracy: {}\".format(loss, train_acc_metric.result()))\n",
        "          train_acc_metric.reset_states()\n",
        "  print(\"Traing End\")\n",
        "  #Training Progress End\n",
        "\n",
        "\n",
        "  #Testing\n",
        "\n",
        "  # this is very convenient -- before, we usually had code that\n",
        "  # evaluates the whole test set at once -- this won't work for\n",
        "  # large datasets/models. With metrics, we can just iterate\n",
        "  # over the data and the metric takes care of averaging etc.\n",
        "\n",
        "  test_acc_metric = tf.keras.metrics.SparseCategoricalAccuracy()\n",
        "  for image_batch, label_batch in test_data:\n",
        "      test_acc_metric(label_batch, model(image_batch))\n",
        "  print(\"Test acc: {}\".format(test_acc_metric.result()))\n",
        "\n",
        "  #Testing\n",
        "\n"
      ],
      "id": "a2131330",
      "execution_count": 8,
      "outputs": []
    },
    {
      "cell_type": "code",
      "metadata": {
        "colab": {
          "base_uri": "https://localhost:8080/"
        },
        "id": "K3tULAc5WhgT",
        "outputId": "462481e4-68c3-4c4b-db7c-1045082e5cc6"
      },
      "source": [
        "model_normal_MNIST();"
      ],
      "id": "K3tULAc5WhgT",
      "execution_count": 9,
      "outputs": [
        {
          "output_type": "stream",
          "name": "stdout",
          "text": [
            "Model: \"Normal_MNIST\"\n",
            "_________________________________________________________________\n",
            "Layer (type)                 Output Shape              Param #   \n",
            "=================================================================\n",
            "conv2d (Conv2D)              (None, 26, 26, 32)        320       \n",
            "_________________________________________________________________\n",
            "max_pooling2d (MaxPooling2D) (None, 13, 13, 32)        0         \n",
            "_________________________________________________________________\n",
            "conv2d_1 (Conv2D)            (None, 11, 11, 64)        18496     \n",
            "_________________________________________________________________\n",
            "max_pooling2d_1 (MaxPooling2 (None, 5, 5, 64)          0         \n",
            "_________________________________________________________________\n",
            "flatten (Flatten)            (None, 1600)              0         \n",
            "_________________________________________________________________\n",
            "dropout (Dropout)            (None, 1600)              0         \n",
            "_________________________________________________________________\n",
            "dense (Dense)                (None, 10)                16010     \n",
            "=================================================================\n",
            "Total params: 34,826\n",
            "Trainable params: 34,826\n",
            "Non-trainable params: 0\n",
            "_________________________________________________________________\n",
            "Traing Start\n",
            "Loss: 2.3136987686157227 Accuracy: 0.1015625\n",
            "Loss: 0.4447508156299591 Accuracy: 0.6000000238418579\n",
            "Loss: 0.16882604360580444 Accuracy: 0.9257031083106995\n",
            "Loss: 0.09208013117313385 Accuracy: 0.9504687786102295\n",
            "Loss: 0.11987778544425964 Accuracy: 0.960156261920929\n",
            "Loss: 0.05608132854104042 Accuracy: 0.9663220643997192\n",
            "Loss: 0.11982116848230362 Accuracy: 0.9697656035423279\n",
            "Loss: 0.08056041598320007 Accuracy: 0.9694530963897705\n",
            "Loss: 0.055018071085214615 Accuracy: 0.9717968702316284\n",
            "Loss: 0.0634985864162445 Accuracy: 0.9752343893051147\n",
            "Loss: 0.07608442008495331 Accuracy: 0.9750156402587891\n",
            "Loss: 0.08270758390426636 Accuracy: 0.9783594012260437\n",
            "Loss: 0.03885602578520775 Accuracy: 0.9800781011581421\n",
            "Loss: 0.14765435457229614 Accuracy: 0.9768750071525574\n",
            "Loss: 0.01621493510901928 Accuracy: 0.9795312285423279\n",
            "Loss: 0.14561215043067932 Accuracy: 0.9830827116966248\n",
            "Loss: 0.021523140370845795 Accuracy: 0.9810937643051147\n",
            "Loss: 0.04441720247268677 Accuracy: 0.9815624952316284\n",
            "Loss: 0.08719856292009354 Accuracy: 0.9822656512260437\n",
            "Loss: 0.02285042405128479 Accuracy: 0.9828477501869202\n",
            "Loss: 0.05891349911689758 Accuracy: 0.9823437333106995\n",
            "Loss: 0.013406424783170223 Accuracy: 0.985156238079071\n",
            "Loss: 0.003587638959288597 Accuracy: 0.9860156178474426\n",
            "Loss: 0.009042680263519287 Accuracy: 0.9835156202316284\n",
            "Loss: 0.04193522036075592 Accuracy: 0.9837092757225037\n",
            "Loss: 0.07900825142860413 Accuracy: 0.9864062666893005\n",
            "Traing End\n",
            "Test acc: 0.9825999736785889\n"
          ]
        }
      ]
    },
    {
      "cell_type": "markdown",
      "metadata": {
        "id": "CGmhtatMBgk2"
      },
      "source": [
        "## Fashion MNIST"
      ],
      "id": "CGmhtatMBgk2"
    },
    {
      "cell_type": "markdown",
      "metadata": {
        "id": "7-jCLRj0D_lN"
      },
      "source": [
        "### Fashion MNIST1"
      ],
      "id": "7-jCLRj0D_lN"
    },
    {
      "cell_type": "code",
      "metadata": {
        "id": "Z81l24fZBgk9"
      },
      "source": [
        "def model_fashion_MNIST1():\n",
        "  #model params declarations Start\n",
        "\n",
        "  train_steps = 2500\n",
        "  input_shape = (28, 28, 1)\n",
        "  num_classes = 10\n",
        "\n",
        "  model = tf.keras.Sequential(\n",
        "      [ tf.keras.Input(shape=input_shape),\n",
        "        tf.keras.layers.Conv2D(32, kernel_size=(3, 3), activation=\"relu\"),\n",
        "        tf.keras.layers.MaxPooling2D(pool_size=(2, 2)),\n",
        "        tf.keras.layers.Conv2D(64, kernel_size=(3, 3), activation=\"relu\"),\n",
        "        tf.keras.layers.MaxPooling2D(pool_size=(2, 2)),\n",
        "        tf.keras.layers.Flatten(),\n",
        "        tf.keras.layers.Dropout(0.5),\n",
        "        tf.keras.layers.Dense(num_classes)\n",
        "      ],\n",
        "      name=\"Fashion_MNIST1\",\n",
        "  )\n",
        "\n",
        "  model.summary()\n",
        "\n",
        "  optimizer = tf.optimizers.SGD(0.5)  # tune this\n",
        "  # from_logits = True!! #neverforget\n",
        "  loss_fn = tf.losses.SparseCategoricalCrossentropy(from_logits=True)\n",
        "  #model params declarations End\n",
        "\n",
        "\n",
        "  #Training Progress Start\n",
        "  print(\"Traing Start\")\n",
        "  train_acc_metric = tf.keras.metrics.SparseCategoricalAccuracy()\n",
        "\n",
        "  for step, (image_batch, label_batch) in enumerate(train_fasion_data):\n",
        "      if step > train_steps:\n",
        "          break\n",
        "\n",
        "      with tf.GradientTape() as tape:\n",
        "          logits = model(image_batch)\n",
        "          # loss format is generally: first argument targets, second argument outputs\n",
        "          loss = loss_fn(label_batch, logits)\n",
        "\n",
        "      # if you didn't build the model, it is important that you get the variables\n",
        "      # AFTER the model has been called the first time\n",
        "      variables = model.trainable_variables\n",
        "      gradients = tape.gradient(loss, variables)\n",
        "        \n",
        "      optimizer.apply_gradients(zip(gradients, variables))\n",
        "      \n",
        "      train_acc_metric(label_batch, logits)\n",
        "      \n",
        "      if not step % 100:\n",
        "          # this is different from before. there, we only evaluated accuracy\n",
        "          # for one batch. Now, we always average over 100 batches\n",
        "          print(\"Loss: {} Accuracy: {}\".format(loss, train_acc_metric.result()))\n",
        "          train_acc_metric.reset_states()\n",
        "  print(\"Traing End\")\n",
        "  #Training Progress End\n",
        "\n",
        "\n",
        "  #Testing\n",
        "\n",
        "  # this is very convenient -- before, we usually had code that\n",
        "  # evaluates the whole test set at once -- this won't work for\n",
        "  # large datasets/models. With metrics, we can just iterate\n",
        "  # over the data and the metric takes care of averaging etc.\n",
        "\n",
        "  test_acc_metric = tf.keras.metrics.SparseCategoricalAccuracy()\n",
        "  for image_batch, label_batch in test_fasion_data:\n",
        "      test_acc_metric(label_batch, model(image_batch))\n",
        "  print(\"Test acc: {}\".format(test_acc_metric.result()))\n",
        "\n",
        "  #Testing\n",
        "\n"
      ],
      "id": "Z81l24fZBgk9",
      "execution_count": 18,
      "outputs": []
    },
    {
      "cell_type": "code",
      "metadata": {
        "colab": {
          "base_uri": "https://localhost:8080/"
        },
        "id": "4nXDPoH-Bgk9",
        "outputId": "0a3c81ee-d9cd-41da-9d3d-0a4e236f9be9"
      },
      "source": [
        "model_fashion_MNIST1();"
      ],
      "id": "4nXDPoH-Bgk9",
      "execution_count": 19,
      "outputs": [
        {
          "output_type": "stream",
          "name": "stdout",
          "text": [
            "Model: \"Fashion_MNIST1\"\n",
            "_________________________________________________________________\n",
            "Layer (type)                 Output Shape              Param #   \n",
            "=================================================================\n",
            "conv2d_18 (Conv2D)           (None, 26, 26, 32)        320       \n",
            "_________________________________________________________________\n",
            "max_pooling2d_12 (MaxPooling (None, 13, 13, 32)        0         \n",
            "_________________________________________________________________\n",
            "conv2d_19 (Conv2D)           (None, 11, 11, 64)        18496     \n",
            "_________________________________________________________________\n",
            "max_pooling2d_13 (MaxPooling (None, 5, 5, 64)          0         \n",
            "_________________________________________________________________\n",
            "flatten_5 (Flatten)          (None, 1600)              0         \n",
            "_________________________________________________________________\n",
            "dropout_5 (Dropout)          (None, 1600)              0         \n",
            "_________________________________________________________________\n",
            "dense_5 (Dense)              (None, 10)                16010     \n",
            "=================================================================\n",
            "Total params: 34,826\n",
            "Trainable params: 34,826\n",
            "Non-trainable params: 0\n",
            "_________________________________________________________________\n",
            "Traing Start\n",
            "Loss: 2.2879843711853027 Accuracy: 0.03125\n",
            "Loss: 1.232391119003296 Accuracy: 0.2421875\n",
            "Loss: 0.7997218370437622 Accuracy: 0.7109375\n",
            "Loss: 0.5146672129631042 Accuracy: 0.7784374952316284\n",
            "Loss: 0.567545473575592 Accuracy: 0.80078125\n",
            "Loss: 0.6268279552459717 Accuracy: 0.8055294752120972\n",
            "Loss: 0.4340744912624359 Accuracy: 0.8364062309265137\n",
            "Loss: 0.4067761301994324 Accuracy: 0.8382031321525574\n",
            "Loss: 0.36792418360710144 Accuracy: 0.8396093845367432\n",
            "Loss: 0.407985121011734 Accuracy: 0.8448437452316284\n",
            "Loss: 0.3747614026069641 Accuracy: 0.8495457172393799\n",
            "Loss: 0.3087339401245117 Accuracy: 0.8607812523841858\n",
            "Loss: 0.37366724014282227 Accuracy: 0.8579687476158142\n",
            "Loss: 0.36960187554359436 Accuracy: 0.8685156106948853\n",
            "Loss: 0.29946428537368774 Accuracy: 0.8637499809265137\n",
            "Loss: 0.43136662244796753 Accuracy: 0.8696742057800293\n",
            "Loss: 0.2506900131702423 Accuracy: 0.8715624809265137\n",
            "Loss: 0.3237108588218689 Accuracy: 0.8786718845367432\n",
            "Loss: 0.25726908445358276 Accuracy: 0.8685937523841858\n",
            "Loss: 0.5411219596862793 Accuracy: 0.8778195381164551\n",
            "Loss: 0.3789903223514557 Accuracy: 0.8841406106948853\n",
            "Loss: 0.2739269733428955 Accuracy: 0.8799218535423279\n",
            "Loss: 0.30036574602127075 Accuracy: 0.8821874856948853\n",
            "Loss: 0.32200437784194946 Accuracy: 0.8785937428474426\n",
            "Loss: 0.3503910303115845 Accuracy: 0.8848684430122375\n",
            "Loss: 0.3044886291027069 Accuracy: 0.8853124976158142\n",
            "Traing End\n",
            "Test acc: 0.8774999976158142\n"
          ]
        }
      ]
    },
    {
      "cell_type": "markdown",
      "metadata": {
        "id": "GAWcBMDiEK8M"
      },
      "source": [
        "### Fashion MNIST2"
      ],
      "id": "GAWcBMDiEK8M"
    },
    {
      "cell_type": "code",
      "metadata": {
        "id": "bdBZC2f_EK8M"
      },
      "source": [
        "def model_fashion_MNIST2():\n",
        "  #model params declarations Start\n",
        "\n",
        "  train_steps = 2500\n",
        "  input_shape = (28, 28, 1)\n",
        "  num_classes = 10\n",
        "\n",
        "  model = tf.keras.Sequential(\n",
        "      [ tf.keras.Input(shape=input_shape),\n",
        "        tf.keras.layers.Conv2D(64, kernel_size=(3, 3), activation=\"relu\", padding=\"same\"),\n",
        "        tf.keras.layers.BatchNormalization(),\n",
        "        tf.keras.layers.Conv2D(64, kernel_size=(3, 3), activation=\"relu\"),\n",
        "        tf.keras.layers.BatchNormalization(),\n",
        "        tf.keras.layers.MaxPooling2D(pool_size=(2, 2)),\n",
        "        tf.keras.layers.Conv2D(128, kernel_size=(3, 3), activation=\"relu\", padding=\"same\"),\n",
        "        tf.keras.layers.BatchNormalization(),\n",
        "        tf.keras.layers.Conv2D(128, kernel_size=(3, 3), activation=\"relu\"),\n",
        "        tf.keras.layers.BatchNormalization(),\n",
        "        tf.keras.layers.MaxPooling2D(pool_size=(2, 2)),\n",
        "        tf.keras.layers.Conv2D(256, kernel_size=(3, 3), activation=\"relu\", padding=\"same\"),\n",
        "        tf.keras.layers.BatchNormalization(),\n",
        "        tf.keras.layers.Conv2D(256, kernel_size=(3, 3), activation=\"relu\"),\n",
        "        tf.keras.layers.BatchNormalization(),\n",
        "        tf.keras.layers.MaxPooling2D(pool_size=(2, 2)),\n",
        "        tf.keras.layers.Flatten(),\n",
        "        tf.keras.layers.Dropout(0.5),\n",
        "        tf.keras.layers.Dense(num_classes)\n",
        "      ],\n",
        "      name=\"Fashion_MNIST2\",\n",
        "  )\n",
        "\n",
        "  model.summary()\n",
        "\n",
        "  optimizer = tf.optimizers.Adam(learning_rate=1e-3)  # tune this\n",
        "  # from_logits = True!! #neverforget\n",
        "  loss_fn = tf.losses.SparseCategoricalCrossentropy(from_logits=True)\n",
        "  #model params declarations End\n",
        "\n",
        "\n",
        "  #Training Progress Start\n",
        "  print(\"Training Start\")\n",
        "  train_acc_metric = tf.keras.metrics.SparseCategoricalAccuracy()\n",
        "\n",
        "  for step, (image_batch, label_batch) in enumerate(train_fasion_data):\n",
        "      if step > train_steps:\n",
        "          break\n",
        "\n",
        "      with tf.GradientTape() as tape:\n",
        "          logits = model(image_batch)\n",
        "          # loss format is generally: first argument targets, second argument outputs\n",
        "          loss = loss_fn(label_batch, logits)\n",
        "\n",
        "      # if you didn't build the model, it is important that you get the variables\n",
        "      # AFTER the model has been called the first time\n",
        "      variables = model.trainable_variables\n",
        "      gradients = tape.gradient(loss, variables)\n",
        "        \n",
        "      optimizer.apply_gradients(zip(gradients, variables))\n",
        "      \n",
        "      train_acc_metric(label_batch, logits)\n",
        "      \n",
        "      if not step % 500:\n",
        "          # this is different from before. there, we only evaluated accuracy\n",
        "          # for one batch. Now, we always average over 100 batches\n",
        "          print(\"Loss: {} Accuracy: {}\".format(loss, train_acc_metric.result()))\n",
        "          train_acc_metric.reset_states()\n",
        "  print(\"Training End\")\n",
        "  #Training Progress End\n",
        "\n",
        "\n",
        "  #Testing\n",
        "\n",
        "  # this is very convenient -- before, we usually had code that\n",
        "  # evaluates the whole test set at once -- this won't work for\n",
        "  # large datasets/models. With metrics, we can just iterate\n",
        "  # over the data and the metric takes care of averaging etc.\n",
        "\n",
        "  test_acc_metric = tf.keras.metrics.SparseCategoricalAccuracy()\n",
        "  for image_batch, label_batch in test_fasion_data:\n",
        "      test_acc_metric(label_batch, model(image_batch))\n",
        "  print(\"Test acc: {}\".format(test_acc_metric.result()))\n",
        "\n",
        "  #Testing\n",
        "\n"
      ],
      "id": "bdBZC2f_EK8M",
      "execution_count": 29,
      "outputs": []
    },
    {
      "cell_type": "code",
      "metadata": {
        "colab": {
          "base_uri": "https://localhost:8080/"
        },
        "id": "42JgrpdYEK8N",
        "outputId": "ef71c1e3-dc5d-408f-c0d0-ee7c78fea30b"
      },
      "source": [
        "model_fashion_MNIST2();"
      ],
      "id": "42JgrpdYEK8N",
      "execution_count": 30,
      "outputs": [
        {
          "output_type": "stream",
          "name": "stdout",
          "text": [
            "Model: \"Fashion_MNIST2\"\n",
            "_________________________________________________________________\n",
            "Layer (type)                 Output Shape              Param #   \n",
            "=================================================================\n",
            "conv2d_44 (Conv2D)           (None, 28, 28, 64)        640       \n",
            "_________________________________________________________________\n",
            "batch_normalization_36 (Batc (None, 28, 28, 64)        256       \n",
            "_________________________________________________________________\n",
            "conv2d_45 (Conv2D)           (None, 26, 26, 64)        36928     \n",
            "_________________________________________________________________\n",
            "batch_normalization_37 (Batc (None, 26, 26, 64)        256       \n",
            "_________________________________________________________________\n",
            "max_pooling2d_26 (MaxPooling (None, 13, 13, 64)        0         \n",
            "_________________________________________________________________\n",
            "conv2d_46 (Conv2D)           (None, 13, 13, 128)       73856     \n",
            "_________________________________________________________________\n",
            "batch_normalization_38 (Batc (None, 13, 13, 128)       512       \n",
            "_________________________________________________________________\n",
            "conv2d_47 (Conv2D)           (None, 11, 11, 128)       147584    \n",
            "_________________________________________________________________\n",
            "batch_normalization_39 (Batc (None, 11, 11, 128)       512       \n",
            "_________________________________________________________________\n",
            "max_pooling2d_27 (MaxPooling (None, 5, 5, 128)         0         \n",
            "_________________________________________________________________\n",
            "conv2d_48 (Conv2D)           (None, 5, 5, 256)         295168    \n",
            "_________________________________________________________________\n",
            "batch_normalization_40 (Batc (None, 5, 5, 256)         1024      \n",
            "_________________________________________________________________\n",
            "conv2d_49 (Conv2D)           (None, 3, 3, 256)         590080    \n",
            "_________________________________________________________________\n",
            "batch_normalization_41 (Batc (None, 3, 3, 256)         1024      \n",
            "_________________________________________________________________\n",
            "max_pooling2d_28 (MaxPooling (None, 1, 1, 256)         0         \n",
            "_________________________________________________________________\n",
            "flatten_10 (Flatten)         (None, 256)               0         \n",
            "_________________________________________________________________\n",
            "dropout_10 (Dropout)         (None, 256)               0         \n",
            "_________________________________________________________________\n",
            "dense_10 (Dense)             (None, 10)                2570      \n",
            "=================================================================\n",
            "Total params: 1,150,410\n",
            "Trainable params: 1,148,618\n",
            "Non-trainable params: 1,792\n",
            "_________________________________________________________________\n",
            "Training Start\n",
            "Loss: 2.302243709564209 Accuracy: 0.0625\n",
            "Loss: 0.3143036961555481 Accuracy: 0.8211605548858643\n",
            "Loss: 0.24739313125610352 Accuracy: 0.9007785320281982\n",
            "Loss: 0.2306319773197174 Accuracy: 0.9203664064407349\n",
            "Loss: 0.14940595626831055 Accuracy: 0.9341545701026917\n",
            "Loss: 0.1368025243282318 Accuracy: 0.9455821514129639\n",
            "Training End\n",
            "Test acc: 0.9208999872207642\n"
          ]
        }
      ]
    },
    {
      "cell_type": "markdown",
      "metadata": {
        "id": "aLruedVSxA6E"
      },
      "source": [
        "### Fashion MNIST3"
      ],
      "id": "aLruedVSxA6E"
    },
    {
      "cell_type": "code",
      "metadata": {
        "id": "fKv0CEI3xA6J"
      },
      "source": [
        "def model_fashion_MNIST3():\n",
        "  #model params declarations Start\n",
        "\n",
        "  train_steps = 2500\n",
        "  input_shape = (28, 28, 1)\n",
        "  num_classes = 10\n",
        "\n",
        "  model = tf.keras.Sequential(\n",
        "      [ tf.keras.Input(shape=input_shape),\n",
        "        tf.keras.layers.Conv2D(32, kernel_size=(3, 3), activation=\"relu\", padding=\"same\"),\n",
        "        tf.keras.layers.BatchNormalization(),\n",
        "       \n",
        "        tf.keras.layers.Conv2D(32, kernel_size=(3, 3), activation=\"relu\", padding=\"same\"),\n",
        "        tf.keras.layers.BatchNormalization(),\n",
        "        tf.keras.layers.Dropout(0.25),\n",
        "\n",
        "        tf.keras.layers.Conv2D(64, kernel_size=(3, 3), activation=\"relu\", padding=\"same\"),\n",
        "        tf.keras.layers.MaxPooling2D(pool_size=(2, 2)),\n",
        "        tf.keras.layers.Dropout(0.25),\n",
        "       \n",
        "        tf.keras.layers.Conv2D(128, kernel_size=(3, 3), activation=\"relu\", padding=\"same\"),\n",
        "        tf.keras.layers.BatchNormalization(),\n",
        "        tf.keras.layers.Dropout(0.25),\n",
        "\n",
        "        tf.keras.layers.Flatten(),\n",
        "        tf.keras.layers.Dense(512, activation=\"relu\"),\n",
        "        tf.keras.layers.BatchNormalization(),\n",
        "        tf.keras.layers.Dropout(0.5),\n",
        "        tf.keras.layers.Dense(128, activation=\"relu\"),\n",
        "        tf.keras.layers.BatchNormalization(),\n",
        "        tf.keras.layers.Dropout(0.5),\n",
        "        tf.keras.layers.Dense(num_classes)\n",
        "      ],\n",
        "      name=\"Fashion_MNIST3\",\n",
        "  )\n",
        "\n",
        "  model.summary()\n",
        "\n",
        "  optimizer = tf.optimizers.Adam(learning_rate=1e-3)  # tune this\n",
        "  # from_logits = True!! #neverforget\n",
        "  loss_fn = tf.losses.SparseCategoricalCrossentropy(from_logits=True)\n",
        "  #model params declarations End\n",
        "\n",
        "\n",
        "  #Training Progress Start\n",
        "  print(\"Training Start\")\n",
        "  train_acc_metric = tf.keras.metrics.SparseCategoricalAccuracy()\n",
        "\n",
        "  for step, (image_batch, label_batch) in enumerate(train_fasion_data):\n",
        "      if step > train_steps:\n",
        "          break\n",
        "\n",
        "      with tf.GradientTape() as tape:\n",
        "          logits = model(image_batch)\n",
        "          # loss format is generally: first argument targets, second argument outputs\n",
        "          loss = loss_fn(label_batch, logits)\n",
        "\n",
        "      # if you didn't build the model, it is important that you get the variables\n",
        "      # AFTER the model has been called the first time\n",
        "      variables = model.trainable_variables\n",
        "      gradients = tape.gradient(loss, variables)\n",
        "        \n",
        "      optimizer.apply_gradients(zip(gradients, variables))\n",
        "      \n",
        "      train_acc_metric(label_batch, logits)\n",
        "      \n",
        "      if not step % 500:\n",
        "          # this is different from before. there, we only evaluated accuracy\n",
        "          # for one batch. Now, we always average over 100 batches\n",
        "          print(\"Loss: {} Accuracy: {}\".format(loss, train_acc_metric.result()))\n",
        "          train_acc_metric.reset_states()\n",
        "  print(\"Training End\")\n",
        "  #Training Progress End\n",
        "\n",
        "\n",
        "  #Testing\n",
        "\n",
        "  # this is very convenient -- before, we usually had code that\n",
        "  # evaluates the whole test set at once -- this won't work for\n",
        "  # large datasets/models. With metrics, we can just iterate\n",
        "  # over the data and the metric takes care of averaging etc.\n",
        "\n",
        "  test_acc_metric = tf.keras.metrics.SparseCategoricalAccuracy()\n",
        "  for image_batch, label_batch in test_fasion_data:\n",
        "      test_acc_metric(label_batch, model(image_batch))\n",
        "  print(\"Test acc: {}\".format(test_acc_metric.result()))\n",
        "\n",
        "  #Testing\n",
        "\n"
      ],
      "id": "fKv0CEI3xA6J",
      "execution_count": 33,
      "outputs": []
    },
    {
      "cell_type": "code",
      "metadata": {
        "colab": {
          "base_uri": "https://localhost:8080/"
        },
        "id": "OTMLNkawxA6K",
        "outputId": "db8257e9-7765-40e3-ce1b-b823ed7c7007"
      },
      "source": [
        "model_fashion_MNIST3();"
      ],
      "id": "OTMLNkawxA6K",
      "execution_count": 34,
      "outputs": [
        {
          "output_type": "stream",
          "name": "stdout",
          "text": [
            "Model: \"Fashion_MNIST3\"\n",
            "_________________________________________________________________\n",
            "Layer (type)                 Output Shape              Param #   \n",
            "=================================================================\n",
            "conv2d_56 (Conv2D)           (None, 28, 28, 32)        320       \n",
            "_________________________________________________________________\n",
            "batch_normalization_48 (Batc (None, 28, 28, 32)        128       \n",
            "_________________________________________________________________\n",
            "conv2d_57 (Conv2D)           (None, 28, 28, 32)        9248      \n",
            "_________________________________________________________________\n",
            "batch_normalization_49 (Batc (None, 28, 28, 32)        128       \n",
            "_________________________________________________________________\n",
            "dropout_12 (Dropout)         (None, 28, 28, 32)        0         \n",
            "_________________________________________________________________\n",
            "conv2d_58 (Conv2D)           (None, 28, 28, 64)        18496     \n",
            "_________________________________________________________________\n",
            "max_pooling2d_32 (MaxPooling (None, 14, 14, 64)        0         \n",
            "_________________________________________________________________\n",
            "dropout_13 (Dropout)         (None, 14, 14, 64)        0         \n",
            "_________________________________________________________________\n",
            "conv2d_59 (Conv2D)           (None, 14, 14, 128)       73856     \n",
            "_________________________________________________________________\n",
            "batch_normalization_50 (Batc (None, 14, 14, 128)       512       \n",
            "_________________________________________________________________\n",
            "dropout_14 (Dropout)         (None, 14, 14, 128)       0         \n",
            "_________________________________________________________________\n",
            "flatten_12 (Flatten)         (None, 25088)             0         \n",
            "_________________________________________________________________\n",
            "dense_12 (Dense)             (None, 512)               12845568  \n",
            "_________________________________________________________________\n",
            "batch_normalization_51 (Batc (None, 512)               2048      \n",
            "_________________________________________________________________\n",
            "dropout_15 (Dropout)         (None, 512)               0         \n",
            "_________________________________________________________________\n",
            "dense_13 (Dense)             (None, 128)               65664     \n",
            "_________________________________________________________________\n",
            "batch_normalization_52 (Batc (None, 128)               512       \n",
            "_________________________________________________________________\n",
            "dropout_16 (Dropout)         (None, 128)               0         \n",
            "_________________________________________________________________\n",
            "dense_14 (Dense)             (None, 10)                1290      \n",
            "=================================================================\n",
            "Total params: 13,017,770\n",
            "Trainable params: 13,016,106\n",
            "Non-trainable params: 1,664\n",
            "_________________________________________________________________\n",
            "Training Start\n",
            "Loss: 2.30533504486084 Accuracy: 0.0703125\n",
            "Loss: 0.24984434247016907 Accuracy: 0.8694347143173218\n",
            "Loss: 0.11864283680915833 Accuracy: 0.9279170632362366\n",
            "Loss: 0.0918576717376709 Accuracy: 0.9482866525650024\n",
            "Loss: 0.07127521932125092 Accuracy: 0.9658892154693604\n",
            "Loss: 0.04491080716252327 Accuracy: 0.97792649269104\n",
            "Training End\n",
            "Test acc: 0.930899977684021\n"
          ]
        }
      ]
    },
    {
      "cell_type": "markdown",
      "metadata": {
        "id": "kDsTxKJZ0ukf"
      },
      "source": [
        "# CIFAR Dataset"
      ],
      "id": "kDsTxKJZ0ukf"
    },
    {
      "cell_type": "code",
      "metadata": {
        "id": "5uq4c1gA00u3"
      },
      "source": [
        ""
      ],
      "id": "5uq4c1gA00u3",
      "execution_count": null,
      "outputs": []
    },
    {
      "cell_type": "markdown",
      "metadata": {
        "id": "dA80-Dq9Nafm"
      },
      "source": [
        "#References\n",
        "\n",
        "\n",
        "1.   https://www.tensorflow.org/guide/keras/writing_a_training_loop_from_scratch\n",
        "2.   https://ovgu-ailab.github.io/idl2021/assignments/3/mlp_keras.ipynb\n",
        "3.   https://keras.io/examples/vision/mnist_convnet/\n",
        "4.   https://medium.com/@mjbhobe/classifying-fashion-with-a-keras-cnn-achieving-94-accuracy-part-1-1ffcb7e5f61a\n",
        "\n"
      ],
      "id": "dA80-Dq9Nafm"
    }
  ]
}