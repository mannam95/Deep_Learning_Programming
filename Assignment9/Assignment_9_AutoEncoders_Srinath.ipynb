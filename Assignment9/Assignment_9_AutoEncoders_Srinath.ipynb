{
  "nbformat": 4,
  "nbformat_minor": 0,
  "metadata": {
    "colab": {
      "name": "Assignment_9_AutoEncoders_Srinath.ipynb",
      "provenance": [],
      "collapsed_sections": [
        "0c34550c"
      ],
      "machine_shape": "hm",
      "authorship_tag": "ABX9TyPBEGzgdSyqI/wTet7QRdQb",
      "include_colab_link": true
    },
    "kernelspec": {
      "name": "python3",
      "display_name": "Python 3"
    },
    "language_info": {
      "name": "python"
    },
    "accelerator": "GPU"
  },
  "cells": [
    {
      "cell_type": "markdown",
      "metadata": {
        "id": "view-in-github",
        "colab_type": "text"
      },
      "source": [
        "<a href=\"https://colab.research.google.com/github/mannam95/Deep_Learning_Programming/blob/main/Assignment9/Assignment_9_AutoEncoders_Srinath.ipynb\" target=\"_parent\"><img src=\"https://colab.research.google.com/assets/colab-badge.svg\" alt=\"Open In Colab\"/></a>"
      ]
    },
    {
      "cell_type": "markdown",
      "metadata": {
        "id": "c6aef94d"
      },
      "source": [
        "# Team Assignment\n",
        "\n",
        "\n",
        "1.   Srinath Mannam (229750)\n",
        "2.   Meghana Rao (234907)\n",
        "3.   Govind Shukla (235192)"
      ]
    },
    {
      "cell_type": "markdown",
      "metadata": {
        "id": "9b1ec548"
      },
      "source": [
        "# import statements"
      ]
    },
    {
      "cell_type": "code",
      "metadata": {
        "id": "85eb7211"
      },
      "source": [
        "import os\n",
        "\n",
        "import numpy as np\n",
        "import pandas as pd\n",
        "import tensorflow as tf\n",
        "from tensorflow.keras import layers\n",
        "from tensorflow.keras.datasets import fashion_mnist\n",
        "from tensorflow.keras.models import Model\n",
        "\n",
        "from sklearn.metrics import accuracy_score, precision_score, recall_score\n",
        "from sklearn.model_selection import train_test_split\n",
        "from tensorflow.keras import layers, losses\n",
        "\n",
        "from matplotlib import pyplot as plt"
      ],
      "execution_count": 1,
      "outputs": []
    },
    {
      "cell_type": "markdown",
      "metadata": {
        "id": "0c34550c"
      },
      "source": [
        "# Change the directory"
      ]
    },
    {
      "cell_type": "code",
      "metadata": {
        "id": "94b2626e"
      },
      "source": [
        "working_directory = '/content/drive/My Drive/Colab Notebooks/OVGU/Deep_Learning/09_Assignment'\n",
        "def colabDrive():\n",
        "    from google.colab import drive\n",
        "    drive.mount(\"/content/drive\")\n",
        "\n",
        "    if os.getcwd() !=  working_directory:\n",
        "      os.chdir(working_directory)\n",
        "    print(os.getcwd())"
      ],
      "execution_count": 26,
      "outputs": []
    },
    {
      "cell_type": "code",
      "metadata": {
        "id": "a8540ed4",
        "colab": {
          "base_uri": "https://localhost:8080/"
        },
        "outputId": "928c5ffc-af2c-4e22-ea62-560d176d3ffa"
      },
      "source": [
        "colabDrive()"
      ],
      "execution_count": 27,
      "outputs": [
        {
          "output_type": "stream",
          "name": "stdout",
          "text": [
            "Mounted at /content/drive\n",
            "/content/drive/My Drive/Colab Notebooks/OVGU/Deep_Learning/09_Assignment\n"
          ]
        }
      ]
    },
    {
      "cell_type": "markdown",
      "source": [
        "# Load the dataset"
      ],
      "metadata": {
        "id": "o2gXUgrUbKmg"
      }
    },
    {
      "cell_type": "markdown",
      "source": [
        "## Original Dataset"
      ],
      "metadata": {
        "id": "8Zd5tDvuP4Kp"
      }
    },
    {
      "cell_type": "code",
      "source": [
        "(x_train, y_train), (x_test, y_test) = fashion_mnist.load_data()\n",
        "\n",
        "x_train = (x_train.astype('float32') / 255)\n",
        "x_test = (x_test.astype('float32') / 255)\n",
        "\n",
        "train_data = tf.data.Dataset.from_tensor_slices((x_train, y_train)).shuffle(x_train.shape[0]).batch(512)\n",
        "test_data = tf.data.Dataset.from_tensor_slices((x_test, y_test)).batch(100)\n",
        "\n",
        "# pick a random subset\n",
        "labeled_indices = np.random.choice(60000, replace=False, size=1000)\n",
        "\n",
        "print(\"Original Dataset Size\")\n",
        "print (\"Train Dataset Size: \", x_train.shape)\n",
        "print (\"Test Dataset Size: \", x_test.shape)"
      ],
      "metadata": {
        "colab": {
          "base_uri": "https://localhost:8080/"
        },
        "id": "wNFUcNjdbQKh",
        "outputId": "2b24375b-1b70-4a53-9380-a881ff589610"
      },
      "execution_count": 5,
      "outputs": [
        {
          "output_type": "stream",
          "name": "stdout",
          "text": [
            "Original Dataset Size\n",
            "Train Dataset Size:  (60000, 28, 28)\n",
            "Test Dataset Size:  (10000, 28, 28)\n"
          ]
        }
      ]
    },
    {
      "cell_type": "markdown",
      "source": [
        "## AutoEncoder1 Dataset"
      ],
      "metadata": {
        "id": "8rdo9xuePzhN"
      }
    },
    {
      "cell_type": "code",
      "source": [
        "auto_train_data = tf.data.Dataset.from_tensor_slices((x_train, x_train)).shuffle(x_train.shape[0]).batch(512)\n",
        "auto_test_data = tf.data.Dataset.from_tensor_slices((x_test, x_test)).batch(100)\n",
        "\n",
        "# choose corresponding images and labels\n",
        "x_train_subset = x_train[labeled_indices]\n",
        "y_train_subset = y_train[labeled_indices]\n",
        "\n",
        "train_subset_data = tf.data.Dataset.from_tensor_slices((x_train_subset, y_train_subset)).shuffle(x_train_subset.shape[0]).batch(100)\n",
        "\n",
        "print(\"Subset Dataset Size\")\n",
        "print (\"Train Subset Dataset Size: \", x_train_subset.shape)"
      ],
      "metadata": {
        "colab": {
          "base_uri": "https://localhost:8080/"
        },
        "id": "WHw3oVUXP-6l",
        "outputId": "4c78bdf1-f5f4-4554-a15e-5bb6ee5f9133"
      },
      "execution_count": 6,
      "outputs": [
        {
          "output_type": "stream",
          "name": "stdout",
          "text": [
            "Subset Dataset Size\n",
            "Train Subset Dataset Size:  (1000, 28, 28)\n"
          ]
        }
      ]
    },
    {
      "cell_type": "markdown",
      "source": [
        "## AutoEncoder2 Denoise Dataset"
      ],
      "metadata": {
        "id": "EBwqZqQSQG6F"
      }
    },
    {
      "cell_type": "code",
      "source": [
        "noise_factor = 0.2\n",
        "x_train_noisy = x_train + noise_factor * tf.random.normal(shape=x_train.shape) \n",
        "x_test_noisy = x_test + noise_factor * tf.random.normal(shape=x_test.shape) \n",
        "\n",
        "x_train_noisy = tf.clip_by_value(x_train_noisy, clip_value_min=0., clip_value_max=1.)\n",
        "x_test_noisy = tf.clip_by_value(x_test_noisy, clip_value_min=0., clip_value_max=1.)\n",
        "\n",
        "train_noisy_data = tf.data.Dataset.from_tensor_slices((x_train_noisy, y_train)).shuffle(x_train.shape[0]).batch(512)\n",
        "test_noisy_data = tf.data.Dataset.from_tensor_slices((x_test_noisy, x_test)).batch(100)\n",
        "\n",
        "auto2_train_data = tf.data.Dataset.from_tensor_slices((x_train_noisy, x_train)).shuffle(x_train.shape[0]).batch(512)\n",
        "auto2_test_data = tf.data.Dataset.from_tensor_slices((x_test_noisy, x_test)).batch(100)\n",
        "\n",
        "x_train_noisy_subset = []\n",
        "# choose corresponding images and labels\n",
        "for index in labeled_indices:\n",
        "    x_train_noisy_subset.append(x_train_noisy[index])\n",
        "x_train_noisy_subset = np.array(x_train_noisy_subset)\n",
        "y_train_subset = y_train[labeled_indices]\n",
        "\n",
        "train_noisy_subset_data = tf.data.Dataset.from_tensor_slices((x_train_noisy_subset, y_train_subset)).shuffle(x_train_noisy_subset.shape[0]).batch(100)\n",
        "\n",
        "print(\"Noisy Subset Dataset Size\")\n",
        "print (\"Train Subset Dataset Size: \", x_train_noisy_subset.shape)"
      ],
      "metadata": {
        "colab": {
          "base_uri": "https://localhost:8080/"
        },
        "id": "ApM2faRUQUsH",
        "outputId": "6deb1a16-ae74-4fbb-e2a8-20a32bdf2e28"
      },
      "execution_count": 7,
      "outputs": [
        {
          "output_type": "stream",
          "name": "stdout",
          "text": [
            "Noisy Subset Dataset Size\n",
            "Train Subset Dataset Size:  (1000, 28, 28)\n"
          ]
        }
      ]
    },
    {
      "cell_type": "markdown",
      "source": [
        "# Model1\n",
        "\n",
        "Summary:\n",
        "\n",
        "\n",
        "\n",
        "*   Built an auto-Encoder with Encoder, Decoder Architecture.\n",
        "*   This model will try to make input images to lower space and again try to \n",
        "reconstruct from the bottleneck.\n",
        "* All the model layers are Dense layers like MLP.\n",
        "*   Classifier - 1\n",
        "  - Trained Encoder Model with additional classification layers.\n",
        "  - Trained on sub-set data which is 1000 samples.\n",
        "  - Training Accuracy is 87.1%\n",
        "  - Test Accuracy is 76.4%\n",
        "*   Classifier - 2\n",
        "  - Created an Entire Architecture like the above classifier with encoder + additional classification layers.\n",
        "  - But here the encoder is not pre-trained(from AutoEncoder) or freezed.\n",
        "  - Entire training data has been used.\n",
        "  - Training Accuracy is 82.97%\n",
        "  - Test Accuracy is 82.09%\n",
        "*   Classifier - 3\n",
        "  - Same architecture as classifier 2.\n",
        "  - Train data is only sub-set of 1000 samples.\n",
        "  - Training Accuracy is 89.3%\n",
        "  - Test Accuracy is 77.85%\n",
        "\n",
        "\n",
        "\n",
        "\n"
      ],
      "metadata": {
        "id": "SK2ZRZp0bjVs"
      }
    },
    {
      "cell_type": "markdown",
      "source": [
        "## Definition"
      ],
      "metadata": {
        "id": "frfuaXYwx_OR"
      }
    },
    {
      "cell_type": "code",
      "source": [
        "bottleNeck = 64\n",
        "input_shape = (28, 28)\n",
        "\n",
        "#Encoder\n",
        "image_input = tf.keras.Input(input_shape)  # flattened 28x28 MNIST images\n",
        "flatten = tf.keras.layers.Flatten()(image_input)\n",
        "enc_Layer1 = tf.keras.layers.Dense(256)(flatten)\n",
        "enc_Layer2 = tf.keras.layers.Dense(128)(enc_Layer1)\n",
        "encoding = tf.keras.layers.Dense(bottleNeck)(enc_Layer2)\n",
        "encoder = tf.keras.Model(image_input, encoding, name=\"Encoder\")\n",
        "\n",
        "#Decoder\n",
        "code_input = tf.keras.Input((bottleNeck,))\n",
        "dec_Layer1 = tf.keras.layers.Dense(128)(code_input)\n",
        "dec_Layer2 = tf.keras.layers.Dense(256)(dec_Layer1)\n",
        "decoding = tf.keras.layers.Dense(784, tf.nn.sigmoid)(dec_Layer2)\n",
        "decoding2 = tf.keras.layers.Reshape(input_shape)(decoding)\n",
        "decoder = tf.keras.Model(code_input, decoding2, name=\"Decoder\")\n",
        "\n",
        "#Auto-Encoder\n",
        "autoencoder = tf.keras.Model(image_input, decoder(encoder(image_input)), name=\"AutoEncoder\")\n",
        "\n",
        "# Extended Model Head for Classification\n",
        "layer1 =  tf.keras.layers.Dense(512)(encoding)\n",
        "layer2 =  tf.keras.layers.Dense(256)(layer1)\n",
        "\n",
        "logits = tf.keras.layers.Dense(10)(layer2)\n",
        "\n",
        "classifier = tf.keras.Model(image_input, logits, name=\"Classifer\")\n",
        "\n",
        "\n",
        "#Classifier 2\n",
        "c2_flatten = tf.keras.layers.Flatten()(image_input)\n",
        "c2_layer1 = tf.keras.layers.Dense(256)(c2_flatten)\n",
        "c2_layer2 = tf.keras.layers.Dense(128)(c2_layer1)\n",
        "c2_layer3 = tf.keras.layers.Dense(bottleNeck)(c2_layer2)\n",
        "c2_layer4 =  tf.keras.layers.Dense(512)(c2_layer3)\n",
        "c2_layer5 =  tf.keras.layers.Dense(256)(c2_layer4)\n",
        "c2_logits = tf.keras.layers.Dense(10)(layer2)\n",
        "classifier2 = tf.keras.Model(image_input, c2_logits, name=\"Classifer2\")\n",
        "classifier3 = tf.keras.Model(image_input, c2_logits, name=\"Classifer3\")\n"
      ],
      "metadata": {
        "id": "iNDWMmKFblEG"
      },
      "execution_count": 8,
      "outputs": []
    },
    {
      "cell_type": "markdown",
      "source": [
        "## Model Summary"
      ],
      "metadata": {
        "id": "V6B129R2yBkI"
      }
    },
    {
      "cell_type": "code",
      "source": [
        "encoder.summary()\n",
        "decoder.summary()\n",
        "autoencoder.summary()\n",
        "classifier.summary()\n",
        "classifier2.summary()"
      ],
      "metadata": {
        "colab": {
          "base_uri": "https://localhost:8080/"
        },
        "id": "rgic9R80oIcI",
        "outputId": "1d86c61a-7e09-4487-f207-c8ffb7699107"
      },
      "execution_count": 9,
      "outputs": [
        {
          "output_type": "stream",
          "name": "stdout",
          "text": [
            "Model: \"Encoder\"\n",
            "_________________________________________________________________\n",
            " Layer (type)                Output Shape              Param #   \n",
            "=================================================================\n",
            " input_1 (InputLayer)        [(None, 28, 28)]          0         \n",
            "                                                                 \n",
            " flatten (Flatten)           (None, 784)               0         \n",
            "                                                                 \n",
            " dense (Dense)               (None, 256)               200960    \n",
            "                                                                 \n",
            " dense_1 (Dense)             (None, 128)               32896     \n",
            "                                                                 \n",
            " dense_2 (Dense)             (None, 64)                8256      \n",
            "                                                                 \n",
            "=================================================================\n",
            "Total params: 242,112\n",
            "Trainable params: 242,112\n",
            "Non-trainable params: 0\n",
            "_________________________________________________________________\n",
            "Model: \"Decoder\"\n",
            "_________________________________________________________________\n",
            " Layer (type)                Output Shape              Param #   \n",
            "=================================================================\n",
            " input_2 (InputLayer)        [(None, 64)]              0         \n",
            "                                                                 \n",
            " dense_3 (Dense)             (None, 128)               8320      \n",
            "                                                                 \n",
            " dense_4 (Dense)             (None, 256)               33024     \n",
            "                                                                 \n",
            " dense_5 (Dense)             (None, 784)               201488    \n",
            "                                                                 \n",
            " reshape (Reshape)           (None, 28, 28)            0         \n",
            "                                                                 \n",
            "=================================================================\n",
            "Total params: 242,832\n",
            "Trainable params: 242,832\n",
            "Non-trainable params: 0\n",
            "_________________________________________________________________\n",
            "Model: \"AutoEncoder\"\n",
            "_________________________________________________________________\n",
            " Layer (type)                Output Shape              Param #   \n",
            "=================================================================\n",
            " input_1 (InputLayer)        [(None, 28, 28)]          0         \n",
            "                                                                 \n",
            " Encoder (Functional)        (None, 64)                242112    \n",
            "                                                                 \n",
            " Decoder (Functional)        (None, 28, 28)            242832    \n",
            "                                                                 \n",
            "=================================================================\n",
            "Total params: 484,944\n",
            "Trainable params: 484,944\n",
            "Non-trainable params: 0\n",
            "_________________________________________________________________\n",
            "Model: \"Classifer\"\n",
            "_________________________________________________________________\n",
            " Layer (type)                Output Shape              Param #   \n",
            "=================================================================\n",
            " input_1 (InputLayer)        [(None, 28, 28)]          0         \n",
            "                                                                 \n",
            " flatten (Flatten)           (None, 784)               0         \n",
            "                                                                 \n",
            " dense (Dense)               (None, 256)               200960    \n",
            "                                                                 \n",
            " dense_1 (Dense)             (None, 128)               32896     \n",
            "                                                                 \n",
            " dense_2 (Dense)             (None, 64)                8256      \n",
            "                                                                 \n",
            " dense_6 (Dense)             (None, 512)               33280     \n",
            "                                                                 \n",
            " dense_7 (Dense)             (None, 256)               131328    \n",
            "                                                                 \n",
            " dense_8 (Dense)             (None, 10)                2570      \n",
            "                                                                 \n",
            "=================================================================\n",
            "Total params: 409,290\n",
            "Trainable params: 409,290\n",
            "Non-trainable params: 0\n",
            "_________________________________________________________________\n",
            "Model: \"Classifer2\"\n",
            "_________________________________________________________________\n",
            " Layer (type)                Output Shape              Param #   \n",
            "=================================================================\n",
            " input_1 (InputLayer)        [(None, 28, 28)]          0         \n",
            "                                                                 \n",
            " flatten (Flatten)           (None, 784)               0         \n",
            "                                                                 \n",
            " dense (Dense)               (None, 256)               200960    \n",
            "                                                                 \n",
            " dense_1 (Dense)             (None, 128)               32896     \n",
            "                                                                 \n",
            " dense_2 (Dense)             (None, 64)                8256      \n",
            "                                                                 \n",
            " dense_6 (Dense)             (None, 512)               33280     \n",
            "                                                                 \n",
            " dense_7 (Dense)             (None, 256)               131328    \n",
            "                                                                 \n",
            " dense_14 (Dense)            (None, 10)                2570      \n",
            "                                                                 \n",
            "=================================================================\n",
            "Total params: 409,290\n",
            "Trainable params: 409,290\n",
            "Non-trainable params: 0\n",
            "_________________________________________________________________\n"
          ]
        }
      ]
    },
    {
      "cell_type": "markdown",
      "source": [
        "## Model Training"
      ],
      "metadata": {
        "id": "KZAjfgmiySvR"
      }
    },
    {
      "cell_type": "code",
      "source": [
        "autoencoder.compile(optimizer='adam', loss=losses.MeanSquaredError())"
      ],
      "metadata": {
        "id": "9Nk7Gl7AhEn9"
      },
      "execution_count": 10,
      "outputs": []
    },
    {
      "cell_type": "code",
      "source": [
        "autoencoder.fit(auto_train_data,\n",
        "                epochs=10)"
      ],
      "metadata": {
        "colab": {
          "base_uri": "https://localhost:8080/"
        },
        "id": "KMU9DRhkhFrX",
        "outputId": "b956592a-0147-4b9f-8f83-cf8405cfcf6e"
      },
      "execution_count": 11,
      "outputs": [
        {
          "output_type": "stream",
          "name": "stdout",
          "text": [
            "Epoch 1/10\n",
            "118/118 [==============================] - 3s 6ms/step - loss: 0.0457\n",
            "Epoch 2/10\n",
            "118/118 [==============================] - 1s 5ms/step - loss: 0.0200\n",
            "Epoch 3/10\n",
            "118/118 [==============================] - 1s 5ms/step - loss: 0.0164\n",
            "Epoch 4/10\n",
            "118/118 [==============================] - 1s 5ms/step - loss: 0.0144\n",
            "Epoch 5/10\n",
            "118/118 [==============================] - 1s 5ms/step - loss: 0.0131\n",
            "Epoch 6/10\n",
            "118/118 [==============================] - 1s 5ms/step - loss: 0.0123\n",
            "Epoch 7/10\n",
            "118/118 [==============================] - 1s 6ms/step - loss: 0.0116\n",
            "Epoch 8/10\n",
            "118/118 [==============================] - 1s 6ms/step - loss: 0.0112\n",
            "Epoch 9/10\n",
            "118/118 [==============================] - 1s 6ms/step - loss: 0.0108\n",
            "Epoch 10/10\n",
            "118/118 [==============================] - 1s 6ms/step - loss: 0.0104\n"
          ]
        },
        {
          "output_type": "execute_result",
          "data": {
            "text/plain": [
              "<keras.callbacks.History at 0x7f2c1224abd0>"
            ]
          },
          "metadata": {},
          "execution_count": 11
        }
      ]
    },
    {
      "cell_type": "markdown",
      "source": [
        "## Model Testing"
      ],
      "metadata": {
        "id": "A_dMGIybypDs"
      }
    },
    {
      "cell_type": "code",
      "source": [
        "autoencoder.evaluate(auto_test_data)"
      ],
      "metadata": {
        "colab": {
          "base_uri": "https://localhost:8080/"
        },
        "id": "xPfl82xLybGx",
        "outputId": "815131d5-0699-4429-a99e-55b9dae047e0"
      },
      "execution_count": 12,
      "outputs": [
        {
          "output_type": "stream",
          "name": "stdout",
          "text": [
            "100/100 [==============================] - 0s 2ms/step - loss: 0.0104\n"
          ]
        },
        {
          "output_type": "execute_result",
          "data": {
            "text/plain": [
              "0.010365966707468033"
            ]
          },
          "metadata": {},
          "execution_count": 12
        }
      ]
    },
    {
      "cell_type": "code",
      "source": [
        "encoded_imgs = encoder(x_test).numpy()\n",
        "decoded_imgs = decoder(encoded_imgs).numpy()"
      ],
      "metadata": {
        "id": "JJnzGa4nqHOP"
      },
      "execution_count": 13,
      "outputs": []
    },
    {
      "cell_type": "code",
      "source": [
        "n = 10\n",
        "plt.figure(figsize=(20, 4))\n",
        "for i in range(n):\n",
        "  # display original\n",
        "  ax = plt.subplot(2, n, i + 1)\n",
        "  plt.imshow(x_test[i])\n",
        "  plt.title(\"original\")\n",
        "  plt.gray()\n",
        "  ax.get_xaxis().set_visible(False)\n",
        "  ax.get_yaxis().set_visible(False)\n",
        "\n",
        "  # display reconstruction\n",
        "  ax = plt.subplot(2, n, i + 1 + n)\n",
        "  plt.imshow(decoded_imgs[i])\n",
        "  plt.title(\"reconstructed\")\n",
        "  plt.gray()\n",
        "  ax.get_xaxis().set_visible(False)\n",
        "  ax.get_yaxis().set_visible(False)\n",
        "plt.show()"
      ],
      "metadata": {
        "colab": {
          "base_uri": "https://localhost:8080/",
          "height": 0
        },
        "id": "bNz7aTsEqPP9",
        "outputId": "9b6000b6-4907-47cd-fdcc-e44e38ffb5a7"
      },
      "execution_count": 14,
      "outputs": [
        {
          "output_type": "display_data",
          "data": {
            "image/png": "[encoded data removed]",
            "text/plain": [
              "<Figure size 1440x288 with 20 Axes>"
            ]
          },
          "metadata": {
            "needs_background": "light"
          }
        }
      ]
    },
    {
      "cell_type": "markdown",
      "source": [
        "## Transfer Learning on 1000 samples"
      ],
      "metadata": {
        "id": "XdW8YJYCywqV"
      }
    },
    {
      "cell_type": "code",
      "source": [
        "encoder.trainable = False  # Freeze the encoder!\n",
        "print(\"ENCODER\")  # no more trainable variables\n",
        "print(encoder.trainable_variables)"
      ],
      "metadata": {
        "colab": {
          "base_uri": "https://localhost:8080/"
        },
        "id": "O8fTOPJ3y6hf",
        "outputId": "d2a883b1-e472-4d7f-af3d-b7800e935a7a"
      },
      "execution_count": 15,
      "outputs": [
        {
          "output_type": "stream",
          "name": "stdout",
          "text": [
            "ENCODER\n",
            "[]\n"
          ]
        }
      ]
    },
    {
      "cell_type": "code",
      "source": [
        "classifier.compile( optimizer=tf.optimizers.Adam(), \n",
        "                    loss = tf.losses.SparseCategoricalCrossentropy(from_logits=True),\n",
        "                    metrics   = tf.metrics.SparseCategoricalAccuracy(),)"
      ],
      "metadata": {
        "id": "5kTXnm3s4HHT"
      },
      "execution_count": 16,
      "outputs": []
    },
    {
      "cell_type": "code",
      "source": [
        "classifier.summary()"
      ],
      "metadata": {
        "colab": {
          "base_uri": "https://localhost:8080/"
        },
        "id": "Rt08rXTV4_yf",
        "outputId": "b2db2fef-9ffa-446f-85c6-c0e3eaa9d75f"
      },
      "execution_count": 17,
      "outputs": [
        {
          "output_type": "stream",
          "name": "stdout",
          "text": [
            "Model: \"Classifer\"\n",
            "_________________________________________________________________\n",
            " Layer (type)                Output Shape              Param #   \n",
            "=================================================================\n",
            " input_1 (InputLayer)        [(None, 28, 28)]          0         \n",
            "                                                                 \n",
            " flatten (Flatten)           (None, 784)               0         \n",
            "                                                                 \n",
            " dense (Dense)               (None, 256)               200960    \n",
            "                                                                 \n",
            " dense_1 (Dense)             (None, 128)               32896     \n",
            "                                                                 \n",
            " dense_2 (Dense)             (None, 64)                8256      \n",
            "                                                                 \n",
            " dense_6 (Dense)             (None, 512)               33280     \n",
            "                                                                 \n",
            " dense_7 (Dense)             (None, 256)               131328    \n",
            "                                                                 \n",
            " dense_8 (Dense)             (None, 10)                2570      \n",
            "                                                                 \n",
            "=================================================================\n",
            "Total params: 409,290\n",
            "Trainable params: 167,178\n",
            "Non-trainable params: 242,112\n",
            "_________________________________________________________________\n"
          ]
        }
      ]
    },
    {
      "cell_type": "code",
      "source": [
        "classifier.fit(train_subset_data,\n",
        "               epochs=10)"
      ],
      "metadata": {
        "colab": {
          "base_uri": "https://localhost:8080/"
        },
        "id": "5YN1RXT73y5b",
        "outputId": "e47376fe-d021-42fb-c776-ddb5c9156b9a"
      },
      "execution_count": 18,
      "outputs": [
        {
          "output_type": "stream",
          "name": "stdout",
          "text": [
            "Epoch 1/10\n",
            "10/10 [==============================] - 0s 2ms/step - loss: 1.1878 - sparse_categorical_accuracy: 0.6060\n",
            "Epoch 2/10\n",
            "10/10 [==============================] - 0s 2ms/step - loss: 0.5846 - sparse_categorical_accuracy: 0.8120\n",
            "Epoch 3/10\n",
            "10/10 [==============================] - 0s 2ms/step - loss: 0.5284 - sparse_categorical_accuracy: 0.8180\n",
            "Epoch 4/10\n",
            "10/10 [==============================] - 0s 2ms/step - loss: 0.5118 - sparse_categorical_accuracy: 0.8170\n",
            "Epoch 5/10\n",
            "10/10 [==============================] - 0s 2ms/step - loss: 0.4818 - sparse_categorical_accuracy: 0.8430\n",
            "Epoch 6/10\n",
            "10/10 [==============================] - 0s 2ms/step - loss: 0.4142 - sparse_categorical_accuracy: 0.8520\n",
            "Epoch 7/10\n",
            "10/10 [==============================] - 0s 3ms/step - loss: 0.3954 - sparse_categorical_accuracy: 0.8620\n",
            "Epoch 8/10\n",
            "10/10 [==============================] - 0s 2ms/step - loss: 0.3675 - sparse_categorical_accuracy: 0.8770\n",
            "Epoch 9/10\n",
            "10/10 [==============================] - 0s 2ms/step - loss: 0.3315 - sparse_categorical_accuracy: 0.8850\n",
            "Epoch 10/10\n",
            "10/10 [==============================] - 0s 2ms/step - loss: 0.3501 - sparse_categorical_accuracy: 0.8710\n"
          ]
        },
        {
          "output_type": "execute_result",
          "data": {
            "text/plain": [
              "<keras.callbacks.History at 0x7f2bfa2295d0>"
            ]
          },
          "metadata": {},
          "execution_count": 18
        }
      ]
    },
    {
      "cell_type": "markdown",
      "source": [
        "### Test Accuracy"
      ],
      "metadata": {
        "id": "aFW_qSiG8kIh"
      }
    },
    {
      "cell_type": "code",
      "source": [
        "classifier.evaluate(test_data)"
      ],
      "metadata": {
        "colab": {
          "base_uri": "https://localhost:8080/"
        },
        "id": "EEufwcxq7_xx",
        "outputId": "8eed3df3-0c89-4cd1-b5b1-a4d17eb2917c"
      },
      "execution_count": 19,
      "outputs": [
        {
          "output_type": "stream",
          "name": "stdout",
          "text": [
            "100/100 [==============================] - 0s 2ms/step - loss: 0.7607 - sparse_categorical_accuracy: 0.7648\n"
          ]
        },
        {
          "output_type": "execute_result",
          "data": {
            "text/plain": [
              "[0.7607427835464478, 0.7648000121116638]"
            ]
          },
          "metadata": {},
          "execution_count": 19
        }
      ]
    },
    {
      "cell_type": "markdown",
      "source": [
        "## Classifier 2"
      ],
      "metadata": {
        "id": "SJpE9EOEFNVG"
      }
    },
    {
      "cell_type": "code",
      "source": [
        "classifier2.compile( optimizer=tf.optimizers.Adam(), \n",
        "                    loss = tf.losses.SparseCategoricalCrossentropy(from_logits=True),\n",
        "                    metrics   = tf.metrics.SparseCategoricalAccuracy(),)"
      ],
      "metadata": {
        "id": "gvhaombDFQ1A"
      },
      "execution_count": 20,
      "outputs": []
    },
    {
      "cell_type": "code",
      "source": [
        "classifier2.fit(train_data,\n",
        "               epochs=10)"
      ],
      "metadata": {
        "colab": {
          "base_uri": "https://localhost:8080/"
        },
        "id": "8QM9x6YSFUQD",
        "outputId": "e3e68250-a1bf-4f71-e3d4-4c187dffbd18"
      },
      "execution_count": 21,
      "outputs": [
        {
          "output_type": "stream",
          "name": "stdout",
          "text": [
            "Epoch 1/10\n",
            "118/118 [==============================] - 1s 4ms/step - loss: 0.5850 - sparse_categorical_accuracy: 0.7974\n",
            "Epoch 2/10\n",
            "118/118 [==============================] - 0s 3ms/step - loss: 0.5055 - sparse_categorical_accuracy: 0.8216\n",
            "Epoch 3/10\n",
            "118/118 [==============================] - 0s 4ms/step - loss: 0.5001 - sparse_categorical_accuracy: 0.8227\n",
            "Epoch 4/10\n",
            "118/118 [==============================] - 0s 4ms/step - loss: 0.4960 - sparse_categorical_accuracy: 0.8249\n",
            "Epoch 5/10\n",
            "118/118 [==============================] - 0s 3ms/step - loss: 0.4888 - sparse_categorical_accuracy: 0.8274\n",
            "Epoch 6/10\n",
            "118/118 [==============================] - 0s 3ms/step - loss: 0.4877 - sparse_categorical_accuracy: 0.8282\n",
            "Epoch 7/10\n",
            "118/118 [==============================] - 0s 3ms/step - loss: 0.4864 - sparse_categorical_accuracy: 0.8282\n",
            "Epoch 8/10\n",
            "118/118 [==============================] - 0s 3ms/step - loss: 0.4824 - sparse_categorical_accuracy: 0.8300\n",
            "Epoch 9/10\n",
            "118/118 [==============================] - 0s 3ms/step - loss: 0.4815 - sparse_categorical_accuracy: 0.8318\n",
            "Epoch 10/10\n",
            "118/118 [==============================] - 0s 3ms/step - loss: 0.4827 - sparse_categorical_accuracy: 0.8297\n"
          ]
        },
        {
          "output_type": "execute_result",
          "data": {
            "text/plain": [
              "<keras.callbacks.History at 0x7f2bfa08fb50>"
            ]
          },
          "metadata": {},
          "execution_count": 21
        }
      ]
    },
    {
      "cell_type": "code",
      "source": [
        "classifier2.evaluate(test_data)"
      ],
      "metadata": {
        "colab": {
          "base_uri": "https://localhost:8080/"
        },
        "id": "SsveLwPMFXCD",
        "outputId": "90459687-8b17-44c0-8d51-51db7f4fc34a"
      },
      "execution_count": 22,
      "outputs": [
        {
          "output_type": "stream",
          "name": "stdout",
          "text": [
            "100/100 [==============================] - 0s 2ms/step - loss: 0.5114 - sparse_categorical_accuracy: 0.8209\n"
          ]
        },
        {
          "output_type": "execute_result",
          "data": {
            "text/plain": [
              "[0.5113542079925537, 0.820900022983551]"
            ]
          },
          "metadata": {},
          "execution_count": 22
        }
      ]
    },
    {
      "cell_type": "markdown",
      "source": [
        "## Classifier 3\n",
        "\n",
        "Pre-training for low supervision scenarios"
      ],
      "metadata": {
        "id": "YPl8xfUHzePR"
      }
    },
    {
      "cell_type": "code",
      "source": [
        "classifier3.compile( optimizer=tf.optimizers.Adam(), \n",
        "                    loss = tf.losses.SparseCategoricalCrossentropy(from_logits=True),\n",
        "                    metrics   = tf.metrics.SparseCategoricalAccuracy(),)"
      ],
      "metadata": {
        "id": "AhIFEwJRzePf"
      },
      "execution_count": 23,
      "outputs": []
    },
    {
      "cell_type": "code",
      "source": [
        "classifier3.fit(train_subset_data,\n",
        "               epochs=10)"
      ],
      "metadata": {
        "colab": {
          "base_uri": "https://localhost:8080/"
        },
        "outputId": "d206e641-6a36-494a-80a7-1d722ad52fcd",
        "id": "4F9J7I4XzePf"
      },
      "execution_count": 24,
      "outputs": [
        {
          "output_type": "stream",
          "name": "stdout",
          "text": [
            "Epoch 1/10\n",
            "10/10 [==============================] - 0s 2ms/step - loss: 0.4787 - sparse_categorical_accuracy: 0.8440\n",
            "Epoch 2/10\n",
            "10/10 [==============================] - 0s 2ms/step - loss: 0.3796 - sparse_categorical_accuracy: 0.8590\n",
            "Epoch 3/10\n",
            "10/10 [==============================] - 0s 2ms/step - loss: 0.3329 - sparse_categorical_accuracy: 0.8830\n",
            "Epoch 4/10\n",
            "10/10 [==============================] - 0s 2ms/step - loss: 0.3136 - sparse_categorical_accuracy: 0.8910\n",
            "Epoch 5/10\n",
            "10/10 [==============================] - 0s 2ms/step - loss: 0.3273 - sparse_categorical_accuracy: 0.8790\n",
            "Epoch 6/10\n",
            "10/10 [==============================] - 0s 2ms/step - loss: 0.3025 - sparse_categorical_accuracy: 0.8900\n",
            "Epoch 7/10\n",
            "10/10 [==============================] - 0s 2ms/step - loss: 0.2911 - sparse_categorical_accuracy: 0.8960\n",
            "Epoch 8/10\n",
            "10/10 [==============================] - 0s 2ms/step - loss: 0.2787 - sparse_categorical_accuracy: 0.9020\n",
            "Epoch 9/10\n",
            "10/10 [==============================] - 0s 3ms/step - loss: 0.2905 - sparse_categorical_accuracy: 0.8910\n",
            "Epoch 10/10\n",
            "10/10 [==============================] - 0s 2ms/step - loss: 0.2820 - sparse_categorical_accuracy: 0.8930\n"
          ]
        },
        {
          "output_type": "execute_result",
          "data": {
            "text/plain": [
              "<keras.callbacks.History at 0x7f2af92c1fd0>"
            ]
          },
          "metadata": {},
          "execution_count": 24
        }
      ]
    },
    {
      "cell_type": "code",
      "source": [
        "classifier3.evaluate(test_data)"
      ],
      "metadata": {
        "colab": {
          "base_uri": "https://localhost:8080/"
        },
        "outputId": "6e081bc4-0180-45fe-a748-ba781d4cc15c",
        "id": "yFjvUmvJzePg"
      },
      "execution_count": 25,
      "outputs": [
        {
          "output_type": "stream",
          "name": "stdout",
          "text": [
            "100/100 [==============================] - 0s 2ms/step - loss: 0.7562 - sparse_categorical_accuracy: 0.7785\n"
          ]
        },
        {
          "output_type": "execute_result",
          "data": {
            "text/plain": [
              "[0.7562354207038879, 0.7785000205039978]"
            ]
          },
          "metadata": {},
          "execution_count": 25
        }
      ]
    },
    {
      "cell_type": "markdown",
      "source": [
        "# Model2\n",
        "\n",
        "Summary:\n",
        "\n",
        "\n",
        "\n",
        "*   Built an auto-Encoder with Encoder, Decoder Architecture.\n",
        "*   This model will try to make input images to lower space and again try to \n",
        "reconstruct from the bottleneck.\n",
        "* All the model layers are CNN's.\n",
        "*   Classifier - 1\n",
        "  - Trained Encoder Model with additional classification layers.\n",
        "  - Trained on sub-set data which is 1000 samples.\n",
        "  - Training Accuracy is 83.1%\n",
        "  - Test Accuracy is 75.65%\n",
        "*   Classifier - 2\n",
        "  - Created an Entire Architecture like the above classifier with encoder + additional classification layers.\n",
        "  - But here the encoder is not pre-trained(from AutoEncoder) or freezed.\n",
        "  - Entire training data has been used.\n",
        "  - Training Accuracy is 83.75%\n",
        "  - Test Accuracy is 82.91%"
      ],
      "metadata": {
        "id": "NriiUFhNFqar"
      }
    },
    {
      "cell_type": "markdown",
      "source": [
        "## Definition"
      ],
      "metadata": {
        "id": "La6ynEjAFqbB"
      }
    },
    {
      "cell_type": "code",
      "source": [
        "bottleNeck = (4, 4, 16)\n",
        "input_shape = (28, 28, 1)\n",
        "\n",
        "#Encoder\n",
        "image_input = tf.keras.Input(input_shape)\n",
        "m2_enc_Layer1 = tf.keras.layers.Conv2D(16, kernel_size=(3, 3), activation=\"relu\", padding='same', strides=2)(image_input)\n",
        "m2_encoding = tf.keras.layers.Conv2D(8, kernel_size=(3, 3), activation=\"relu\", padding='same', strides=2)(m2_enc_Layer1)\n",
        "m2_encoder = tf.keras.Model(image_input, m2_encoding, name=\"Encoder2\")\n",
        "\n",
        "#Decoder\n",
        "m2_dec_Layer1 = tf.keras.layers.Conv2DTranspose(8, kernel_size=3, strides=2, activation='relu', padding='same')(m2_encoding)\n",
        "m2_dec_Layer2 = tf.keras.layers.Conv2DTranspose(16, kernel_size=3, strides=2, activation='relu', padding='same')(m2_dec_Layer1)\n",
        "m2_decoding = layers.Conv2D(1, kernel_size=(3, 3), activation='sigmoid', padding='same')(m2_dec_Layer2)\n",
        "m2_decoder = tf.keras.Model(m2_encoding, m2_decoding, name=\"Decoder2\")\n",
        "\n",
        "#Auto-Encoder\n",
        "m2_autoencoder = tf.keras.Model(image_input, m2_decoder(m2_encoder(image_input)), name=\"AutoEncoder2\")\n",
        "\n",
        "# Extended Model Head for Classification\n",
        "m2_flatten = tf.keras.layers.Flatten()(m2_encoding)\n",
        "m2_layer1 =  tf.keras.layers.Dense(512)(m2_flatten)\n",
        "m2_layer2 =  tf.keras.layers.Dense(256)(m2_layer1)\n",
        "\n",
        "m2_logits = tf.keras.layers.Dense(10)(m2_layer2)\n",
        "\n",
        "m2_classifier = tf.keras.Model(image_input, m2_logits, name=\"ClassiferV21\")\n",
        "\n",
        "\n",
        "#Classifier 2\n",
        "m2_c2_inp = tf.keras.Input(input_shape)\n",
        "m2_c2_layer1 = tf.keras.layers.Conv2D(16, kernel_size=(3, 3), activation=\"relu\", padding='same', strides=2)(m2_c2_inp)\n",
        "m2_c2_layer2 = tf.keras.layers.Conv2D(8, kernel_size=(3, 3), activation=\"relu\", padding='same', strides=2)(m2_c2_layer1)\n",
        "m2_c2_flatten = tf.keras.layers.Flatten()(m2_c2_layer2)\n",
        "m2_c2_layer4 =  tf.keras.layers.Dense(512)(m2_c2_flatten)\n",
        "m2_c2_layer5 =  tf.keras.layers.Dense(256)(m2_c2_layer4)\n",
        "m2_c2_logits = tf.keras.layers.Dense(10)(m2_layer2)\n",
        "m2_classifier2 = tf.keras.Model(image_input, m2_c2_logits, name=\"ClassiferV22\")\n"
      ],
      "metadata": {
        "id": "UnkDBSe_FqbC"
      },
      "execution_count": null,
      "outputs": []
    },
    {
      "cell_type": "markdown",
      "source": [
        "## Model Summary"
      ],
      "metadata": {
        "id": "rAUn3zPxFqbD"
      }
    },
    {
      "cell_type": "code",
      "source": [
        "m2_encoder.summary()\n",
        "m2_decoder.summary()\n",
        "m2_autoencoder.summary()\n",
        "m2_classifier.summary()\n",
        "m2_classifier2.summary()"
      ],
      "metadata": {
        "colab": {
          "base_uri": "https://localhost:8080/"
        },
        "outputId": "f0e2ee71-44ef-4a80-b326-36eada778912",
        "id": "-31O2s1JFqbD"
      },
      "execution_count": null,
      "outputs": [
        {
          "output_type": "stream",
          "name": "stdout",
          "text": [
            "Model: \"Encoder2\"\n",
            "_________________________________________________________________\n",
            " Layer (type)                Output Shape              Param #   \n",
            "=================================================================\n",
            " input_3 (InputLayer)        [(None, 28, 28, 1)]       0         \n",
            "                                                                 \n",
            " conv2d (Conv2D)             (None, 14, 14, 16)        160       \n",
            "                                                                 \n",
            " conv2d_1 (Conv2D)           (None, 7, 7, 8)           1160      \n",
            "                                                                 \n",
            "=================================================================\n",
            "Total params: 1,320\n",
            "Trainable params: 1,320\n",
            "Non-trainable params: 0\n",
            "_________________________________________________________________\n",
            "Model: \"Decoder2\"\n",
            "_________________________________________________________________\n",
            " Layer (type)                Output Shape              Param #   \n",
            "=================================================================\n",
            " input_4 (InputLayer)        [(None, 7, 7, 8)]         0         \n",
            "                                                                 \n",
            " conv2d_transpose (Conv2DTra  (None, 14, 14, 8)        584       \n",
            " nspose)                                                         \n",
            "                                                                 \n",
            " conv2d_transpose_1 (Conv2DT  (None, 28, 28, 16)       1168      \n",
            " ranspose)                                                       \n",
            "                                                                 \n",
            " conv2d_2 (Conv2D)           (None, 28, 28, 1)         145       \n",
            "                                                                 \n",
            "=================================================================\n",
            "Total params: 1,897\n",
            "Trainable params: 1,897\n",
            "Non-trainable params: 0\n",
            "_________________________________________________________________\n",
            "Model: \"AutoEncoder2\"\n",
            "_________________________________________________________________\n",
            " Layer (type)                Output Shape              Param #   \n",
            "=================================================================\n",
            " input_3 (InputLayer)        [(None, 28, 28, 1)]       0         \n",
            "                                                                 \n",
            " Encoder2 (Functional)       (None, 7, 7, 8)           1320      \n",
            "                                                                 \n",
            " Decoder2 (Functional)       (None, 28, 28, 1)         1897      \n",
            "                                                                 \n",
            "=================================================================\n",
            "Total params: 3,217\n",
            "Trainable params: 3,217\n",
            "Non-trainable params: 0\n",
            "_________________________________________________________________\n",
            "Model: \"ClassiferV21\"\n",
            "_________________________________________________________________\n",
            " Layer (type)                Output Shape              Param #   \n",
            "=================================================================\n",
            " input_3 (InputLayer)        [(None, 28, 28, 1)]       0         \n",
            "                                                                 \n",
            " conv2d (Conv2D)             (None, 14, 14, 16)        160       \n",
            "                                                                 \n",
            " conv2d_1 (Conv2D)           (None, 7, 7, 8)           1160      \n",
            "                                                                 \n",
            " flatten_2 (Flatten)         (None, 392)               0         \n",
            "                                                                 \n",
            " dense_15 (Dense)            (None, 512)               201216    \n",
            "                                                                 \n",
            " dense_16 (Dense)            (None, 256)               131328    \n",
            "                                                                 \n",
            " dense_17 (Dense)            (None, 10)                2570      \n",
            "                                                                 \n",
            "=================================================================\n",
            "Total params: 336,434\n",
            "Trainable params: 336,434\n",
            "Non-trainable params: 0\n",
            "_________________________________________________________________\n",
            "Model: \"ClassiferV22\"\n",
            "_________________________________________________________________\n",
            " Layer (type)                Output Shape              Param #   \n",
            "=================================================================\n",
            " input_3 (InputLayer)        [(None, 28, 28, 1)]       0         \n",
            "                                                                 \n",
            " conv2d (Conv2D)             (None, 14, 14, 16)        160       \n",
            "                                                                 \n",
            " conv2d_1 (Conv2D)           (None, 7, 7, 8)           1160      \n",
            "                                                                 \n",
            " flatten_2 (Flatten)         (None, 392)               0         \n",
            "                                                                 \n",
            " dense_15 (Dense)            (None, 512)               201216    \n",
            "                                                                 \n",
            " dense_16 (Dense)            (None, 256)               131328    \n",
            "                                                                 \n",
            " dense_20 (Dense)            (None, 10)                2570      \n",
            "                                                                 \n",
            "=================================================================\n",
            "Total params: 336,434\n",
            "Trainable params: 336,434\n",
            "Non-trainable params: 0\n",
            "_________________________________________________________________\n"
          ]
        }
      ]
    },
    {
      "cell_type": "markdown",
      "source": [
        "## Model Training"
      ],
      "metadata": {
        "id": "r7FgmoYLFqbE"
      }
    },
    {
      "cell_type": "code",
      "source": [
        "m2_autoencoder.compile(optimizer='adam', loss=losses.MeanSquaredError())"
      ],
      "metadata": {
        "id": "1ULJy-DeFqbF"
      },
      "execution_count": null,
      "outputs": []
    },
    {
      "cell_type": "code",
      "source": [
        "m2_autoencoder.fit(auto2_train_data,\n",
        "                epochs=10)"
      ],
      "metadata": {
        "colab": {
          "base_uri": "https://localhost:8080/"
        },
        "outputId": "fe8fee98-be8f-4cc9-9b2b-283e40e32d66",
        "id": "mR9BzFMFFqbF"
      },
      "execution_count": null,
      "outputs": [
        {
          "output_type": "stream",
          "name": "stdout",
          "text": [
            "Epoch 1/10\n",
            "118/118 [==============================] - 9s 13ms/step - loss: 0.0962\n",
            "Epoch 2/10\n",
            "118/118 [==============================] - 2s 13ms/step - loss: 0.0268\n",
            "Epoch 3/10\n",
            "118/118 [==============================] - 2s 12ms/step - loss: 0.0156\n",
            "Epoch 4/10\n",
            "118/118 [==============================] - 1s 10ms/step - loss: 0.0136\n",
            "Epoch 5/10\n",
            "118/118 [==============================] - 1s 10ms/step - loss: 0.0126\n",
            "Epoch 6/10\n",
            "118/118 [==============================] - 1s 10ms/step - loss: 0.0119\n",
            "Epoch 7/10\n",
            "118/118 [==============================] - 1s 10ms/step - loss: 0.0114\n",
            "Epoch 8/10\n",
            "118/118 [==============================] - 1s 10ms/step - loss: 0.0109\n",
            "Epoch 9/10\n",
            "118/118 [==============================] - 1s 10ms/step - loss: 0.0105\n",
            "Epoch 10/10\n",
            "118/118 [==============================] - 1s 10ms/step - loss: 0.0103\n"
          ]
        },
        {
          "output_type": "execute_result",
          "data": {
            "text/plain": [
              "<keras.callbacks.History at 0x7f23bf554050>"
            ]
          },
          "metadata": {},
          "execution_count": 23
        }
      ]
    },
    {
      "cell_type": "markdown",
      "source": [
        "## Model Testing"
      ],
      "metadata": {
        "id": "9U5w1A4KFqbG"
      }
    },
    {
      "cell_type": "code",
      "source": [
        "m2_autoencoder.evaluate(auto2_test_data)"
      ],
      "metadata": {
        "colab": {
          "base_uri": "https://localhost:8080/"
        },
        "outputId": "c87081d3-34b5-4507-99ed-2e23271bdba7",
        "id": "u8GmmBt9FqbH"
      },
      "execution_count": null,
      "outputs": [
        {
          "output_type": "stream",
          "name": "stdout",
          "text": [
            "100/100 [==============================] - 0s 3ms/step - loss: 0.0103\n"
          ]
        },
        {
          "output_type": "execute_result",
          "data": {
            "text/plain": [
              "0.010326802730560303"
            ]
          },
          "metadata": {},
          "execution_count": 24
        }
      ]
    },
    {
      "cell_type": "code",
      "source": [
        "m2_encoded_imgs = m2_encoder(x_test_noisy).numpy()\n",
        "m2_decoded_imgs = m2_decoder(m2_encoded_imgs).numpy()"
      ],
      "metadata": {
        "id": "DtOSQ2A2FqbH"
      },
      "execution_count": null,
      "outputs": []
    },
    {
      "cell_type": "code",
      "source": [
        "n = 5\n",
        "plt.figure(figsize=(30, 6))\n",
        "for i in range(n):\n",
        "  # display original\n",
        "  ax = plt.subplot(3, n, i + 1)\n",
        "  plt.imshow(x_test[i])\n",
        "  plt.title(\"original\")\n",
        "  plt.gray()\n",
        "  ax.get_xaxis().set_visible(False)\n",
        "  ax.get_yaxis().set_visible(False)\n",
        "\n",
        "  # display noisy\n",
        "  ax = plt.subplot(3, n, i + 1 + n)\n",
        "  plt.imshow(x_test_noisy[i])\n",
        "  plt.title(\"noisy\")\n",
        "  plt.gray()\n",
        "  ax.get_xaxis().set_visible(False)\n",
        "  ax.get_yaxis().set_visible(False)\n",
        "\n",
        "  # display reconstruction\n",
        "  ax = plt.subplot(3, n, i + 1 + n + n)\n",
        "  m2_dec = np.squeeze(m2_decoded_imgs[i], axis=-1)\n",
        "  plt.imshow(m2_dec)\n",
        "  plt.title(\"reconstructed\")\n",
        "  plt.gray()\n",
        "  ax.get_xaxis().set_visible(False)\n",
        "  ax.get_yaxis().set_visible(False)\n",
        "plt.show()"
      ],
      "metadata": {
        "colab": {
          "base_uri": "https://localhost:8080/",
          "height": 377
        },
        "outputId": "096b3d93-acf6-4f58-fa4b-f49039c95f8d",
        "id": "8d0p4U2zFqbI"
      },
      "execution_count": null,
      "outputs": [
        {
          "output_type": "display_data",
          "data": {
            "image/png": "[encoded data removed]",
            "text/plain": [
              "<Figure size 2160x432 with 15 Axes>"
            ]
          },
          "metadata": {
            "needs_background": "light"
          }
        }
      ]
    },
    {
      "cell_type": "markdown",
      "source": [
        "## Transfer Learning on 1000 samples"
      ],
      "metadata": {
        "id": "WsIXSYa6FqbJ"
      }
    },
    {
      "cell_type": "code",
      "source": [
        "m2_encoder.trainable = False  # Freeze the encoder!\n",
        "print(\"ENCODER\")  # no more trainable variables\n",
        "print(m2_encoder.trainable_variables)"
      ],
      "metadata": {
        "colab": {
          "base_uri": "https://localhost:8080/"
        },
        "outputId": "ebf43dc9-99a7-4172-b1ac-d4d1c99e2460",
        "id": "ZHa1OQaYFqbJ"
      },
      "execution_count": null,
      "outputs": [
        {
          "output_type": "stream",
          "name": "stdout",
          "text": [
            "ENCODER\n",
            "[]\n"
          ]
        }
      ]
    },
    {
      "cell_type": "code",
      "source": [
        "m2_classifier.compile( optimizer=tf.optimizers.Adam(), \n",
        "                    loss = tf.losses.SparseCategoricalCrossentropy(from_logits=True),\n",
        "                    metrics   = tf.metrics.SparseCategoricalAccuracy(),)"
      ],
      "metadata": {
        "id": "7mJq7qniFqbK"
      },
      "execution_count": null,
      "outputs": []
    },
    {
      "cell_type": "code",
      "source": [
        "m2_classifier.summary()"
      ],
      "metadata": {
        "colab": {
          "base_uri": "https://localhost:8080/"
        },
        "outputId": "5dbb473e-01f3-4af6-e315-d3461f92b394",
        "id": "oGQadrrFFqbL"
      },
      "execution_count": null,
      "outputs": [
        {
          "output_type": "stream",
          "name": "stdout",
          "text": [
            "Model: \"ClassiferV21\"\n",
            "_________________________________________________________________\n",
            " Layer (type)                Output Shape              Param #   \n",
            "=================================================================\n",
            " input_3 (InputLayer)        [(None, 28, 28, 1)]       0         \n",
            "                                                                 \n",
            " conv2d (Conv2D)             (None, 14, 14, 16)        160       \n",
            "                                                                 \n",
            " conv2d_1 (Conv2D)           (None, 7, 7, 8)           1160      \n",
            "                                                                 \n",
            " flatten_2 (Flatten)         (None, 392)               0         \n",
            "                                                                 \n",
            " dense_15 (Dense)            (None, 512)               201216    \n",
            "                                                                 \n",
            " dense_16 (Dense)            (None, 256)               131328    \n",
            "                                                                 \n",
            " dense_17 (Dense)            (None, 10)                2570      \n",
            "                                                                 \n",
            "=================================================================\n",
            "Total params: 336,434\n",
            "Trainable params: 335,114\n",
            "Non-trainable params: 1,320\n",
            "_________________________________________________________________\n"
          ]
        }
      ]
    },
    {
      "cell_type": "code",
      "source": [
        "m2_classifier.fit(train_noisy_subset_data,\n",
        "               epochs=10)"
      ],
      "metadata": {
        "colab": {
          "base_uri": "https://localhost:8080/"
        },
        "outputId": "e0a26e73-0609-4a55-eda0-648a4037c99c",
        "id": "gyjNR0cVFqbM"
      },
      "execution_count": null,
      "outputs": [
        {
          "output_type": "stream",
          "name": "stdout",
          "text": [
            "Epoch 1/10\n",
            "10/10 [==============================] - 0s 3ms/step - loss: 3.5170 - sparse_categorical_accuracy: 0.2990\n",
            "Epoch 2/10\n",
            "10/10 [==============================] - 0s 3ms/step - loss: 1.2072 - sparse_categorical_accuracy: 0.5330\n",
            "Epoch 3/10\n",
            "10/10 [==============================] - 0s 3ms/step - loss: 0.9837 - sparse_categorical_accuracy: 0.6390\n",
            "Epoch 4/10\n",
            "10/10 [==============================] - 0s 2ms/step - loss: 0.7435 - sparse_categorical_accuracy: 0.7080\n",
            "Epoch 5/10\n",
            "10/10 [==============================] - 0s 2ms/step - loss: 0.6729 - sparse_categorical_accuracy: 0.7490\n",
            "Epoch 6/10\n",
            "10/10 [==============================] - 0s 2ms/step - loss: 0.6245 - sparse_categorical_accuracy: 0.7680\n",
            "Epoch 7/10\n",
            "10/10 [==============================] - 0s 2ms/step - loss: 0.5718 - sparse_categorical_accuracy: 0.7870\n",
            "Epoch 8/10\n",
            "10/10 [==============================] - 0s 3ms/step - loss: 0.4949 - sparse_categorical_accuracy: 0.8090\n",
            "Epoch 9/10\n",
            "10/10 [==============================] - 0s 3ms/step - loss: 0.4710 - sparse_categorical_accuracy: 0.8240\n",
            "Epoch 10/10\n",
            "10/10 [==============================] - 0s 3ms/step - loss: 0.4614 - sparse_categorical_accuracy: 0.8310\n"
          ]
        },
        {
          "output_type": "execute_result",
          "data": {
            "text/plain": [
              "<keras.callbacks.History at 0x7f23d65d1d50>"
            ]
          },
          "metadata": {},
          "execution_count": 43
        }
      ]
    },
    {
      "cell_type": "markdown",
      "source": [
        "### Test Accuracy"
      ],
      "metadata": {
        "id": "SH2vWFOzFqbM"
      }
    },
    {
      "cell_type": "code",
      "source": [
        "m2_classifier.evaluate(test_data)"
      ],
      "metadata": {
        "colab": {
          "base_uri": "https://localhost:8080/"
        },
        "outputId": "2760fdb3-3960-4699-be4a-22c3c41980ec",
        "id": "4qksSG_gFqbN"
      },
      "execution_count": null,
      "outputs": [
        {
          "output_type": "stream",
          "name": "stdout",
          "text": [
            "100/100 [==============================] - 0s 2ms/step - loss: 0.7022 - sparse_categorical_accuracy: 0.7565\n"
          ]
        },
        {
          "output_type": "execute_result",
          "data": {
            "text/plain": [
              "[0.7022375464439392, 0.7565000057220459]"
            ]
          },
          "metadata": {},
          "execution_count": 44
        }
      ]
    },
    {
      "cell_type": "markdown",
      "source": [
        "## Classifier 2"
      ],
      "metadata": {
        "id": "ZHggvUCQFqbN"
      }
    },
    {
      "cell_type": "code",
      "source": [
        "m2_classifier2.compile( optimizer=tf.optimizers.Adam(), \n",
        "                    loss = tf.losses.SparseCategoricalCrossentropy(from_logits=True),\n",
        "                    metrics   = tf.metrics.SparseCategoricalAccuracy(),)"
      ],
      "metadata": {
        "id": "w8YI0xW8FqbN"
      },
      "execution_count": null,
      "outputs": []
    },
    {
      "cell_type": "code",
      "source": [
        "m2_classifier2.fit(train_noisy_data,\n",
        "               epochs=10)"
      ],
      "metadata": {
        "colab": {
          "base_uri": "https://localhost:8080/"
        },
        "outputId": "2fb91302-2daa-4bd5-f609-f5483a151413",
        "id": "RVoLpGqUFqbO"
      },
      "execution_count": null,
      "outputs": [
        {
          "output_type": "stream",
          "name": "stdout",
          "text": [
            "Epoch 1/10\n",
            "118/118 [==============================] - 1s 4ms/step - loss: 0.6923 - sparse_categorical_accuracy: 0.7509\n",
            "Epoch 2/10\n",
            "118/118 [==============================] - 1s 4ms/step - loss: 0.4997 - sparse_categorical_accuracy: 0.8170\n",
            "Epoch 3/10\n",
            "118/118 [==============================] - 1s 4ms/step - loss: 0.4798 - sparse_categorical_accuracy: 0.8244\n",
            "Epoch 4/10\n",
            "118/118 [==============================] - 1s 4ms/step - loss: 0.4671 - sparse_categorical_accuracy: 0.8289\n",
            "Epoch 5/10\n",
            "118/118 [==============================] - 1s 4ms/step - loss: 0.4654 - sparse_categorical_accuracy: 0.8312\n",
            "Epoch 6/10\n",
            "118/118 [==============================] - 1s 4ms/step - loss: 0.4601 - sparse_categorical_accuracy: 0.8323\n",
            "Epoch 7/10\n",
            "118/118 [==============================] - 1s 4ms/step - loss: 0.4488 - sparse_categorical_accuracy: 0.8368\n",
            "Epoch 8/10\n",
            "118/118 [==============================] - 1s 4ms/step - loss: 0.4504 - sparse_categorical_accuracy: 0.8371\n",
            "Epoch 9/10\n",
            "118/118 [==============================] - 1s 4ms/step - loss: 0.4478 - sparse_categorical_accuracy: 0.8367\n",
            "Epoch 10/10\n",
            "118/118 [==============================] - 1s 4ms/step - loss: 0.4492 - sparse_categorical_accuracy: 0.8375\n"
          ]
        },
        {
          "output_type": "execute_result",
          "data": {
            "text/plain": [
              "<keras.callbacks.History at 0x7f233c2a8c10>"
            ]
          },
          "metadata": {},
          "execution_count": 46
        }
      ]
    },
    {
      "cell_type": "code",
      "source": [
        "m2_classifier2.evaluate(test_data)"
      ],
      "metadata": {
        "colab": {
          "base_uri": "https://localhost:8080/"
        },
        "outputId": "fbe97332-4fe9-44fc-848a-af2547340c73",
        "id": "JYbci0mrFqbO"
      },
      "execution_count": null,
      "outputs": [
        {
          "output_type": "stream",
          "name": "stdout",
          "text": [
            "100/100 [==============================] - 0s 3ms/step - loss: 0.4874 - sparse_categorical_accuracy: 0.8291\n"
          ]
        },
        {
          "output_type": "execute_result",
          "data": {
            "text/plain": [
              "[0.48741427063941956, 0.8291000127792358]"
            ]
          },
          "metadata": {},
          "execution_count": 48
        }
      ]
    },
    {
      "cell_type": "markdown",
      "source": [
        "# References\n",
        "\n",
        "\n",
        "\n",
        "1.   https://ovgu-ailab.github.io/idl2021/ass9.html\n",
        "2.   https://www.tensorflow.org/tutorials/generative/autoencoder#second_example_image_denoising\n",
        "\n"
      ],
      "metadata": {
        "id": "8q7bZySabtxF"
      }
    }
  ]
}