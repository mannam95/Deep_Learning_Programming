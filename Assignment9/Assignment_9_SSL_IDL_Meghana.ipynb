{
  "nbformat": 4,
  "nbformat_minor": 0,
  "metadata": {
    "colab": {
      "name": "Assignment_9_SSL_IDL_Meghana.ipynb",
      "provenance": [],
      "collapsed_sections": [
        "xWp5MFprd9eL",
        "X8Vv_YQmR3de",
        "ekpQQjnNbv2z",
        "RyGweJ2IbbNM"
      ],
      "include_colab_link": true
    },
    "kernelspec": {
      "name": "python3",
      "display_name": "Python 3"
    },
    "language_info": {
      "name": "python"
    },
    "accelerator": "GPU"
  },
  "cells": [
    {
      "cell_type": "markdown",
      "metadata": {
        "id": "view-in-github",
        "colab_type": "text"
      },
      "source": [
        "<a href=\"https://colab.research.google.com/github/mannam95/Deep_Learning_Programming/blob/main/Assignment9/Assignment_9_SSL_IDL_Meghana.ipynb\" target=\"_parent\"><img src=\"https://colab.research.google.com/assets/colab-badge.svg\" alt=\"Open In Colab\"/></a>"
      ]
    },
    {
      "cell_type": "markdown",
      "metadata": {
        "id": "c6aef94d"
      },
      "source": [
        "# Team Assignment\n",
        "\n",
        "\n",
        "1.   Srinath Mannam (229750)\n",
        "2.   Meghana Rao (234907)\n",
        "3.   Govind Shukla (235192)"
      ]
    },
    {
      "cell_type": "code",
      "execution_count": null,
      "metadata": {
        "id": "dePdZ_82Ezvy"
      },
      "outputs": [],
      "source": [
        "import tensorflow as tf\n",
        "\n",
        "import matplotlib.pyplot as plt\n",
        "import numpy as np\n",
        "import pandas as pd\n",
        "import tensorflow as tf\n",
        "\n",
        "from sklearn.metrics import accuracy_score, precision_score, recall_score\n",
        "from sklearn.model_selection import train_test_split\n",
        "from tensorflow.keras import layers, losses\n",
        "from tensorflow.keras.datasets import fashion_mnist\n",
        "from tensorflow.keras.models import Model"
      ]
    },
    {
      "cell_type": "markdown",
      "source": [
        "# Cifar10 Dataset"
      ],
      "metadata": {
        "id": "lus8B2YAQowF"
      }
    },
    {
      "cell_type": "code",
      "source": [
        "(train_images,train_labels),(test_images, test_labels) = tf.keras.datasets.cifar10.load_data()"
      ],
      "metadata": {
        "id": "xZMTyZNMIbWR",
        "colab": {
          "base_uri": "https://localhost:8080/"
        },
        "outputId": "431038a5-5462-4ae2-9f43-ea6c8d3ccaa7"
      },
      "execution_count": null,
      "outputs": [
        {
          "output_type": "stream",
          "name": "stdout",
          "text": [
            "Downloading data from https://www.cs.toronto.edu/~kriz/cifar-10-python.tar.gz\n",
            "170500096/170498071 [==============================] - 10s 0us/step\n",
            "170508288/170498071 [==============================] - 10s 0us/step\n"
          ]
        }
      ]
    },
    {
      "cell_type": "code",
      "source": [
        "train_images.shape"
      ],
      "metadata": {
        "colab": {
          "base_uri": "https://localhost:8080/"
        },
        "id": "ViOyh9k2u4zW",
        "outputId": "e30ebec1-9b4b-402d-aeb6-b0ff8b802f90"
      },
      "execution_count": null,
      "outputs": [
        {
          "output_type": "execute_result",
          "data": {
            "text/plain": [
              "(50000, 32, 32, 3)"
            ]
          },
          "metadata": {},
          "execution_count": 3
        }
      ]
    },
    {
      "cell_type": "code",
      "source": [
        "train_data = train_images.reshape([-1, 32, 32, 3]).astype(np.float32) / 255\n",
        "test_data = test_images.reshape([-1, 32, 32, 3]).astype(np.float32) / 255"
      ],
      "metadata": {
        "id": "W3rzMS2gu85N"
      },
      "execution_count": null,
      "outputs": []
    },
    {
      "cell_type": "markdown",
      "source": [
        "##Convolutional Autoencoder"
      ],
      "metadata": {
        "id": "xWp5MFprd9eL"
      }
    },
    {
      "cell_type": "code",
      "source": [
        "class Autoencoder:\n",
        "\n",
        "  def __init__(self, **kwargs):\n",
        "    super().__init__(**kwargs)\n",
        "    self.input_layer = tf.keras.Input((32, 32, 3))\n",
        "    self.code_shape = 64\n",
        "  \n",
        "  def UNET(self):\n",
        "    en_conv_layer_1 = tf.keras.layers.Conv2D((self.code_shape)*1,(3, 3), padding='same', activation='relu')(self.input_layer)\n",
        "    en_conv_layer_1 = tf.keras.layers.Conv2D((self.code_shape)*1,(3, 3), padding='same', activation='relu')(en_conv_layer_1)\n",
        "    pool_layer_1 = tf.keras.layers.MaxPool2D()(en_conv_layer_1)\n",
        "    pool_layer_1 = tf.keras.layers.Dropout(0.25)(pool_layer_1)\n",
        "\n",
        "    en_conv_layer_2 = tf.keras.layers.Conv2D((self.code_shape)*2,(3, 3), padding='same', activation='relu')(pool_layer_1)\n",
        "    en_conv_layer_2 = tf.keras.layers.Conv2D((self.code_shape)*2,(3, 3), padding='same', activation='relu')(en_conv_layer_2)\n",
        "    pool_layer_2 = tf.keras.layers.MaxPool2D()(en_conv_layer_2)\n",
        "    pool_layer_2 = tf.keras.layers.Dropout(0.25)(pool_layer_2)\n",
        "\n",
        "    en_conv_layer_3 = tf.keras.layers.Conv2D((self.code_shape)*4,(3, 3), padding='same', activation='relu')(pool_layer_2)\n",
        "    en_conv_layer_3 = tf.keras.layers.Conv2D((self.code_shape)*4,(3, 3), padding='same', activation='relu')(en_conv_layer_3)\n",
        "    pool_layer_3 = tf.keras.layers.MaxPool2D()(en_conv_layer_3)\n",
        "    pool_layer_3 = tf.keras.layers.Dropout(0.25)(pool_layer_3)\n",
        "\n",
        "    en_conv_layer_4 = tf.keras.layers.Conv2D((self.code_shape)*8,(3, 3), padding='same', activation='relu')(pool_layer_3)\n",
        "    en_conv_layer_4 = tf.keras.layers.Conv2D((self.code_shape)*8,(3, 3), padding='same', activation='relu')(en_conv_layer_4)\n",
        "    pool_layer_4 = tf.keras.layers.MaxPool2D()(en_conv_layer_4)\n",
        "    pool_layer_4 = tf.keras.layers.Dropout(0.25)(pool_layer_4)\n",
        "\n",
        "\n",
        "    en_conv_bottleneck_layer = tf.keras.layers.Conv2D((self.code_shape)*16,(3, 3), padding='same', activation='relu')(pool_layer_4)\n",
        "    en_conv_bottleneck_layer = tf.keras.layers.Conv2D((self.code_shape)*16,(3, 3), padding='same', activation='relu')(en_conv_bottleneck_layer)\n",
        "\n",
        "  \n",
        "    de_conv_layer_4 = tf.keras.layers.Conv2DTranspose((self.code_shape)*8,(3,3), strides=(2,2), padding='same')(en_conv_bottleneck_layer)\n",
        "    con_conv_layer_4 = tf.keras.layers.concatenate([de_conv_layer_4, en_conv_layer_4])\n",
        "    con_conv_layer_4 = tf.keras.layers.Dropout(0.25)(con_conv_layer_4)\n",
        "    con_conv_layer_4 = tf.keras.layers.Conv2D((self.code_shape)*8, (3,3), activation='relu', padding='same')(con_conv_layer_4)\n",
        "    con_conv_layer_4 = tf.keras.layers.Conv2D((self.code_shape)*8, (3,3), activation='relu', padding='same')(con_conv_layer_4)\n",
        "    \n",
        "    \n",
        "    de_conv_layer_3 = tf.keras.layers.Conv2DTranspose((self.code_shape)*8,(3,3), strides=(2,2), padding='same')(con_conv_layer_4)\n",
        "    con_conv_layer_3 = tf.keras.layers.concatenate([de_conv_layer_3, en_conv_layer_3])\n",
        "    con_conv_layer_3 = tf.keras.layers.Dropout(0.25)(con_conv_layer_3)\n",
        "    con_conv_layer_3 = tf.keras.layers.Conv2D((self.code_shape)*4, (3,3), activation='relu', padding='same')(con_conv_layer_3)\n",
        "    con_conv_layer_3 = tf.keras.layers.Conv2D((self.code_shape)*4, (3,3), activation='relu', padding='same')(con_conv_layer_3)\n",
        "    \n",
        "    de_conv_layer_2 = tf.keras.layers.Conv2DTranspose((self.code_shape)*8,(3,3), strides=(2,2), padding='same')(con_conv_layer_3)\n",
        "    con_conv_layer_2 = tf.keras.layers.concatenate([de_conv_layer_2, en_conv_layer_2])\n",
        "    con_conv_layer_2 = tf.keras.layers.Dropout(0.25)(con_conv_layer_2)\n",
        "    con_conv_layer_2 = tf.keras.layers.Conv2D((self.code_shape)*2, (3,3), activation='relu', padding='same')(con_conv_layer_2)\n",
        "    con_conv_layer_2 = tf.keras.layers.Conv2D((self.code_shape)*2, (3,3), activation='relu', padding='same')(con_conv_layer_2)\n",
        "    \n",
        "    de_conv_layer_1 = tf.keras.layers.Conv2DTranspose((self.code_shape)*8,(3,3), strides=(2,2), padding='same')(con_conv_layer_2)\n",
        "    con_conv_layer_1 = tf.keras.layers.concatenate([de_conv_layer_1, en_conv_layer_1])\n",
        "    con_conv_layer_1 = tf.keras.layers.Dropout(0.25)(con_conv_layer_1)\n",
        "    con_conv_layer_1 = tf.keras.layers.Conv2D((self.code_shape)*3, (3,3), activation='relu', padding='same')(con_conv_layer_1)\n",
        "    con_conv_layer_1 = tf.keras.layers.Conv2D((self.code_shape)*3, (3,3), activation='relu', padding='same')(con_conv_layer_1)\n",
        "    \n",
        "    output_layer = tf.keras.layers.Conv2D(3, (1,1), padding='same', activation='sigmoid')(con_conv_layer_1)\n",
        "\n",
        "    return en_conv_bottleneck_layer, self.input_layer, output_layer"
      ],
      "metadata": {
        "id": "A-b2-BxJ9P7N"
      },
      "execution_count": null,
      "outputs": []
    },
    {
      "cell_type": "code",
      "source": [
        "def model_compile_fit_evaluate(input_layer, output_layer, train_data, test_data):\n",
        " \n",
        "  #---model compile-----\n",
        "  model = tf.keras.Model(input_layer, output_layer)\n",
        "  model.compile(optimizer='adam', loss='MSE')\n",
        "  \n",
        "  model.summary()\n",
        "  \n",
        "  #---model fit------\n",
        "  model.fit(train_data, train_data,\n",
        "            epochs=3,\n",
        "            batch_size=64,\n",
        "            shuffle=True,\n",
        "            validation_data=(test_data, test_data))"
      ],
      "metadata": {
        "id": "Mudev816D7J2"
      },
      "execution_count": null,
      "outputs": []
    },
    {
      "cell_type": "code",
      "source": [
        "autoencoder = Autoencoder()\n",
        "encoder_layer, input_layer, output_layer = autoencoder.UNET()"
      ],
      "metadata": {
        "id": "7VyoEzD9wcAO"
      },
      "execution_count": null,
      "outputs": []
    },
    {
      "cell_type": "markdown",
      "source": [
        "####U-net Model Fit"
      ],
      "metadata": {
        "id": "X8Vv_YQmR3de"
      }
    },
    {
      "cell_type": "code",
      "source": [
        "model_compile_fit_evaluate(input_layer, output_layer, train_data, test_data)"
      ],
      "metadata": {
        "colab": {
          "base_uri": "https://localhost:8080/"
        },
        "id": "zPMt03ZzFTQ2",
        "outputId": "91558551-e661-4955-b08e-82fde76b4971"
      },
      "execution_count": null,
      "outputs": [
        {
          "output_type": "stream",
          "name": "stdout",
          "text": [
            "Model: \"model\"\n",
            "__________________________________________________________________________________________________\n",
            " Layer (type)                   Output Shape         Param #     Connected to                     \n",
            "==================================================================================================\n",
            " input_1 (InputLayer)           [(None, 32, 32, 3)]  0           []                               \n",
            "                                                                                                  \n",
            " conv2d (Conv2D)                (None, 32, 32, 64)   1792        ['input_1[0][0]']                \n",
            "                                                                                                  \n",
            " conv2d_1 (Conv2D)              (None, 32, 32, 64)   36928       ['conv2d[0][0]']                 \n",
            "                                                                                                  \n",
            " max_pooling2d (MaxPooling2D)   (None, 16, 16, 64)   0           ['conv2d_1[0][0]']               \n",
            "                                                                                                  \n",
            " dropout (Dropout)              (None, 16, 16, 64)   0           ['max_pooling2d[0][0]']          \n",
            "                                                                                                  \n",
            " conv2d_2 (Conv2D)              (None, 16, 16, 128)  73856       ['dropout[0][0]']                \n",
            "                                                                                                  \n",
            " conv2d_3 (Conv2D)              (None, 16, 16, 128)  147584      ['conv2d_2[0][0]']               \n",
            "                                                                                                  \n",
            " max_pooling2d_1 (MaxPooling2D)  (None, 8, 8, 128)   0           ['conv2d_3[0][0]']               \n",
            "                                                                                                  \n",
            " dropout_1 (Dropout)            (None, 8, 8, 128)    0           ['max_pooling2d_1[0][0]']        \n",
            "                                                                                                  \n",
            " conv2d_4 (Conv2D)              (None, 8, 8, 256)    295168      ['dropout_1[0][0]']              \n",
            "                                                                                                  \n",
            " conv2d_5 (Conv2D)              (None, 8, 8, 256)    590080      ['conv2d_4[0][0]']               \n",
            "                                                                                                  \n",
            " max_pooling2d_2 (MaxPooling2D)  (None, 4, 4, 256)   0           ['conv2d_5[0][0]']               \n",
            "                                                                                                  \n",
            " dropout_2 (Dropout)            (None, 4, 4, 256)    0           ['max_pooling2d_2[0][0]']        \n",
            "                                                                                                  \n",
            " conv2d_6 (Conv2D)              (None, 4, 4, 512)    1180160     ['dropout_2[0][0]']              \n",
            "                                                                                                  \n",
            " conv2d_7 (Conv2D)              (None, 4, 4, 512)    2359808     ['conv2d_6[0][0]']               \n",
            "                                                                                                  \n",
            " max_pooling2d_3 (MaxPooling2D)  (None, 2, 2, 512)   0           ['conv2d_7[0][0]']               \n",
            "                                                                                                  \n",
            " dropout_3 (Dropout)            (None, 2, 2, 512)    0           ['max_pooling2d_3[0][0]']        \n",
            "                                                                                                  \n",
            " conv2d_8 (Conv2D)              (None, 2, 2, 1024)   4719616     ['dropout_3[0][0]']              \n",
            "                                                                                                  \n",
            " conv2d_9 (Conv2D)              (None, 2, 2, 1024)   9438208     ['conv2d_8[0][0]']               \n",
            "                                                                                                  \n",
            " conv2d_transpose (Conv2DTransp  (None, 4, 4, 512)   4719104     ['conv2d_9[0][0]']               \n",
            " ose)                                                                                             \n",
            "                                                                                                  \n",
            " concatenate (Concatenate)      (None, 4, 4, 1024)   0           ['conv2d_transpose[0][0]',       \n",
            "                                                                  'conv2d_7[0][0]']               \n",
            "                                                                                                  \n",
            " dropout_4 (Dropout)            (None, 4, 4, 1024)   0           ['concatenate[0][0]']            \n",
            "                                                                                                  \n",
            " conv2d_10 (Conv2D)             (None, 4, 4, 512)    4719104     ['dropout_4[0][0]']              \n",
            "                                                                                                  \n",
            " conv2d_11 (Conv2D)             (None, 4, 4, 512)    2359808     ['conv2d_10[0][0]']              \n",
            "                                                                                                  \n",
            " conv2d_transpose_1 (Conv2DTran  (None, 8, 8, 512)   2359808     ['conv2d_11[0][0]']              \n",
            " spose)                                                                                           \n",
            "                                                                                                  \n",
            " concatenate_1 (Concatenate)    (None, 8, 8, 768)    0           ['conv2d_transpose_1[0][0]',     \n",
            "                                                                  'conv2d_5[0][0]']               \n",
            "                                                                                                  \n",
            " dropout_5 (Dropout)            (None, 8, 8, 768)    0           ['concatenate_1[0][0]']          \n",
            "                                                                                                  \n",
            " conv2d_12 (Conv2D)             (None, 8, 8, 256)    1769728     ['dropout_5[0][0]']              \n",
            "                                                                                                  \n",
            " conv2d_13 (Conv2D)             (None, 8, 8, 256)    590080      ['conv2d_12[0][0]']              \n",
            "                                                                                                  \n",
            " conv2d_transpose_2 (Conv2DTran  (None, 16, 16, 512)  1180160    ['conv2d_13[0][0]']              \n",
            " spose)                                                                                           \n",
            "                                                                                                  \n",
            " concatenate_2 (Concatenate)    (None, 16, 16, 640)  0           ['conv2d_transpose_2[0][0]',     \n",
            "                                                                  'conv2d_3[0][0]']               \n",
            "                                                                                                  \n",
            " dropout_6 (Dropout)            (None, 16, 16, 640)  0           ['concatenate_2[0][0]']          \n",
            "                                                                                                  \n",
            " conv2d_14 (Conv2D)             (None, 16, 16, 128)  737408      ['dropout_6[0][0]']              \n",
            "                                                                                                  \n",
            " conv2d_15 (Conv2D)             (None, 16, 16, 128)  147584      ['conv2d_14[0][0]']              \n",
            "                                                                                                  \n",
            " conv2d_transpose_3 (Conv2DTran  (None, 32, 32, 512)  590336     ['conv2d_15[0][0]']              \n",
            " spose)                                                                                           \n",
            "                                                                                                  \n",
            " concatenate_3 (Concatenate)    (None, 32, 32, 576)  0           ['conv2d_transpose_3[0][0]',     \n",
            "                                                                  'conv2d_1[0][0]']               \n",
            "                                                                                                  \n",
            " dropout_7 (Dropout)            (None, 32, 32, 576)  0           ['concatenate_3[0][0]']          \n",
            "                                                                                                  \n",
            " conv2d_16 (Conv2D)             (None, 32, 32, 192)  995520      ['dropout_7[0][0]']              \n",
            "                                                                                                  \n",
            " conv2d_17 (Conv2D)             (None, 32, 32, 192)  331968      ['conv2d_16[0][0]']              \n",
            "                                                                                                  \n",
            " conv2d_18 (Conv2D)             (None, 32, 32, 3)    579         ['conv2d_17[0][0]']              \n",
            "                                                                                                  \n",
            "==================================================================================================\n",
            "Total params: 39,344,387\n",
            "Trainable params: 39,344,387\n",
            "Non-trainable params: 0\n",
            "__________________________________________________________________________________________________\n",
            "Epoch 1/3\n",
            "782/782 [==============================] - 357s 442ms/step - loss: 0.0018 - val_loss: 1.6740e-04\n",
            "Epoch 2/3\n",
            "782/782 [==============================] - 343s 438ms/step - loss: 3.5228e-04 - val_loss: 1.2611e-04\n",
            "Epoch 3/3\n",
            "782/782 [==============================] - 342s 437ms/step - loss: 2.6821e-04 - val_loss: 9.7531e-04\n"
          ]
        }
      ]
    },
    {
      "cell_type": "markdown",
      "source": [
        "####Custom Layer\n",
        "\n",
        "####--------faced issues to separate encoder and decoder from unet architecture"
      ],
      "metadata": {
        "id": "hKzorFlQSPks"
      }
    },
    {
      "cell_type": "code",
      "source": [
        "# def build_custom_layer(input, encoder_layers):\n",
        "#   encoder = tf.keras.Model(input, encoder_layers)\n",
        "#   encoder.trainable = False\n",
        "#   #encoder.trainable = True\n",
        "#   print(encoder.trainable_variables)\n",
        "#   pool_layer = tf.keras.layers.MaxPool2D()(encoder_layers)\n",
        "#   flatten = tf.keras.layers.Flatten()(pool_layer)\n",
        "#   dense_layer_1 = tf.keras.layers.Dense(64, activation=tf.nn.leaky_relu)(flatten)\n",
        "#   dense_layer_2 = tf.keras.layers.Dense(10, activation=tf.nn.softmax)(dense_layer_1)\n",
        "  \n",
        "#   output = dense_layer_2\n",
        "\n",
        "#   custom_model = tf.keras.Model(inputs=input, outputs=output)\n",
        "\n",
        "#   return custom_model"
      ],
      "metadata": {
        "id": "wjjyFIWcSPD7"
      },
      "execution_count": null,
      "outputs": []
    },
    {
      "cell_type": "markdown",
      "source": [
        "##Denoise Autoencoder"
      ],
      "metadata": {
        "id": "SZmW12aS0b-r"
      }
    },
    {
      "cell_type": "code",
      "source": [
        "from skimage.util import random_noise\n",
        "\n",
        "noise_factor = 0.07\n",
        "\n",
        "train_data_noisy = random_noise(train_data, mode=\"s&p\",clip=True, amount=noise_factor)\n",
        "test_data_noisy = random_noise(test_data, mode=\"s&p\",clip=True, amount=noise_factor)"
      ],
      "metadata": {
        "id": "uQl-OL790f-p"
      },
      "execution_count": null,
      "outputs": []
    },
    {
      "cell_type": "code",
      "source": [
        "plt.figure(figsize=(32, 32))\n",
        "n=10\n",
        "for i in range(n):\n",
        "    ax = plt.subplot(1, n, i+1)\n",
        "    plt.imshow(train_data_noisy[i])\n",
        "    ax.get_xaxis().set_visible(False)\n",
        "    ax.get_yaxis().set_visible(False)\n",
        "plt.show()"
      ],
      "metadata": {
        "colab": {
          "base_uri": "https://localhost:8080/",
          "height": 150
        },
        "id": "nIU9xJer1IA6",
        "outputId": "9be3027b-63df-4805-b57a-3fff10cd4b63"
      },
      "execution_count": null,
      "outputs": [
        {
          "output_type": "display_data",
          "data": {
            "image/png": "[encoded data removed]",
            "text/plain": [
              "<Figure size 2304x2304 with 10 Axes>"
            ]
          },
          "metadata": {
            "needs_background": "light"
          }
        }
      ]
    },
    {
      "cell_type": "code",
      "source": [
        "model = tf.keras.Model(input_layer, output_layer)\n",
        "model.compile(optimizer='adam', loss='MSE')\n",
        "  \n",
        "model.summary()\n",
        "  \n",
        "#---model fit------\n",
        "model.fit(train_data_noisy, train_data,\n",
        "          epochs=3,\n",
        "          batch_size=64,\n",
        "          shuffle=True,\n",
        "          validation_data=(test_data_noisy, test_data))"
      ],
      "metadata": {
        "colab": {
          "base_uri": "https://localhost:8080/"
        },
        "id": "MD64gBTw1s3i",
        "outputId": "6c82027c-3a15-48c6-995d-93b841ca4665"
      },
      "execution_count": null,
      "outputs": [
        {
          "output_type": "stream",
          "name": "stdout",
          "text": [
            "Model: \"model_1\"\n",
            "__________________________________________________________________________________________________\n",
            " Layer (type)                   Output Shape         Param #     Connected to                     \n",
            "==================================================================================================\n",
            " input_1 (InputLayer)           [(None, 32, 32, 3)]  0           []                               \n",
            "                                                                                                  \n",
            " conv2d (Conv2D)                (None, 32, 32, 64)   1792        ['input_1[0][0]']                \n",
            "                                                                                                  \n",
            " conv2d_1 (Conv2D)              (None, 32, 32, 64)   36928       ['conv2d[0][0]']                 \n",
            "                                                                                                  \n",
            " max_pooling2d (MaxPooling2D)   (None, 16, 16, 64)   0           ['conv2d_1[0][0]']               \n",
            "                                                                                                  \n",
            " dropout (Dropout)              (None, 16, 16, 64)   0           ['max_pooling2d[0][0]']          \n",
            "                                                                                                  \n",
            " conv2d_2 (Conv2D)              (None, 16, 16, 128)  73856       ['dropout[0][0]']                \n",
            "                                                                                                  \n",
            " conv2d_3 (Conv2D)              (None, 16, 16, 128)  147584      ['conv2d_2[0][0]']               \n",
            "                                                                                                  \n",
            " max_pooling2d_1 (MaxPooling2D)  (None, 8, 8, 128)   0           ['conv2d_3[0][0]']               \n",
            "                                                                                                  \n",
            " dropout_1 (Dropout)            (None, 8, 8, 128)    0           ['max_pooling2d_1[0][0]']        \n",
            "                                                                                                  \n",
            " conv2d_4 (Conv2D)              (None, 8, 8, 256)    295168      ['dropout_1[0][0]']              \n",
            "                                                                                                  \n",
            " conv2d_5 (Conv2D)              (None, 8, 8, 256)    590080      ['conv2d_4[0][0]']               \n",
            "                                                                                                  \n",
            " max_pooling2d_2 (MaxPooling2D)  (None, 4, 4, 256)   0           ['conv2d_5[0][0]']               \n",
            "                                                                                                  \n",
            " dropout_2 (Dropout)            (None, 4, 4, 256)    0           ['max_pooling2d_2[0][0]']        \n",
            "                                                                                                  \n",
            " conv2d_6 (Conv2D)              (None, 4, 4, 512)    1180160     ['dropout_2[0][0]']              \n",
            "                                                                                                  \n",
            " conv2d_7 (Conv2D)              (None, 4, 4, 512)    2359808     ['conv2d_6[0][0]']               \n",
            "                                                                                                  \n",
            " max_pooling2d_3 (MaxPooling2D)  (None, 2, 2, 512)   0           ['conv2d_7[0][0]']               \n",
            "                                                                                                  \n",
            " dropout_3 (Dropout)            (None, 2, 2, 512)    0           ['max_pooling2d_3[0][0]']        \n",
            "                                                                                                  \n",
            " conv2d_8 (Conv2D)              (None, 2, 2, 1024)   4719616     ['dropout_3[0][0]']              \n",
            "                                                                                                  \n",
            " conv2d_9 (Conv2D)              (None, 2, 2, 1024)   9438208     ['conv2d_8[0][0]']               \n",
            "                                                                                                  \n",
            " conv2d_transpose (Conv2DTransp  (None, 4, 4, 512)   4719104     ['conv2d_9[0][0]']               \n",
            " ose)                                                                                             \n",
            "                                                                                                  \n",
            " concatenate (Concatenate)      (None, 4, 4, 1024)   0           ['conv2d_transpose[0][0]',       \n",
            "                                                                  'conv2d_7[0][0]']               \n",
            "                                                                                                  \n",
            " dropout_4 (Dropout)            (None, 4, 4, 1024)   0           ['concatenate[0][0]']            \n",
            "                                                                                                  \n",
            " conv2d_10 (Conv2D)             (None, 4, 4, 512)    4719104     ['dropout_4[0][0]']              \n",
            "                                                                                                  \n",
            " conv2d_11 (Conv2D)             (None, 4, 4, 512)    2359808     ['conv2d_10[0][0]']              \n",
            "                                                                                                  \n",
            " conv2d_transpose_1 (Conv2DTran  (None, 8, 8, 512)   2359808     ['conv2d_11[0][0]']              \n",
            " spose)                                                                                           \n",
            "                                                                                                  \n",
            " concatenate_1 (Concatenate)    (None, 8, 8, 768)    0           ['conv2d_transpose_1[0][0]',     \n",
            "                                                                  'conv2d_5[0][0]']               \n",
            "                                                                                                  \n",
            " dropout_5 (Dropout)            (None, 8, 8, 768)    0           ['concatenate_1[0][0]']          \n",
            "                                                                                                  \n",
            " conv2d_12 (Conv2D)             (None, 8, 8, 256)    1769728     ['dropout_5[0][0]']              \n",
            "                                                                                                  \n",
            " conv2d_13 (Conv2D)             (None, 8, 8, 256)    590080      ['conv2d_12[0][0]']              \n",
            "                                                                                                  \n",
            " conv2d_transpose_2 (Conv2DTran  (None, 16, 16, 512)  1180160    ['conv2d_13[0][0]']              \n",
            " spose)                                                                                           \n",
            "                                                                                                  \n",
            " concatenate_2 (Concatenate)    (None, 16, 16, 640)  0           ['conv2d_transpose_2[0][0]',     \n",
            "                                                                  'conv2d_3[0][0]']               \n",
            "                                                                                                  \n",
            " dropout_6 (Dropout)            (None, 16, 16, 640)  0           ['concatenate_2[0][0]']          \n",
            "                                                                                                  \n",
            " conv2d_14 (Conv2D)             (None, 16, 16, 128)  737408      ['dropout_6[0][0]']              \n",
            "                                                                                                  \n",
            " conv2d_15 (Conv2D)             (None, 16, 16, 128)  147584      ['conv2d_14[0][0]']              \n",
            "                                                                                                  \n",
            " conv2d_transpose_3 (Conv2DTran  (None, 32, 32, 512)  590336     ['conv2d_15[0][0]']              \n",
            " spose)                                                                                           \n",
            "                                                                                                  \n",
            " concatenate_3 (Concatenate)    (None, 32, 32, 576)  0           ['conv2d_transpose_3[0][0]',     \n",
            "                                                                  'conv2d_1[0][0]']               \n",
            "                                                                                                  \n",
            " dropout_7 (Dropout)            (None, 32, 32, 576)  0           ['concatenate_3[0][0]']          \n",
            "                                                                                                  \n",
            " conv2d_16 (Conv2D)             (None, 32, 32, 192)  995520      ['dropout_7[0][0]']              \n",
            "                                                                                                  \n",
            " conv2d_17 (Conv2D)             (None, 32, 32, 192)  331968      ['conv2d_16[0][0]']              \n",
            "                                                                                                  \n",
            " conv2d_18 (Conv2D)             (None, 32, 32, 3)    579         ['conv2d_17[0][0]']              \n",
            "                                                                                                  \n",
            "==================================================================================================\n",
            "Total params: 39,344,387\n",
            "Trainable params: 39,344,387\n",
            "Non-trainable params: 0\n",
            "__________________________________________________________________________________________________\n",
            "Epoch 1/3\n",
            "782/782 [==============================] - 345s 439ms/step - loss: 0.0019 - val_loss: 5.5127e-04\n",
            "Epoch 2/3\n",
            "782/782 [==============================] - 344s 440ms/step - loss: 6.4861e-04 - val_loss: 2.6213e-04\n",
            "Epoch 3/3\n",
            "782/782 [==============================] - 343s 439ms/step - loss: 5.6460e-04 - val_loss: 2.4324e-04\n"
          ]
        },
        {
          "output_type": "execute_result",
          "data": {
            "text/plain": [
              "<keras.callbacks.History at 0x7f0dd1696d90>"
            ]
          },
          "metadata": {},
          "execution_count": 11
        }
      ]
    },
    {
      "cell_type": "markdown",
      "source": [
        "#Fashion_mnist Dataset\n"
      ],
      "metadata": {
        "id": "oQF9zFUfLAZd"
      }
    },
    {
      "cell_type": "code",
      "source": [
        "(x_train, y_train), (x_test, y_test) = fashion_mnist.load_data()\n",
        "\n",
        "x_train = (x_train.astype('float32') / 255)\n",
        "x_test = (x_test.astype('float32') / 255)\n",
        "\n",
        "train_data = tf.data.Dataset.from_tensor_slices((x_train, y_train)).shuffle(x_train.shape[0]).batch(512)\n",
        "test_data = tf.data.Dataset.from_tensor_slices((x_test, y_test)).batch(100)\n",
        "\n",
        "# pick a random subset\n",
        "labeled_indices = np.random.choice(60000, replace=False, size=1000)\n",
        "\n",
        "print(\"Original Dataset Size\")\n",
        "print (\"Train Dataset Size: \", x_train.shape)\n",
        "print (\"Test Dataset Size: \", x_test.shape)"
      ],
      "metadata": {
        "colab": {
          "base_uri": "https://localhost:8080/"
        },
        "id": "97K0Z7lxK_n-",
        "outputId": "e07602b9-53ee-4ab8-bf6f-a46eedc67e9b"
      },
      "execution_count": null,
      "outputs": [
        {
          "output_type": "stream",
          "name": "stdout",
          "text": [
            "Original Dataset Size\n",
            "Train Dataset Size:  (60000, 28, 28)\n",
            "Test Dataset Size:  (10000, 28, 28)\n"
          ]
        }
      ]
    },
    {
      "cell_type": "code",
      "source": [
        "train_data_self = tf.data.Dataset.from_tensor_slices((x_train, x_train)).shuffle(x_train.shape[0]).batch(512)\n",
        "test_data_self = tf.data.Dataset.from_tensor_slices((x_test, x_test)).batch(100)\n",
        "\n",
        "# choose corresponding images and labels\n",
        "x_train_subset = x_train[labeled_indices]\n",
        "y_train_subset = y_train[labeled_indices]\n",
        "\n",
        "train_subset_data = tf.data.Dataset.from_tensor_slices((x_train_subset, y_train_subset)).shuffle(x_train_subset.shape[0]).batch(100)\n",
        "\n",
        "print(\"Subset Dataset Size\")\n",
        "print (\"Train Subset Dataset Size: \", x_train_subset.shape)"
      ],
      "metadata": {
        "colab": {
          "base_uri": "https://localhost:8080/"
        },
        "id": "FPSbPsNUMmxX",
        "outputId": "bbd23755-084a-43e4-e5c0-d0b64a3fa3ac"
      },
      "execution_count": null,
      "outputs": [
        {
          "output_type": "stream",
          "name": "stdout",
          "text": [
            "Subset Dataset Size\n",
            "Train Subset Dataset Size:  (1000, 28, 28)\n"
          ]
        }
      ]
    },
    {
      "cell_type": "markdown",
      "source": [
        "## Simple Autoencoder"
      ],
      "metadata": {
        "id": "vKbfgZb2PHJG"
      }
    },
    {
      "cell_type": "code",
      "source": [
        "bottleNeck = 64\n",
        "input_shape = (28, 28)\n",
        "\n",
        "#Encoder\n",
        "image_input = tf.keras.Input(input_shape)  # flattened 28x28 MNIST images\n",
        "flatten = tf.keras.layers.Flatten()(image_input)\n",
        "enc_Layer1 = tf.keras.layers.Dense(256)(flatten)\n",
        "enc_Layer2 = tf.keras.layers.Dense(128)(enc_Layer1)\n",
        "encoding = tf.keras.layers.Dense(bottleNeck)(enc_Layer2)\n",
        "encoder = tf.keras.Model(image_input, encoding, name=\"Encoder\")\n",
        "\n",
        "#Decoder\n",
        "code_input = tf.keras.Input((bottleNeck,))\n",
        "dec_Layer1 = tf.keras.layers.Dense(128)(code_input)\n",
        "dec_Layer2 = tf.keras.layers.Dense(256)(dec_Layer1)\n",
        "decoding = tf.keras.layers.Dense(784, tf.nn.sigmoid)(dec_Layer2)\n",
        "decoding2 = tf.keras.layers.Reshape(input_shape)(decoding)\n",
        "decoder = tf.keras.Model(code_input, decoding2, name=\"Decoder\")\n",
        "\n",
        "#Auto-Encoder\n",
        "autoencoder = tf.keras.Model(image_input, decoder(encoder(image_input)), name=\"AutoEncoder\")"
      ],
      "metadata": {
        "id": "qiOL0QPFLrmm"
      },
      "execution_count": null,
      "outputs": []
    },
    {
      "cell_type": "markdown",
      "source": [
        "#### Custom layer"
      ],
      "metadata": {
        "id": "nDW0vA0hQSZN"
      }
    },
    {
      "cell_type": "code",
      "source": [
        "# Extended Model Head for Classification\n",
        "layer1 =  tf.keras.layers.Dense(512)(encoding)\n",
        "layer2 =  tf.keras.layers.Dense(256)(layer1)\n",
        "\n",
        "logits = tf.keras.layers.Dense(10)(layer2)\n",
        "\n",
        "classifier = tf.keras.Model(image_input, logits, name=\"Classifer\")"
      ],
      "metadata": {
        "id": "0Kj-JvguQPZN"
      },
      "execution_count": null,
      "outputs": []
    },
    {
      "cell_type": "code",
      "source": [
        "encoder.summary()\n",
        "decoder.summary()\n",
        "autoencoder.summary()\n",
        "classifier.summary()"
      ],
      "metadata": {
        "colab": {
          "base_uri": "https://localhost:8080/"
        },
        "id": "3As4JWEqMCDF",
        "outputId": "90222b8d-057c-4c8b-8d04-19e452df2dbf"
      },
      "execution_count": null,
      "outputs": [
        {
          "output_type": "stream",
          "name": "stdout",
          "text": [
            "Model: \"Encoder\"\n",
            "_________________________________________________________________\n",
            " Layer (type)                Output Shape              Param #   \n",
            "=================================================================\n",
            " input_5 (InputLayer)        [(None, 28, 28)]          0         \n",
            "                                                                 \n",
            " flatten_3 (Flatten)         (None, 784)               0         \n",
            "                                                                 \n",
            " dense_20 (Dense)            (None, 256)               200960    \n",
            "                                                                 \n",
            " dense_21 (Dense)            (None, 128)               32896     \n",
            "                                                                 \n",
            " dense_22 (Dense)            (None, 64)                8256      \n",
            "                                                                 \n",
            "=================================================================\n",
            "Total params: 242,112\n",
            "Trainable params: 242,112\n",
            "Non-trainable params: 0\n",
            "_________________________________________________________________\n",
            "Model: \"Decoder\"\n",
            "_________________________________________________________________\n",
            " Layer (type)                Output Shape              Param #   \n",
            "=================================================================\n",
            " input_6 (InputLayer)        [(None, 64)]              0         \n",
            "                                                                 \n",
            " dense_23 (Dense)            (None, 128)               8320      \n",
            "                                                                 \n",
            " dense_24 (Dense)            (None, 256)               33024     \n",
            "                                                                 \n",
            " dense_25 (Dense)            (None, 784)               201488    \n",
            "                                                                 \n",
            " reshape_3 (Reshape)         (None, 28, 28)            0         \n",
            "                                                                 \n",
            "=================================================================\n",
            "Total params: 242,832\n",
            "Trainable params: 242,832\n",
            "Non-trainable params: 0\n",
            "_________________________________________________________________\n",
            "Model: \"AutoEncoder\"\n",
            "_________________________________________________________________\n",
            " Layer (type)                Output Shape              Param #   \n",
            "=================================================================\n",
            " input_5 (InputLayer)        [(None, 28, 28)]          0         \n",
            "                                                                 \n",
            " Encoder (Functional)        (None, 64)                242112    \n",
            "                                                                 \n",
            " Decoder (Functional)        (None, 28, 28)            242832    \n",
            "                                                                 \n",
            "=================================================================\n",
            "Total params: 484,944\n",
            "Trainable params: 484,944\n",
            "Non-trainable params: 0\n",
            "_________________________________________________________________\n",
            "Model: \"Classifer\"\n",
            "_________________________________________________________________\n",
            " Layer (type)                Output Shape              Param #   \n",
            "=================================================================\n",
            " input_5 (InputLayer)        [(None, 28, 28)]          0         \n",
            "                                                                 \n",
            " flatten_3 (Flatten)         (None, 784)               0         \n",
            "                                                                 \n",
            " dense_20 (Dense)            (None, 256)               200960    \n",
            "                                                                 \n",
            " dense_21 (Dense)            (None, 128)               32896     \n",
            "                                                                 \n",
            " dense_22 (Dense)            (None, 64)                8256      \n",
            "                                                                 \n",
            " dense_26 (Dense)            (None, 512)               33280     \n",
            "                                                                 \n",
            " dense_27 (Dense)            (None, 256)               131328    \n",
            "                                                                 \n",
            " dense_28 (Dense)            (None, 10)                2570      \n",
            "                                                                 \n",
            "=================================================================\n",
            "Total params: 409,290\n",
            "Trainable params: 409,290\n",
            "Non-trainable params: 0\n",
            "_________________________________________________________________\n"
          ]
        }
      ]
    },
    {
      "cell_type": "code",
      "source": [
        "autoencoder.compile(optimizer='adam', loss=losses.MeanSquaredError())\n",
        "autoencoder.fit(train_data_self, epochs=10)"
      ],
      "metadata": {
        "colab": {
          "base_uri": "https://localhost:8080/"
        },
        "id": "8yEEsekBMG_d",
        "outputId": "40bda094-7222-489a-88db-019017925182"
      },
      "execution_count": null,
      "outputs": [
        {
          "output_type": "stream",
          "name": "stdout",
          "text": [
            "Epoch 1/10\n",
            "118/118 [==============================] - 1s 7ms/step - loss: 0.0462\n",
            "Epoch 2/10\n",
            "118/118 [==============================] - 1s 7ms/step - loss: 0.0200\n",
            "Epoch 3/10\n",
            "118/118 [==============================] - 1s 8ms/step - loss: 0.0164\n",
            "Epoch 4/10\n",
            "118/118 [==============================] - 1s 8ms/step - loss: 0.0144\n",
            "Epoch 5/10\n",
            "118/118 [==============================] - 1s 10ms/step - loss: 0.0132\n",
            "Epoch 6/10\n",
            "118/118 [==============================] - 1s 10ms/step - loss: 0.0123\n",
            "Epoch 7/10\n",
            "118/118 [==============================] - 1s 8ms/step - loss: 0.0117\n",
            "Epoch 8/10\n",
            "118/118 [==============================] - 1s 7ms/step - loss: 0.0112\n",
            "Epoch 9/10\n",
            "118/118 [==============================] - 1s 8ms/step - loss: 0.0108\n",
            "Epoch 10/10\n",
            "118/118 [==============================] - 1s 8ms/step - loss: 0.0104\n"
          ]
        },
        {
          "output_type": "execute_result",
          "data": {
            "text/plain": [
              "<keras.callbacks.History at 0x7f98480a0c10>"
            ]
          },
          "metadata": {},
          "execution_count": 25
        }
      ]
    },
    {
      "cell_type": "code",
      "source": [
        "autoencoder.evaluate(test_data_self)"
      ],
      "metadata": {
        "colab": {
          "base_uri": "https://localhost:8080/"
        },
        "id": "IiYeY4lNM6dW",
        "outputId": "27981a9f-15a8-4966-8568-456f34e52dbc"
      },
      "execution_count": null,
      "outputs": [
        {
          "output_type": "stream",
          "name": "stdout",
          "text": [
            "100/100 [==============================] - 1s 3ms/step - loss: 0.0104\n"
          ]
        },
        {
          "output_type": "execute_result",
          "data": {
            "text/plain": [
              "0.010370566509664059"
            ]
          },
          "metadata": {},
          "execution_count": 26
        }
      ]
    },
    {
      "cell_type": "code",
      "source": [
        "encoded_imgs = encoder(x_test).numpy()\n",
        "decoded_imgs = decoder(encoded_imgs).numpy()"
      ],
      "metadata": {
        "id": "ZjtRqMc4M8k9"
      },
      "execution_count": null,
      "outputs": []
    },
    {
      "cell_type": "code",
      "source": [
        "n = 10\n",
        "plt.figure(figsize=(20, 4))\n",
        "for i in range(n):\n",
        "  # display original\n",
        "  ax = plt.subplot(2, n, i + 1)\n",
        "  plt.imshow(x_test[i])\n",
        "  plt.title(\"original\")\n",
        "  plt.gray()\n",
        "  ax.get_xaxis().set_visible(False)\n",
        "  ax.get_yaxis().set_visible(False)\n",
        "\n",
        "  # display reconstruction\n",
        "  ax = plt.subplot(2, n, i + 1 + n)\n",
        "  plt.imshow(decoded_imgs[i])\n",
        "  plt.title(\"reconstructed\")\n",
        "  plt.gray()\n",
        "  ax.get_xaxis().set_visible(False)\n",
        "  ax.get_yaxis().set_visible(False)\n",
        "plt.show()"
      ],
      "metadata": {
        "colab": {
          "base_uri": "https://localhost:8080/",
          "height": 264
        },
        "id": "VRQz-UH3NCfu",
        "outputId": "4160ca4f-07c5-4db1-abcf-51dd75bc7230"
      },
      "execution_count": null,
      "outputs": [
        {
          "output_type": "display_data",
          "data": {
            "image/png": "[encoded data removed]",
            "text/plain": [
              "<Figure size 1440x288 with 20 Axes>"
            ]
          },
          "metadata": {
            "needs_background": "light"
          }
        }
      ]
    },
    {
      "cell_type": "markdown",
      "source": [
        "#### With encoder trainable parameters"
      ],
      "metadata": {
        "id": "RyGweJ2IbbNM"
      }
    },
    {
      "cell_type": "code",
      "source": [
        "print(\"ENCODER\")  # no more trainable variables\n",
        "print(encoder.trainable_variables)"
      ],
      "metadata": {
        "colab": {
          "base_uri": "https://localhost:8080/"
        },
        "id": "Dls27pqENYEO",
        "outputId": "9b5547ad-e8f3-4047-97a3-d7711b5d3cea"
      },
      "execution_count": null,
      "outputs": [
        {
          "output_type": "stream",
          "name": "stdout",
          "text": [
            "ENCODER\n",
            "[<tf.Variable 'dense_20/kernel:0' shape=(784, 256) dtype=float32, numpy=\n",
            "array([[ 0.06891449,  0.00154723, -0.04967264, ..., -0.04502296,\n",
            "         0.00168319,  0.0708426 ],\n",
            "       [-0.06165712,  0.02493453, -0.04420934, ..., -0.06428798,\n",
            "        -0.03337491, -0.00992196],\n",
            "       [ 0.0095515 , -0.05278197, -0.00107916, ...,  0.00669935,\n",
            "         0.01682746,  0.06175   ],\n",
            "       ...,\n",
            "       [-0.04435176, -0.00674585, -0.02106153, ...,  0.11843978,\n",
            "        -0.05253906,  0.04336624],\n",
            "       [-0.0353936 ,  0.01951492, -0.04474748, ...,  0.01202377,\n",
            "         0.01085768,  0.02160309],\n",
            "       [-0.00669999, -0.05112696, -0.00022031, ..., -0.00527754,\n",
            "         0.03112667,  0.04831556]], dtype=float32)>, <tf.Variable 'dense_20/bias:0' shape=(256,) dtype=float32, numpy=\n",
            "array([ 0.03962361, -0.06719264, -0.03453856, -0.07514604,  0.10357621,\n",
            "       -0.10361512, -0.10203445, -0.06439561, -0.05463862,  0.08885454,\n",
            "       -0.10201525,  0.1151893 ,  0.10655808, -0.09645178, -0.09078281,\n",
            "        0.08274348,  0.03299576, -0.09711319,  0.09660804, -0.11014566,\n",
            "       -0.10571247,  0.08858511,  0.00375341, -0.10430777,  0.11951812,\n",
            "       -0.03701423, -0.11109529, -0.10512663, -0.08823041,  0.0616325 ,\n",
            "        0.06728382,  0.10681731,  0.1064805 , -0.11395136, -0.10425774,\n",
            "       -0.09940764,  0.03699114,  0.05762089, -0.10768532, -0.07529423,\n",
            "        0.06753796,  0.07025034, -0.05988395, -0.0886678 , -0.09350023,\n",
            "       -0.08891802,  0.07041498, -0.0944607 , -0.10819868,  0.04016728,\n",
            "        0.05387154, -0.01945334,  0.10479783, -0.10255241,  0.0918311 ,\n",
            "       -0.11405992, -0.08273008, -0.07656937, -0.09383202, -0.09536658,\n",
            "       -0.09189211, -0.09503882,  0.07642557, -0.07553575, -0.10990994,\n",
            "        0.10475904,  0.09138203,  0.09369011,  0.09468526, -0.04053909,\n",
            "        0.10565238, -0.07940666,  0.11152293, -0.04639481, -0.07686255,\n",
            "        0.06122782,  0.07019465, -0.11737886, -0.09344094,  0.10984773,\n",
            "        0.10990594, -0.11901461, -0.10267175, -0.11055468,  0.10576805,\n",
            "        0.08792269,  0.11502086, -0.11758391,  0.10781687, -0.0821867 ,\n",
            "       -0.11608808, -0.10560323,  0.09103927,  0.09728432,  0.10448308,\n",
            "       -0.11210672,  0.09726285, -0.08983747,  0.11406459, -0.10325421,\n",
            "       -0.02929062,  0.09697538,  0.09143726,  0.03712936,  0.10093518,\n",
            "       -0.09793569, -0.08479711,  0.10975493,  0.09347538, -0.09301262,\n",
            "       -0.04064237, -0.11308904,  0.08973546,  0.01869859, -0.08235519,\n",
            "       -0.09208791, -0.04826645, -0.09503169,  0.07455688, -0.10729286,\n",
            "       -0.10274254, -0.08847905, -0.09339097, -0.03941927, -0.03380804,\n",
            "        0.10642069,  0.10578144, -0.10536648, -0.04277751, -0.11744222,\n",
            "       -0.04973191, -0.08882923, -0.08765199,  0.09707559, -0.05294945,\n",
            "       -0.00876038, -0.0936657 , -0.08090686, -0.10405082,  0.08011947,\n",
            "       -0.0864149 ,  0.09390818,  0.0886309 , -0.10318662,  0.09554567,\n",
            "        0.05013159, -0.09814267, -0.10369899, -0.09419344,  0.10622675,\n",
            "        0.10622089,  0.10801765, -0.09134916, -0.05847514, -0.07332897,\n",
            "        0.04093212,  0.10943566,  0.08262228, -0.09824694, -0.07395618,\n",
            "        0.0166903 , -0.09203797,  0.10529586, -0.05693963, -0.11250459,\n",
            "        0.07473789, -0.08744233, -0.10504478,  0.09508812,  0.09803556,\n",
            "       -0.09536708, -0.10959125,  0.05661837, -0.07173653,  0.1176156 ,\n",
            "       -0.02556494,  0.07600051,  0.10204639, -0.0991893 ,  0.09603839,\n",
            "       -0.0210981 ,  0.02615177, -0.11824708, -0.10370166, -0.11509802,\n",
            "       -0.01032346, -0.01438803,  0.07501705,  0.07982463,  0.10515153,\n",
            "       -0.10067737,  0.11125395,  0.11785165, -0.07519695, -0.08647353,\n",
            "       -0.10509469,  0.11044626,  0.1176405 , -0.09692571, -0.1042087 ,\n",
            "        0.10789867, -0.10882907, -0.05944646,  0.1271642 ,  0.11461098,\n",
            "        0.07387047, -0.0696358 ,  0.11015682, -0.09916969,  0.11116722,\n",
            "        0.10851723,  0.0657665 ,  0.07042728,  0.00998544,  0.05747472,\n",
            "       -0.08916263,  0.08883941, -0.09985857, -0.01220318,  0.10412632,\n",
            "        0.00249786, -0.11125534, -0.06601354, -0.10695926,  0.07727654,\n",
            "        0.10946496,  0.11599173, -0.01345227, -0.09191051, -0.07804385,\n",
            "       -0.09711578,  0.00609015, -0.04444589,  0.09553679, -0.09003832,\n",
            "        0.11159412, -0.11970433,  0.09175833,  0.01701394, -0.06961429,\n",
            "        0.09012056,  0.1024631 , -0.08865696, -0.0876207 , -0.06571266,\n",
            "       -0.0937134 , -0.10867125,  0.05669361, -0.08076962,  0.08835184,\n",
            "        0.02646559, -0.11254875,  0.10492606, -0.04971122,  0.09839962,\n",
            "        0.09429492], dtype=float32)>, <tf.Variable 'dense_21/kernel:0' shape=(256, 128) dtype=float32, numpy=\n",
            "array([[ 0.13179405, -0.0680094 , -0.10722202, ..., -0.02689669,\n",
            "        -0.091579  ,  0.03310572],\n",
            "       [ 0.08401223, -0.03392249,  0.00415076, ..., -0.03802341,\n",
            "         0.12555228,  0.08834397],\n",
            "       [-0.02556393,  0.11673156, -0.06503995, ..., -0.03663594,\n",
            "         0.01087248,  0.04398305],\n",
            "       ...,\n",
            "       [-0.03765211, -0.0432274 ,  0.09116059, ...,  0.0513573 ,\n",
            "        -0.03866899,  0.12147333],\n",
            "       [ 0.04551893,  0.13316172,  0.06238824, ..., -0.00440194,\n",
            "        -0.10211838, -0.00224104],\n",
            "       [-0.1373343 ,  0.01254226, -0.12235744, ...,  0.12650928,\n",
            "        -0.02363287,  0.08342371]], dtype=float32)>, <tf.Variable 'dense_21/bias:0' shape=(128,) dtype=float32, numpy=\n",
            "array([ 0.08578059,  0.03505474,  0.09165961,  0.11921497,  0.11289738,\n",
            "       -0.00373582, -0.07908888,  0.01381797,  0.06070974, -0.11664946,\n",
            "        0.12151226, -0.02595498, -0.10859697, -0.0791093 , -0.10451643,\n",
            "       -0.02998416,  0.0916362 , -0.10879709,  0.09809358, -0.11308365,\n",
            "       -0.02540838, -0.10967316,  0.09608333,  0.10242742,  0.11112644,\n",
            "       -0.11487234, -0.10797154,  0.10485455,  0.07432183, -0.10707927,\n",
            "       -0.08477676,  0.11954423,  0.09410009,  0.12082771, -0.02160016,\n",
            "       -0.07645305,  0.10306869,  0.11955057, -0.0888629 , -0.08726784,\n",
            "       -0.07716487,  0.00377593,  0.10852826, -0.12153931, -0.10998528,\n",
            "        0.09559139, -0.07232565,  0.11159771,  0.0989499 , -0.03845885,\n",
            "       -0.00582872, -0.09488997, -0.11464407,  0.11429254,  0.08532704,\n",
            "       -0.12042084,  0.09559867, -0.04757819,  0.11271104, -0.06086047,\n",
            "        0.03364112, -0.06835031,  0.05061672,  0.09219835,  0.06297728,\n",
            "        0.11340474,  0.10186832, -0.08075741,  0.06383529,  0.11876325,\n",
            "       -0.10526271, -0.12230802, -0.09989342, -0.10602107,  0.10790817,\n",
            "       -0.06587571, -0.110908  , -0.12991652, -0.12188784, -0.11052261,\n",
            "       -0.11743185, -0.08540186, -0.04181038,  0.11492749,  0.09286074,\n",
            "       -0.10293129, -0.10368726, -0.08739642, -0.11856697,  0.09770367,\n",
            "        0.10257122, -0.02874487,  0.11628899,  0.08232211,  0.09897555,\n",
            "        0.07482103, -0.11305881, -0.07320531,  0.09988885, -0.06291651,\n",
            "        0.11681553,  0.05891759,  0.12322139, -0.0947994 , -0.10436961,\n",
            "       -0.10695694, -0.07668542, -0.10714449, -0.116054  ,  0.10172155,\n",
            "        0.07694024, -0.12002975,  0.12176578,  0.12219811,  0.10857668,\n",
            "        0.11704455, -0.10721339,  0.1052526 ,  0.0547145 , -0.08068769,\n",
            "        0.11413554,  0.11866169, -0.12153681,  0.10106917,  0.11700825,\n",
            "        0.06779084,  0.09848978,  0.11978836], dtype=float32)>, <tf.Variable 'dense_22/kernel:0' shape=(128, 64) dtype=float32, numpy=\n",
            "array([[-0.02289766, -0.04471884,  0.07235319, ...,  0.17418152,\n",
            "        -0.09366062,  0.07184909],\n",
            "       [-0.16827022,  0.05974522, -0.10455637, ..., -0.00480707,\n",
            "         0.17239025,  0.1649968 ],\n",
            "       [-0.17003684,  0.12702768, -0.0599656 , ..., -0.10856549,\n",
            "         0.13934164, -0.01031347],\n",
            "       ...,\n",
            "       [-0.11709674,  0.1160687 , -0.07118868, ..., -0.11222582,\n",
            "         0.04721907,  0.17002606],\n",
            "       [-0.15593147,  0.17961957, -0.094451  , ...,  0.08128111,\n",
            "        -0.05578806,  0.04308723],\n",
            "       [-0.03110524,  0.1559056 ,  0.0228925 , ..., -0.03651443,\n",
            "        -0.1865439 ,  0.15815075]], dtype=float32)>, <tf.Variable 'dense_22/bias:0' shape=(64,) dtype=float32, numpy=\n",
            "array([ 0.11019626,  0.11246753, -0.11012019, -0.07649909,  0.11361135,\n",
            "        0.09913489,  0.02662969,  0.06537326,  0.10741926, -0.08813077,\n",
            "       -0.10566834, -0.10183709, -0.11535766, -0.10238012, -0.1042111 ,\n",
            "        0.09268238, -0.11820655, -0.10714395, -0.0403266 , -0.10538126,\n",
            "        0.10562497,  0.07293839, -0.04473437,  0.09929681, -0.0851059 ,\n",
            "        0.11336304, -0.10510174,  0.12279291, -0.08475165, -0.05078312,\n",
            "       -0.1188172 ,  0.104112  , -0.1035592 ,  0.11589522,  0.0573739 ,\n",
            "       -0.0634231 , -0.08609222, -0.01902196, -0.11723989,  0.08615343,\n",
            "        0.06081995,  0.11920092,  0.10612213,  0.10691148, -0.10405734,\n",
            "        0.10635881,  0.09808305, -0.1053367 , -0.0758635 , -0.0740528 ,\n",
            "        0.07458396,  0.05530212,  0.02522796, -0.02385077,  0.10770991,\n",
            "        0.10912315, -0.12042916,  0.10526089,  0.10610364, -0.08681006,\n",
            "        0.03363379,  0.07551263,  0.0503611 , -0.1191645 ], dtype=float32)>]\n"
          ]
        }
      ]
    },
    {
      "cell_type": "code",
      "source": [
        "classifier.compile( optimizer=tf.optimizers.Adam(), \n",
        "                    loss = tf.losses.SparseCategoricalCrossentropy(from_logits=True),\n",
        "                    metrics   = tf.metrics.SparseCategoricalAccuracy(),)\n",
        "classifier.summary()\n",
        "classifier.fit(train_subset_data,epochs=10)\n",
        "classifier.evaluate(test_data)"
      ],
      "metadata": {
        "colab": {
          "base_uri": "https://localhost:8080/"
        },
        "id": "BRJMD4wUNjEV",
        "outputId": "e0a1ee52-9287-4eb7-81c5-f798b948da0c"
      },
      "execution_count": null,
      "outputs": [
        {
          "output_type": "stream",
          "name": "stdout",
          "text": [
            "Model: \"Classifer\"\n",
            "_________________________________________________________________\n",
            " Layer (type)                Output Shape              Param #   \n",
            "=================================================================\n",
            " input_5 (InputLayer)        [(None, 28, 28)]          0         \n",
            "                                                                 \n",
            " flatten_3 (Flatten)         (None, 784)               0         \n",
            "                                                                 \n",
            " dense_20 (Dense)            (None, 256)               200960    \n",
            "                                                                 \n",
            " dense_21 (Dense)            (None, 128)               32896     \n",
            "                                                                 \n",
            " dense_22 (Dense)            (None, 64)                8256      \n",
            "                                                                 \n",
            " dense_26 (Dense)            (None, 512)               33280     \n",
            "                                                                 \n",
            " dense_27 (Dense)            (None, 256)               131328    \n",
            "                                                                 \n",
            " dense_28 (Dense)            (None, 10)                2570      \n",
            "                                                                 \n",
            "=================================================================\n",
            "Total params: 409,290\n",
            "Trainable params: 409,290\n",
            "Non-trainable params: 0\n",
            "_________________________________________________________________\n",
            "Epoch 1/10\n",
            "10/10 [==============================] - 1s 6ms/step - loss: 1.3230 - sparse_categorical_accuracy: 0.6030\n",
            "Epoch 2/10\n",
            "10/10 [==============================] - 0s 4ms/step - loss: 0.6558 - sparse_categorical_accuracy: 0.7790\n",
            "Epoch 3/10\n",
            "10/10 [==============================] - 0s 4ms/step - loss: 0.5290 - sparse_categorical_accuracy: 0.8120\n",
            "Epoch 4/10\n",
            "10/10 [==============================] - 0s 4ms/step - loss: 0.3956 - sparse_categorical_accuracy: 0.8610\n",
            "Epoch 5/10\n",
            "10/10 [==============================] - 0s 4ms/step - loss: 0.3511 - sparse_categorical_accuracy: 0.8690\n",
            "Epoch 6/10\n",
            "10/10 [==============================] - 0s 4ms/step - loss: 0.4334 - sparse_categorical_accuracy: 0.8400\n",
            "Epoch 7/10\n",
            "10/10 [==============================] - 0s 5ms/step - loss: 0.4278 - sparse_categorical_accuracy: 0.8570\n",
            "Epoch 8/10\n",
            "10/10 [==============================] - 0s 4ms/step - loss: 0.3710 - sparse_categorical_accuracy: 0.8630\n",
            "Epoch 9/10\n",
            "10/10 [==============================] - 0s 4ms/step - loss: 0.2856 - sparse_categorical_accuracy: 0.8960\n",
            "Epoch 10/10\n",
            "10/10 [==============================] - 0s 4ms/step - loss: 0.2808 - sparse_categorical_accuracy: 0.8970\n",
            "100/100 [==============================] - 1s 3ms/step - loss: 0.7652 - sparse_categorical_accuracy: 0.7647\n"
          ]
        },
        {
          "output_type": "execute_result",
          "data": {
            "text/plain": [
              "[0.7652156949043274, 0.7646999955177307]"
            ]
          },
          "metadata": {},
          "execution_count": 30
        }
      ]
    },
    {
      "cell_type": "markdown",
      "source": [
        "####Without encoder trainable variables"
      ],
      "metadata": {
        "id": "ekpQQjnNbv2z"
      }
    },
    {
      "cell_type": "code",
      "source": [
        "encoder.trainable = False \n",
        "print(\"ENCODER\")  # no more trainable variables\n",
        "print(encoder.trainable_variables)"
      ],
      "metadata": {
        "colab": {
          "base_uri": "https://localhost:8080/"
        },
        "id": "OGRS5ylrOdUN",
        "outputId": "658448f7-1051-4d2c-966e-ad77a27d3670"
      },
      "execution_count": null,
      "outputs": [
        {
          "output_type": "stream",
          "name": "stdout",
          "text": [
            "ENCODER\n",
            "[]\n"
          ]
        }
      ]
    },
    {
      "cell_type": "code",
      "source": [
        "classifier.compile( optimizer=tf.optimizers.Adam(), \n",
        "                    loss = tf.losses.SparseCategoricalCrossentropy(from_logits=True),\n",
        "                    metrics   = tf.metrics.SparseCategoricalAccuracy(),)\n",
        "classifier.summary()\n",
        "classifier.fit(train_subset_data, epochs=10)\n",
        "classifier.evaluate(test_data)"
      ],
      "metadata": {
        "colab": {
          "base_uri": "https://localhost:8080/"
        },
        "id": "IyYvhi-OOlO1",
        "outputId": "724575da-1086-4cae-be89-f01cbc1364f2"
      },
      "execution_count": null,
      "outputs": [
        {
          "output_type": "stream",
          "name": "stdout",
          "text": [
            "Model: \"Classifer\"\n",
            "_________________________________________________________________\n",
            " Layer (type)                Output Shape              Param #   \n",
            "=================================================================\n",
            " input_5 (InputLayer)        [(None, 28, 28)]          0         \n",
            "                                                                 \n",
            " flatten_3 (Flatten)         (None, 784)               0         \n",
            "                                                                 \n",
            " dense_20 (Dense)            (None, 256)               200960    \n",
            "                                                                 \n",
            " dense_21 (Dense)            (None, 128)               32896     \n",
            "                                                                 \n",
            " dense_22 (Dense)            (None, 64)                8256      \n",
            "                                                                 \n",
            " dense_26 (Dense)            (None, 512)               33280     \n",
            "                                                                 \n",
            " dense_27 (Dense)            (None, 256)               131328    \n",
            "                                                                 \n",
            " dense_28 (Dense)            (None, 10)                2570      \n",
            "                                                                 \n",
            "=================================================================\n",
            "Total params: 409,290\n",
            "Trainable params: 167,178\n",
            "Non-trainable params: 242,112\n",
            "_________________________________________________________________\n",
            "Epoch 1/10\n",
            "10/10 [==============================] - 0s 4ms/step - loss: 0.2680 - sparse_categorical_accuracy: 0.9030\n",
            "Epoch 2/10\n",
            "10/10 [==============================] - 0s 4ms/step - loss: 0.2101 - sparse_categorical_accuracy: 0.9280\n",
            "Epoch 3/10\n",
            "10/10 [==============================] - 0s 4ms/step - loss: 0.2004 - sparse_categorical_accuracy: 0.9250\n",
            "Epoch 4/10\n",
            "10/10 [==============================] - 0s 4ms/step - loss: 0.1886 - sparse_categorical_accuracy: 0.9260\n",
            "Epoch 5/10\n",
            "10/10 [==============================] - 0s 4ms/step - loss: 0.1562 - sparse_categorical_accuracy: 0.9390\n",
            "Epoch 6/10\n",
            "10/10 [==============================] - 0s 4ms/step - loss: 0.1445 - sparse_categorical_accuracy: 0.9440\n",
            "Epoch 7/10\n",
            "10/10 [==============================] - 0s 4ms/step - loss: 0.1400 - sparse_categorical_accuracy: 0.9460\n",
            "Epoch 8/10\n",
            "10/10 [==============================] - 0s 5ms/step - loss: 0.1481 - sparse_categorical_accuracy: 0.9450\n",
            "Epoch 9/10\n",
            "10/10 [==============================] - 0s 7ms/step - loss: 0.1453 - sparse_categorical_accuracy: 0.9490\n",
            "Epoch 10/10\n",
            "10/10 [==============================] - 0s 4ms/step - loss: 0.1482 - sparse_categorical_accuracy: 0.9450\n",
            "100/100 [==============================] - 1s 3ms/step - loss: 1.1855 - sparse_categorical_accuracy: 0.7729\n"
          ]
        },
        {
          "output_type": "execute_result",
          "data": {
            "text/plain": [
              "[1.1854500770568848, 0.7728999853134155]"
            ]
          },
          "metadata": {},
          "execution_count": 32
        }
      ]
    },
    {
      "cell_type": "markdown",
      "source": [
        "##References\n",
        "https://ovgu-ailab.github.io/idl2021/ass9.html\n",
        "https://www.tensorflow.org/tutorials/generative/autoencoder#second_example_image_denoising"
      ],
      "metadata": {
        "id": "WItJtud-VE5_"
      }
    }
  ]
}