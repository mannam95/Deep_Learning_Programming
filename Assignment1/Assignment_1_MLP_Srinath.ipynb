{
  "nbformat": 4,
  "nbformat_minor": 0,
  "metadata": {
    "colab": {
      "name": "Assignment_1_MLP_Srinath.ipynb",
      "provenance": [],
      "collapsed_sections": [
        "GW9A-uDZx9wq",
        "hBYC4kM2ppSs",
        "CLtYs70nqz3b",
        "wfDVrX2VunFA",
        "E315g-vRTsYD",
        "hai0NIyaN2go",
        "InzTeW3xdRAU",
        "APwijxbtXnDH",
        "Vy7lrKcQt0dp",
        "Q8ZoZ1gMddXx",
        "KL0DPIErO_3t",
        "j0FuEaWxlnJJ",
        "hOBOFjNYXzvB",
        "rxoHgyrTXzvC",
        "lB9PdN8NXzvE",
        "xfWQW2ucXzvG",
        "c9ykmv8gmKWO",
        "vyOlYos5YpFp",
        "3NJOVEuIYucy"
      ],
      "mount_file_id": "1DWjTFscmM8KYCe1HVyGgweSUIia_6PAz",
      "authorship_tag": "ABX9TyOeYAF4EzqMo96OhKiXxGiC",
      "include_colab_link": true
    },
    "kernelspec": {
      "name": "python3",
      "display_name": "Python 3"
    }
  },
  "cells": [
    {
      "cell_type": "markdown",
      "metadata": {
        "id": "view-in-github",
        "colab_type": "text"
      },
      "source": [
        "<a href=\"https://colab.research.google.com/github/mannam95/Deep_Learning_Programming/blob/main/Assignment1/Assignment_1_MLP_Srinath.ipynb\" target=\"_parent\"><img src=\"https://colab.research.google.com/assets/colab-badge.svg\" alt=\"Open In Colab\"/></a>"
      ]
    },
    {
      "cell_type": "markdown",
      "metadata": {
        "id": "6vn94RPJ4oTU"
      },
      "source": [
        "#Team Assignment\n",
        "\n",
        "\n",
        "1.   Srinath Mannam\n",
        "2.   Meghana Rao\n",
        "3.   Govind\n",
        "\n"
      ]
    },
    {
      "cell_type": "markdown",
      "metadata": {
        "id": "GW9A-uDZx9wq"
      },
      "source": [
        "#Change the directory"
      ]
    },
    {
      "cell_type": "code",
      "metadata": {
        "colab": {
          "base_uri": "https://localhost:8080/"
        },
        "id": "wam6g9cNx9HU",
        "outputId": "2de025aa-5db5-47e6-caa3-29f8654d1af4"
      },
      "source": [
        "from google.colab import drive\n",
        "drive.mount(\"/content/drive\")"
      ],
      "execution_count": null,
      "outputs": [
        {
          "output_type": "stream",
          "name": "stdout",
          "text": [
            "Drive already mounted at /content/drive; to attempt to forcibly remount, call drive.mount(\"/content/drive\", force_remount=True).\n"
          ]
        }
      ]
    },
    {
      "cell_type": "code",
      "metadata": {
        "id": "XxBOM49SaFl7",
        "colab": {
          "base_uri": "https://localhost:8080/"
        },
        "outputId": "b7f8cf8a-eaa6-45e2-d44e-faa78b987d33"
      },
      "source": [
        "import os\n",
        "working_directory = '/content/drive/My Drive/Colab Notebooks/OVGU/Deep_Learning/First_Assignment'\n",
        "if os.getcwd() !=  working_directory:\n",
        "  os.chdir(working_directory)\n",
        "os.getcwd()"
      ],
      "execution_count": null,
      "outputs": [
        {
          "output_type": "execute_result",
          "data": {
            "application/vnd.google.colaboratory.intrinsic+json": {
              "type": "string"
            },
            "text/plain": [
              "'/content/drive/My Drive/Colab Notebooks/OVGU/Deep_Learning/First_Assignment'"
            ]
          },
          "metadata": {},
          "execution_count": 2
        }
      ]
    },
    {
      "cell_type": "markdown",
      "metadata": {
        "id": "hBYC4kM2ppSs"
      },
      "source": [
        "#import statements"
      ]
    },
    {
      "cell_type": "code",
      "metadata": {
        "id": "mJaGiGnXpsAP"
      },
      "source": [
        "import tensorflow as tf\n",
        "import numpy as np\n",
        "import matplotlib.pyplot as plt\n",
        "from datasets import MNISTDataset"
      ],
      "execution_count": null,
      "outputs": []
    },
    {
      "cell_type": "markdown",
      "metadata": {
        "id": "kERRSBuXp5JT"
      },
      "source": [
        "##Check tensorflow version"
      ]
    },
    {
      "cell_type": "code",
      "metadata": {
        "colab": {
          "base_uri": "https://localhost:8080/"
        },
        "id": "U3D4m_0Op4iZ",
        "outputId": "ae1a2c79-c23f-4014-bd5b-cf479e1546fe"
      },
      "source": [
        "tf.__version__"
      ],
      "execution_count": null,
      "outputs": [
        {
          "output_type": "execute_result",
          "data": {
            "application/vnd.google.colaboratory.intrinsic+json": {
              "type": "string"
            },
            "text/plain": [
              "'2.6.0'"
            ]
          },
          "metadata": {},
          "execution_count": 4
        }
      ]
    },
    {
      "cell_type": "markdown",
      "metadata": {
        "id": "CLtYs70nqz3b"
      },
      "source": [
        "#Load Data"
      ]
    },
    {
      "cell_type": "code",
      "metadata": {
        "id": "Zegh4TeIq28p"
      },
      "source": [
        "mnist = tf.keras.datasets.mnist\n",
        "(train_images, train_labels), (test_images, test_labels) = mnist.load_data()"
      ],
      "execution_count": null,
      "outputs": []
    },
    {
      "cell_type": "code",
      "metadata": {
        "id": "Tn8ONaMC3gYG"
      },
      "source": [
        "#Re-shape the dataset and then pass it to the function which creates data into batches\n",
        "def reset_Data():\n",
        "  return MNISTDataset(train_images.reshape([-1, 784]), train_labels, \n",
        "                    test_images.reshape([-1, 784]), test_labels,\n",
        "                    batch_size=128)"
      ],
      "execution_count": null,
      "outputs": []
    },
    {
      "cell_type": "code",
      "metadata": {
        "colab": {
          "base_uri": "https://localhost:8080/"
        },
        "id": "u8ioSRg6AYcU",
        "outputId": "d7068360-cdf3-4cef-dadc-0442a39bd4e0"
      },
      "source": [
        "print(train_images.shape)\n",
        "print(train_labels.shape)\n",
        "print(test_images.shape)\n",
        "print(test_labels.shape)"
      ],
      "execution_count": null,
      "outputs": [
        {
          "output_type": "stream",
          "name": "stdout",
          "text": [
            "(60000, 28, 28)\n",
            "(60000,)\n",
            "(10000, 28, 28)\n",
            "(10000,)\n"
          ]
        }
      ]
    },
    {
      "cell_type": "markdown",
      "metadata": {
        "id": "wfDVrX2VunFA"
      },
      "source": [
        "## Visualize some images on some training and test data"
      ]
    },
    {
      "cell_type": "code",
      "metadata": {
        "colab": {
          "base_uri": "https://localhost:8080/"
        },
        "id": "_X_MvhoZumPn",
        "outputId": "92f80ccb-9702-4c90-cf9e-963e57e132ce"
      },
      "source": [
        "print(train_labels[3])\n",
        "plt.imshow(train_images[3], cmap=\"Greys_r\")"
      ],
      "execution_count": null,
      "outputs": [
        {
          "output_type": "stream",
          "name": "stdout",
          "text": [
            "1\n"
          ]
        },
        {
          "output_type": "execute_result",
          "data": {
            "text/plain": [
              "<matplotlib.image.AxesImage at 0x7f3ef5917250>"
            ]
          },
          "metadata": {},
          "execution_count": 8
        },
        {
          "output_type": "display_data",
          "data": {
            "image/png": "[encoded data removed]",
            "text/plain": [
              "<Figure size 432x288 with 1 Axes>"
            ]
          },
          "metadata": {
            "needs_background": "light"
          }
        }
      ]
    },
    {
      "cell_type": "code",
      "metadata": {
        "colab": {
          "base_uri": "https://localhost:8080/"
        },
        "id": "VpaNU36_vXzy",
        "outputId": "f663007e-e7f0-461e-c2d5-ce4cec826923"
      },
      "source": [
        "print(test_labels[121])\n",
        "plt.imshow(test_images[121], cmap=\"Greys_r\")"
      ],
      "execution_count": null,
      "outputs": [
        {
          "output_type": "stream",
          "name": "stdout",
          "text": [
            "4\n"
          ]
        },
        {
          "output_type": "execute_result",
          "data": {
            "text/plain": [
              "<matplotlib.image.AxesImage at 0x7f3ef53f6ad0>"
            ]
          },
          "metadata": {},
          "execution_count": 9
        },
        {
          "output_type": "display_data",
          "data": {
            "image/png": "[encoded data removed]",
            "text/plain": [
              "<Figure size 432x288 with 1 Axes>"
            ]
          },
          "metadata": {
            "needs_background": "light"
          }
        }
      ]
    },
    {
      "cell_type": "markdown",
      "metadata": {
        "id": "E315g-vRTsYD"
      },
      "source": [
        "#A function that will choose the activation function"
      ]
    },
    {
      "cell_type": "code",
      "metadata": {
        "id": "xVzxCDlcTyg9"
      },
      "source": [
        "def dynamicActiFunc(actFun, currLogits):\n",
        "  if actFun == \"relu\":\n",
        "    return tf.nn.relu(currLogits)\n",
        "  elif actFun == \"lrelu\":\n",
        "    return tf.nn.leaky_relu(currLogits)\n",
        "  elif actFun == \"sigmoid\":\n",
        "    return tf.nn.sigmoid(currLogits)\n",
        "  else:\n",
        "    return tf.nn.relu(currLogits)"
      ],
      "execution_count": null,
      "outputs": []
    },
    {
      "cell_type": "markdown",
      "metadata": {
        "id": "hai0NIyaN2go"
      },
      "source": [
        "#Define a Generic function for training"
      ]
    },
    {
      "cell_type": "code",
      "metadata": {
        "id": "eqTYHVmVN06T"
      },
      "source": [
        "def model_Train(_modelConfig, data):\n",
        "  loss_list = []\n",
        "  for step in range(_modelConfig[\"train_steps\"]):\n",
        "      img_batch, lbl_batch = data.next_batch()\n",
        "      with tf.GradientTape() as tape:\n",
        "          #loop that will goes forward for every hidden layer\n",
        "          for ind in range(len(_modelConfig[\"_weights\"])-1):\n",
        "            if ind == 0:\n",
        "              hPrevLogits = tf.matmul(img_batch, _modelConfig[\"_weights\"][ind]) + _modelConfig[\"_biases\"][ind]\n",
        "              hPrevOutput = dynamicActiFunc(_modelConfig[\"activation_func\"], hPrevLogits)\n",
        "            else :\n",
        "              hcurrLogits = tf.matmul(hPrevOutput, _modelConfig[\"_weights\"][ind]) + _modelConfig[\"_biases\"][ind]\n",
        "              hcurrOutput = dynamicActiFunc(_modelConfig[\"activation_func\"], hcurrLogits)\n",
        "              hPrevOutput = hcurrOutput\n",
        "\n",
        "          lastInd = len(_modelConfig[\"_weights\"])-1\n",
        "\n",
        "          #final output layer\n",
        "          logits = tf.matmul(hcurrOutput, _modelConfig[\"_weights\"][lastInd]) + _modelConfig[\"_biases\"][lastInd]\n",
        "          xent = tf.reduce_mean(tf.nn.sparse_softmax_cross_entropy_with_logits(\n",
        "              logits=logits, labels=lbl_batch))\n",
        "          \n",
        "      grads = tape.gradient(xent, [*_modelConfig[\"_weights\"], *_modelConfig[\"_biases\"]])\n",
        "\n",
        "      #update weights\n",
        "      for ind in range(len(_modelConfig[\"_weights\"])):\n",
        "        _modelConfig[\"_weights\"][ind].assign_sub(_modelConfig[\"learning_rate\"] * grads[ind])\n",
        "      \n",
        "      #update biases\n",
        "      for ind in range(len(_modelConfig[\"_biases\"])):\n",
        "        _modelConfig[\"_biases\"][ind].assign_sub(_modelConfig[\"learning_rate\"] * grads[ind + len(_modelConfig[\"_biases\"])])\n",
        "\n",
        "      loss_list.append(xent)\n",
        "      if not step % 100:\n",
        "          print(step)\n",
        "          preds = tf.argmax(logits, axis=1, output_type=tf.int32)\n",
        "          acc = tf.reduce_mean(tf.cast(tf.equal(preds, lbl_batch),\n",
        "                              tf.float32))\n",
        "          print(\"Loss: {} Accuracy: {}\".format(xent, acc))\n",
        "\n",
        "  #Predict for Test Dataset\n",
        "  for ind in range(len(_modelConfig[\"_weights\"])-1):\n",
        "      if ind == 0:\n",
        "        hPrevLogits = tf.matmul(data.test_data, _modelConfig[\"_weights\"][ind]) + _modelConfig[\"_biases\"][ind]\n",
        "        hPrevOutput = dynamicActiFunc(_modelConfig[\"activation_func\"], hPrevLogits)\n",
        "      else :\n",
        "        hcurrLogits = tf.matmul(hPrevOutput, _modelConfig[\"_weights\"][ind]) + _modelConfig[\"_biases\"][ind]\n",
        "        hcurrOutput = dynamicActiFunc(_modelConfig[\"activation_func\"], hcurrLogits)\n",
        "        hPrevOutput = hcurrOutput\n",
        "\n",
        "  lastInd = len(_modelConfig[\"_weights\"])-1\n",
        "  test_preds = tf.argmax(tf.matmul(hcurrOutput, _modelConfig[\"_weights\"][lastInd]) + _modelConfig[\"_biases\"][lastInd], axis=1,\n",
        "                       output_type=tf.int32)\n",
        "  acc = tf.reduce_mean(tf.cast(tf.equal(test_preds, data.test_labels),\n",
        "                              tf.float32))\n",
        "  print(\"\\nTest Accuracy: {}\".format(acc))\n",
        "  return loss_list"
      ],
      "execution_count": null,
      "outputs": []
    },
    {
      "cell_type": "markdown",
      "metadata": {
        "id": "InzTeW3xdRAU"
      },
      "source": [
        "#Models Config"
      ]
    },
    {
      "cell_type": "markdown",
      "metadata": {
        "id": "APwijxbtXnDH"
      },
      "source": [
        "##Relu Activation Function"
      ]
    },
    {
      "cell_type": "markdown",
      "metadata": {
        "id": "Vy7lrKcQt0dp"
      },
      "source": [
        "###Define params Model1"
      ]
    },
    {
      "cell_type": "code",
      "metadata": {
        "id": "Cuohb9MMt9Ws"
      },
      "source": [
        "modelConfig1 = {\n",
        "    \"train_steps\" : 1000,\n",
        "    \"learning_rate\" : 0.1,\n",
        "    \"activation_func\" : \"relu\",\n",
        "\n",
        "    \"_weights\" : [\n",
        "        tf.Variable(tf.random.uniform([784, 512], minval=-0.1, maxval=0.1, dtype=np.float32)),\n",
        "        tf.Variable(tf.random.uniform([512, 256], minval=-0.1, maxval=0.1, dtype=np.float32)),\n",
        "        tf.Variable(tf.random.uniform([256, 10], minval=-0.1, maxval=0.1, dtype=np.float32))\n",
        "    ],\n",
        "\n",
        "    \"_biases\" : [\n",
        "        tf.Variable(np.zeros(512, dtype=np.float32)),\n",
        "        tf.Variable(np.zeros(256, dtype=np.float32)),\n",
        "        tf.Variable(np.zeros(10, dtype=np.float32))\n",
        "    ]\n",
        "}"
      ],
      "execution_count": null,
      "outputs": []
    },
    {
      "cell_type": "markdown",
      "metadata": {
        "id": "Q8ZoZ1gMddXx"
      },
      "source": [
        "###Define params Model2"
      ]
    },
    {
      "cell_type": "code",
      "metadata": {
        "id": "oJL0X9UvddXx"
      },
      "source": [
        "modelConfig2 = {\n",
        "    \"train_steps\" : 2000,\n",
        "    \"learning_rate\" : 0.01,\n",
        "    \"activation_func\" : \"relu\",\n",
        "\n",
        "    \"_weights\" : [\n",
        "        tf.Variable(tf.random.uniform([784, 512], minval=-0.1, maxval=0.1, dtype=np.float32)),\n",
        "        tf.Variable(tf.random.uniform([512, 256], minval=-0.1, maxval=0.1, dtype=np.float32)),\n",
        "        tf.Variable(tf.random.uniform([256, 10], minval=-0.1, maxval=0.1, dtype=np.float32))\n",
        "    ],\n",
        "\n",
        "    \"_biases\" : [\n",
        "        tf.Variable(np.zeros(512, dtype=np.float32)),\n",
        "        tf.Variable(np.zeros(256, dtype=np.float32)),\n",
        "        tf.Variable(np.zeros(10, dtype=np.float32))\n",
        "    ]\n",
        "}"
      ],
      "execution_count": null,
      "outputs": []
    },
    {
      "cell_type": "markdown",
      "metadata": {
        "id": "KL0DPIErO_3t"
      },
      "source": [
        "###Define params Model3"
      ]
    },
    {
      "cell_type": "code",
      "metadata": {
        "id": "VZ03c3CeO_3u"
      },
      "source": [
        "modelConfig3 = {\n",
        "    \"train_steps\" : 1000,\n",
        "    \"learning_rate\" : 0.1,\n",
        "    \"activation_func\" : \"relu\",\n",
        "\n",
        "    \"_weights\" : [\n",
        "        tf.Variable(tf.random.uniform([784, 1568], minval=-0.1, maxval=0.1, dtype=np.float32)),\n",
        "        tf.Variable(tf.random.uniform([1568, 512], minval=-0.1, maxval=0.1, dtype=np.float32)),\n",
        "        tf.Variable(tf.random.uniform([512, 256], minval=-0.1, maxval=0.1, dtype=np.float32)),\n",
        "        tf.Variable(tf.random.uniform([256, 10], minval=-0.1, maxval=0.1, dtype=np.float32))\n",
        "    ],\n",
        "\n",
        "    \"_biases\" : [\n",
        "        tf.Variable(np.zeros(1568, dtype=np.float32)),\n",
        "        tf.Variable(np.zeros(512, dtype=np.float32)),\n",
        "        tf.Variable(np.zeros(256, dtype=np.float32)),\n",
        "        tf.Variable(np.zeros(10, dtype=np.float32))\n",
        "    ]\n",
        "}"
      ],
      "execution_count": null,
      "outputs": []
    },
    {
      "cell_type": "markdown",
      "metadata": {
        "id": "j0FuEaWxlnJJ"
      },
      "source": [
        "###Define params Model4"
      ]
    },
    {
      "cell_type": "code",
      "metadata": {
        "id": "qIWvbpmtlnJP"
      },
      "source": [
        "modelConfig4 = {\n",
        "    \"train_steps\" : 1000,\n",
        "    \"learning_rate\" : 0.1,\n",
        "    \"activation_func\" : \"relu\",\n",
        "\n",
        "    \"_weights\" : [\n",
        "        tf.Variable(tf.random.uniform([784, 512], minval=-0.15, maxval=0.15, dtype=np.float32)),\n",
        "        tf.Variable(tf.random.uniform([512, 256], minval=-0.15, maxval=0.15, dtype=np.float32)),\n",
        "        tf.Variable(tf.random.uniform([256, 10], minval=-0.15, maxval=0.15, dtype=np.float32))\n",
        "    ],\n",
        "\n",
        "    \"_biases\" : [\n",
        "        tf.Variable(np.zeros(512, dtype=np.float32)),\n",
        "        tf.Variable(np.zeros(256, dtype=np.float32)),\n",
        "        tf.Variable(np.zeros(10, dtype=np.float32))\n",
        "    ]\n",
        "}"
      ],
      "execution_count": null,
      "outputs": []
    },
    {
      "cell_type": "markdown",
      "metadata": {
        "id": "hOBOFjNYXzvB"
      },
      "source": [
        "##Sigmoid Activation Function"
      ]
    },
    {
      "cell_type": "markdown",
      "metadata": {
        "id": "rxoHgyrTXzvC"
      },
      "source": [
        "###Define params Model5"
      ]
    },
    {
      "cell_type": "code",
      "metadata": {
        "id": "V9tZ5S3wXzvD"
      },
      "source": [
        "modelConfig5 = {\n",
        "    \"train_steps\" : 1000,\n",
        "    \"learning_rate\" : 0.1,\n",
        "    \"activation_func\" : \"sigmoid\",\n",
        "\n",
        "    \"_weights\" : [\n",
        "        tf.Variable(tf.random.uniform([784, 512], minval=-0.1, maxval=0.1, dtype=np.float32)),\n",
        "        tf.Variable(tf.random.uniform([512, 256], minval=-0.1, maxval=0.1, dtype=np.float32)),\n",
        "        tf.Variable(tf.random.uniform([256, 10], minval=-0.1, maxval=0.1, dtype=np.float32))\n",
        "    ],\n",
        "\n",
        "    \"_biases\" : [\n",
        "        tf.Variable(np.zeros(512, dtype=np.float32)),\n",
        "        tf.Variable(np.zeros(256, dtype=np.float32)),\n",
        "        tf.Variable(np.zeros(10, dtype=np.float32))\n",
        "    ]\n",
        "}"
      ],
      "execution_count": null,
      "outputs": []
    },
    {
      "cell_type": "markdown",
      "metadata": {
        "id": "lB9PdN8NXzvE"
      },
      "source": [
        "###Define params Model6"
      ]
    },
    {
      "cell_type": "code",
      "metadata": {
        "id": "Nu1OUqB-XzvE"
      },
      "source": [
        "modelConfig6 = {\n",
        "    \"train_steps\" : 2000,\n",
        "    \"learning_rate\" : 0.01,\n",
        "    \"activation_func\" : \"sigmoid\",\n",
        "\n",
        "    \"_weights\" : [\n",
        "        tf.Variable(tf.random.uniform([784, 512], minval=-0.1, maxval=0.1, dtype=np.float32)),\n",
        "        tf.Variable(tf.random.uniform([512, 256], minval=-0.1, maxval=0.1, dtype=np.float32)),\n",
        "        tf.Variable(tf.random.uniform([256, 10], minval=-0.1, maxval=0.1, dtype=np.float32))\n",
        "    ],\n",
        "\n",
        "    \"_biases\" : [\n",
        "        tf.Variable(np.zeros(512, dtype=np.float32)),\n",
        "        tf.Variable(np.zeros(256, dtype=np.float32)),\n",
        "        tf.Variable(np.zeros(10, dtype=np.float32))\n",
        "    ]\n",
        "}"
      ],
      "execution_count": null,
      "outputs": []
    },
    {
      "cell_type": "markdown",
      "metadata": {
        "id": "xfWQW2ucXzvG"
      },
      "source": [
        "###Define params Model7"
      ]
    },
    {
      "cell_type": "code",
      "metadata": {
        "id": "ZnX9Z4cUXzvH"
      },
      "source": [
        "modelConfig7 = {\n",
        "    \"train_steps\" : 1000,\n",
        "    \"learning_rate\" : 0.1,\n",
        "    \"activation_func\" : \"sigmoid\",\n",
        "\n",
        "    \"_weights\" : [\n",
        "        tf.Variable(tf.random.uniform([784, 1568], minval=-0.1, maxval=0.1, dtype=np.float32)),\n",
        "        tf.Variable(tf.random.uniform([1568, 512], minval=-0.1, maxval=0.1, dtype=np.float32)),\n",
        "        tf.Variable(tf.random.uniform([512, 256], minval=-0.1, maxval=0.1, dtype=np.float32)),\n",
        "        tf.Variable(tf.random.uniform([256, 10], minval=-0.1, maxval=0.1, dtype=np.float32))\n",
        "    ],\n",
        "\n",
        "    \"_biases\" : [\n",
        "        tf.Variable(np.zeros(1568, dtype=np.float32)),\n",
        "        tf.Variable(np.zeros(512, dtype=np.float32)),\n",
        "        tf.Variable(np.zeros(256, dtype=np.float32)),\n",
        "        tf.Variable(np.zeros(10, dtype=np.float32))\n",
        "    ]\n",
        "}"
      ],
      "execution_count": null,
      "outputs": []
    },
    {
      "cell_type": "markdown",
      "metadata": {
        "id": "c9ykmv8gmKWO"
      },
      "source": [
        "###Define params Model8"
      ]
    },
    {
      "cell_type": "code",
      "metadata": {
        "id": "MowLTbDymKWO"
      },
      "source": [
        "modelConfig8 = {\n",
        "    \"train_steps\" : 1000,\n",
        "    \"learning_rate\" : 0.1,\n",
        "    \"activation_func\" : \"sigmoid\",\n",
        "\n",
        "    \"_weights\" : [\n",
        "        tf.Variable(tf.random.uniform([784, 512], minval=-0.15, maxval=0.15, dtype=np.float32)),\n",
        "        tf.Variable(tf.random.uniform([512, 256], minval=-0.15, maxval=0.15, dtype=np.float32)),\n",
        "        tf.Variable(tf.random.uniform([256, 10], minval=-0.15, maxval=0.15, dtype=np.float32))\n",
        "    ],\n",
        "\n",
        "    \"_biases\" : [\n",
        "        tf.Variable(np.zeros(512, dtype=np.float32)),\n",
        "        tf.Variable(np.zeros(256, dtype=np.float32)),\n",
        "        tf.Variable(np.zeros(10, dtype=np.float32))\n",
        "    ]\n",
        "}"
      ],
      "execution_count": null,
      "outputs": []
    },
    {
      "cell_type": "markdown",
      "metadata": {
        "id": "ZiPEmOEtdMWc"
      },
      "source": [
        "#Models Training"
      ]
    },
    {
      "cell_type": "markdown",
      "metadata": {
        "id": "vyOlYos5YpFp"
      },
      "source": [
        "##Relu Models Training"
      ]
    },
    {
      "cell_type": "code",
      "metadata": {
        "colab": {
          "base_uri": "https://localhost:8080/"
        },
        "id": "HhaPfa4jYOTK",
        "outputId": "58fbf9ec-11d6-4301-c583-2f2e66d68632"
      },
      "source": [
        "relu_models_Loss = []\n",
        "print(\"Model1 Start\")\n",
        "relu_models_Loss.append(model_Train(modelConfig1, reset_Data()))\n",
        "print(\"Model1 End\")\n",
        "print(\"\\n\")\n",
        "\n",
        "print(\"Model2 Start\")\n",
        "relu_models_Loss.append(model_Train(modelConfig2, reset_Data()))\n",
        "print(\"Model2 End\")\n",
        "print(\"\\n\")\n",
        "\n",
        "print(\"Model3 Start\")\n",
        "relu_models_Loss.append(model_Train(modelConfig3, reset_Data()))\n",
        "print(\"Model3 End\")\n",
        "print(\"\\n\")\n",
        "\n",
        "print(\"Model4 Start\")\n",
        "relu_models_Loss.append(model_Train(modelConfig4, reset_Data()))\n",
        "print(\"Model4 End\")\n",
        "print(\"\\n\")"
      ],
      "execution_count": null,
      "outputs": [
        {
          "output_type": "stream",
          "name": "stdout",
          "text": [
            "Model1 Start\n",
            "0\n",
            "Loss: 2.381075859069824 Accuracy: 0.0390625\n",
            "100\n",
            "Loss: 0.3935798406600952 Accuracy: 0.890625\n",
            "200\n",
            "Loss: 0.34569740295410156 Accuracy: 0.890625\n",
            "300\n",
            "Loss: 0.3507368564605713 Accuracy: 0.8828125\n",
            "400\n",
            "Loss: 0.2547987699508667 Accuracy: 0.9453125\n",
            "Starting new epoch...\n",
            "500\n",
            "Loss: 0.2598559856414795 Accuracy: 0.9140625\n",
            "600\n",
            "Loss: 0.2041759192943573 Accuracy: 0.9140625\n",
            "700\n",
            "Loss: 0.14646756649017334 Accuracy: 0.96875\n",
            "800\n",
            "Loss: 0.15130479633808136 Accuracy: 0.953125\n",
            "900\n",
            "Loss: 0.14336666464805603 Accuracy: 0.953125\n",
            "Starting new epoch...\n",
            "\n",
            "Test Accuracy: 0.9531999826431274\n",
            "Model1 End\n",
            "\n",
            "\n",
            "Model2 Start\n",
            "0\n",
            "Loss: 2.3345837593078613 Accuracy: 0.140625\n",
            "100\n",
            "Loss: 1.6893761157989502 Accuracy: 0.6484375\n",
            "200\n",
            "Loss: 0.969794750213623 Accuracy: 0.8359375\n",
            "300\n",
            "Loss: 0.8231353163719177 Accuracy: 0.796875\n",
            "400\n",
            "Loss: 0.6319172382354736 Accuracy: 0.8515625\n",
            "Starting new epoch...\n",
            "500\n",
            "Loss: 0.5770711898803711 Accuracy: 0.8515625\n",
            "600\n",
            "Loss: 0.4079449474811554 Accuracy: 0.890625\n",
            "700\n",
            "Loss: 0.5091657638549805 Accuracy: 0.8828125\n",
            "800\n",
            "Loss: 0.44206684827804565 Accuracy: 0.890625\n",
            "900\n",
            "Loss: 0.3206024169921875 Accuracy: 0.9140625\n",
            "Starting new epoch...\n",
            "1000\n",
            "Loss: 0.3704372048377991 Accuracy: 0.90625\n",
            "1100\n",
            "Loss: 0.34779292345046997 Accuracy: 0.9140625\n",
            "1200\n",
            "Loss: 0.40899088978767395 Accuracy: 0.890625\n",
            "1300\n",
            "Loss: 0.3329629898071289 Accuracy: 0.9453125\n",
            "1400\n",
            "Loss: 0.3540528416633606 Accuracy: 0.90625\n",
            "Starting new epoch...\n",
            "1500\n",
            "Loss: 0.3556845188140869 Accuracy: 0.875\n",
            "1600\n",
            "Loss: 0.3872847259044647 Accuracy: 0.90625\n",
            "1700\n",
            "Loss: 0.34948891401290894 Accuracy: 0.90625\n",
            "1800\n",
            "Loss: 0.35383808612823486 Accuracy: 0.9296875\n",
            "Starting new epoch...\n",
            "1900\n",
            "Loss: 0.4180704951286316 Accuracy: 0.8828125\n",
            "\n",
            "Test Accuracy: 0.9193999767303467\n",
            "Model2 End\n",
            "\n",
            "\n",
            "Model3 Start\n",
            "0\n",
            "Loss: 2.4578375816345215 Accuracy: 0.0859375\n",
            "100\n",
            "Loss: 0.3909000754356384 Accuracy: 0.875\n",
            "200\n",
            "Loss: 0.42890027165412903 Accuracy: 0.8984375\n",
            "300\n",
            "Loss: 0.23585784435272217 Accuracy: 0.921875\n",
            "400\n",
            "Loss: 0.2221240997314453 Accuracy: 0.9453125\n",
            "Starting new epoch...\n",
            "500\n",
            "Loss: 0.11992929875850677 Accuracy: 0.9609375\n",
            "600\n",
            "Loss: 0.19278067350387573 Accuracy: 0.9453125\n",
            "700\n",
            "Loss: 0.1157877966761589 Accuracy: 0.96875\n",
            "800\n",
            "Loss: 0.0740794986486435 Accuracy: 0.984375\n",
            "900\n",
            "Loss: 0.060507338494062424 Accuracy: 0.9921875\n",
            "Starting new epoch...\n",
            "\n",
            "Test Accuracy: 0.9668999910354614\n",
            "Model3 End\n",
            "\n",
            "\n",
            "Model4 Start\n",
            "0\n",
            "Loss: 2.6568117141723633 Accuracy: 0.0703125\n",
            "100\n",
            "Loss: 0.3489656150341034 Accuracy: 0.90625\n",
            "200\n",
            "Loss: 0.23145601153373718 Accuracy: 0.921875\n",
            "300\n",
            "Loss: 0.2645079791545868 Accuracy: 0.90625\n",
            "400\n",
            "Loss: 0.16955575346946716 Accuracy: 0.953125\n",
            "Starting new epoch...\n",
            "500\n",
            "Loss: 0.09979240596294403 Accuracy: 0.9765625\n",
            "600\n",
            "Loss: 0.19609379768371582 Accuracy: 0.921875\n",
            "700\n",
            "Loss: 0.14916102588176727 Accuracy: 0.9609375\n",
            "800\n",
            "Loss: 0.27375298738479614 Accuracy: 0.9453125\n",
            "900\n",
            "Loss: 0.2481904774904251 Accuracy: 0.90625\n",
            "Starting new epoch...\n",
            "\n",
            "Test Accuracy: 0.9570000171661377\n",
            "Model4 End\n",
            "\n",
            "\n"
          ]
        }
      ]
    },
    {
      "cell_type": "markdown",
      "metadata": {
        "id": "3NJOVEuIYucy"
      },
      "source": [
        "##Sigmoid Models Training"
      ]
    },
    {
      "cell_type": "code",
      "metadata": {
        "colab": {
          "base_uri": "https://localhost:8080/"
        },
        "id": "gjtYERLaYucy",
        "outputId": "8e860338-3dd9-451a-e2c8-c8bdfff8334e"
      },
      "source": [
        "sigmoid_models_Loss = []\n",
        "\n",
        "print(\"Model5 Start\")\n",
        "sigmoid_models_Loss.append(model_Train(modelConfig5, reset_Data()))\n",
        "print(\"Model5 End\")\n",
        "print(\"\\n\")\n",
        "\n",
        "print(\"Model6 Start\")\n",
        "sigmoid_models_Loss.append(model_Train(modelConfig6, reset_Data()))\n",
        "print(\"Model6 End\")\n",
        "print(\"\\n\")\n",
        "\n",
        "print(\"Model7 Start\")\n",
        "sigmoid_models_Loss.append(model_Train(modelConfig7, reset_Data()))\n",
        "print(\"Model7 End\")\n",
        "print(\"\\n\")\n",
        "\n",
        "print(\"Model8 Start\")\n",
        "sigmoid_models_Loss.append(model_Train(modelConfig8, reset_Data()))\n",
        "print(\"Model8 End\")\n",
        "print(\"\\n\")"
      ],
      "execution_count": null,
      "outputs": [
        {
          "output_type": "stream",
          "name": "stdout",
          "text": [
            "Model5 Start\n",
            "0\n",
            "Loss: 2.4440975189208984 Accuracy: 0.1484375\n",
            "100\n",
            "Loss: 2.1389193534851074 Accuracy: 0.3671875\n",
            "200\n",
            "Loss: 1.887211799621582 Accuracy: 0.3671875\n",
            "300\n",
            "Loss: 1.2644374370574951 Accuracy: 0.7421875\n",
            "400\n",
            "Loss: 1.0486950874328613 Accuracy: 0.7421875\n",
            "Starting new epoch...\n",
            "500\n",
            "Loss: 0.8527307510375977 Accuracy: 0.796875\n",
            "600\n",
            "Loss: 0.7003545165061951 Accuracy: 0.8125\n",
            "700\n",
            "Loss: 0.6440508961677551 Accuracy: 0.84375\n",
            "800\n",
            "Loss: 0.49190083146095276 Accuracy: 0.875\n",
            "900\n",
            "Loss: 0.3594120144844055 Accuracy: 0.921875\n",
            "Starting new epoch...\n",
            "\n",
            "Test Accuracy: 0.8806999921798706\n",
            "Model5 End\n",
            "\n",
            "\n",
            "Model6 Start\n",
            "0\n",
            "Loss: 2.4826855659484863 Accuracy: 0.09375\n",
            "100\n",
            "Loss: 2.293043851852417 Accuracy: 0.1640625\n",
            "200\n",
            "Loss: 2.251398801803589 Accuracy: 0.328125\n",
            "300\n",
            "Loss: 2.2529797554016113 Accuracy: 0.15625\n",
            "400\n",
            "Loss: 2.256352424621582 Accuracy: 0.3125\n",
            "Starting new epoch...\n",
            "500\n",
            "Loss: 2.22582745552063 Accuracy: 0.484375\n",
            "600\n",
            "Loss: 2.208690643310547 Accuracy: 0.265625\n",
            "700\n",
            "Loss: 2.1870102882385254 Accuracy: 0.3359375\n",
            "800\n",
            "Loss: 2.189126968383789 Accuracy: 0.390625\n",
            "900\n",
            "Loss: 2.148926019668579 Accuracy: 0.4140625\n",
            "Starting new epoch...\n",
            "1000\n",
            "Loss: 2.136091709136963 Accuracy: 0.5078125\n",
            "1100\n",
            "Loss: 2.126209259033203 Accuracy: 0.5078125\n",
            "1200\n",
            "Loss: 2.122790813446045 Accuracy: 0.453125\n",
            "1300\n",
            "Loss: 2.055683135986328 Accuracy: 0.546875\n",
            "1400\n",
            "Loss: 2.0368194580078125 Accuracy: 0.53125\n",
            "Starting new epoch...\n",
            "1500\n",
            "Loss: 1.9815224409103394 Accuracy: 0.6171875\n",
            "1600\n",
            "Loss: 1.961533546447754 Accuracy: 0.5859375\n",
            "1700\n",
            "Loss: 1.9128018617630005 Accuracy: 0.578125\n",
            "1800\n",
            "Loss: 1.909185767173767 Accuracy: 0.6171875\n",
            "Starting new epoch...\n",
            "1900\n",
            "Loss: 1.8214151859283447 Accuracy: 0.65625\n",
            "\n",
            "Test Accuracy: 0.6491000056266785\n",
            "Model6 End\n",
            "\n",
            "\n",
            "Model7 Start\n",
            "0\n",
            "Loss: 2.317098617553711 Accuracy: 0.09375\n",
            "100\n",
            "Loss: 2.3309073448181152 Accuracy: 0.078125\n",
            "200\n",
            "Loss: 2.179100275039673 Accuracy: 0.4765625\n",
            "300\n",
            "Loss: 1.995823860168457 Accuracy: 0.421875\n",
            "400\n",
            "Loss: 1.5823051929473877 Accuracy: 0.5703125\n",
            "Starting new epoch...\n",
            "500\n",
            "Loss: 1.1208124160766602 Accuracy: 0.671875\n",
            "600\n",
            "Loss: 0.9116184711456299 Accuracy: 0.765625\n",
            "700\n",
            "Loss: 0.8366389274597168 Accuracy: 0.7265625\n",
            "800\n",
            "Loss: 0.6612026691436768 Accuracy: 0.7890625\n",
            "900\n",
            "Loss: 0.6044601798057556 Accuracy: 0.8671875\n",
            "Starting new epoch...\n",
            "\n",
            "Test Accuracy: 0.8450999855995178\n",
            "Model7 End\n",
            "\n",
            "\n",
            "Model8 Start\n",
            "0\n",
            "Loss: 2.593111515045166 Accuracy: 0.1171875\n",
            "100\n",
            "Loss: 1.7049751281738281 Accuracy: 0.5703125\n",
            "200\n",
            "Loss: 1.098054051399231 Accuracy: 0.7578125\n",
            "300\n",
            "Loss: 0.8327675461769104 Accuracy: 0.78125\n",
            "400\n",
            "Loss: 0.7467004060745239 Accuracy: 0.796875\n",
            "Starting new epoch...\n",
            "500\n",
            "Loss: 0.5455586314201355 Accuracy: 0.890625\n",
            "600\n",
            "Loss: 0.4760323166847229 Accuracy: 0.875\n",
            "700\n",
            "Loss: 0.4043155014514923 Accuracy: 0.890625\n",
            "800\n",
            "Loss: 0.47525376081466675 Accuracy: 0.875\n",
            "900\n",
            "Loss: 0.3729899525642395 Accuracy: 0.8671875\n",
            "Starting new epoch...\n",
            "\n",
            "Test Accuracy: 0.8931000232696533\n",
            "Model8 End\n",
            "\n",
            "\n"
          ]
        }
      ]
    },
    {
      "cell_type": "markdown",
      "metadata": {
        "id": "lLvhzXncBykq"
      },
      "source": [
        "#visualize the loss"
      ]
    },
    {
      "cell_type": "markdown",
      "metadata": {
        "id": "2OFOUNuxZese"
      },
      "source": [
        "## Relu Loss"
      ]
    },
    {
      "cell_type": "code",
      "metadata": {
        "colab": {
          "base_uri": "https://localhost:8080/",
          "height": 295
        },
        "id": "WEHphHUE9YJU",
        "outputId": "5ae65ce1-0b1c-477f-b885-4da2d7c6df10"
      },
      "source": [
        "plt.plot(relu_models_Loss[0], label='Model_1')\n",
        "plt.plot(relu_models_Loss[1], label='Model_2')\n",
        "plt.plot(relu_models_Loss[2], label='Model_3')\n",
        "plt.plot(relu_models_Loss[3], label='Model_4')\n",
        "plt.xlabel('Steps')\n",
        "plt.ylabel('Loss')\n",
        "plt.title('Relu Activation function')\n",
        "plt.legend()\n",
        "plt.show()"
      ],
      "execution_count": null,
      "outputs": [
        {
          "output_type": "display_data",
          "data": {
            "image/png": "[encoded data removed]",
            "text/plain": [
              "<Figure size 432x288 with 1 Axes>"
            ]
          },
          "metadata": {
            "needs_background": "light"
          }
        }
      ]
    },
    {
      "cell_type": "markdown",
      "metadata": {
        "id": "U2CTsRqiZiup"
      },
      "source": [
        "## Sigmoid Loss"
      ]
    },
    {
      "cell_type": "code",
      "metadata": {
        "colab": {
          "base_uri": "https://localhost:8080/",
          "height": 295
        },
        "id": "VNH4-6e7Ziuq",
        "outputId": "464f6c87-c33d-42ac-a6ad-528771e90659"
      },
      "source": [
        "plt.plot(sigmoid_models_Loss[0], label='Model_5')\n",
        "plt.plot(sigmoid_models_Loss[1], label='Model_6')\n",
        "plt.plot(sigmoid_models_Loss[2], label='Model_7')\n",
        "plt.plot(sigmoid_models_Loss[3], label='Model_8')\n",
        "plt.xlabel('Steps')\n",
        "plt.ylabel('Loss')\n",
        "plt.title('Sigmoid Activation function')\n",
        "plt.legend()\n",
        "plt.show()"
      ],
      "execution_count": null,
      "outputs": [
        {
          "output_type": "display_data",
          "data": {
            "image/png": "[encoded data removed]",
            "text/plain": [
              "<Figure size 432x288 with 1 Axes>"
            ]
          },
          "metadata": {
            "needs_background": "light"
          }
        }
      ]
    },
    {
      "cell_type": "markdown",
      "metadata": {
        "id": "dA80-Dq9Nafm"
      },
      "source": [
        "#References\n",
        "\n",
        "\n",
        "1.   http://blog.ai.ovgu.de/posts/jens/2019/002_tf20_basic_mnist/index.html\n",
        "\n"
      ]
    }
  ]
}