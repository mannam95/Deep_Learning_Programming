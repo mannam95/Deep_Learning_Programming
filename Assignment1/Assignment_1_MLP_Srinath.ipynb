{
  "nbformat": 4,
  "nbformat_minor": 0,
  "metadata": {
    "colab": {
      "name": "Assignment_1_MLP_Srinath.ipynb",
      "provenance": [],
      "collapsed_sections": [
        "GW9A-uDZx9wq",
        "hBYC4kM2ppSs",
        "CLtYs70nqz3b",
        "wfDVrX2VunFA",
        "E315g-vRTsYD",
        "hai0NIyaN2go",
        "InzTeW3xdRAU",
        "APwijxbtXnDH",
        "Vy7lrKcQt0dp",
        "Q8ZoZ1gMddXx",
        "KL0DPIErO_3t",
        "j0FuEaWxlnJJ",
        "hOBOFjNYXzvB",
        "rxoHgyrTXzvC",
        "lB9PdN8NXzvE",
        "xfWQW2ucXzvG",
        "c9ykmv8gmKWO",
        "vyOlYos5YpFp",
        "3NJOVEuIYucy"
      ],
      "mount_file_id": "1DWjTFscmM8KYCe1HVyGgweSUIia_6PAz",
      "authorship_tag": "ABX9TyNhQLCP5J19Efaskk4HYeLV",
      "include_colab_link": true
    },
    "kernelspec": {
      "name": "python3",
      "display_name": "Python 3"
    }
  },
  "cells": [
    {
      "cell_type": "markdown",
      "metadata": {
        "id": "view-in-github",
        "colab_type": "text"
      },
      "source": [
        "<a href=\"https://colab.research.google.com/github/mannam95/Deep_Learning_Programming/blob/main/Assignment1/Assignment_1_MLP_Srinath.ipynb\" target=\"_parent\"><img src=\"https://colab.research.google.com/assets/colab-badge.svg\" alt=\"Open In Colab\"/></a>"
      ]
    },
    {
      "cell_type": "markdown",
      "metadata": {
        "id": "6vn94RPJ4oTU"
      },
      "source": [
        "#Team Assignment\n",
        "\n",
        "\n",
        "1.   Srinath Mannam (229750)\n",
        "2.   Meghana Rao (234907)\n",
        "3.   Govind Shukla (235192)\n",
        "\n",
        "Note: We have used the simple wrapper class defined in datasets.py, Please use that wrapper while testing\n",
        "\n"
      ]
    },
    {
      "cell_type": "markdown",
      "metadata": {
        "id": "GW9A-uDZx9wq"
      },
      "source": [
        "#Change the directory"
      ]
    },
    {
      "cell_type": "code",
      "metadata": {
        "colab": {
          "base_uri": "https://localhost:8080/"
        },
        "id": "wam6g9cNx9HU",
        "outputId": "7a94c01d-e9dd-4124-82ef-c8b70acd0a9a"
      },
      "source": [
        "from google.colab import drive\n",
        "drive.mount(\"/content/drive\")"
      ],
      "execution_count": 1,
      "outputs": [
        {
          "output_type": "stream",
          "name": "stdout",
          "text": [
            "Drive already mounted at /content/drive; to attempt to forcibly remount, call drive.mount(\"/content/drive\", force_remount=True).\n"
          ]
        }
      ]
    },
    {
      "cell_type": "code",
      "metadata": {
        "id": "XxBOM49SaFl7",
        "colab": {
          "base_uri": "https://localhost:8080/",
          "height": 0
        },
        "outputId": "77d347b7-c79c-4028-e534-68c50edc7642"
      },
      "source": [
        "import os\n",
        "working_directory = '/content/drive/My Drive/Colab Notebooks/OVGU/Deep_Learning/First_Assignment'\n",
        "if os.getcwd() !=  working_directory:\n",
        "  os.chdir(working_directory)\n",
        "os.getcwd()"
      ],
      "execution_count": 2,
      "outputs": [
        {
          "output_type": "execute_result",
          "data": {
            "application/vnd.google.colaboratory.intrinsic+json": {
              "type": "string"
            },
            "text/plain": [
              "'/content/drive/My Drive/Colab Notebooks/OVGU/Deep_Learning/First_Assignment'"
            ]
          },
          "metadata": {},
          "execution_count": 2
        }
      ]
    },
    {
      "cell_type": "markdown",
      "metadata": {
        "id": "hBYC4kM2ppSs"
      },
      "source": [
        "#import statements"
      ]
    },
    {
      "cell_type": "code",
      "metadata": {
        "id": "mJaGiGnXpsAP"
      },
      "source": [
        "import tensorflow as tf\n",
        "import numpy as np\n",
        "import matplotlib.pyplot as plt\n",
        "from datasets import MNISTDataset"
      ],
      "execution_count": 3,
      "outputs": []
    },
    {
      "cell_type": "markdown",
      "metadata": {
        "id": "kERRSBuXp5JT"
      },
      "source": [
        "##Check tensorflow version"
      ]
    },
    {
      "cell_type": "code",
      "metadata": {
        "colab": {
          "base_uri": "https://localhost:8080/",
          "height": 0
        },
        "id": "U3D4m_0Op4iZ",
        "outputId": "48538183-27b0-427b-9af3-978e985d9e54"
      },
      "source": [
        "tf.__version__"
      ],
      "execution_count": 4,
      "outputs": [
        {
          "output_type": "execute_result",
          "data": {
            "application/vnd.google.colaboratory.intrinsic+json": {
              "type": "string"
            },
            "text/plain": [
              "'2.6.0'"
            ]
          },
          "metadata": {},
          "execution_count": 4
        }
      ]
    },
    {
      "cell_type": "markdown",
      "metadata": {
        "id": "CLtYs70nqz3b"
      },
      "source": [
        "#Load Data"
      ]
    },
    {
      "cell_type": "code",
      "metadata": {
        "id": "Zegh4TeIq28p",
        "colab": {
          "base_uri": "https://localhost:8080/"
        },
        "outputId": "6e97fc17-522e-4040-8d31-679933d6c00e"
      },
      "source": [
        "mnist = tf.keras.datasets.mnist\n",
        "(train_images, train_labels), (test_images, test_labels) = mnist.load_data()"
      ],
      "execution_count": 5,
      "outputs": [
        {
          "output_type": "stream",
          "name": "stdout",
          "text": [
            "Downloading data from https://storage.googleapis.com/tensorflow/tf-keras-datasets/mnist.npz\n",
            "11493376/11490434 [==============================] - 0s 0us/step\n",
            "11501568/11490434 [==============================] - 0s 0us/step\n"
          ]
        }
      ]
    },
    {
      "cell_type": "code",
      "metadata": {
        "id": "Tn8ONaMC3gYG"
      },
      "source": [
        "#Re-shape the dataset and then pass it to the function which creates data into batches\n",
        "def reset_Data():\n",
        "  return MNISTDataset(train_images.reshape([-1, 784]), train_labels, \n",
        "                    test_images.reshape([-1, 784]), test_labels,\n",
        "                    batch_size=128)"
      ],
      "execution_count": 6,
      "outputs": []
    },
    {
      "cell_type": "code",
      "metadata": {
        "colab": {
          "base_uri": "https://localhost:8080/"
        },
        "id": "u8ioSRg6AYcU",
        "outputId": "e9e667b8-2bb7-4dfe-8a10-c1cd09dfa1fe"
      },
      "source": [
        "print(train_images.shape)\n",
        "print(train_labels.shape)\n",
        "print(test_images.shape)\n",
        "print(test_labels.shape)"
      ],
      "execution_count": 7,
      "outputs": [
        {
          "output_type": "stream",
          "name": "stdout",
          "text": [
            "(60000, 28, 28)\n",
            "(60000,)\n",
            "(10000, 28, 28)\n",
            "(10000,)\n"
          ]
        }
      ]
    },
    {
      "cell_type": "markdown",
      "metadata": {
        "id": "wfDVrX2VunFA"
      },
      "source": [
        "## Visualize some images on some training and test data"
      ]
    },
    {
      "cell_type": "code",
      "metadata": {
        "colab": {
          "base_uri": "https://localhost:8080/",
          "height": 0
        },
        "id": "_X_MvhoZumPn",
        "outputId": "d58508b0-ecbf-4fd6-e568-ef6b66be8c2a"
      },
      "source": [
        "print(train_labels[3])\n",
        "plt.imshow(train_images[3], cmap=\"Greys_r\")"
      ],
      "execution_count": 8,
      "outputs": [
        {
          "output_type": "stream",
          "name": "stdout",
          "text": [
            "1\n"
          ]
        },
        {
          "output_type": "execute_result",
          "data": {
            "text/plain": [
              "<matplotlib.image.AxesImage at 0x7f14f577c450>"
            ]
          },
          "metadata": {},
          "execution_count": 8
        },
        {
          "output_type": "display_data",
          "data": {
            "image/png": "[encoded data removed]",
            "text/plain": [
              "<Figure size 432x288 with 1 Axes>"
            ]
          },
          "metadata": {
            "needs_background": "light"
          }
        }
      ]
    },
    {
      "cell_type": "code",
      "metadata": {
        "colab": {
          "base_uri": "https://localhost:8080/",
          "height": 0
        },
        "id": "VpaNU36_vXzy",
        "outputId": "47441c94-44fd-4fec-e3d9-1dabbe580a86"
      },
      "source": [
        "print(test_labels[121])\n",
        "plt.imshow(test_images[121], cmap=\"Greys_r\")"
      ],
      "execution_count": 9,
      "outputs": [
        {
          "output_type": "stream",
          "name": "stdout",
          "text": [
            "4\n"
          ]
        },
        {
          "output_type": "execute_result",
          "data": {
            "text/plain": [
              "<matplotlib.image.AxesImage at 0x7f14f5259690>"
            ]
          },
          "metadata": {},
          "execution_count": 9
        },
        {
          "output_type": "display_data",
          "data": {
            "image/png": "[encoded data removed]",
            "text/plain": [
              "<Figure size 432x288 with 1 Axes>"
            ]
          },
          "metadata": {
            "needs_background": "light"
          }
        }
      ]
    },
    {
      "cell_type": "markdown",
      "metadata": {
        "id": "E315g-vRTsYD"
      },
      "source": [
        "#A function that will choose the activation function"
      ]
    },
    {
      "cell_type": "code",
      "metadata": {
        "id": "xVzxCDlcTyg9"
      },
      "source": [
        "def dynamicActiFunc(actFun, currLogits):\n",
        "  if actFun == \"relu\":\n",
        "    return tf.nn.relu(currLogits)\n",
        "  elif actFun == \"lrelu\":\n",
        "    return tf.nn.leaky_relu(currLogits)\n",
        "  elif actFun == \"sigmoid\":\n",
        "    return tf.nn.sigmoid(currLogits)\n",
        "  else:\n",
        "    return tf.nn.relu(currLogits)"
      ],
      "execution_count": 10,
      "outputs": []
    },
    {
      "cell_type": "markdown",
      "metadata": {
        "id": "hai0NIyaN2go"
      },
      "source": [
        "#Define a Generic function for training"
      ]
    },
    {
      "cell_type": "code",
      "metadata": {
        "id": "eqTYHVmVN06T"
      },
      "source": [
        "def model_Train(_modelConfig, data):\n",
        "  loss_list = []\n",
        "  for step in range(_modelConfig[\"train_steps\"]):\n",
        "      img_batch, lbl_batch = data.next_batch()\n",
        "      with tf.GradientTape() as tape:\n",
        "          #loop that will goes forward for every hidden layer\n",
        "          for ind in range(len(_modelConfig[\"_weights\"])-1):\n",
        "            if ind == 0:\n",
        "              hPrevLogits = tf.matmul(img_batch, _modelConfig[\"_weights\"][ind]) + _modelConfig[\"_biases\"][ind]\n",
        "              hPrevOutput = dynamicActiFunc(_modelConfig[\"activation_func\"], hPrevLogits)\n",
        "            else :\n",
        "              hcurrLogits = tf.matmul(hPrevOutput, _modelConfig[\"_weights\"][ind]) + _modelConfig[\"_biases\"][ind]\n",
        "              hcurrOutput = dynamicActiFunc(_modelConfig[\"activation_func\"], hcurrLogits)\n",
        "              hPrevOutput = hcurrOutput\n",
        "\n",
        "          lastInd = len(_modelConfig[\"_weights\"])-1\n",
        "\n",
        "          #final output layer\n",
        "          logits = tf.matmul(hcurrOutput, _modelConfig[\"_weights\"][lastInd]) + _modelConfig[\"_biases\"][lastInd]\n",
        "          xent = tf.reduce_mean(tf.nn.sparse_softmax_cross_entropy_with_logits(\n",
        "              logits=logits, labels=lbl_batch))\n",
        "          \n",
        "      grads = tape.gradient(xent, [*_modelConfig[\"_weights\"], *_modelConfig[\"_biases\"]])\n",
        "\n",
        "      #update weights\n",
        "      for ind in range(len(_modelConfig[\"_weights\"])):\n",
        "        _modelConfig[\"_weights\"][ind].assign_sub(_modelConfig[\"learning_rate\"] * grads[ind])\n",
        "      \n",
        "      #update biases\n",
        "      for ind in range(len(_modelConfig[\"_biases\"])):\n",
        "        _modelConfig[\"_biases\"][ind].assign_sub(_modelConfig[\"learning_rate\"] * grads[ind + len(_modelConfig[\"_biases\"])])\n",
        "\n",
        "      loss_list.append(xent)\n",
        "      if not step % 100:\n",
        "          print(step)\n",
        "          preds = tf.argmax(logits, axis=1, output_type=tf.int32)\n",
        "          acc = tf.reduce_mean(tf.cast(tf.equal(preds, lbl_batch),\n",
        "                              tf.float32))\n",
        "          print(\"Loss: {} Accuracy: {}\".format(xent, acc))\n",
        "\n",
        "  #Predict for Test Dataset\n",
        "  for ind in range(len(_modelConfig[\"_weights\"])-1):\n",
        "      if ind == 0:\n",
        "        hPrevLogits = tf.matmul(data.test_data, _modelConfig[\"_weights\"][ind]) + _modelConfig[\"_biases\"][ind]\n",
        "        hPrevOutput = dynamicActiFunc(_modelConfig[\"activation_func\"], hPrevLogits)\n",
        "      else :\n",
        "        hcurrLogits = tf.matmul(hPrevOutput, _modelConfig[\"_weights\"][ind]) + _modelConfig[\"_biases\"][ind]\n",
        "        hcurrOutput = dynamicActiFunc(_modelConfig[\"activation_func\"], hcurrLogits)\n",
        "        hPrevOutput = hcurrOutput\n",
        "\n",
        "  lastInd = len(_modelConfig[\"_weights\"])-1\n",
        "  test_preds = tf.argmax(tf.matmul(hcurrOutput, _modelConfig[\"_weights\"][lastInd]) + _modelConfig[\"_biases\"][lastInd], axis=1,\n",
        "                       output_type=tf.int32)\n",
        "  acc = tf.reduce_mean(tf.cast(tf.equal(test_preds, data.test_labels),\n",
        "                              tf.float32))\n",
        "  print(\"\\nTest Accuracy: {}\".format(acc))\n",
        "  return loss_list"
      ],
      "execution_count": 11,
      "outputs": []
    },
    {
      "cell_type": "markdown",
      "metadata": {
        "id": "InzTeW3xdRAU"
      },
      "source": [
        "#Models Config"
      ]
    },
    {
      "cell_type": "markdown",
      "metadata": {
        "id": "APwijxbtXnDH"
      },
      "source": [
        "##Relu Activation Function"
      ]
    },
    {
      "cell_type": "markdown",
      "metadata": {
        "id": "Vy7lrKcQt0dp"
      },
      "source": [
        "###Define params Model1"
      ]
    },
    {
      "cell_type": "code",
      "metadata": {
        "id": "Cuohb9MMt9Ws"
      },
      "source": [
        "modelConfig1 = {\n",
        "    \"train_steps\" : 1000,\n",
        "    \"learning_rate\" : 0.1,\n",
        "    \"activation_func\" : \"relu\",\n",
        "\n",
        "    \"_weights\" : [\n",
        "        tf.Variable(tf.random.uniform([784, 512], minval=-0.1, maxval=0.1, dtype=np.float32)),\n",
        "        tf.Variable(tf.random.uniform([512, 256], minval=-0.1, maxval=0.1, dtype=np.float32)),\n",
        "        tf.Variable(tf.random.uniform([256, 10], minval=-0.1, maxval=0.1, dtype=np.float32))\n",
        "    ],\n",
        "\n",
        "    \"_biases\" : [\n",
        "        tf.Variable(np.zeros(512, dtype=np.float32)),\n",
        "        tf.Variable(np.zeros(256, dtype=np.float32)),\n",
        "        tf.Variable(np.zeros(10, dtype=np.float32))\n",
        "    ]\n",
        "}"
      ],
      "execution_count": 12,
      "outputs": []
    },
    {
      "cell_type": "markdown",
      "metadata": {
        "id": "Q8ZoZ1gMddXx"
      },
      "source": [
        "###Define params Model2"
      ]
    },
    {
      "cell_type": "code",
      "metadata": {
        "id": "oJL0X9UvddXx"
      },
      "source": [
        "modelConfig2 = {\n",
        "    \"train_steps\" : 2000,\n",
        "    \"learning_rate\" : 0.01,\n",
        "    \"activation_func\" : \"relu\",\n",
        "\n",
        "    \"_weights\" : [\n",
        "        tf.Variable(tf.random.uniform([784, 512], minval=-0.1, maxval=0.1, dtype=np.float32)),\n",
        "        tf.Variable(tf.random.uniform([512, 256], minval=-0.1, maxval=0.1, dtype=np.float32)),\n",
        "        tf.Variable(tf.random.uniform([256, 10], minval=-0.1, maxval=0.1, dtype=np.float32))\n",
        "    ],\n",
        "\n",
        "    \"_biases\" : [\n",
        "        tf.Variable(np.zeros(512, dtype=np.float32)),\n",
        "        tf.Variable(np.zeros(256, dtype=np.float32)),\n",
        "        tf.Variable(np.zeros(10, dtype=np.float32))\n",
        "    ]\n",
        "}"
      ],
      "execution_count": 13,
      "outputs": []
    },
    {
      "cell_type": "markdown",
      "metadata": {
        "id": "KL0DPIErO_3t"
      },
      "source": [
        "###Define params Model3"
      ]
    },
    {
      "cell_type": "code",
      "metadata": {
        "id": "VZ03c3CeO_3u"
      },
      "source": [
        "modelConfig3 = {\n",
        "    \"train_steps\" : 1000,\n",
        "    \"learning_rate\" : 0.1,\n",
        "    \"activation_func\" : \"relu\",\n",
        "\n",
        "    \"_weights\" : [\n",
        "        tf.Variable(tf.random.uniform([784, 1568], minval=-0.1, maxval=0.1, dtype=np.float32)),\n",
        "        tf.Variable(tf.random.uniform([1568, 512], minval=-0.1, maxval=0.1, dtype=np.float32)),\n",
        "        tf.Variable(tf.random.uniform([512, 256], minval=-0.1, maxval=0.1, dtype=np.float32)),\n",
        "        tf.Variable(tf.random.uniform([256, 10], minval=-0.1, maxval=0.1, dtype=np.float32))\n",
        "    ],\n",
        "\n",
        "    \"_biases\" : [\n",
        "        tf.Variable(np.zeros(1568, dtype=np.float32)),\n",
        "        tf.Variable(np.zeros(512, dtype=np.float32)),\n",
        "        tf.Variable(np.zeros(256, dtype=np.float32)),\n",
        "        tf.Variable(np.zeros(10, dtype=np.float32))\n",
        "    ]\n",
        "}"
      ],
      "execution_count": 14,
      "outputs": []
    },
    {
      "cell_type": "markdown",
      "metadata": {
        "id": "j0FuEaWxlnJJ"
      },
      "source": [
        "###Define params Model4"
      ]
    },
    {
      "cell_type": "code",
      "metadata": {
        "id": "qIWvbpmtlnJP"
      },
      "source": [
        "modelConfig4 = {\n",
        "    \"train_steps\" : 1000,\n",
        "    \"learning_rate\" : 0.1,\n",
        "    \"activation_func\" : \"relu\",\n",
        "\n",
        "    \"_weights\" : [\n",
        "        tf.Variable(tf.random.uniform([784, 512], minval=-0.15, maxval=0.15, dtype=np.float32)),\n",
        "        tf.Variable(tf.random.uniform([512, 256], minval=-0.15, maxval=0.15, dtype=np.float32)),\n",
        "        tf.Variable(tf.random.uniform([256, 10], minval=-0.15, maxval=0.15, dtype=np.float32))\n",
        "    ],\n",
        "\n",
        "    \"_biases\" : [\n",
        "        tf.Variable(np.zeros(512, dtype=np.float32)),\n",
        "        tf.Variable(np.zeros(256, dtype=np.float32)),\n",
        "        tf.Variable(np.zeros(10, dtype=np.float32))\n",
        "    ]\n",
        "}"
      ],
      "execution_count": 15,
      "outputs": []
    },
    {
      "cell_type": "markdown",
      "metadata": {
        "id": "hOBOFjNYXzvB"
      },
      "source": [
        "##Sigmoid Activation Function"
      ]
    },
    {
      "cell_type": "markdown",
      "metadata": {
        "id": "rxoHgyrTXzvC"
      },
      "source": [
        "###Define params Model5"
      ]
    },
    {
      "cell_type": "code",
      "metadata": {
        "id": "V9tZ5S3wXzvD"
      },
      "source": [
        "modelConfig5 = {\n",
        "    \"train_steps\" : 1000,\n",
        "    \"learning_rate\" : 0.1,\n",
        "    \"activation_func\" : \"sigmoid\",\n",
        "\n",
        "    \"_weights\" : [\n",
        "        tf.Variable(tf.random.uniform([784, 512], minval=-0.1, maxval=0.1, dtype=np.float32)),\n",
        "        tf.Variable(tf.random.uniform([512, 256], minval=-0.1, maxval=0.1, dtype=np.float32)),\n",
        "        tf.Variable(tf.random.uniform([256, 10], minval=-0.1, maxval=0.1, dtype=np.float32))\n",
        "    ],\n",
        "\n",
        "    \"_biases\" : [\n",
        "        tf.Variable(np.zeros(512, dtype=np.float32)),\n",
        "        tf.Variable(np.zeros(256, dtype=np.float32)),\n",
        "        tf.Variable(np.zeros(10, dtype=np.float32))\n",
        "    ]\n",
        "}"
      ],
      "execution_count": 16,
      "outputs": []
    },
    {
      "cell_type": "markdown",
      "metadata": {
        "id": "lB9PdN8NXzvE"
      },
      "source": [
        "###Define params Model6"
      ]
    },
    {
      "cell_type": "code",
      "metadata": {
        "id": "Nu1OUqB-XzvE"
      },
      "source": [
        "modelConfig6 = {\n",
        "    \"train_steps\" : 2000,\n",
        "    \"learning_rate\" : 0.01,\n",
        "    \"activation_func\" : \"sigmoid\",\n",
        "\n",
        "    \"_weights\" : [\n",
        "        tf.Variable(tf.random.uniform([784, 512], minval=-0.1, maxval=0.1, dtype=np.float32)),\n",
        "        tf.Variable(tf.random.uniform([512, 256], minval=-0.1, maxval=0.1, dtype=np.float32)),\n",
        "        tf.Variable(tf.random.uniform([256, 10], minval=-0.1, maxval=0.1, dtype=np.float32))\n",
        "    ],\n",
        "\n",
        "    \"_biases\" : [\n",
        "        tf.Variable(np.zeros(512, dtype=np.float32)),\n",
        "        tf.Variable(np.zeros(256, dtype=np.float32)),\n",
        "        tf.Variable(np.zeros(10, dtype=np.float32))\n",
        "    ]\n",
        "}"
      ],
      "execution_count": 17,
      "outputs": []
    },
    {
      "cell_type": "markdown",
      "metadata": {
        "id": "xfWQW2ucXzvG"
      },
      "source": [
        "###Define params Model7"
      ]
    },
    {
      "cell_type": "code",
      "metadata": {
        "id": "ZnX9Z4cUXzvH"
      },
      "source": [
        "modelConfig7 = {\n",
        "    \"train_steps\" : 1000,\n",
        "    \"learning_rate\" : 0.1,\n",
        "    \"activation_func\" : \"sigmoid\",\n",
        "\n",
        "    \"_weights\" : [\n",
        "        tf.Variable(tf.random.uniform([784, 1568], minval=-0.1, maxval=0.1, dtype=np.float32)),\n",
        "        tf.Variable(tf.random.uniform([1568, 512], minval=-0.1, maxval=0.1, dtype=np.float32)),\n",
        "        tf.Variable(tf.random.uniform([512, 256], minval=-0.1, maxval=0.1, dtype=np.float32)),\n",
        "        tf.Variable(tf.random.uniform([256, 10], minval=-0.1, maxval=0.1, dtype=np.float32))\n",
        "    ],\n",
        "\n",
        "    \"_biases\" : [\n",
        "        tf.Variable(np.zeros(1568, dtype=np.float32)),\n",
        "        tf.Variable(np.zeros(512, dtype=np.float32)),\n",
        "        tf.Variable(np.zeros(256, dtype=np.float32)),\n",
        "        tf.Variable(np.zeros(10, dtype=np.float32))\n",
        "    ]\n",
        "}"
      ],
      "execution_count": 18,
      "outputs": []
    },
    {
      "cell_type": "markdown",
      "metadata": {
        "id": "c9ykmv8gmKWO"
      },
      "source": [
        "###Define params Model8"
      ]
    },
    {
      "cell_type": "code",
      "metadata": {
        "id": "MowLTbDymKWO"
      },
      "source": [
        "modelConfig8 = {\n",
        "    \"train_steps\" : 1000,\n",
        "    \"learning_rate\" : 0.1,\n",
        "    \"activation_func\" : \"sigmoid\",\n",
        "\n",
        "    \"_weights\" : [\n",
        "        tf.Variable(tf.random.uniform([784, 512], minval=-0.15, maxval=0.15, dtype=np.float32)),\n",
        "        tf.Variable(tf.random.uniform([512, 256], minval=-0.15, maxval=0.15, dtype=np.float32)),\n",
        "        tf.Variable(tf.random.uniform([256, 10], minval=-0.15, maxval=0.15, dtype=np.float32))\n",
        "    ],\n",
        "\n",
        "    \"_biases\" : [\n",
        "        tf.Variable(np.zeros(512, dtype=np.float32)),\n",
        "        tf.Variable(np.zeros(256, dtype=np.float32)),\n",
        "        tf.Variable(np.zeros(10, dtype=np.float32))\n",
        "    ]\n",
        "}"
      ],
      "execution_count": 19,
      "outputs": []
    },
    {
      "cell_type": "markdown",
      "metadata": {
        "id": "ZiPEmOEtdMWc"
      },
      "source": [
        "#Models Training"
      ]
    },
    {
      "cell_type": "markdown",
      "metadata": {
        "id": "vyOlYos5YpFp"
      },
      "source": [
        "##Relu Models Training"
      ]
    },
    {
      "cell_type": "code",
      "metadata": {
        "colab": {
          "base_uri": "https://localhost:8080/"
        },
        "id": "HhaPfa4jYOTK",
        "outputId": "01434c73-caf2-4b15-87a1-a783fa996424"
      },
      "source": [
        "relu_models_Loss = []\n",
        "print(\"Model1 Start\")\n",
        "relu_models_Loss.append(model_Train(modelConfig1, reset_Data()))\n",
        "print(\"Model1 End\")\n",
        "print(\"\\n\")\n",
        "\n",
        "print(\"Model2 Start\")\n",
        "relu_models_Loss.append(model_Train(modelConfig2, reset_Data()))\n",
        "print(\"Model2 End\")\n",
        "print(\"\\n\")\n",
        "\n",
        "print(\"Model3 Start\")\n",
        "relu_models_Loss.append(model_Train(modelConfig3, reset_Data()))\n",
        "print(\"Model3 End\")\n",
        "print(\"\\n\")\n",
        "\n",
        "print(\"Model4 Start\")\n",
        "relu_models_Loss.append(model_Train(modelConfig4, reset_Data()))\n",
        "print(\"Model4 End\")\n",
        "print(\"\\n\")"
      ],
      "execution_count": 20,
      "outputs": [
        {
          "output_type": "stream",
          "name": "stdout",
          "text": [
            "Model1 Start\n",
            "0\n",
            "Loss: 2.4424185752868652 Accuracy: 0.0703125\n",
            "100\n",
            "Loss: 0.4265841245651245 Accuracy: 0.8359375\n",
            "200\n",
            "Loss: 0.2950618267059326 Accuracy: 0.8984375\n",
            "300\n",
            "Loss: 0.24989178776741028 Accuracy: 0.8984375\n",
            "400\n",
            "Loss: 0.3571683466434479 Accuracy: 0.921875\n",
            "Starting new epoch...\n",
            "500\n",
            "Loss: 0.3062754273414612 Accuracy: 0.90625\n",
            "600\n",
            "Loss: 0.17096789181232452 Accuracy: 0.9609375\n",
            "700\n",
            "Loss: 0.22708013653755188 Accuracy: 0.9375\n",
            "800\n",
            "Loss: 0.15772274136543274 Accuracy: 0.9453125\n",
            "900\n",
            "Loss: 0.19214674830436707 Accuracy: 0.9375\n",
            "Starting new epoch...\n",
            "\n",
            "Test Accuracy: 0.9563999772071838\n",
            "Model1 End\n",
            "\n",
            "\n",
            "Model2 Start\n",
            "0\n",
            "Loss: 2.4327313899993896 Accuracy: 0.0625\n",
            "100\n",
            "Loss: 1.6361520290374756 Accuracy: 0.65625\n",
            "200\n",
            "Loss: 0.9929279088973999 Accuracy: 0.8515625\n",
            "300\n",
            "Loss: 0.7997169494628906 Accuracy: 0.8125\n",
            "400\n",
            "Loss: 0.6306605339050293 Accuracy: 0.828125\n",
            "Starting new epoch...\n",
            "500\n",
            "Loss: 0.6130359768867493 Accuracy: 0.8359375\n",
            "600\n",
            "Loss: 0.46647554636001587 Accuracy: 0.8828125\n",
            "700\n",
            "Loss: 0.5693310499191284 Accuracy: 0.7890625\n",
            "800\n",
            "Loss: 0.3905777037143707 Accuracy: 0.8828125\n",
            "900\n",
            "Loss: 0.4489041566848755 Accuracy: 0.8671875\n",
            "Starting new epoch...\n",
            "1000\n",
            "Loss: 0.49408096075057983 Accuracy: 0.875\n",
            "1100\n",
            "Loss: 0.3624127209186554 Accuracy: 0.890625\n",
            "1200\n",
            "Loss: 0.3117375075817108 Accuracy: 0.921875\n",
            "1300\n",
            "Loss: 0.27479851245880127 Accuracy: 0.921875\n",
            "1400\n",
            "Loss: 0.3691786229610443 Accuracy: 0.921875\n",
            "Starting new epoch...\n",
            "1500\n",
            "Loss: 0.33141428232192993 Accuracy: 0.8984375\n",
            "1600\n",
            "Loss: 0.25745171308517456 Accuracy: 0.9453125\n",
            "1700\n",
            "Loss: 0.2349088191986084 Accuracy: 0.953125\n",
            "1800\n",
            "Loss: 0.32828453183174133 Accuracy: 0.9140625\n",
            "Starting new epoch...\n",
            "1900\n",
            "Loss: 0.28205743432044983 Accuracy: 0.921875\n",
            "\n",
            "Test Accuracy: 0.916700005531311\n",
            "Model2 End\n",
            "\n",
            "\n",
            "Model3 Start\n",
            "0\n",
            "Loss: 2.4086484909057617 Accuracy: 0.09375\n",
            "100\n",
            "Loss: 0.31428325176239014 Accuracy: 0.90625\n",
            "200\n",
            "Loss: 0.29586201906204224 Accuracy: 0.8828125\n",
            "300\n",
            "Loss: 0.2514854669570923 Accuracy: 0.9140625\n",
            "400\n",
            "Loss: 0.15651419758796692 Accuracy: 0.9296875\n",
            "Starting new epoch...\n",
            "500\n",
            "Loss: 0.07591849565505981 Accuracy: 0.9765625\n",
            "600\n",
            "Loss: 0.1281730681657791 Accuracy: 0.9765625\n",
            "700\n",
            "Loss: 0.1808258295059204 Accuracy: 0.9453125\n",
            "800\n",
            "Loss: 0.11997279524803162 Accuracy: 0.9765625\n",
            "900\n",
            "Loss: 0.12796396017074585 Accuracy: 0.9765625\n",
            "Starting new epoch...\n",
            "\n",
            "Test Accuracy: 0.9610000252723694\n",
            "Model3 End\n",
            "\n",
            "\n",
            "Model4 Start\n",
            "0\n",
            "Loss: 2.9550211429595947 Accuracy: 0.109375\n",
            "100\n",
            "Loss: 0.24704208970069885 Accuracy: 0.953125\n",
            "200\n",
            "Loss: 0.2920227646827698 Accuracy: 0.890625\n",
            "300\n",
            "Loss: 0.22410863637924194 Accuracy: 0.921875\n",
            "400\n",
            "Loss: 0.29332929849624634 Accuracy: 0.921875\n",
            "Starting new epoch...\n",
            "500\n",
            "Loss: 0.21063841879367828 Accuracy: 0.9375\n",
            "600\n",
            "Loss: 0.10062655806541443 Accuracy: 0.9609375\n",
            "700\n",
            "Loss: 0.27219337224960327 Accuracy: 0.9375\n",
            "800\n",
            "Loss: 0.10201267898082733 Accuracy: 0.953125\n",
            "900\n",
            "Loss: 0.11290459334850311 Accuracy: 0.9609375\n",
            "Starting new epoch...\n",
            "\n",
            "Test Accuracy: 0.9599000215530396\n",
            "Model4 End\n",
            "\n",
            "\n"
          ]
        }
      ]
    },
    {
      "cell_type": "markdown",
      "metadata": {
        "id": "3NJOVEuIYucy"
      },
      "source": [
        "##Sigmoid Models Training"
      ]
    },
    {
      "cell_type": "code",
      "metadata": {
        "colab": {
          "base_uri": "https://localhost:8080/"
        },
        "id": "gjtYERLaYucy",
        "outputId": "d89353a5-c673-47a6-962c-e3babe33c386"
      },
      "source": [
        "sigmoid_models_Loss = []\n",
        "\n",
        "print(\"Model5 Start\")\n",
        "sigmoid_models_Loss.append(model_Train(modelConfig5, reset_Data()))\n",
        "print(\"Model5 End\")\n",
        "print(\"\\n\")\n",
        "\n",
        "print(\"Model6 Start\")\n",
        "sigmoid_models_Loss.append(model_Train(modelConfig6, reset_Data()))\n",
        "print(\"Model6 End\")\n",
        "print(\"\\n\")\n",
        "\n",
        "print(\"Model7 Start\")\n",
        "sigmoid_models_Loss.append(model_Train(modelConfig7, reset_Data()))\n",
        "print(\"Model7 End\")\n",
        "print(\"\\n\")\n",
        "\n",
        "print(\"Model8 Start\")\n",
        "sigmoid_models_Loss.append(model_Train(modelConfig8, reset_Data()))\n",
        "print(\"Model8 End\")\n",
        "print(\"\\n\")"
      ],
      "execution_count": 21,
      "outputs": [
        {
          "output_type": "stream",
          "name": "stdout",
          "text": [
            "Model5 Start\n",
            "0\n",
            "Loss: 2.3299221992492676 Accuracy: 0.125\n",
            "100\n",
            "Loss: 2.130507707595825 Accuracy: 0.5859375\n",
            "200\n",
            "Loss: 1.799695372581482 Accuracy: 0.65625\n",
            "300\n",
            "Loss: 1.2939327955245972 Accuracy: 0.71875\n",
            "400\n",
            "Loss: 0.9421064853668213 Accuracy: 0.75\n",
            "Starting new epoch...\n",
            "500\n",
            "Loss: 0.7453756928443909 Accuracy: 0.8125\n",
            "600\n",
            "Loss: 0.6239126920700073 Accuracy: 0.875\n",
            "700\n",
            "Loss: 0.5947445631027222 Accuracy: 0.8359375\n",
            "800\n",
            "Loss: 0.5863546133041382 Accuracy: 0.8203125\n",
            "900\n",
            "Loss: 0.6496519446372986 Accuracy: 0.8046875\n",
            "Starting new epoch...\n",
            "\n",
            "Test Accuracy: 0.8804000020027161\n",
            "Model5 End\n",
            "\n",
            "\n",
            "Model6 Start\n",
            "0\n",
            "Loss: 2.332751750946045 Accuracy: 0.1484375\n",
            "100\n",
            "Loss: 2.2896533012390137 Accuracy: 0.109375\n",
            "200\n",
            "Loss: 2.271111488342285 Accuracy: 0.1796875\n",
            "300\n",
            "Loss: 2.2568421363830566 Accuracy: 0.296875\n",
            "400\n",
            "Loss: 2.2561235427856445 Accuracy: 0.2890625\n",
            "Starting new epoch...\n",
            "500\n",
            "Loss: 2.224205255508423 Accuracy: 0.3828125\n",
            "600\n",
            "Loss: 2.2075767517089844 Accuracy: 0.3984375\n",
            "700\n",
            "Loss: 2.1962075233459473 Accuracy: 0.5625\n",
            "800\n",
            "Loss: 2.1804959774017334 Accuracy: 0.5703125\n",
            "900\n",
            "Loss: 2.151743173599243 Accuracy: 0.5234375\n",
            "Starting new epoch...\n",
            "1000\n",
            "Loss: 2.150655746459961 Accuracy: 0.53125\n",
            "1100\n",
            "Loss: 2.1136670112609863 Accuracy: 0.421875\n",
            "1200\n",
            "Loss: 2.0846052169799805 Accuracy: 0.7109375\n",
            "1300\n",
            "Loss: 2.0655150413513184 Accuracy: 0.5625\n",
            "1400\n",
            "Loss: 2.0521504878997803 Accuracy: 0.625\n",
            "Starting new epoch...\n",
            "1500\n",
            "Loss: 1.9991836547851562 Accuracy: 0.65625\n",
            "1600\n",
            "Loss: 1.9643731117248535 Accuracy: 0.6484375\n",
            "1700\n",
            "Loss: 1.923950433731079 Accuracy: 0.5859375\n",
            "1800\n",
            "Loss: 1.8647996187210083 Accuracy: 0.671875\n",
            "Starting new epoch...\n",
            "1900\n",
            "Loss: 1.8296592235565186 Accuracy: 0.671875\n",
            "\n",
            "Test Accuracy: 0.642799973487854\n",
            "Model6 End\n",
            "\n",
            "\n",
            "Model7 Start\n",
            "0\n",
            "Loss: 2.2958083152770996 Accuracy: 0.140625\n",
            "100\n",
            "Loss: 2.254045009613037 Accuracy: 0.3515625\n",
            "200\n",
            "Loss: 2.244174003601074 Accuracy: 0.2734375\n",
            "300\n",
            "Loss: 1.9497087001800537 Accuracy: 0.390625\n",
            "400\n",
            "Loss: 1.5224430561065674 Accuracy: 0.5390625\n",
            "Starting new epoch...\n",
            "500\n",
            "Loss: 1.261949896812439 Accuracy: 0.5703125\n",
            "600\n",
            "Loss: 0.9692821502685547 Accuracy: 0.7109375\n",
            "700\n",
            "Loss: 0.8046532273292542 Accuracy: 0.734375\n",
            "800\n",
            "Loss: 0.730633020401001 Accuracy: 0.828125\n",
            "900\n",
            "Loss: 0.6853693723678589 Accuracy: 0.8125\n",
            "Starting new epoch...\n",
            "\n",
            "Test Accuracy: 0.8450999855995178\n",
            "Model7 End\n",
            "\n",
            "\n",
            "Model8 Start\n",
            "0\n",
            "Loss: 2.5738139152526855 Accuracy: 0.0703125\n",
            "100\n",
            "Loss: 1.7818893194198608 Accuracy: 0.5625\n",
            "200\n",
            "Loss: 1.2775771617889404 Accuracy: 0.703125\n",
            "300\n",
            "Loss: 0.959272027015686 Accuracy: 0.765625\n",
            "400\n",
            "Loss: 0.65973961353302 Accuracy: 0.859375\n",
            "Starting new epoch...\n",
            "500\n",
            "Loss: 0.6311607360839844 Accuracy: 0.859375\n",
            "600\n",
            "Loss: 0.36552494764328003 Accuracy: 0.9140625\n",
            "700\n",
            "Loss: 0.37699636816978455 Accuracy: 0.921875\n",
            "800\n",
            "Loss: 0.5430409908294678 Accuracy: 0.8203125\n",
            "900\n",
            "Loss: 0.4404347836971283 Accuracy: 0.8671875\n",
            "Starting new epoch...\n",
            "\n",
            "Test Accuracy: 0.8955000042915344\n",
            "Model8 End\n",
            "\n",
            "\n"
          ]
        }
      ]
    },
    {
      "cell_type": "markdown",
      "metadata": {
        "id": "lLvhzXncBykq"
      },
      "source": [
        "#visualize the loss"
      ]
    },
    {
      "cell_type": "markdown",
      "metadata": {
        "id": "2OFOUNuxZese"
      },
      "source": [
        "## Relu Loss"
      ]
    },
    {
      "cell_type": "code",
      "metadata": {
        "colab": {
          "base_uri": "https://localhost:8080/",
          "height": 295
        },
        "id": "WEHphHUE9YJU",
        "outputId": "7cadeae8-7b45-4672-96f8-1a6e735724a7"
      },
      "source": [
        "plt.plot(relu_models_Loss[0], label='Model_1')\n",
        "plt.plot(relu_models_Loss[1], label='Model_2')\n",
        "plt.plot(relu_models_Loss[2], label='Model_3')\n",
        "plt.plot(relu_models_Loss[3], label='Model_4')\n",
        "plt.xlabel('Steps')\n",
        "plt.ylabel('Loss')\n",
        "plt.title('Relu Activation function')\n",
        "plt.legend()\n",
        "plt.show()"
      ],
      "execution_count": 22,
      "outputs": [
        {
          "output_type": "display_data",
          "data": {
            "image/png": "[encoded data removed]",
            "text/plain": [
              "<Figure size 432x288 with 1 Axes>"
            ]
          },
          "metadata": {
            "needs_background": "light"
          }
        }
      ]
    },
    {
      "cell_type": "markdown",
      "metadata": {
        "id": "U2CTsRqiZiup"
      },
      "source": [
        "## Sigmoid Loss"
      ]
    },
    {
      "cell_type": "code",
      "metadata": {
        "colab": {
          "base_uri": "https://localhost:8080/",
          "height": 295
        },
        "id": "VNH4-6e7Ziuq",
        "outputId": "79ea88b6-9638-4b15-ee93-61edf2e264b6"
      },
      "source": [
        "plt.plot(sigmoid_models_Loss[0], label='Model_5')\n",
        "plt.plot(sigmoid_models_Loss[1], label='Model_6')\n",
        "plt.plot(sigmoid_models_Loss[2], label='Model_7')\n",
        "plt.plot(sigmoid_models_Loss[3], label='Model_8')\n",
        "plt.xlabel('Steps')\n",
        "plt.ylabel('Loss')\n",
        "plt.title('Sigmoid Activation function')\n",
        "plt.legend()\n",
        "plt.show()"
      ],
      "execution_count": 23,
      "outputs": [
        {
          "output_type": "display_data",
          "data": {
            "image/png": "[encoded data removed]",
            "text/plain": [
              "<Figure size 432x288 with 1 Axes>"
            ]
          },
          "metadata": {
            "needs_background": "light"
          }
        }
      ]
    },
    {
      "cell_type": "markdown",
      "metadata": {
        "id": "dA80-Dq9Nafm"
      },
      "source": [
        "#References\n",
        "\n",
        "\n",
        "1.   http://blog.ai.ovgu.de/posts/jens/2019/002_tf20_basic_mnist/index.html\n",
        "2.   https://ovgu-ailab.github.io/idl2020w/assignments/1/datasets.py\n",
        "\n"
      ]
    }
  ]
}