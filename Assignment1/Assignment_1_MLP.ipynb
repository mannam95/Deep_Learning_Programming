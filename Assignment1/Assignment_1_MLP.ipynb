{
  "nbformat": 4,
  "nbformat_minor": 0,
  "metadata": {
    "colab": {
      "name": "Assignment_1_MLP.ipynb",
      "provenance": [],
      "collapsed_sections": [
        "GW9A-uDZx9wq",
        "hBYC4kM2ppSs",
        "wfDVrX2VunFA",
        "Vy7lrKcQt0dp",
        "Q8ZoZ1gMddXx"
      ]
    },
    "kernelspec": {
      "name": "python3",
      "display_name": "Python 3"
    }
  },
  "cells": [
    {
      "cell_type": "markdown",
      "metadata": {
        "id": "6vn94RPJ4oTU"
      },
      "source": [
        "#Team Assignment\n",
        "\n",
        "\n",
        "1.   Srinath Mannam\n",
        "2.   Meghana Rao\n",
        "3.   Govind\n",
        "\n"
      ]
    },
    {
      "cell_type": "markdown",
      "metadata": {
        "id": "GW9A-uDZx9wq"
      },
      "source": [
        "#Change the directory"
      ]
    },
    {
      "cell_type": "code",
      "metadata": {
        "colab": {
          "base_uri": "https://localhost:8080/"
        },
        "id": "wam6g9cNx9HU",
        "outputId": "3f80e9e9-0bca-4f22-993e-bd0abd29a412"
      },
      "source": [
        "from google.colab import drive\n",
        "drive.mount(\"/content/drive\")"
      ],
      "execution_count": 122,
      "outputs": [
        {
          "output_type": "stream",
          "name": "stdout",
          "text": [
            "Drive already mounted at /content/drive; to attempt to forcibly remount, call drive.mount(\"/content/drive\", force_remount=True).\n"
          ]
        }
      ]
    },
    {
      "cell_type": "code",
      "metadata": {
        "id": "XxBOM49SaFl7",
        "colab": {
          "base_uri": "https://localhost:8080/",
          "height": 0
        },
        "outputId": "e0739a7c-baaa-4f6a-de2b-dc9e29f02136"
      },
      "source": [
        "import os\n",
        "working_directory = '/content/drive/My Drive/Colab Notebooks/OVGU/Deep_Learning/First_Assignment'\n",
        "if os.getcwd() !=  working_directory:\n",
        "  os.chdir(working_directory)\n",
        "os.getcwd()"
      ],
      "execution_count": 123,
      "outputs": [
        {
          "output_type": "execute_result",
          "data": {
            "application/vnd.google.colaboratory.intrinsic+json": {
              "type": "string"
            },
            "text/plain": [
              "'/content/drive/My Drive/Colab Notebooks/OVGU/Deep_Learning/First_Assignment'"
            ]
          },
          "metadata": {},
          "execution_count": 123
        }
      ]
    },
    {
      "cell_type": "markdown",
      "metadata": {
        "id": "hBYC4kM2ppSs"
      },
      "source": [
        "#import statements"
      ]
    },
    {
      "cell_type": "code",
      "metadata": {
        "id": "mJaGiGnXpsAP"
      },
      "source": [
        "import tensorflow as tf\n",
        "import numpy as np\n",
        "import matplotlib.pyplot as plt\n",
        "from datasets import MNISTDataset"
      ],
      "execution_count": 124,
      "outputs": []
    },
    {
      "cell_type": "markdown",
      "metadata": {
        "id": "kERRSBuXp5JT"
      },
      "source": [
        "##Check tensorflow version"
      ]
    },
    {
      "cell_type": "code",
      "metadata": {
        "colab": {
          "base_uri": "https://localhost:8080/",
          "height": 0
        },
        "id": "U3D4m_0Op4iZ",
        "outputId": "133dcdd7-a902-4816-9a3f-8ef5fc1fb98e"
      },
      "source": [
        "tf.__version__"
      ],
      "execution_count": 125,
      "outputs": [
        {
          "output_type": "execute_result",
          "data": {
            "application/vnd.google.colaboratory.intrinsic+json": {
              "type": "string"
            },
            "text/plain": [
              "'2.6.0'"
            ]
          },
          "metadata": {},
          "execution_count": 125
        }
      ]
    },
    {
      "cell_type": "markdown",
      "metadata": {
        "id": "CLtYs70nqz3b"
      },
      "source": [
        "#Load Data"
      ]
    },
    {
      "cell_type": "code",
      "metadata": {
        "id": "Zegh4TeIq28p"
      },
      "source": [
        "mnist = tf.keras.datasets.mnist\n",
        "(train_images, train_labels), (test_images, test_labels) = mnist.load_data()"
      ],
      "execution_count": 126,
      "outputs": []
    },
    {
      "cell_type": "code",
      "metadata": {
        "id": "Tn8ONaMC3gYG"
      },
      "source": [
        "#Re-shape the dataset and then pass it to the function which creates data into batches\n",
        "def reset_Data():\n",
        "  return MNISTDataset(train_images.reshape([-1, 784]), train_labels, \n",
        "                    test_images.reshape([-1, 784]), test_labels,\n",
        "                    batch_size=128)"
      ],
      "execution_count": 127,
      "outputs": []
    },
    {
      "cell_type": "code",
      "metadata": {
        "colab": {
          "base_uri": "https://localhost:8080/"
        },
        "id": "u8ioSRg6AYcU",
        "outputId": "b699b42d-529b-436d-a0ec-4d259cd6dd2a"
      },
      "source": [
        "print(train_images.shape)\n",
        "print(train_labels.shape)\n",
        "print(test_images.shape)\n",
        "print(test_labels.shape)"
      ],
      "execution_count": 128,
      "outputs": [
        {
          "output_type": "stream",
          "name": "stdout",
          "text": [
            "(60000, 28, 28)\n",
            "(60000,)\n",
            "(10000, 28, 28)\n",
            "(10000,)\n"
          ]
        }
      ]
    },
    {
      "cell_type": "markdown",
      "metadata": {
        "id": "wfDVrX2VunFA"
      },
      "source": [
        "## Visualize some images on some training and test data"
      ]
    },
    {
      "cell_type": "code",
      "metadata": {
        "colab": {
          "base_uri": "https://localhost:8080/",
          "height": 0
        },
        "id": "_X_MvhoZumPn",
        "outputId": "89d1d952-d27d-4d11-a597-cd6f93f09039"
      },
      "source": [
        "print(train_labels[3])\n",
        "plt.imshow(train_images[3], cmap=\"Greys_r\")"
      ],
      "execution_count": 129,
      "outputs": [
        {
          "output_type": "stream",
          "name": "stdout",
          "text": [
            "1\n"
          ]
        },
        {
          "output_type": "execute_result",
          "data": {
            "text/plain": [
              "<matplotlib.image.AxesImage at 0x7fbce0d6ba90>"
            ]
          },
          "metadata": {},
          "execution_count": 129
        },
        {
          "output_type": "display_data",
          "data": {
            "image/png": "[encoded data removed]",
            "text/plain": [
              "<Figure size 432x288 with 1 Axes>"
            ]
          },
          "metadata": {
            "needs_background": "light"
          }
        }
      ]
    },
    {
      "cell_type": "code",
      "metadata": {
        "colab": {
          "base_uri": "https://localhost:8080/",
          "height": 0
        },
        "id": "VpaNU36_vXzy",
        "outputId": "86d398b2-7163-48ea-95b2-0d802e121d2b"
      },
      "source": [
        "print(test_labels[121])\n",
        "plt.imshow(test_images[121], cmap=\"Greys_r\")"
      ],
      "execution_count": 130,
      "outputs": [
        {
          "output_type": "stream",
          "name": "stdout",
          "text": [
            "4\n"
          ]
        },
        {
          "output_type": "execute_result",
          "data": {
            "text/plain": [
              "<matplotlib.image.AxesImage at 0x7fbce11ac1d0>"
            ]
          },
          "metadata": {},
          "execution_count": 130
        },
        {
          "output_type": "display_data",
          "data": {
            "image/png": "[encoded data removed]",
            "text/plain": [
              "<Figure size 432x288 with 1 Axes>"
            ]
          },
          "metadata": {
            "needs_background": "light"
          }
        }
      ]
    },
    {
      "cell_type": "markdown",
      "metadata": {
        "id": "E315g-vRTsYD"
      },
      "source": [
        "#A function that will choose the activation function"
      ]
    },
    {
      "cell_type": "code",
      "metadata": {
        "id": "xVzxCDlcTyg9"
      },
      "source": [
        "def dynamicActiFunc(actFun, currLogits):\n",
        "  if actFun == \"relu\":\n",
        "    return tf.nn.relu(currLogits)\n",
        "  elif actFun == \"sigmoid\":\n",
        "    return tf.nn.sigmoid(currLogits)\n",
        "  else:\n",
        "    return tf.nn.relu(currLogits)"
      ],
      "execution_count": 131,
      "outputs": []
    },
    {
      "cell_type": "markdown",
      "metadata": {
        "id": "hai0NIyaN2go"
      },
      "source": [
        "#Define a Generic function for training which uses relu activation function"
      ]
    },
    {
      "cell_type": "code",
      "metadata": {
        "id": "eqTYHVmVN06T"
      },
      "source": [
        "def model_Train(_modelConfig, data):\n",
        "  loss_list = []\n",
        "  for step in range(_modelConfig[\"train_steps\"]):\n",
        "      img_batch, lbl_batch = data.next_batch()\n",
        "      with tf.GradientTape() as tape:\n",
        "          #loop that will goes forward for every hidden layer\n",
        "          for ind in range(len(_modelConfig[\"_weights\"])-1):\n",
        "            if ind == 0:\n",
        "              hPrevLogits = tf.matmul(img_batch, _modelConfig[\"_weights\"][ind]) + _modelConfig[\"_biases\"][ind]\n",
        "              hPrevOutput = dynamicActiFunc(_modelConfig[\"activation_func\"], hPrevLogits)\n",
        "            else :\n",
        "              hcurrLogits = tf.matmul(hPrevOutput, _modelConfig[\"_weights\"][ind]) + _modelConfig[\"_biases\"][ind]\n",
        "              hcurrOutput = dynamicActiFunc(_modelConfig[\"activation_func\"], hcurrLogits)\n",
        "              hPrevOutput = hcurrOutput\n",
        "\n",
        "          lastInd = len(_modelConfig[\"_weights\"])-1\n",
        "\n",
        "          #final output layer\n",
        "          logits = tf.matmul(hcurrOutput, _modelConfig[\"_weights\"][lastInd]) + _modelConfig[\"_biases\"][lastInd]\n",
        "          xent = tf.reduce_mean(tf.nn.sparse_softmax_cross_entropy_with_logits(\n",
        "              logits=logits, labels=lbl_batch))\n",
        "          \n",
        "      grads = tape.gradient(xent, [*_modelConfig[\"_weights\"], *_modelConfig[\"_biases\"]])\n",
        "\n",
        "      #update weights\n",
        "      for ind in range(len(_modelConfig[\"_weights\"])):\n",
        "        _modelConfig[\"_weights\"][ind].assign_sub(_modelConfig[\"learning_rate\"] * grads[ind])\n",
        "      \n",
        "      #update biases\n",
        "      for ind in range(len(_modelConfig[\"_biases\"])):\n",
        "        _modelConfig[\"_biases\"][ind].assign_sub(_modelConfig[\"learning_rate\"] * grads[ind + len(_modelConfig[\"_biases\"])])\n",
        "\n",
        "      loss_list.append(xent)\n",
        "      if not step % 100:\n",
        "          print(step)\n",
        "          preds = tf.argmax(logits, axis=1, output_type=tf.int32)\n",
        "          acc = tf.reduce_mean(tf.cast(tf.equal(preds, lbl_batch),\n",
        "                              tf.float32))\n",
        "          print(\"Loss: {} Accuracy: {}\".format(xent, acc))\n",
        "\n",
        "  #Predict for Test Dataset\n",
        "  for ind in range(len(_modelConfig[\"_weights\"])-1):\n",
        "      if ind == 0:\n",
        "        hPrevLogits = tf.matmul(data.test_data, _modelConfig[\"_weights\"][ind]) + _modelConfig[\"_biases\"][ind]\n",
        "        hPrevOutput = dynamicActiFunc(_modelConfig[\"activation_func\"], hPrevLogits)\n",
        "      else :\n",
        "        hcurrLogits = tf.matmul(hPrevOutput, _modelConfig[\"_weights\"][ind]) + _modelConfig[\"_biases\"][ind]\n",
        "        hcurrOutput = dynamicActiFunc(_modelConfig[\"activation_func\"], hcurrLogits)\n",
        "        hPrevOutput = hcurrOutput\n",
        "\n",
        "  lastInd = len(_modelConfig[\"_weights\"])-1\n",
        "  test_preds = tf.argmax(tf.matmul(hcurrOutput, _modelConfig[\"_weights\"][lastInd]) + _modelConfig[\"_biases\"][lastInd], axis=1,\n",
        "                       output_type=tf.int32)\n",
        "  acc = tf.reduce_mean(tf.cast(tf.equal(test_preds, data.test_labels),\n",
        "                              tf.float32))\n",
        "  print(\"\\nTest Accuracy: {}\".format(acc))\n",
        "  return loss_list"
      ],
      "execution_count": 132,
      "outputs": []
    },
    {
      "cell_type": "markdown",
      "metadata": {
        "id": "InzTeW3xdRAU"
      },
      "source": [
        "#Models"
      ]
    },
    {
      "cell_type": "markdown",
      "metadata": {
        "id": "APwijxbtXnDH"
      },
      "source": [
        "##Relu Activation Function"
      ]
    },
    {
      "cell_type": "markdown",
      "metadata": {
        "id": "Vy7lrKcQt0dp"
      },
      "source": [
        "###Define params Model1"
      ]
    },
    {
      "cell_type": "code",
      "metadata": {
        "id": "Cuohb9MMt9Ws"
      },
      "source": [
        "modelConfig1 = {\n",
        "    \"train_steps\" : 1000,\n",
        "    \"learning_rate\" : 0.1,\n",
        "    \"activation_func\" : \"relu\",\n",
        "\n",
        "    \"_weights\" : [\n",
        "        tf.Variable(tf.random.uniform([784, 512], minval=-0.1, maxval=0.1, dtype=np.float32)),\n",
        "        tf.Variable(tf.random.uniform([512, 256], minval=-0.1, maxval=0.1, dtype=np.float32)),\n",
        "        tf.Variable(tf.random.uniform([256, 10], minval=-0.1, maxval=0.1, dtype=np.float32))\n",
        "    ],\n",
        "\n",
        "    \"_biases\" : [\n",
        "        tf.Variable(np.zeros(512, dtype=np.float32)),\n",
        "        tf.Variable(np.zeros(256, dtype=np.float32)),\n",
        "        tf.Variable(np.zeros(10, dtype=np.float32))\n",
        "    ]\n",
        "}"
      ],
      "execution_count": 133,
      "outputs": []
    },
    {
      "cell_type": "markdown",
      "metadata": {
        "id": "Q8ZoZ1gMddXx"
      },
      "source": [
        "###Define params Model2"
      ]
    },
    {
      "cell_type": "code",
      "metadata": {
        "id": "oJL0X9UvddXx"
      },
      "source": [
        "modelConfig2 = {\n",
        "    \"train_steps\" : 2000,\n",
        "    \"learning_rate\" : 0.01,\n",
        "    \"activation_func\" : \"relu\",\n",
        "\n",
        "    \"_weights\" : [\n",
        "        tf.Variable(tf.random.uniform([784, 512], minval=-0.1, maxval=0.1, dtype=np.float32)),\n",
        "        tf.Variable(tf.random.uniform([512, 256], minval=-0.1, maxval=0.1, dtype=np.float32)),\n",
        "        tf.Variable(tf.random.uniform([256, 10], minval=-0.1, maxval=0.1, dtype=np.float32))\n",
        "    ],\n",
        "\n",
        "    \"_biases\" : [\n",
        "        tf.Variable(np.zeros(512, dtype=np.float32)),\n",
        "        tf.Variable(np.zeros(256, dtype=np.float32)),\n",
        "        tf.Variable(np.zeros(10, dtype=np.float32))\n",
        "    ]\n",
        "}"
      ],
      "execution_count": 134,
      "outputs": []
    },
    {
      "cell_type": "markdown",
      "metadata": {
        "id": "KL0DPIErO_3t"
      },
      "source": [
        "###Define params Model3"
      ]
    },
    {
      "cell_type": "code",
      "metadata": {
        "id": "VZ03c3CeO_3u"
      },
      "source": [
        "modelConfig3 = {\n",
        "    \"train_steps\" : 1000,\n",
        "    \"learning_rate\" : 0.1,\n",
        "    \"activation_func\" : \"relu\",\n",
        "\n",
        "    \"_weights\" : [\n",
        "        tf.Variable(tf.random.uniform([784, 1568], minval=-0.1, maxval=0.1, dtype=np.float32)),\n",
        "        tf.Variable(tf.random.uniform([1568, 512], minval=-0.1, maxval=0.1, dtype=np.float32)),\n",
        "        tf.Variable(tf.random.uniform([512, 256], minval=-0.1, maxval=0.1, dtype=np.float32)),\n",
        "        tf.Variable(tf.random.uniform([256, 10], minval=-0.1, maxval=0.1, dtype=np.float32))\n",
        "    ],\n",
        "\n",
        "    \"_biases\" : [\n",
        "        tf.Variable(np.zeros(1568, dtype=np.float32)),\n",
        "        tf.Variable(np.zeros(512, dtype=np.float32)),\n",
        "        tf.Variable(np.zeros(256, dtype=np.float32)),\n",
        "        tf.Variable(np.zeros(10, dtype=np.float32))\n",
        "    ]\n",
        "}"
      ],
      "execution_count": 135,
      "outputs": []
    },
    {
      "cell_type": "markdown",
      "metadata": {
        "id": "hOBOFjNYXzvB"
      },
      "source": [
        "##Sigmoid Activation Function"
      ]
    },
    {
      "cell_type": "markdown",
      "metadata": {
        "id": "rxoHgyrTXzvC"
      },
      "source": [
        "###Define params Model4"
      ]
    },
    {
      "cell_type": "code",
      "metadata": {
        "id": "V9tZ5S3wXzvD"
      },
      "source": [
        "modelConfig4 = {\n",
        "    \"train_steps\" : 1000,\n",
        "    \"learning_rate\" : 0.1,\n",
        "    \"activation_func\" : \"sigmoid\",\n",
        "\n",
        "    \"_weights\" : [\n",
        "        tf.Variable(tf.random.uniform([784, 512], minval=-0.1, maxval=0.1, dtype=np.float32)),\n",
        "        tf.Variable(tf.random.uniform([512, 256], minval=-0.1, maxval=0.1, dtype=np.float32)),\n",
        "        tf.Variable(tf.random.uniform([256, 10], minval=-0.1, maxval=0.1, dtype=np.float32))\n",
        "    ],\n",
        "\n",
        "    \"_biases\" : [\n",
        "        tf.Variable(np.zeros(512, dtype=np.float32)),\n",
        "        tf.Variable(np.zeros(256, dtype=np.float32)),\n",
        "        tf.Variable(np.zeros(10, dtype=np.float32))\n",
        "    ]\n",
        "}"
      ],
      "execution_count": 136,
      "outputs": []
    },
    {
      "cell_type": "markdown",
      "metadata": {
        "id": "lB9PdN8NXzvE"
      },
      "source": [
        "###Define params Model5"
      ]
    },
    {
      "cell_type": "code",
      "metadata": {
        "id": "Nu1OUqB-XzvE"
      },
      "source": [
        "modelConfig5 = {\n",
        "    \"train_steps\" : 2000,\n",
        "    \"learning_rate\" : 0.01,\n",
        "    \"activation_func\" : \"sigmoid\",\n",
        "\n",
        "    \"_weights\" : [\n",
        "        tf.Variable(tf.random.uniform([784, 512], minval=-0.1, maxval=0.1, dtype=np.float32)),\n",
        "        tf.Variable(tf.random.uniform([512, 256], minval=-0.1, maxval=0.1, dtype=np.float32)),\n",
        "        tf.Variable(tf.random.uniform([256, 10], minval=-0.1, maxval=0.1, dtype=np.float32))\n",
        "    ],\n",
        "\n",
        "    \"_biases\" : [\n",
        "        tf.Variable(np.zeros(512, dtype=np.float32)),\n",
        "        tf.Variable(np.zeros(256, dtype=np.float32)),\n",
        "        tf.Variable(np.zeros(10, dtype=np.float32))\n",
        "    ]\n",
        "}"
      ],
      "execution_count": 137,
      "outputs": []
    },
    {
      "cell_type": "markdown",
      "metadata": {
        "id": "xfWQW2ucXzvG"
      },
      "source": [
        "###Define params Model6"
      ]
    },
    {
      "cell_type": "code",
      "metadata": {
        "id": "ZnX9Z4cUXzvH"
      },
      "source": [
        "modelConfig6 = {\n",
        "    \"train_steps\" : 1000,\n",
        "    \"learning_rate\" : 0.1,\n",
        "    \"activation_func\" : \"sigmoid\",\n",
        "\n",
        "    \"_weights\" : [\n",
        "        tf.Variable(tf.random.uniform([784, 1568], minval=-0.1, maxval=0.1, dtype=np.float32)),\n",
        "        tf.Variable(tf.random.uniform([1568, 512], minval=-0.1, maxval=0.1, dtype=np.float32)),\n",
        "        tf.Variable(tf.random.uniform([512, 256], minval=-0.1, maxval=0.1, dtype=np.float32)),\n",
        "        tf.Variable(tf.random.uniform([256, 10], minval=-0.1, maxval=0.1, dtype=np.float32))\n",
        "    ],\n",
        "\n",
        "    \"_biases\" : [\n",
        "        tf.Variable(np.zeros(1568, dtype=np.float32)),\n",
        "        tf.Variable(np.zeros(512, dtype=np.float32)),\n",
        "        tf.Variable(np.zeros(256, dtype=np.float32)),\n",
        "        tf.Variable(np.zeros(10, dtype=np.float32))\n",
        "    ]\n",
        "}"
      ],
      "execution_count": 138,
      "outputs": []
    },
    {
      "cell_type": "markdown",
      "metadata": {
        "id": "ZiPEmOEtdMWc"
      },
      "source": [
        "#Models Training"
      ]
    },
    {
      "cell_type": "markdown",
      "metadata": {
        "id": "vyOlYos5YpFp"
      },
      "source": [
        "##Relu Models Training"
      ]
    },
    {
      "cell_type": "code",
      "metadata": {
        "colab": {
          "base_uri": "https://localhost:8080/"
        },
        "id": "HhaPfa4jYOTK",
        "outputId": "bd0ce33d-fb04-4d9a-9603-b57f21551434"
      },
      "source": [
        "relu_models_Loss = []\n",
        "print(\"Model1 Start\")\n",
        "relu_models_Loss.append(model_Train(modelConfig1, reset_Data()))\n",
        "print(\"Model1 End\")\n",
        "print(\"\\n\")\n",
        "\n",
        "print(\"Model2 Start\")\n",
        "relu_models_Loss.append(model_Train(modelConfig2, reset_Data()))\n",
        "print(\"Model2 End\")\n",
        "print(\"\\n\")\n",
        "\n",
        "print(\"Model3 Start\")\n",
        "relu_models_Loss.append(model_Train(modelConfig3, reset_Data()))\n",
        "print(\"Model3 End\")\n",
        "print(\"\\n\")"
      ],
      "execution_count": 139,
      "outputs": [
        {
          "output_type": "stream",
          "name": "stdout",
          "text": [
            "Model1 Start\n",
            "0\n",
            "Loss: 2.3315563201904297 Accuracy: 0.0625\n",
            "100\n",
            "Loss: 0.4881455600261688 Accuracy: 0.859375\n",
            "200\n",
            "Loss: 0.36677902936935425 Accuracy: 0.8671875\n",
            "300\n",
            "Loss: 0.456925630569458 Accuracy: 0.875\n",
            "400\n",
            "Loss: 0.35193076729774475 Accuracy: 0.90625\n",
            "Starting new epoch...\n",
            "500\n",
            "Loss: 0.12760907411575317 Accuracy: 0.96875\n",
            "600\n",
            "Loss: 0.12430104613304138 Accuracy: 0.96875\n",
            "700\n",
            "Loss: 0.1805908977985382 Accuracy: 0.9609375\n",
            "800\n",
            "Loss: 0.18097612261772156 Accuracy: 0.9453125\n",
            "900\n",
            "Loss: 0.12154436111450195 Accuracy: 0.96875\n",
            "Starting new epoch...\n",
            "\n",
            "Test Accuracy: 0.954800009727478\n",
            "Model1 End\n",
            "\n",
            "\n",
            "Model2 Start\n",
            "0\n",
            "Loss: 2.486778974533081 Accuracy: 0.109375\n",
            "100\n",
            "Loss: 1.7385027408599854 Accuracy: 0.640625\n",
            "200\n",
            "Loss: 1.0969276428222656 Accuracy: 0.8359375\n",
            "300\n",
            "Loss: 0.7054908275604248 Accuracy: 0.8515625\n",
            "400\n",
            "Loss: 0.6221945881843567 Accuracy: 0.859375\n",
            "Starting new epoch...\n",
            "500\n",
            "Loss: 0.6191551089286804 Accuracy: 0.8125\n",
            "600\n",
            "Loss: 0.4537007212638855 Accuracy: 0.8828125\n",
            "700\n",
            "Loss: 0.504408061504364 Accuracy: 0.859375\n",
            "800\n",
            "Loss: 0.5455249547958374 Accuracy: 0.875\n",
            "900\n",
            "Loss: 0.5286656022071838 Accuracy: 0.875\n",
            "Starting new epoch...\n",
            "1000\n",
            "Loss: 0.4388028383255005 Accuracy: 0.875\n",
            "1100\n",
            "Loss: 0.2932826280593872 Accuracy: 0.9140625\n",
            "1200\n",
            "Loss: 0.39485427737236023 Accuracy: 0.890625\n",
            "1300\n",
            "Loss: 0.38746747374534607 Accuracy: 0.8828125\n",
            "1400\n",
            "Loss: 0.33728641271591187 Accuracy: 0.9140625\n",
            "Starting new epoch...\n",
            "1500\n",
            "Loss: 0.320403516292572 Accuracy: 0.890625\n",
            "1600\n",
            "Loss: 0.374390572309494 Accuracy: 0.890625\n",
            "1700\n",
            "Loss: 0.32117342948913574 Accuracy: 0.890625\n",
            "1800\n",
            "Loss: 0.3088582754135132 Accuracy: 0.90625\n",
            "Starting new epoch...\n",
            "1900\n",
            "Loss: 0.33531785011291504 Accuracy: 0.8984375\n",
            "\n",
            "Test Accuracy: 0.9193999767303467\n",
            "Model2 End\n",
            "\n",
            "\n",
            "Model3 Start\n",
            "0\n",
            "Loss: 2.3596267700195312 Accuracy: 0.1015625\n",
            "100\n",
            "Loss: 0.24492616951465607 Accuracy: 0.921875\n",
            "200\n",
            "Loss: 0.20106136798858643 Accuracy: 0.9296875\n",
            "300\n",
            "Loss: 0.14019808173179626 Accuracy: 0.9609375\n",
            "400\n",
            "Loss: 0.23765727877616882 Accuracy: 0.921875\n",
            "Starting new epoch...\n",
            "500\n",
            "Loss: 0.18926043808460236 Accuracy: 0.9296875\n",
            "600\n",
            "Loss: 0.07633689045906067 Accuracy: 0.96875\n",
            "700\n",
            "Loss: 0.18098515272140503 Accuracy: 0.9375\n",
            "800\n",
            "Loss: 0.1633080542087555 Accuracy: 0.9296875\n",
            "900\n",
            "Loss: 0.17982351779937744 Accuracy: 0.9453125\n",
            "Starting new epoch...\n",
            "\n",
            "Test Accuracy: 0.9693999886512756\n",
            "Model3 End\n",
            "\n",
            "\n"
          ]
        }
      ]
    },
    {
      "cell_type": "markdown",
      "metadata": {
        "id": "3NJOVEuIYucy"
      },
      "source": [
        "##Sigmoid Models Training"
      ]
    },
    {
      "cell_type": "code",
      "metadata": {
        "colab": {
          "base_uri": "https://localhost:8080/"
        },
        "id": "gjtYERLaYucy",
        "outputId": "e96a0c22-886e-472c-ee32-e268bf6c0a85"
      },
      "source": [
        "sigmoid_models_Loss = []\n",
        "print(\"Model4 Start\")\n",
        "sigmoid_models_Loss.append(model_Train(modelConfig4, reset_Data()))\n",
        "print(\"Model4 End\")\n",
        "print(\"\\n\")\n",
        "\n",
        "print(\"Model5 Start\")\n",
        "sigmoid_models_Loss.append(model_Train(modelConfig5, reset_Data()))\n",
        "print(\"Model5 End\")\n",
        "print(\"\\n\")\n",
        "\n",
        "print(\"Model6 Start\")\n",
        "sigmoid_models_Loss.append(model_Train(modelConfig6, reset_Data()))\n",
        "print(\"Model6 End\")\n",
        "print(\"\\n\")"
      ],
      "execution_count": 140,
      "outputs": [
        {
          "output_type": "stream",
          "name": "stdout",
          "text": [
            "Model4 Start\n",
            "0\n",
            "Loss: 2.3909518718719482 Accuracy: 0.1328125\n",
            "100\n",
            "Loss: 2.1196236610412598 Accuracy: 0.265625\n",
            "200\n",
            "Loss: 1.8060206174850464 Accuracy: 0.6015625\n",
            "300\n",
            "Loss: 1.2153583765029907 Accuracy: 0.671875\n",
            "400\n",
            "Loss: 0.978784441947937 Accuracy: 0.734375\n",
            "Starting new epoch...\n",
            "500\n",
            "Loss: 0.7249417304992676 Accuracy: 0.8203125\n",
            "600\n",
            "Loss: 0.5582517385482788 Accuracy: 0.8671875\n",
            "700\n",
            "Loss: 0.5339407920837402 Accuracy: 0.859375\n",
            "800\n",
            "Loss: 0.6662670373916626 Accuracy: 0.8046875\n",
            "900\n",
            "Loss: 0.43666258454322815 Accuracy: 0.875\n",
            "Starting new epoch...\n",
            "\n",
            "Test Accuracy: 0.8756999969482422\n",
            "Model4 End\n",
            "\n",
            "\n",
            "Model5 Start\n",
            "0\n",
            "Loss: 2.3135275840759277 Accuracy: 0.078125\n",
            "100\n",
            "Loss: 2.2858312129974365 Accuracy: 0.171875\n",
            "200\n",
            "Loss: 2.2738163471221924 Accuracy: 0.125\n",
            "300\n",
            "Loss: 2.252098560333252 Accuracy: 0.3359375\n",
            "400\n",
            "Loss: 2.23966646194458 Accuracy: 0.171875\n",
            "Starting new epoch...\n",
            "500\n",
            "Loss: 2.22794246673584 Accuracy: 0.34375\n",
            "600\n",
            "Loss: 2.196229934692383 Accuracy: 0.4609375\n",
            "700\n",
            "Loss: 2.176234722137451 Accuracy: 0.5546875\n",
            "800\n",
            "Loss: 2.1683075428009033 Accuracy: 0.3046875\n",
            "900\n",
            "Loss: 2.1634063720703125 Accuracy: 0.4375\n",
            "Starting new epoch...\n",
            "1000\n",
            "Loss: 2.1505589485168457 Accuracy: 0.359375\n",
            "1100\n",
            "Loss: 2.1136269569396973 Accuracy: 0.6015625\n",
            "1200\n",
            "Loss: 2.0809381008148193 Accuracy: 0.5078125\n",
            "1300\n",
            "Loss: 2.045574188232422 Accuracy: 0.5625\n",
            "1400\n",
            "Loss: 2.024707317352295 Accuracy: 0.5546875\n",
            "Starting new epoch...\n",
            "1500\n",
            "Loss: 1.9931550025939941 Accuracy: 0.5234375\n",
            "1600\n",
            "Loss: 1.9474002122879028 Accuracy: 0.6328125\n",
            "1700\n",
            "Loss: 1.8713083267211914 Accuracy: 0.6328125\n",
            "1800\n",
            "Loss: 1.8546022176742554 Accuracy: 0.6171875\n",
            "Starting new epoch...\n",
            "1900\n",
            "Loss: 1.7615547180175781 Accuracy: 0.7265625\n",
            "\n",
            "Test Accuracy: 0.6898000240325928\n",
            "Model5 End\n",
            "\n",
            "\n",
            "Model6 Start\n",
            "0\n",
            "Loss: 2.351543426513672 Accuracy: 0.1171875\n",
            "100\n",
            "Loss: 2.270339250564575 Accuracy: 0.1796875\n",
            "200\n",
            "Loss: 2.2047641277313232 Accuracy: 0.15625\n",
            "300\n",
            "Loss: 1.9854837656021118 Accuracy: 0.3203125\n",
            "400\n",
            "Loss: 1.6066784858703613 Accuracy: 0.53125\n",
            "Starting new epoch...\n",
            "500\n",
            "Loss: 1.2689130306243896 Accuracy: 0.5546875\n",
            "600\n",
            "Loss: 1.0067787170410156 Accuracy: 0.7578125\n",
            "700\n",
            "Loss: 0.7946816682815552 Accuracy: 0.7421875\n",
            "800\n",
            "Loss: 0.691361665725708 Accuracy: 0.796875\n",
            "900\n",
            "Loss: 0.5341495275497437 Accuracy: 0.8515625\n",
            "Starting new epoch...\n",
            "\n",
            "Test Accuracy: 0.8471999764442444\n",
            "Model6 End\n",
            "\n",
            "\n"
          ]
        }
      ]
    },
    {
      "cell_type": "markdown",
      "metadata": {
        "id": "lLvhzXncBykq"
      },
      "source": [
        "#visualize the loss"
      ]
    },
    {
      "cell_type": "markdown",
      "metadata": {
        "id": "2OFOUNuxZese"
      },
      "source": [
        "## Relu Loss"
      ]
    },
    {
      "cell_type": "code",
      "metadata": {
        "colab": {
          "base_uri": "https://localhost:8080/",
          "height": 295
        },
        "id": "WEHphHUE9YJU",
        "outputId": "13e02847-3f43-4ecc-fea7-d6fc425d6ad9"
      },
      "source": [
        "plt.plot(relu_models_Loss[0], label='Model_1')\n",
        "plt.plot(relu_models_Loss[1], label='Model_2')\n",
        "plt.plot(relu_models_Loss[2], label='Model_3')\n",
        "plt.xlabel('Steps')\n",
        "plt.ylabel('Loss')\n",
        "plt.title('Relu Activation function')\n",
        "plt.legend()\n",
        "plt.show()"
      ],
      "execution_count": 141,
      "outputs": [
        {
          "output_type": "display_data",
          "data": {
            "image/png": "[encoded data removed]",
            "text/plain": [
              "<Figure size 432x288 with 1 Axes>"
            ]
          },
          "metadata": {
            "needs_background": "light"
          }
        }
      ]
    },
    {
      "cell_type": "markdown",
      "metadata": {
        "id": "U2CTsRqiZiup"
      },
      "source": [
        "## Sigmoid Loss"
      ]
    },
    {
      "cell_type": "code",
      "metadata": {
        "colab": {
          "base_uri": "https://localhost:8080/",
          "height": 295
        },
        "id": "VNH4-6e7Ziuq",
        "outputId": "53122ecc-bc87-4120-ebd3-2f99079bbd93"
      },
      "source": [
        "plt.plot(sigmoid_models_Loss[0], label='Model_4')\n",
        "plt.plot(sigmoid_models_Loss[1], label='Model_5')\n",
        "plt.plot(sigmoid_models_Loss[2], label='Model_6')\n",
        "plt.xlabel('Steps')\n",
        "plt.ylabel('Loss')\n",
        "plt.title('Sigmoid Activation function')\n",
        "plt.legend()\n",
        "plt.show()"
      ],
      "execution_count": 142,
      "outputs": [
        {
          "output_type": "display_data",
          "data": {
            "image/png": "[encoded data removed]",
            "text/plain": [
              "<Figure size 432x288 with 1 Axes>"
            ]
          },
          "metadata": {
            "needs_background": "light"
          }
        }
      ]
    },
    {
      "cell_type": "markdown",
      "metadata": {
        "id": "dA80-Dq9Nafm"
      },
      "source": [
        "#References\n",
        "\n",
        "\n",
        "1.   http://blog.ai.ovgu.de/posts/jens/2019/002_tf20_basic_mnist/index.html\n",
        "\n"
      ]
    }
  ]
}