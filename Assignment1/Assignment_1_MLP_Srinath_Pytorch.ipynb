{
  "nbformat": 4,
  "nbformat_minor": 0,
  "metadata": {
    "colab": {
      "name": "Assignment_1_MLP_Srinath_Pytorch.ipynb",
      "provenance": [],
      "collapsed_sections": [],
      "authorship_tag": "ABX9TyNLlTCCmFO27dez70oQOk0T",
      "include_colab_link": true
    },
    "kernelspec": {
      "name": "python3",
      "display_name": "Python 3"
    },
    "language_info": {
      "name": "python"
    },
    "accelerator": "GPU"
  },
  "cells": [
    {
      "cell_type": "markdown",
      "metadata": {
        "id": "view-in-github",
        "colab_type": "text"
      },
      "source": [
        "<a href=\"https://colab.research.google.com/github/mannam95/Deep_Learning_Programming/blob/main/Assignment1/Assignment_1_MLP_Srinath_Pytorch.ipynb\" target=\"_parent\"><img src=\"https://colab.research.google.com/assets/colab-badge.svg\" alt=\"Open In Colab\"/></a>"
      ]
    },
    {
      "cell_type": "code",
      "source": [
        "!pip install graphviz\n",
        "!pip install hiddenlayer\n",
        "!pip install torchviz"
      ],
      "metadata": {
        "id": "Jc9H4gjbV_sQ"
      },
      "execution_count": null,
      "outputs": []
    },
    {
      "cell_type": "code",
      "execution_count": 2,
      "metadata": {
        "id": "uLR_q-56CHvL"
      },
      "outputs": [],
      "source": [
        "import os\n",
        "import torch\n",
        "from torch import nn\n",
        "from torch.utils.data import DataLoader\n",
        "from torchvision import datasets, transforms\n",
        "from torchvision.datasets import MNIST\n",
        "import hiddenlayer as hl\n",
        "from IPython.display import display, Image\n",
        "from torchviz import make_dot"
      ]
    },
    {
      "cell_type": "code",
      "source": [
        "device = 'cuda' if torch.cuda.is_available() else 'cpu'\n",
        "print(f'Using {device} device')"
      ],
      "metadata": {
        "colab": {
          "base_uri": "https://localhost:8080/"
        },
        "id": "paPbQ7x4E7t-",
        "outputId": "550e4591-948a-4f80-f6d3-9b9251eefc82"
      },
      "execution_count": 3,
      "outputs": [
        {
          "output_type": "stream",
          "name": "stdout",
          "text": [
            "Using cuda device\n"
          ]
        }
      ]
    },
    {
      "cell_type": "markdown",
      "source": [
        "# Dataset Loader"
      ],
      "metadata": {
        "id": "QZlPoc2GLtAu"
      }
    },
    {
      "cell_type": "code",
      "source": [
        "# Set fixed random number seed\n",
        "torch.manual_seed(42)\n",
        "  \n",
        "# Prepare CIFAR-10 dataset\n",
        "train_dataset = MNIST(os.getcwd(), download=True, train=True, transform=transforms.ToTensor())\n",
        "test_dataset = MNIST(os.getcwd(), download=True, train=False, transform=transforms.ToTensor())\n",
        "\n",
        "train_Loader = torch.utils.data.DataLoader(train_dataset, batch_size=128, shuffle=True, num_workers=1)\n",
        "test_Loader = torch.utils.data.DataLoader(test_dataset, batch_size=128, shuffle=True, num_workers=1)"
      ],
      "metadata": {
        "id": "9LL9SbE_Fapi"
      },
      "execution_count": null,
      "outputs": []
    },
    {
      "cell_type": "code",
      "source": [
        "for i, (inp, tar) in enumerate(train_Loader, 0):\n",
        "  print(inp.shape)\n",
        "  break"
      ],
      "metadata": {
        "colab": {
          "base_uri": "https://localhost:8080/"
        },
        "id": "8oGE1fPmGHCK",
        "outputId": "745e3e3d-f1e8-4bbc-fa2e-3b9c7e9554a5"
      },
      "execution_count": 5,
      "outputs": [
        {
          "output_type": "stream",
          "name": "stdout",
          "text": [
            "torch.Size([128, 1, 28, 28])\n"
          ]
        }
      ]
    },
    {
      "cell_type": "markdown",
      "source": [
        "# Model"
      ],
      "metadata": {
        "id": "FLDWUa77LkqX"
      }
    },
    {
      "cell_type": "code",
      "source": [
        "class NeuralNetwork(nn.Module):\n",
        "    def __init__(self):\n",
        "        super(NeuralNetwork, self).__init__()\n",
        "        self.flatten = nn.Flatten()\n",
        "        self.linear_relu_stack = nn.Sequential(\n",
        "            nn.Linear(28*28*1, 512),\n",
        "            nn.ReLU(),\n",
        "            nn.Linear(512, 512),\n",
        "            nn.ReLU(),\n",
        "            nn.Linear(512, 256),\n",
        "            nn.ReLU(),\n",
        "            nn.Linear(256, 10),\n",
        "        )\n",
        "\n",
        "    def forward(self, x):\n",
        "        x = self.flatten(x)\n",
        "        logits = self.linear_relu_stack(x)\n",
        "        return logits"
      ],
      "metadata": {
        "id": "h8isGZ8JE_54"
      },
      "execution_count": 6,
      "outputs": []
    },
    {
      "cell_type": "code",
      "source": [
        "model = NeuralNetwork().to(device)"
      ],
      "metadata": {
        "id": "FDTpnVGgFDFc"
      },
      "execution_count": 8,
      "outputs": []
    },
    {
      "cell_type": "code",
      "source": [
        "# Define the loss function and optimizer\n",
        "loss_function = nn.CrossEntropyLoss()\n",
        "optimizer = torch.optim.Adam(model.parameters(), lr=1e-4)"
      ],
      "metadata": {
        "id": "H12oA7suFyGh"
      },
      "execution_count": 9,
      "outputs": []
    },
    {
      "cell_type": "markdown",
      "source": [
        "# Train the Model"
      ],
      "metadata": {
        "id": "tZnx0NLFLmmR"
      }
    },
    {
      "cell_type": "code",
      "source": [
        "# Run the training loop\n",
        "for epoch in range(0, 5): # 5 epochs at maximum\n",
        "  \n",
        "  # Print epoch\n",
        "  print(f'Starting epoch {epoch+1}')\n",
        "  \n",
        "  # Set current loss value\n",
        "  current_loss = 0.0\n",
        "  \n",
        "  # Iterate over the DataLoader for training data\n",
        "  for i, (inputs, targets) in enumerate(train_Loader, 0):\n",
        "\n",
        "    inputs = inputs.to(device)\n",
        "    targets = targets.to(device)\n",
        "    \n",
        "    # Zero the gradients\n",
        "    optimizer.zero_grad()\n",
        "    \n",
        "    # Perform forward pass\n",
        "    outputs = model(inputs)\n",
        "\n",
        "    # Compute loss\n",
        "    loss = loss_function(outputs, targets)\n",
        "    \n",
        "    # Perform backward pass\n",
        "    loss.backward()\n",
        "    \n",
        "    # Perform optimization\n",
        "    optimizer.step()\n",
        "    \n",
        "    # Print statistics\n",
        "    current_loss += loss.item()\n",
        "    if (i+1) % 100 == 0:\n",
        "        print('Loss after mini-batch %5d: %.3f' %\n",
        "              (i + 1, current_loss / 100))\n",
        "        current_loss = 0.0\n",
        "\n",
        "# Process is complete.\n",
        "print('Training process has finished.')"
      ],
      "metadata": {
        "colab": {
          "base_uri": "https://localhost:8080/"
        },
        "id": "7BkkgW41FzdA",
        "outputId": "97fbd970-039b-4014-eaac-3bfc776fe532"
      },
      "execution_count": 10,
      "outputs": [
        {
          "output_type": "stream",
          "name": "stdout",
          "text": [
            "Starting epoch 1\n",
            "Loss after mini-batch   100: 1.654\n",
            "Loss after mini-batch   200: 0.521\n",
            "Loss after mini-batch   300: 0.379\n",
            "Loss after mini-batch   400: 0.347\n",
            "Starting epoch 2\n",
            "Loss after mini-batch   100: 0.273\n",
            "Loss after mini-batch   200: 0.276\n",
            "Loss after mini-batch   300: 0.256\n",
            "Loss after mini-batch   400: 0.244\n",
            "Starting epoch 3\n",
            "Loss after mini-batch   100: 0.208\n",
            "Loss after mini-batch   200: 0.203\n",
            "Loss after mini-batch   300: 0.197\n",
            "Loss after mini-batch   400: 0.185\n",
            "Starting epoch 4\n",
            "Loss after mini-batch   100: 0.172\n",
            "Loss after mini-batch   200: 0.167\n",
            "Loss after mini-batch   300: 0.154\n",
            "Loss after mini-batch   400: 0.143\n",
            "Starting epoch 5\n",
            "Loss after mini-batch   100: 0.135\n",
            "Loss after mini-batch   200: 0.132\n",
            "Loss after mini-batch   300: 0.133\n",
            "Loss after mini-batch   400: 0.129\n",
            "Training process has finished.\n"
          ]
        }
      ]
    },
    {
      "cell_type": "markdown",
      "source": [
        "# Test the Model"
      ],
      "metadata": {
        "id": "bBJGdu7bLo-r"
      }
    },
    {
      "cell_type": "code",
      "source": [
        "model.eval()  # eval mode (batchnorm uses moving mean/variance instead of mini-batch mean/variance)\n",
        "with torch.no_grad():\n",
        "    correct = 0\n",
        "    total = 0\n",
        "    for inputs, targets in test_Loader:\n",
        "        inputs = inputs.to(device)\n",
        "        targets = targets.to(device)\n",
        "        outputs = model(inputs)\n",
        "        _, predicted = torch.max(outputs.data, 1)\n",
        "        total += targets.size(0)\n",
        "        correct += (predicted == targets).sum().item()\n",
        "\n",
        "    print('Accuracy of the network on the 10000 test images: {} %'.format(100 * correct / total))"
      ],
      "metadata": {
        "colab": {
          "base_uri": "https://localhost:8080/"
        },
        "id": "KFfCeyvSLrRn",
        "outputId": "de4b7eab-ed88-4546-c357-9f722d67e8dd"
      },
      "execution_count": 11,
      "outputs": [
        {
          "output_type": "stream",
          "name": "stdout",
          "text": [
            "Accuracy of the network on the 10000 test images: 96.32 %\n"
          ]
        }
      ]
    },
    {
      "cell_type": "markdown",
      "source": [
        "# Visualize the Model"
      ],
      "metadata": {
        "id": "AdnCEO1SSmF8"
      }
    },
    {
      "cell_type": "code",
      "source": [
        "inputs, targets = next(iter(train_Loader))\n",
        "inputs = inputs.to(device)\n",
        "y = model(inputs)"
      ],
      "metadata": {
        "id": "O_JdR6LQRwdF"
      },
      "execution_count": 12,
      "outputs": []
    },
    {
      "cell_type": "code",
      "source": [
        "make_dot(y.mean(), params=dict(model.named_parameters()))"
      ],
      "metadata": {
        "colab": {
          "base_uri": "https://localhost:8080/",
          "height": 997
        },
        "id": "AouLX7KARK54",
        "outputId": "fcecbd2c-1500-4822-dc89-e67e4847549e"
      },
      "execution_count": 13,
      "outputs": [
        {
          "output_type": "execute_result",
          "data": {
            "text/plain": [
              "<graphviz.dot.Digraph at 0x7fbbf1d11850>"
            ],
            "image/svg+xml": "<?xml version=\"1.0\" encoding=\"UTF-8\" standalone=\"no\"?>\n<!DOCTYPE svg PUBLIC \"-//W3C//DTD SVG 1.1//EN\"\n \"http://www.w3.org/Graphics/SVG/1.1/DTD/svg11.dtd\">\n<!-- Generated by graphviz version 2.40.1 (20161225.0304)\n -->\n<!-- Title: %3 Pages: 1 -->\n<svg width=\"603pt\" height=\"732pt\"\n viewBox=\"0.00 0.00 603.00 732.00\" xmlns=\"http://www.w3.org/2000/svg\" xmlns:xlink=\"http://www.w3.org/1999/xlink\">\n<g id=\"graph0\" class=\"graph\" transform=\"scale(1 1) rotate(0) translate(4 728)\">\n<title>%3</title>\n<polygon fill=\"#ffffff\" stroke=\"transparent\" points=\"-4,4 -4,-728 599,-728 599,4 -4,4\"/>\n<!-- 140445193012240 -->\n<g id=\"node1\" class=\"node\">\n<title>140445193012240</title>\n<polygon fill=\"#caff70\" stroke=\"#000000\" points=\"320.5,-31 266.5,-31 266.5,0 320.5,0 320.5,-31\"/>\n<text text-anchor=\"middle\" x=\"293.5\" y=\"-7\" font-family=\"monospace\" font-size=\"10.00\" fill=\"#000000\"> ()</text>\n</g>\n<!-- 140445192624848 -->\n<g id=\"node2\" class=\"node\">\n<title>140445192624848</title>\n<polygon fill=\"#d3d3d3\" stroke=\"#000000\" points=\"341,-86 246,-86 246,-67 341,-67 341,-86\"/>\n<text text-anchor=\"middle\" x=\"293.5\" y=\"-74\" font-family=\"monospace\" font-size=\"10.00\" fill=\"#000000\">MeanBackward0</text>\n</g>\n<!-- 140445192624848&#45;&gt;140445193012240 -->\n<g id=\"edge28\" class=\"edge\">\n<title>140445192624848&#45;&gt;140445193012240</title>\n<path fill=\"none\" stroke=\"#000000\" d=\"M293.5,-66.9688C293.5,-60.1289 293.5,-50.5621 293.5,-41.5298\"/>\n<polygon fill=\"#000000\" stroke=\"#000000\" points=\"297.0001,-41.3678 293.5,-31.3678 290.0001,-41.3678 297.0001,-41.3678\"/>\n</g>\n<!-- 140445192623504 -->\n<g id=\"node3\" class=\"node\">\n<title>140445192623504</title>\n<polygon fill=\"#d3d3d3\" stroke=\"#000000\" points=\"344,-141 243,-141 243,-122 344,-122 344,-141\"/>\n<text text-anchor=\"middle\" x=\"293.5\" y=\"-129\" font-family=\"monospace\" font-size=\"10.00\" fill=\"#000000\">AddmmBackward0</text>\n</g>\n<!-- 140445192623504&#45;&gt;140445192624848 -->\n<g id=\"edge1\" class=\"edge\">\n<title>140445192623504&#45;&gt;140445192624848</title>\n<path fill=\"none\" stroke=\"#000000\" d=\"M293.5,-121.9197C293.5,-114.9083 293.5,-105.1442 293.5,-96.4652\"/>\n<polygon fill=\"#000000\" stroke=\"#000000\" points=\"297.0001,-96.3408 293.5,-86.3408 290.0001,-96.3409 297.0001,-96.3408\"/>\n</g>\n<!-- 140445194437584 -->\n<g id=\"node4\" class=\"node\">\n<title>140445194437584</title>\n<polygon fill=\"#d3d3d3\" stroke=\"#000000\" points=\"212,-196 111,-196 111,-177 212,-177 212,-196\"/>\n<text text-anchor=\"middle\" x=\"161.5\" y=\"-184\" font-family=\"monospace\" font-size=\"10.00\" fill=\"#000000\">AccumulateGrad</text>\n</g>\n<!-- 140445194437584&#45;&gt;140445192623504 -->\n<g id=\"edge2\" class=\"edge\">\n<title>140445194437584&#45;&gt;140445192623504</title>\n<path fill=\"none\" stroke=\"#000000\" d=\"M184.4926,-176.9197C205.6567,-168.1014 237.2711,-154.9287 261.0116,-145.0369\"/>\n<polygon fill=\"#000000\" stroke=\"#000000\" points=\"262.4433,-148.232 270.3279,-141.155 259.751,-141.7705 262.4433,-148.232\"/>\n</g>\n<!-- 140445194390032 -->\n<g id=\"node5\" class=\"node\">\n<title>140445194390032</title>\n<polygon fill=\"#add8e6\" stroke=\"#000000\" points=\"225,-262 64,-262 64,-232 225,-232 225,-262\"/>\n<text text-anchor=\"middle\" x=\"144.5\" y=\"-250\" font-family=\"monospace\" font-size=\"10.00\" fill=\"#000000\">linear_relu_stack.6.bias</text>\n<text text-anchor=\"middle\" x=\"144.5\" y=\"-239\" font-family=\"monospace\" font-size=\"10.00\" fill=\"#000000\"> (10)</text>\n</g>\n<!-- 140445194390032&#45;&gt;140445194437584 -->\n<g id=\"edge3\" class=\"edge\">\n<title>140445194390032&#45;&gt;140445194437584</title>\n<path fill=\"none\" stroke=\"#000000\" d=\"M148.7898,-231.7333C151.003,-223.8571 153.7255,-214.168 156.0824,-205.7803\"/>\n<polygon fill=\"#000000\" stroke=\"#000000\" points=\"159.4706,-206.6604 158.8063,-196.0864 152.7316,-204.7667 159.4706,-206.6604\"/>\n</g>\n<!-- 140445192624784 -->\n<g id=\"node6\" class=\"node\">\n<title>140445192624784</title>\n<polygon fill=\"#d3d3d3\" stroke=\"#000000\" points=\"341,-196 246,-196 246,-177 341,-177 341,-196\"/>\n<text text-anchor=\"middle\" x=\"293.5\" y=\"-184\" font-family=\"monospace\" font-size=\"10.00\" fill=\"#000000\">ReluBackward0</text>\n</g>\n<!-- 140445192624784&#45;&gt;140445192623504 -->\n<g id=\"edge4\" class=\"edge\">\n<title>140445192624784&#45;&gt;140445192623504</title>\n<path fill=\"none\" stroke=\"#000000\" d=\"M293.5,-176.9197C293.5,-169.9083 293.5,-160.1442 293.5,-151.4652\"/>\n<polygon fill=\"#000000\" stroke=\"#000000\" points=\"297.0001,-151.3408 293.5,-141.3408 290.0001,-151.3409 297.0001,-151.3408\"/>\n</g>\n<!-- 140445192624720 -->\n<g id=\"node7\" class=\"node\">\n<title>140445192624720</title>\n<polygon fill=\"#d3d3d3\" stroke=\"#000000\" points=\"344,-256.5 243,-256.5 243,-237.5 344,-237.5 344,-256.5\"/>\n<text text-anchor=\"middle\" x=\"293.5\" y=\"-244.5\" font-family=\"monospace\" font-size=\"10.00\" fill=\"#000000\">AddmmBackward0</text>\n</g>\n<!-- 140445192624720&#45;&gt;140445192624784 -->\n<g id=\"edge5\" class=\"edge\">\n<title>140445192624720&#45;&gt;140445192624784</title>\n<path fill=\"none\" stroke=\"#000000\" d=\"M293.5,-237.2796C293.5,-229.0376 293.5,-216.9457 293.5,-206.629\"/>\n<polygon fill=\"#000000\" stroke=\"#000000\" points=\"297.0001,-206.3972 293.5,-196.3972 290.0001,-206.3973 297.0001,-206.3972\"/>\n</g>\n<!-- 140445192623696 -->\n<g id=\"node8\" class=\"node\">\n<title>140445192623696</title>\n<polygon fill=\"#d3d3d3\" stroke=\"#000000\" points=\"180,-322.5 79,-322.5 79,-303.5 180,-303.5 180,-322.5\"/>\n<text text-anchor=\"middle\" x=\"129.5\" y=\"-310.5\" font-family=\"monospace\" font-size=\"10.00\" fill=\"#000000\">AccumulateGrad</text>\n</g>\n<!-- 140445192623696&#45;&gt;140445192624720 -->\n<g id=\"edge6\" class=\"edge\">\n<title>140445192623696&#45;&gt;140445192624720</title>\n<path fill=\"none\" stroke=\"#000000\" d=\"M153.347,-303.403C181.6058,-292.0306 228.8485,-273.0183 260.5791,-260.2487\"/>\n<polygon fill=\"#000000\" stroke=\"#000000\" points=\"261.92,-263.4819 269.8903,-256.5015 259.3066,-256.988 261.92,-263.4819\"/>\n</g>\n<!-- 140445194389840 -->\n<g id=\"node9\" class=\"node\">\n<title>140445194389840</title>\n<polygon fill=\"#add8e6\" stroke=\"#000000\" points=\"193,-394 32,-394 32,-364 193,-364 193,-394\"/>\n<text text-anchor=\"middle\" x=\"112.5\" y=\"-382\" font-family=\"monospace\" font-size=\"10.00\" fill=\"#000000\">linear_relu_stack.4.bias</text>\n<text text-anchor=\"middle\" x=\"112.5\" y=\"-371\" font-family=\"monospace\" font-size=\"10.00\" fill=\"#000000\"> (256)</text>\n</g>\n<!-- 140445194389840&#45;&gt;140445192623696 -->\n<g id=\"edge7\" class=\"edge\">\n<title>140445194389840&#45;&gt;140445192623696</title>\n<path fill=\"none\" stroke=\"#000000\" d=\"M116.4429,-363.6924C118.8343,-354.408 121.909,-342.4708 124.474,-332.5127\"/>\n<polygon fill=\"#000000\" stroke=\"#000000\" points=\"127.8957,-333.26 127.0007,-322.7031 121.1169,-331.5139 127.8957,-333.26\"/>\n</g>\n<!-- 140445192625104 -->\n<g id=\"node10\" class=\"node\">\n<title>140445192625104</title>\n<polygon fill=\"#d3d3d3\" stroke=\"#000000\" points=\"309,-322.5 214,-322.5 214,-303.5 309,-303.5 309,-322.5\"/>\n<text text-anchor=\"middle\" x=\"261.5\" y=\"-310.5\" font-family=\"monospace\" font-size=\"10.00\" fill=\"#000000\">ReluBackward0</text>\n</g>\n<!-- 140445192625104&#45;&gt;140445192624720 -->\n<g id=\"edge8\" class=\"edge\">\n<title>140445192625104&#45;&gt;140445192624720</title>\n<path fill=\"none\" stroke=\"#000000\" d=\"M266.2217,-303.2615C270.9484,-293.5127 278.3468,-278.2534 284.2469,-266.0846\"/>\n<polygon fill=\"#000000\" stroke=\"#000000\" points=\"287.5455,-267.3036 288.7589,-256.7785 281.2468,-264.2497 287.5455,-267.3036\"/>\n</g>\n<!-- 140445192623888 -->\n<g id=\"node11\" class=\"node\">\n<title>140445192623888</title>\n<polygon fill=\"#d3d3d3\" stroke=\"#000000\" points=\"312,-388.5 211,-388.5 211,-369.5 312,-369.5 312,-388.5\"/>\n<text text-anchor=\"middle\" x=\"261.5\" y=\"-376.5\" font-family=\"monospace\" font-size=\"10.00\" fill=\"#000000\">AddmmBackward0</text>\n</g>\n<!-- 140445192623888&#45;&gt;140445192625104 -->\n<g id=\"edge9\" class=\"edge\">\n<title>140445192623888&#45;&gt;140445192625104</title>\n<path fill=\"none\" stroke=\"#000000\" d=\"M261.5,-369.2615C261.5,-359.7077 261.5,-344.8615 261.5,-332.8183\"/>\n<polygon fill=\"#000000\" stroke=\"#000000\" points=\"265.0001,-332.7784 261.5,-322.7785 258.0001,-332.7785 265.0001,-332.7784\"/>\n</g>\n<!-- 140445192625040 -->\n<g id=\"node12\" class=\"node\">\n<title>140445192625040</title>\n<polygon fill=\"#d3d3d3\" stroke=\"#000000\" points=\"147,-454.5 46,-454.5 46,-435.5 147,-435.5 147,-454.5\"/>\n<text text-anchor=\"middle\" x=\"96.5\" y=\"-442.5\" font-family=\"monospace\" font-size=\"10.00\" fill=\"#000000\">AccumulateGrad</text>\n</g>\n<!-- 140445192625040&#45;&gt;140445192623888 -->\n<g id=\"edge10\" class=\"edge\">\n<title>140445192625040&#45;&gt;140445192623888</title>\n<path fill=\"none\" stroke=\"#000000\" d=\"M120.4924,-435.403C148.9235,-424.0306 196.4542,-405.0183 228.3783,-392.2487\"/>\n<polygon fill=\"#000000\" stroke=\"#000000\" points=\"229.7614,-395.4651 237.7463,-388.5015 227.1617,-388.9658 229.7614,-395.4651\"/>\n</g>\n<!-- 140445194389648 -->\n<g id=\"node13\" class=\"node\">\n<title>140445194389648</title>\n<polygon fill=\"#add8e6\" stroke=\"#000000\" points=\"161,-526 0,-526 0,-496 161,-496 161,-526\"/>\n<text text-anchor=\"middle\" x=\"80.5\" y=\"-514\" font-family=\"monospace\" font-size=\"10.00\" fill=\"#000000\">linear_relu_stack.2.bias</text>\n<text text-anchor=\"middle\" x=\"80.5\" y=\"-503\" font-family=\"monospace\" font-size=\"10.00\" fill=\"#000000\"> (512)</text>\n</g>\n<!-- 140445194389648&#45;&gt;140445192625040 -->\n<g id=\"edge11\" class=\"edge\">\n<title>140445194389648&#45;&gt;140445192625040</title>\n<path fill=\"none\" stroke=\"#000000\" d=\"M84.2109,-495.6924C86.4617,-486.408 89.3556,-474.4708 91.7696,-464.5127\"/>\n<polygon fill=\"#000000\" stroke=\"#000000\" points=\"95.1931,-465.2462 94.1477,-454.7031 88.3902,-463.5969 95.1931,-465.2462\"/>\n</g>\n<!-- 140445192625360 -->\n<g id=\"node14\" class=\"node\">\n<title>140445192625360</title>\n<polygon fill=\"#d3d3d3\" stroke=\"#000000\" points=\"277,-454.5 182,-454.5 182,-435.5 277,-435.5 277,-454.5\"/>\n<text text-anchor=\"middle\" x=\"229.5\" y=\"-442.5\" font-family=\"monospace\" font-size=\"10.00\" fill=\"#000000\">ReluBackward0</text>\n</g>\n<!-- 140445192625360&#45;&gt;140445192623888 -->\n<g id=\"edge12\" class=\"edge\">\n<title>140445192625360&#45;&gt;140445192623888</title>\n<path fill=\"none\" stroke=\"#000000\" d=\"M234.2217,-435.2615C238.9484,-425.5127 246.3468,-410.2534 252.2469,-398.0846\"/>\n<polygon fill=\"#000000\" stroke=\"#000000\" points=\"255.5455,-399.3036 256.7589,-388.7785 249.2468,-396.2497 255.5455,-399.3036\"/>\n</g>\n<!-- 140445192624976 -->\n<g id=\"node15\" class=\"node\">\n<title>140445192624976</title>\n<polygon fill=\"#d3d3d3\" stroke=\"#000000\" points=\"280,-520.5 179,-520.5 179,-501.5 280,-501.5 280,-520.5\"/>\n<text text-anchor=\"middle\" x=\"229.5\" y=\"-508.5\" font-family=\"monospace\" font-size=\"10.00\" fill=\"#000000\">AddmmBackward0</text>\n</g>\n<!-- 140445192624976&#45;&gt;140445192625360 -->\n<g id=\"edge13\" class=\"edge\">\n<title>140445192624976&#45;&gt;140445192625360</title>\n<path fill=\"none\" stroke=\"#000000\" d=\"M229.5,-501.2615C229.5,-491.7077 229.5,-476.8615 229.5,-464.8183\"/>\n<polygon fill=\"#000000\" stroke=\"#000000\" points=\"233.0001,-464.7784 229.5,-454.7785 226.0001,-464.7785 233.0001,-464.7784\"/>\n</g>\n<!-- 140445192625872 -->\n<g id=\"node16\" class=\"node\">\n<title>140445192625872</title>\n<polygon fill=\"#d3d3d3\" stroke=\"#000000\" points=\"152,-586.5 51,-586.5 51,-567.5 152,-567.5 152,-586.5\"/>\n<text text-anchor=\"middle\" x=\"101.5\" y=\"-574.5\" font-family=\"monospace\" font-size=\"10.00\" fill=\"#000000\">AccumulateGrad</text>\n</g>\n<!-- 140445192625872&#45;&gt;140445192624976 -->\n<g id=\"edge14\" class=\"edge\">\n<title>140445192625872&#45;&gt;140445192624976</title>\n<path fill=\"none\" stroke=\"#000000\" d=\"M120.1123,-567.403C141.6311,-556.3074 177.2541,-537.9393 201.9762,-525.192\"/>\n<polygon fill=\"#000000\" stroke=\"#000000\" points=\"203.5812,-528.3023 210.8652,-520.6085 200.3732,-522.0807 203.5812,-528.3023\"/>\n</g>\n<!-- 140445194389072 -->\n<g id=\"node17\" class=\"node\">\n<title>140445194389072</title>\n<polygon fill=\"#add8e6\" stroke=\"#000000\" points=\"172,-658 11,-658 11,-628 172,-628 172,-658\"/>\n<text text-anchor=\"middle\" x=\"91.5\" y=\"-646\" font-family=\"monospace\" font-size=\"10.00\" fill=\"#000000\">linear_relu_stack.0.bias</text>\n<text text-anchor=\"middle\" x=\"91.5\" y=\"-635\" font-family=\"monospace\" font-size=\"10.00\" fill=\"#000000\"> (512)</text>\n</g>\n<!-- 140445194389072&#45;&gt;140445192625872 -->\n<g id=\"edge15\" class=\"edge\">\n<title>140445194389072&#45;&gt;140445192625872</title>\n<path fill=\"none\" stroke=\"#000000\" d=\"M93.8193,-627.6924C95.2111,-618.5067 96.9963,-606.7245 98.4953,-596.8312\"/>\n<polygon fill=\"#000000\" stroke=\"#000000\" points=\"101.9922,-597.1146 100.0298,-586.7031 95.0712,-596.0659 101.9922,-597.1146\"/>\n</g>\n<!-- 140445192625168 -->\n<g id=\"node18\" class=\"node\">\n<title>140445192625168</title>\n<polygon fill=\"#d3d3d3\" stroke=\"#000000\" points=\"268,-586.5 191,-586.5 191,-567.5 268,-567.5 268,-586.5\"/>\n<text text-anchor=\"middle\" x=\"229.5\" y=\"-574.5\" font-family=\"monospace\" font-size=\"10.00\" fill=\"#000000\">TBackward0</text>\n</g>\n<!-- 140445192625168&#45;&gt;140445192624976 -->\n<g id=\"edge16\" class=\"edge\">\n<title>140445192625168&#45;&gt;140445192624976</title>\n<path fill=\"none\" stroke=\"#000000\" d=\"M229.5,-567.2615C229.5,-557.7077 229.5,-542.8615 229.5,-530.8183\"/>\n<polygon fill=\"#000000\" stroke=\"#000000\" points=\"233.0001,-530.7784 229.5,-520.7785 226.0001,-530.7785 233.0001,-530.7784\"/>\n</g>\n<!-- 140445192626128 -->\n<g id=\"node19\" class=\"node\">\n<title>140445192626128</title>\n<polygon fill=\"#d3d3d3\" stroke=\"#000000\" points=\"291,-652.5 190,-652.5 190,-633.5 291,-633.5 291,-652.5\"/>\n<text text-anchor=\"middle\" x=\"240.5\" y=\"-640.5\" font-family=\"monospace\" font-size=\"10.00\" fill=\"#000000\">AccumulateGrad</text>\n</g>\n<!-- 140445192626128&#45;&gt;140445192625168 -->\n<g id=\"edge17\" class=\"edge\">\n<title>140445192626128&#45;&gt;140445192625168</title>\n<path fill=\"none\" stroke=\"#000000\" d=\"M238.8769,-633.2615C237.2846,-623.7077 234.8103,-608.8615 232.8031,-596.8183\"/>\n<polygon fill=\"#000000\" stroke=\"#000000\" points=\"236.2262,-596.067 231.1297,-586.7785 229.3214,-597.2178 236.2262,-596.067\"/>\n</g>\n<!-- 140445194388976 -->\n<g id=\"node20\" class=\"node\">\n<title>140445194388976</title>\n<polygon fill=\"#add8e6\" stroke=\"#000000\" points=\"327,-724 154,-724 154,-694 327,-694 327,-724\"/>\n<text text-anchor=\"middle\" x=\"240.5\" y=\"-712\" font-family=\"monospace\" font-size=\"10.00\" fill=\"#000000\">linear_relu_stack.0.weight</text>\n<text text-anchor=\"middle\" x=\"240.5\" y=\"-701\" font-family=\"monospace\" font-size=\"10.00\" fill=\"#000000\"> (512, 784)</text>\n</g>\n<!-- 140445194388976&#45;&gt;140445192626128 -->\n<g id=\"edge18\" class=\"edge\">\n<title>140445194388976&#45;&gt;140445192626128</title>\n<path fill=\"none\" stroke=\"#000000\" d=\"M240.5,-693.6924C240.5,-684.5067 240.5,-672.7245 240.5,-662.8312\"/>\n<polygon fill=\"#000000\" stroke=\"#000000\" points=\"244.0001,-662.703 240.5,-652.7031 237.0001,-662.7031 244.0001,-662.703\"/>\n</g>\n<!-- 140445192625744 -->\n<g id=\"node21\" class=\"node\">\n<title>140445192625744</title>\n<polygon fill=\"#d3d3d3\" stroke=\"#000000\" points=\"372,-454.5 295,-454.5 295,-435.5 372,-435.5 372,-454.5\"/>\n<text text-anchor=\"middle\" x=\"333.5\" y=\"-442.5\" font-family=\"monospace\" font-size=\"10.00\" fill=\"#000000\">TBackward0</text>\n</g>\n<!-- 140445192625744&#45;&gt;140445192623888 -->\n<g id=\"edge19\" class=\"edge\">\n<title>140445192625744&#45;&gt;140445192623888</title>\n<path fill=\"none\" stroke=\"#000000\" d=\"M322.8762,-435.2615C311.4967,-424.8303 293.2346,-408.0901 279.5845,-395.5775\"/>\n<polygon fill=\"#000000\" stroke=\"#000000\" points=\"281.904,-392.9557 272.1674,-388.7785 277.174,-398.1158 281.904,-392.9557\"/>\n</g>\n<!-- 140445192626064 -->\n<g id=\"node22\" class=\"node\">\n<title>140445192626064</title>\n<polygon fill=\"#d3d3d3\" stroke=\"#000000\" points=\"411,-520.5 310,-520.5 310,-501.5 411,-501.5 411,-520.5\"/>\n<text text-anchor=\"middle\" x=\"360.5\" y=\"-508.5\" font-family=\"monospace\" font-size=\"10.00\" fill=\"#000000\">AccumulateGrad</text>\n</g>\n<!-- 140445192626064&#45;&gt;140445192625744 -->\n<g id=\"edge20\" class=\"edge\">\n<title>140445192626064&#45;&gt;140445192625744</title>\n<path fill=\"none\" stroke=\"#000000\" d=\"M356.5161,-501.2615C352.5279,-491.5127 346.2855,-476.2534 341.3073,-464.0846\"/>\n<polygon fill=\"#000000\" stroke=\"#000000\" points=\"344.5261,-462.7087 337.5003,-454.7785 338.0473,-465.3592 344.5261,-462.7087\"/>\n</g>\n<!-- 140445194389360 -->\n<g id=\"node23\" class=\"node\">\n<title>140445194389360</title>\n<polygon fill=\"#add8e6\" stroke=\"#000000\" points=\"459,-592 286,-592 286,-562 459,-562 459,-592\"/>\n<text text-anchor=\"middle\" x=\"372.5\" y=\"-580\" font-family=\"monospace\" font-size=\"10.00\" fill=\"#000000\">linear_relu_stack.2.weight</text>\n<text text-anchor=\"middle\" x=\"372.5\" y=\"-569\" font-family=\"monospace\" font-size=\"10.00\" fill=\"#000000\"> (512, 512)</text>\n</g>\n<!-- 140445194389360&#45;&gt;140445192626064 -->\n<g id=\"edge21\" class=\"edge\">\n<title>140445194389360&#45;&gt;140445192626064</title>\n<path fill=\"none\" stroke=\"#000000\" d=\"M369.7168,-561.6924C368.0467,-552.5067 365.9044,-540.7245 364.1057,-530.8312\"/>\n<polygon fill=\"#000000\" stroke=\"#000000\" points=\"367.4967,-529.9156 362.2642,-520.7031 360.6096,-531.1679 367.4967,-529.9156\"/>\n</g>\n<!-- 140445192624464 -->\n<g id=\"node24\" class=\"node\">\n<title>140445192624464</title>\n<polygon fill=\"#d3d3d3\" stroke=\"#000000\" points=\"404,-322.5 327,-322.5 327,-303.5 404,-303.5 404,-322.5\"/>\n<text text-anchor=\"middle\" x=\"365.5\" y=\"-310.5\" font-family=\"monospace\" font-size=\"10.00\" fill=\"#000000\">TBackward0</text>\n</g>\n<!-- 140445192624464&#45;&gt;140445192624720 -->\n<g id=\"edge22\" class=\"edge\">\n<title>140445192624464&#45;&gt;140445192624720</title>\n<path fill=\"none\" stroke=\"#000000\" d=\"M354.8762,-303.2615C343.4967,-292.8303 325.2346,-276.0901 311.5845,-263.5775\"/>\n<polygon fill=\"#000000\" stroke=\"#000000\" points=\"313.904,-260.9557 304.1674,-256.7785 309.174,-266.1158 313.904,-260.9557\"/>\n</g>\n<!-- 140445192623824 -->\n<g id=\"node25\" class=\"node\">\n<title>140445192623824</title>\n<polygon fill=\"#d3d3d3\" stroke=\"#000000\" points=\"495,-388.5 394,-388.5 394,-369.5 495,-369.5 495,-388.5\"/>\n<text text-anchor=\"middle\" x=\"444.5\" y=\"-376.5\" font-family=\"monospace\" font-size=\"10.00\" fill=\"#000000\">AccumulateGrad</text>\n</g>\n<!-- 140445192623824&#45;&gt;140445192624464 -->\n<g id=\"edge23\" class=\"edge\">\n<title>140445192623824&#45;&gt;140445192624464</title>\n<path fill=\"none\" stroke=\"#000000\" d=\"M432.8433,-369.2615C420.1684,-358.6723 399.7112,-341.5815 384.6657,-329.0119\"/>\n<polygon fill=\"#000000\" stroke=\"#000000\" points=\"386.866,-326.2893 376.9477,-322.5639 382.378,-331.6613 386.866,-326.2893\"/>\n</g>\n<!-- 140445194389744 -->\n<g id=\"node26\" class=\"node\">\n<title>140445194389744</title>\n<polygon fill=\"#add8e6\" stroke=\"#000000\" points=\"563,-460 390,-460 390,-430 563,-430 563,-460\"/>\n<text text-anchor=\"middle\" x=\"476.5\" y=\"-448\" font-family=\"monospace\" font-size=\"10.00\" fill=\"#000000\">linear_relu_stack.4.weight</text>\n<text text-anchor=\"middle\" x=\"476.5\" y=\"-437\" font-family=\"monospace\" font-size=\"10.00\" fill=\"#000000\"> (256, 512)</text>\n</g>\n<!-- 140445194389744&#45;&gt;140445192623824 -->\n<g id=\"edge24\" class=\"edge\">\n<title>140445194389744&#45;&gt;140445192623824</title>\n<path fill=\"none\" stroke=\"#000000\" d=\"M469.0781,-429.6924C464.4808,-420.2104 458.542,-407.9616 453.6539,-397.8798\"/>\n<polygon fill=\"#000000\" stroke=\"#000000\" points=\"456.7167,-396.1742 449.2045,-388.7031 450.418,-399.2282 456.7167,-396.1742\"/>\n</g>\n<!-- 140445192623632 -->\n<g id=\"node27\" class=\"node\">\n<title>140445192623632</title>\n<polygon fill=\"#d3d3d3\" stroke=\"#000000\" points=\"475,-196 398,-196 398,-177 475,-177 475,-196\"/>\n<text text-anchor=\"middle\" x=\"436.5\" y=\"-184\" font-family=\"monospace\" font-size=\"10.00\" fill=\"#000000\">TBackward0</text>\n</g>\n<!-- 140445192623632&#45;&gt;140445192623504 -->\n<g id=\"edge25\" class=\"edge\">\n<title>140445192623632&#45;&gt;140445192623504</title>\n<path fill=\"none\" stroke=\"#000000\" d=\"M411.5913,-176.9197C388.4598,-168.023 353.8049,-154.6942 328.012,-144.7739\"/>\n<polygon fill=\"#000000\" stroke=\"#000000\" points=\"329.193,-141.4782 318.6031,-141.155 326.6801,-148.0116 329.193,-141.4782\"/>\n</g>\n<!-- 140445192623568 -->\n<g id=\"node28\" class=\"node\">\n<title>140445192623568</title>\n<polygon fill=\"#d3d3d3\" stroke=\"#000000\" points=\"527,-256.5 426,-256.5 426,-237.5 527,-237.5 527,-256.5\"/>\n<text text-anchor=\"middle\" x=\"476.5\" y=\"-244.5\" font-family=\"monospace\" font-size=\"10.00\" fill=\"#000000\">AccumulateGrad</text>\n</g>\n<!-- 140445192623568&#45;&gt;140445192623632 -->\n<g id=\"edge26\" class=\"edge\">\n<title>140445192623568&#45;&gt;140445192623632</title>\n<path fill=\"none\" stroke=\"#000000\" d=\"M470.0733,-237.2796C464.3342,-228.5992 455.7717,-215.6485 448.7305,-204.9987\"/>\n<polygon fill=\"#000000\" stroke=\"#000000\" points=\"451.4784,-202.8086 443.0436,-196.3972 445.6392,-206.6692 451.4784,-202.8086\"/>\n</g>\n<!-- 140445194389936 -->\n<g id=\"node29\" class=\"node\">\n<title>140445194389936</title>\n<polygon fill=\"#add8e6\" stroke=\"#000000\" points=\"595,-328 422,-328 422,-298 595,-298 595,-328\"/>\n<text text-anchor=\"middle\" x=\"508.5\" y=\"-316\" font-family=\"monospace\" font-size=\"10.00\" fill=\"#000000\">linear_relu_stack.6.weight</text>\n<text text-anchor=\"middle\" x=\"508.5\" y=\"-305\" font-family=\"monospace\" font-size=\"10.00\" fill=\"#000000\"> (10, 256)</text>\n</g>\n<!-- 140445194389936&#45;&gt;140445192623568 -->\n<g id=\"edge27\" class=\"edge\">\n<title>140445194389936&#45;&gt;140445192623568</title>\n<path fill=\"none\" stroke=\"#000000\" d=\"M501.0781,-297.6924C496.4808,-288.2104 490.542,-275.9616 485.6539,-265.8798\"/>\n<polygon fill=\"#000000\" stroke=\"#000000\" points=\"488.7167,-264.1742 481.2045,-256.7031 482.418,-267.2282 488.7167,-264.1742\"/>\n</g>\n</g>\n</svg>\n"
          },
          "metadata": {},
          "execution_count": 13
        }
      ]
    },
    {
      "cell_type": "code",
      "source": [
        "transforms = [ hl.transforms.Prune('Constant') ] # Removes Constant nodes from graph.\n",
        "graph = hl.build_graph(model, inputs.to(device), transforms=transforms)\n",
        "graph.theme = hl.graph.THEMES['blue'].copy()\n",
        "graph"
      ],
      "metadata": {
        "colab": {
          "base_uri": "https://localhost:8080/",
          "height": 165
        },
        "id": "PWlXFntwS9Oa",
        "outputId": "d3c5161d-ea46-458f-9811-ff84c2085c25"
      },
      "execution_count": 15,
      "outputs": [
        {
          "output_type": "execute_result",
          "data": {
            "text/plain": [
              "<hiddenlayer.graph.Graph at 0x7fbbf1ee0b50>"
            ],
            "image/svg+xml": "<?xml version=\"1.0\" encoding=\"UTF-8\" standalone=\"no\"?>\n<!DOCTYPE svg PUBLIC \"-//W3C//DTD SVG 1.1//EN\"\n \"http://www.w3.org/Graphics/SVG/1.1/DTD/svg11.dtd\">\n<!-- Generated by graphviz version 2.40.1 (20161225.0304)\n -->\n<!-- Title: %3 Pages: 1 -->\n<svg width=\"833pt\" height=\"108pt\"\n viewBox=\"0.00 0.00 833.00 108.00\" xmlns=\"http://www.w3.org/2000/svg\" xmlns:xlink=\"http://www.w3.org/1999/xlink\">\n<g id=\"graph0\" class=\"graph\" transform=\"scale(1 1) rotate(0) translate(72 72)\">\n<title>%3</title>\n<polygon fill=\"#ffffff\" stroke=\"transparent\" points=\"-72,36 -72,-72 761,-72 761,36 -72,36\"/>\n<!-- /outputs/9 -->\n<g id=\"node1\" class=\"node\">\n<title>/outputs/9</title>\n<polygon fill=\"#bcd6fc\" stroke=\"#7c96bc\" points=\"59,-36 0,-36 0,0 59,0 59,-36\"/>\n<text text-anchor=\"start\" x=\"8.5\" y=\"-15\" font-family=\"Verdana\" font-size=\"10.00\" fill=\"#202020\">Flatten</text>\n</g>\n<!-- /outputs/10 -->\n<g id=\"node2\" class=\"node\">\n<title>/outputs/10</title>\n<polygon fill=\"#bcd6fc\" stroke=\"#7c96bc\" points=\"149,-36 95,-36 95,0 149,0 149,-36\"/>\n<text text-anchor=\"start\" x=\"104\" y=\"-15\" font-family=\"Verdana\" font-size=\"10.00\" fill=\"#202020\">Linear</text>\n</g>\n<!-- /outputs/9&#45;&gt;/outputs/10 -->\n<g id=\"edge1\" class=\"edge\">\n<title>/outputs/9&#45;&gt;/outputs/10</title>\n<path fill=\"none\" stroke=\"#7c96bc\" d=\"M59.0219,-18C67.2163,-18 76.2204,-18 84.7932,-18\"/>\n<polygon fill=\"#7c96bc\" stroke=\"#7c96bc\" points=\"84.9528,-21.5001 94.9527,-18 84.9527,-14.5001 84.9528,-21.5001\"/>\n</g>\n<!-- /outputs/11 -->\n<g id=\"node3\" class=\"node\">\n<title>/outputs/11</title>\n<polygon fill=\"#bcd6fc\" stroke=\"#7c96bc\" points=\"239,-36 185,-36 185,0 239,0 239,-36\"/>\n<text text-anchor=\"start\" x=\"200\" y=\"-15\" font-family=\"Verdana\" font-size=\"10.00\" fill=\"#202020\">Relu</text>\n</g>\n<!-- /outputs/10&#45;&gt;/outputs/11 -->\n<g id=\"edge2\" class=\"edge\">\n<title>/outputs/10&#45;&gt;/outputs/11</title>\n<path fill=\"none\" stroke=\"#7c96bc\" d=\"M149.003,-18C157.0277,-18 165.9665,-18 174.5309,-18\"/>\n<polygon fill=\"#7c96bc\" stroke=\"#7c96bc\" points=\"174.7051,-21.5001 184.705,-18 174.705,-14.5001 174.7051,-21.5001\"/>\n</g>\n<!-- /outputs/12 -->\n<g id=\"node4\" class=\"node\">\n<title>/outputs/12</title>\n<polygon fill=\"#bcd6fc\" stroke=\"#7c96bc\" points=\"329,-36 275,-36 275,0 329,0 329,-36\"/>\n<text text-anchor=\"start\" x=\"284\" y=\"-15\" font-family=\"Verdana\" font-size=\"10.00\" fill=\"#202020\">Linear</text>\n</g>\n<!-- /outputs/11&#45;&gt;/outputs/12 -->\n<g id=\"edge3\" class=\"edge\">\n<title>/outputs/11&#45;&gt;/outputs/12</title>\n<path fill=\"none\" stroke=\"#7c96bc\" d=\"M239.003,-18C247.0277,-18 255.9665,-18 264.5309,-18\"/>\n<polygon fill=\"#7c96bc\" stroke=\"#7c96bc\" points=\"264.7051,-21.5001 274.705,-18 264.705,-14.5001 264.7051,-21.5001\"/>\n</g>\n<!-- /outputs/13 -->\n<g id=\"node5\" class=\"node\">\n<title>/outputs/13</title>\n<polygon fill=\"#bcd6fc\" stroke=\"#7c96bc\" points=\"419,-36 365,-36 365,0 419,0 419,-36\"/>\n<text text-anchor=\"start\" x=\"380\" y=\"-15\" font-family=\"Verdana\" font-size=\"10.00\" fill=\"#202020\">Relu</text>\n</g>\n<!-- /outputs/12&#45;&gt;/outputs/13 -->\n<g id=\"edge4\" class=\"edge\">\n<title>/outputs/12&#45;&gt;/outputs/13</title>\n<path fill=\"none\" stroke=\"#7c96bc\" d=\"M329.003,-18C337.0277,-18 345.9665,-18 354.5309,-18\"/>\n<polygon fill=\"#7c96bc\" stroke=\"#7c96bc\" points=\"354.7051,-21.5001 364.705,-18 354.705,-14.5001 354.7051,-21.5001\"/>\n</g>\n<!-- /outputs/14 -->\n<g id=\"node6\" class=\"node\">\n<title>/outputs/14</title>\n<polygon fill=\"#bcd6fc\" stroke=\"#7c96bc\" points=\"509,-36 455,-36 455,0 509,0 509,-36\"/>\n<text text-anchor=\"start\" x=\"464\" y=\"-15\" font-family=\"Verdana\" font-size=\"10.00\" fill=\"#202020\">Linear</text>\n</g>\n<!-- /outputs/13&#45;&gt;/outputs/14 -->\n<g id=\"edge5\" class=\"edge\">\n<title>/outputs/13&#45;&gt;/outputs/14</title>\n<path fill=\"none\" stroke=\"#7c96bc\" d=\"M419.003,-18C427.0277,-18 435.9665,-18 444.5309,-18\"/>\n<polygon fill=\"#7c96bc\" stroke=\"#7c96bc\" points=\"444.7051,-21.5001 454.705,-18 444.705,-14.5001 444.7051,-21.5001\"/>\n</g>\n<!-- /outputs/15 -->\n<g id=\"node7\" class=\"node\">\n<title>/outputs/15</title>\n<polygon fill=\"#bcd6fc\" stroke=\"#7c96bc\" points=\"599,-36 545,-36 545,0 599,0 599,-36\"/>\n<text text-anchor=\"start\" x=\"560\" y=\"-15\" font-family=\"Verdana\" font-size=\"10.00\" fill=\"#202020\">Relu</text>\n</g>\n<!-- /outputs/14&#45;&gt;/outputs/15 -->\n<g id=\"edge6\" class=\"edge\">\n<title>/outputs/14&#45;&gt;/outputs/15</title>\n<path fill=\"none\" stroke=\"#7c96bc\" d=\"M509.003,-18C517.0277,-18 525.9665,-18 534.5309,-18\"/>\n<polygon fill=\"#7c96bc\" stroke=\"#7c96bc\" points=\"534.7051,-21.5001 544.705,-18 534.705,-14.5001 534.7051,-21.5001\"/>\n</g>\n<!-- /outputs/16 -->\n<g id=\"node8\" class=\"node\">\n<title>/outputs/16</title>\n<polygon fill=\"#bcd6fc\" stroke=\"#7c96bc\" points=\"689,-36 635,-36 635,0 689,0 689,-36\"/>\n<text text-anchor=\"start\" x=\"644\" y=\"-15\" font-family=\"Verdana\" font-size=\"10.00\" fill=\"#202020\">Linear</text>\n</g>\n<!-- /outputs/15&#45;&gt;/outputs/16 -->\n<g id=\"edge7\" class=\"edge\">\n<title>/outputs/15&#45;&gt;/outputs/16</title>\n<path fill=\"none\" stroke=\"#7c96bc\" d=\"M599.003,-18C607.0277,-18 615.9665,-18 624.5309,-18\"/>\n<polygon fill=\"#7c96bc\" stroke=\"#7c96bc\" points=\"624.7051,-21.5001 634.705,-18 624.705,-14.5001 624.7051,-21.5001\"/>\n</g>\n</g>\n</svg>\n"
          },
          "metadata": {},
          "execution_count": 15
        }
      ]
    }
  ]
}