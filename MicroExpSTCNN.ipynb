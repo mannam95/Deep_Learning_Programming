{
  "nbformat": 4,
  "nbformat_minor": 0,
  "metadata": {
    "colab": {
      "name": "MicroExpSTCNN.ipynb",
      "provenance": [],
      "machine_shape": "hm",
      "authorship_tag": "ABX9TyNZp7ixyBYqp41e8GBNlmGF",
      "include_colab_link": true
    },
    "kernelspec": {
      "name": "python3",
      "display_name": "Python 3"
    },
    "language_info": {
      "name": "python"
    },
    "accelerator": "GPU"
  },
  "cells": [
    {
      "cell_type": "markdown",
      "metadata": {
        "id": "view-in-github",
        "colab_type": "text"
      },
      "source": [
        "<a href=\"https://colab.research.google.com/github/mannam95/Deep_Learning_Programming/blob/main/MicroExpSTCNN.ipynb\" target=\"_parent\"><img src=\"https://colab.research.google.com/assets/colab-badge.svg\" alt=\"Open In Colab\"/></a>"
      ]
    },
    {
      "cell_type": "markdown",
      "metadata": {
        "id": "9b1ec548"
      },
      "source": [
        "# import statements"
      ]
    },
    {
      "cell_type": "code",
      "metadata": {
        "id": "85eb7211"
      },
      "source": [
        "import os\n",
        "import cv2\n",
        "import numpy\n",
        "import imageio\n",
        "from sklearn.metrics import confusion_matrix\n",
        "from keras.models import Sequential\n",
        "from keras.layers.core import Dense, Dropout, Activation, Flatten\n",
        "from keras.layers.convolutional import Convolution3D, MaxPooling3D\n",
        "# from keras.optimizers import SGD, RMSprop\n",
        "from tensorflow.keras.optimizers import SGD, RMSprop\n",
        "from keras.callbacks import ModelCheckpoint\n",
        "from keras.utils import np_utils, generic_utils\n",
        "from sklearn.model_selection import train_test_split\n",
        "from keras import backend as K\n",
        "# import tensorflow.keras.backend as K\n",
        "import sys"
      ],
      "execution_count": null,
      "outputs": []
    },
    {
      "cell_type": "code",
      "source": [
        "# K.set_image_dim_ordering('th')\n",
        "K.set_image_data_format('channels_first')"
      ],
      "metadata": {
        "id": "n_CGFOSeLopf"
      },
      "execution_count": null,
      "outputs": []
    },
    {
      "cell_type": "markdown",
      "metadata": {
        "id": "0c34550c"
      },
      "source": [
        "# Change the directory"
      ]
    },
    {
      "cell_type": "code",
      "metadata": {
        "id": "94b2626e"
      },
      "source": [
        "working_directory = '/content/drive/My Drive/Colab Notebooks/Kranthi_Task/'\n",
        "def colabDrive():\n",
        "    from google.colab import drive\n",
        "    drive.mount(\"/content/drive\")\n",
        "\n",
        "    if os.getcwd() !=  working_directory:\n",
        "      os.chdir(working_directory)\n",
        "    print(os.getcwd())"
      ],
      "execution_count": null,
      "outputs": []
    },
    {
      "cell_type": "code",
      "metadata": {
        "id": "a8540ed4",
        "colab": {
          "base_uri": "https://localhost:8080/"
        },
        "outputId": "581558f8-86bb-4065-a65f-f3b1fe49847c"
      },
      "source": [
        "colabDrive()"
      ],
      "execution_count": null,
      "outputs": [
        {
          "output_type": "stream",
          "name": "stdout",
          "text": [
            "Mounted at /content/drive\n",
            "/content/drive/My Drive/Colab Notebooks/Kranthi_Task\n"
          ]
        }
      ]
    },
    {
      "cell_type": "code",
      "source": [
        "# !unzip 'HS.zip' -d 'Temp'"
      ],
      "metadata": {
        "id": "Lvd2GhmmzoZs"
      },
      "execution_count": null,
      "outputs": []
    },
    {
      "cell_type": "markdown",
      "source": [
        "# Old Code"
      ],
      "metadata": {
        "id": "5762PXd-0-XJ"
      }
    },
    {
      "cell_type": "code",
      "source": [
        "image_rows, image_columns, image_depth = 64, 64, 18\n",
        "training_list = []\n",
        "subjectPath = 'Temp/HS/'"
      ],
      "metadata": {
        "id": "6xsqhRQpDWkQ"
      },
      "execution_count": null,
      "outputs": []
    },
    {
      "cell_type": "code",
      "source": [
        "subDirectory = os.listdir(subjectPath)\n",
        "for sub in subDirectory:\n",
        "  negativepath = 'Temp/HS/'+ sub +'/micro/negative/'\n",
        "  directorylisting = os.listdir(negativepath)\n",
        "  for video in directorylisting:\n",
        "      videopath = negativepath + video\n",
        "      frames = []\n",
        "      framelisting = os.listdir(videopath)\n",
        "      if len(framelisting) > 18:\n",
        "        framerange = [x for x in range(18)]\n",
        "        for frame in framerange:\n",
        "              imagepath = videopath + \"/\" + framelisting[frame]\n",
        "              image = cv2.imread(imagepath)\n",
        "              imageresize = cv2.resize(image, (image_rows, image_columns), interpolation = cv2.INTER_AREA)\n",
        "              grayimage = cv2.cvtColor(imageresize, cv2.COLOR_BGR2GRAY)\n",
        "              frames.append(grayimage)\n",
        "        frames = numpy.asarray(frames)\n",
        "        videoarray = numpy.rollaxis(numpy.rollaxis(frames, 2, 0), 2, 0)\n",
        "        training_list.append(videoarray)"
      ],
      "metadata": {
        "id": "lS3tn6sJ2xUb"
      },
      "execution_count": null,
      "outputs": []
    },
    {
      "cell_type": "code",
      "source": [
        "subDirectory = os.listdir(subjectPath)\n",
        "for sub in subDirectory:\n",
        "  positivepath = 'Temp/HS/'+ sub +'/micro/positive/'\n",
        "  directorylisting = os.listdir(positivepath)\n",
        "  for video in directorylisting:\n",
        "      videopath = positivepath + video\n",
        "      frames = []\n",
        "      framelisting = os.listdir(videopath)\n",
        "      if len(framelisting) > 18:\n",
        "        framerange = [x for x in range(18)]\n",
        "        for frame in framerange:\n",
        "              imagepath = videopath + \"/\" + framelisting[frame]\n",
        "              image = cv2.imread(imagepath)\n",
        "              imageresize = cv2.resize(image, (image_rows, image_columns), interpolation = cv2.INTER_AREA)\n",
        "              grayimage = cv2.cvtColor(imageresize, cv2.COLOR_BGR2GRAY)\n",
        "              frames.append(grayimage)\n",
        "        frames = numpy.asarray(frames)\n",
        "        videoarray = numpy.rollaxis(numpy.rollaxis(frames, 2, 0), 2, 0)\n",
        "        training_list.append(videoarray)"
      ],
      "metadata": {
        "id": "wdR6v69A1LCO"
      },
      "execution_count": null,
      "outputs": []
    },
    {
      "cell_type": "code",
      "source": [
        "subDirectory = os.listdir(subjectPath)\n",
        "for sub in subDirectory:\n",
        "  surprisepath = 'Temp/HS/'+ sub +'/micro/surprise/'\n",
        "  directorylisting = os.listdir(surprisepath)\n",
        "  for video in directorylisting:\n",
        "      videopath = surprisepath + video\n",
        "      frames = []\n",
        "      framelisting = os.listdir(videopath)\n",
        "      if len(framelisting) > 18:\n",
        "        framerange = [x for x in range(18)]\n",
        "        for frame in framerange:\n",
        "              imagepath = videopath + \"/\" + framelisting[frame]\n",
        "              image = cv2.imread(imagepath)\n",
        "              imageresize = cv2.resize(image, (image_rows, image_columns), interpolation = cv2.INTER_AREA)\n",
        "              grayimage = cv2.cvtColor(imageresize, cv2.COLOR_BGR2GRAY)\n",
        "              frames.append(grayimage)\n",
        "        frames = numpy.asarray(frames)\n",
        "        videoarray = numpy.rollaxis(numpy.rollaxis(frames, 2, 0), 2, 0)\n",
        "        training_list.append(videoarray)"
      ],
      "metadata": {
        "id": "Y3LE8mDb33yI"
      },
      "execution_count": null,
      "outputs": []
    },
    {
      "cell_type": "markdown",
      "source": [
        "# Pre-Process"
      ],
      "metadata": {
        "id": "EpLh0tjqDH5k"
      }
    },
    {
      "cell_type": "code",
      "source": [
        "image_rows, image_columns, image_depth = 64, 64, 18\n",
        "training_list = []\n",
        "subjectPath = 'Temp/HS/'"
      ],
      "metadata": {
        "id": "HtWZSv8g1Di1"
      },
      "execution_count": null,
      "outputs": []
    },
    {
      "cell_type": "markdown",
      "source": [
        "## Read Data"
      ],
      "metadata": {
        "id": "TKMc-L4KDdZ-"
      }
    },
    {
      "cell_type": "code",
      "source": [
        "for lab in ['negative', 'positive', 'surprise']:\n",
        "  subDirectory = os.listdir(subjectPath)\n",
        "  for sub in subDirectory:\n",
        "    labelpath = 'Temp/HS/'+ sub +'/micro/' + lab + '/'\n",
        "    directorylisting = os.listdir(labelpath)\n",
        "    for video in directorylisting:\n",
        "        videopath = labelpath + video\n",
        "        frames = []\n",
        "        framelisting = os.listdir(videopath)\n",
        "        if len(framelisting) > 18:\n",
        "          framerange = [x for x in range(18)]\n",
        "          for frame in framerange:\n",
        "                imagepath = videopath + \"/\" + framelisting[frame]\n",
        "                image = cv2.imread(imagepath)\n",
        "                imageresize = cv2.resize(image, (image_rows, image_columns), interpolation = cv2.INTER_AREA)\n",
        "                grayimage = cv2.cvtColor(imageresize, cv2.COLOR_BGR2GRAY)\n",
        "                frames.append(grayimage)\n",
        "          frames = numpy.asarray(frames)\n",
        "          videoarray = numpy.rollaxis(numpy.rollaxis(frames, 2, 0), 2, 0)\n",
        "          training_list.append(videoarray)"
      ],
      "metadata": {
        "id": "DLwh2lQHCd3E"
      },
      "execution_count": null,
      "outputs": []
    },
    {
      "cell_type": "markdown",
      "source": [
        "## Process Data into numpy arrays"
      ],
      "metadata": {
        "id": "FbXIciUADgBx"
      }
    },
    {
      "cell_type": "code",
      "source": [
        "training_list = numpy.asarray(training_list)\n",
        "trainingsamples = len(training_list)\n",
        "traininglabels = numpy.zeros((trainingsamples, ), dtype = int)\n",
        "\n",
        "# Assign Labels\n",
        "traininglabels[0:66] = 0\n",
        "traininglabels[66:116] = 1\n",
        "traininglabels[113:159] = 2\n",
        "\n",
        "# Softmax\n",
        "traininglabels = np_utils.to_categorical(traininglabels, 3)"
      ],
      "metadata": {
        "id": "Q_3T1Y2z-g5o"
      },
      "execution_count": null,
      "outputs": []
    },
    {
      "cell_type": "code",
      "source": [
        "training_data = [training_list, traininglabels]\n",
        "(trainingframes, traininglabels) = (training_data[0], training_data[1])\n",
        "training_set = numpy.zeros((trainingsamples, 1, image_rows, image_columns, image_depth))\n",
        "\n",
        "for h in range(trainingsamples):\n",
        "    training_set[h][0][:][:][:] = trainingframes[h, :, :, :]\n",
        "\n",
        "training_set = training_set.astype('float32')\n",
        "training_set -= numpy.mean(training_set)\n",
        "training_set /= numpy.max(training_set)"
      ],
      "metadata": {
        "id": "OGEpZ0Zs-uJK"
      },
      "execution_count": null,
      "outputs": []
    },
    {
      "cell_type": "code",
      "source": [
        "# Save training images and labels in a numpy array\n",
        "numpy.save('numpy_training_datasets/microexpstcnn_images.npy', training_set)\n",
        "numpy.save('numpy_training_datasets/microexpstcnn_labels.npy', traininglabels)"
      ],
      "metadata": {
        "id": "VqQ3JXa7FgUi"
      },
      "execution_count": null,
      "outputs": []
    },
    {
      "cell_type": "code",
      "source": [
        "#Load the saved numpy data\n",
        "training_set = numpy.load('numpy_training_datasets/microexpstcnn_images.npy')\n",
        "traininglabels =numpy.load('numpy_training_datasets/microexpstcnn_labels.npy')"
      ],
      "metadata": {
        "id": "UeZgn1XaF6gr"
      },
      "execution_count": null,
      "outputs": []
    },
    {
      "cell_type": "code",
      "source": [
        "# MicroExpSTCNN Model\n",
        "model = Sequential()\n",
        "model.add(Convolution3D(32, (3, 3, 15), input_shape=(1, image_rows, image_columns, image_depth), activation='relu'))\n",
        "model.add(MaxPooling3D(pool_size=(3, 3, 3)))\n",
        "model.add(Dropout(0.5))\n",
        "model.add(Flatten())\n",
        "model.add(Dense(128, kernel_initializer='normal', activation='relu'))\n",
        "model.add(Dropout(0.5))\n",
        "model.add(Dense(3, kernel_initializer='normal'))\n",
        "model.add(Activation('softmax'))\n",
        "model.compile(loss = 'categorical_crossentropy', optimizer = 'SGD', metrics = ['accuracy'])"
      ],
      "metadata": {
        "id": "ynyfx1mLGAyM"
      },
      "execution_count": null,
      "outputs": []
    },
    {
      "cell_type": "code",
      "source": [
        "model.summary()"
      ],
      "metadata": {
        "colab": {
          "base_uri": "https://localhost:8080/"
        },
        "id": "sgJtVpfqHLrD",
        "outputId": "71b1c65c-3d9c-4357-c32b-ca1b6e57a227"
      },
      "execution_count": null,
      "outputs": [
        {
          "output_type": "stream",
          "name": "stdout",
          "text": [
            "Model: \"sequential_4\"\n",
            "_________________________________________________________________\n",
            " Layer (type)                Output Shape              Param #   \n",
            "=================================================================\n",
            " conv3d_4 (Conv3D)           (None, 32, 62, 62, 4)     4352      \n",
            "                                                                 \n",
            " max_pooling3d_4 (MaxPooling  (None, 32, 20, 20, 1)    0         \n",
            " 3D)                                                             \n",
            "                                                                 \n",
            " dropout_8 (Dropout)         (None, 32, 20, 20, 1)     0         \n",
            "                                                                 \n",
            " flatten_4 (Flatten)         (None, 12800)             0         \n",
            "                                                                 \n",
            " dense_8 (Dense)             (None, 128)               1638528   \n",
            "                                                                 \n",
            " dropout_9 (Dropout)         (None, 128)               0         \n",
            "                                                                 \n",
            " dense_9 (Dense)             (None, 3)                 387       \n",
            "                                                                 \n",
            " activation_4 (Activation)   (None, 3)                 0         \n",
            "                                                                 \n",
            "=================================================================\n",
            "Total params: 1,643,267\n",
            "Trainable params: 1,643,267\n",
            "Non-trainable params: 0\n",
            "_________________________________________________________________\n"
          ]
        }
      ]
    },
    {
      "cell_type": "code",
      "source": [
        "# Spliting the dataset into training and validation sets\n",
        "train_images, validation_images, train_labels, validation_labels =  train_test_split(training_set, traininglabels, test_size=0.2, random_state=4)"
      ],
      "metadata": {
        "id": "wgw00Q-NHvfH"
      },
      "execution_count": null,
      "outputs": []
    },
    {
      "cell_type": "code",
      "source": [
        "numpy.save('numpy_validation_dataset/microexpstcnn_val_images.npy', validation_images)\n",
        "numpy.save('numpy_validation_dataset/microexpstcnn_val_labels.npy', validation_labels)"
      ],
      "metadata": {
        "id": "W5cXaBudHwIY"
      },
      "execution_count": null,
      "outputs": []
    },
    {
      "cell_type": "code",
      "source": [
        "validation_images = numpy.load('numpy_validation_dataset/microexpstcnn_val_images.npy')\n",
        "validation_labels = numpy.load('numpy_validation_dataset/microexpstcnn_val_labels.npy')"
      ],
      "metadata": {
        "id": "6wxBj-99HwfM"
      },
      "execution_count": null,
      "outputs": []
    },
    {
      "cell_type": "code",
      "source": [
        "hist = model.fit(train_images, train_labels, validation_data = (validation_images, validation_labels), batch_size = 8, epochs = 100, shuffle=True)\n"
      ],
      "metadata": {
        "colab": {
          "base_uri": "https://localhost:8080/"
        },
        "id": "Jr0wBJsJID4f",
        "outputId": "c8fc5f7b-6100-4705-ffc4-f2741b569cce"
      },
      "execution_count": null,
      "outputs": [
        {
          "output_type": "stream",
          "name": "stdout",
          "text": [
            "Epoch 1/100\n",
            "16/16 [==============================] - 1s 19ms/step - loss: 1.1075 - accuracy: 0.3622 - val_loss: 1.0967 - val_accuracy: 0.3750\n",
            "Epoch 2/100\n",
            "16/16 [==============================] - 0s 8ms/step - loss: 1.1075 - accuracy: 0.3701 - val_loss: 1.0503 - val_accuracy: 0.4688\n",
            "Epoch 3/100\n",
            "16/16 [==============================] - 0s 8ms/step - loss: 1.0944 - accuracy: 0.3465 - val_loss: 1.0488 - val_accuracy: 0.5312\n",
            "Epoch 4/100\n",
            "16/16 [==============================] - 0s 8ms/step - loss: 1.0638 - accuracy: 0.4409 - val_loss: 1.0562 - val_accuracy: 0.4688\n",
            "Epoch 5/100\n",
            "16/16 [==============================] - 0s 8ms/step - loss: 1.0747 - accuracy: 0.4409 - val_loss: 0.9982 - val_accuracy: 0.6562\n",
            "Epoch 6/100\n",
            "16/16 [==============================] - 0s 8ms/step - loss: 1.1015 - accuracy: 0.3937 - val_loss: 1.0202 - val_accuracy: 0.5625\n",
            "Epoch 7/100\n",
            "16/16 [==============================] - 0s 8ms/step - loss: 1.0700 - accuracy: 0.4252 - val_loss: 1.0479 - val_accuracy: 0.4375\n",
            "Epoch 8/100\n",
            "16/16 [==============================] - 0s 8ms/step - loss: 1.0901 - accuracy: 0.3622 - val_loss: 1.0693 - val_accuracy: 0.4688\n",
            "Epoch 9/100\n",
            "16/16 [==============================] - 0s 8ms/step - loss: 1.0743 - accuracy: 0.4173 - val_loss: 1.0549 - val_accuracy: 0.4688\n",
            "Epoch 10/100\n",
            "16/16 [==============================] - 0s 8ms/step - loss: 1.0738 - accuracy: 0.3858 - val_loss: 1.0508 - val_accuracy: 0.4375\n",
            "Epoch 11/100\n",
            "16/16 [==============================] - 0s 8ms/step - loss: 1.0705 - accuracy: 0.4646 - val_loss: 1.0298 - val_accuracy: 0.4688\n",
            "Epoch 12/100\n",
            "16/16 [==============================] - 0s 8ms/step - loss: 1.0304 - accuracy: 0.4961 - val_loss: 1.0290 - val_accuracy: 0.5000\n",
            "Epoch 13/100\n",
            "16/16 [==============================] - 0s 8ms/step - loss: 1.0304 - accuracy: 0.4803 - val_loss: 1.0303 - val_accuracy: 0.4688\n",
            "Epoch 14/100\n",
            "16/16 [==============================] - 0s 8ms/step - loss: 1.0496 - accuracy: 0.4252 - val_loss: 1.0224 - val_accuracy: 0.4688\n",
            "Epoch 15/100\n",
            "16/16 [==============================] - 0s 8ms/step - loss: 1.0615 - accuracy: 0.4803 - val_loss: 1.0612 - val_accuracy: 0.4062\n",
            "Epoch 16/100\n",
            "16/16 [==============================] - 0s 8ms/step - loss: 1.0651 - accuracy: 0.4646 - val_loss: 1.0884 - val_accuracy: 0.3750\n",
            "Epoch 17/100\n",
            "16/16 [==============================] - 0s 8ms/step - loss: 1.0618 - accuracy: 0.4252 - val_loss: 1.0518 - val_accuracy: 0.4375\n",
            "Epoch 18/100\n",
            "16/16 [==============================] - 0s 8ms/step - loss: 1.0476 - accuracy: 0.4882 - val_loss: 1.0395 - val_accuracy: 0.4688\n",
            "Epoch 19/100\n",
            "16/16 [==============================] - 0s 8ms/step - loss: 1.0532 - accuracy: 0.4488 - val_loss: 1.0320 - val_accuracy: 0.4375\n",
            "Epoch 20/100\n",
            "16/16 [==============================] - 0s 8ms/step - loss: 1.0593 - accuracy: 0.4646 - val_loss: 1.0720 - val_accuracy: 0.3750\n",
            "Epoch 21/100\n",
            "16/16 [==============================] - 0s 8ms/step - loss: 1.0437 - accuracy: 0.4724 - val_loss: 1.0574 - val_accuracy: 0.4062\n",
            "Epoch 22/100\n",
            "16/16 [==============================] - 0s 8ms/step - loss: 0.9896 - accuracy: 0.5591 - val_loss: 1.0196 - val_accuracy: 0.4688\n",
            "Epoch 23/100\n",
            "16/16 [==============================] - 0s 8ms/step - loss: 1.0361 - accuracy: 0.4567 - val_loss: 1.0150 - val_accuracy: 0.5312\n",
            "Epoch 24/100\n",
            "16/16 [==============================] - 0s 8ms/step - loss: 1.0094 - accuracy: 0.5354 - val_loss: 1.0382 - val_accuracy: 0.5312\n",
            "Epoch 25/100\n",
            "16/16 [==============================] - 0s 8ms/step - loss: 1.0249 - accuracy: 0.4646 - val_loss: 1.0171 - val_accuracy: 0.5312\n",
            "Epoch 26/100\n",
            "16/16 [==============================] - 0s 8ms/step - loss: 1.0246 - accuracy: 0.4646 - val_loss: 1.0602 - val_accuracy: 0.4375\n",
            "Epoch 27/100\n",
            "16/16 [==============================] - 0s 8ms/step - loss: 0.9811 - accuracy: 0.5433 - val_loss: 1.0428 - val_accuracy: 0.4688\n",
            "Epoch 28/100\n",
            "16/16 [==============================] - 0s 8ms/step - loss: 1.0582 - accuracy: 0.4488 - val_loss: 0.9827 - val_accuracy: 0.4688\n",
            "Epoch 29/100\n",
            "16/16 [==============================] - 0s 8ms/step - loss: 0.9989 - accuracy: 0.5433 - val_loss: 1.0360 - val_accuracy: 0.4688\n",
            "Epoch 30/100\n",
            "16/16 [==============================] - 0s 8ms/step - loss: 0.9863 - accuracy: 0.5118 - val_loss: 0.9793 - val_accuracy: 0.5000\n",
            "Epoch 31/100\n",
            "16/16 [==============================] - 0s 8ms/step - loss: 0.9783 - accuracy: 0.5354 - val_loss: 1.0455 - val_accuracy: 0.4688\n",
            "Epoch 32/100\n",
            "16/16 [==============================] - 0s 8ms/step - loss: 0.9942 - accuracy: 0.4646 - val_loss: 1.0112 - val_accuracy: 0.4375\n",
            "Epoch 33/100\n",
            "16/16 [==============================] - 0s 8ms/step - loss: 0.9472 - accuracy: 0.5669 - val_loss: 1.0544 - val_accuracy: 0.4062\n",
            "Epoch 34/100\n",
            "16/16 [==============================] - 0s 8ms/step - loss: 0.9966 - accuracy: 0.5276 - val_loss: 1.1190 - val_accuracy: 0.3750\n",
            "Epoch 35/100\n",
            "16/16 [==============================] - 0s 8ms/step - loss: 0.9741 - accuracy: 0.5118 - val_loss: 0.9575 - val_accuracy: 0.5000\n",
            "Epoch 36/100\n",
            "16/16 [==============================] - 0s 8ms/step - loss: 1.0557 - accuracy: 0.4567 - val_loss: 0.9598 - val_accuracy: 0.4688\n",
            "Epoch 37/100\n",
            "16/16 [==============================] - 0s 8ms/step - loss: 0.9465 - accuracy: 0.5354 - val_loss: 1.0470 - val_accuracy: 0.4375\n",
            "Epoch 38/100\n",
            "16/16 [==============================] - 0s 8ms/step - loss: 0.9853 - accuracy: 0.5118 - val_loss: 0.9776 - val_accuracy: 0.5312\n",
            "Epoch 39/100\n",
            "16/16 [==============================] - 0s 8ms/step - loss: 0.9684 - accuracy: 0.5433 - val_loss: 0.9888 - val_accuracy: 0.4688\n",
            "Epoch 40/100\n",
            "16/16 [==============================] - 0s 8ms/step - loss: 0.9567 - accuracy: 0.4882 - val_loss: 0.9699 - val_accuracy: 0.5312\n",
            "Epoch 41/100\n",
            "16/16 [==============================] - 0s 8ms/step - loss: 0.9570 - accuracy: 0.5669 - val_loss: 0.9964 - val_accuracy: 0.4688\n",
            "Epoch 42/100\n",
            "16/16 [==============================] - 0s 8ms/step - loss: 0.9574 - accuracy: 0.5276 - val_loss: 1.0580 - val_accuracy: 0.4375\n",
            "Epoch 43/100\n",
            "16/16 [==============================] - 0s 8ms/step - loss: 0.9168 - accuracy: 0.4961 - val_loss: 1.0772 - val_accuracy: 0.4375\n",
            "Epoch 44/100\n",
            "16/16 [==============================] - 0s 8ms/step - loss: 0.9812 - accuracy: 0.5118 - val_loss: 1.0442 - val_accuracy: 0.4375\n",
            "Epoch 45/100\n",
            "16/16 [==============================] - 0s 8ms/step - loss: 0.8953 - accuracy: 0.5591 - val_loss: 1.0982 - val_accuracy: 0.4062\n",
            "Epoch 46/100\n",
            "16/16 [==============================] - 0s 8ms/step - loss: 0.9213 - accuracy: 0.5039 - val_loss: 1.0743 - val_accuracy: 0.4062\n",
            "Epoch 47/100\n",
            "16/16 [==============================] - 0s 8ms/step - loss: 0.9209 - accuracy: 0.5512 - val_loss: 1.1081 - val_accuracy: 0.3750\n",
            "Epoch 48/100\n",
            "16/16 [==============================] - 0s 8ms/step - loss: 0.9173 - accuracy: 0.5748 - val_loss: 1.0005 - val_accuracy: 0.4375\n",
            "Epoch 49/100\n",
            "16/16 [==============================] - 0s 8ms/step - loss: 0.9870 - accuracy: 0.5354 - val_loss: 1.0495 - val_accuracy: 0.4062\n",
            "Epoch 50/100\n",
            "16/16 [==============================] - 0s 8ms/step - loss: 0.9253 - accuracy: 0.5827 - val_loss: 0.9597 - val_accuracy: 0.5625\n",
            "Epoch 51/100\n",
            "16/16 [==============================] - 0s 8ms/step - loss: 0.8958 - accuracy: 0.5433 - val_loss: 1.0491 - val_accuracy: 0.4062\n",
            "Epoch 52/100\n",
            "16/16 [==============================] - 0s 8ms/step - loss: 0.8976 - accuracy: 0.6142 - val_loss: 1.0252 - val_accuracy: 0.4375\n",
            "Epoch 53/100\n",
            "16/16 [==============================] - 0s 8ms/step - loss: 0.8592 - accuracy: 0.6220 - val_loss: 0.9680 - val_accuracy: 0.5000\n",
            "Epoch 54/100\n",
            "16/16 [==============================] - 0s 8ms/step - loss: 0.8908 - accuracy: 0.5906 - val_loss: 1.1278 - val_accuracy: 0.3750\n",
            "Epoch 55/100\n",
            "16/16 [==============================] - 0s 8ms/step - loss: 0.9558 - accuracy: 0.5197 - val_loss: 1.0152 - val_accuracy: 0.4375\n",
            "Epoch 56/100\n",
            "16/16 [==============================] - 0s 8ms/step - loss: 0.9317 - accuracy: 0.5512 - val_loss: 0.9997 - val_accuracy: 0.4375\n",
            "Epoch 57/100\n",
            "16/16 [==============================] - 0s 8ms/step - loss: 0.9052 - accuracy: 0.5748 - val_loss: 0.9919 - val_accuracy: 0.4688\n",
            "Epoch 58/100\n",
            "16/16 [==============================] - 0s 8ms/step - loss: 0.8902 - accuracy: 0.6457 - val_loss: 1.0243 - val_accuracy: 0.4375\n",
            "Epoch 59/100\n",
            "16/16 [==============================] - 0s 8ms/step - loss: 0.9148 - accuracy: 0.5433 - val_loss: 0.9606 - val_accuracy: 0.5312\n",
            "Epoch 60/100\n",
            "16/16 [==============================] - 0s 8ms/step - loss: 0.9510 - accuracy: 0.5197 - val_loss: 1.0095 - val_accuracy: 0.5000\n",
            "Epoch 61/100\n",
            "16/16 [==============================] - 0s 8ms/step - loss: 0.8906 - accuracy: 0.5669 - val_loss: 1.0404 - val_accuracy: 0.4062\n",
            "Epoch 62/100\n",
            "16/16 [==============================] - 0s 8ms/step - loss: 0.9365 - accuracy: 0.5669 - val_loss: 1.0200 - val_accuracy: 0.4375\n",
            "Epoch 63/100\n",
            "16/16 [==============================] - 0s 8ms/step - loss: 0.8834 - accuracy: 0.5669 - val_loss: 0.9962 - val_accuracy: 0.5000\n",
            "Epoch 64/100\n",
            "16/16 [==============================] - 0s 8ms/step - loss: 0.9295 - accuracy: 0.5827 - val_loss: 0.9849 - val_accuracy: 0.5000\n",
            "Epoch 65/100\n",
            "16/16 [==============================] - 0s 8ms/step - loss: 0.8495 - accuracy: 0.6142 - val_loss: 1.0322 - val_accuracy: 0.5000\n",
            "Epoch 66/100\n",
            "16/16 [==============================] - 0s 8ms/step - loss: 0.8563 - accuracy: 0.5433 - val_loss: 1.0702 - val_accuracy: 0.4375\n",
            "Epoch 67/100\n",
            "16/16 [==============================] - 0s 8ms/step - loss: 0.9083 - accuracy: 0.5906 - val_loss: 1.0676 - val_accuracy: 0.4375\n",
            "Epoch 68/100\n",
            "16/16 [==============================] - 0s 8ms/step - loss: 0.8236 - accuracy: 0.6299 - val_loss: 0.9239 - val_accuracy: 0.5938\n",
            "Epoch 69/100\n",
            "16/16 [==============================] - 0s 8ms/step - loss: 0.8270 - accuracy: 0.6220 - val_loss: 0.9717 - val_accuracy: 0.5312\n",
            "Epoch 70/100\n",
            "16/16 [==============================] - 0s 8ms/step - loss: 0.9056 - accuracy: 0.5748 - val_loss: 1.0195 - val_accuracy: 0.4688\n",
            "Epoch 71/100\n",
            "16/16 [==============================] - 0s 8ms/step - loss: 0.7953 - accuracy: 0.6378 - val_loss: 1.0794 - val_accuracy: 0.4375\n",
            "Epoch 72/100\n",
            "16/16 [==============================] - 0s 8ms/step - loss: 0.8221 - accuracy: 0.6142 - val_loss: 1.0828 - val_accuracy: 0.4375\n",
            "Epoch 73/100\n",
            "16/16 [==============================] - 0s 8ms/step - loss: 0.8819 - accuracy: 0.5984 - val_loss: 1.0084 - val_accuracy: 0.4688\n",
            "Epoch 74/100\n",
            "16/16 [==============================] - 0s 8ms/step - loss: 0.8540 - accuracy: 0.6063 - val_loss: 1.0106 - val_accuracy: 0.4688\n",
            "Epoch 75/100\n",
            "16/16 [==============================] - 0s 8ms/step - loss: 0.8766 - accuracy: 0.5591 - val_loss: 1.0910 - val_accuracy: 0.4062\n",
            "Epoch 76/100\n",
            "16/16 [==============================] - 0s 8ms/step - loss: 0.8641 - accuracy: 0.5906 - val_loss: 1.1178 - val_accuracy: 0.4062\n",
            "Epoch 77/100\n",
            "16/16 [==============================] - 0s 8ms/step - loss: 0.8610 - accuracy: 0.5984 - val_loss: 1.0223 - val_accuracy: 0.4688\n",
            "Epoch 78/100\n",
            "16/16 [==============================] - 0s 8ms/step - loss: 0.8513 - accuracy: 0.6378 - val_loss: 0.9904 - val_accuracy: 0.5000\n",
            "Epoch 79/100\n",
            "16/16 [==============================] - 0s 8ms/step - loss: 0.8631 - accuracy: 0.5827 - val_loss: 0.9899 - val_accuracy: 0.5000\n",
            "Epoch 80/100\n",
            "16/16 [==============================] - 0s 8ms/step - loss: 0.8844 - accuracy: 0.5512 - val_loss: 1.0236 - val_accuracy: 0.4688\n",
            "Epoch 81/100\n",
            "16/16 [==============================] - 0s 8ms/step - loss: 0.8594 - accuracy: 0.6142 - val_loss: 0.9368 - val_accuracy: 0.5938\n",
            "Epoch 82/100\n",
            "16/16 [==============================] - 0s 8ms/step - loss: 0.7820 - accuracy: 0.6299 - val_loss: 0.9145 - val_accuracy: 0.6562\n",
            "Epoch 83/100\n",
            "16/16 [==============================] - 0s 8ms/step - loss: 0.7799 - accuracy: 0.6693 - val_loss: 0.9659 - val_accuracy: 0.5312\n",
            "Epoch 84/100\n",
            "16/16 [==============================] - 0s 8ms/step - loss: 0.8465 - accuracy: 0.6378 - val_loss: 1.0181 - val_accuracy: 0.4375\n",
            "Epoch 85/100\n",
            "16/16 [==============================] - 0s 8ms/step - loss: 0.8335 - accuracy: 0.5748 - val_loss: 1.0490 - val_accuracy: 0.4688\n",
            "Epoch 86/100\n",
            "16/16 [==============================] - 0s 8ms/step - loss: 0.7721 - accuracy: 0.6457 - val_loss: 0.9595 - val_accuracy: 0.5312\n",
            "Epoch 87/100\n",
            "16/16 [==============================] - 0s 8ms/step - loss: 0.7298 - accuracy: 0.6772 - val_loss: 1.0518 - val_accuracy: 0.4688\n",
            "Epoch 88/100\n",
            "16/16 [==============================] - 0s 8ms/step - loss: 0.8154 - accuracy: 0.6142 - val_loss: 0.9562 - val_accuracy: 0.5625\n",
            "Epoch 89/100\n",
            "16/16 [==============================] - 0s 8ms/step - loss: 0.8168 - accuracy: 0.6457 - val_loss: 1.0194 - val_accuracy: 0.5000\n",
            "Epoch 90/100\n",
            "16/16 [==============================] - 0s 8ms/step - loss: 0.8200 - accuracy: 0.5984 - val_loss: 1.0337 - val_accuracy: 0.4062\n",
            "Epoch 91/100\n",
            "16/16 [==============================] - 0s 8ms/step - loss: 0.7717 - accuracy: 0.6378 - val_loss: 0.9713 - val_accuracy: 0.5312\n",
            "Epoch 92/100\n",
            "16/16 [==============================] - 0s 8ms/step - loss: 0.8173 - accuracy: 0.5827 - val_loss: 1.0221 - val_accuracy: 0.5625\n",
            "Epoch 93/100\n",
            "16/16 [==============================] - 0s 8ms/step - loss: 0.7974 - accuracy: 0.6220 - val_loss: 1.1020 - val_accuracy: 0.4375\n",
            "Epoch 94/100\n",
            "16/16 [==============================] - 0s 8ms/step - loss: 0.7864 - accuracy: 0.6772 - val_loss: 1.1758 - val_accuracy: 0.4062\n",
            "Epoch 95/100\n",
            "16/16 [==============================] - 0s 8ms/step - loss: 0.8016 - accuracy: 0.6220 - val_loss: 1.0105 - val_accuracy: 0.4688\n",
            "Epoch 96/100\n",
            "16/16 [==============================] - 0s 8ms/step - loss: 0.7911 - accuracy: 0.6063 - val_loss: 0.9870 - val_accuracy: 0.5625\n",
            "Epoch 97/100\n",
            "16/16 [==============================] - 0s 8ms/step - loss: 0.7487 - accuracy: 0.6614 - val_loss: 0.9908 - val_accuracy: 0.5625\n",
            "Epoch 98/100\n",
            "16/16 [==============================] - 0s 8ms/step - loss: 0.7553 - accuracy: 0.5984 - val_loss: 1.0275 - val_accuracy: 0.5000\n",
            "Epoch 99/100\n",
            "16/16 [==============================] - 0s 8ms/step - loss: 0.7231 - accuracy: 0.7008 - val_loss: 1.0275 - val_accuracy: 0.5312\n",
            "Epoch 100/100\n",
            "16/16 [==============================] - 0s 8ms/step - loss: 0.8044 - accuracy: 0.6535 - val_loss: 1.0028 - val_accuracy: 0.5000\n"
          ]
        }
      ]
    },
    {
      "cell_type": "code",
      "source": [
        "predictions = model.predict(validation_images)\n",
        "predictions_labels = numpy.argmax(predictions, axis=1)\n",
        "validation_labels = numpy.argmax(validation_labels, axis=1)\n",
        "cfm = confusion_matrix(validation_labels, predictions_labels)\n",
        "print (cfm)"
      ],
      "metadata": {
        "colab": {
          "base_uri": "https://localhost:8080/"
        },
        "id": "ryAwApUdOyHp",
        "outputId": "3abc4384-ae27-4334-d9f4-87480974f58e"
      },
      "execution_count": null,
      "outputs": [
        {
          "output_type": "stream",
          "name": "stdout",
          "text": [
            "[[13  4  4]\n",
            " [ 1  1  1]\n",
            " [ 3  3  2]]\n"
          ]
        }
      ]
    }
  ]
}