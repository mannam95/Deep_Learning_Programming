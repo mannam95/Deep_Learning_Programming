{
  "nbformat": 4,
  "nbformat_minor": 0,
  "metadata": {
    "colab": {
      "name": "IDL_ASSIGNMENT_10_Govind.ipynb",
      "provenance": [],
      "collapsed_sections": [],
      "mount_file_id": "1m4WFU9duR71l_EPMPRJKfMnCSIcrzSu8",
      "authorship_tag": "ABX9TyPpbqMBiVGsFPgv+Z1MsxIn",
      "include_colab_link": true
    },
    "kernelspec": {
      "name": "python3",
      "display_name": "Python 3"
    },
    "language_info": {
      "name": "python"
    },
    "accelerator": "GPU"
  },
  "cells": [
    {
      "cell_type": "markdown",
      "metadata": {
        "id": "view-in-github",
        "colab_type": "text"
      },
      "source": [
        "<a href=\"https://colab.research.google.com/github/mannam95/Deep_Learning_Programming/blob/main/Assignment10/IDL_ASSIGNMENT_10_Govind.ipynb\" target=\"_parent\"><img src=\"https://colab.research.google.com/assets/colab-badge.svg\" alt=\"Open In Colab\"/></a>"
      ]
    },
    {
      "cell_type": "markdown",
      "source": [
        "#Team\n",
        "\n",
        "\n",
        "1.   Govind Shukla (235192)\n",
        "2.   Meghana Rao (234907)\n",
        "3.   Srinath Mannam (229750)"
      ],
      "metadata": {
        "id": "gM0FK9tqz7S9"
      }
    },
    {
      "cell_type": "code",
      "execution_count": 1,
      "metadata": {
        "id": "qYnj9FbQgE4p"
      },
      "outputs": [],
      "source": [
        "import os\n",
        "os.chdir(\"/content/drive/MyDrive/IDL_Lecture\")"
      ]
    },
    {
      "cell_type": "markdown",
      "source": [
        "#Imports"
      ],
      "metadata": {
        "id": "GdUoVeGU0k5w"
      }
    },
    {
      "cell_type": "code",
      "source": [
        "import numpy as np\n",
        "import pandas as pd\n",
        "import os\n",
        "import matplotlib.pyplot as plt\n",
        "import seaborn as sns \n",
        "from PIL import Image\n",
        "\n",
        "from tensorflow import keras\n",
        "from sklearn.model_selection import train_test_split\n",
        "from sklearn.metrics import confusion_matrix, accuracy_score\n",
        "import tensorflow as tf"
      ],
      "metadata": {
        "id": "BpAQ47dT0c_A"
      },
      "execution_count": 2,
      "outputs": []
    },
    {
      "cell_type": "markdown",
      "source": [
        "#Helper Functions"
      ],
      "metadata": {
        "id": "y8bdGRRpjgTj"
      }
    },
    {
      "cell_type": "code",
      "source": [
        "# build model\n",
        "tfkl = tf.keras.layers\n",
        "\n",
        "\n",
        "regularization_factor = 0.00001\n",
        "\n",
        "\n",
        "def conv_bn_relu(inp, n_filters):\n",
        "    # use regularizers for weight penalties etc\n",
        "    # note that the factor needs to be passed here already\n",
        "    conv = tfkl.Conv2D(n_filters, 3, padding=\"same\", use_bias=False, kernel_regularizer=tf.keras.regularizers.L2(regularization_factor))(inp)\n",
        "    # batchnorm is as simple as this.\n",
        "    # note: convolution has set use_bias=False since it's superfluous if followed\n",
        "    # by batchnorm directly\n",
        "    bn = tfkl.BatchNormalization()(conv)\n",
        "    # spatial dropout is probably a better choice for conv2d\n",
        "    # NOTE dropout & batch norm don't harmonize well, so probably better to\n",
        "    # choose one of the two\n",
        "    return tfkl.SpatialDropout2D(0.2)(tfkl.ReLU()(bn))\n",
        "\n",
        "inp = tf.keras.Input((32, 32, 3))\n",
        "\n",
        "# best way to do data augmentation: use keras layers\n",
        "flipped = tfkl.RandomFlip(mode=\"horizontal\")(inp)\n",
        "cropped = tfkl.RandomCrop(30, 30)(flipped)\n",
        "\n",
        "l1 = conv_bn_relu(cropped, 32)\n",
        "#l1b = conv_bn_relu(l1, 32)\n",
        "l1_p = tfkl.MaxPool2D(2, padding=\"same\")(l1)\n",
        "\n",
        "l2 = conv_bn_relu(l1_p, 64)\n",
        "#l2b = conv_bn_relu(l2, 64)\n",
        "l2_p = tfkl.MaxPool2D(2, padding=\"same\")(l2)\n",
        "\n",
        "l3 = conv_bn_relu(l2_p, 128)\n",
        "#l3b = conv_bn_relu(l3, 128)\n",
        "l3_p = tfkl.MaxPool2D(2, padding=\"same\")(l3)\n",
        "\n",
        "flat = tfkl.Flatten()(l3_p)"
      ],
      "metadata": {
        "id": "rYJ_hJmzohX1"
      },
      "execution_count": 56,
      "outputs": []
    },
    {
      "cell_type": "code",
      "source": [
        "@tf.function\n",
        "def train_step(images, labels):\n",
        "    with tf.GradientTape() as tape:\n",
        "        # very important to have training=True!!!\n",
        "        # in this model, this is relevant for dropout, batchnorm, augmentation\n",
        "        out = model(images, training=True)\n",
        "        cross_entropy = loss_fn(labels, out)\n",
        "\n",
        "        # we actually need to add the regularization here!\n",
        "        # using model.fit, this would be taken care off\n",
        "        l2_penalty = tf.add_n(model.losses)\n",
        "        loss = cross_entropy + l2_penalty\n",
        "\n",
        "    gradients = tape.gradient(loss, model.trainable_variables)\n",
        "    optimizer.apply_gradients(zip(gradients, model.trainable_variables))\n",
        "\n",
        "    return cross_entropy\n",
        "\n",
        "\n",
        "def get_test_accuracy():\n",
        "    accuracy_metric = tf.keras.metrics.SparseCategoricalAccuracy()\n",
        "    for images, labels in test_data:\n",
        "        # not training -> set to False. this is also the default if you don't pass it\n",
        "        accuracy_metric(labels, model(images, training=False))\n",
        "\n",
        "    return accuracy_metric.result().numpy()"
      ],
      "metadata": {
        "id": "el0t7ckXpJH9"
      },
      "execution_count": 57,
      "outputs": []
    },
    {
      "cell_type": "code",
      "source": [
        "# basic adversarial example setup\n",
        "# compute gradient of loss with respect to inputs\n",
        "def run_model(images, labels, training = False):\n",
        "    with tf.GradientTape() as tape:\n",
        "        tape.watch(images)\n",
        "        out = model(images, training)\n",
        "        cross_entropy = loss_fn(labels, out)\n",
        "    gradients = tape.gradient(cross_entropy, images)\n",
        "    return gradients, cross_entropy, out"
      ],
      "metadata": {
        "id": "wY0Q-_9G8fO4"
      },
      "execution_count": 58,
      "outputs": []
    },
    {
      "cell_type": "code",
      "source": [
        "def get_adversarial_test_accuracy():\n",
        "    accuracy_metric = tf.keras.metrics.SparseCategoricalAccuracy()\n",
        "    for images, labels in adversarial_images:\n",
        "        # not training -> set to False. this is also the default if you don't pass it\n",
        "        accuracy_metric(labels, model(images, training=False))\n",
        "\n",
        "    return accuracy_metric.result().numpy()"
      ],
      "metadata": {
        "id": "CmucjTFyi4kW"
      },
      "execution_count": 59,
      "outputs": []
    },
    {
      "cell_type": "code",
      "source": [
        "def display_images(image, description):\n",
        "  plt.figure()\n",
        "  plt.imshow(image[0]*0.5+0.5)\n",
        "  plt.title('Epsilon: {} \\n '.format(description))\n",
        "  plt.show()"
      ],
      "metadata": {
        "id": "VSZnYljtiOyw"
      },
      "execution_count": 60,
      "outputs": []
    },
    {
      "cell_type": "markdown",
      "source": [
        "# German Traffic Sign Recognition Dataset(GTSRB)"
      ],
      "metadata": {
        "id": "F7cuaUhnfTgA"
      }
    },
    {
      "cell_type": "markdown",
      "source": [
        "## Data loading"
      ],
      "metadata": {
        "id": "zLK0YDB85PYX"
      }
    },
    {
      "cell_type": "code",
      "source": [
        "data = np.load('GTSRB_train_data.npy')\n",
        "labels = np.load('GTSRB_train_labels.npy')"
      ],
      "metadata": {
        "id": "GTRWgNY0oEfj"
      },
      "execution_count": 18,
      "outputs": []
    },
    {
      "cell_type": "code",
      "source": [
        "fig, (ax1, ax2, ax3, ax4, ax5, ax6, ax7, ax8, ax9) = plt.subplots(1, 9, )\n",
        "ax1.imshow(data[1])\n",
        "ax2.imshow(data[3000])\n",
        "ax3.imshow(data[7001])\n",
        "ax4.imshow(data[11000])\n",
        "ax5.imshow(data[15000])\n",
        "ax6.imshow(data[19000])\n",
        "ax7.imshow(data[23000])\n",
        "ax8.imshow(data[27000])\n",
        "ax9.imshow(data[31000])"
      ],
      "metadata": {
        "colab": {
          "base_uri": "https://localhost:8080/",
          "height": 101
        },
        "id": "Cw42E1ETm1k2",
        "outputId": "f264f84a-af7d-4eb3-d4dc-e32d9883cf36"
      },
      "execution_count": 19,
      "outputs": [
        {
          "output_type": "execute_result",
          "data": {
            "text/plain": [
              "<matplotlib.image.AxesImage at 0x7fa0cb62ab90>"
            ]
          },
          "metadata": {},
          "execution_count": 19
        },
        {
          "output_type": "display_data",
          "data": {
            "image/png": "[encoded data removed]",
            "text/plain": [
              "<Figure size 432x288 with 9 Axes>"
            ]
          },
          "metadata": {
            "needs_background": "light"
          }
        }
      ]
    },
    {
      "cell_type": "code",
      "source": [
        "x = data.astype('float32')\n",
        "y = keras.utils.to_categorical(np.array(labels))\n",
        "\n",
        "x_train, x_test, y_train, y_test = train_test_split(x,y, test_size=0.2, shuffle=True,stratify=y)"
      ],
      "metadata": {
        "id": "bs7Iq4B3m7DI"
      },
      "execution_count": 44,
      "outputs": []
    },
    {
      "cell_type": "code",
      "source": [
        "x_train = x_train.reshape((-1, 32, 32, 3)).astype(np.float32) / 255.\n",
        "x_test = x_test.reshape((-1, 32, 32, 3)).astype(np.float32) / 255.\n",
        "y_train = y_train.astype(np.int32)[:,0]\n",
        "y_test = y_test.astype(np.int32)[:,0]"
      ],
      "metadata": {
        "id": "qd4TRxy9-IGb"
      },
      "execution_count": 45,
      "outputs": []
    },
    {
      "cell_type": "code",
      "source": [
        "print(x_train.shape, y_train.shape)\n",
        "print(x_test.shape, y_test.shape)"
      ],
      "metadata": {
        "colab": {
          "base_uri": "https://localhost:8080/"
        },
        "id": "vY3D9X-d9b5e",
        "outputId": "53d5accb-48cc-47d1-ed70-60d462da4f43"
      },
      "execution_count": 46,
      "outputs": [
        {
          "output_type": "stream",
          "name": "stdout",
          "text": [
            "(31367, 32, 32, 3) (31367,)\n",
            "(7842, 32, 32, 3) (7842,)\n"
          ]
        }
      ]
    },
    {
      "cell_type": "code",
      "source": [
        "train_data = tf.data.Dataset.from_tensor_slices((x_train, y_train))\n",
        "train_data = train_data.shuffle(40000).batch(256).repeat()\n",
        "\n",
        "test_data = tf.data.Dataset.from_tensor_slices((x_test, y_test)).batch(256)"
      ],
      "metadata": {
        "id": "o7RGigdZ8IkD"
      },
      "execution_count": 47,
      "outputs": []
    },
    {
      "cell_type": "markdown",
      "source": [
        "## Model building"
      ],
      "metadata": {
        "id": "-_JxQvr75KMB"
      }
    },
    {
      "cell_type": "code",
      "source": [
        "#Creating the logits\n",
        "\n",
        "logits = tfkl.Dense(43, kernel_regularizer=tf.keras.regularizers.L2(regularization_factor))(flat)\n",
        "\n",
        "model = tf.keras.Model(inp, logits)\n",
        "\n",
        "\n",
        "train_steps = 10000\n",
        "\n",
        "# example learning rate schedule\n",
        "schedule = tf.keras.optimizers.schedules.ExponentialDecay(0.001, 1, 0.9997)\n",
        "optimizer = tf.optimizers.Adam(schedule)\n",
        "\n",
        "loss_fn = tf.losses.SparseCategoricalCrossentropy(from_logits=True)"
      ],
      "metadata": {
        "id": "NaB2LWHIvK49"
      },
      "execution_count": 48,
      "outputs": []
    },
    {
      "cell_type": "markdown",
      "source": [
        "## Training on ordinary data"
      ],
      "metadata": {
        "id": "Hodtsjo_4fHD"
      }
    },
    {
      "cell_type": "code",
      "source": [
        "for step, (image_batch, label_batch) in enumerate(train_data):\n",
        "    if step > train_steps:\n",
        "        break\n",
        "\n",
        "    current_loss = train_step(image_batch, label_batch)\n",
        "\n",
        "    if not step % 500:\n",
        "        print(step, current_loss.numpy())\n",
        "        test_accuracy = get_test_accuracy()\n",
        "        print(\"Test acc\", test_accuracy)\n",
        "        print()"
      ],
      "metadata": {
        "id": "EhYZP4fspPbQ",
        "colab": {
          "base_uri": "https://localhost:8080/"
        },
        "outputId": "d949bfa9-51b1-466b-e87d-c47b7cc64634"
      },
      "execution_count": null,
      "outputs": [
        {
          "output_type": "stream",
          "name": "stdout",
          "text": [
            "0 4.2829843\n",
            "Test acc 0.95294565\n",
            "\n",
            "500 0.0076254727\n",
            "Test acc 0.99757713\n",
            "\n",
            "1000 0.00030976115\n",
            "Test acc 0.9994899\n",
            "\n",
            "1500 0.0028211833\n",
            "Test acc 1.0\n",
            "\n",
            "2000 0.00044359398\n",
            "Test acc 1.0\n",
            "\n",
            "2500 0.0004694813\n",
            "Test acc 0.9998725\n",
            "\n",
            "3000 5.8713167e-06\n",
            "Test acc 1.0\n",
            "\n",
            "3500 0.00020805353\n",
            "Test acc 1.0\n",
            "\n",
            "4000 0.004853432\n",
            "Test acc 0.9998725\n",
            "\n",
            "4500 0.00039940956\n",
            "Test acc 1.0\n",
            "\n",
            "5000 5.3731703e-05\n",
            "Test acc 1.0\n",
            "\n",
            "5500 9.329958e-06\n",
            "Test acc 1.0\n",
            "\n",
            "6000 2.1538655e-05\n",
            "Test acc 1.0\n",
            "\n",
            "6500 7.181728e-05\n",
            "Test acc 1.0\n",
            "\n",
            "7000 3.5019544e-05\n",
            "Test acc 1.0\n",
            "\n",
            "7500 0.0005653793\n",
            "Test acc 1.0\n",
            "\n",
            "8000 1.7771414e-05\n",
            "Test acc 1.0\n",
            "\n",
            "8500 0.0016843062\n",
            "Test acc 1.0\n",
            "\n",
            "9000 8.064202e-06\n",
            "Test acc 1.0\n",
            "\n",
            "9500 3.863115e-05\n",
            "Test acc 1.0\n",
            "\n",
            "10000 3.0103151e-06\n",
            "Test acc 1.0\n",
            "\n"
          ]
        }
      ]
    },
    {
      "cell_type": "code",
      "source": [
        "gradient_images, loss, predictions = run_model(image_batch, label_batch)\n",
        "print(\"Loss on inputs:\", loss.numpy())\n",
        "print(\"Prediction on 1st input:\", np.argmax(predictions[0].numpy()))\n",
        "print(\"Correct label:\", label_batch[0].numpy())\n",
        "\n",
        "# gradient sign method. you can fiddle with epsilon. the larger, the more dramatic the effect.\n",
        "# but if it's too large, it doesn't really qualify as an adversarial example anymore!\n",
        "# clip to between 0 and 1 since adding the gradient might take the images out of that range.\n",
        "adversarial_images = tf.clip_by_value(image_batch + 0.02*tf.math.sign(gradient_images), 0., 1.)"
      ],
      "metadata": {
        "colab": {
          "base_uri": "https://localhost:8080/"
        },
        "id": "k3t6MI6bGygc",
        "outputId": "ab4ef4b8-d162-4cf6-d45d-2028765a6b2a"
      },
      "execution_count": null,
      "outputs": [
        {
          "output_type": "stream",
          "name": "stdout",
          "text": [
            "Loss on inputs: 5.2728583e-06\n",
            "Prediction on 1st input: 0\n",
            "Correct label: 0\n"
          ]
        }
      ]
    },
    {
      "cell_type": "code",
      "source": [
        "#pertrubation\n",
        "plt.imshow(tf.math.sign(gradient_images[0]) * 0.5 + 0.5);"
      ],
      "metadata": {
        "colab": {
          "base_uri": "https://localhost:8080/",
          "height": 266
        },
        "id": "W31K1dU1AbSq",
        "outputId": "72528085-b5d7-4bec-dc80-c1cd89b8c910"
      },
      "execution_count": null,
      "outputs": [
        {
          "output_type": "display_data",
          "data": {
            "image/png": "[encoded data removed]",
            "text/plain": [
              "<Figure size 432x288 with 1 Axes>"
            ]
          },
          "metadata": {
            "needs_background": "light"
          }
        }
      ]
    },
    {
      "cell_type": "code",
      "source": [
        "plt.imshow(image_batch[0])"
      ],
      "metadata": {
        "colab": {
          "base_uri": "https://localhost:8080/",
          "height": 284
        },
        "id": "90A4QGVjJS1j",
        "outputId": "e1f459ec-42f4-4898-bdf3-0f36f56749ca"
      },
      "execution_count": null,
      "outputs": [
        {
          "output_type": "execute_result",
          "data": {
            "text/plain": [
              "<matplotlib.image.AxesImage at 0x7fc6d7d335d0>"
            ]
          },
          "metadata": {},
          "execution_count": 26
        },
        {
          "output_type": "display_data",
          "data": {
            "image/png": "[encoded data removed]",
            "text/plain": [
              "<Figure size 432x288 with 1 Axes>"
            ]
          },
          "metadata": {
            "needs_background": "light"
          }
        }
      ]
    },
    {
      "cell_type": "code",
      "source": [
        "#Adversarial image\n",
        "plt.imshow(adversarial_images[0])"
      ],
      "metadata": {
        "colab": {
          "base_uri": "https://localhost:8080/",
          "height": 284
        },
        "id": "m4p50_9CJWdV",
        "outputId": "aabd551f-1ae3-4cac-e059-297c9308c5fd"
      },
      "execution_count": null,
      "outputs": [
        {
          "output_type": "execute_result",
          "data": {
            "text/plain": [
              "<matplotlib.image.AxesImage at 0x7fc6d7c9a8d0>"
            ]
          },
          "metadata": {},
          "execution_count": 27
        },
        {
          "output_type": "display_data",
          "data": {
            "image/png": "[encoded data removed]",
            "text/plain": [
              "<Figure size 432x288 with 1 Axes>"
            ]
          },
          "metadata": {
            "needs_background": "light"
          }
        }
      ]
    },
    {
      "cell_type": "code",
      "source": [
        "adversarial_images = tf.data.Dataset.from_tensor_slices((adversarial_images, label_batch)).batch(256)\n",
        "adv_test_accuracy = get_adversarial_test_accuracy()\n",
        "print(\"Adversarial Test acc\", adv_test_accuracy)"
      ],
      "metadata": {
        "colab": {
          "base_uri": "https://localhost:8080/"
        },
        "id": "jPkfy6WDJY7J",
        "outputId": "141dc28b-b751-4939-f5c2-651ab314d705"
      },
      "execution_count": null,
      "outputs": [
        {
          "output_type": "stream",
          "name": "stdout",
          "text": [
            "Adversarial Test acc 0.95703125\n"
          ]
        }
      ]
    },
    {
      "cell_type": "markdown",
      "source": [
        "## Visualization of different epsilons"
      ],
      "metadata": {
        "id": "Y7HwhJhM4stl"
      }
    },
    {
      "cell_type": "code",
      "source": [
        "epsilons = [0, 0.01, 0.1, 0.15]\n",
        "descriptions = [('Epsilon = {:0.3f}'.format(eps) if eps else 'Input')\n",
        "                for eps in epsilons]\n",
        "\n",
        "for i, eps in enumerate(epsilons):\n",
        "  adv_x = adversarial_images = tf.clip_by_value(image_batch[0] + eps*tf.math.sign(gradient_images), 0., 1.)\n",
        "  display_images(adv_x, descriptions[i])\n"
      ],
      "metadata": {
        "colab": {
          "base_uri": "https://localhost:8080/",
          "height": 1000
        },
        "id": "iTukpHxCJPwA",
        "outputId": "c9b27dc5-c308-461f-b22e-d876bb63a124"
      },
      "execution_count": null,
      "outputs": [
        {
          "output_type": "display_data",
          "data": {
            "image/png": "[encoded data removed]",
            "text/plain": [
              "<Figure size 432x288 with 1 Axes>"
            ]
          },
          "metadata": {
            "needs_background": "light"
          }
        },
        {
          "output_type": "display_data",
          "data": {
            "image/png": "[encoded data removed]",
            "text/plain": [
              "<Figure size 432x288 with 1 Axes>"
            ]
          },
          "metadata": {
            "needs_background": "light"
          }
        },
        {
          "output_type": "display_data",
          "data": {
            "image/png": "[encoded data removed]",
            "text/plain": [
              "<Figure size 432x288 with 1 Axes>"
            ]
          },
          "metadata": {
            "needs_background": "light"
          }
        },
        {
          "output_type": "display_data",
          "data": {
            "image/png": "[encoded data removed]",
            "text/plain": [
              "<Figure size 432x288 with 1 Axes>"
            ]
          },
          "metadata": {
            "needs_background": "light"
          }
        }
      ]
    },
    {
      "cell_type": "markdown",
      "source": [
        "## Adversarial Training"
      ],
      "metadata": {
        "id": "u388p2ekL9zl"
      }
    },
    {
      "cell_type": "code",
      "source": [
        "for step, (image_batch, label_batch) in enumerate(train_data):\n",
        "    if step > train_steps:\n",
        "        break\n",
        "\n",
        "    train_step(image_batch, label_batch)\n",
        "    gradient_images, loss, predictions = run_model(image_batch, label_batch, training=True)\n",
        "    # Adversarial train step\n",
        "    adversarial_image_batch = tf.clip_by_value(image_batch + 0.02*tf.math.sign(gradient_images), 0., 1.)\n",
        "    current_loss = train_step(adversarial_image_batch, label_batch)\n",
        "\n",
        "    if not step % 500:\n",
        "        print(step, current_loss.numpy())\n",
        "        test_accuracy = get_test_accuracy()\n",
        "        print(\"Test acc\", test_accuracy)\n",
        "        print()"
      ],
      "metadata": {
        "colab": {
          "base_uri": "https://localhost:8080/"
        },
        "id": "C6IbxwxzMG2r",
        "outputId": "1f855de6-77a5-45e3-b427-eab3e1b6db6a"
      },
      "execution_count": null,
      "outputs": [
        {
          "output_type": "stream",
          "name": "stdout",
          "text": [
            "0 0.32369125\n",
            "Test acc 0.99336904\n",
            "\n",
            "500 0.028736059\n",
            "Test acc 0.99897987\n",
            "\n",
            "1000 0.0009838708\n",
            "Test acc 1.0\n",
            "\n",
            "1500 0.025844248\n",
            "Test acc 1.0\n",
            "\n",
            "2000 0.0004421931\n",
            "Test acc 1.0\n",
            "\n",
            "2500 0.000166051\n",
            "Test acc 1.0\n",
            "\n",
            "3000 2.4497538e-05\n",
            "Test acc 1.0\n",
            "\n",
            "3500 2.0028549e-05\n",
            "Test acc 1.0\n",
            "\n",
            "4000 0.0048938137\n",
            "Test acc 1.0\n",
            "\n",
            "4500 5.5167275e-05\n",
            "Test acc 1.0\n",
            "\n",
            "5000 5.1483014e-05\n",
            "Test acc 1.0\n",
            "\n",
            "5500 5.537554e-05\n",
            "Test acc 1.0\n",
            "\n",
            "6000 0.0014790249\n",
            "Test acc 1.0\n",
            "\n",
            "6500 3.7517486e-05\n",
            "Test acc 1.0\n",
            "\n",
            "7000 2.0122818e-05\n",
            "Test acc 1.0\n",
            "\n",
            "7500 0.0044829748\n",
            "Test acc 1.0\n",
            "\n",
            "8000 2.1677222e-05\n",
            "Test acc 1.0\n",
            "\n",
            "8500 0.000107144144\n",
            "Test acc 1.0\n",
            "\n",
            "9000 4.5437286e-05\n",
            "Test acc 1.0\n",
            "\n",
            "9500 0.00051881786\n",
            "Test acc 1.0\n",
            "\n",
            "10000 0.0002345704\n",
            "Test acc 1.0\n",
            "\n"
          ]
        }
      ]
    },
    {
      "cell_type": "code",
      "source": [
        "adv_test_accuracy = get_adversarial_test_accuracy()\n",
        "print(\"Adversarial Test acc\", adv_test_accuracy)"
      ],
      "metadata": {
        "colab": {
          "base_uri": "https://localhost:8080/"
        },
        "id": "wAIoUz-aP6mY",
        "outputId": "497f66a9-162f-47d4-b836-60e221851b46"
      },
      "execution_count": null,
      "outputs": [
        {
          "output_type": "stream",
          "name": "stdout",
          "text": [
            "Adversarial Test acc 1.0\n"
          ]
        }
      ]
    },
    {
      "cell_type": "markdown",
      "source": [
        "# CIFAR Dataset"
      ],
      "metadata": {
        "id": "_Ns0c63-jtme"
      }
    },
    {
      "cell_type": "markdown",
      "source": [
        "## Data loading"
      ],
      "metadata": {
        "id": "gSTMvXu6425O"
      }
    },
    {
      "cell_type": "code",
      "source": [
        "(train_imgs, train_lbls), (test_imgs, test_lbls) = tf.keras.datasets.cifar10.load_data()\n",
        "train_imgs = train_imgs.reshape((-1, 32, 32, 3)).astype(np.float32) / 255.\n",
        "test_imgs = test_imgs.reshape((-1, 32, 32, 3)).astype(np.float32) / 255.\n",
        "train_lbls = train_lbls.astype(np.int32)[:,0]\n",
        "test_lbls = test_lbls.astype(np.int32)[:,0]\n",
        "\n",
        "train_data = tf.data.Dataset.from_tensor_slices((train_imgs, train_lbls))\n",
        "train_data = train_data.shuffle(60000).batch(256).repeat()\n",
        "\n",
        "test_data = tf.data.Dataset.from_tensor_slices((test_imgs, test_lbls)).batch(256)"
      ],
      "metadata": {
        "id": "cUsFnCIJUIyi"
      },
      "execution_count": 61,
      "outputs": []
    },
    {
      "cell_type": "markdown",
      "source": [
        "## Model bulid"
      ],
      "metadata": {
        "id": "7QxaZKjE46FX"
      }
    },
    {
      "cell_type": "code",
      "source": [
        "#Creating the logits\n",
        "\n",
        "logits = tfkl.Dense(10, kernel_regularizer=tf.keras.regularizers.L2(regularization_factor))(flat)\n",
        "\n",
        "model = tf.keras.Model(inp, logits)\n",
        "\n",
        "\n",
        "train_steps = 10000\n",
        "\n",
        "# example learning rate schedule\n",
        "schedule = tf.keras.optimizers.schedules.ExponentialDecay(0.001, 1, 0.9997)\n",
        "optimizer = tf.optimizers.Adam(schedule)\n",
        "\n",
        "loss_fn = tf.losses.SparseCategoricalCrossentropy(from_logits=True)"
      ],
      "metadata": {
        "id": "Tof65EUJvcFR"
      },
      "execution_count": 62,
      "outputs": []
    },
    {
      "cell_type": "markdown",
      "source": [
        "## Training on ordinary data"
      ],
      "metadata": {
        "id": "zYmTBOxY41a4"
      }
    },
    {
      "cell_type": "code",
      "source": [
        "for step, (image_batch, label_batch) in enumerate(train_data):\n",
        "    if step > train_steps:\n",
        "        break\n",
        "\n",
        "    current_loss = train_step(image_batch, label_batch)\n",
        "\n",
        "    if not step % 500:\n",
        "        print(step, current_loss.numpy())\n",
        "        test_accuracy = get_test_accuracy()\n",
        "        print(\"Test acc\", test_accuracy)\n",
        "        print()"
      ],
      "metadata": {
        "colab": {
          "base_uri": "https://localhost:8080/"
        },
        "id": "5pEHwPrijsnt",
        "outputId": "b8b15928-abe5-4e06-cdab-a0a30f2ee77c"
      },
      "execution_count": 63,
      "outputs": [
        {
          "output_type": "stream",
          "name": "stdout",
          "text": [
            "0 3.3657806\n",
            "Test acc 0.1\n",
            "\n",
            "500 1.1800417\n",
            "Test acc 0.4715\n",
            "\n",
            "1000 1.1139816\n",
            "Test acc 0.6645\n",
            "\n",
            "1500 1.0309585\n",
            "Test acc 0.6809\n",
            "\n",
            "2000 0.7864869\n",
            "Test acc 0.6935\n",
            "\n",
            "2500 0.708607\n",
            "Test acc 0.7189\n",
            "\n",
            "3000 1.0132076\n",
            "Test acc 0.7222\n",
            "\n",
            "3500 0.8821963\n",
            "Test acc 0.7335\n",
            "\n",
            "4000 0.90981853\n",
            "Test acc 0.747\n",
            "\n",
            "4500 0.73899573\n",
            "Test acc 0.7466\n",
            "\n",
            "5000 0.68637824\n",
            "Test acc 0.7491\n",
            "\n",
            "5500 0.7328989\n",
            "Test acc 0.7575\n",
            "\n",
            "6000 0.7454828\n",
            "Test acc 0.7662\n",
            "\n",
            "6500 0.64220953\n",
            "Test acc 0.7618\n",
            "\n",
            "7000 0.72254884\n",
            "Test acc 0.7635\n",
            "\n",
            "7500 0.6868772\n",
            "Test acc 0.764\n",
            "\n",
            "8000 0.6477238\n",
            "Test acc 0.7681\n",
            "\n",
            "8500 0.63008934\n",
            "Test acc 0.7691\n",
            "\n",
            "9000 0.7040019\n",
            "Test acc 0.7706\n",
            "\n",
            "9500 0.75418544\n",
            "Test acc 0.7696\n",
            "\n",
            "10000 0.67908376\n",
            "Test acc 0.7713\n",
            "\n"
          ]
        }
      ]
    },
    {
      "cell_type": "code",
      "source": [
        "gradient_images, loss, predictions = run_model(image_batch, label_batch)\n",
        "print(\"Loss on inputs:\", loss.numpy())\n",
        "print(\"Prediction on 1st input:\", np.argmax(predictions[0].numpy()))\n",
        "print(\"Correct label:\", label_batch[0].numpy())\n",
        "\n",
        "# gradient sign method. you can fiddle with epsilon. the larger, the more dramatic the effect.\n",
        "# but if it's too large, it doesn't really qualify as an adversarial example anymore!\n",
        "# clip to between 0 and 1 since adding the gradient might take the images out of that range.\n",
        "adversarial_images = tf.clip_by_value(image_batch + 0.02*tf.math.sign(gradient_images), 0., 1.)"
      ],
      "metadata": {
        "colab": {
          "base_uri": "https://localhost:8080/"
        },
        "id": "rp7sKid5kNYa",
        "outputId": "e6f84d9d-2c75-467b-a6b8-236658afd9b4"
      },
      "execution_count": 64,
      "outputs": [
        {
          "output_type": "stream",
          "name": "stdout",
          "text": [
            "Loss on inputs: 0.61184216\n",
            "Prediction on 1st input: 1\n",
            "Correct label: 1\n"
          ]
        }
      ]
    },
    {
      "cell_type": "code",
      "source": [
        "plt.imshow(image_batch[0])"
      ],
      "metadata": {
        "colab": {
          "base_uri": "https://localhost:8080/",
          "height": 284
        },
        "id": "3RaB-Fjqkt0I",
        "outputId": "6e94cb0f-14fd-4397-deec-e0e692f0e8b4"
      },
      "execution_count": 65,
      "outputs": [
        {
          "output_type": "execute_result",
          "data": {
            "text/plain": [
              "<matplotlib.image.AxesImage at 0x7fa0c60477d0>"
            ]
          },
          "metadata": {},
          "execution_count": 65
        },
        {
          "output_type": "display_data",
          "data": {
            "image/png": "[encoded data removed]",
            "text/plain": [
              "<Figure size 432x288 with 1 Axes>"
            ]
          },
          "metadata": {
            "needs_background": "light"
          }
        }
      ]
    },
    {
      "cell_type": "code",
      "source": [
        "plt.imshow(adversarial_images[0])"
      ],
      "metadata": {
        "colab": {
          "base_uri": "https://localhost:8080/",
          "height": 284
        },
        "id": "PSLjpogrlhqw",
        "outputId": "fd459928-1202-4719-dea6-462d89ef330c"
      },
      "execution_count": 66,
      "outputs": [
        {
          "output_type": "execute_result",
          "data": {
            "text/plain": [
              "<matplotlib.image.AxesImage at 0x7fa0c5fac2d0>"
            ]
          },
          "metadata": {},
          "execution_count": 66
        },
        {
          "output_type": "display_data",
          "data": {
            "image/png": "[encoded data removed]",
            "text/plain": [
              "<Figure size 432x288 with 1 Axes>"
            ]
          },
          "metadata": {
            "needs_background": "light"
          }
        }
      ]
    },
    {
      "cell_type": "code",
      "source": [
        "adversarial_images = tf.data.Dataset.from_tensor_slices((adversarial_images, label_batch)).batch(256)\n",
        "adv_test_accuracy = get_adversarial_test_accuracy()\n",
        "print(\"Adversarial Test acc\", adv_test_accuracy)"
      ],
      "metadata": {
        "colab": {
          "base_uri": "https://localhost:8080/"
        },
        "id": "ZMUvaCpNlm6A",
        "outputId": "51f43437-d25b-419d-bd53-d85846a95927"
      },
      "execution_count": 67,
      "outputs": [
        {
          "output_type": "stream",
          "name": "stdout",
          "text": [
            "Adversarial Test acc 0.08203125\n"
          ]
        }
      ]
    },
    {
      "cell_type": "markdown",
      "source": [
        "## Visualizing different epsilons on CIFAR"
      ],
      "metadata": {
        "id": "Re7soWcQ4-aR"
      }
    },
    {
      "cell_type": "code",
      "source": [
        "epsilons = [0, 0.01, 0.1, 0.15]\n",
        "descriptions = [('{:0.3f}'.format(eps) if eps else 'Input')\n",
        "                for eps in epsilons]\n",
        "\n",
        "for i, eps in enumerate(epsilons):\n",
        "  adv_x = adversarial_images = tf.clip_by_value(image_batch[0] + eps*tf.math.sign(gradient_images), 0., 1.)\n",
        "  display_images(adv_x, descriptions[i])"
      ],
      "metadata": {
        "colab": {
          "base_uri": "https://localhost:8080/",
          "height": 1000
        },
        "id": "uvj-GWd1l4Ha",
        "outputId": "b99990b6-c56f-4136-90ff-e66e846d5d98"
      },
      "execution_count": 68,
      "outputs": [
        {
          "output_type": "display_data",
          "data": {
            "image/png": "[encoded data removed]",
            "text/plain": [
              "<Figure size 432x288 with 1 Axes>"
            ]
          },
          "metadata": {
            "needs_background": "light"
          }
        },
        {
          "output_type": "display_data",
          "data": {
            "image/png": "[encoded data removed]",
            "text/plain": [
              "<Figure size 432x288 with 1 Axes>"
            ]
          },
          "metadata": {
            "needs_background": "light"
          }
        },
        {
          "output_type": "display_data",
          "data": {
            "image/png": "[encoded data removed]",
            "text/plain": [
              "<Figure size 432x288 with 1 Axes>"
            ]
          },
          "metadata": {
            "needs_background": "light"
          }
        },
        {
          "output_type": "display_data",
          "data": {
            "image/png": "[encoded data removed]",
            "text/plain": [
              "<Figure size 432x288 with 1 Axes>"
            ]
          },
          "metadata": {
            "needs_background": "light"
          }
        }
      ]
    },
    {
      "cell_type": "markdown",
      "source": [
        "## Adversarial training"
      ],
      "metadata": {
        "id": "AF7VcqOnmJ1i"
      }
    },
    {
      "cell_type": "code",
      "source": [
        "for step, (image_batch, label_batch) in enumerate(train_data):\n",
        "    if step > train_steps:\n",
        "        break\n",
        "\n",
        "    train_step(image_batch, label_batch)\n",
        "    gradient_images, loss, predictions = run_model(image_batch, label_batch, training=True)\n",
        "    # Adversarial train step\n",
        "    adversarial_image_batch = tf.clip_by_value(image_batch + 0.02*tf.math.sign(gradient_images), 0., 1.)\n",
        "    current_loss = train_step(adversarial_image_batch, label_batch)\n",
        "\n",
        "    if not step % 500:\n",
        "        print(step, current_loss.numpy())\n",
        "        test_accuracy = get_test_accuracy()\n",
        "        print(\"Test acc\", test_accuracy)\n",
        "        print()"
      ],
      "metadata": {
        "colab": {
          "base_uri": "https://localhost:8080/"
        },
        "id": "35ZUeqsql-le",
        "outputId": "b9e8383a-8f55-401c-8bda-6cbab5b719bc"
      },
      "execution_count": 69,
      "outputs": [
        {
          "output_type": "stream",
          "name": "stdout",
          "text": [
            "0 1.59757\n",
            "Test acc 0.7718\n",
            "\n",
            "500 1.2515172\n",
            "Test acc 0.7663\n",
            "\n",
            "1000 1.2163179\n",
            "Test acc 0.7615\n",
            "\n",
            "1500 1.7982953\n",
            "Test acc 0.7661\n",
            "\n",
            "2000 1.0801996\n",
            "Test acc 0.7636\n",
            "\n",
            "2500 1.2255807\n",
            "Test acc 0.7642\n",
            "\n",
            "3000 1.2599432\n",
            "Test acc 0.7643\n",
            "\n",
            "3500 1.1604455\n",
            "Test acc 0.767\n",
            "\n",
            "4000 1.2853323\n",
            "Test acc 0.7656\n",
            "\n",
            "4500 1.1963016\n",
            "Test acc 0.7655\n",
            "\n",
            "5000 1.1628834\n",
            "Test acc 0.7659\n",
            "\n",
            "5500 1.129089\n",
            "Test acc 0.7652\n",
            "\n",
            "6000 1.4991958\n",
            "Test acc 0.766\n",
            "\n",
            "6500 1.0514357\n",
            "Test acc 0.7659\n",
            "\n",
            "7000 1.1323718\n",
            "Test acc 0.7657\n",
            "\n",
            "7500 1.0528361\n",
            "Test acc 0.7654\n",
            "\n",
            "8000 1.2030022\n",
            "Test acc 0.7654\n",
            "\n",
            "8500 1.13069\n",
            "Test acc 0.7662\n",
            "\n",
            "9000 1.203056\n",
            "Test acc 0.7656\n",
            "\n",
            "9500 1.4074457\n",
            "Test acc 0.7662\n",
            "\n",
            "10000 1.5906249\n",
            "Test acc 0.7657\n",
            "\n"
          ]
        }
      ]
    },
    {
      "cell_type": "code",
      "source": [
        "adversarial_images = tf.data.Dataset.from_tensor_slices((adversarial_images, label_batch)).batch(256)\n",
        "adv_test_accuracy = get_adversarial_test_accuracy()\n",
        "print(\"Adversarial Test acc\", adv_test_accuracy)"
      ],
      "metadata": {
        "colab": {
          "base_uri": "https://localhost:8080/"
        },
        "id": "1uASi84RmJF0",
        "outputId": "0eb0bb13-209f-4309-c65b-70d5eaf78be0"
      },
      "execution_count": 73,
      "outputs": [
        {
          "output_type": "stream",
          "name": "stdout",
          "text": [
            "Adversarial Test acc 0.11328125\n"
          ]
        }
      ]
    },
    {
      "cell_type": "markdown",
      "source": [
        "#Targeted attack on GTSRB"
      ],
      "metadata": {
        "id": "S05P1gzvrJ9l"
      }
    },
    {
      "cell_type": "code",
      "source": [
        "for step, (image_batch, label_batch) in enumerate(train_data):\n",
        "    if step > train_steps:\n",
        "        break\n",
        "\n",
        "    train_step(image_batch, label_batch)\n",
        "    gradient_images, loss, predictions = run_model(image_batch, label_batch, training=True)\n",
        "    adversarial_image_batch = tf.clip_by_value(image_batch + 0.06*tf.math.sign(gradient_images), 0., 1.)\n",
        "    # Trying to learn model to classify all the class as 9\n",
        "    fake_labels = label_batch.numpy()\n",
        "    fake_labels[:] = 9\n",
        "    fake_labels_batch = tf.convert_to_tensor(fake_labels, dtype=tf.float32)\n",
        "    current_loss = train_step(adversarial_image_batch, fake_labels_batch)\n",
        "\n",
        "    if not step % 500:\n",
        "        print(step, current_loss.numpy())\n",
        "        test_accuracy = get_test_accuracy()\n",
        "        print(\"Test acc\", test_accuracy)\n",
        "        print()"
      ],
      "metadata": {
        "colab": {
          "base_uri": "https://localhost:8080/"
        },
        "id": "a6EUcNLUpxfw",
        "outputId": "34b0405e-b7f3-4082-869e-a10ef7c8f2aa"
      },
      "execution_count": 51,
      "outputs": [
        {
          "output_type": "stream",
          "name": "stdout",
          "text": [
            "0 10.131803\n",
            "Test acc 0.9946442\n",
            "\n",
            "500 0.00028615355\n",
            "Test acc 0.989671\n",
            "\n",
            "1000 9.716552e-05\n",
            "Test acc 0.96148944\n",
            "\n",
            "1500 9.984224e-05\n",
            "Test acc 0.98597294\n",
            "\n",
            "2000 0.0001597551\n",
            "Test acc 0.99387914\n",
            "\n",
            "2500 2.6279024e-05\n",
            "Test acc 0.996557\n",
            "\n",
            "3000 2.247247e-06\n",
            "Test acc 0.98240244\n",
            "\n",
            "3500 1.17195505e-05\n",
            "Test acc 0.99553686\n",
            "\n",
            "4000 9.208365e-06\n",
            "Test acc 0.9964295\n",
            "\n",
            "4500 0.00010570021\n",
            "Test acc 0.98928845\n",
            "\n",
            "5000 1.3121639e-06\n",
            "Test acc 0.9832951\n",
            "\n",
            "5500 5.3493204e-06\n",
            "Test acc 0.99630195\n",
            "\n",
            "6000 5.6146264e-06\n",
            "Test acc 0.9841877\n",
            "\n",
            "6500 5.548367e-06\n",
            "Test acc 0.98801327\n",
            "\n",
            "7000 9.345659e-07\n",
            "Test acc 0.993114\n",
            "\n",
            "7500 1.9114784e-06\n",
            "Test acc 0.98814076\n",
            "\n",
            "8000 6.362186e-06\n",
            "Test acc 0.9923489\n",
            "\n",
            "8500 3.618172e-07\n",
            "Test acc 0.9912012\n",
            "\n",
            "9000 1.6934812e-06\n",
            "Test acc 0.9883958\n",
            "\n",
            "9500 1.3447698e-06\n",
            "Test acc 0.9936241\n",
            "\n",
            "10000 1.5074503e-05\n",
            "Test acc 0.9903086\n",
            "\n"
          ]
        }
      ]
    },
    {
      "cell_type": "markdown",
      "source": [
        "# References\n",
        "\n",
        "\n",
        "\n",
        "1.   https://ovgu-ailab.github.io/idl2021/ass10.html\n",
        "2.   https://medium.com/@ml.at.berkeley/tricking-neural-networks-create-your-own-adversarial-examples-a61eb7620fd8\n",
        "3.   https://www.tensorflow.org/tutorials/generative/adversarial_fgsm"
      ],
      "metadata": {
        "id": "dyBtpA5xpwFk"
      }
    }
  ]
}