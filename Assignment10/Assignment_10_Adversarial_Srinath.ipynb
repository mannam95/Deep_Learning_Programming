{
  "nbformat": 4,
  "nbformat_minor": 0,
  "metadata": {
    "colab": {
      "name": "Assignment_10_Adversarial_Srinath.ipynb",
      "provenance": [],
      "collapsed_sections": [
        "0c34550c"
      ],
      "machine_shape": "hm",
      "authorship_tag": "ABX9TyPoJOcWgVg/Oilu41sDMqMU",
      "include_colab_link": true
    },
    "kernelspec": {
      "name": "python3",
      "display_name": "Python 3"
    },
    "language_info": {
      "name": "python"
    },
    "accelerator": "GPU"
  },
  "cells": [
    {
      "cell_type": "markdown",
      "metadata": {
        "id": "view-in-github",
        "colab_type": "text"
      },
      "source": [
        "<a href=\"https://colab.research.google.com/github/mannam95/Deep_Learning_Programming/blob/main/Assignment10/Assignment_10_Adversarial_Srinath.ipynb\" target=\"_parent\"><img src=\"https://colab.research.google.com/assets/colab-badge.svg\" alt=\"Open In Colab\"/></a>"
      ]
    },
    {
      "cell_type": "markdown",
      "metadata": {
        "id": "c6aef94d"
      },
      "source": [
        "# Team Assignment\n",
        "\n",
        "\n",
        "1.   Srinath Mannam (229750)\n",
        "2.   Meghana Rao (234907)\n",
        "3.   Govind Shukla (235192)"
      ]
    },
    {
      "cell_type": "markdown",
      "metadata": {
        "id": "9b1ec548"
      },
      "source": [
        "# import statements"
      ]
    },
    {
      "cell_type": "code",
      "metadata": {
        "id": "85eb7211"
      },
      "source": [
        "import os\n",
        "\n",
        "import numpy as np\n",
        "import pandas as pd\n",
        "import tensorflow as tf\n",
        "from tensorflow.keras import layers\n",
        "from tensorflow.keras.datasets import fashion_mnist\n",
        "from tensorflow.keras.models import Model\n",
        "\n",
        "from sklearn.metrics import accuracy_score, precision_score, recall_score\n",
        "from sklearn.model_selection import train_test_split\n",
        "from tensorflow.keras import layers, losses\n",
        "\n",
        "from matplotlib import pyplot as plt"
      ],
      "execution_count": 1,
      "outputs": []
    },
    {
      "cell_type": "markdown",
      "metadata": {
        "id": "0c34550c"
      },
      "source": [
        "# Change the directory"
      ]
    },
    {
      "cell_type": "code",
      "metadata": {
        "id": "94b2626e"
      },
      "source": [
        "working_directory = '/content/drive/My Drive/Colab Notebooks/OVGU/Deep_Learning/10_Assignment'\n",
        "def colabDrive():\n",
        "    from google.colab import drive\n",
        "    drive.mount(\"/content/drive\")\n",
        "\n",
        "    if os.getcwd() !=  working_directory:\n",
        "      os.chdir(working_directory)\n",
        "    print(os.getcwd())"
      ],
      "execution_count": null,
      "outputs": []
    },
    {
      "cell_type": "code",
      "metadata": {
        "id": "a8540ed4",
        "colab": {
          "base_uri": "https://localhost:8080/"
        },
        "outputId": "928c5ffc-af2c-4e22-ea62-560d176d3ffa"
      },
      "source": [
        "colabDrive()"
      ],
      "execution_count": null,
      "outputs": [
        {
          "output_type": "stream",
          "name": "stdout",
          "text": [
            "Mounted at /content/drive\n",
            "/content/drive/My Drive/Colab Notebooks/OVGU/Deep_Learning/09_Assignment\n"
          ]
        }
      ]
    },
    {
      "cell_type": "markdown",
      "metadata": {
        "id": "t6mjm447GMHX"
      },
      "source": [
        "# Prepare the data"
      ]
    },
    {
      "cell_type": "markdown",
      "metadata": {
        "id": "GXEX2GU4BpzD"
      },
      "source": [
        "## Fasion MNIST"
      ]
    },
    {
      "cell_type": "code",
      "metadata": {
        "colab": {
          "base_uri": "https://localhost:8080/",
          "height": 442
        },
        "id": "zSVSdVXd_LI7",
        "outputId": "9f772847-f424-4249-ffc5-264c2b9963cc"
      },
      "source": [
        "fashion_mnist = tf.keras.datasets.fashion_mnist\n",
        "\n",
        "(train_fasion_images, train_fasion_labels), (test_fasion_images, test_fasion_labels) = fashion_mnist.load_data()\n",
        "\n",
        "class_names = ['T-shirt/top', 'Trouser', 'Pullover', 'Dress', 'Coat',\n",
        "               'Sandal', 'Shirt', 'Sneaker', 'Bag', 'Ankle boot']\n",
        "\n",
        "plt.figure(figsize=(10,10))\n",
        "for i in range(10):\n",
        "    plt.subplot(5,5,i+1)\n",
        "    plt.xticks([])\n",
        "    plt.yticks([])\n",
        "    plt.grid(False)\n",
        "    plt.imshow(train_fasion_images[i])\n",
        "    plt.xlabel(class_names[train_fasion_labels[i]])\n",
        "plt.show()\n",
        "\n",
        "\n",
        "train_fasion_data = tf.data.Dataset.from_tensor_slices(\n",
        "    (train_fasion_images.reshape([-1, 28, 28, 1]).astype(np.float32) / 255, train_fasion_labels.astype(np.int32)))\n",
        "train_fasion_data = train_fasion_data.shuffle(buffer_size=60000).batch(128, drop_remainder=True)\n",
        "\n",
        "# note: we batch the test data, but do not shuffle/repeat\n",
        "test_fasion_data = tf.data.Dataset.from_tensor_slices(\n",
        "    (test_fasion_images.reshape([-1, 28, 28, 1]).astype(np.float32) / 255, test_fasion_labels.astype(np.int32))).batch(100)"
      ],
      "execution_count": 2,
      "outputs": [
        {
          "output_type": "stream",
          "name": "stdout",
          "text": [
            "Downloading data from https://storage.googleapis.com/tensorflow/tf-keras-datasets/train-labels-idx1-ubyte.gz\n",
            "32768/29515 [=================================] - 0s 0us/step\n",
            "40960/29515 [=========================================] - 0s 0us/step\n",
            "Downloading data from https://storage.googleapis.com/tensorflow/tf-keras-datasets/train-images-idx3-ubyte.gz\n",
            "26427392/26421880 [==============================] - 0s 0us/step\n",
            "26435584/26421880 [==============================] - 0s 0us/step\n",
            "Downloading data from https://storage.googleapis.com/tensorflow/tf-keras-datasets/t10k-labels-idx1-ubyte.gz\n",
            "16384/5148 [===============================================================================================] - 0s 0us/step\n",
            "Downloading data from https://storage.googleapis.com/tensorflow/tf-keras-datasets/t10k-images-idx3-ubyte.gz\n",
            "4423680/4422102 [==============================] - 0s 0us/step\n",
            "4431872/4422102 [==============================] - 0s 0us/step\n"
          ]
        },
        {
          "output_type": "display_data",
          "data": {
            "image/png": "[encoded data removed]",
            "text/plain": [
              "<Figure size 720x720 with 10 Axes>"
            ]
          },
          "metadata": {}
        }
      ]
    },
    {
      "cell_type": "markdown",
      "source": [
        "# Observations\n",
        "\n",
        "\n",
        "- Implemented Adverserial training on Fashion-MNIST\n",
        "- Variation1: Creating Adversarial Examples (Only for testing)\n",
        "  - Trained a model on Fashion-MNIST dataset.\n",
        "  - For the test dataset created adverserial examples by wrapping in GradientTape and created adverserial examples.\n",
        "    - Adverserial_Bathc = current_Image_Batch + (0.003 \\* gradient)\n",
        "  - For the main test data the accuracy is 92%.\n",
        "  - For the adverserial test data the model performed very poor which is 40%.\n",
        "- Variation2: Train Model with Adverserial Data\n",
        "  - To solve the above problem occured in variation-1, now trained a model with adverserial examples.\n",
        "  - Created adverserial examples for the entire train dataset, so the data became double\n",
        "  - Now trained the entire model.\n",
        "  - Test accueacy achieved was 90%.\n",
        "  - Adverserial examples here performed better and the accuracy improved to 70%.\n",
        "- Further details related to the task can be found in the below task URL.\n",
        "\n"
      ],
      "metadata": {
        "id": "i8DpkJIpMV9x"
      }
    },
    {
      "cell_type": "markdown",
      "source": [
        "# Generic Model, Train Loop, Test Loop"
      ],
      "metadata": {
        "id": "isf9qjdG_Hhv"
      }
    },
    {
      "cell_type": "markdown",
      "source": [
        "## Model"
      ],
      "metadata": {
        "id": "cDk-OWWDBac6"
      }
    },
    {
      "cell_type": "code",
      "source": [
        "def _model(name=\"Fashion_MNIST1\"):\n",
        "  input_shape = (28, 28, 1)\n",
        "  num_classes = 10\n",
        "  model = tf.keras.Sequential(\n",
        "      [ tf.keras.Input(shape=input_shape),\n",
        "        tf.keras.layers.Conv2D(64, kernel_size=(3, 3), activation=\"relu\", padding=\"same\"),\n",
        "        tf.keras.layers.BatchNormalization(),\n",
        "        tf.keras.layers.Conv2D(64, kernel_size=(3, 3), activation=\"relu\"),\n",
        "        tf.keras.layers.BatchNormalization(),\n",
        "        tf.keras.layers.MaxPooling2D(pool_size=(2, 2)),\n",
        "        tf.keras.layers.Conv2D(128, kernel_size=(3, 3), activation=\"relu\", padding=\"same\"),\n",
        "        tf.keras.layers.BatchNormalization(),\n",
        "        tf.keras.layers.Conv2D(128, kernel_size=(3, 3), activation=\"relu\"),\n",
        "        tf.keras.layers.BatchNormalization(),\n",
        "        tf.keras.layers.MaxPooling2D(pool_size=(2, 2)),\n",
        "        tf.keras.layers.Conv2D(256, kernel_size=(3, 3), activation=\"relu\", padding=\"same\"),\n",
        "        tf.keras.layers.BatchNormalization(),\n",
        "        tf.keras.layers.Conv2D(256, kernel_size=(3, 3), activation=\"relu\"),\n",
        "        tf.keras.layers.BatchNormalization(),\n",
        "        tf.keras.layers.MaxPooling2D(pool_size=(2, 2)),\n",
        "        tf.keras.layers.Flatten(),\n",
        "        tf.keras.layers.Dropout(0.5),\n",
        "        tf.keras.layers.Dense(num_classes)\n",
        "      ],\n",
        "      name=name,\n",
        "  )\n",
        "  return model"
      ],
      "metadata": {
        "id": "RGErrnPYBbpN"
      },
      "execution_count": 3,
      "outputs": []
    },
    {
      "cell_type": "code",
      "source": [
        "model_summ = _model(\"Summary Model MNIST\")\n",
        "model_summ.summary()"
      ],
      "metadata": {
        "colab": {
          "base_uri": "https://localhost:8080/"
        },
        "id": "65C3eSaJHqZ0",
        "outputId": "d3edeea0-2823-4a1c-c3e0-3f473b58ac74"
      },
      "execution_count": 28,
      "outputs": [
        {
          "output_type": "stream",
          "name": "stdout",
          "text": [
            "Model: \"Summary Model MNIST\"\n",
            "_________________________________________________________________\n",
            " Layer (type)                Output Shape              Param #   \n",
            "=================================================================\n",
            " conv2d_30 (Conv2D)          (None, 28, 28, 64)        640       \n",
            "                                                                 \n",
            " batch_normalization_30 (Bat  (None, 28, 28, 64)       256       \n",
            " chNormalization)                                                \n",
            "                                                                 \n",
            " conv2d_31 (Conv2D)          (None, 26, 26, 64)        36928     \n",
            "                                                                 \n",
            " batch_normalization_31 (Bat  (None, 26, 26, 64)       256       \n",
            " chNormalization)                                                \n",
            "                                                                 \n",
            " max_pooling2d_15 (MaxPoolin  (None, 13, 13, 64)       0         \n",
            " g2D)                                                            \n",
            "                                                                 \n",
            " conv2d_32 (Conv2D)          (None, 13, 13, 128)       73856     \n",
            "                                                                 \n",
            " batch_normalization_32 (Bat  (None, 13, 13, 128)      512       \n",
            " chNormalization)                                                \n",
            "                                                                 \n",
            " conv2d_33 (Conv2D)          (None, 11, 11, 128)       147584    \n",
            "                                                                 \n",
            " batch_normalization_33 (Bat  (None, 11, 11, 128)      512       \n",
            " chNormalization)                                                \n",
            "                                                                 \n",
            " max_pooling2d_16 (MaxPoolin  (None, 5, 5, 128)        0         \n",
            " g2D)                                                            \n",
            "                                                                 \n",
            " conv2d_34 (Conv2D)          (None, 5, 5, 256)         295168    \n",
            "                                                                 \n",
            " batch_normalization_34 (Bat  (None, 5, 5, 256)        1024      \n",
            " chNormalization)                                                \n",
            "                                                                 \n",
            " conv2d_35 (Conv2D)          (None, 3, 3, 256)         590080    \n",
            "                                                                 \n",
            " batch_normalization_35 (Bat  (None, 3, 3, 256)        1024      \n",
            " chNormalization)                                                \n",
            "                                                                 \n",
            " max_pooling2d_17 (MaxPoolin  (None, 1, 1, 256)        0         \n",
            " g2D)                                                            \n",
            "                                                                 \n",
            " flatten_5 (Flatten)         (None, 256)               0         \n",
            "                                                                 \n",
            " dropout_5 (Dropout)         (None, 256)               0         \n",
            "                                                                 \n",
            " dense_5 (Dense)             (None, 10)                2570      \n",
            "                                                                 \n",
            "=================================================================\n",
            "Total params: 1,150,410\n",
            "Trainable params: 1,148,618\n",
            "Non-trainable params: 1,792\n",
            "_________________________________________________________________\n"
          ]
        }
      ]
    },
    {
      "cell_type": "markdown",
      "source": [
        "## Model Training"
      ],
      "metadata": {
        "id": "sSp6mcRQBVES"
      }
    },
    {
      "cell_type": "code",
      "source": [
        "def train_loop(model, tr_Data):\n",
        "  train_steps = 2500\n",
        "  EPOCHS = 5\n",
        "  optimizer = tf.optimizers.Adam(learning_rate=1e-3)\n",
        "  loss_fn = tf.losses.SparseCategoricalCrossentropy(from_logits=True)\n",
        "  train_acc_metric = tf.keras.metrics.SparseCategoricalAccuracy()\n",
        "  for epoch in range(EPOCHS):\n",
        "    print(\"Epoch : \", epoch+1)\n",
        "    for step, (image_batch, label_batch) in enumerate(tr_Data):\n",
        "\n",
        "        with tf.GradientTape() as tape:\n",
        "            logits = model(image_batch)\n",
        "            loss = loss_fn(label_batch, logits)\n",
        "\n",
        "        variables = model.trainable_variables\n",
        "        gradients = tape.gradient(loss, variables)\n",
        "          \n",
        "        optimizer.apply_gradients(zip(gradients, variables))\n",
        "        \n",
        "        train_acc_metric(label_batch, logits)\n",
        "        \n",
        "        if not step % 100:\n",
        "            print(\"Loss: {} Accuracy: {}\".format(loss, train_acc_metric.result()))\n",
        "            train_acc_metric.reset_states()\n",
        "\n",
        "  return model"
      ],
      "metadata": {
        "id": "7B-JMnC4BgBs"
      },
      "execution_count": 8,
      "outputs": []
    },
    {
      "cell_type": "markdown",
      "source": [
        "## Model Testing"
      ],
      "metadata": {
        "id": "wAFvrDuDBX4W"
      }
    },
    {
      "cell_type": "code",
      "source": [
        "def test_loop(model, test_dataset):\n",
        "  test_acc_metric = tf.keras.metrics.SparseCategoricalAccuracy()\n",
        "  preds = []\n",
        "  for image_batch, label_batch in test_dataset:\n",
        "      test_acc_metric(label_batch, model(image_batch))\n",
        "      preds.append(tf.argmax(model(image_batch),axis=1,output_type=tf.int32))\n",
        "  print(\"Test acc: {}\".format(test_acc_metric.result()))\n",
        "  return preds"
      ],
      "metadata": {
        "id": "VRQQUGVRBW6p"
      },
      "execution_count": 5,
      "outputs": []
    },
    {
      "cell_type": "markdown",
      "source": [
        "# Model 1"
      ],
      "metadata": {
        "id": "JVJKQAxx8I_8"
      }
    },
    {
      "cell_type": "markdown",
      "metadata": {
        "id": "GAWcBMDiEK8M"
      },
      "source": [
        "## Fashion MNIST performed with normal data and adversial data used in test\n",
        "\n",
        "\n",
        "\n",
        "1.   Normal test dataset accuracy is 92%\n",
        "2.   Adverserial test dataset accuracy is 40%\n",
        "\n"
      ]
    },
    {
      "cell_type": "code",
      "source": [
        "def model_fashion_MNIST1():\n",
        "\n",
        "  model = _model()\n",
        "  # model.summary()\n",
        "\n",
        "  #Training Progress Start\n",
        "  print(\"Training Start\")\n",
        "  model = train_loop(model, train_fasion_data)\n",
        "  print(\"Training End\")\n",
        "  #Training Progress End\n",
        "\n",
        "  #Testing\n",
        "  test_loop(model, test_fasion_data)\n",
        "  #Testing\n",
        "\n",
        "  return model"
      ],
      "metadata": {
        "id": "Lo_-BAYE-Uoc"
      },
      "execution_count": 9,
      "outputs": []
    },
    {
      "cell_type": "code",
      "metadata": {
        "colab": {
          "base_uri": "https://localhost:8080/"
        },
        "id": "42JgrpdYEK8N",
        "outputId": "9299009b-b11b-40ec-a34a-9b8993cc573a"
      },
      "source": [
        "trained_model = model_fashion_MNIST1();"
      ],
      "execution_count": 10,
      "outputs": [
        {
          "output_type": "stream",
          "name": "stdout",
          "text": [
            "Training Start\n",
            "Epoch :  1\n",
            "Loss: 2.301668405532837 Accuracy: 0.109375\n",
            "Loss: 0.4725816249847412 Accuracy: 0.6752343773841858\n",
            "Loss: 0.392953485250473 Accuracy: 0.8124218583106995\n",
            "Loss: 0.3564990758895874 Accuracy: 0.8456249833106995\n",
            "Loss: 0.3075762987136841 Accuracy: 0.8724218606948853\n",
            "Epoch :  2\n",
            "Loss: 0.2888432741165161 Accuracy: 0.8810891509056091\n",
            "Loss: 0.30322265625 Accuracy: 0.8864062428474426\n",
            "Loss: 0.4848577380180359 Accuracy: 0.8946874737739563\n",
            "Loss: 0.18503683805465698 Accuracy: 0.9008593559265137\n",
            "Loss: 0.20079082250595093 Accuracy: 0.9092187285423279\n",
            "Epoch :  3\n",
            "Loss: 0.22852176427841187 Accuracy: 0.9125689268112183\n",
            "Loss: 0.18188059329986572 Accuracy: 0.9201562404632568\n",
            "Loss: 0.22586505115032196 Accuracy: 0.9140625\n",
            "Loss: 0.26532506942749023 Accuracy: 0.9213281273841858\n",
            "Loss: 0.22534459829330444 Accuracy: 0.9195312261581421\n",
            "Epoch :  4\n",
            "Loss: 0.1571120321750641 Accuracy: 0.9231387972831726\n",
            "Loss: 0.19386839866638184 Accuracy: 0.9340624809265137\n",
            "Loss: 0.14197342097759247 Accuracy: 0.9298437237739563\n",
            "Loss: 0.11500533670186996 Accuracy: 0.9340624809265137\n",
            "Loss: 0.20374751091003418 Accuracy: 0.9337499737739563\n",
            "Epoch :  5\n",
            "Loss: 0.13044777512550354 Accuracy: 0.9287683963775635\n",
            "Loss: 0.27198126912117004 Accuracy: 0.9469531178474426\n",
            "Loss: 0.17786037921905518 Accuracy: 0.9428125023841858\n",
            "Loss: 0.15496280789375305 Accuracy: 0.9407812356948853\n",
            "Loss: 0.20117032527923584 Accuracy: 0.9443749785423279\n",
            "Training End\n",
            "Test acc: 0.9218999743461609\n"
          ]
        }
      ]
    },
    {
      "cell_type": "markdown",
      "source": [
        "## Create Adverserial Examples from test set"
      ],
      "metadata": {
        "id": "bWr3Y6dsn0eK"
      }
    },
    {
      "cell_type": "code",
      "source": [
        "adversial_Examples = []\n",
        "adversial_Labels = []\n",
        "original_test_data = []\n",
        "original_test_labels = []\n",
        "loss_fn_test = tf.losses.SparseCategoricalCrossentropy(from_logits=True)\n",
        "\n",
        "for step, (image_batch, label_batch) in enumerate(test_fasion_data):\n",
        "    with tf.GradientTape() as tape:\n",
        "        tape.watch(image_batch)\n",
        "        logits = trained_model(image_batch)\n",
        "        loss = loss_fn_test(label_batch, logits)\n",
        "    \n",
        "    gradients = tape.gradient(loss, image_batch)\n",
        "\n",
        "    adversial_Examples.append(tf.clip_by_value((image_batch + (0.03*(tf.math.sign(gradients)))), clip_value_min=0, clip_value_max=1))\n",
        "    adversial_Labels.append(label_batch)\n",
        "\n",
        "    original_test_data.append(image_batch)\n",
        "    original_test_data.append(label_batch)"
      ],
      "metadata": {
        "id": "ArzoxIQgffby"
      },
      "execution_count": 12,
      "outputs": []
    },
    {
      "cell_type": "code",
      "source": [
        "adv_Data = tf.data.Dataset.from_tensor_slices((adversial_Examples,adversial_Labels))"
      ],
      "metadata": {
        "id": "sOsg75moeYRq"
      },
      "execution_count": 13,
      "outputs": []
    },
    {
      "cell_type": "markdown",
      "source": [
        "## Get Test Accuracy"
      ],
      "metadata": {
        "id": "rJg4-YNBq7Jw"
      }
    },
    {
      "cell_type": "code",
      "source": [
        "print(\"Normal Test\")\n",
        "original_preds = test_loop(trained_model, test_fasion_data)"
      ],
      "metadata": {
        "colab": {
          "base_uri": "https://localhost:8080/"
        },
        "id": "y7N2JpBMnbro",
        "outputId": "69aac364-adb0-44f6-9466-96be6fa54dc1"
      },
      "execution_count": 15,
      "outputs": [
        {
          "output_type": "stream",
          "name": "stdout",
          "text": [
            "Normal Test\n",
            "Test acc: 0.9218999743461609\n"
          ]
        }
      ]
    },
    {
      "cell_type": "code",
      "source": [
        "print(\"Adverserial Test\")\n",
        "adv_Preds = test_loop(trained_model, adv_Data)"
      ],
      "metadata": {
        "colab": {
          "base_uri": "https://localhost:8080/"
        },
        "id": "quLUM-wmqj0K",
        "outputId": "a7eb16d2-ddb5-4d25-cbb6-30e432942363"
      },
      "execution_count": 16,
      "outputs": [
        {
          "output_type": "stream",
          "name": "stdout",
          "text": [
            "Adverserial Test\n",
            "Test acc: 0.4277999997138977\n"
          ]
        }
      ]
    },
    {
      "cell_type": "markdown",
      "source": [
        "## Compare the results"
      ],
      "metadata": {
        "id": "nWp4hMXn0jgh"
      }
    },
    {
      "cell_type": "code",
      "source": [
        "plt.figure(figsize=(10,10))\n",
        "for i in range(5):\n",
        "    plt.subplot(2,5,i+1)\n",
        "    plt.xticks([])\n",
        "    plt.yticks([])\n",
        "    plt.grid(False)\n",
        "    plt.imshow(tf.reshape(original_test_data[0][i], [28,28]))\n",
        "    plt.xlabel(class_names[original_preds[0][i].numpy()])\n",
        "    plt.subplot(2,5,i+5+1)\n",
        "    plt.xticks([])\n",
        "    plt.yticks([])\n",
        "    plt.grid(False)\n",
        "    plt.imshow(tf.reshape(adversial_Examples[0][i], [28,28]))\n",
        "    plt.xlabel(class_names[adv_Preds[0][i].numpy()])\n",
        "plt.show()"
      ],
      "metadata": {
        "colab": {
          "base_uri": "https://localhost:8080/",
          "height": 438
        },
        "id": "GGlaKHm50lnP",
        "outputId": "889a045b-5391-4505-ef73-cfd7c5d6ff91"
      },
      "execution_count": 17,
      "outputs": [
        {
          "output_type": "display_data",
          "data": {
            "image/png": "[encoded data removed]",
            "text/plain": [
              "<Figure size 720x720 with 10 Axes>"
            ]
          },
          "metadata": {}
        }
      ]
    },
    {
      "cell_type": "markdown",
      "source": [
        "# Model 2 ( With Adverserial Data)"
      ],
      "metadata": {
        "id": "FuHbsfkq8OXG"
      }
    },
    {
      "cell_type": "markdown",
      "metadata": {
        "id": "nPML-MSj8UT8"
      },
      "source": [
        "## Create Adverserial Data\n",
        "\n",
        "\n"
      ]
    },
    {
      "cell_type": "code",
      "metadata": {
        "id": "Zge38j5L8UUA"
      },
      "source": [
        "adv_train_Data = []\n",
        "adv_train_Labels = []\n",
        "model = _model()\n",
        "loss_fn = tf.losses.SparseCategoricalCrossentropy(from_logits=True)\n",
        "for step, (image_batch, label_batch) in enumerate(train_fasion_data):\n",
        "\n",
        "    with tf.GradientTape() as tape:\n",
        "        tape.watch(image_batch)\n",
        "        logits = model(image_batch)\n",
        "        loss = loss_fn(label_batch, logits)\n",
        "\n",
        "    gradients = tape.gradient(loss, image_batch)\n",
        "\n",
        "    adv_train_Data.append(image_batch)\n",
        "    adv_train_Labels.append(label_batch)\n",
        "      \n",
        "    adv_train_Data.append(tf.clip_by_value((image_batch + (0.03*(tf.math.sign(gradients)))), clip_value_min=0, clip_value_max=1))\n",
        "    adv_train_Labels.append(label_batch)"
      ],
      "execution_count": 21,
      "outputs": []
    },
    {
      "cell_type": "code",
      "source": [
        "adv_All_Data = tf.data.Dataset.from_tensor_slices((adv_train_Data,adv_train_Labels))"
      ],
      "metadata": {
        "id": "JjE2hAVs_ULE"
      },
      "execution_count": 22,
      "outputs": []
    },
    {
      "cell_type": "markdown",
      "metadata": {
        "id": "Tnc4N-2cDgjY"
      },
      "source": [
        "## Fashion MNIST performed with normal + adverserial data during training\n",
        "\n",
        "\n",
        "\n",
        "1.   Normal test dataset accuracy is 90%\n",
        "2.   Adverserial test dataset accuracy is increased to 71%\n",
        "\n"
      ]
    },
    {
      "cell_type": "code",
      "source": [
        "def model_fashion_MNIST2():\n",
        "\n",
        "  model = _model(name=\"Fashion_MNIST2\")\n",
        "  # model.summary()\n",
        "\n",
        "  #Training Progress Start\n",
        "  print(\"Training Start\")\n",
        "  model = train_loop(model, adv_All_Data)\n",
        "  print(\"Training End\")\n",
        "  #Training Progress End\n",
        "\n",
        "  #Testing\n",
        "  test_loop(model, test_fasion_data)\n",
        "  #Testing\n",
        "\n",
        "  return model"
      ],
      "metadata": {
        "id": "mK7ZTMeWDgjg"
      },
      "execution_count": 23,
      "outputs": []
    },
    {
      "cell_type": "code",
      "metadata": {
        "colab": {
          "base_uri": "https://localhost:8080/"
        },
        "outputId": "d38e344d-d107-4d0d-d09c-7b6c496a59cd",
        "id": "p7EJOCwfDgjh"
      },
      "source": [
        "trained_model_adv = model_fashion_MNIST2();"
      ],
      "execution_count": 24,
      "outputs": [
        {
          "output_type": "stream",
          "name": "stdout",
          "text": [
            "Training Start\n",
            "Epoch :  1\n",
            "Loss: 2.3032283782958984 Accuracy: 0.078125\n",
            "Loss: 0.6146872639656067 Accuracy: 0.671093761920929\n",
            "Loss: 0.50901859998703 Accuracy: 0.8041406273841858\n",
            "Loss: 0.45448529720306396 Accuracy: 0.8479687571525574\n",
            "Loss: 0.4593569338321686 Accuracy: 0.8517187237739563\n",
            "Loss: 0.5204578638076782 Accuracy: 0.8774218559265137\n",
            "Loss: 0.4893288314342499 Accuracy: 0.8776562213897705\n",
            "Loss: 0.34401142597198486 Accuracy: 0.8799218535423279\n",
            "Loss: 0.4629206657409668 Accuracy: 0.8863281011581421\n",
            "Loss: 0.2947307229042053 Accuracy: 0.9045312404632568\n",
            "Epoch :  2\n",
            "Loss: 0.2556665241718292 Accuracy: 0.888671875\n",
            "Loss: 0.2315060794353485 Accuracy: 0.896484375\n",
            "Loss: 0.3717065453529358 Accuracy: 0.8953906297683716\n",
            "Loss: 0.23169957101345062 Accuracy: 0.9078124761581421\n",
            "Loss: 0.27045202255249023 Accuracy: 0.9047656059265137\n",
            "Loss: 0.4424062967300415 Accuracy: 0.9146093726158142\n",
            "Loss: 0.31416282057762146 Accuracy: 0.909375011920929\n",
            "Loss: 0.28174495697021484 Accuracy: 0.9097656011581421\n",
            "Loss: 0.3174890875816345 Accuracy: 0.9153906106948853\n",
            "Loss: 0.2671433687210083 Accuracy: 0.9239062666893005\n",
            "Epoch :  3\n",
            "Loss: 0.22116681933403015 Accuracy: 0.9186198115348816\n",
            "Loss: 0.16443540155887604 Accuracy: 0.9209374785423279\n",
            "Loss: 0.27353522181510925 Accuracy: 0.9172656536102295\n",
            "Loss: 0.22340287268161774 Accuracy: 0.9326562285423279\n",
            "Loss: 0.2521144449710846 Accuracy: 0.9240624904632568\n",
            "Loss: 0.3501548767089844 Accuracy: 0.9352343678474426\n",
            "Loss: 0.25080135464668274 Accuracy: 0.930859386920929\n",
            "Loss: 0.18668070435523987 Accuracy: 0.9274218678474426\n",
            "Loss: 0.26949188113212585 Accuracy: 0.9344531297683716\n",
            "Loss: 0.17800702154636383 Accuracy: 0.9414843916893005\n",
            "Epoch :  4\n",
            "Loss: 0.17893779277801514 Accuracy: 0.9353298544883728\n",
            "Loss: 0.18373626470565796 Accuracy: 0.9378125071525574\n",
            "Loss: 0.2438116818666458 Accuracy: 0.9338281154632568\n",
            "Loss: 0.19897763431072235 Accuracy: 0.9493749737739563\n",
            "Loss: 0.2198779582977295 Accuracy: 0.9439843893051147\n",
            "Loss: 0.31678012013435364 Accuracy: 0.9560937285423279\n",
            "Loss: 0.1989743858575821 Accuracy: 0.947265625\n",
            "Loss: 0.11973930895328522 Accuracy: 0.9468749761581421\n",
            "Loss: 0.19086144864559174 Accuracy: 0.9529687762260437\n",
            "Loss: 0.14874233305454254 Accuracy: 0.9524999856948853\n",
            "Epoch :  5\n",
            "Loss: 0.13816334307193756 Accuracy: 0.9509548544883728\n",
            "Loss: 0.11653480678796768 Accuracy: 0.9536718726158142\n",
            "Loss: 0.15865211188793182 Accuracy: 0.9446094036102295\n",
            "Loss: 0.10891372710466385 Accuracy: 0.9593750238418579\n",
            "Loss: 0.14309753477573395 Accuracy: 0.9565625190734863\n",
            "Loss: 0.27241986989974976 Accuracy: 0.9602344036102295\n",
            "Loss: 0.10588803142309189 Accuracy: 0.9561718702316284\n",
            "Loss: 0.08447694778442383 Accuracy: 0.9567187428474426\n",
            "Loss: 0.15149489045143127 Accuracy: 0.9632031321525574\n",
            "Loss: 0.05140538513660431 Accuracy: 0.9624999761581421\n",
            "Training End\n",
            "Test acc: 0.9074000120162964\n"
          ]
        }
      ]
    },
    {
      "cell_type": "markdown",
      "source": [
        "## Get Test Accuracy"
      ],
      "metadata": {
        "id": "VskT6OMhEAY2"
      }
    },
    {
      "cell_type": "code",
      "source": [
        "print(\"Normal Test\")\n",
        "original_adv_preds = test_loop(trained_model_adv, test_fasion_data)"
      ],
      "metadata": {
        "colab": {
          "base_uri": "https://localhost:8080/"
        },
        "outputId": "3ede8880-dae1-46cc-e5e7-097c2c424467",
        "id": "qK308vQyEAY5"
      },
      "execution_count": 25,
      "outputs": [
        {
          "output_type": "stream",
          "name": "stdout",
          "text": [
            "Normal Test\n",
            "Test acc: 0.9074000120162964\n"
          ]
        }
      ]
    },
    {
      "cell_type": "code",
      "source": [
        "print(\"Adverserial Test\")\n",
        "adv_adv_Preds = test_loop(trained_model_adv, adv_Data)"
      ],
      "metadata": {
        "colab": {
          "base_uri": "https://localhost:8080/"
        },
        "outputId": "b27081f9-ef70-457b-a098-87b76fdf1cb8",
        "id": "-czeOI9lEAY6"
      },
      "execution_count": 26,
      "outputs": [
        {
          "output_type": "stream",
          "name": "stdout",
          "text": [
            "Adverserial Test\n",
            "Test acc: 0.7196999788284302\n"
          ]
        }
      ]
    },
    {
      "cell_type": "markdown",
      "source": [
        "## Compare the results"
      ],
      "metadata": {
        "id": "NKoSbDMjEAY6"
      }
    },
    {
      "cell_type": "code",
      "source": [
        "plt.figure(figsize=(10,10))\n",
        "for i in range(5):\n",
        "    plt.subplot(2,5,i+1)\n",
        "    plt.xticks([])\n",
        "    plt.yticks([])\n",
        "    plt.grid(False)\n",
        "    plt.imshow(tf.reshape(original_test_data[0][i], [28,28]))\n",
        "    plt.xlabel(class_names[original_adv_preds[0][i].numpy()])\n",
        "    plt.subplot(2,5,i+5+1)\n",
        "    plt.xticks([])\n",
        "    plt.yticks([])\n",
        "    plt.grid(False)\n",
        "    plt.imshow(tf.reshape(adversial_Examples[0][i], [28,28]))\n",
        "    plt.xlabel(class_names[adv_adv_Preds[0][i].numpy()])\n",
        "plt.show()"
      ],
      "metadata": {
        "colab": {
          "base_uri": "https://localhost:8080/",
          "height": 438
        },
        "outputId": "8353ced6-59b7-47e9-9169-31bffac700f6",
        "id": "q5lTh20mEAY7"
      },
      "execution_count": 27,
      "outputs": [
        {
          "output_type": "display_data",
          "data": {
            "image/png": "[encoded data removed]",
            "text/plain": [
              "<Figure size 720x720 with 10 Axes>"
            ]
          },
          "metadata": {}
        }
      ]
    }
  ]
}